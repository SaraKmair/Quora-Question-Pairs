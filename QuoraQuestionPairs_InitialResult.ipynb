{
  "nbformat": 4,
  "nbformat_minor": 0,
  "metadata": {
    "colab": {
      "name": "QuoraQuestionPairs_InitialResult.ipynb",
      "provenance": [],
      "collapsed_sections": [],
      "authorship_tag": "ABX9TyPL5Ut6IbQ8As7XvwXSFpYv",
      "include_colab_link": true
    },
    "kernelspec": {
      "name": "python3",
      "display_name": "Python 3"
    }
  },
  "cells": [
    {
      "cell_type": "markdown",
      "metadata": {
        "id": "view-in-github",
        "colab_type": "text"
      },
      "source": [
        "<a href=\"https://colab.research.google.com/github/SaraKmair/Quora-Question-Pairs/blob/master/QuoraQuestionPairs_InitialResult.ipynb\" target=\"_parent\"><img src=\"https://colab.research.google.com/assets/colab-badge.svg\" alt=\"Open In Colab\"/></a>"
      ]
    },
    {
      "cell_type": "markdown",
      "metadata": {
        "id": "hhNm6d9XJE_T",
        "colab_type": "text"
      },
      "source": [
        "## Upload csv file from Google Drive"
      ]
    },
    {
      "cell_type": "code",
      "metadata": {
        "id": "AUhoQbK_Mryt",
        "colab_type": "code",
        "colab": {}
      },
      "source": [
        "# read csv file from google drive into Colaboratory:\n",
        "!pip install -U -q PyDrive\n",
        "from pydrive.auth import GoogleAuth\n",
        "from pydrive.drive import GoogleDrive\n",
        "from google.colab import auth\n",
        "from oauth2client.client import GoogleCredentials\n",
        "# Authenticate and create the PyDrive client.\n",
        "auth.authenticate_user()\n",
        "gauth = GoogleAuth()\n",
        "gauth.credentials = GoogleCredentials.get_application_default()\n",
        "drive = GoogleDrive(gauth)\n",
        "import pandas as pd"
      ],
      "execution_count": 0,
      "outputs": []
    },
    {
      "cell_type": "code",
      "metadata": {
        "id": "XnnI73PJHmnG",
        "colab_type": "code",
        "colab": {}
      },
      "source": [
        "link = 'https://drive.google.com/open?id=1yuw8KRR_y8e6wY3py9Y2gM7LmJ6m0X2z' # The shareable link"
      ],
      "execution_count": 0,
      "outputs": []
    },
    {
      "cell_type": "code",
      "metadata": {
        "id": "HtqLh2OrICn0",
        "colab_type": "code",
        "outputId": "39319290-418d-455a-e8bb-54fb98b0bc39",
        "colab": {
          "base_uri": "https://localhost:8080/",
          "height": 34
        }
      },
      "source": [
        "fluff, id = link.split('=')\n",
        "print (id) # Verify that you have everything after '='"
      ],
      "execution_count": 36,
      "outputs": [
        {
          "output_type": "stream",
          "text": [
            "1yuw8KRR_y8e6wY3py9Y2gM7LmJ6m0X2z\n"
          ],
          "name": "stdout"
        }
      ]
    },
    {
      "cell_type": "code",
      "metadata": {
        "id": "5C0EWiE841sa",
        "colab_type": "code",
        "colab": {}
      },
      "source": [
        ""
      ],
      "execution_count": 0,
      "outputs": []
    },
    {
      "cell_type": "code",
      "metadata": {
        "id": "9wSm_eSBIxFb",
        "colab_type": "code",
        "colab": {}
      },
      "source": [
        "downloaded = drive.CreateFile({'id':id}) \n",
        "downloaded.GetContentFile('quora_duplicate_questions.tsv')  \n",
        "df = pd.read_csv('quora_duplicate_questions.tsv', sep=\"\\t\")\n",
        "# Dataset is now stored in a Pandas Dataframe"
      ],
      "execution_count": 0,
      "outputs": []
    },
    {
      "cell_type": "markdown",
      "metadata": {
        "id": "3iJv5R1JfCo2",
        "colab_type": "text"
      },
      "source": [
        "## EDA"
      ]
    },
    {
      "cell_type": "code",
      "metadata": {
        "id": "UdQPJvZsPvmH",
        "colab_type": "code",
        "outputId": "d1f7512d-cb31-4322-8b70-1fad2164e236",
        "colab": {
          "base_uri": "https://localhost:8080/",
          "height": 204
        }
      },
      "source": [
        "df.head()"
      ],
      "execution_count": 38,
      "outputs": [
        {
          "output_type": "execute_result",
          "data": {
            "text/html": [
              "<div>\n",
              "<style scoped>\n",
              "    .dataframe tbody tr th:only-of-type {\n",
              "        vertical-align: middle;\n",
              "    }\n",
              "\n",
              "    .dataframe tbody tr th {\n",
              "        vertical-align: top;\n",
              "    }\n",
              "\n",
              "    .dataframe thead th {\n",
              "        text-align: right;\n",
              "    }\n",
              "</style>\n",
              "<table border=\"1\" class=\"dataframe\">\n",
              "  <thead>\n",
              "    <tr style=\"text-align: right;\">\n",
              "      <th></th>\n",
              "      <th>id</th>\n",
              "      <th>qid1</th>\n",
              "      <th>qid2</th>\n",
              "      <th>question1</th>\n",
              "      <th>question2</th>\n",
              "      <th>is_duplicate</th>\n",
              "    </tr>\n",
              "  </thead>\n",
              "  <tbody>\n",
              "    <tr>\n",
              "      <th>0</th>\n",
              "      <td>0</td>\n",
              "      <td>1</td>\n",
              "      <td>2</td>\n",
              "      <td>What is the step by step guide to invest in sh...</td>\n",
              "      <td>What is the step by step guide to invest in sh...</td>\n",
              "      <td>0</td>\n",
              "    </tr>\n",
              "    <tr>\n",
              "      <th>1</th>\n",
              "      <td>1</td>\n",
              "      <td>3</td>\n",
              "      <td>4</td>\n",
              "      <td>What is the story of Kohinoor (Koh-i-Noor) Dia...</td>\n",
              "      <td>What would happen if the Indian government sto...</td>\n",
              "      <td>0</td>\n",
              "    </tr>\n",
              "    <tr>\n",
              "      <th>2</th>\n",
              "      <td>2</td>\n",
              "      <td>5</td>\n",
              "      <td>6</td>\n",
              "      <td>How can I increase the speed of my internet co...</td>\n",
              "      <td>How can Internet speed be increased by hacking...</td>\n",
              "      <td>0</td>\n",
              "    </tr>\n",
              "    <tr>\n",
              "      <th>3</th>\n",
              "      <td>3</td>\n",
              "      <td>7</td>\n",
              "      <td>8</td>\n",
              "      <td>Why am I mentally very lonely? How can I solve...</td>\n",
              "      <td>Find the remainder when [math]23^{24}[/math] i...</td>\n",
              "      <td>0</td>\n",
              "    </tr>\n",
              "    <tr>\n",
              "      <th>4</th>\n",
              "      <td>4</td>\n",
              "      <td>9</td>\n",
              "      <td>10</td>\n",
              "      <td>Which one dissolve in water quikly sugar, salt...</td>\n",
              "      <td>Which fish would survive in salt water?</td>\n",
              "      <td>0</td>\n",
              "    </tr>\n",
              "  </tbody>\n",
              "</table>\n",
              "</div>"
            ],
            "text/plain": [
              "   id  qid1  ...                                          question2 is_duplicate\n",
              "0   0     1  ...  What is the step by step guide to invest in sh...            0\n",
              "1   1     3  ...  What would happen if the Indian government sto...            0\n",
              "2   2     5  ...  How can Internet speed be increased by hacking...            0\n",
              "3   3     7  ...  Find the remainder when [math]23^{24}[/math] i...            0\n",
              "4   4     9  ...            Which fish would survive in salt water?            0\n",
              "\n",
              "[5 rows x 6 columns]"
            ]
          },
          "metadata": {
            "tags": []
          },
          "execution_count": 38
        }
      ]
    },
    {
      "cell_type": "code",
      "metadata": {
        "id": "GNDT9JkdPxgk",
        "colab_type": "code",
        "colab": {}
      },
      "source": [
        "#importing the libraries \n",
        "import pandas as pd #for data handeling \n",
        "import numpy as np \n",
        "import re #for regular expression \n",
        "import string \n",
        "import seaborn as sns\n",
        "import nltk #natural language tool kit \n",
        "from sklearn.feature_extraction.text import TfidfVectorizer\n",
        "import matplotlib.pyplot as plt\n",
        "from scipy.sparse import hstack\n",
        "from nltk import sent_tokenize, word_tokenize\n",
        "from nltk import corpus\n",
        "from nltk.stem import PorterStemmer\n",
        "import difflib\n",
        "from sklearn.model_selection import train_test_split\n",
        "from sklearn.feature_extraction.text import TfidfVectorizer"
      ],
      "execution_count": 0,
      "outputs": []
    },
    {
      "cell_type": "code",
      "metadata": {
        "id": "jwQEpsNTQ4Lv",
        "colab_type": "code",
        "outputId": "bb6b7228-6f5b-4441-86fa-6ae4e002142f",
        "colab": {
          "base_uri": "https://localhost:8080/",
          "height": 34
        }
      },
      "source": [
        "df.shape"
      ],
      "execution_count": 40,
      "outputs": [
        {
          "output_type": "execute_result",
          "data": {
            "text/plain": [
              "(404290, 6)"
            ]
          },
          "metadata": {
            "tags": []
          },
          "execution_count": 40
        }
      ]
    },
    {
      "cell_type": "code",
      "metadata": {
        "id": "CYLihY5NQ9RR",
        "colab_type": "code",
        "outputId": "a82f9dfd-b9a3-4641-ff4a-cfaed6e074df",
        "colab": {
          "base_uri": "https://localhost:8080/",
          "height": 136
        }
      },
      "source": [
        "df.dtypes"
      ],
      "execution_count": 41,
      "outputs": [
        {
          "output_type": "execute_result",
          "data": {
            "text/plain": [
              "id               int64\n",
              "qid1             int64\n",
              "qid2             int64\n",
              "question1       object\n",
              "question2       object\n",
              "is_duplicate     int64\n",
              "dtype: object"
            ]
          },
          "metadata": {
            "tags": []
          },
          "execution_count": 41
        }
      ]
    },
    {
      "cell_type": "code",
      "metadata": {
        "id": "dgQR4_wTUhM5",
        "colab_type": "code",
        "outputId": "de50de81-36e7-4012-fb30-2b95d646b86a",
        "colab": {
          "base_uri": "https://localhost:8080/",
          "height": 136
        }
      },
      "source": [
        "#checking for Null values \n",
        "df.isnull().sum()"
      ],
      "execution_count": 42,
      "outputs": [
        {
          "output_type": "execute_result",
          "data": {
            "text/plain": [
              "id              0\n",
              "qid1            0\n",
              "qid2            0\n",
              "question1       1\n",
              "question2       2\n",
              "is_duplicate    0\n",
              "dtype: int64"
            ]
          },
          "metadata": {
            "tags": []
          },
          "execution_count": 42
        }
      ]
    },
    {
      "cell_type": "code",
      "metadata": {
        "id": "Rj7d329oQ_ZC",
        "colab_type": "code",
        "colab": {}
      },
      "source": [
        "#remove the missing values \n",
        "df = df.dropna().reset_index(drop = True)\n",
        "df.isnull().sum()\n",
        "#renaming is_duplicate column\n",
        "df.rename(columns = {'is_duplicate': 'label'}, inplace = True)"
      ],
      "execution_count": 0,
      "outputs": []
    },
    {
      "cell_type": "code",
      "metadata": {
        "id": "HaYPC8RDRILF",
        "colab_type": "code",
        "colab": {}
      },
      "source": [
        "\n",
        "\n"
      ],
      "execution_count": 0,
      "outputs": []
    },
    {
      "cell_type": "markdown",
      "metadata": {
        "id": "4XMhWBu0RPAS",
        "colab_type": "text"
      },
      "source": [
        "\n",
        "**Meta data** <br />\n",
        "\n",
        "**Id** a simple rowID. <br />\n",
        "**qid{1, 2}** The unique ID of each question in the pair. <br />\n",
        "**question{1, 2}** The actual textual contents of the questions. <br />\n",
        "**is_duplicate** The label that we are trying to predict - whether the two questions are duplicates of each other. <br />"
      ]
    },
    {
      "cell_type": "code",
      "metadata": {
        "id": "RTmEabBcRU5S",
        "colab_type": "code",
        "outputId": "a144ebbf-f5bb-468f-8105-ba4b9d1db555",
        "colab": {
          "base_uri": "https://localhost:8080/",
          "height": 68
        }
      },
      "source": [
        "#check data balance \n",
        "(df['label'].value_counts() /len(df.label))*100"
      ],
      "execution_count": 44,
      "outputs": [
        {
          "output_type": "execute_result",
          "data": {
            "text/plain": [
              "0    63.079941\n",
              "1    36.920059\n",
              "Name: label, dtype: float64"
            ]
          },
          "metadata": {
            "tags": []
          },
          "execution_count": 44
        }
      ]
    },
    {
      "cell_type": "markdown",
      "metadata": {
        "id": "6kkLlMCnRbf6",
        "colab_type": "text"
      },
      "source": [
        "63% is non-duplicate questions <br />\n",
        "36.9% is duplicate questions"
      ]
    },
    {
      "cell_type": "code",
      "metadata": {
        "id": "QLoQkHlARcKn",
        "colab_type": "code",
        "outputId": "ba7d3ce6-1cbb-4b76-c656-42a8947c1e1a",
        "colab": {
          "base_uri": "https://localhost:8080/",
          "height": 204
        }
      },
      "source": [
        "#exmple of duplicate questions\n",
        "\n",
        "df.loc[df['label'] == 1].head()"
      ],
      "execution_count": 45,
      "outputs": [
        {
          "output_type": "execute_result",
          "data": {
            "text/html": [
              "<div>\n",
              "<style scoped>\n",
              "    .dataframe tbody tr th:only-of-type {\n",
              "        vertical-align: middle;\n",
              "    }\n",
              "\n",
              "    .dataframe tbody tr th {\n",
              "        vertical-align: top;\n",
              "    }\n",
              "\n",
              "    .dataframe thead th {\n",
              "        text-align: right;\n",
              "    }\n",
              "</style>\n",
              "<table border=\"1\" class=\"dataframe\">\n",
              "  <thead>\n",
              "    <tr style=\"text-align: right;\">\n",
              "      <th></th>\n",
              "      <th>id</th>\n",
              "      <th>qid1</th>\n",
              "      <th>qid2</th>\n",
              "      <th>question1</th>\n",
              "      <th>question2</th>\n",
              "      <th>label</th>\n",
              "    </tr>\n",
              "  </thead>\n",
              "  <tbody>\n",
              "    <tr>\n",
              "      <th>5</th>\n",
              "      <td>5</td>\n",
              "      <td>11</td>\n",
              "      <td>12</td>\n",
              "      <td>Astrology: I am a Capricorn Sun Cap moon and c...</td>\n",
              "      <td>I'm a triple Capricorn (Sun, Moon and ascendan...</td>\n",
              "      <td>1</td>\n",
              "    </tr>\n",
              "    <tr>\n",
              "      <th>7</th>\n",
              "      <td>7</td>\n",
              "      <td>15</td>\n",
              "      <td>16</td>\n",
              "      <td>How can I be a good geologist?</td>\n",
              "      <td>What should I do to be a great geologist?</td>\n",
              "      <td>1</td>\n",
              "    </tr>\n",
              "    <tr>\n",
              "      <th>11</th>\n",
              "      <td>11</td>\n",
              "      <td>23</td>\n",
              "      <td>24</td>\n",
              "      <td>How do I read and find my YouTube comments?</td>\n",
              "      <td>How can I see all my Youtube comments?</td>\n",
              "      <td>1</td>\n",
              "    </tr>\n",
              "    <tr>\n",
              "      <th>12</th>\n",
              "      <td>12</td>\n",
              "      <td>25</td>\n",
              "      <td>26</td>\n",
              "      <td>What can make Physics easy to learn?</td>\n",
              "      <td>How can you make physics easy to learn?</td>\n",
              "      <td>1</td>\n",
              "    </tr>\n",
              "    <tr>\n",
              "      <th>13</th>\n",
              "      <td>13</td>\n",
              "      <td>27</td>\n",
              "      <td>28</td>\n",
              "      <td>What was your first sexual experience like?</td>\n",
              "      <td>What was your first sexual experience?</td>\n",
              "      <td>1</td>\n",
              "    </tr>\n",
              "  </tbody>\n",
              "</table>\n",
              "</div>"
            ],
            "text/plain": [
              "    id  qid1  ...                                          question2 label\n",
              "5    5    11  ...  I'm a triple Capricorn (Sun, Moon and ascendan...     1\n",
              "7    7    15  ...          What should I do to be a great geologist?     1\n",
              "11  11    23  ...             How can I see all my Youtube comments?     1\n",
              "12  12    25  ...            How can you make physics easy to learn?     1\n",
              "13  13    27  ...             What was your first sexual experience?     1\n",
              "\n",
              "[5 rows x 6 columns]"
            ]
          },
          "metadata": {
            "tags": []
          },
          "execution_count": 45
        }
      ]
    },
    {
      "cell_type": "code",
      "metadata": {
        "id": "dDss-lxbRgRf",
        "colab_type": "code",
        "outputId": "2e784dab-a82b-4793-ef95-f6a6496a0c88",
        "colab": {
          "base_uri": "https://localhost:8080/",
          "height": 204
        }
      },
      "source": [
        "#exmple of non duplicate questions\n",
        "\n",
        "df.loc[df['label'] == 0].head()"
      ],
      "execution_count": 46,
      "outputs": [
        {
          "output_type": "execute_result",
          "data": {
            "text/html": [
              "<div>\n",
              "<style scoped>\n",
              "    .dataframe tbody tr th:only-of-type {\n",
              "        vertical-align: middle;\n",
              "    }\n",
              "\n",
              "    .dataframe tbody tr th {\n",
              "        vertical-align: top;\n",
              "    }\n",
              "\n",
              "    .dataframe thead th {\n",
              "        text-align: right;\n",
              "    }\n",
              "</style>\n",
              "<table border=\"1\" class=\"dataframe\">\n",
              "  <thead>\n",
              "    <tr style=\"text-align: right;\">\n",
              "      <th></th>\n",
              "      <th>id</th>\n",
              "      <th>qid1</th>\n",
              "      <th>qid2</th>\n",
              "      <th>question1</th>\n",
              "      <th>question2</th>\n",
              "      <th>label</th>\n",
              "    </tr>\n",
              "  </thead>\n",
              "  <tbody>\n",
              "    <tr>\n",
              "      <th>0</th>\n",
              "      <td>0</td>\n",
              "      <td>1</td>\n",
              "      <td>2</td>\n",
              "      <td>What is the step by step guide to invest in sh...</td>\n",
              "      <td>What is the step by step guide to invest in sh...</td>\n",
              "      <td>0</td>\n",
              "    </tr>\n",
              "    <tr>\n",
              "      <th>1</th>\n",
              "      <td>1</td>\n",
              "      <td>3</td>\n",
              "      <td>4</td>\n",
              "      <td>What is the story of Kohinoor (Koh-i-Noor) Dia...</td>\n",
              "      <td>What would happen if the Indian government sto...</td>\n",
              "      <td>0</td>\n",
              "    </tr>\n",
              "    <tr>\n",
              "      <th>2</th>\n",
              "      <td>2</td>\n",
              "      <td>5</td>\n",
              "      <td>6</td>\n",
              "      <td>How can I increase the speed of my internet co...</td>\n",
              "      <td>How can Internet speed be increased by hacking...</td>\n",
              "      <td>0</td>\n",
              "    </tr>\n",
              "    <tr>\n",
              "      <th>3</th>\n",
              "      <td>3</td>\n",
              "      <td>7</td>\n",
              "      <td>8</td>\n",
              "      <td>Why am I mentally very lonely? How can I solve...</td>\n",
              "      <td>Find the remainder when [math]23^{24}[/math] i...</td>\n",
              "      <td>0</td>\n",
              "    </tr>\n",
              "    <tr>\n",
              "      <th>4</th>\n",
              "      <td>4</td>\n",
              "      <td>9</td>\n",
              "      <td>10</td>\n",
              "      <td>Which one dissolve in water quikly sugar, salt...</td>\n",
              "      <td>Which fish would survive in salt water?</td>\n",
              "      <td>0</td>\n",
              "    </tr>\n",
              "  </tbody>\n",
              "</table>\n",
              "</div>"
            ],
            "text/plain": [
              "   id  qid1  ...                                          question2 label\n",
              "0   0     1  ...  What is the step by step guide to invest in sh...     0\n",
              "1   1     3  ...  What would happen if the Indian government sto...     0\n",
              "2   2     5  ...  How can Internet speed be increased by hacking...     0\n",
              "3   3     7  ...  Find the remainder when [math]23^{24}[/math] i...     0\n",
              "4   4     9  ...            Which fish would survive in salt water?     0\n",
              "\n",
              "[5 rows x 6 columns]"
            ]
          },
          "metadata": {
            "tags": []
          },
          "execution_count": 46
        }
      ]
    },
    {
      "cell_type": "code",
      "metadata": {
        "id": "M0JbPR8sRnlQ",
        "colab_type": "code",
        "colab": {}
      },
      "source": [
        "\n"
      ],
      "execution_count": 0,
      "outputs": []
    },
    {
      "cell_type": "markdown",
      "metadata": {
        "id": "XlnUwJwTRqqu",
        "colab_type": "text"
      },
      "source": [
        "\n",
        "## Word Count in each question"
      ]
    },
    {
      "cell_type": "code",
      "metadata": {
        "id": "Z5uxMnzvRsWr",
        "colab_type": "code",
        "outputId": "39b89c4c-50e0-451b-d183-0bade1f7ad1f",
        "colab": {
          "base_uri": "https://localhost:8080/",
          "height": 204
        }
      },
      "source": [
        "#word count in each question \n",
        "df['count1'] = df['question1'].str.count(' ') + 1\n",
        "df['count2'] = df['question2'].str.count(' ') + 1\n",
        "df.head()"
      ],
      "execution_count": 47,
      "outputs": [
        {
          "output_type": "execute_result",
          "data": {
            "text/html": [
              "<div>\n",
              "<style scoped>\n",
              "    .dataframe tbody tr th:only-of-type {\n",
              "        vertical-align: middle;\n",
              "    }\n",
              "\n",
              "    .dataframe tbody tr th {\n",
              "        vertical-align: top;\n",
              "    }\n",
              "\n",
              "    .dataframe thead th {\n",
              "        text-align: right;\n",
              "    }\n",
              "</style>\n",
              "<table border=\"1\" class=\"dataframe\">\n",
              "  <thead>\n",
              "    <tr style=\"text-align: right;\">\n",
              "      <th></th>\n",
              "      <th>id</th>\n",
              "      <th>qid1</th>\n",
              "      <th>qid2</th>\n",
              "      <th>question1</th>\n",
              "      <th>question2</th>\n",
              "      <th>label</th>\n",
              "      <th>count1</th>\n",
              "      <th>count2</th>\n",
              "    </tr>\n",
              "  </thead>\n",
              "  <tbody>\n",
              "    <tr>\n",
              "      <th>0</th>\n",
              "      <td>0</td>\n",
              "      <td>1</td>\n",
              "      <td>2</td>\n",
              "      <td>What is the step by step guide to invest in sh...</td>\n",
              "      <td>What is the step by step guide to invest in sh...</td>\n",
              "      <td>0</td>\n",
              "      <td>14</td>\n",
              "      <td>12</td>\n",
              "    </tr>\n",
              "    <tr>\n",
              "      <th>1</th>\n",
              "      <td>1</td>\n",
              "      <td>3</td>\n",
              "      <td>4</td>\n",
              "      <td>What is the story of Kohinoor (Koh-i-Noor) Dia...</td>\n",
              "      <td>What would happen if the Indian government sto...</td>\n",
              "      <td>0</td>\n",
              "      <td>8</td>\n",
              "      <td>13</td>\n",
              "    </tr>\n",
              "    <tr>\n",
              "      <th>2</th>\n",
              "      <td>2</td>\n",
              "      <td>5</td>\n",
              "      <td>6</td>\n",
              "      <td>How can I increase the speed of my internet co...</td>\n",
              "      <td>How can Internet speed be increased by hacking...</td>\n",
              "      <td>0</td>\n",
              "      <td>14</td>\n",
              "      <td>10</td>\n",
              "    </tr>\n",
              "    <tr>\n",
              "      <th>3</th>\n",
              "      <td>3</td>\n",
              "      <td>7</td>\n",
              "      <td>8</td>\n",
              "      <td>Why am I mentally very lonely? How can I solve...</td>\n",
              "      <td>Find the remainder when [math]23^{24}[/math] i...</td>\n",
              "      <td>0</td>\n",
              "      <td>11</td>\n",
              "      <td>9</td>\n",
              "    </tr>\n",
              "    <tr>\n",
              "      <th>4</th>\n",
              "      <td>4</td>\n",
              "      <td>9</td>\n",
              "      <td>10</td>\n",
              "      <td>Which one dissolve in water quikly sugar, salt...</td>\n",
              "      <td>Which fish would survive in salt water?</td>\n",
              "      <td>0</td>\n",
              "      <td>13</td>\n",
              "      <td>7</td>\n",
              "    </tr>\n",
              "  </tbody>\n",
              "</table>\n",
              "</div>"
            ],
            "text/plain": [
              "   id  qid1  qid2  ... label count1  count2\n",
              "0   0     1     2  ...     0     14      12\n",
              "1   1     3     4  ...     0      8      13\n",
              "2   2     5     6  ...     0     14      10\n",
              "3   3     7     8  ...     0     11       9\n",
              "4   4     9    10  ...     0     13       7\n",
              "\n",
              "[5 rows x 8 columns]"
            ]
          },
          "metadata": {
            "tags": []
          },
          "execution_count": 47
        }
      ]
    },
    {
      "cell_type": "code",
      "metadata": {
        "id": "U-8BuAM2-OgX",
        "colab_type": "code",
        "outputId": "911dabcb-e155-4cfc-9820-ac64f5ca99ca",
        "colab": {
          "base_uri": "https://localhost:8080/",
          "height": 34
        }
      },
      "source": [
        "#check the percentage of questions that are longer than 50 words \n",
        "(df[df['count2'] > 50 ].shape[0] / len(df.count2))*100"
      ],
      "execution_count": 48,
      "outputs": [
        {
          "output_type": "execute_result",
          "data": {
            "text/plain": [
              "0.18427503234088655"
            ]
          },
          "metadata": {
            "tags": []
          },
          "execution_count": 48
        }
      ]
    },
    {
      "cell_type": "code",
      "metadata": {
        "id": "l0qNmr1BV9vL",
        "colab_type": "code",
        "outputId": "d83ee0b5-e127-4438-9c7f-d6cc0dd37491",
        "colab": {
          "base_uri": "https://localhost:8080/",
          "height": 34
        }
      },
      "source": [
        "(df[df['count1'] > 50 ].shape[0] / len(df.count2))*100"
      ],
      "execution_count": 49,
      "outputs": [
        {
          "output_type": "execute_result",
          "data": {
            "text/plain": [
              "0.04699631697284355"
            ]
          },
          "metadata": {
            "tags": []
          },
          "execution_count": 49
        }
      ]
    },
    {
      "cell_type": "code",
      "metadata": {
        "id": "Zg3vH4c0alb1",
        "colab_type": "code",
        "outputId": "93207ae9-5ae1-48ec-9667-fd1e7b867bd4",
        "colab": {
          "base_uri": "https://localhost:8080/",
          "height": 419
        }
      },
      "source": [
        "df[df['count2']> 50 ]"
      ],
      "execution_count": 50,
      "outputs": [
        {
          "output_type": "execute_result",
          "data": {
            "text/html": [
              "<div>\n",
              "<style scoped>\n",
              "    .dataframe tbody tr th:only-of-type {\n",
              "        vertical-align: middle;\n",
              "    }\n",
              "\n",
              "    .dataframe tbody tr th {\n",
              "        vertical-align: top;\n",
              "    }\n",
              "\n",
              "    .dataframe thead th {\n",
              "        text-align: right;\n",
              "    }\n",
              "</style>\n",
              "<table border=\"1\" class=\"dataframe\">\n",
              "  <thead>\n",
              "    <tr style=\"text-align: right;\">\n",
              "      <th></th>\n",
              "      <th>id</th>\n",
              "      <th>qid1</th>\n",
              "      <th>qid2</th>\n",
              "      <th>question1</th>\n",
              "      <th>question2</th>\n",
              "      <th>label</th>\n",
              "      <th>count1</th>\n",
              "      <th>count2</th>\n",
              "    </tr>\n",
              "  </thead>\n",
              "  <tbody>\n",
              "    <tr>\n",
              "      <th>1671</th>\n",
              "      <td>1671</td>\n",
              "      <td>3327</td>\n",
              "      <td>3328</td>\n",
              "      <td>What are some interesting differences between ...</td>\n",
              "      <td>Is it weird for a 'hearing' person with no dea...</td>\n",
              "      <td>0</td>\n",
              "      <td>13</td>\n",
              "      <td>53</td>\n",
              "    </tr>\n",
              "    <tr>\n",
              "      <th>2395</th>\n",
              "      <td>2395</td>\n",
              "      <td>4761</td>\n",
              "      <td>4762</td>\n",
              "      <td>I emailed my interviewer after the technical i...</td>\n",
              "      <td>I have applied for the Thought Works company t...</td>\n",
              "      <td>0</td>\n",
              "      <td>22</td>\n",
              "      <td>52</td>\n",
              "    </tr>\n",
              "    <tr>\n",
              "      <th>2580</th>\n",
              "      <td>2580</td>\n",
              "      <td>5126</td>\n",
              "      <td>5127</td>\n",
              "      <td>Is it a good idea for a CEO to take personal c...</td>\n",
              "      <td>A person I know has an idea for a mobile appli...</td>\n",
              "      <td>0</td>\n",
              "      <td>28</td>\n",
              "      <td>58</td>\n",
              "    </tr>\n",
              "    <tr>\n",
              "      <th>2632</th>\n",
              "      <td>2632</td>\n",
              "      <td>5230</td>\n",
              "      <td>5231</td>\n",
              "      <td>I have done a diploma in mechanical engineerin...</td>\n",
              "      <td>I have completed a 1-year diploma in fashion d...</td>\n",
              "      <td>0</td>\n",
              "      <td>22</td>\n",
              "      <td>54</td>\n",
              "    </tr>\n",
              "    <tr>\n",
              "      <th>2702</th>\n",
              "      <td>2702</td>\n",
              "      <td>76</td>\n",
              "      <td>5366</td>\n",
              "      <td>My girlfriend said that we should end this bec...</td>\n",
              "      <td>After 2 years being in a relationship my girlf...</td>\n",
              "      <td>0</td>\n",
              "      <td>37</td>\n",
              "      <td>51</td>\n",
              "    </tr>\n",
              "    <tr>\n",
              "      <th>...</th>\n",
              "      <td>...</td>\n",
              "      <td>...</td>\n",
              "      <td>...</td>\n",
              "      <td>...</td>\n",
              "      <td>...</td>\n",
              "      <td>...</td>\n",
              "      <td>...</td>\n",
              "      <td>...</td>\n",
              "    </tr>\n",
              "    <tr>\n",
              "      <th>402651</th>\n",
              "      <td>402654</td>\n",
              "      <td>536154</td>\n",
              "      <td>536155</td>\n",
              "      <td>Solve this for all masterminds !!             ...</td>\n",
              "      <td>Solve this for all masterkminds!!             ...</td>\n",
              "      <td>0</td>\n",
              "      <td>65</td>\n",
              "      <td>55</td>\n",
              "    </tr>\n",
              "    <tr>\n",
              "      <th>403753</th>\n",
              "      <td>403756</td>\n",
              "      <td>427820</td>\n",
              "      <td>537352</td>\n",
              "      <td>I was fired from my job and my boss didn't giv...</td>\n",
              "      <td>I got fired from my job and today I found out ...</td>\n",
              "      <td>0</td>\n",
              "      <td>32</td>\n",
              "      <td>51</td>\n",
              "    </tr>\n",
              "    <tr>\n",
              "      <th>403853</th>\n",
              "      <td>403856</td>\n",
              "      <td>537475</td>\n",
              "      <td>537476</td>\n",
              "      <td>My 10-year-old son is so lazy and irresponsibl...</td>\n",
              "      <td>My Son, 7 years old, walked into my room cryin...</td>\n",
              "      <td>0</td>\n",
              "      <td>14</td>\n",
              "      <td>53</td>\n",
              "    </tr>\n",
              "    <tr>\n",
              "      <th>404061</th>\n",
              "      <td>404064</td>\n",
              "      <td>537695</td>\n",
              "      <td>537696</td>\n",
              "      <td>Are cookies stored on my device even if I have...</td>\n",
              "      <td>I have 10 years of experience in human resourc...</td>\n",
              "      <td>0</td>\n",
              "      <td>25</td>\n",
              "      <td>60</td>\n",
              "    </tr>\n",
              "    <tr>\n",
              "      <th>404066</th>\n",
              "      <td>404069</td>\n",
              "      <td>176271</td>\n",
              "      <td>537702</td>\n",
              "      <td>My computer isn't working any more. How can I ...</td>\n",
              "      <td>Whole fight card for UFC on Fuel TV 9, 6th Apr...</td>\n",
              "      <td>0</td>\n",
              "      <td>17</td>\n",
              "      <td>134</td>\n",
              "    </tr>\n",
              "  </tbody>\n",
              "</table>\n",
              "<p>745 rows × 8 columns</p>\n",
              "</div>"
            ],
            "text/plain": [
              "            id    qid1    qid2  ... label count1  count2\n",
              "1671      1671    3327    3328  ...     0     13      53\n",
              "2395      2395    4761    4762  ...     0     22      52\n",
              "2580      2580    5126    5127  ...     0     28      58\n",
              "2632      2632    5230    5231  ...     0     22      54\n",
              "2702      2702      76    5366  ...     0     37      51\n",
              "...        ...     ...     ...  ...   ...    ...     ...\n",
              "402651  402654  536154  536155  ...     0     65      55\n",
              "403753  403756  427820  537352  ...     0     32      51\n",
              "403853  403856  537475  537476  ...     0     14      53\n",
              "404061  404064  537695  537696  ...     0     25      60\n",
              "404066  404069  176271  537702  ...     0     17     134\n",
              "\n",
              "[745 rows x 8 columns]"
            ]
          },
          "metadata": {
            "tags": []
          },
          "execution_count": 50
        }
      ]
    },
    {
      "cell_type": "markdown",
      "metadata": {
        "id": "QyZA9k7oV-PO",
        "colab_type": "text"
      },
      "source": [
        "**Common Words**"
      ]
    },
    {
      "cell_type": "code",
      "metadata": {
        "id": "9Q_mX0AEV7Cl",
        "colab_type": "code",
        "colab": {}
      },
      "source": [
        "#check top 50 common words \n",
        "freq1 = pd.Series(' '.join(df['question1']).split()).value_counts()[:50]\n",
        "freq2 = pd.Series(' '.join(df['question2']).split()).value_counts()[:50]"
      ],
      "execution_count": 0,
      "outputs": []
    },
    {
      "cell_type": "code",
      "metadata": {
        "id": "no_5hC7k7WXT",
        "colab_type": "code",
        "colab": {}
      },
      "source": [
        "question1 = list(df['question1'])\n",
        "question2 = list(df['question2'])"
      ],
      "execution_count": 0,
      "outputs": []
    },
    {
      "cell_type": "code",
      "metadata": {
        "id": "BHvLSxFMRvQP",
        "colab_type": "code",
        "outputId": "5d7e2dfe-5042-4c6e-89d3-9b72bbde40b5",
        "colab": {
          "base_uri": "https://localhost:8080/",
          "height": 51
        }
      },
      "source": [
        "#check the percent of invalid questions \n",
        "#check for invalid questions \n",
        "invalid_questions = []\n",
        "for i in range(len(question1)):\n",
        "    # questions need to contain a vowel to be valid \n",
        "    if not re.search('[aeiouy]', question1[i]) or not re.search('[aeiouy]', question2[i]):\n",
        "    # check length the invalid questions to remove them\n",
        "        invalid_questions.append(i-len(invalid_questions))\n",
        "print(len(invalid_questions))\n",
        "len(invalid_questions)/len(question1) "
      ],
      "execution_count": 53,
      "outputs": [
        {
          "output_type": "stream",
          "text": [
            "172\n"
          ],
          "name": "stdout"
        },
        {
          "output_type": "execute_result",
          "data": {
            "text/plain": [
              "0.0004254403431225837"
            ]
          },
          "metadata": {
            "tags": []
          },
          "execution_count": 53
        }
      ]
    },
    {
      "cell_type": "markdown",
      "metadata": {
        "id": "T2TbU_eoRxVG",
        "colab_type": "text"
      },
      "source": [
        "\n",
        "## DataVisualization"
      ]
    },
    {
      "cell_type": "code",
      "metadata": {
        "id": "wiuZYXSWRybZ",
        "colab_type": "code",
        "outputId": "bcba54ec-9f65-4331-e045-593fe20511c4",
        "colab": {
          "base_uri": "https://localhost:8080/",
          "height": 857
        }
      },
      "source": [
        "#Histogram of word count 1 & 2\n",
        "#distribution of wordcount for question 1 \n",
        "\n",
        "sns.set()\n",
        "bin_edges = [0,5,20,25,20,25,30,35,40,45,50]\n",
        "_ = plt.hist(df['count1'], bins=range(min(df['count1']), max(df['count1']) + 5, 5))\n",
        "_ = plt.xlabel('word count')\n",
        "_ = plt.ylabel('Frequency')\n",
        "plt.title('histogram of word count in question1',fontsize=15)\n",
        "plt.xlim(min(bin_edges), max(bin_edges))\n",
        "plt.show()\n",
        "\n",
        "#distribution of wordcount for question 2\n",
        "sns.set()\n",
        "bin_edges = [0,5,20,25,20,25,30,35,40,45,50]\n",
        "_ = plt.hist(df['count2'], bins=range(min(df['count2']), max(df['count2']) + 5, 5))\n",
        "_ = plt.xlabel('word count')\n",
        "_ = plt.ylabel('Frequency ')\n",
        "plt.title('histogram of word count in question2',fontsize=15)\n",
        "plt.xlim(min(bin_edges), max(bin_edges))\n",
        "\n",
        "plt.show()\n",
        "\n",
        "#label count \n",
        "sns.countplot(x = 'label', data = df, palette = 'hls')\n",
        "plt.show()\n",
        "\n"
      ],
      "execution_count": 54,
      "outputs": [
        {
          "output_type": "display_data",
          "data": {
            "image/png": "[encoded data removed]",
            "text/plain": [
              "<Figure size 432x288 with 1 Axes>"
            ]
          },
          "metadata": {
            "tags": []
          }
        },
        {
          "output_type": "display_data",
          "data": {
            "image/png": "[encoded data removed]",
            "text/plain": [
              "<Figure size 432x288 with 1 Axes>"
            ]
          },
          "metadata": {
            "tags": []
          }
        },
        {
          "output_type": "display_data",
          "data": {
            "image/png": "[encoded data removed]",
            "text/plain": [
              "<Figure size 432x288 with 1 Axes>"
            ]
          },
          "metadata": {
            "tags": []
          }
        }
      ]
    },
    {
      "cell_type": "code",
      "metadata": {
        "id": "9dsroRI2m4Qo",
        "colab_type": "code",
        "outputId": "ae69e452-9094-4e5f-9775-fb0543c668ba",
        "colab": {
          "base_uri": "https://localhost:8080/",
          "height": 248
        }
      },
      "source": [
        "from wordcloud import WordCloud \n",
        "freq1_letters = re.sub(\"[^a-zA-Z]\",  # Search for all non-letters\n",
        "                          \" \",          # Replace all non-letters with spaces as word cloud accept string only \n",
        "                          str(question1))\n",
        "wordcloud=WordCloud(background_color='white',mode=\"RGB\", width=3000 , height=2000, max_words= 40, min_font_size=15).generate(freq1_letters) \n",
        "plt.figure()\n",
        "plt.imshow(wordcloud, interpolation=\"bilinear\")\n",
        "plt.axis(\"off\")\n",
        "plt.show()"
      ],
      "execution_count": 55,
      "outputs": [
        {
          "output_type": "display_data",
          "data": {
            "image/png": "[encoded data removed]",
            "text/plain": [
              "<Figure size 432x288 with 1 Axes>"
            ]
          },
          "metadata": {
            "tags": []
          }
        }
      ]
    },
    {
      "cell_type": "code",
      "metadata": {
        "id": "nPXJc7i9R4b5",
        "colab_type": "code",
        "outputId": "62016abb-9124-472b-9a38-605cc21e275b",
        "colab": {
          "base_uri": "https://localhost:8080/",
          "height": 198
        }
      },
      "source": [
        "freq2_letters = re.sub(\"[^a-zA-Z]\",  # Search for all non-letters\n",
        "                          \" \",          # Replace all non-letters with spaces as word cloud accept string only \n",
        "                          str(question2))\n",
        "wordcloud=WordCloud(background_color='white',mode=\"RGB\", width=2000 , height=1000, max_words= 40, min_font_size=15).generate(freq2_letters) \n",
        "plt.figure()\n",
        "plt.imshow(wordcloud, interpolation=\"bilinear\")\n",
        "plt.axis(\"off\")\n",
        "plt.show()\n"
      ],
      "execution_count": 56,
      "outputs": [
        {
          "output_type": "display_data",
          "data": {
            "image/png": "[encoded data removed]",
            "text/plain": [
              "<Figure size 432x288 with 1 Axes>"
            ]
          },
          "metadata": {
            "tags": []
          }
        }
      ]
    },
    {
      "cell_type": "code",
      "metadata": {
        "id": "UBVJC4YIHH1_",
        "colab_type": "code",
        "colab": {}
      },
      "source": [
        "#change data type in count1 and count2 into integer \n",
        "df['count1'] = df['count1'].astype(int)\n",
        "df['count2'] = df['count2'].astype(int)"
      ],
      "execution_count": 0,
      "outputs": []
    },
    {
      "cell_type": "markdown",
      "metadata": {
        "id": "iT8NJ9d-R8f6",
        "colab_type": "text"
      },
      "source": [
        "## Text Pre-processing \n",
        "- Drop questions with more than 50 words <br />\n",
        "- Convert to lower case: will prevent having multiple copies of the same word <br />\n",
        "- Remove some of the common words <br />\n",
        "- Remove shortcuts <br />\n",
        "- Remove puctuations or any other symbols in order to not consider puctuations as words <br />\n",
        "- Remove stop words <br />\n",
        "- Remove Numbers <br />\n",
        "- Remove invalid questions <br />\n"
      ]
    },
    {
      "cell_type": "code",
      "metadata": {
        "id": "JPxnOr-cbImo",
        "colab_type": "code",
        "colab": {}
      },
      "source": [
        "#remove questions with more than 50 words \n",
        "df = df[df['count2']< 50]\n",
        "df = df[df['count1']< 50]\n"
      ],
      "execution_count": 0,
      "outputs": []
    },
    {
      "cell_type": "code",
      "metadata": {
        "id": "4yERRFpDbxbR",
        "colab_type": "code",
        "outputId": "d5d14421-aaa2-4d2f-80de-acd52610c8d9",
        "colab": {
          "base_uri": "https://localhost:8080/",
          "height": 34
        }
      },
      "source": [
        "df.shape"
      ],
      "execution_count": 59,
      "outputs": [
        {
          "output_type": "execute_result",
          "data": {
            "text/plain": [
              "(403285, 8)"
            ]
          },
          "metadata": {
            "tags": []
          },
          "execution_count": 59
        }
      ]
    },
    {
      "cell_type": "code",
      "metadata": {
        "id": "aZcldGtGR9FV",
        "colab_type": "code",
        "colab": {}
      },
      "source": [
        "#convert all the data frame to lower case \n",
        "df_clean = df.apply(lambda x: x.astype(str).str.lower())"
      ],
      "execution_count": 0,
      "outputs": []
    },
    {
      "cell_type": "code",
      "metadata": {
        "id": "Q2fapyoeSK_E",
        "colab_type": "code",
        "colab": {}
      },
      "source": [
        "#remove common words //in this case I decided to remove the top 50 common words\n",
        "freq1 = list(freq1.index)\n",
        "freq2 = list(freq2.index)\n",
        "df_clean['question1'] = df_clean['question1'].apply(lambda x :\" \".join(x for x in x.split()if x not in freq1))\n",
        "df_clean['question2'] = df_clean['question2'].apply(lambda x :\" \".join(x for x in x.split()if x not in freq2))"
      ],
      "execution_count": 0,
      "outputs": []
    },
    {
      "cell_type": "code",
      "metadata": {
        "id": "TE0iqvZ1BHXg",
        "colab_type": "code",
        "colab": {}
      },
      "source": [
        "pd.set_option('display.max_colwidth',100)"
      ],
      "execution_count": 0,
      "outputs": []
    },
    {
      "cell_type": "code",
      "metadata": {
        "id": "-KA7981ESTRm",
        "colab_type": "code",
        "outputId": "6ef99a15-844f-4357-f807-717ea8fdf4cd",
        "colab": {
          "base_uri": "https://localhost:8080/",
          "height": 170
        }
      },
      "source": [
        "df_clean['question1'][2:10]"
      ],
      "execution_count": 63,
      "outputs": [
        {
          "output_type": "execute_result",
          "data": {
            "text/plain": [
              "2                    i increase speed internet connection while using vpn?\n",
              "3                               why am i mentally very lonely? i solve it?\n",
              "4    which one dissolve water quikly sugar, salt, methane carbon di oxide?\n",
              "5         astrology: i am capricorn sun cap moon cap rising...what say me?\n",
              "6                                                             i buy tiago?\n",
              "7                                                             i geologist?\n",
              "8                                                         use シ instead し?\n",
              "9                    motorola (company): i hack charter motorolla dcx3400?\n",
              "Name: question1, dtype: object"
            ]
          },
          "metadata": {
            "tags": []
          },
          "execution_count": 63
        }
      ]
    },
    {
      "cell_type": "code",
      "metadata": {
        "id": "5ZqXG8KSSV6T",
        "colab_type": "code",
        "colab": {}
      },
      "source": [
        "\n"
      ],
      "execution_count": 0,
      "outputs": []
    },
    {
      "cell_type": "markdown",
      "metadata": {
        "id": "OcmaJAUPSY-3",
        "colab_type": "text"
      },
      "source": [
        "**Remove Shortcuts** <br />\n",
        "**Remove Numbers** <br />\n",
        "**Remove short words**"
      ]
    },
    {
      "cell_type": "code",
      "metadata": {
        "id": "kMGnvB4KSZUI",
        "colab_type": "code",
        "colab": {}
      },
      "source": [
        "#replace the shortcuts with words\n",
        "def clean(s):\n",
        "\n",
        "    s = re.sub(r\"\\'ve\", \" have \", s)\n",
        "    s = re.sub(r\"can't\", \"cannot \", s)\n",
        "    s = re.sub(r\"n't\", \" not \", s)\n",
        "    s = re.sub(r\"\\'s\", \" \", s)\n",
        "    s = re.sub(r\"I'm\", \"I am\", s)\n",
        "    s = re.sub(r\" m \", \" am \", s)\n",
        "    s = re.sub(r\"\\'re\", \" are \", s)\n",
        "    s = re.sub(r\"\\'d\", \" would \", s)\n",
        "    s = re.sub(r\"\\'ll\", \" will \", s)\n",
        "    \n",
        "  #remove numbers\n",
        "    s = re.sub('[0-9]+', '', s) \n",
        "\n",
        "  #remove short words (<3 character)\n",
        "    s = re.sub(r\"\\W*\\b\\w{1,2}\\b\", \"\", s)\n",
        "\n",
        "    return s\n",
        "df_clean['question1'] = df_clean['question1'].apply(clean)\n",
        "df_clean['question2'] = df_clean['question2'].apply(clean)"
      ],
      "execution_count": 0,
      "outputs": []
    },
    {
      "cell_type": "markdown",
      "metadata": {
        "id": "pEhvZTwVSedP",
        "colab_type": "text"
      },
      "source": [
        "**Remove punctuations**"
      ]
    },
    {
      "cell_type": "code",
      "metadata": {
        "id": "hbFl_vIJSfgD",
        "colab_type": "code",
        "colab": {}
      },
      "source": [
        "#remove puctuations \n",
        "\n",
        "df_clean['question1'] = df_clean['question1'].str.replace('[^\\w\\s]','')\n",
        "df_clean['question2'] = df_clean['question2'].str.replace('[^\\w\\s]','')"
      ],
      "execution_count": 0,
      "outputs": []
    },
    {
      "cell_type": "markdown",
      "metadata": {
        "id": "SPSAePLTSxxl",
        "colab_type": "text"
      },
      "source": [
        "**Remove stop words**"
      ]
    },
    {
      "cell_type": "code",
      "metadata": {
        "id": "DGcI7e6EW-cq",
        "colab_type": "code",
        "outputId": "0426c33b-ed86-441f-8bd3-75fc03f7c916",
        "colab": {
          "base_uri": "https://localhost:8080/",
          "height": 170
        }
      },
      "source": [
        "!pip install stop_words"
      ],
      "execution_count": 66,
      "outputs": [
        {
          "output_type": "stream",
          "text": [
            "Collecting stop_words\n",
            "  Downloading https://files.pythonhosted.org/packages/1c/cb/d58290804b7a4c5daa42abbbe2a93c477ae53e45541b1825e86f0dfaaf63/stop-words-2018.7.23.tar.gz\n",
            "Building wheels for collected packages: stop-words\n",
            "  Building wheel for stop-words (setup.py) ... \u001b[?25l\u001b[?25hdone\n",
            "  Created wheel for stop-words: filename=stop_words-2018.7.23-cp36-none-any.whl size=32917 sha256=ab9cab8718c6c3da0aea1df5aed7acee61b11dda4fdb1dd501cdaf908cfe5f23\n",
            "  Stored in directory: /root/.cache/pip/wheels/75/37/6a/2b295e03bd07290f0da95c3adb9a74ba95fbc333aa8b0c7c78\n",
            "Successfully built stop-words\n",
            "Installing collected packages: stop-words\n",
            "Successfully installed stop-words-2018.7.23\n"
          ],
          "name": "stdout"
        }
      ]
    },
    {
      "cell_type": "code",
      "metadata": {
        "id": "X-KUSnwbSjFH",
        "colab_type": "code",
        "colab": {}
      },
      "source": [
        "from stop_words import get_stop_words\n",
        "stop_words = get_stop_words('en')\n",
        "stop_words = get_stop_words('english')"
      ],
      "execution_count": 0,
      "outputs": []
    },
    {
      "cell_type": "code",
      "metadata": {
        "id": "foR4t93xS1cd",
        "colab_type": "code",
        "colab": {}
      },
      "source": [
        "#tokenize the questions and remove stop words \n",
        "#remove stop words from question1\n",
        "df_clean['question1'] = df_clean['question1'].apply(lambda x: [item for item in str.split(x) if item not in stop_words])\n",
        "#remove stop words from question2 \n",
        "df_clean['question2'] = df_clean['question2'].apply(lambda x: [item for item in str.split(x) if item not in stop_words])"
      ],
      "execution_count": 0,
      "outputs": []
    },
    {
      "cell_type": "code",
      "metadata": {
        "id": "1MMB21flqPG4",
        "colab_type": "code",
        "outputId": "a13e0e2a-9f72-482d-b538-6546f1c1540d",
        "colab": {
          "base_uri": "https://localhost:8080/",
          "height": 34
        }
      },
      "source": [
        "len(stop_words)"
      ],
      "execution_count": 69,
      "outputs": [
        {
          "output_type": "execute_result",
          "data": {
            "text/plain": [
              "174"
            ]
          },
          "metadata": {
            "tags": []
          },
          "execution_count": 69
        }
      ]
    },
    {
      "cell_type": "code",
      "metadata": {
        "id": "gLNs2agVS_Iy",
        "colab_type": "code",
        "outputId": "47c13493-a522-441a-b428-6b868cef9aec",
        "colab": {
          "base_uri": "https://localhost:8080/",
          "height": 34
        }
      },
      "source": [
        "df_clean.shape"
      ],
      "execution_count": 70,
      "outputs": [
        {
          "output_type": "execute_result",
          "data": {
            "text/plain": [
              "(403285, 8)"
            ]
          },
          "metadata": {
            "tags": []
          },
          "execution_count": 70
        }
      ]
    },
    {
      "cell_type": "code",
      "metadata": {
        "id": "hne--g8GTCYq",
        "colab_type": "code",
        "outputId": "934afc13-6609-42b0-d71b-e7add5d224af",
        "colab": {
          "base_uri": "https://localhost:8080/",
          "height": 204
        }
      },
      "source": [
        "df_clean.head()"
      ],
      "execution_count": 71,
      "outputs": [
        {
          "output_type": "execute_result",
          "data": {
            "text/html": [
              "<div>\n",
              "<style scoped>\n",
              "    .dataframe tbody tr th:only-of-type {\n",
              "        vertical-align: middle;\n",
              "    }\n",
              "\n",
              "    .dataframe tbody tr th {\n",
              "        vertical-align: top;\n",
              "    }\n",
              "\n",
              "    .dataframe thead th {\n",
              "        text-align: right;\n",
              "    }\n",
              "</style>\n",
              "<table border=\"1\" class=\"dataframe\">\n",
              "  <thead>\n",
              "    <tr style=\"text-align: right;\">\n",
              "      <th></th>\n",
              "      <th>id</th>\n",
              "      <th>qid1</th>\n",
              "      <th>qid2</th>\n",
              "      <th>question1</th>\n",
              "      <th>question2</th>\n",
              "      <th>label</th>\n",
              "      <th>count1</th>\n",
              "      <th>count2</th>\n",
              "    </tr>\n",
              "  </thead>\n",
              "  <tbody>\n",
              "    <tr>\n",
              "      <th>0</th>\n",
              "      <td>0</td>\n",
              "      <td>1</td>\n",
              "      <td>2</td>\n",
              "      <td>[step, step, guide, invest, share, market, india]</td>\n",
              "      <td>[step, step, guide, invest, share, market]</td>\n",
              "      <td>0</td>\n",
              "      <td>14</td>\n",
              "      <td>12</td>\n",
              "    </tr>\n",
              "    <tr>\n",
              "      <th>1</th>\n",
              "      <td>1</td>\n",
              "      <td>3</td>\n",
              "      <td>4</td>\n",
              "      <td>[story, kohinoor, kohnoor, diamond]</td>\n",
              "      <td>[happen, indian, government, stole, kohinoor, kohnoor, diamond, back]</td>\n",
              "      <td>0</td>\n",
              "      <td>8</td>\n",
              "      <td>13</td>\n",
              "    </tr>\n",
              "    <tr>\n",
              "      <th>2</th>\n",
              "      <td>2</td>\n",
              "      <td>5</td>\n",
              "      <td>6</td>\n",
              "      <td>[increase, speed, internet, connection, using, vpn]</td>\n",
              "      <td>[internet, speed, increased, hacking, dns]</td>\n",
              "      <td>0</td>\n",
              "      <td>14</td>\n",
              "      <td>10</td>\n",
              "    </tr>\n",
              "    <tr>\n",
              "      <th>3</th>\n",
              "      <td>3</td>\n",
              "      <td>7</td>\n",
              "      <td>8</td>\n",
              "      <td>[mentally, lonely, solve]</td>\n",
              "      <td>[find, remainder, mathmath, divided]</td>\n",
              "      <td>0</td>\n",
              "      <td>11</td>\n",
              "      <td>9</td>\n",
              "    </tr>\n",
              "    <tr>\n",
              "      <th>4</th>\n",
              "      <td>4</td>\n",
              "      <td>9</td>\n",
              "      <td>10</td>\n",
              "      <td>[one, dissolve, water, quikly, sugar, salt, methane, carbon, oxide]</td>\n",
              "      <td>[fish, survive, salt, water]</td>\n",
              "      <td>0</td>\n",
              "      <td>13</td>\n",
              "      <td>7</td>\n",
              "    </tr>\n",
              "  </tbody>\n",
              "</table>\n",
              "</div>"
            ],
            "text/plain": [
              "  id qid1 qid2  ... label count1 count2\n",
              "0  0    1    2  ...     0     14     12\n",
              "1  1    3    4  ...     0      8     13\n",
              "2  2    5    6  ...     0     14     10\n",
              "3  3    7    8  ...     0     11      9\n",
              "4  4    9   10  ...     0     13      7\n",
              "\n",
              "[5 rows x 8 columns]"
            ]
          },
          "metadata": {
            "tags": []
          },
          "execution_count": 71
        }
      ]
    },
    {
      "cell_type": "code",
      "metadata": {
        "id": "N1Vy2qa1TDrH",
        "colab_type": "code",
        "colab": {}
      },
      "source": [
        "\n",
        "\n",
        " "
      ],
      "execution_count": 0,
      "outputs": []
    },
    {
      "cell_type": "markdown",
      "metadata": {
        "id": "P_oQxsmrTJkb",
        "colab_type": "text"
      },
      "source": [
        "## Text Normalization "
      ]
    },
    {
      "cell_type": "markdown",
      "metadata": {
        "id": "LlGEYJioTMXq",
        "colab_type": "text"
      },
      "source": [
        "**Stemming**: remove the suffices"
      ]
    },
    {
      "cell_type": "code",
      "metadata": {
        "id": "5q8D1Zj3TNqp",
        "colab_type": "code",
        "colab": {}
      },
      "source": [
        "#stem the words \n",
        "from nltk.stem import SnowballStemmer\n",
        "st = SnowballStemmer(\"english\")\n",
        "df_clean['question1'] = df_clean['question1'].apply(lambda x: \" \".join([st.stem(word) for word in x]))\n",
        "df_clean['question2'] = df_clean['question2'].apply(lambda x: \" \".join([st.stem(word) for word in x]))"
      ],
      "execution_count": 0,
      "outputs": []
    },
    {
      "cell_type": "code",
      "metadata": {
        "id": "oAHprkjt1uy0",
        "colab_type": "code",
        "colab": {}
      },
      "source": [
        "#remove invalid questions \n",
        "for index in invalid_questions:\n",
        "    df_clean = df_clean[df_clean.id != index]\n",
        "    question1.pop(index)\n",
        "    question2.pop(index)"
      ],
      "execution_count": 0,
      "outputs": []
    },
    {
      "cell_type": "code",
      "metadata": {
        "id": "0Pljp8pNy7gJ",
        "colab_type": "code",
        "outputId": "52d2066c-9379-4b5e-9ca0-5ca0d261b19e",
        "colab": {
          "base_uri": "https://localhost:8080/",
          "height": 204
        }
      },
      "source": [
        "df_clean.tail()"
      ],
      "execution_count": 74,
      "outputs": [
        {
          "output_type": "execute_result",
          "data": {
            "text/html": [
              "<div>\n",
              "<style scoped>\n",
              "    .dataframe tbody tr th:only-of-type {\n",
              "        vertical-align: middle;\n",
              "    }\n",
              "\n",
              "    .dataframe tbody tr th {\n",
              "        vertical-align: top;\n",
              "    }\n",
              "\n",
              "    .dataframe thead th {\n",
              "        text-align: right;\n",
              "    }\n",
              "</style>\n",
              "<table border=\"1\" class=\"dataframe\">\n",
              "  <thead>\n",
              "    <tr style=\"text-align: right;\">\n",
              "      <th></th>\n",
              "      <th>id</th>\n",
              "      <th>qid1</th>\n",
              "      <th>qid2</th>\n",
              "      <th>question1</th>\n",
              "      <th>question2</th>\n",
              "      <th>label</th>\n",
              "      <th>count1</th>\n",
              "      <th>count2</th>\n",
              "    </tr>\n",
              "  </thead>\n",
              "  <tbody>\n",
              "    <tr>\n",
              "      <th>404282</th>\n",
              "      <td>404285</td>\n",
              "      <td>433578</td>\n",
              "      <td>379845</td>\n",
              "      <td>mani keyword racket program languag latest version</td>\n",
              "      <td>mani keyword perl program languag latest version</td>\n",
              "      <td>0</td>\n",
              "      <td>14</td>\n",
              "      <td>13</td>\n",
              "    </tr>\n",
              "    <tr>\n",
              "      <th>404283</th>\n",
              "      <td>404286</td>\n",
              "      <td>18840</td>\n",
              "      <td>155606</td>\n",
              "      <td>believ life death</td>\n",
              "      <td>true life death</td>\n",
              "      <td>1</td>\n",
              "      <td>8</td>\n",
              "      <td>9</td>\n",
              "    </tr>\n",
              "    <tr>\n",
              "      <th>404284</th>\n",
              "      <td>404287</td>\n",
              "      <td>537928</td>\n",
              "      <td>537929</td>\n",
              "      <td>one coin</td>\n",
              "      <td>coin</td>\n",
              "      <td>0</td>\n",
              "      <td>4</td>\n",
              "      <td>3</td>\n",
              "    </tr>\n",
              "    <tr>\n",
              "      <th>404285</th>\n",
              "      <td>404288</td>\n",
              "      <td>537930</td>\n",
              "      <td>537931</td>\n",
              "      <td>approx annual cost live studi uic chicago indian student</td>\n",
              "      <td>littl hairfal problem want use hair style product one prefer gel wax clay</td>\n",
              "      <td>0</td>\n",
              "      <td>17</td>\n",
              "      <td>25</td>\n",
              "    </tr>\n",
              "    <tr>\n",
              "      <th>404286</th>\n",
              "      <td>404289</td>\n",
              "      <td>537932</td>\n",
              "      <td>537933</td>\n",
              "      <td>sex cousin</td>\n",
              "      <td>sex cousin</td>\n",
              "      <td>0</td>\n",
              "      <td>8</td>\n",
              "      <td>10</td>\n",
              "    </tr>\n",
              "  </tbody>\n",
              "</table>\n",
              "</div>"
            ],
            "text/plain": [
              "            id    qid1    qid2  ... label count1 count2\n",
              "404282  404285  433578  379845  ...     0     14     13\n",
              "404283  404286   18840  155606  ...     1      8      9\n",
              "404284  404287  537928  537929  ...     0      4      3\n",
              "404285  404288  537930  537931  ...     0     17     25\n",
              "404286  404289  537932  537933  ...     0      8     10\n",
              "\n",
              "[5 rows x 8 columns]"
            ]
          },
          "metadata": {
            "tags": []
          },
          "execution_count": 74
        }
      ]
    },
    {
      "cell_type": "markdown",
      "metadata": {
        "id": "Stm9rqURnK61",
        "colab_type": "text"
      },
      "source": [
        ""
      ]
    },
    {
      "cell_type": "markdown",
      "metadata": {
        "id": "n_qHueFeTUij",
        "colab_type": "text"
      },
      "source": [
        "**TF-IDF** <br />\n",
        "**\"term frequency\" which is the number of times a word appears in a document** <br>\n",
        "**TF = (Frequency of the word in the sentence) / (Total number of words in the sentence)** <br>\n",
        "**IDF: (Total number of sentences (documents))/(Number of sentences (documents) containing the word)**"
      ]
    },
    {
      "cell_type": "code",
      "metadata": {
        "id": "p7Ky36UiyHx1",
        "colab_type": "code",
        "colab": {}
      },
      "source": [
        "#encode questions to unicode \n",
        "df['question1'] = df['question1'].apply(lambda x: str(x))\n",
        "df['question2'] = df['question2'].apply(lambda x: str(x))"
      ],
      "execution_count": 0,
      "outputs": []
    },
    {
      "cell_type": "code",
      "metadata": {
        "id": "dQXjXH78TlMy",
        "colab_type": "code",
        "colab": {}
      },
      "source": [
        "#convert the text to list \n",
        "question1 = list(df_clean['question1'])\n",
        "question2 = list(df_clean['question2'])\n",
        "questions = question1 + question2 "
      ],
      "execution_count": 0,
      "outputs": []
    },
    {
      "cell_type": "code",
      "metadata": {
        "id": "BoUo4TgmriKj",
        "colab_type": "code",
        "colab": {}
      },
      "source": [
        "# get the number of unique words \n",
        "def unique_words(x, y):\n",
        "    unique_word_list = []\n",
        "    unique_word_cnt = []\n",
        "    for i in range(len(x)):\n",
        "        intersection_set = set.intersection(*[set(x[i]), set(y[i])]) #intersection between question1 and question2\n",
        "        union_set = set.union(*[set(x[i]), set(y[i])]) #union between question1 and question2\n",
        "        unique_words = union_set - intersection_set #unique words \n",
        "        unique_word_list.append(unique_words) #get the unique words list \n",
        "        unique_word_cnt.append(len(unique_words)) #get the link of unique words                \n",
        "    return unique_word_cnt"
      ],
      "execution_count": 0,
      "outputs": []
    },
    {
      "cell_type": "code",
      "metadata": {
        "id": "l6ruH5VOrsCK",
        "colab_type": "code",
        "outputId": "7fd70dcb-51d3-4b5f-8600-d245d07658c0",
        "colab": {
          "base_uri": "https://localhost:8080/",
          "height": 204
        }
      },
      "source": [
        " df_clean['unique_word_cnt'] = unique_words(question1, question2)\n",
        " df_clean[['question1', 'question2', 'count1', 'count2', 'unique_word_cnt', 'label']].head()"
      ],
      "execution_count": 78,
      "outputs": [
        {
          "output_type": "execute_result",
          "data": {
            "text/html": [
              "<div>\n",
              "<style scoped>\n",
              "    .dataframe tbody tr th:only-of-type {\n",
              "        vertical-align: middle;\n",
              "    }\n",
              "\n",
              "    .dataframe tbody tr th {\n",
              "        vertical-align: top;\n",
              "    }\n",
              "\n",
              "    .dataframe thead th {\n",
              "        text-align: right;\n",
              "    }\n",
              "</style>\n",
              "<table border=\"1\" class=\"dataframe\">\n",
              "  <thead>\n",
              "    <tr style=\"text-align: right;\">\n",
              "      <th></th>\n",
              "      <th>question1</th>\n",
              "      <th>question2</th>\n",
              "      <th>count1</th>\n",
              "      <th>count2</th>\n",
              "      <th>unique_word_cnt</th>\n",
              "      <th>label</th>\n",
              "    </tr>\n",
              "  </thead>\n",
              "  <tbody>\n",
              "    <tr>\n",
              "      <th>0</th>\n",
              "      <td>step step guid invest share market india</td>\n",
              "      <td>step step guid invest share market</td>\n",
              "      <td>14</td>\n",
              "      <td>12</td>\n",
              "      <td>0</td>\n",
              "      <td>0</td>\n",
              "    </tr>\n",
              "    <tr>\n",
              "      <th>1</th>\n",
              "      <td>stori kohinoor kohnoor diamond</td>\n",
              "      <td>happen indian govern stole kohinoor kohnoor diamond back</td>\n",
              "      <td>8</td>\n",
              "      <td>13</td>\n",
              "      <td>7</td>\n",
              "      <td>0</td>\n",
              "    </tr>\n",
              "    <tr>\n",
              "      <th>2</th>\n",
              "      <td>increas speed internet connect use vpn</td>\n",
              "      <td>internet speed increas hack dns</td>\n",
              "      <td>14</td>\n",
              "      <td>10</td>\n",
              "      <td>5</td>\n",
              "      <td>0</td>\n",
              "    </tr>\n",
              "    <tr>\n",
              "      <th>3</th>\n",
              "      <td>mental lone solv</td>\n",
              "      <td>find remaind mathmath divid</td>\n",
              "      <td>11</td>\n",
              "      <td>9</td>\n",
              "      <td>8</td>\n",
              "      <td>0</td>\n",
              "    </tr>\n",
              "    <tr>\n",
              "      <th>4</th>\n",
              "      <td>one dissolv water quik sugar salt methan carbon oxid</td>\n",
              "      <td>fish surviv salt water</td>\n",
              "      <td>13</td>\n",
              "      <td>7</td>\n",
              "      <td>11</td>\n",
              "      <td>0</td>\n",
              "    </tr>\n",
              "  </tbody>\n",
              "</table>\n",
              "</div>"
            ],
            "text/plain": [
              "                                              question1  ... label\n",
              "0              step step guid invest share market india  ...     0\n",
              "1                        stori kohinoor kohnoor diamond  ...     0\n",
              "2                increas speed internet connect use vpn  ...     0\n",
              "3                                      mental lone solv  ...     0\n",
              "4  one dissolv water quik sugar salt methan carbon oxid  ...     0\n",
              "\n",
              "[5 rows x 6 columns]"
            ]
          },
          "metadata": {
            "tags": []
          },
          "execution_count": 78
        }
      ]
    },
    {
      "cell_type": "code",
      "metadata": {
        "id": "JX5_Fd2F70iH",
        "colab_type": "code",
        "colab": {}
      },
      "source": [
        "#get the number of common words \n",
        "def common_words(x, y):\n",
        "    common_words = []\n",
        "    for i in range(len(x)):\n",
        "        common_ratio = difflib.SequenceMatcher(None, x[i], y[i]).ratio()\n",
        "        common_words.append(common_ratio)\n",
        "    return common_words\n",
        "\n",
        "df_clean['common_words'] = common_words(question1, question2)"
      ],
      "execution_count": 0,
      "outputs": []
    },
    {
      "cell_type": "code",
      "metadata": {
        "id": "1hN4vZCGUD0Y",
        "colab_type": "code",
        "colab": {}
      },
      "source": [
        "#word vectorizer \n",
        "tfidf_vectors = TfidfVectorizer(stop_words='english', min_df=10, max_df = 0.5,  sublinear_tf= True,  ngram_range=(1, 1))"
      ],
      "execution_count": 0,
      "outputs": []
    },
    {
      "cell_type": "code",
      "metadata": {
        "id": "zybWitpHUIqD",
        "colab_type": "code",
        "outputId": "5decc9bf-f5f5-4d82-9411-0b90ea0ac747",
        "colab": {
          "base_uri": "https://localhost:8080/",
          "height": 136
        }
      },
      "source": [
        "tfidf_vectors "
      ],
      "execution_count": 81,
      "outputs": [
        {
          "output_type": "execute_result",
          "data": {
            "text/plain": [
              "TfidfVectorizer(analyzer='word', binary=False, decode_error='strict',\n",
              "                dtype=<class 'numpy.float64'>, encoding='utf-8',\n",
              "                input='content', lowercase=True, max_df=0.5, max_features=None,\n",
              "                min_df=10, ngram_range=(1, 1), norm='l2', preprocessor=None,\n",
              "                smooth_idf=True, stop_words='english', strip_accents=None,\n",
              "                sublinear_tf=True, token_pattern='(?u)\\\\b\\\\w\\\\w+\\\\b',\n",
              "                tokenizer=None, use_idf=True, vocabulary=None)"
            ]
          },
          "metadata": {
            "tags": []
          },
          "execution_count": 81
        }
      ]
    },
    {
      "cell_type": "code",
      "metadata": {
        "id": "qmuRrOsg3TqV",
        "colab_type": "code",
        "colab": {}
      },
      "source": [
        "#create sparse matrix \n",
        "tfidf_matrix = tfidf_vectors.fit_transform(questions)\n"
      ],
      "execution_count": 0,
      "outputs": []
    },
    {
      "cell_type": "code",
      "metadata": {
        "colab_type": "code",
        "id": "kGOk8sBa__aw",
        "colab": {}
      },
      "source": [
        "# get features names \n",
        "from sklearn.feature_extraction.text import CountVectorizer\n",
        "from sklearn.feature_extraction.text import TfidfVectorizer\n",
        "feature_names = tfidf_vectors.get_feature_names()"
      ],
      "execution_count": 0,
      "outputs": []
    },
    {
      "cell_type": "code",
      "metadata": {
        "id": "pbr-sUzMSLcp",
        "colab_type": "code",
        "colab": {}
      },
      "source": [
        ""
      ],
      "execution_count": 0,
      "outputs": []
    },
    {
      "cell_type": "code",
      "metadata": {
        "id": "aXCO2AFLSaJ4",
        "colab_type": "code",
        "outputId": "b62247fe-b452-400d-a996-7c278357600c",
        "colab": {
          "base_uri": "https://localhost:8080/",
          "height": 204
        }
      },
      "source": [
        "\n",
        "df_clean.head()"
      ],
      "execution_count": 84,
      "outputs": [
        {
          "output_type": "execute_result",
          "data": {
            "text/html": [
              "<div>\n",
              "<style scoped>\n",
              "    .dataframe tbody tr th:only-of-type {\n",
              "        vertical-align: middle;\n",
              "    }\n",
              "\n",
              "    .dataframe tbody tr th {\n",
              "        vertical-align: top;\n",
              "    }\n",
              "\n",
              "    .dataframe thead th {\n",
              "        text-align: right;\n",
              "    }\n",
              "</style>\n",
              "<table border=\"1\" class=\"dataframe\">\n",
              "  <thead>\n",
              "    <tr style=\"text-align: right;\">\n",
              "      <th></th>\n",
              "      <th>id</th>\n",
              "      <th>qid1</th>\n",
              "      <th>qid2</th>\n",
              "      <th>question1</th>\n",
              "      <th>question2</th>\n",
              "      <th>label</th>\n",
              "      <th>count1</th>\n",
              "      <th>count2</th>\n",
              "      <th>unique_word_cnt</th>\n",
              "      <th>common_words</th>\n",
              "    </tr>\n",
              "  </thead>\n",
              "  <tbody>\n",
              "    <tr>\n",
              "      <th>0</th>\n",
              "      <td>0</td>\n",
              "      <td>1</td>\n",
              "      <td>2</td>\n",
              "      <td>step step guid invest share market india</td>\n",
              "      <td>step step guid invest share market</td>\n",
              "      <td>0</td>\n",
              "      <td>14</td>\n",
              "      <td>12</td>\n",
              "      <td>0</td>\n",
              "      <td>0.918919</td>\n",
              "    </tr>\n",
              "    <tr>\n",
              "      <th>1</th>\n",
              "      <td>1</td>\n",
              "      <td>3</td>\n",
              "      <td>4</td>\n",
              "      <td>stori kohinoor kohnoor diamond</td>\n",
              "      <td>happen indian govern stole kohinoor kohnoor diamond back</td>\n",
              "      <td>0</td>\n",
              "      <td>8</td>\n",
              "      <td>13</td>\n",
              "      <td>7</td>\n",
              "      <td>0.651163</td>\n",
              "    </tr>\n",
              "    <tr>\n",
              "      <th>2</th>\n",
              "      <td>2</td>\n",
              "      <td>5</td>\n",
              "      <td>6</td>\n",
              "      <td>increas speed internet connect use vpn</td>\n",
              "      <td>internet speed increas hack dns</td>\n",
              "      <td>0</td>\n",
              "      <td>14</td>\n",
              "      <td>10</td>\n",
              "      <td>5</td>\n",
              "      <td>0.463768</td>\n",
              "    </tr>\n",
              "    <tr>\n",
              "      <th>3</th>\n",
              "      <td>3</td>\n",
              "      <td>7</td>\n",
              "      <td>8</td>\n",
              "      <td>mental lone solv</td>\n",
              "      <td>find remaind mathmath divid</td>\n",
              "      <td>0</td>\n",
              "      <td>11</td>\n",
              "      <td>9</td>\n",
              "      <td>8</td>\n",
              "      <td>0.279070</td>\n",
              "    </tr>\n",
              "    <tr>\n",
              "      <th>4</th>\n",
              "      <td>4</td>\n",
              "      <td>9</td>\n",
              "      <td>10</td>\n",
              "      <td>one dissolv water quik sugar salt methan carbon oxid</td>\n",
              "      <td>fish surviv salt water</td>\n",
              "      <td>0</td>\n",
              "      <td>13</td>\n",
              "      <td>7</td>\n",
              "      <td>11</td>\n",
              "      <td>0.270270</td>\n",
              "    </tr>\n",
              "  </tbody>\n",
              "</table>\n",
              "</div>"
            ],
            "text/plain": [
              "  id qid1 qid2  ... count2 unique_word_cnt common_words\n",
              "0  0    1    2  ...     12               0     0.918919\n",
              "1  1    3    4  ...     13               7     0.651163\n",
              "2  2    5    6  ...     10               5     0.463768\n",
              "3  3    7    8  ...      9               8     0.279070\n",
              "4  4    9   10  ...      7              11     0.270270\n",
              "\n",
              "[5 rows x 10 columns]"
            ]
          },
          "metadata": {
            "tags": []
          },
          "execution_count": 84
        }
      ]
    },
    {
      "cell_type": "markdown",
      "metadata": {
        "id": "gUcXZWvgrVXH",
        "colab_type": "text"
      },
      "source": [
        "## Word Embedding"
      ]
    },
    {
      "cell_type": "markdown",
      "metadata": {
        "id": "Io2yYeitajMp",
        "colab_type": "text"
      },
      "source": [
        "**en_core_web_md**\n"
      ]
    },
    {
      "cell_type": "code",
      "metadata": {
        "id": "hYuhLCHE5ihq",
        "colab_type": "code",
        "outputId": "2bd7e70d-834b-460d-b59b-3716c1beb712",
        "colab": {
          "base_uri": "https://localhost:8080/",
          "height": 51
        }
      },
      "source": [
        "#install spacy model en_core_web_md\n",
        "import spacy.cli\n",
        "spacy.cli.download(\"en_core_web_md\")"
      ],
      "execution_count": 85,
      "outputs": [
        {
          "output_type": "stream",
          "text": [
            "\u001b[38;5;2m✔ Download and installation successful\u001b[0m\n",
            "You can now load the model via spacy.load('en_core_web_md')\n"
          ],
          "name": "stdout"
        }
      ]
    },
    {
      "cell_type": "code",
      "metadata": {
        "id": "ql6WlNWb_T11",
        "colab_type": "code",
        "outputId": "b92333d2-243d-47ec-8993-eae4a98fae4b",
        "colab": {
          "base_uri": "https://localhost:8080/",
          "height": 34
        }
      },
      "source": [
        "#load en_core_web_lg\n",
        "import spacy \n",
        "nlp = spacy.load(\"en_core_web_md\")   \n",
        "total_vectors = len(nlp.vocab.vectors)\n",
        "print('Total word vectors:', total_vectors)"
      ],
      "execution_count": 86,
      "outputs": [
        {
          "output_type": "stream",
          "text": [
            "Total word vectors: 20000\n"
          ],
          "name": "stdout"
        }
      ]
    },
    {
      "cell_type": "code",
      "metadata": {
        "id": "lymt1Yv4bGP7",
        "colab_type": "code",
        "colab": {}
      },
      "source": [
        "#build word vectors for question1 \n",
        "word_vecs1 = [doc.vector for doc in nlp.pipe(df['question1'], n_threads = 50)] #this will give the document vector \n",
        "word_vecs1 = np.array(word_vecs1)"
      ],
      "execution_count": 0,
      "outputs": []
    },
    {
      "cell_type": "code",
      "metadata": {
        "id": "sdZqKHNXbGTE",
        "colab_type": "code",
        "colab": {}
      },
      "source": [
        " #build word vectors for question2 \n",
        "word_vecs2 = [doc.vector for doc in nlp.pipe(df['question2'], n_threads = 50)] #this will give the document vector \n",
        "word_vecs2 = np.array(word_vecs2)\n"
      ],
      "execution_count": 0,
      "outputs": []
    },
    {
      "cell_type": "code",
      "metadata": {
        "id": "EueIpAqScaTg",
        "colab_type": "code",
        "colab": {}
      },
      "source": [
        ""
      ],
      "execution_count": 0,
      "outputs": []
    },
    {
      "cell_type": "code",
      "metadata": {
        "id": "EqbEJMB0zp39",
        "colab_type": "code",
        "outputId": "6280eef9-5af1-4ec3-c9ac-2c0470433e87",
        "colab": {
          "base_uri": "https://localhost:8080/",
          "height": 34
        }
      },
      "source": [
        "word_vecs1.shape"
      ],
      "execution_count": 89,
      "outputs": [
        {
          "output_type": "execute_result",
          "data": {
            "text/plain": [
              "(403285, 300)"
            ]
          },
          "metadata": {
            "tags": []
          },
          "execution_count": 89
        }
      ]
    },
    {
      "cell_type": "markdown",
      "metadata": {
        "id": "COlsvzAfvlVJ",
        "colab_type": "text"
      },
      "source": [
        "## Dimensionality Reduction"
      ]
    },
    {
      "cell_type": "markdown",
      "metadata": {
        "id": "CVt684Yu15A4",
        "colab_type": "text"
      },
      "source": [
        "**PCA** <br />\n",
        "Unsupervise linear dimensionality reduction technique that takes large data dimension and returns lower data dimension by using clustering. it keeps the components with high variance which means we won't lose valuable features. principal component is the output of converting correlated variables to uncorrelated variables. This will also speed up the machine learning algorithm."
      ]
    },
    {
      "cell_type": "code",
      "metadata": {
        "id": "dDlDWghs-134",
        "colab_type": "code",
        "colab": {}
      },
      "source": [
        "#PCA\n",
        "from sklearn.decomposition import PCA\n"
      ],
      "execution_count": 0,
      "outputs": []
    },
    {
      "cell_type": "code",
      "metadata": {
        "id": "_0YEwZg1ElUX",
        "colab_type": "code",
        "outputId": "6655a19f-2672-4084-fedb-41c0aaf24a2b",
        "colab": {
          "base_uri": "https://localhost:8080/",
          "height": 386
        }
      },
      "source": [
        "#apply PCA and check the variance \n",
        "#the optimal number of components \n",
        "n_comp = [50, 100, 150, 170, 180]\n",
        "explained = [] \n",
        "for x in n_comp:\n",
        "    pca = PCA(n_components=x)\n",
        "    pca.fit(word_vecs1)\n",
        "    explained.append(pca.explained_variance_ratio_.sum())\n",
        "    print(\"Number of components = %r and explained variance = %r\"%(x,pca.explained_variance_ratio_.sum()))\n",
        "plt.plot(n_comp, explained)\n",
        "plt.xlabel('Number of components')\n",
        "plt.ylabel(\"Explained Variance\")\n",
        "plt.title(\"Plot of Number of components v/s explained variance\")\n",
        "plt.show()"
      ],
      "execution_count": 91,
      "outputs": [
        {
          "output_type": "stream",
          "text": [
            "Number of components = 50 and explained variance = 0.7123203133445924\n",
            "Number of components = 100 and explained variance = 0.8386462160717931\n",
            "Number of components = 150 and explained variance = 0.9094021240336004\n",
            "Number of components = 170 and explained variance = 0.9298971445890261\n",
            "Number of components = 180 and explained variance = 0.9391287179334604\n"
          ],
          "name": "stdout"
        },
        {
          "output_type": "display_data",
          "data": {
            "image/png": "[encoded data removed]",
            "text/plain": [
              "<Figure size 432x288 with 1 Axes>"
            ]
          },
          "metadata": {
            "tags": []
          }
        }
      ]
    },
    {
      "cell_type": "code",
      "metadata": {
        "id": "t2JqrSf9EQW_",
        "colab_type": "code",
        "colab": {}
      },
      "source": [
        "pca = PCA(n_components=180)\n",
        "pca1 = pca.fit_transform(word_vecs1)"
      ],
      "execution_count": 0,
      "outputs": []
    },
    {
      "cell_type": "code",
      "metadata": {
        "id": "hIUw0n4aEMP-",
        "colab_type": "code",
        "outputId": "09c5d9f0-ab9b-41ed-9cce-c1582b6da8dd",
        "colab": {
          "base_uri": "https://localhost:8080/",
          "height": 34
        }
      },
      "source": [
        "pca1.shape"
      ],
      "execution_count": 93,
      "outputs": [
        {
          "output_type": "execute_result",
          "data": {
            "text/plain": [
              "(403285, 180)"
            ]
          },
          "metadata": {
            "tags": []
          },
          "execution_count": 93
        }
      ]
    },
    {
      "cell_type": "code",
      "metadata": {
        "id": "S65bhyM7HH0K",
        "colab_type": "code",
        "outputId": "a69b8d22-c6d1-46dd-9b91-10ff6ed88ec4",
        "colab": {
          "base_uri": "https://localhost:8080/",
          "height": 369
        }
      },
      "source": [
        "#apply PCA and check the variance \n",
        "#the optimal number of components \n",
        "n_comp = [50, 100, 150, 170] # list containing different values of components\n",
        "explained = [] # explained variance ratio for each component of Truncated SVD\n",
        "for x in n_comp:\n",
        "    pca = PCA(n_components=x)\n",
        "    pca.fit(word_vecs1)\n",
        "    explained.append(pca.explained_variance_ratio_.sum())\n",
        "    print(\"Number of components = %r and explained variance = %r\"%(x,pca.explained_variance_ratio_.sum()))\n",
        "plt.plot(n_comp, explained)\n",
        "plt.xlabel('Number of components')\n",
        "plt.ylabel(\"Explained Variance\")\n",
        "plt.title(\"Plot of Number of components v/s explained variance\")\n",
        "plt.show()"
      ],
      "execution_count": 94,
      "outputs": [
        {
          "output_type": "stream",
          "text": [
            "Number of components = 50 and explained variance = 0.7125147740291343\n",
            "Number of components = 100 and explained variance = 0.8384166816104727\n",
            "Number of components = 150 and explained variance = 0.9092697730370092\n",
            "Number of components = 170 and explained variance = 0.9299244216298457\n"
          ],
          "name": "stdout"
        },
        {
          "output_type": "display_data",
          "data": {
            "image/png": "[encoded data removed]",
            "text/plain": [
              "<Figure size 432x288 with 1 Axes>"
            ]
          },
          "metadata": {
            "tags": []
          }
        }
      ]
    },
    {
      "cell_type": "code",
      "metadata": {
        "id": "2SCt5a6AGqgJ",
        "colab_type": "code",
        "colab": {}
      },
      "source": [
        "pca = PCA(n_components=180)\n",
        "pca2 = pca.fit_transform(word_vecs2)"
      ],
      "execution_count": 0,
      "outputs": []
    },
    {
      "cell_type": "code",
      "metadata": {
        "id": "8NPTqHa9GqnY",
        "colab_type": "code",
        "outputId": "ec95409c-138b-4d12-ec08-85283ce886f9",
        "colab": {
          "base_uri": "https://localhost:8080/",
          "height": 34
        }
      },
      "source": [
        "pca2.shape"
      ],
      "execution_count": 96,
      "outputs": [
        {
          "output_type": "execute_result",
          "data": {
            "text/plain": [
              "(403285, 180)"
            ]
          },
          "metadata": {
            "tags": []
          },
          "execution_count": 96
        }
      ]
    },
    {
      "cell_type": "code",
      "metadata": {
        "id": "3l29HpMtG9HV",
        "colab_type": "code",
        "outputId": "af0dc272-e7e1-4845-c60e-e49fca54d2ad",
        "colab": {
          "base_uri": "https://localhost:8080/",
          "height": 34
        }
      },
      "source": [
        "len(pca1)"
      ],
      "execution_count": 97,
      "outputs": [
        {
          "output_type": "execute_result",
          "data": {
            "text/plain": [
              "403285"
            ]
          },
          "metadata": {
            "tags": []
          },
          "execution_count": 97
        }
      ]
    },
    {
      "cell_type": "code",
      "metadata": {
        "id": "X6EfvToQG42p",
        "colab_type": "code",
        "colab": {}
      },
      "source": [
        ""
      ],
      "execution_count": 0,
      "outputs": []
    },
    {
      "cell_type": "code",
      "metadata": {
        "id": "B5HhkoJMOlIJ",
        "colab_type": "code",
        "colab": {}
      },
      "source": [
        ""
      ],
      "execution_count": 0,
      "outputs": []
    },
    {
      "cell_type": "markdown",
      "metadata": {
        "id": "SYhd6RFqOlpQ",
        "colab_type": "text"
      },
      "source": [
        "## Feature Extraction"
      ]
    },
    {
      "cell_type": "markdown",
      "metadata": {
        "id": "JqXX7wahzPdP",
        "colab_type": "text"
      },
      "source": [
        "**Cosine Similarity** <br /> \n",
        "Cosine similarity is a metric to measure how similar documents are regardless of their length. it measures the cosine of the angle between two vectors by\n",
        "looking at their directions (or orientations) without caring about their length "
      ]
    },
    {
      "cell_type": "code",
      "metadata": {
        "colab_type": "code",
        "id": "Ey7ku4-vuTb6",
        "colab": {}
      },
      "source": [
        "tfidf_matrix1 = tfidf_matrix[:403285]"
      ],
      "execution_count": 0,
      "outputs": []
    },
    {
      "cell_type": "code",
      "metadata": {
        "id": "570Or6DivnJ5",
        "colab_type": "code",
        "colab": {}
      },
      "source": [
        "tfidf_matrix2 = tfidf_matrix[403285:]"
      ],
      "execution_count": 0,
      "outputs": []
    },
    {
      "cell_type": "code",
      "metadata": {
        "colab_type": "code",
        "id": "n9X5ymfeuSum",
        "colab": {}
      },
      "source": [
        "from sklearn.metrics.pairwise import cosine_similarity\n",
        "cosine_sim = []\n",
        "for i in range(403285):\n",
        "  tfidf_q1 = tfidf_matrix1[i]\n",
        "  tfidf_q2 = tfidf_matrix2[i]\n",
        "  cosine_sim.append(cosine_similarity(tfidf_q1, tfidf_q2)[0][0])"
      ],
      "execution_count": 0,
      "outputs": []
    },
    {
      "cell_type": "code",
      "metadata": {
        "colab_type": "code",
        "id": "_BWcR-_HuSJS",
        "outputId": "267961d7-fb50-4911-f635-ebbcd0a81dfc",
        "colab": {
          "base_uri": "https://localhost:8080/",
          "height": 34
        }
      },
      "source": [
        "len(cosine_sim)"
      ],
      "execution_count": 101,
      "outputs": [
        {
          "output_type": "execute_result",
          "data": {
            "text/plain": [
              "403285"
            ]
          },
          "metadata": {
            "tags": []
          },
          "execution_count": 101
        }
      ]
    },
    {
      "cell_type": "code",
      "metadata": {
        "id": "khYyh2UU1OoJ",
        "colab_type": "code",
        "colab": {}
      },
      "source": [
        "df_clean['cosine_sim_tfidf'] = cosine_sim[0: len(cosine_sim)]\n"
      ],
      "execution_count": 0,
      "outputs": []
    },
    {
      "cell_type": "code",
      "metadata": {
        "id": "3fYVzi0Qy9AJ",
        "colab_type": "code",
        "outputId": "68fea015-2f75-444f-e1a5-4b75e2f33450",
        "colab": {
          "base_uri": "https://localhost:8080/",
          "height": 204
        }
      },
      "source": [
        "df_clean.tail()"
      ],
      "execution_count": 103,
      "outputs": [
        {
          "output_type": "execute_result",
          "data": {
            "text/html": [
              "<div>\n",
              "<style scoped>\n",
              "    .dataframe tbody tr th:only-of-type {\n",
              "        vertical-align: middle;\n",
              "    }\n",
              "\n",
              "    .dataframe tbody tr th {\n",
              "        vertical-align: top;\n",
              "    }\n",
              "\n",
              "    .dataframe thead th {\n",
              "        text-align: right;\n",
              "    }\n",
              "</style>\n",
              "<table border=\"1\" class=\"dataframe\">\n",
              "  <thead>\n",
              "    <tr style=\"text-align: right;\">\n",
              "      <th></th>\n",
              "      <th>id</th>\n",
              "      <th>qid1</th>\n",
              "      <th>qid2</th>\n",
              "      <th>question1</th>\n",
              "      <th>question2</th>\n",
              "      <th>label</th>\n",
              "      <th>count1</th>\n",
              "      <th>count2</th>\n",
              "      <th>unique_word_cnt</th>\n",
              "      <th>common_words</th>\n",
              "      <th>cosine_sim_tfidf</th>\n",
              "    </tr>\n",
              "  </thead>\n",
              "  <tbody>\n",
              "    <tr>\n",
              "      <th>404282</th>\n",
              "      <td>404285</td>\n",
              "      <td>433578</td>\n",
              "      <td>379845</td>\n",
              "      <td>mani keyword racket program languag latest version</td>\n",
              "      <td>mani keyword perl program languag latest version</td>\n",
              "      <td>0</td>\n",
              "      <td>14</td>\n",
              "      <td>13</td>\n",
              "      <td>1</td>\n",
              "      <td>0.918367</td>\n",
              "      <td>0.705006</td>\n",
              "    </tr>\n",
              "    <tr>\n",
              "      <th>404283</th>\n",
              "      <td>404286</td>\n",
              "      <td>18840</td>\n",
              "      <td>155606</td>\n",
              "      <td>believ life death</td>\n",
              "      <td>true life death</td>\n",
              "      <td>1</td>\n",
              "      <td>8</td>\n",
              "      <td>9</td>\n",
              "      <td>4</td>\n",
              "      <td>0.750000</td>\n",
              "      <td>0.636499</td>\n",
              "    </tr>\n",
              "    <tr>\n",
              "      <th>404284</th>\n",
              "      <td>404287</td>\n",
              "      <td>537928</td>\n",
              "      <td>537929</td>\n",
              "      <td>one coin</td>\n",
              "      <td>coin</td>\n",
              "      <td>0</td>\n",
              "      <td>4</td>\n",
              "      <td>3</td>\n",
              "      <td>2</td>\n",
              "      <td>0.666667</td>\n",
              "      <td>1.000000</td>\n",
              "    </tr>\n",
              "    <tr>\n",
              "      <th>404285</th>\n",
              "      <td>404288</td>\n",
              "      <td>537930</td>\n",
              "      <td>537931</td>\n",
              "      <td>approx annual cost live studi uic chicago indian student</td>\n",
              "      <td>littl hairfal problem want use hair style product one prefer gel wax clay</td>\n",
              "      <td>0</td>\n",
              "      <td>17</td>\n",
              "      <td>25</td>\n",
              "      <td>6</td>\n",
              "      <td>0.279070</td>\n",
              "      <td>0.000000</td>\n",
              "    </tr>\n",
              "    <tr>\n",
              "      <th>404286</th>\n",
              "      <td>404289</td>\n",
              "      <td>537932</td>\n",
              "      <td>537933</td>\n",
              "      <td>sex cousin</td>\n",
              "      <td>sex cousin</td>\n",
              "      <td>0</td>\n",
              "      <td>8</td>\n",
              "      <td>10</td>\n",
              "      <td>0</td>\n",
              "      <td>1.000000</td>\n",
              "      <td>1.000000</td>\n",
              "    </tr>\n",
              "  </tbody>\n",
              "</table>\n",
              "</div>"
            ],
            "text/plain": [
              "            id    qid1    qid2  ... unique_word_cnt common_words cosine_sim_tfidf\n",
              "404282  404285  433578  379845  ...               1     0.918367         0.705006\n",
              "404283  404286   18840  155606  ...               4     0.750000         0.636499\n",
              "404284  404287  537928  537929  ...               2     0.666667         1.000000\n",
              "404285  404288  537930  537931  ...               6     0.279070         0.000000\n",
              "404286  404289  537932  537933  ...               0     1.000000         1.000000\n",
              "\n",
              "[5 rows x 11 columns]"
            ]
          },
          "metadata": {
            "tags": []
          },
          "execution_count": 103
        }
      ]
    },
    {
      "cell_type": "code",
      "metadata": {
        "id": "GSCZH0HlS_Vb",
        "colab_type": "code",
        "colab": {}
      },
      "source": [
        ""
      ],
      "execution_count": 0,
      "outputs": []
    },
    {
      "cell_type": "markdown",
      "metadata": {
        "id": "tnkHMi5ZTADL",
        "colab_type": "text"
      },
      "source": [
        "**Euclidean Distance**\n"
      ]
    },
    {
      "cell_type": "code",
      "metadata": {
        "id": "W8Q-UirmTM-c",
        "colab_type": "code",
        "colab": {}
      },
      "source": [
        "from sklearn.metrics.pairwise import euclidean_distances"
      ],
      "execution_count": 0,
      "outputs": []
    },
    {
      "cell_type": "code",
      "metadata": {
        "id": "2YtxGkYtyYxu",
        "colab_type": "code",
        "colab": {}
      },
      "source": [
        "euc_dist = []\n",
        "for i in range(403285):\n",
        "  docvec_q1 = pca1[[i]]\n",
        "  docvec_q2 = pca2[[i]]\n",
        "  euc_dist.append(euclidean_distances(docvec_q1, docvec_q2))"
      ],
      "execution_count": 0,
      "outputs": []
    },
    {
      "cell_type": "code",
      "metadata": {
        "id": "VIC1bSNDGABD",
        "colab_type": "code",
        "outputId": "57a8a6e3-7e99-415f-e238-2d41adb6a901",
        "colab": {
          "base_uri": "https://localhost:8080/",
          "height": 187
        }
      },
      "source": [
        "euc_dist[0:10]"
      ],
      "execution_count": 106,
      "outputs": [
        {
          "output_type": "execute_result",
          "data": {
            "text/plain": [
              "[array([[1.3299066]], dtype=float32),\n",
              " array([[1.4868474]], dtype=float32),\n",
              " array([[1.6873087]], dtype=float32),\n",
              " array([[2.7604635]], dtype=float32),\n",
              " array([[2.3058217]], dtype=float32),\n",
              " array([[1.5770429]], dtype=float32),\n",
              " array([[2.8480961]], dtype=float32),\n",
              " array([[1.386074]], dtype=float32),\n",
              " array([[1.775192]], dtype=float32),\n",
              " array([[1.774564]], dtype=float32)]"
            ]
          },
          "metadata": {
            "tags": []
          },
          "execution_count": 106
        }
      ]
    },
    {
      "cell_type": "code",
      "metadata": {
        "id": "fppIV_0kHh2v",
        "colab_type": "code",
        "colab": {}
      },
      "source": [
        "#Normalized Data\n",
        "#def norm(x):\n",
        "  #normalized = (x-min(x))/(max(x)-min(x))\n",
        "  #return normalized\n",
        "\n",
        "#apply normalization on distance \n",
        "#norm_euc_dist = norm(euc_dist)\n",
        "#convert to list \n",
        "euc_dist = np.concatenate(euc_dist, axis=0 )"
      ],
      "execution_count": 0,
      "outputs": []
    },
    {
      "cell_type": "code",
      "metadata": {
        "id": "lJrE4rmWHoV9",
        "colab_type": "code",
        "colab": {}
      },
      "source": [
        "df_clean['euc_dist'] = euc_dist"
      ],
      "execution_count": 0,
      "outputs": []
    },
    {
      "cell_type": "markdown",
      "metadata": {
        "id": "pgwemtSdzVy7",
        "colab_type": "text"
      },
      "source": [
        "**Jaccard Similarity** "
      ]
    },
    {
      "cell_type": "code",
      "metadata": {
        "id": "Rjq_C-KHIEIZ",
        "colab_type": "code",
        "colab": {}
      },
      "source": [
        "#jaccard similarity \n",
        "#apply jaccard similarity on documents vectors \n",
        "def jaccard_similarity(list1, list2):\n",
        "    intersection = len(list(set(list1).intersection(list2)))\n",
        "    union = (len(list1) + len(list2)) - intersection\n",
        "    return float(intersection) / union"
      ],
      "execution_count": 0,
      "outputs": []
    },
    {
      "cell_type": "code",
      "metadata": {
        "id": "lJmCObAjG48u",
        "colab_type": "code",
        "colab": {}
      },
      "source": [
        "jaccard_sim = []\n",
        "for i in range(403285):\n",
        "  docvec_q1 = pca1[i]\n",
        "  docvec_q2 = pca2[i]\n",
        "  jaccard_sim.append(jaccard_similarity(docvec_q1, docvec_q2))"
      ],
      "execution_count": 0,
      "outputs": []
    },
    {
      "cell_type": "code",
      "metadata": {
        "id": "4tGQEnWbP8f7",
        "colab_type": "code",
        "outputId": "a51a311d-5d0e-4ea9-e285-f7988128577d",
        "colab": {
          "base_uri": "https://localhost:8080/",
          "height": 34
        }
      },
      "source": [
        "len(jaccard_sim)"
      ],
      "execution_count": 111,
      "outputs": [
        {
          "output_type": "execute_result",
          "data": {
            "text/plain": [
              "403285"
            ]
          },
          "metadata": {
            "tags": []
          },
          "execution_count": 111
        }
      ]
    },
    {
      "cell_type": "code",
      "metadata": {
        "id": "wdCGMQRJFDOL",
        "colab_type": "code",
        "colab": {}
      },
      "source": [
        "df_clean['jac_sim'] = jaccard_sim"
      ],
      "execution_count": 0,
      "outputs": []
    },
    {
      "cell_type": "code",
      "metadata": {
        "id": "nucxjRrQ4-W-",
        "colab_type": "code",
        "outputId": "166ae712-e7b9-415e-8a92-14f420056d3a",
        "colab": {
          "base_uri": "https://localhost:8080/",
          "height": 204
        }
      },
      "source": [
        "df_clean.head()"
      ],
      "execution_count": 113,
      "outputs": [
        {
          "output_type": "execute_result",
          "data": {
            "text/html": [
              "<div>\n",
              "<style scoped>\n",
              "    .dataframe tbody tr th:only-of-type {\n",
              "        vertical-align: middle;\n",
              "    }\n",
              "\n",
              "    .dataframe tbody tr th {\n",
              "        vertical-align: top;\n",
              "    }\n",
              "\n",
              "    .dataframe thead th {\n",
              "        text-align: right;\n",
              "    }\n",
              "</style>\n",
              "<table border=\"1\" class=\"dataframe\">\n",
              "  <thead>\n",
              "    <tr style=\"text-align: right;\">\n",
              "      <th></th>\n",
              "      <th>id</th>\n",
              "      <th>qid1</th>\n",
              "      <th>qid2</th>\n",
              "      <th>question1</th>\n",
              "      <th>question2</th>\n",
              "      <th>label</th>\n",
              "      <th>count1</th>\n",
              "      <th>count2</th>\n",
              "      <th>unique_word_cnt</th>\n",
              "      <th>common_words</th>\n",
              "      <th>cosine_sim_tfidf</th>\n",
              "      <th>euc_dist</th>\n",
              "      <th>jac_sim</th>\n",
              "    </tr>\n",
              "  </thead>\n",
              "  <tbody>\n",
              "    <tr>\n",
              "      <th>0</th>\n",
              "      <td>0</td>\n",
              "      <td>1</td>\n",
              "      <td>2</td>\n",
              "      <td>step step guid invest share market india</td>\n",
              "      <td>step step guid invest share market</td>\n",
              "      <td>0</td>\n",
              "      <td>14</td>\n",
              "      <td>12</td>\n",
              "      <td>0</td>\n",
              "      <td>0.918919</td>\n",
              "      <td>0.974700</td>\n",
              "      <td>1.329907</td>\n",
              "      <td>0.0</td>\n",
              "    </tr>\n",
              "    <tr>\n",
              "      <th>1</th>\n",
              "      <td>1</td>\n",
              "      <td>3</td>\n",
              "      <td>4</td>\n",
              "      <td>stori kohinoor kohnoor diamond</td>\n",
              "      <td>happen indian govern stole kohinoor kohnoor diamond back</td>\n",
              "      <td>0</td>\n",
              "      <td>8</td>\n",
              "      <td>13</td>\n",
              "      <td>7</td>\n",
              "      <td>0.651163</td>\n",
              "      <td>0.645063</td>\n",
              "      <td>1.486847</td>\n",
              "      <td>0.0</td>\n",
              "    </tr>\n",
              "    <tr>\n",
              "      <th>2</th>\n",
              "      <td>2</td>\n",
              "      <td>5</td>\n",
              "      <td>6</td>\n",
              "      <td>increas speed internet connect use vpn</td>\n",
              "      <td>internet speed increas hack dns</td>\n",
              "      <td>0</td>\n",
              "      <td>14</td>\n",
              "      <td>10</td>\n",
              "      <td>5</td>\n",
              "      <td>0.463768</td>\n",
              "      <td>0.456422</td>\n",
              "      <td>1.687309</td>\n",
              "      <td>0.0</td>\n",
              "    </tr>\n",
              "    <tr>\n",
              "      <th>3</th>\n",
              "      <td>3</td>\n",
              "      <td>7</td>\n",
              "      <td>8</td>\n",
              "      <td>mental lone solv</td>\n",
              "      <td>find remaind mathmath divid</td>\n",
              "      <td>0</td>\n",
              "      <td>11</td>\n",
              "      <td>9</td>\n",
              "      <td>8</td>\n",
              "      <td>0.279070</td>\n",
              "      <td>0.000000</td>\n",
              "      <td>2.760463</td>\n",
              "      <td>0.0</td>\n",
              "    </tr>\n",
              "    <tr>\n",
              "      <th>4</th>\n",
              "      <td>4</td>\n",
              "      <td>9</td>\n",
              "      <td>10</td>\n",
              "      <td>one dissolv water quik sugar salt methan carbon oxid</td>\n",
              "      <td>fish surviv salt water</td>\n",
              "      <td>0</td>\n",
              "      <td>13</td>\n",
              "      <td>7</td>\n",
              "      <td>11</td>\n",
              "      <td>0.270270</td>\n",
              "      <td>0.307641</td>\n",
              "      <td>2.305822</td>\n",
              "      <td>0.0</td>\n",
              "    </tr>\n",
              "  </tbody>\n",
              "</table>\n",
              "</div>"
            ],
            "text/plain": [
              "  id qid1 qid2  ... cosine_sim_tfidf  euc_dist jac_sim\n",
              "0  0    1    2  ...         0.974700  1.329907     0.0\n",
              "1  1    3    4  ...         0.645063  1.486847     0.0\n",
              "2  2    5    6  ...         0.456422  1.687309     0.0\n",
              "3  3    7    8  ...         0.000000  2.760463     0.0\n",
              "4  4    9   10  ...         0.307641  2.305822     0.0\n",
              "\n",
              "[5 rows x 13 columns]"
            ]
          },
          "metadata": {
            "tags": []
          },
          "execution_count": 113
        }
      ]
    },
    {
      "cell_type": "code",
      "metadata": {
        "id": "KhMmSaYR4-s6",
        "colab_type": "code",
        "colab": {}
      },
      "source": [
        "#drop columns won't be used in the model \n",
        "df_clean = df_clean.drop(['id', 'qid1', 'qid2', 'question1', 'question2'], axis=1)"
      ],
      "execution_count": 0,
      "outputs": []
    },
    {
      "cell_type": "code",
      "metadata": {
        "id": "xy_AKkkDQ1cS",
        "colab_type": "code",
        "outputId": "9ea8bee3-aeb8-4b90-c879-6f93045f3c69",
        "colab": {
          "base_uri": "https://localhost:8080/",
          "height": 204
        }
      },
      "source": [
        "df_clean.head()"
      ],
      "execution_count": 115,
      "outputs": [
        {
          "output_type": "execute_result",
          "data": {
            "text/html": [
              "<div>\n",
              "<style scoped>\n",
              "    .dataframe tbody tr th:only-of-type {\n",
              "        vertical-align: middle;\n",
              "    }\n",
              "\n",
              "    .dataframe tbody tr th {\n",
              "        vertical-align: top;\n",
              "    }\n",
              "\n",
              "    .dataframe thead th {\n",
              "        text-align: right;\n",
              "    }\n",
              "</style>\n",
              "<table border=\"1\" class=\"dataframe\">\n",
              "  <thead>\n",
              "    <tr style=\"text-align: right;\">\n",
              "      <th></th>\n",
              "      <th>label</th>\n",
              "      <th>count1</th>\n",
              "      <th>count2</th>\n",
              "      <th>unique_word_cnt</th>\n",
              "      <th>common_words</th>\n",
              "      <th>cosine_sim_tfidf</th>\n",
              "      <th>euc_dist</th>\n",
              "      <th>jac_sim</th>\n",
              "    </tr>\n",
              "  </thead>\n",
              "  <tbody>\n",
              "    <tr>\n",
              "      <th>0</th>\n",
              "      <td>0</td>\n",
              "      <td>14</td>\n",
              "      <td>12</td>\n",
              "      <td>0</td>\n",
              "      <td>0.918919</td>\n",
              "      <td>0.974700</td>\n",
              "      <td>1.329907</td>\n",
              "      <td>0.0</td>\n",
              "    </tr>\n",
              "    <tr>\n",
              "      <th>1</th>\n",
              "      <td>0</td>\n",
              "      <td>8</td>\n",
              "      <td>13</td>\n",
              "      <td>7</td>\n",
              "      <td>0.651163</td>\n",
              "      <td>0.645063</td>\n",
              "      <td>1.486847</td>\n",
              "      <td>0.0</td>\n",
              "    </tr>\n",
              "    <tr>\n",
              "      <th>2</th>\n",
              "      <td>0</td>\n",
              "      <td>14</td>\n",
              "      <td>10</td>\n",
              "      <td>5</td>\n",
              "      <td>0.463768</td>\n",
              "      <td>0.456422</td>\n",
              "      <td>1.687309</td>\n",
              "      <td>0.0</td>\n",
              "    </tr>\n",
              "    <tr>\n",
              "      <th>3</th>\n",
              "      <td>0</td>\n",
              "      <td>11</td>\n",
              "      <td>9</td>\n",
              "      <td>8</td>\n",
              "      <td>0.279070</td>\n",
              "      <td>0.000000</td>\n",
              "      <td>2.760463</td>\n",
              "      <td>0.0</td>\n",
              "    </tr>\n",
              "    <tr>\n",
              "      <th>4</th>\n",
              "      <td>0</td>\n",
              "      <td>13</td>\n",
              "      <td>7</td>\n",
              "      <td>11</td>\n",
              "      <td>0.270270</td>\n",
              "      <td>0.307641</td>\n",
              "      <td>2.305822</td>\n",
              "      <td>0.0</td>\n",
              "    </tr>\n",
              "  </tbody>\n",
              "</table>\n",
              "</div>"
            ],
            "text/plain": [
              "  label count1 count2  ...  cosine_sim_tfidf  euc_dist  jac_sim\n",
              "0     0     14     12  ...          0.974700  1.329907      0.0\n",
              "1     0      8     13  ...          0.645063  1.486847      0.0\n",
              "2     0     14     10  ...          0.456422  1.687309      0.0\n",
              "3     0     11      9  ...          0.000000  2.760463      0.0\n",
              "4     0     13      7  ...          0.307641  2.305822      0.0\n",
              "\n",
              "[5 rows x 8 columns]"
            ]
          },
          "metadata": {
            "tags": []
          },
          "execution_count": 115
        }
      ]
    },
    {
      "cell_type": "code",
      "metadata": {
        "id": "AnApQdPjtx3d",
        "colab_type": "code",
        "colab": {}
      },
      "source": [
        "df_clean['count1'] = df_clean['count1'].astype(int)\n",
        "df_clean['count2'] = df_clean['count2'].astype(int)"
      ],
      "execution_count": 0,
      "outputs": []
    },
    {
      "cell_type": "markdown",
      "metadata": {
        "id": "TLLdVeLj4-_I",
        "colab_type": "text"
      },
      "source": [
        "## Modeling"
      ]
    },
    {
      "cell_type": "code",
      "metadata": {
        "id": "mjWUd7cP5AjQ",
        "colab_type": "code",
        "outputId": "515ba198-c01a-48c4-c0f2-386a7ea2df68",
        "colab": {
          "base_uri": "https://localhost:8080/",
          "height": 204
        }
      },
      "source": [
        "#separate the features\n",
        "x = df_clean.drop(['label'], axis= 1)\n",
        "x.head()"
      ],
      "execution_count": 212,
      "outputs": [
        {
          "output_type": "execute_result",
          "data": {
            "text/html": [
              "<div>\n",
              "<style scoped>\n",
              "    .dataframe tbody tr th:only-of-type {\n",
              "        vertical-align: middle;\n",
              "    }\n",
              "\n",
              "    .dataframe tbody tr th {\n",
              "        vertical-align: top;\n",
              "    }\n",
              "\n",
              "    .dataframe thead th {\n",
              "        text-align: right;\n",
              "    }\n",
              "</style>\n",
              "<table border=\"1\" class=\"dataframe\">\n",
              "  <thead>\n",
              "    <tr style=\"text-align: right;\">\n",
              "      <th></th>\n",
              "      <th>count1</th>\n",
              "      <th>count2</th>\n",
              "      <th>unique_word_cnt</th>\n",
              "      <th>common_words</th>\n",
              "      <th>cosine_sim_tfidf</th>\n",
              "      <th>euc_dist</th>\n",
              "      <th>jac_sim</th>\n",
              "    </tr>\n",
              "  </thead>\n",
              "  <tbody>\n",
              "    <tr>\n",
              "      <th>0</th>\n",
              "      <td>14</td>\n",
              "      <td>12</td>\n",
              "      <td>0</td>\n",
              "      <td>0.918919</td>\n",
              "      <td>0.974700</td>\n",
              "      <td>1.329907</td>\n",
              "      <td>0.0</td>\n",
              "    </tr>\n",
              "    <tr>\n",
              "      <th>1</th>\n",
              "      <td>8</td>\n",
              "      <td>13</td>\n",
              "      <td>7</td>\n",
              "      <td>0.651163</td>\n",
              "      <td>0.645063</td>\n",
              "      <td>1.486847</td>\n",
              "      <td>0.0</td>\n",
              "    </tr>\n",
              "    <tr>\n",
              "      <th>2</th>\n",
              "      <td>14</td>\n",
              "      <td>10</td>\n",
              "      <td>5</td>\n",
              "      <td>0.463768</td>\n",
              "      <td>0.456422</td>\n",
              "      <td>1.687309</td>\n",
              "      <td>0.0</td>\n",
              "    </tr>\n",
              "    <tr>\n",
              "      <th>3</th>\n",
              "      <td>11</td>\n",
              "      <td>9</td>\n",
              "      <td>8</td>\n",
              "      <td>0.279070</td>\n",
              "      <td>0.000000</td>\n",
              "      <td>2.760463</td>\n",
              "      <td>0.0</td>\n",
              "    </tr>\n",
              "    <tr>\n",
              "      <th>4</th>\n",
              "      <td>13</td>\n",
              "      <td>7</td>\n",
              "      <td>11</td>\n",
              "      <td>0.270270</td>\n",
              "      <td>0.307641</td>\n",
              "      <td>2.305822</td>\n",
              "      <td>0.0</td>\n",
              "    </tr>\n",
              "  </tbody>\n",
              "</table>\n",
              "</div>"
            ],
            "text/plain": [
              "   count1  count2  unique_word_cnt  ...  cosine_sim_tfidf  euc_dist  jac_sim\n",
              "0      14      12                0  ...          0.974700  1.329907      0.0\n",
              "1       8      13                7  ...          0.645063  1.486847      0.0\n",
              "2      14      10                5  ...          0.456422  1.687309      0.0\n",
              "3      11       9                8  ...          0.000000  2.760463      0.0\n",
              "4      13       7               11  ...          0.307641  2.305822      0.0\n",
              "\n",
              "[5 rows x 7 columns]"
            ]
          },
          "metadata": {
            "tags": []
          },
          "execution_count": 212
        }
      ]
    },
    {
      "cell_type": "code",
      "metadata": {
        "id": "XA2XCDD78eH5",
        "colab_type": "code",
        "outputId": "21ca9f89-b37f-4802-d592-579130f8bc36",
        "colab": {
          "base_uri": "https://localhost:8080/",
          "height": 221
        }
      },
      "source": [
        "#separate the label\n",
        "y = df_clean['label']\n",
        "y"
      ],
      "execution_count": 213,
      "outputs": [
        {
          "output_type": "execute_result",
          "data": {
            "text/plain": [
              "0         0\n",
              "1         0\n",
              "2         0\n",
              "3         0\n",
              "4         0\n",
              "         ..\n",
              "404282    0\n",
              "404283    1\n",
              "404284    0\n",
              "404285    0\n",
              "404286    0\n",
              "Name: label, Length: 403285, dtype: object"
            ]
          },
          "metadata": {
            "tags": []
          },
          "execution_count": 213
        }
      ]
    },
    {
      "cell_type": "code",
      "metadata": {
        "id": "fukr6n258gVG",
        "colab_type": "code",
        "colab": {}
      },
      "source": [
        "xtrain, xtest, ytrain, ytest = train_test_split(x, y, test_size=0.2, random_state=123)"
      ],
      "execution_count": 0,
      "outputs": []
    },
    {
      "cell_type": "code",
      "metadata": {
        "id": "nmyy4XUrJhVa",
        "colab_type": "code",
        "colab": {
          "base_uri": "https://localhost:8080/",
          "height": 204
        },
        "outputId": "b9596452-29f2-4960-b364-25e630ac97e3"
      },
      "source": [
        "xtrain.head()"
      ],
      "execution_count": 261,
      "outputs": [
        {
          "output_type": "execute_result",
          "data": {
            "text/html": [
              "<div>\n",
              "<style scoped>\n",
              "    .dataframe tbody tr th:only-of-type {\n",
              "        vertical-align: middle;\n",
              "    }\n",
              "\n",
              "    .dataframe tbody tr th {\n",
              "        vertical-align: top;\n",
              "    }\n",
              "\n",
              "    .dataframe thead th {\n",
              "        text-align: right;\n",
              "    }\n",
              "</style>\n",
              "<table border=\"1\" class=\"dataframe\">\n",
              "  <thead>\n",
              "    <tr style=\"text-align: right;\">\n",
              "      <th></th>\n",
              "      <th>count1</th>\n",
              "      <th>count2</th>\n",
              "      <th>unique_word_cnt</th>\n",
              "      <th>common_words</th>\n",
              "      <th>cosine_sim_tfidf</th>\n",
              "      <th>euc_dist</th>\n",
              "      <th>jac_sim</th>\n",
              "    </tr>\n",
              "  </thead>\n",
              "  <tbody>\n",
              "    <tr>\n",
              "      <th>78278</th>\n",
              "      <td>7</td>\n",
              "      <td>16</td>\n",
              "      <td>12</td>\n",
              "      <td>0.322581</td>\n",
              "      <td>0.000000</td>\n",
              "      <td>2.064772</td>\n",
              "      <td>0.0</td>\n",
              "    </tr>\n",
              "    <tr>\n",
              "      <th>153157</th>\n",
              "      <td>16</td>\n",
              "      <td>16</td>\n",
              "      <td>1</td>\n",
              "      <td>0.913043</td>\n",
              "      <td>1.000000</td>\n",
              "      <td>1.105175</td>\n",
              "      <td>0.0</td>\n",
              "    </tr>\n",
              "    <tr>\n",
              "      <th>218972</th>\n",
              "      <td>19</td>\n",
              "      <td>9</td>\n",
              "      <td>4</td>\n",
              "      <td>0.408163</td>\n",
              "      <td>0.826229</td>\n",
              "      <td>1.031052</td>\n",
              "      <td>0.0</td>\n",
              "    </tr>\n",
              "    <tr>\n",
              "      <th>239390</th>\n",
              "      <td>11</td>\n",
              "      <td>8</td>\n",
              "      <td>3</td>\n",
              "      <td>0.533333</td>\n",
              "      <td>0.862892</td>\n",
              "      <td>1.566854</td>\n",
              "      <td>0.0</td>\n",
              "    </tr>\n",
              "    <tr>\n",
              "      <th>334118</th>\n",
              "      <td>9</td>\n",
              "      <td>11</td>\n",
              "      <td>6</td>\n",
              "      <td>0.653846</td>\n",
              "      <td>0.578330</td>\n",
              "      <td>1.827897</td>\n",
              "      <td>0.0</td>\n",
              "    </tr>\n",
              "  </tbody>\n",
              "</table>\n",
              "</div>"
            ],
            "text/plain": [
              "        count1  count2  unique_word_cnt  ...  cosine_sim_tfidf  euc_dist  jac_sim\n",
              "78278        7      16               12  ...          0.000000  2.064772      0.0\n",
              "153157      16      16                1  ...          1.000000  1.105175      0.0\n",
              "218972      19       9                4  ...          0.826229  1.031052      0.0\n",
              "239390      11       8                3  ...          0.862892  1.566854      0.0\n",
              "334118       9      11                6  ...          0.578330  1.827897      0.0\n",
              "\n",
              "[5 rows x 7 columns]"
            ]
          },
          "metadata": {
            "tags": []
          },
          "execution_count": 261
        }
      ]
    },
    {
      "cell_type": "markdown",
      "metadata": {
        "id": "E5i9IabiUIDF",
        "colab_type": "text"
      },
      "source": [
        "## imbalance treatment\n"
      ]
    },
    {
      "cell_type": "code",
      "metadata": {
        "id": "BSV6Kdu-Y4e-",
        "colab_type": "code",
        "colab": {}
      },
      "source": [
        "#import xgboost \n",
        "import xgboost as xgb\n",
        "import sklearn.metrics as metrics\n",
        "from sklearn.metrics import classification_report"
      ],
      "execution_count": 0,
      "outputs": []
    },
    {
      "cell_type": "markdown",
      "metadata": {
        "id": "cpSlbffOgRzM",
        "colab_type": "text"
      },
      "source": [
        "insted of dataframe XGBoost use Dmatrix <br />\n",
        "DMatrix is a internal data structure that used by XGBoost which is optimized for both memory efficiency and training speed."
      ]
    },
    {
      "cell_type": "code",
      "metadata": {
        "id": "QVwBx6CqdXjv",
        "colab_type": "code",
        "colab": {}
      },
      "source": [
        "#define the model \n",
        "model = xgb.XGBClassifier(objective='binary:hinge', learning_rate= 0.1,\n",
        "                max_depth= 5, alpha1 = 0, scale_pos_weight=6)"
      ],
      "execution_count": 0,
      "outputs": []
    },
    {
      "cell_type": "markdown",
      "metadata": {
        "id": "b95vTav0Q2Ah",
        "colab_type": "text"
      },
      "source": [
        "binary:hinge: hinge loss for binary classification. This makes predictions of 0 or 1, rather than producing probabilities.\n"
      ]
    },
    {
      "cell_type": "code",
      "metadata": {
        "id": "PI3NGkB8irGu",
        "colab_type": "code",
        "colab": {}
      },
      "source": [
        "#hyper parameter optimization \n",
        "#this is initial params in order to find the best one \n",
        "params = { 'learning_rate' :[0.1, 0.5, 0.8],\n",
        "        'min_child_weight': [1, 5, 10],\n",
        "        'gamma': [0.5, 1, 1.5, 2, 5],\n",
        "        'subsample': [0.6, 0.8, 1.0],\n",
        "        'colsample_bytree': [0.6, 0.8, 1.0],\n",
        "        'max_depth': [8, 10, 15]\n",
        "        }\n"
      ],
      "execution_count": 0,
      "outputs": []
    },
    {
      "cell_type": "code",
      "metadata": {
        "id": "3c__qYbujFuP",
        "colab_type": "code",
        "colab": {}
      },
      "source": [
        "from sklearn.model_selection import RandomizedSearchCV, GridSearchCV\n",
        "from sklearn.model_selection import StratifiedKFold"
      ],
      "execution_count": 0,
      "outputs": []
    },
    {
      "cell_type": "code",
      "metadata": {
        "id": "iDtlHZiW4zi8",
        "colab_type": "code",
        "colab": {}
      },
      "source": [
        ""
      ],
      "execution_count": 0,
      "outputs": []
    },
    {
      "cell_type": "markdown",
      "metadata": {
        "id": "5hG2t4Mu4z99",
        "colab_type": "text"
      },
      "source": [
        "## Hyperparameter Tuning \n",
        "choose the parameter that fit the data the best. <br />\n",
        "Grid search is the process of performing hyper parameter tuning in order to determine the optimal values for a given model."
      ]
    },
    {
      "cell_type": "markdown",
      "metadata": {
        "id": "EhS8Gouraj8p",
        "colab_type": "text"
      },
      "source": [
        "a slight variation in the K Fold cross validation technique is made, such that each fold contains approximately the same percentage of samples of each target class as the complete set, or in case of prediction problems, the mean response value is approximately equal in all the folds. This variation is also known as Stratified K Fold."
      ]
    },
    {
      "cell_type": "code",
      "metadata": {
        "id": "f69Yfu8rDjnG",
        "colab_type": "code",
        "colab": {}
      },
      "source": [
        "folds = 10\n",
        "param_comb = 5\n",
        "skf = StratifiedKFold(n_splits=folds, shuffle = True, random_state = 1001)\n",
        "  "
      ],
      "execution_count": 0,
      "outputs": []
    },
    {
      "cell_type": "code",
      "metadata": {
        "id": "qbkbHIK-IrP2",
        "colab_type": "code",
        "colab": {
          "base_uri": "https://localhost:8080/",
          "height": 408
        },
        "outputId": "6f2ea9cd-0aff-4e27-fe42-cc71547db753"
      },
      "source": [
        "random_search = RandomizedSearchCV(model, params, n_iter=param_comb, scoring='roc_auc', n_jobs=1, cv=skf.split(xtrain, ytrain), verbose=3, random_state=1001 )\n",
        "random_search\n"
      ],
      "execution_count": 323,
      "outputs": [
        {
          "output_type": "execute_result",
          "data": {
            "text/plain": [
              "RandomizedSearchCV(cv=<generator object _BaseKFold.split at 0x7fe74bfd3990>,\n",
              "                   error_score=nan,\n",
              "                   estimator=XGBClassifier(alpha1=0, base_score=0.5,\n",
              "                                           booster='gbtree',\n",
              "                                           colsample_bylevel=1,\n",
              "                                           colsample_bynode=1,\n",
              "                                           colsample_bytree=1, gamma=0,\n",
              "                                           learning_rate=0.1, max_delta_step=0,\n",
              "                                           max_depth=5, min_child_weight=1,\n",
              "                                           missing=None, n_estimators=100,\n",
              "                                           n_jobs=1, nthread=None,\n",
              "                                           objective='bi...\n",
              "                                           seed=None, silent=None, subsample=1,\n",
              "                                           verbosity=1),\n",
              "                   iid='deprecated', n_iter=5, n_jobs=1,\n",
              "                   param_distributions={'colsample_bytree': [0.6, 0.8, 1.0],\n",
              "                                        'gamma': [0.5, 1, 1.5, 2, 5],\n",
              "                                        'learning_rate': [0.1, 0.5, 0.8],\n",
              "                                        'max_depth': [8, 10, 15],\n",
              "                                        'min_child_weight': [1, 5, 10],\n",
              "                                        'subsample': [0.6, 0.8, 1.0]},\n",
              "                   pre_dispatch='2*n_jobs', random_state=1001, refit=True,\n",
              "                   return_train_score=False, scoring='roc_auc', verbose=3)"
            ]
          },
          "metadata": {
            "tags": []
          },
          "execution_count": 323
        }
      ]
    },
    {
      "cell_type": "code",
      "metadata": {
        "id": "vuRwBm8pI4b1",
        "colab_type": "code",
        "colab": {
          "base_uri": "https://localhost:8080/",
          "height": 1000
        },
        "outputId": "cb3752a7-6147-491f-af8e-4b8d4f50e55a"
      },
      "source": [
        "#fit the train set \n",
        "random_search.fit(xtrain, ytrain)\n"
      ],
      "execution_count": 324,
      "outputs": [
        {
          "output_type": "stream",
          "text": [
            "Fitting 10 folds for each of 5 candidates, totalling 50 fits\n",
            "[CV] subsample=0.8, min_child_weight=5, max_depth=10, learning_rate=0.8, gamma=0.5, colsample_bytree=1.0 \n"
          ],
          "name": "stdout"
        },
        {
          "output_type": "stream",
          "text": [
            "[Parallel(n_jobs=1)]: Using backend SequentialBackend with 1 concurrent workers.\n"
          ],
          "name": "stderr"
        },
        {
          "output_type": "stream",
          "text": [
            "[CV]  subsample=0.8, min_child_weight=5, max_depth=10, learning_rate=0.8, gamma=0.5, colsample_bytree=1.0, score=0.682, total=  54.0s\n",
            "[CV] subsample=0.8, min_child_weight=5, max_depth=10, learning_rate=0.8, gamma=0.5, colsample_bytree=1.0 \n"
          ],
          "name": "stdout"
        },
        {
          "output_type": "stream",
          "text": [
            "[Parallel(n_jobs=1)]: Done   1 out of   1 | elapsed:   54.0s remaining:    0.0s\n"
          ],
          "name": "stderr"
        },
        {
          "output_type": "stream",
          "text": [
            "[CV]  subsample=0.8, min_child_weight=5, max_depth=10, learning_rate=0.8, gamma=0.5, colsample_bytree=1.0, score=0.692, total=  53.3s\n",
            "[CV] subsample=0.8, min_child_weight=5, max_depth=10, learning_rate=0.8, gamma=0.5, colsample_bytree=1.0 \n"
          ],
          "name": "stdout"
        },
        {
          "output_type": "stream",
          "text": [
            "[Parallel(n_jobs=1)]: Done   2 out of   2 | elapsed:  1.8min remaining:    0.0s\n"
          ],
          "name": "stderr"
        },
        {
          "output_type": "stream",
          "text": [
            "[CV]  subsample=0.8, min_child_weight=5, max_depth=10, learning_rate=0.8, gamma=0.5, colsample_bytree=1.0, score=0.690, total=  54.1s\n",
            "[CV] subsample=0.8, min_child_weight=5, max_depth=10, learning_rate=0.8, gamma=0.5, colsample_bytree=1.0 \n",
            "[CV]  subsample=0.8, min_child_weight=5, max_depth=10, learning_rate=0.8, gamma=0.5, colsample_bytree=1.0, score=0.686, total=  54.4s\n",
            "[CV] subsample=0.8, min_child_weight=5, max_depth=10, learning_rate=0.8, gamma=0.5, colsample_bytree=1.0 \n",
            "[CV]  subsample=0.8, min_child_weight=5, max_depth=10, learning_rate=0.8, gamma=0.5, colsample_bytree=1.0, score=0.682, total=  53.5s\n",
            "[CV] subsample=0.8, min_child_weight=5, max_depth=10, learning_rate=0.8, gamma=0.5, colsample_bytree=1.0 \n",
            "[CV]  subsample=0.8, min_child_weight=5, max_depth=10, learning_rate=0.8, gamma=0.5, colsample_bytree=1.0, score=0.691, total=  53.2s\n",
            "[CV] subsample=0.8, min_child_weight=5, max_depth=10, learning_rate=0.8, gamma=0.5, colsample_bytree=1.0 \n",
            "[CV]  subsample=0.8, min_child_weight=5, max_depth=10, learning_rate=0.8, gamma=0.5, colsample_bytree=1.0, score=0.687, total=  54.2s\n",
            "[CV] subsample=0.8, min_child_weight=5, max_depth=10, learning_rate=0.8, gamma=0.5, colsample_bytree=1.0 \n",
            "[CV]  subsample=0.8, min_child_weight=5, max_depth=10, learning_rate=0.8, gamma=0.5, colsample_bytree=1.0, score=0.694, total=  54.3s\n",
            "[CV] subsample=0.8, min_child_weight=5, max_depth=10, learning_rate=0.8, gamma=0.5, colsample_bytree=1.0 \n",
            "[CV]  subsample=0.8, min_child_weight=5, max_depth=10, learning_rate=0.8, gamma=0.5, colsample_bytree=1.0, score=0.686, total=  54.0s\n",
            "[CV] subsample=0.8, min_child_weight=5, max_depth=10, learning_rate=0.8, gamma=0.5, colsample_bytree=1.0 \n",
            "[CV]  subsample=0.8, min_child_weight=5, max_depth=10, learning_rate=0.8, gamma=0.5, colsample_bytree=1.0, score=0.695, total=  54.1s\n",
            "[CV] subsample=1.0, min_child_weight=5, max_depth=10, learning_rate=0.1, gamma=1, colsample_bytree=1.0 \n",
            "[CV]  subsample=1.0, min_child_weight=5, max_depth=10, learning_rate=0.1, gamma=1, colsample_bytree=1.0, score=0.703, total=  57.2s\n",
            "[CV] subsample=1.0, min_child_weight=5, max_depth=10, learning_rate=0.1, gamma=1, colsample_bytree=1.0 \n",
            "[CV]  subsample=1.0, min_child_weight=5, max_depth=10, learning_rate=0.1, gamma=1, colsample_bytree=1.0, score=0.708, total=  56.9s\n",
            "[CV] subsample=1.0, min_child_weight=5, max_depth=10, learning_rate=0.1, gamma=1, colsample_bytree=1.0 \n",
            "[CV]  subsample=1.0, min_child_weight=5, max_depth=10, learning_rate=0.1, gamma=1, colsample_bytree=1.0, score=0.710, total=  58.2s\n",
            "[CV] subsample=1.0, min_child_weight=5, max_depth=10, learning_rate=0.1, gamma=1, colsample_bytree=1.0 \n",
            "[CV]  subsample=1.0, min_child_weight=5, max_depth=10, learning_rate=0.1, gamma=1, colsample_bytree=1.0, score=0.707, total=  57.7s\n",
            "[CV] subsample=1.0, min_child_weight=5, max_depth=10, learning_rate=0.1, gamma=1, colsample_bytree=1.0 \n",
            "[CV]  subsample=1.0, min_child_weight=5, max_depth=10, learning_rate=0.1, gamma=1, colsample_bytree=1.0, score=0.705, total=  57.6s\n",
            "[CV] subsample=1.0, min_child_weight=5, max_depth=10, learning_rate=0.1, gamma=1, colsample_bytree=1.0 \n",
            "[CV]  subsample=1.0, min_child_weight=5, max_depth=10, learning_rate=0.1, gamma=1, colsample_bytree=1.0, score=0.710, total=  57.3s\n",
            "[CV] subsample=1.0, min_child_weight=5, max_depth=10, learning_rate=0.1, gamma=1, colsample_bytree=1.0 \n",
            "[CV]  subsample=1.0, min_child_weight=5, max_depth=10, learning_rate=0.1, gamma=1, colsample_bytree=1.0, score=0.708, total=  56.5s\n",
            "[CV] subsample=1.0, min_child_weight=5, max_depth=10, learning_rate=0.1, gamma=1, colsample_bytree=1.0 \n",
            "[CV]  subsample=1.0, min_child_weight=5, max_depth=10, learning_rate=0.1, gamma=1, colsample_bytree=1.0, score=0.712, total=  56.2s\n",
            "[CV] subsample=1.0, min_child_weight=5, max_depth=10, learning_rate=0.1, gamma=1, colsample_bytree=1.0 \n",
            "[CV]  subsample=1.0, min_child_weight=5, max_depth=10, learning_rate=0.1, gamma=1, colsample_bytree=1.0, score=0.706, total=  55.7s\n",
            "[CV] subsample=1.0, min_child_weight=5, max_depth=10, learning_rate=0.1, gamma=1, colsample_bytree=1.0 \n",
            "[CV]  subsample=1.0, min_child_weight=5, max_depth=10, learning_rate=0.1, gamma=1, colsample_bytree=1.0, score=0.709, total=  56.8s\n",
            "[CV] subsample=0.8, min_child_weight=10, max_depth=15, learning_rate=0.8, gamma=5, colsample_bytree=1.0 \n",
            "[CV]  subsample=0.8, min_child_weight=10, max_depth=15, learning_rate=0.8, gamma=5, colsample_bytree=1.0, score=0.678, total= 1.4min\n",
            "[CV] subsample=0.8, min_child_weight=10, max_depth=15, learning_rate=0.8, gamma=5, colsample_bytree=1.0 \n",
            "[CV]  subsample=0.8, min_child_weight=10, max_depth=15, learning_rate=0.8, gamma=5, colsample_bytree=1.0, score=0.678, total= 1.4min\n",
            "[CV] subsample=0.8, min_child_weight=10, max_depth=15, learning_rate=0.8, gamma=5, colsample_bytree=1.0 \n",
            "[CV]  subsample=0.8, min_child_weight=10, max_depth=15, learning_rate=0.8, gamma=5, colsample_bytree=1.0, score=0.682, total= 1.4min\n",
            "[CV] subsample=0.8, min_child_weight=10, max_depth=15, learning_rate=0.8, gamma=5, colsample_bytree=1.0 \n",
            "[CV]  subsample=0.8, min_child_weight=10, max_depth=15, learning_rate=0.8, gamma=5, colsample_bytree=1.0, score=0.680, total= 1.4min\n",
            "[CV] subsample=0.8, min_child_weight=10, max_depth=15, learning_rate=0.8, gamma=5, colsample_bytree=1.0 \n",
            "[CV]  subsample=0.8, min_child_weight=10, max_depth=15, learning_rate=0.8, gamma=5, colsample_bytree=1.0, score=0.675, total= 1.4min\n",
            "[CV] subsample=0.8, min_child_weight=10, max_depth=15, learning_rate=0.8, gamma=5, colsample_bytree=1.0 \n",
            "[CV]  subsample=0.8, min_child_weight=10, max_depth=15, learning_rate=0.8, gamma=5, colsample_bytree=1.0, score=0.679, total= 1.4min\n",
            "[CV] subsample=0.8, min_child_weight=10, max_depth=15, learning_rate=0.8, gamma=5, colsample_bytree=1.0 \n",
            "[CV]  subsample=0.8, min_child_weight=10, max_depth=15, learning_rate=0.8, gamma=5, colsample_bytree=1.0, score=0.682, total= 1.4min\n",
            "[CV] subsample=0.8, min_child_weight=10, max_depth=15, learning_rate=0.8, gamma=5, colsample_bytree=1.0 \n",
            "[CV]  subsample=0.8, min_child_weight=10, max_depth=15, learning_rate=0.8, gamma=5, colsample_bytree=1.0, score=0.683, total= 1.4min\n",
            "[CV] subsample=0.8, min_child_weight=10, max_depth=15, learning_rate=0.8, gamma=5, colsample_bytree=1.0 \n",
            "[CV]  subsample=0.8, min_child_weight=10, max_depth=15, learning_rate=0.8, gamma=5, colsample_bytree=1.0, score=0.676, total= 1.4min\n",
            "[CV] subsample=0.8, min_child_weight=10, max_depth=15, learning_rate=0.8, gamma=5, colsample_bytree=1.0 \n",
            "[CV]  subsample=0.8, min_child_weight=10, max_depth=15, learning_rate=0.8, gamma=5, colsample_bytree=1.0, score=0.680, total= 1.4min\n",
            "[CV] subsample=0.8, min_child_weight=10, max_depth=10, learning_rate=0.5, gamma=2, colsample_bytree=0.6 \n",
            "[CV]  subsample=0.8, min_child_weight=10, max_depth=10, learning_rate=0.5, gamma=2, colsample_bytree=0.6, score=0.693, total=  37.4s\n",
            "[CV] subsample=0.8, min_child_weight=10, max_depth=10, learning_rate=0.5, gamma=2, colsample_bytree=0.6 \n",
            "[CV]  subsample=0.8, min_child_weight=10, max_depth=10, learning_rate=0.5, gamma=2, colsample_bytree=0.6, score=0.695, total=  37.8s\n",
            "[CV] subsample=0.8, min_child_weight=10, max_depth=10, learning_rate=0.5, gamma=2, colsample_bytree=0.6 \n",
            "[CV]  subsample=0.8, min_child_weight=10, max_depth=10, learning_rate=0.5, gamma=2, colsample_bytree=0.6, score=0.697, total=  37.9s\n",
            "[CV] subsample=0.8, min_child_weight=10, max_depth=10, learning_rate=0.5, gamma=2, colsample_bytree=0.6 \n",
            "[CV]  subsample=0.8, min_child_weight=10, max_depth=10, learning_rate=0.5, gamma=2, colsample_bytree=0.6, score=0.696, total=  38.1s\n",
            "[CV] subsample=0.8, min_child_weight=10, max_depth=10, learning_rate=0.5, gamma=2, colsample_bytree=0.6 \n",
            "[CV]  subsample=0.8, min_child_weight=10, max_depth=10, learning_rate=0.5, gamma=2, colsample_bytree=0.6, score=0.693, total=  38.2s\n",
            "[CV] subsample=0.8, min_child_weight=10, max_depth=10, learning_rate=0.5, gamma=2, colsample_bytree=0.6 \n",
            "[CV]  subsample=0.8, min_child_weight=10, max_depth=10, learning_rate=0.5, gamma=2, colsample_bytree=0.6, score=0.699, total=  38.2s\n",
            "[CV] subsample=0.8, min_child_weight=10, max_depth=10, learning_rate=0.5, gamma=2, colsample_bytree=0.6 \n",
            "[CV]  subsample=0.8, min_child_weight=10, max_depth=10, learning_rate=0.5, gamma=2, colsample_bytree=0.6, score=0.698, total=  38.6s\n",
            "[CV] subsample=0.8, min_child_weight=10, max_depth=10, learning_rate=0.5, gamma=2, colsample_bytree=0.6 \n",
            "[CV]  subsample=0.8, min_child_weight=10, max_depth=10, learning_rate=0.5, gamma=2, colsample_bytree=0.6, score=0.702, total=  38.2s\n",
            "[CV] subsample=0.8, min_child_weight=10, max_depth=10, learning_rate=0.5, gamma=2, colsample_bytree=0.6 \n",
            "[CV]  subsample=0.8, min_child_weight=10, max_depth=10, learning_rate=0.5, gamma=2, colsample_bytree=0.6, score=0.693, total=  37.7s\n",
            "[CV] subsample=0.8, min_child_weight=10, max_depth=10, learning_rate=0.5, gamma=2, colsample_bytree=0.6 \n",
            "[CV]  subsample=0.8, min_child_weight=10, max_depth=10, learning_rate=0.5, gamma=2, colsample_bytree=0.6, score=0.700, total=  37.8s\n",
            "[CV] subsample=1.0, min_child_weight=1, max_depth=10, learning_rate=0.8, gamma=1.5, colsample_bytree=0.6 \n",
            "[CV]  subsample=1.0, min_child_weight=1, max_depth=10, learning_rate=0.8, gamma=1.5, colsample_bytree=0.6, score=0.690, total=  32.6s\n",
            "[CV] subsample=1.0, min_child_weight=1, max_depth=10, learning_rate=0.8, gamma=1.5, colsample_bytree=0.6 \n",
            "[CV]  subsample=1.0, min_child_weight=1, max_depth=10, learning_rate=0.8, gamma=1.5, colsample_bytree=0.6, score=0.688, total=  33.3s\n",
            "[CV] subsample=1.0, min_child_weight=1, max_depth=10, learning_rate=0.8, gamma=1.5, colsample_bytree=0.6 \n",
            "[CV]  subsample=1.0, min_child_weight=1, max_depth=10, learning_rate=0.8, gamma=1.5, colsample_bytree=0.6, score=0.695, total=  33.0s\n",
            "[CV] subsample=1.0, min_child_weight=1, max_depth=10, learning_rate=0.8, gamma=1.5, colsample_bytree=0.6 \n",
            "[CV]  subsample=1.0, min_child_weight=1, max_depth=10, learning_rate=0.8, gamma=1.5, colsample_bytree=0.6, score=0.694, total=  33.1s\n",
            "[CV] subsample=1.0, min_child_weight=1, max_depth=10, learning_rate=0.8, gamma=1.5, colsample_bytree=0.6 \n",
            "[CV]  subsample=1.0, min_child_weight=1, max_depth=10, learning_rate=0.8, gamma=1.5, colsample_bytree=0.6, score=0.688, total=  32.8s\n",
            "[CV] subsample=1.0, min_child_weight=1, max_depth=10, learning_rate=0.8, gamma=1.5, colsample_bytree=0.6 \n",
            "[CV]  subsample=1.0, min_child_weight=1, max_depth=10, learning_rate=0.8, gamma=1.5, colsample_bytree=0.6, score=0.691, total=  32.4s\n",
            "[CV] subsample=1.0, min_child_weight=1, max_depth=10, learning_rate=0.8, gamma=1.5, colsample_bytree=0.6 \n",
            "[CV]  subsample=1.0, min_child_weight=1, max_depth=10, learning_rate=0.8, gamma=1.5, colsample_bytree=0.6, score=0.692, total=  33.3s\n",
            "[CV] subsample=1.0, min_child_weight=1, max_depth=10, learning_rate=0.8, gamma=1.5, colsample_bytree=0.6 \n",
            "[CV]  subsample=1.0, min_child_weight=1, max_depth=10, learning_rate=0.8, gamma=1.5, colsample_bytree=0.6, score=0.698, total=  33.6s\n",
            "[CV] subsample=1.0, min_child_weight=1, max_depth=10, learning_rate=0.8, gamma=1.5, colsample_bytree=0.6 \n",
            "[CV]  subsample=1.0, min_child_weight=1, max_depth=10, learning_rate=0.8, gamma=1.5, colsample_bytree=0.6, score=0.690, total=  33.2s\n",
            "[CV] subsample=1.0, min_child_weight=1, max_depth=10, learning_rate=0.8, gamma=1.5, colsample_bytree=0.6 \n",
            "[CV]  subsample=1.0, min_child_weight=1, max_depth=10, learning_rate=0.8, gamma=1.5, colsample_bytree=0.6, score=0.697, total=  32.6s\n"
          ],
          "name": "stdout"
        },
        {
          "output_type": "stream",
          "text": [
            "[Parallel(n_jobs=1)]: Done  50 out of  50 | elapsed: 44.0min finished\n"
          ],
          "name": "stderr"
        },
        {
          "output_type": "execute_result",
          "data": {
            "text/plain": [
              "RandomizedSearchCV(cv=<generator object _BaseKFold.split at 0x7fe74bfd3990>,\n",
              "                   error_score=nan,\n",
              "                   estimator=XGBClassifier(alpha1=0, base_score=0.5,\n",
              "                                           booster='gbtree',\n",
              "                                           colsample_bylevel=1,\n",
              "                                           colsample_bynode=1,\n",
              "                                           colsample_bytree=1, gamma=0,\n",
              "                                           learning_rate=0.1, max_delta_step=0,\n",
              "                                           max_depth=5, min_child_weight=1,\n",
              "                                           missing=None, n_estimators=100,\n",
              "                                           n_jobs=1, nthread=None,\n",
              "                                           objective='bi...\n",
              "                                           seed=None, silent=None, subsample=1,\n",
              "                                           verbosity=1),\n",
              "                   iid='deprecated', n_iter=5, n_jobs=1,\n",
              "                   param_distributions={'colsample_bytree': [0.6, 0.8, 1.0],\n",
              "                                        'gamma': [0.5, 1, 1.5, 2, 5],\n",
              "                                        'learning_rate': [0.1, 0.5, 0.8],\n",
              "                                        'max_depth': [8, 10, 15],\n",
              "                                        'min_child_weight': [1, 5, 10],\n",
              "                                        'subsample': [0.6, 0.8, 1.0]},\n",
              "                   pre_dispatch='2*n_jobs', random_state=1001, refit=True,\n",
              "                   return_train_score=False, scoring='roc_auc', verbose=3)"
            ]
          },
          "metadata": {
            "tags": []
          },
          "execution_count": 324
        }
      ]
    },
    {
      "cell_type": "code",
      "metadata": {
        "id": "aGImClagfoqF",
        "colab_type": "code",
        "colab": {
          "base_uri": "https://localhost:8080/",
          "height": 136
        },
        "outputId": "8c9c9f44-da4c-4740-afe9-e5fd74eeaa06"
      },
      "source": [
        "#get the best estimator \n",
        "random_search.best_estimator_\n",
        "\n",
        "#these are the best parameter to use in our xgboost model "
      ],
      "execution_count": 325,
      "outputs": [
        {
          "output_type": "execute_result",
          "data": {
            "text/plain": [
              "XGBClassifier(alpha1=0, base_score=0.5, booster='gbtree', colsample_bylevel=1,\n",
              "              colsample_bynode=1, colsample_bytree=1.0, gamma=1,\n",
              "              learning_rate=0.1, max_delta_step=0, max_depth=10,\n",
              "              min_child_weight=5, missing=None, n_estimators=100, n_jobs=1,\n",
              "              nthread=None, objective='binary:hinge', random_state=0,\n",
              "              reg_alpha=0, reg_lambda=1, scale_pos_weight=6, seed=None,\n",
              "              silent=None, subsample=1.0, verbosity=1)"
            ]
          },
          "metadata": {
            "tags": []
          },
          "execution_count": 325
        }
      ]
    },
    {
      "cell_type": "code",
      "metadata": {
        "id": "g9UVEIP9DGFx",
        "colab_type": "code",
        "colab": {
          "base_uri": "https://localhost:8080/",
          "height": 34
        },
        "outputId": "485f5f5b-8e25-4ed0-9591-ba267084aeaf"
      },
      "source": [
        "#get the score of the best auc\n",
        "random_search.best_score_"
      ],
      "execution_count": 326,
      "outputs": [
        {
          "output_type": "execute_result",
          "data": {
            "text/plain": [
              "0.7078539505020982"
            ]
          },
          "metadata": {
            "tags": []
          },
          "execution_count": 326
        }
      ]
    },
    {
      "cell_type": "code",
      "metadata": {
        "id": "aC0tr9DqPaBB",
        "colab_type": "code",
        "colab": {
          "base_uri": "https://localhost:8080/",
          "height": 119
        },
        "outputId": "d3b86b34-2b16-40dc-fda4-7d9aab08fe3a"
      },
      "source": [
        "random_search.best_params_"
      ],
      "execution_count": 327,
      "outputs": [
        {
          "output_type": "execute_result",
          "data": {
            "text/plain": [
              "{'colsample_bytree': 1.0,\n",
              " 'gamma': 1,\n",
              " 'learning_rate': 0.1,\n",
              " 'max_depth': 10,\n",
              " 'min_child_weight': 5,\n",
              " 'subsample': 1.0}"
            ]
          },
          "metadata": {
            "tags": []
          },
          "execution_count": 327
        }
      ]
    },
    {
      "cell_type": "code",
      "metadata": {
        "id": "n71bVZhUqXen",
        "colab_type": "code",
        "colab": {
          "base_uri": "https://localhost:8080/",
          "height": 136
        },
        "outputId": "06daa091-ddda-4d28-e50b-d5b326f417bc"
      },
      "source": [
        "random_search.best_estimator_"
      ],
      "execution_count": 301,
      "outputs": [
        {
          "output_type": "execute_result",
          "data": {
            "text/plain": [
              "XGBClassifier(alpha1=0, base_score=0.5, booster='gbtree', colsample_bylevel=1,\n",
              "              colsample_bynode=1, colsample_bytree=0.8, gamma=1.5,\n",
              "              learning_rate=0.1, max_delta_step=0, max_depth=8,\n",
              "              min_child_weight=1, missing=None, n_estimators=100, n_jobs=1,\n",
              "              nthread=None, objective='binary:hinge', random_state=0,\n",
              "              reg_alpha=0, reg_lambda=1, scale_pos_weight=1, seed=None,\n",
              "              silent=None, subsample=0.6, verbosity=1)"
            ]
          },
          "metadata": {
            "tags": []
          },
          "execution_count": 301
        }
      ]
    },
    {
      "cell_type": "code",
      "metadata": {
        "id": "BJqHD1yBqXkb",
        "colab_type": "code",
        "colab": {}
      },
      "source": [
        "#best parameters for the classifier model \n",
        "model = xgb.XGBClassifier(alpha1=0, base_score=0.5, booster='gbtree', colsample_bylevel=1,\n",
        "              colsample_bynode=1, colsample_bytree=0.8, gamma=1.5,\n",
        "              learning_rate=0.1, max_delta_step=0, max_depth=8,\n",
        "              min_child_weight=1, missing=None, n_estimators=100, n_jobs=1,\n",
        "              nthread=None, objective='binary:hinge', random_state=0,\n",
        "              reg_alpha=0, reg_lambda=1, scale_pos_weight=1, seed=None,\n",
        "              silent=None, subsample=0.6, verbosity=1)"
      ],
      "execution_count": 0,
      "outputs": []
    },
    {
      "cell_type": "code",
      "metadata": {
        "id": "sh-MgP8DgOU4",
        "colab_type": "code",
        "colab": {}
      },
      "source": [
        "# evaluate the training model with cross validation \n",
        "from sklearn.model_selection import cross_val_score\n",
        "kfold = model_selection.KFold(n_splits=10)\n",
        "results = cross_val_score(model, xtrain, ytrain, cv=kfold)"
      ],
      "execution_count": 0,
      "outputs": []
    },
    {
      "cell_type": "code",
      "metadata": {
        "id": "OPX5zvOdi4Uk",
        "colab_type": "code",
        "colab": {
          "base_uri": "https://localhost:8080/",
          "height": 34
        },
        "outputId": "6a1431e0-df5c-4091-c7a7-60f8fca7c7c9"
      },
      "source": [
        "#the average accuracy score for 10 models \n",
        "results.mean()"
      ],
      "execution_count": 330,
      "outputs": [
        {
          "output_type": "execute_result",
          "data": {
            "text/plain": [
              "0.7101460479212356"
            ]
          },
          "metadata": {
            "tags": []
          },
          "execution_count": 330
        }
      ]
    },
    {
      "cell_type": "code",
      "metadata": {
        "id": "dJWOHDbP1-CF",
        "colab_type": "code",
        "colab": {}
      },
      "source": [
        ""
      ],
      "execution_count": 0,
      "outputs": []
    },
    {
      "cell_type": "code",
      "metadata": {
        "id": "mwxo126KdpU1",
        "colab_type": "code",
        "colab": {}
      },
      "source": [
        "from sklearn import model_selection"
      ],
      "execution_count": 0,
      "outputs": []
    },
    {
      "cell_type": "code",
      "metadata": {
        "id": "5nEwpTxPqXcG",
        "colab_type": "code",
        "colab": {}
      },
      "source": [
        "y_pred = model.predict(xtest)"
      ],
      "execution_count": 0,
      "outputs": []
    },
    {
      "cell_type": "code",
      "metadata": {
        "id": "VWj1PrN2RMyP",
        "colab_type": "code",
        "colab": {
          "base_uri": "https://localhost:8080/",
          "height": 34
        },
        "outputId": "c7055977-61de-4b91-826b-688fc13e7ef0"
      },
      "source": [
        "y_pred"
      ],
      "execution_count": 305,
      "outputs": [
        {
          "output_type": "execute_result",
          "data": {
            "text/plain": [
              "array(['0', '0', '0', ..., '0', '0', '0'], dtype=object)"
            ]
          },
          "metadata": {
            "tags": []
          },
          "execution_count": 305
        }
      ]
    },
    {
      "cell_type": "code",
      "metadata": {
        "id": "Klou0p-2j8PE",
        "colab_type": "code",
        "colab": {}
      },
      "source": [
        "auc=roc_auc_score(y_test, predictions) #area under the curve \n",
        "scoring = 'neg_log_loss'\n",
        "results = model_selection.cross_val_score(model, xtest, ytest, cv=kfold, scoring=scoring)\n"
      ],
      "execution_count": 0,
      "outputs": []
    },
    {
      "cell_type": "code",
      "metadata": {
        "id": "CheJLcUpj8R2",
        "colab_type": "code",
        "colab": {}
      },
      "source": [
        ""
      ],
      "execution_count": 0,
      "outputs": []
    },
    {
      "cell_type": "markdown",
      "metadata": {
        "id": "C_85o3GWhaYQ",
        "colab_type": "text"
      },
      "source": [
        " "
      ]
    },
    {
      "cell_type": "markdown",
      "metadata": {
        "id": "uZ9v6n-UOS-1",
        "colab_type": "text"
      },
      "source": [
        "In order to tune the hyperparameters, I will use the cv function from XGBoost. <br /> \n",
        "It allows us to run cross-validation on our training dataset and returns auc score <br />\n",
        "AUC_ROC: It tells how much model is capable of distinguishing between classes. Higher the AUC, better the model is at predicting 0s as 0s and 1s as 1s."
      ]
    }
  ]
}