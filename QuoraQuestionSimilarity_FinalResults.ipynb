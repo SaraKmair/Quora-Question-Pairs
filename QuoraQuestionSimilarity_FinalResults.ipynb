{
  "nbformat": 4,
  "nbformat_minor": 0,
  "metadata": {
    "colab": {
      "name": "QuoraQuestionSimilarity_FinalResults.ipynb",
      "provenance": [],
      "collapsed_sections": [],
      "authorship_tag": "ABX9TyOMqDaBA4jz0JA2ITU0CogI",
      "include_colab_link": true
    },
    "kernelspec": {
      "name": "python3",
      "display_name": "Python 3"
    }
  },
  "cells": [
    {
      "cell_type": "markdown",
      "metadata": {
        "id": "view-in-github",
        "colab_type": "text"
      },
      "source": [
        "<a href=\"https://colab.research.google.com/github/SaraKmair/Quora-Question-Pairs/blob/master/QuoraQuestionSimilarity_FinalResults.ipynb\" target=\"_parent\"><img src=\"https://colab.research.google.com/assets/colab-badge.svg\" alt=\"Open In Colab\"/></a>"
      ]
    },
    {
      "cell_type": "code",
      "metadata": {
        "colab_type": "code",
        "id": "_D9VUjkF7hza",
        "colab": {}
      },
      "source": [
        "#read the data\n",
        "df = pd.read_csv('quora_duplicate_questions.tsv', sep=\"\\t\")\n",
        "# Dataset is now stored in a Pandas Dataframe"
      ],
      "execution_count": 0,
      "outputs": []
    },
    {
      "cell_type": "markdown",
      "metadata": {
        "id": "3iJv5R1JfCo2",
        "colab_type": "text"
      },
      "source": [
        "## EDA"
      ]
    },
    {
      "cell_type": "code",
      "metadata": {
        "id": "UdQPJvZsPvmH",
        "colab_type": "code",
        "outputId": "12562001-457f-4468-d652-3135a51cfcf8",
        "colab": {
          "base_uri": "https://localhost:8080/",
          "height": 204
        }
      },
      "source": [
        "df.head()"
      ],
      "execution_count": 6,
      "outputs": [
        {
          "output_type": "execute_result",
          "data": {
            "text/html": [
              "<div>\n",
              "<style scoped>\n",
              "    .dataframe tbody tr th:only-of-type {\n",
              "        vertical-align: middle;\n",
              "    }\n",
              "\n",
              "    .dataframe tbody tr th {\n",
              "        vertical-align: top;\n",
              "    }\n",
              "\n",
              "    .dataframe thead th {\n",
              "        text-align: right;\n",
              "    }\n",
              "</style>\n",
              "<table border=\"1\" class=\"dataframe\">\n",
              "  <thead>\n",
              "    <tr style=\"text-align: right;\">\n",
              "      <th></th>\n",
              "      <th>id</th>\n",
              "      <th>qid1</th>\n",
              "      <th>qid2</th>\n",
              "      <th>question1</th>\n",
              "      <th>question2</th>\n",
              "      <th>is_duplicate</th>\n",
              "    </tr>\n",
              "  </thead>\n",
              "  <tbody>\n",
              "    <tr>\n",
              "      <th>0</th>\n",
              "      <td>0</td>\n",
              "      <td>1</td>\n",
              "      <td>2</td>\n",
              "      <td>What is the step by step guide to invest in sh...</td>\n",
              "      <td>What is the step by step guide to invest in sh...</td>\n",
              "      <td>0</td>\n",
              "    </tr>\n",
              "    <tr>\n",
              "      <th>1</th>\n",
              "      <td>1</td>\n",
              "      <td>3</td>\n",
              "      <td>4</td>\n",
              "      <td>What is the story of Kohinoor (Koh-i-Noor) Dia...</td>\n",
              "      <td>What would happen if the Indian government sto...</td>\n",
              "      <td>0</td>\n",
              "    </tr>\n",
              "    <tr>\n",
              "      <th>2</th>\n",
              "      <td>2</td>\n",
              "      <td>5</td>\n",
              "      <td>6</td>\n",
              "      <td>How can I increase the speed of my internet co...</td>\n",
              "      <td>How can Internet speed be increased by hacking...</td>\n",
              "      <td>0</td>\n",
              "    </tr>\n",
              "    <tr>\n",
              "      <th>3</th>\n",
              "      <td>3</td>\n",
              "      <td>7</td>\n",
              "      <td>8</td>\n",
              "      <td>Why am I mentally very lonely? How can I solve...</td>\n",
              "      <td>Find the remainder when [math]23^{24}[/math] i...</td>\n",
              "      <td>0</td>\n",
              "    </tr>\n",
              "    <tr>\n",
              "      <th>4</th>\n",
              "      <td>4</td>\n",
              "      <td>9</td>\n",
              "      <td>10</td>\n",
              "      <td>Which one dissolve in water quikly sugar, salt...</td>\n",
              "      <td>Which fish would survive in salt water?</td>\n",
              "      <td>0</td>\n",
              "    </tr>\n",
              "  </tbody>\n",
              "</table>\n",
              "</div>"
            ],
            "text/plain": [
              "   id  qid1  ...                                          question2 is_duplicate\n",
              "0   0     1  ...  What is the step by step guide to invest in sh...            0\n",
              "1   1     3  ...  What would happen if the Indian government sto...            0\n",
              "2   2     5  ...  How can Internet speed be increased by hacking...            0\n",
              "3   3     7  ...  Find the remainder when [math]23^{24}[/math] i...            0\n",
              "4   4     9  ...            Which fish would survive in salt water?            0\n",
              "\n",
              "[5 rows x 6 columns]"
            ]
          },
          "metadata": {
            "tags": []
          },
          "execution_count": 6
        }
      ]
    },
    {
      "cell_type": "code",
      "metadata": {
        "id": "GNDT9JkdPxgk",
        "colab_type": "code",
        "outputId": "c8ec1997-cd1f-4a94-b551-afd58185d14d",
        "colab": {
          "base_uri": "https://localhost:8080/",
          "height": 51
        }
      },
      "source": [
        "#importing the libraries \n",
        "import pandas as pd #for data handeling \n",
        "import numpy as np \n",
        "import re #for regular expression \n",
        "import string \n",
        "import seaborn as sns\n",
        "import nltk #natural language tool kit \n",
        "from sklearn.feature_extraction.text import TfidfVectorizer\n",
        "import matplotlib.pyplot as plt\n",
        "from nltk import sent_tokenize, word_tokenize\n",
        "from nltk import corpus\n",
        "from nltk.stem import SnowballStemmer\n",
        "import difflib\n",
        "from sklearn.model_selection import train_test_split\n",
        "from sklearn.feature_extraction.text import TfidfVectorizer"
      ],
      "execution_count": 7,
      "outputs": [
        {
          "output_type": "stream",
          "text": [
            "/usr/local/lib/python3.6/dist-packages/statsmodels/tools/_testing.py:19: FutureWarning: pandas.util.testing is deprecated. Use the functions in the public API at pandas.testing instead.\n",
            "  import pandas.util.testing as tm\n"
          ],
          "name": "stderr"
        }
      ]
    },
    {
      "cell_type": "code",
      "metadata": {
        "id": "jwQEpsNTQ4Lv",
        "colab_type": "code",
        "outputId": "d222aff3-5468-41d0-830c-2b62b5cf0354",
        "colab": {
          "base_uri": "https://localhost:8080/",
          "height": 34
        }
      },
      "source": [
        "df.shape"
      ],
      "execution_count": 8,
      "outputs": [
        {
          "output_type": "execute_result",
          "data": {
            "text/plain": [
              "(404290, 6)"
            ]
          },
          "metadata": {
            "tags": []
          },
          "execution_count": 8
        }
      ]
    },
    {
      "cell_type": "code",
      "metadata": {
        "id": "CYLihY5NQ9RR",
        "colab_type": "code",
        "outputId": "87b12edf-45f2-4d7e-829f-fe5d791116e5",
        "colab": {
          "base_uri": "https://localhost:8080/",
          "height": 136
        }
      },
      "source": [
        "df.dtypes"
      ],
      "execution_count": 9,
      "outputs": [
        {
          "output_type": "execute_result",
          "data": {
            "text/plain": [
              "id               int64\n",
              "qid1             int64\n",
              "qid2             int64\n",
              "question1       object\n",
              "question2       object\n",
              "is_duplicate     int64\n",
              "dtype: object"
            ]
          },
          "metadata": {
            "tags": []
          },
          "execution_count": 9
        }
      ]
    },
    {
      "cell_type": "code",
      "metadata": {
        "id": "dgQR4_wTUhM5",
        "colab_type": "code",
        "outputId": "50c43e88-4224-4d15-cad9-433aa4a7ee04",
        "colab": {
          "base_uri": "https://localhost:8080/",
          "height": 136
        }
      },
      "source": [
        "#checking for Null values \n",
        "df.isnull().sum()"
      ],
      "execution_count": 10,
      "outputs": [
        {
          "output_type": "execute_result",
          "data": {
            "text/plain": [
              "id              0\n",
              "qid1            0\n",
              "qid2            0\n",
              "question1       1\n",
              "question2       2\n",
              "is_duplicate    0\n",
              "dtype: int64"
            ]
          },
          "metadata": {
            "tags": []
          },
          "execution_count": 10
        }
      ]
    },
    {
      "cell_type": "code",
      "metadata": {
        "id": "Rj7d329oQ_ZC",
        "colab_type": "code",
        "colab": {}
      },
      "source": [
        "#remove the missing values \n",
        "df = df.dropna().reset_index(drop = True)\n",
        "df.isnull().sum()\n",
        "#renaming is_duplicate column\n",
        "df.rename(columns = {'is_duplicate': 'label'}, inplace = True)"
      ],
      "execution_count": 0,
      "outputs": []
    },
    {
      "cell_type": "code",
      "metadata": {
        "id": "RTmEabBcRU5S",
        "colab_type": "code",
        "outputId": "17dd529f-5936-46ff-98c7-f703f99a102f",
        "colab": {
          "base_uri": "https://localhost:8080/",
          "height": 68
        }
      },
      "source": [
        "#check data balance \n",
        "(df['label'].value_counts() /len(df.label))*100"
      ],
      "execution_count": 12,
      "outputs": [
        {
          "output_type": "execute_result",
          "data": {
            "text/plain": [
              "0    63.079941\n",
              "1    36.920059\n",
              "Name: label, dtype: float64"
            ]
          },
          "metadata": {
            "tags": []
          },
          "execution_count": 12
        }
      ]
    },
    {
      "cell_type": "markdown",
      "metadata": {
        "id": "6kkLlMCnRbf6",
        "colab_type": "text"
      },
      "source": [
        "63% is non-duplicate questions <br />\n",
        "36.9% is duplicate questions"
      ]
    },
    {
      "cell_type": "code",
      "metadata": {
        "id": "QLoQkHlARcKn",
        "colab_type": "code",
        "outputId": "56402f09-adc7-4dc3-8787-185356557616",
        "colab": {
          "base_uri": "https://localhost:8080/",
          "height": 204
        }
      },
      "source": [
        "#exmple of duplicate questions\n",
        "\n",
        "df.loc[df['label'] == 1].head()"
      ],
      "execution_count": 13,
      "outputs": [
        {
          "output_type": "execute_result",
          "data": {
            "text/html": [
              "<div>\n",
              "<style scoped>\n",
              "    .dataframe tbody tr th:only-of-type {\n",
              "        vertical-align: middle;\n",
              "    }\n",
              "\n",
              "    .dataframe tbody tr th {\n",
              "        vertical-align: top;\n",
              "    }\n",
              "\n",
              "    .dataframe thead th {\n",
              "        text-align: right;\n",
              "    }\n",
              "</style>\n",
              "<table border=\"1\" class=\"dataframe\">\n",
              "  <thead>\n",
              "    <tr style=\"text-align: right;\">\n",
              "      <th></th>\n",
              "      <th>id</th>\n",
              "      <th>qid1</th>\n",
              "      <th>qid2</th>\n",
              "      <th>question1</th>\n",
              "      <th>question2</th>\n",
              "      <th>label</th>\n",
              "    </tr>\n",
              "  </thead>\n",
              "  <tbody>\n",
              "    <tr>\n",
              "      <th>5</th>\n",
              "      <td>5</td>\n",
              "      <td>11</td>\n",
              "      <td>12</td>\n",
              "      <td>Astrology: I am a Capricorn Sun Cap moon and c...</td>\n",
              "      <td>I'm a triple Capricorn (Sun, Moon and ascendan...</td>\n",
              "      <td>1</td>\n",
              "    </tr>\n",
              "    <tr>\n",
              "      <th>7</th>\n",
              "      <td>7</td>\n",
              "      <td>15</td>\n",
              "      <td>16</td>\n",
              "      <td>How can I be a good geologist?</td>\n",
              "      <td>What should I do to be a great geologist?</td>\n",
              "      <td>1</td>\n",
              "    </tr>\n",
              "    <tr>\n",
              "      <th>11</th>\n",
              "      <td>11</td>\n",
              "      <td>23</td>\n",
              "      <td>24</td>\n",
              "      <td>How do I read and find my YouTube comments?</td>\n",
              "      <td>How can I see all my Youtube comments?</td>\n",
              "      <td>1</td>\n",
              "    </tr>\n",
              "    <tr>\n",
              "      <th>12</th>\n",
              "      <td>12</td>\n",
              "      <td>25</td>\n",
              "      <td>26</td>\n",
              "      <td>What can make Physics easy to learn?</td>\n",
              "      <td>How can you make physics easy to learn?</td>\n",
              "      <td>1</td>\n",
              "    </tr>\n",
              "    <tr>\n",
              "      <th>13</th>\n",
              "      <td>13</td>\n",
              "      <td>27</td>\n",
              "      <td>28</td>\n",
              "      <td>What was your first sexual experience like?</td>\n",
              "      <td>What was your first sexual experience?</td>\n",
              "      <td>1</td>\n",
              "    </tr>\n",
              "  </tbody>\n",
              "</table>\n",
              "</div>"
            ],
            "text/plain": [
              "    id  qid1  ...                                          question2 label\n",
              "5    5    11  ...  I'm a triple Capricorn (Sun, Moon and ascendan...     1\n",
              "7    7    15  ...          What should I do to be a great geologist?     1\n",
              "11  11    23  ...             How can I see all my Youtube comments?     1\n",
              "12  12    25  ...            How can you make physics easy to learn?     1\n",
              "13  13    27  ...             What was your first sexual experience?     1\n",
              "\n",
              "[5 rows x 6 columns]"
            ]
          },
          "metadata": {
            "tags": []
          },
          "execution_count": 13
        }
      ]
    },
    {
      "cell_type": "code",
      "metadata": {
        "id": "dDss-lxbRgRf",
        "colab_type": "code",
        "outputId": "2a880009-3f1c-48a3-d8a1-8487bf9855a1",
        "colab": {
          "base_uri": "https://localhost:8080/",
          "height": 204
        }
      },
      "source": [
        "#exmple of non duplicate questions\n",
        "\n",
        "df.loc[df['label'] == 0].head()"
      ],
      "execution_count": 14,
      "outputs": [
        {
          "output_type": "execute_result",
          "data": {
            "text/html": [
              "<div>\n",
              "<style scoped>\n",
              "    .dataframe tbody tr th:only-of-type {\n",
              "        vertical-align: middle;\n",
              "    }\n",
              "\n",
              "    .dataframe tbody tr th {\n",
              "        vertical-align: top;\n",
              "    }\n",
              "\n",
              "    .dataframe thead th {\n",
              "        text-align: right;\n",
              "    }\n",
              "</style>\n",
              "<table border=\"1\" class=\"dataframe\">\n",
              "  <thead>\n",
              "    <tr style=\"text-align: right;\">\n",
              "      <th></th>\n",
              "      <th>id</th>\n",
              "      <th>qid1</th>\n",
              "      <th>qid2</th>\n",
              "      <th>question1</th>\n",
              "      <th>question2</th>\n",
              "      <th>label</th>\n",
              "    </tr>\n",
              "  </thead>\n",
              "  <tbody>\n",
              "    <tr>\n",
              "      <th>0</th>\n",
              "      <td>0</td>\n",
              "      <td>1</td>\n",
              "      <td>2</td>\n",
              "      <td>What is the step by step guide to invest in sh...</td>\n",
              "      <td>What is the step by step guide to invest in sh...</td>\n",
              "      <td>0</td>\n",
              "    </tr>\n",
              "    <tr>\n",
              "      <th>1</th>\n",
              "      <td>1</td>\n",
              "      <td>3</td>\n",
              "      <td>4</td>\n",
              "      <td>What is the story of Kohinoor (Koh-i-Noor) Dia...</td>\n",
              "      <td>What would happen if the Indian government sto...</td>\n",
              "      <td>0</td>\n",
              "    </tr>\n",
              "    <tr>\n",
              "      <th>2</th>\n",
              "      <td>2</td>\n",
              "      <td>5</td>\n",
              "      <td>6</td>\n",
              "      <td>How can I increase the speed of my internet co...</td>\n",
              "      <td>How can Internet speed be increased by hacking...</td>\n",
              "      <td>0</td>\n",
              "    </tr>\n",
              "    <tr>\n",
              "      <th>3</th>\n",
              "      <td>3</td>\n",
              "      <td>7</td>\n",
              "      <td>8</td>\n",
              "      <td>Why am I mentally very lonely? How can I solve...</td>\n",
              "      <td>Find the remainder when [math]23^{24}[/math] i...</td>\n",
              "      <td>0</td>\n",
              "    </tr>\n",
              "    <tr>\n",
              "      <th>4</th>\n",
              "      <td>4</td>\n",
              "      <td>9</td>\n",
              "      <td>10</td>\n",
              "      <td>Which one dissolve in water quikly sugar, salt...</td>\n",
              "      <td>Which fish would survive in salt water?</td>\n",
              "      <td>0</td>\n",
              "    </tr>\n",
              "  </tbody>\n",
              "</table>\n",
              "</div>"
            ],
            "text/plain": [
              "   id  qid1  ...                                          question2 label\n",
              "0   0     1  ...  What is the step by step guide to invest in sh...     0\n",
              "1   1     3  ...  What would happen if the Indian government sto...     0\n",
              "2   2     5  ...  How can Internet speed be increased by hacking...     0\n",
              "3   3     7  ...  Find the remainder when [math]23^{24}[/math] i...     0\n",
              "4   4     9  ...            Which fish would survive in salt water?     0\n",
              "\n",
              "[5 rows x 6 columns]"
            ]
          },
          "metadata": {
            "tags": []
          },
          "execution_count": 14
        }
      ]
    },
    {
      "cell_type": "code",
      "metadata": {
        "id": "M0JbPR8sRnlQ",
        "colab_type": "code",
        "colab": {}
      },
      "source": [
        "\n"
      ],
      "execution_count": 0,
      "outputs": []
    },
    {
      "cell_type": "markdown",
      "metadata": {
        "id": "XlnUwJwTRqqu",
        "colab_type": "text"
      },
      "source": [
        "\n",
        "**Word Count in each question**"
      ]
    },
    {
      "cell_type": "code",
      "metadata": {
        "id": "Z5uxMnzvRsWr",
        "colab_type": "code",
        "outputId": "b9b1141f-4150-41ac-cae3-4851f2fb67c2",
        "colab": {
          "base_uri": "https://localhost:8080/",
          "height": 204
        }
      },
      "source": [
        "#word count in each question \n",
        "df['count1'] = df['question1'].str.count(' ') + 1\n",
        "df['count2'] = df['question2'].str.count(' ') + 1\n",
        "df.head()"
      ],
      "execution_count": 15,
      "outputs": [
        {
          "output_type": "execute_result",
          "data": {
            "text/html": [
              "<div>\n",
              "<style scoped>\n",
              "    .dataframe tbody tr th:only-of-type {\n",
              "        vertical-align: middle;\n",
              "    }\n",
              "\n",
              "    .dataframe tbody tr th {\n",
              "        vertical-align: top;\n",
              "    }\n",
              "\n",
              "    .dataframe thead th {\n",
              "        text-align: right;\n",
              "    }\n",
              "</style>\n",
              "<table border=\"1\" class=\"dataframe\">\n",
              "  <thead>\n",
              "    <tr style=\"text-align: right;\">\n",
              "      <th></th>\n",
              "      <th>id</th>\n",
              "      <th>qid1</th>\n",
              "      <th>qid2</th>\n",
              "      <th>question1</th>\n",
              "      <th>question2</th>\n",
              "      <th>label</th>\n",
              "      <th>count1</th>\n",
              "      <th>count2</th>\n",
              "    </tr>\n",
              "  </thead>\n",
              "  <tbody>\n",
              "    <tr>\n",
              "      <th>0</th>\n",
              "      <td>0</td>\n",
              "      <td>1</td>\n",
              "      <td>2</td>\n",
              "      <td>What is the step by step guide to invest in sh...</td>\n",
              "      <td>What is the step by step guide to invest in sh...</td>\n",
              "      <td>0</td>\n",
              "      <td>14</td>\n",
              "      <td>12</td>\n",
              "    </tr>\n",
              "    <tr>\n",
              "      <th>1</th>\n",
              "      <td>1</td>\n",
              "      <td>3</td>\n",
              "      <td>4</td>\n",
              "      <td>What is the story of Kohinoor (Koh-i-Noor) Dia...</td>\n",
              "      <td>What would happen if the Indian government sto...</td>\n",
              "      <td>0</td>\n",
              "      <td>8</td>\n",
              "      <td>13</td>\n",
              "    </tr>\n",
              "    <tr>\n",
              "      <th>2</th>\n",
              "      <td>2</td>\n",
              "      <td>5</td>\n",
              "      <td>6</td>\n",
              "      <td>How can I increase the speed of my internet co...</td>\n",
              "      <td>How can Internet speed be increased by hacking...</td>\n",
              "      <td>0</td>\n",
              "      <td>14</td>\n",
              "      <td>10</td>\n",
              "    </tr>\n",
              "    <tr>\n",
              "      <th>3</th>\n",
              "      <td>3</td>\n",
              "      <td>7</td>\n",
              "      <td>8</td>\n",
              "      <td>Why am I mentally very lonely? How can I solve...</td>\n",
              "      <td>Find the remainder when [math]23^{24}[/math] i...</td>\n",
              "      <td>0</td>\n",
              "      <td>11</td>\n",
              "      <td>9</td>\n",
              "    </tr>\n",
              "    <tr>\n",
              "      <th>4</th>\n",
              "      <td>4</td>\n",
              "      <td>9</td>\n",
              "      <td>10</td>\n",
              "      <td>Which one dissolve in water quikly sugar, salt...</td>\n",
              "      <td>Which fish would survive in salt water?</td>\n",
              "      <td>0</td>\n",
              "      <td>13</td>\n",
              "      <td>7</td>\n",
              "    </tr>\n",
              "  </tbody>\n",
              "</table>\n",
              "</div>"
            ],
            "text/plain": [
              "   id  qid1  qid2  ... label count1  count2\n",
              "0   0     1     2  ...     0     14      12\n",
              "1   1     3     4  ...     0      8      13\n",
              "2   2     5     6  ...     0     14      10\n",
              "3   3     7     8  ...     0     11       9\n",
              "4   4     9    10  ...     0     13       7\n",
              "\n",
              "[5 rows x 8 columns]"
            ]
          },
          "metadata": {
            "tags": []
          },
          "execution_count": 15
        }
      ]
    },
    {
      "cell_type": "code",
      "metadata": {
        "id": "U-8BuAM2-OgX",
        "colab_type": "code",
        "outputId": "5f360280-bfe1-4408-f39f-7643a0e4fd55",
        "colab": {
          "base_uri": "https://localhost:8080/",
          "height": 34
        }
      },
      "source": [
        "#check the percentage of questions that are longer than 50 words \n",
        "(df[df['count2'] > 50 ].shape[0] / len(df.count2))*100"
      ],
      "execution_count": 16,
      "outputs": [
        {
          "output_type": "execute_result",
          "data": {
            "text/plain": [
              "0.18427503234088655"
            ]
          },
          "metadata": {
            "tags": []
          },
          "execution_count": 16
        }
      ]
    },
    {
      "cell_type": "code",
      "metadata": {
        "id": "l0qNmr1BV9vL",
        "colab_type": "code",
        "outputId": "f9546771-0b6d-4fda-9695-4132362f2056",
        "colab": {
          "base_uri": "https://localhost:8080/",
          "height": 34
        }
      },
      "source": [
        "#get the percentage of the data that has questions longer than 50 words\n",
        "(df[df['count1'] > 50 ].shape[0] / len(df.count1))*100"
      ],
      "execution_count": 17,
      "outputs": [
        {
          "output_type": "execute_result",
          "data": {
            "text/plain": [
              "0.04699631697284355"
            ]
          },
          "metadata": {
            "tags": []
          },
          "execution_count": 17
        }
      ]
    },
    {
      "cell_type": "code",
      "metadata": {
        "id": "Zg3vH4c0alb1",
        "colab_type": "code",
        "outputId": "38d56549-d2d8-4756-ad71-8ed22819efc7",
        "colab": {
          "base_uri": "https://localhost:8080/",
          "height": 419
        }
      },
      "source": [
        "#show questions that are longer than 50 words\n",
        "df[df['count2']> 50 ]"
      ],
      "execution_count": 18,
      "outputs": [
        {
          "output_type": "execute_result",
          "data": {
            "text/html": [
              "<div>\n",
              "<style scoped>\n",
              "    .dataframe tbody tr th:only-of-type {\n",
              "        vertical-align: middle;\n",
              "    }\n",
              "\n",
              "    .dataframe tbody tr th {\n",
              "        vertical-align: top;\n",
              "    }\n",
              "\n",
              "    .dataframe thead th {\n",
              "        text-align: right;\n",
              "    }\n",
              "</style>\n",
              "<table border=\"1\" class=\"dataframe\">\n",
              "  <thead>\n",
              "    <tr style=\"text-align: right;\">\n",
              "      <th></th>\n",
              "      <th>id</th>\n",
              "      <th>qid1</th>\n",
              "      <th>qid2</th>\n",
              "      <th>question1</th>\n",
              "      <th>question2</th>\n",
              "      <th>label</th>\n",
              "      <th>count1</th>\n",
              "      <th>count2</th>\n",
              "    </tr>\n",
              "  </thead>\n",
              "  <tbody>\n",
              "    <tr>\n",
              "      <th>1671</th>\n",
              "      <td>1671</td>\n",
              "      <td>3327</td>\n",
              "      <td>3328</td>\n",
              "      <td>What are some interesting differences between ...</td>\n",
              "      <td>Is it weird for a 'hearing' person with no dea...</td>\n",
              "      <td>0</td>\n",
              "      <td>13</td>\n",
              "      <td>53</td>\n",
              "    </tr>\n",
              "    <tr>\n",
              "      <th>2395</th>\n",
              "      <td>2395</td>\n",
              "      <td>4761</td>\n",
              "      <td>4762</td>\n",
              "      <td>I emailed my interviewer after the technical i...</td>\n",
              "      <td>I have applied for the Thought Works company t...</td>\n",
              "      <td>0</td>\n",
              "      <td>22</td>\n",
              "      <td>52</td>\n",
              "    </tr>\n",
              "    <tr>\n",
              "      <th>2580</th>\n",
              "      <td>2580</td>\n",
              "      <td>5126</td>\n",
              "      <td>5127</td>\n",
              "      <td>Is it a good idea for a CEO to take personal c...</td>\n",
              "      <td>A person I know has an idea for a mobile appli...</td>\n",
              "      <td>0</td>\n",
              "      <td>28</td>\n",
              "      <td>58</td>\n",
              "    </tr>\n",
              "    <tr>\n",
              "      <th>2632</th>\n",
              "      <td>2632</td>\n",
              "      <td>5230</td>\n",
              "      <td>5231</td>\n",
              "      <td>I have done a diploma in mechanical engineerin...</td>\n",
              "      <td>I have completed a 1-year diploma in fashion d...</td>\n",
              "      <td>0</td>\n",
              "      <td>22</td>\n",
              "      <td>54</td>\n",
              "    </tr>\n",
              "    <tr>\n",
              "      <th>2702</th>\n",
              "      <td>2702</td>\n",
              "      <td>76</td>\n",
              "      <td>5366</td>\n",
              "      <td>My girlfriend said that we should end this bec...</td>\n",
              "      <td>After 2 years being in a relationship my girlf...</td>\n",
              "      <td>0</td>\n",
              "      <td>37</td>\n",
              "      <td>51</td>\n",
              "    </tr>\n",
              "    <tr>\n",
              "      <th>...</th>\n",
              "      <td>...</td>\n",
              "      <td>...</td>\n",
              "      <td>...</td>\n",
              "      <td>...</td>\n",
              "      <td>...</td>\n",
              "      <td>...</td>\n",
              "      <td>...</td>\n",
              "      <td>...</td>\n",
              "    </tr>\n",
              "    <tr>\n",
              "      <th>402651</th>\n",
              "      <td>402654</td>\n",
              "      <td>536154</td>\n",
              "      <td>536155</td>\n",
              "      <td>Solve this for all masterminds !!             ...</td>\n",
              "      <td>Solve this for all masterkminds!!             ...</td>\n",
              "      <td>0</td>\n",
              "      <td>65</td>\n",
              "      <td>55</td>\n",
              "    </tr>\n",
              "    <tr>\n",
              "      <th>403753</th>\n",
              "      <td>403756</td>\n",
              "      <td>427820</td>\n",
              "      <td>537352</td>\n",
              "      <td>I was fired from my job and my boss didn't giv...</td>\n",
              "      <td>I got fired from my job and today I found out ...</td>\n",
              "      <td>0</td>\n",
              "      <td>32</td>\n",
              "      <td>51</td>\n",
              "    </tr>\n",
              "    <tr>\n",
              "      <th>403853</th>\n",
              "      <td>403856</td>\n",
              "      <td>537475</td>\n",
              "      <td>537476</td>\n",
              "      <td>My 10-year-old son is so lazy and irresponsibl...</td>\n",
              "      <td>My Son, 7 years old, walked into my room cryin...</td>\n",
              "      <td>0</td>\n",
              "      <td>14</td>\n",
              "      <td>53</td>\n",
              "    </tr>\n",
              "    <tr>\n",
              "      <th>404061</th>\n",
              "      <td>404064</td>\n",
              "      <td>537695</td>\n",
              "      <td>537696</td>\n",
              "      <td>Are cookies stored on my device even if I have...</td>\n",
              "      <td>I have 10 years of experience in human resourc...</td>\n",
              "      <td>0</td>\n",
              "      <td>25</td>\n",
              "      <td>60</td>\n",
              "    </tr>\n",
              "    <tr>\n",
              "      <th>404066</th>\n",
              "      <td>404069</td>\n",
              "      <td>176271</td>\n",
              "      <td>537702</td>\n",
              "      <td>My computer isn't working any more. How can I ...</td>\n",
              "      <td>Whole fight card for UFC on Fuel TV 9, 6th Apr...</td>\n",
              "      <td>0</td>\n",
              "      <td>17</td>\n",
              "      <td>134</td>\n",
              "    </tr>\n",
              "  </tbody>\n",
              "</table>\n",
              "<p>745 rows × 8 columns</p>\n",
              "</div>"
            ],
            "text/plain": [
              "            id    qid1    qid2  ... label count1  count2\n",
              "1671      1671    3327    3328  ...     0     13      53\n",
              "2395      2395    4761    4762  ...     0     22      52\n",
              "2580      2580    5126    5127  ...     0     28      58\n",
              "2632      2632    5230    5231  ...     0     22      54\n",
              "2702      2702      76    5366  ...     0     37      51\n",
              "...        ...     ...     ...  ...   ...    ...     ...\n",
              "402651  402654  536154  536155  ...     0     65      55\n",
              "403753  403756  427820  537352  ...     0     32      51\n",
              "403853  403856  537475  537476  ...     0     14      53\n",
              "404061  404064  537695  537696  ...     0     25      60\n",
              "404066  404069  176271  537702  ...     0     17     134\n",
              "\n",
              "[745 rows x 8 columns]"
            ]
          },
          "metadata": {
            "tags": []
          },
          "execution_count": 18
        }
      ]
    },
    {
      "cell_type": "markdown",
      "metadata": {
        "id": "QyZA9k7oV-PO",
        "colab_type": "text"
      },
      "source": [
        "**Common Words**"
      ]
    },
    {
      "cell_type": "code",
      "metadata": {
        "id": "9Q_mX0AEV7Cl",
        "colab_type": "code",
        "colab": {}
      },
      "source": [
        "#check top 50 common words \n",
        "freq1 = pd.Series(' '.join(df['question1']).split()).value_counts()[:50]\n",
        "freq2 = pd.Series(' '.join(df['question2']).split()).value_counts()[:50]"
      ],
      "execution_count": 0,
      "outputs": []
    },
    {
      "cell_type": "code",
      "metadata": {
        "id": "no_5hC7k7WXT",
        "colab_type": "code",
        "colab": {}
      },
      "source": [
        "question1 = list(df['question1'])\n",
        "question2 = list(df['question2'])"
      ],
      "execution_count": 0,
      "outputs": []
    },
    {
      "cell_type": "code",
      "metadata": {
        "id": "BHvLSxFMRvQP",
        "colab_type": "code",
        "outputId": "fbf60112-3ee7-403b-bb5e-7bce31968b21",
        "colab": {
          "base_uri": "https://localhost:8080/",
          "height": 51
        }
      },
      "source": [
        "#check the percent of invalid questions \n",
        "#check for invalid questions \n",
        "invalid_questions = []\n",
        "for i in range(len(question1)):\n",
        "    # questions need to contain a vowel to be valid \n",
        "    if not re.search('[aeiouy]', question1[i]) or not re.search('[aeiouy]', question2[i]):\n",
        "    # check length the invalid questions to remove them\n",
        "        invalid_questions.append(i-len(invalid_questions))\n",
        "print(len(invalid_questions))\n",
        "len(invalid_questions)/len(question1) "
      ],
      "execution_count": 21,
      "outputs": [
        {
          "output_type": "stream",
          "text": [
            "172\n"
          ],
          "name": "stdout"
        },
        {
          "output_type": "execute_result",
          "data": {
            "text/plain": [
              "0.0004254403431225837"
            ]
          },
          "metadata": {
            "tags": []
          },
          "execution_count": 21
        }
      ]
    },
    {
      "cell_type": "markdown",
      "metadata": {
        "id": "T2TbU_eoRxVG",
        "colab_type": "text"
      },
      "source": [
        "\n",
        "## DataVisualization"
      ]
    },
    {
      "cell_type": "code",
      "metadata": {
        "id": "wiuZYXSWRybZ",
        "colab_type": "code",
        "outputId": "82ae9ee3-ce9a-4d55-9c6d-be4a11a9e312",
        "colab": {
          "base_uri": "https://localhost:8080/",
          "height": 857
        }
      },
      "source": [
        "#Histogram of word count 1 & 2\n",
        "#distribution of wordcount for question 1 \n",
        "\n",
        "sns.set()\n",
        "bin_edges = [0,5,20,25,20,25,30,35,40,45,50]\n",
        "_ = plt.hist(df['count1'], bins=range(min(df['count1']), max(df['count1']) + 5, 5))\n",
        "_ = plt.xlabel('word count')\n",
        "_ = plt.ylabel('Frequency')\n",
        "plt.title('histogram of word count in question1',fontsize=15)\n",
        "plt.xlim(min(bin_edges), max(bin_edges))\n",
        "plt.show()\n",
        "\n",
        "#distribution of wordcount for question 2\n",
        "sns.set()\n",
        "bin_edges = [0,5,20,25,20,25,30,35,40,45,50]\n",
        "_ = plt.hist(df['count2'], bins=range(min(df['count2']), max(df['count2']) + 5, 5))\n",
        "_ = plt.xlabel('word count')\n",
        "_ = plt.ylabel('Frequency ')\n",
        "plt.title('histogram of word count in question2',fontsize=15)\n",
        "plt.xlim(min(bin_edges), max(bin_edges))\n",
        "\n",
        "plt.show()\n",
        "\n",
        "#label count \n",
        "sns.countplot(x = 'label', data = df, palette = 'hls')\n",
        "plt.show()\n",
        "\n"
      ],
      "execution_count": 22,
      "outputs": [
        {
          "output_type": "display_data",
          "data": {
            "image/png": "[encoded data removed]",
            "text/plain": [
              "<Figure size 432x288 with 1 Axes>"
            ]
          },
          "metadata": {
            "tags": []
          }
        },
        {
          "output_type": "display_data",
          "data": {
            "image/png": "[encoded data removed]",
            "text/plain": [
              "<Figure size 432x288 with 1 Axes>"
            ]
          },
          "metadata": {
            "tags": []
          }
        },
        {
          "output_type": "display_data",
          "data": {
            "image/png": "[encoded data removed]",
            "text/plain": [
              "<Figure size 432x288 with 1 Axes>"
            ]
          },
          "metadata": {
            "tags": []
          }
        }
      ]
    },
    {
      "cell_type": "code",
      "metadata": {
        "id": "9dsroRI2m4Qo",
        "colab_type": "code",
        "outputId": "25a1f581-1836-43a6-f7dd-b5bbc4c45239",
        "colab": {
          "base_uri": "https://localhost:8080/",
          "height": 248
        }
      },
      "source": [
        "#plot wordcloud for the most frequent words in question1 //this plot will exclude stop_words\n",
        "from wordcloud import WordCloud \n",
        "freq1_letters = re.sub(\"[^a-zA-Z]\",  # Search for all non-letters\n",
        "                          \" \",          # Replace all non-letters with spaces as word cloud accept string only \n",
        "                          str(question1))\n",
        "wordcloud=WordCloud(background_color='white',mode=\"RGB\", width=3000 , height=2000, max_words= 40, min_font_size=15).generate(freq1_letters) \n",
        "plt.figure()\n",
        "plt.imshow(wordcloud, interpolation=\"bilinear\")\n",
        "plt.axis(\"off\")\n",
        "plt.show()"
      ],
      "execution_count": 23,
      "outputs": [
        {
          "output_type": "display_data",
          "data": {
            "image/png": "[encoded data removed]",
            "text/plain": [
              "<Figure size 432x288 with 1 Axes>"
            ]
          },
          "metadata": {
            "tags": []
          }
        }
      ]
    },
    {
      "cell_type": "code",
      "metadata": {
        "id": "nPXJc7i9R4b5",
        "colab_type": "code",
        "outputId": "8cb76c07-3102-4fa9-e4a0-aba81b18d6a5",
        "colab": {
          "base_uri": "https://localhost:8080/",
          "height": 198
        }
      },
      "source": [
        "freq2_letters = re.sub(\"[^a-zA-Z]\",  # Search for all non-letters\n",
        "                          \" \",          # Replace all non-letters with spaces as word cloud accept string only \n",
        "                          str(question2))\n",
        "wordcloud=WordCloud(background_color='white',mode=\"RGB\", width=2000 , height=1000, max_words= 40, min_font_size=15).generate(freq2_letters) \n",
        "plt.figure()\n",
        "plt.imshow(wordcloud, interpolation=\"bilinear\")\n",
        "plt.axis(\"off\")\n",
        "plt.show()\n"
      ],
      "execution_count": 24,
      "outputs": [
        {
          "output_type": "display_data",
          "data": {
            "image/png": "[encoded data removed]",
            "text/plain": [
              "<Figure size 432x288 with 1 Axes>"
            ]
          },
          "metadata": {
            "tags": []
          }
        }
      ]
    },
    {
      "cell_type": "code",
      "metadata": {
        "id": "UBVJC4YIHH1_",
        "colab_type": "code",
        "colab": {}
      },
      "source": [
        "#change data type in count1 and count2 into integer \n",
        "df['count1'] = df['count1'].astype(int)\n",
        "df['count2'] = df['count2'].astype(int)"
      ],
      "execution_count": 0,
      "outputs": []
    },
    {
      "cell_type": "code",
      "metadata": {
        "id": "_HtneNYYVtSq",
        "colab_type": "code",
        "colab": {}
      },
      "source": [
        ""
      ],
      "execution_count": 0,
      "outputs": []
    },
    {
      "cell_type": "markdown",
      "metadata": {
        "id": "BUvjiXK5VvdW",
        "colab_type": "text"
      },
      "source": [
        "**the number of character**"
      ]
    },
    {
      "cell_type": "code",
      "metadata": {
        "id": "GvOAoiniM1-U",
        "colab_type": "code",
        "colab": {}
      },
      "source": [
        "df['char_count1']= df['question1'].str.len() ## this also includes spaces\n",
        "df['char_count2']= df['question2'].str.len() ## this also includes spaces"
      ],
      "execution_count": 0,
      "outputs": []
    },
    {
      "cell_type": "markdown",
      "metadata": {
        "id": "WNoTDd7IM6SH",
        "colab_type": "text"
      },
      "source": [
        "**the number of average word length**"
      ]
    },
    {
      "cell_type": "code",
      "metadata": {
        "id": "j8lxnYq5M2FY",
        "colab_type": "code",
        "colab": {}
      },
      "source": [
        "#average word length\n",
        "def avg_word_len(sentence):\n",
        "  words = sentence.split()\n",
        "  return round(sum(len(word) for word in words)/len(words))\n"
      ],
      "execution_count": 0,
      "outputs": []
    },
    {
      "cell_type": "code",
      "metadata": {
        "id": "WuJ6WX22M7yn",
        "colab_type": "code",
        "colab": {}
      },
      "source": [
        "df['avg_word_len1'] = df['question1'].apply(lambda x: avg_word_len(x))\n",
        "df['avg_word_len2'] = df['question2'].apply(lambda x: avg_word_len(x))\n"
      ],
      "execution_count": 0,
      "outputs": []
    },
    {
      "cell_type": "markdown",
      "metadata": {
        "id": "08yMUHZFWCW2",
        "colab_type": "text"
      },
      "source": [
        "**the number of stop words**"
      ]
    },
    {
      "cell_type": "code",
      "metadata": {
        "id": "z-u0xw1TU6hu",
        "colab_type": "code",
        "outputId": "3b36649a-c565-43ce-a808-24ed884f4eb0",
        "colab": {
          "base_uri": "https://localhost:8080/",
          "height": 170
        }
      },
      "source": [
        "!pip install stop_words\n",
        "from stop_words import get_stop_words\n",
        "stop_words = get_stop_words('en')\n",
        "stop_words = get_stop_words('english')\n",
        "\n",
        "df['stopwords_count1'] = df['question1'].apply(lambda x: len([x for x in x.split() if x in stop_words]))\n",
        "df['stopwords_count2'] = df['question2'].apply(lambda x: len([x for x in x.split() if x in stop_words]))\n"
      ],
      "execution_count": 29,
      "outputs": [
        {
          "output_type": "stream",
          "text": [
            "Collecting stop_words\n",
            "  Downloading https://files.pythonhosted.org/packages/1c/cb/d58290804b7a4c5daa42abbbe2a93c477ae53e45541b1825e86f0dfaaf63/stop-words-2018.7.23.tar.gz\n",
            "Building wheels for collected packages: stop-words\n",
            "  Building wheel for stop-words (setup.py) ... \u001b[?25l\u001b[?25hdone\n",
            "  Created wheel for stop-words: filename=stop_words-2018.7.23-cp36-none-any.whl size=32917 sha256=38d0932886ef16764c37b2d10708a1c8fd972d8814cd1d5daa0d2188fa551334\n",
            "  Stored in directory: /root/.cache/pip/wheels/75/37/6a/2b295e03bd07290f0da95c3adb9a74ba95fbc333aa8b0c7c78\n",
            "Successfully built stop-words\n",
            "Installing collected packages: stop-words\n",
            "Successfully installed stop-words-2018.7.23\n"
          ],
          "name": "stdout"
        }
      ]
    },
    {
      "cell_type": "markdown",
      "metadata": {
        "id": "RNcYESF3Pq95",
        "colab_type": "text"
      },
      "source": [
        "**get the common words between question1 and question2**"
      ]
    },
    {
      "cell_type": "code",
      "metadata": {
        "id": "xqbSu49DkDmU",
        "colab_type": "code",
        "colab": {}
      },
      "source": [
        "#get the number of common words \n",
        "def common_words(x, y):\n",
        "    common_word = []\n",
        "    for i in range(len(x)):\n",
        "        common_ratio = difflib.SequenceMatcher(None, x[i], y[i]).ratio()\n",
        "        common_word.append(common_ratio)\n",
        "    return common_word\n",
        "\n",
        "df['common_words'] = common_words(question1, question2)"
      ],
      "execution_count": 0,
      "outputs": []
    },
    {
      "cell_type": "code",
      "metadata": {
        "id": "imOxliyrP64O",
        "colab_type": "code",
        "colab": {}
      },
      "source": [
        ""
      ],
      "execution_count": 0,
      "outputs": []
    },
    {
      "cell_type": "markdown",
      "metadata": {
        "id": "xqatGb3BP7-f",
        "colab_type": "text"
      },
      "source": [
        "**get the number of unique words**"
      ]
    },
    {
      "cell_type": "code",
      "metadata": {
        "id": "8uZI_TbqP7Gw",
        "colab_type": "code",
        "colab": {}
      },
      "source": [
        "# get the number of unique words \n",
        "def unique_words(x, y):\n",
        "    unique_word_list = []\n",
        "    unique_word_cnt = []\n",
        "    for i in range(len(x)):\n",
        "        intersection_set = set.intersection(*[set(x[i]), set(y[i])]) #intersection between question1 and question2\n",
        "        union_set = set.union(*[set(x[i]), set(y[i])]) #union between question1 and question2\n",
        "        unique_words = union_set - intersection_set #unique words \n",
        "        unique_word_list.append(unique_words) #get the unique words list \n",
        "        unique_word_cnt.append(len(unique_words)) #get the link of unique words                \n",
        "    return unique_word_cnt\n",
        "\n",
        "df['unique_word_cnt'] = unique_words(question1, question2)"
      ],
      "execution_count": 0,
      "outputs": []
    },
    {
      "cell_type": "markdown",
      "metadata": {
        "id": "iT8NJ9d-R8f6",
        "colab_type": "text"
      },
      "source": [
        "## Text Pre-processing \n",
        "- Remove questions with less than 8/9 characters <br />\n",
        "- Drop questions with more than 50 words <br />\n",
        "- Convert to lower case: will prevent having multiple copies of the same word <br />\n",
        "- Remove some of the common words <br />\n",
        "- Remove shortcuts <br />\n",
        "- Remove puctuations or any other symbols in order to not consider puctuations as words <br />\n",
        "- Remove stop words <br />\n",
        "- Remove Numbers <br />\n",
        "- Remove invalid questions <br />\n"
      ]
    },
    {
      "cell_type": "code",
      "metadata": {
        "id": "Eb5nFCpsVkP0",
        "colab_type": "code",
        "colab": {}
      },
      "source": [
        "#remove questions from question 1 that have less than 9 characters  \n",
        "df_clean = df[df['char_count1']!=9]\n",
        "#remove questions from question 2 that have less than 8 characters  \n",
        "df_clean = df[df['char_count2']!=8]"
      ],
      "execution_count": 0,
      "outputs": []
    },
    {
      "cell_type": "code",
      "metadata": {
        "id": "JPxnOr-cbImo",
        "colab_type": "code",
        "colab": {}
      },
      "source": [
        "#remove questions with more than 50 words \n",
        "df = df[df['count2']< 50]\n",
        "df = df[df['count1']< 50]\n"
      ],
      "execution_count": 0,
      "outputs": []
    },
    {
      "cell_type": "code",
      "metadata": {
        "id": "4yERRFpDbxbR",
        "colab_type": "code",
        "outputId": "2d6c6219-bf60-404c-b46c-663a366ba1ef",
        "colab": {
          "base_uri": "https://localhost:8080/",
          "height": 34
        }
      },
      "source": [
        "df.shape"
      ],
      "execution_count": 34,
      "outputs": [
        {
          "output_type": "execute_result",
          "data": {
            "text/plain": [
              "(403285, 16)"
            ]
          },
          "metadata": {
            "tags": []
          },
          "execution_count": 34
        }
      ]
    },
    {
      "cell_type": "code",
      "metadata": {
        "id": "aZcldGtGR9FV",
        "colab_type": "code",
        "colab": {}
      },
      "source": [
        "#convert all the data frame to lower case \n",
        "df_clean = df.apply(lambda x: x.astype(str).str.lower())"
      ],
      "execution_count": 0,
      "outputs": []
    },
    {
      "cell_type": "code",
      "metadata": {
        "id": "Q2fapyoeSK_E",
        "colab_type": "code",
        "colab": {}
      },
      "source": [
        "#remove common words //in this case I decided to remove the top 50 common words\n",
        "freq1 = list(freq1.index)\n",
        "freq2 = list(freq2.index)\n",
        "df_clean['question1'] = df_clean['question1'].apply(lambda x :\" \".join(x for x in x.split()if x not in freq1))\n",
        "df_clean['question2'] = df_clean['question2'].apply(lambda x :\" \".join(x for x in x.split()if x not in freq2))"
      ],
      "execution_count": 0,
      "outputs": []
    },
    {
      "cell_type": "code",
      "metadata": {
        "id": "TE0iqvZ1BHXg",
        "colab_type": "code",
        "colab": {}
      },
      "source": [
        "pd.set_option('display.max_colwidth',100)"
      ],
      "execution_count": 0,
      "outputs": []
    },
    {
      "cell_type": "code",
      "metadata": {
        "id": "5ZqXG8KSSV6T",
        "colab_type": "code",
        "colab": {}
      },
      "source": [
        "\n"
      ],
      "execution_count": 0,
      "outputs": []
    },
    {
      "cell_type": "markdown",
      "metadata": {
        "id": "OcmaJAUPSY-3",
        "colab_type": "text"
      },
      "source": [
        "**Remove Shortcuts** <br />\n",
        "**Remove Numbers** <br />\n",
        "**Remove short words**"
      ]
    },
    {
      "cell_type": "code",
      "metadata": {
        "id": "kMGnvB4KSZUI",
        "colab_type": "code",
        "colab": {}
      },
      "source": [
        "#replace the shortcuts with words\n",
        "def clean(s):\n",
        "\n",
        "    s = re.sub(r\"\\'ve\", \" have \", s)\n",
        "    s = re.sub(r\"can't\", \"cannot \", s)\n",
        "    s = re.sub(r\"n't\", \" not \", s)\n",
        "    s = re.sub(r\"\\'s\", \" \", s)\n",
        "    s = re.sub(r\"I'm\", \"I am\", s)\n",
        "    s = re.sub(r\" m \", \" am \", s)\n",
        "    s = re.sub(r\"\\'re\", \" are \", s)\n",
        "    s = re.sub(r\"\\'d\", \" would \", s)\n",
        "    s = re.sub(r\"\\'ll\", \" will \", s)\n",
        "    \n",
        "  #remove numbers\n",
        "    s = re.sub('[0-9]+', '', s) \n",
        "\n",
        "  #remove short words (<3 character)\n",
        "    s = re.sub(r\"\\W*\\b\\w{1,2}\\b\", \"\", s)\n",
        "\n",
        "    return s\n",
        "df_clean['question1'] = df_clean['question1'].apply(clean)\n",
        "df_clean['question2'] = df_clean['question2'].apply(clean)"
      ],
      "execution_count": 0,
      "outputs": []
    },
    {
      "cell_type": "markdown",
      "metadata": {
        "id": "pEhvZTwVSedP",
        "colab_type": "text"
      },
      "source": [
        "**Remove punctuations**"
      ]
    },
    {
      "cell_type": "code",
      "metadata": {
        "id": "hbFl_vIJSfgD",
        "colab_type": "code",
        "colab": {}
      },
      "source": [
        "#remove puctuations \n",
        "\n",
        "df_clean['question1'] = df_clean['question1'].str.replace('[^\\w\\s]','')\n",
        "df_clean['question2'] = df_clean['question2'].str.replace('[^\\w\\s]','')"
      ],
      "execution_count": 0,
      "outputs": []
    },
    {
      "cell_type": "markdown",
      "metadata": {
        "id": "SPSAePLTSxxl",
        "colab_type": "text"
      },
      "source": [
        "**Remove stop words**"
      ]
    },
    {
      "cell_type": "code",
      "metadata": {
        "id": "foR4t93xS1cd",
        "colab_type": "code",
        "colab": {}
      },
      "source": [
        "#tokenize the questions and remove stop words \n",
        "#remove stop words from question1\n",
        "df_clean['question1'] = df_clean['question1'].apply(lambda x: [item for item in str.split(x) if item not in stop_words])\n",
        "#remove stop words from question2 \n",
        "df_clean['question2'] = df_clean['question2'].apply(lambda x: [item for item in str.split(x) if item not in stop_words])"
      ],
      "execution_count": 0,
      "outputs": []
    },
    {
      "cell_type": "code",
      "metadata": {
        "id": "5q8D1Zj3TNqp",
        "colab_type": "code",
        "colab": {}
      },
      "source": [
        ""
      ],
      "execution_count": 0,
      "outputs": []
    },
    {
      "cell_type": "code",
      "metadata": {
        "id": "oAHprkjt1uy0",
        "colab_type": "code",
        "colab": {}
      },
      "source": [
        "#remove invalid questions \n",
        "for index in invalid_questions:\n",
        "    df_clean = df_clean[df_clean.id != index]\n",
        "    question1.pop(index)\n",
        "    question2.pop(index)"
      ],
      "execution_count": 0,
      "outputs": []
    },
    {
      "cell_type": "code",
      "metadata": {
        "id": "0Pljp8pNy7gJ",
        "colab_type": "code",
        "outputId": "fe9a6c83-bb23-40d6-b1dc-664f46c44862",
        "colab": {
          "base_uri": "https://localhost:8080/",
          "height": 272
        }
      },
      "source": [
        "df_clean.tail()"
      ],
      "execution_count": 42,
      "outputs": [
        {
          "output_type": "execute_result",
          "data": {
            "text/html": [
              "<div>\n",
              "<style scoped>\n",
              "    .dataframe tbody tr th:only-of-type {\n",
              "        vertical-align: middle;\n",
              "    }\n",
              "\n",
              "    .dataframe tbody tr th {\n",
              "        vertical-align: top;\n",
              "    }\n",
              "\n",
              "    .dataframe thead th {\n",
              "        text-align: right;\n",
              "    }\n",
              "</style>\n",
              "<table border=\"1\" class=\"dataframe\">\n",
              "  <thead>\n",
              "    <tr style=\"text-align: right;\">\n",
              "      <th></th>\n",
              "      <th>id</th>\n",
              "      <th>qid1</th>\n",
              "      <th>qid2</th>\n",
              "      <th>question1</th>\n",
              "      <th>question2</th>\n",
              "      <th>label</th>\n",
              "      <th>count1</th>\n",
              "      <th>count2</th>\n",
              "      <th>char_count1</th>\n",
              "      <th>char_count2</th>\n",
              "      <th>avg_word_len1</th>\n",
              "      <th>avg_word_len2</th>\n",
              "      <th>stopwords_count1</th>\n",
              "      <th>stopwords_count2</th>\n",
              "      <th>common_words</th>\n",
              "      <th>unique_word_cnt</th>\n",
              "    </tr>\n",
              "  </thead>\n",
              "  <tbody>\n",
              "    <tr>\n",
              "      <th>404282</th>\n",
              "      <td>404285</td>\n",
              "      <td>433578</td>\n",
              "      <td>379845</td>\n",
              "      <td>[many, keywords, racket, programming, language, latest, version]</td>\n",
              "      <td>[many, keywords, perl, programming, language, latest, version]</td>\n",
              "      <td>0</td>\n",
              "      <td>14</td>\n",
              "      <td>13</td>\n",
              "      <td>85</td>\n",
              "      <td>79</td>\n",
              "      <td>5</td>\n",
              "      <td>5</td>\n",
              "      <td>6</td>\n",
              "      <td>5</td>\n",
              "      <td>0.8658536585365854</td>\n",
              "      <td>6</td>\n",
              "    </tr>\n",
              "    <tr>\n",
              "      <th>404283</th>\n",
              "      <td>404286</td>\n",
              "      <td>18840</td>\n",
              "      <td>155606</td>\n",
              "      <td>[believe, life, death]</td>\n",
              "      <td>[true, life, death]</td>\n",
              "      <td>1</td>\n",
              "      <td>8</td>\n",
              "      <td>9</td>\n",
              "      <td>41</td>\n",
              "      <td>42</td>\n",
              "      <td>4</td>\n",
              "      <td>4</td>\n",
              "      <td>4</td>\n",
              "      <td>5</td>\n",
              "      <td>0.7228915662650602</td>\n",
              "      <td>6</td>\n",
              "    </tr>\n",
              "    <tr>\n",
              "      <th>404284</th>\n",
              "      <td>404287</td>\n",
              "      <td>537928</td>\n",
              "      <td>537929</td>\n",
              "      <td>[one, coin]</td>\n",
              "      <td>[coin]</td>\n",
              "      <td>0</td>\n",
              "      <td>4</td>\n",
              "      <td>3</td>\n",
              "      <td>17</td>\n",
              "      <td>17</td>\n",
              "      <td>4</td>\n",
              "      <td>5</td>\n",
              "      <td>1</td>\n",
              "      <td>1</td>\n",
              "      <td>0.7647058823529411</td>\n",
              "      <td>2</td>\n",
              "    </tr>\n",
              "    <tr>\n",
              "      <th>404285</th>\n",
              "      <td>404288</td>\n",
              "      <td>537930</td>\n",
              "      <td>537931</td>\n",
              "      <td>[approx, annual, cost, living, studying, uic, chicago, indian, student]</td>\n",
              "      <td>[little, hairfall, problem, want, use, hair, styling, product, one, prefer, gel, wax, clay]</td>\n",
              "      <td>0</td>\n",
              "      <td>17</td>\n",
              "      <td>25</td>\n",
              "      <td>94</td>\n",
              "      <td>127</td>\n",
              "      <td>5</td>\n",
              "      <td>4</td>\n",
              "      <td>7</td>\n",
              "      <td>8</td>\n",
              "      <td>0.2986425339366516</td>\n",
              "      <td>5</td>\n",
              "    </tr>\n",
              "    <tr>\n",
              "      <th>404286</th>\n",
              "      <td>404289</td>\n",
              "      <td>537932</td>\n",
              "      <td>537933</td>\n",
              "      <td>[sex, cousin]</td>\n",
              "      <td>[sex, cousin]</td>\n",
              "      <td>0</td>\n",
              "      <td>8</td>\n",
              "      <td>10</td>\n",
              "      <td>37</td>\n",
              "      <td>45</td>\n",
              "      <td>4</td>\n",
              "      <td>4</td>\n",
              "      <td>4</td>\n",
              "      <td>6</td>\n",
              "      <td>0.9024390243902439</td>\n",
              "      <td>2</td>\n",
              "    </tr>\n",
              "  </tbody>\n",
              "</table>\n",
              "</div>"
            ],
            "text/plain": [
              "            id    qid1  ...        common_words unique_word_cnt\n",
              "404282  404285  433578  ...  0.8658536585365854               6\n",
              "404283  404286   18840  ...  0.7228915662650602               6\n",
              "404284  404287  537928  ...  0.7647058823529411               2\n",
              "404285  404288  537930  ...  0.2986425339366516               5\n",
              "404286  404289  537932  ...  0.9024390243902439               2\n",
              "\n",
              "[5 rows x 16 columns]"
            ]
          },
          "metadata": {
            "tags": []
          },
          "execution_count": 42
        }
      ]
    },
    {
      "cell_type": "code",
      "metadata": {
        "id": "_7g6NisQhuMG",
        "colab_type": "code",
        "colab": {}
      },
      "source": [
        "#convert the text to list \n",
        "question1 = list(df_clean['question1'])\n",
        "question2 = list(df_clean['question2'])\n",
        "questions = question1 + question2 "
      ],
      "execution_count": 0,
      "outputs": []
    },
    {
      "cell_type": "markdown",
      "metadata": {
        "id": "DknOOoHeIifw",
        "colab_type": "text"
      },
      "source": [
        "## Text Normalization \n",
        "**Stemming**: remove the suffices"
      ]
    },
    {
      "cell_type": "code",
      "metadata": {
        "id": "USKtjbL5Ihy9",
        "colab_type": "code",
        "colab": {}
      },
      "source": [
        "#stem the words \n",
        "\n",
        "st = SnowballStemmer(\"english\")\n",
        "df_clean['question1'] = df_clean['question1'].apply(lambda x: \" \".join([st.stem(word) for word in x]))\n",
        "df_clean['question2'] = df_clean['question2'].apply(lambda x: \" \".join([st.stem(word) for word in x]))"
      ],
      "execution_count": 0,
      "outputs": []
    },
    {
      "cell_type": "code",
      "metadata": {
        "id": "BIr-OFM6IO8h",
        "colab_type": "code",
        "colab": {}
      },
      "source": [
        ""
      ],
      "execution_count": 0,
      "outputs": []
    },
    {
      "cell_type": "markdown",
      "metadata": {
        "id": "n_qHueFeTUij",
        "colab_type": "text"
      },
      "source": [
        "**TF-IDF** <br />\n",
        "**\"term frequency\" which is the number of times a word appears in a document** <br>\n",
        "**TF = (Frequency of the word in the sentence) / (Total number of words in the sentence)** <br>\n",
        "**IDF: (Total number of sentences (documents))/(Number of sentences (documents) containing the word)**"
      ]
    },
    {
      "cell_type": "code",
      "metadata": {
        "id": "p7Ky36UiyHx1",
        "colab_type": "code",
        "colab": {}
      },
      "source": [
        "#encode questions to unicode \n",
        "df_clean['question1'] = df_clean['question1'].apply(lambda x: str(x))\n",
        "df_clean['question2'] = df_clean['question2'].apply(lambda x: str(x))"
      ],
      "execution_count": 0,
      "outputs": []
    },
    {
      "cell_type": "code",
      "metadata": {
        "id": "dQXjXH78TlMy",
        "colab_type": "code",
        "colab": {}
      },
      "source": [
        "#convert the text to list \n",
        "question1 = list(df_clean['question1'])\n",
        "question2 = list(df_clean['question2'])\n",
        "questions = question1 + question2 "
      ],
      "execution_count": 0,
      "outputs": []
    },
    {
      "cell_type": "code",
      "metadata": {
        "id": "1hN4vZCGUD0Y",
        "colab_type": "code",
        "colab": {}
      },
      "source": [
        "#word vectorizer \n",
        "tfidf_vectors = TfidfVectorizer(stop_words='english', min_df=10, max_df = 0.5,  sublinear_tf= True,  ngram_range=(1, 2))"
      ],
      "execution_count": 0,
      "outputs": []
    },
    {
      "cell_type": "code",
      "metadata": {
        "id": "zybWitpHUIqD",
        "colab_type": "code",
        "outputId": "94221611-bd78-4924-9007-b53b3a743f8d",
        "colab": {
          "base_uri": "https://localhost:8080/",
          "height": 136
        }
      },
      "source": [
        "tfidf_vectors "
      ],
      "execution_count": 48,
      "outputs": [
        {
          "output_type": "execute_result",
          "data": {
            "text/plain": [
              "TfidfVectorizer(analyzer='word', binary=False, decode_error='strict',\n",
              "                dtype=<class 'numpy.float64'>, encoding='utf-8',\n",
              "                input='content', lowercase=True, max_df=0.5, max_features=None,\n",
              "                min_df=10, ngram_range=(1, 2), norm='l2', preprocessor=None,\n",
              "                smooth_idf=True, stop_words='english', strip_accents=None,\n",
              "                sublinear_tf=True, token_pattern='(?u)\\\\b\\\\w\\\\w+\\\\b',\n",
              "                tokenizer=None, use_idf=True, vocabulary=None)"
            ]
          },
          "metadata": {
            "tags": []
          },
          "execution_count": 48
        }
      ]
    },
    {
      "cell_type": "code",
      "metadata": {
        "id": "qmuRrOsg3TqV",
        "colab_type": "code",
        "colab": {}
      },
      "source": [
        "#create sparse matrix \n",
        "tfidf_matrix = tfidf_vectors.fit_transform(questions)\n"
      ],
      "execution_count": 0,
      "outputs": []
    },
    {
      "cell_type": "code",
      "metadata": {
        "colab_type": "code",
        "id": "kGOk8sBa__aw",
        "colab": {}
      },
      "source": [
        "# get features names \n",
        "from sklearn.feature_extraction.text import CountVectorizer\n",
        "from sklearn.feature_extraction.text import TfidfVectorizer\n",
        "feature_names = tfidf_vectors.get_feature_names()"
      ],
      "execution_count": 0,
      "outputs": []
    },
    {
      "cell_type": "code",
      "metadata": {
        "id": "pbr-sUzMSLcp",
        "colab_type": "code",
        "outputId": "acf6af65-3b72-4a90-96ac-c156096c1089",
        "colab": {
          "base_uri": "https://localhost:8080/",
          "height": 34
        }
      },
      "source": [
        "feature_names[1:5]"
      ],
      "execution_count": 51,
      "outputs": [
        {
          "output_type": "execute_result",
          "data": {
            "text/plain": [
              "['aaa', 'aaa batteri', 'aachen', 'aadhaar']"
            ]
          },
          "metadata": {
            "tags": []
          },
          "execution_count": 51
        }
      ]
    },
    {
      "cell_type": "markdown",
      "metadata": {
        "id": "gUcXZWvgrVXH",
        "colab_type": "text"
      },
      "source": [
        "## Word Embedding"
      ]
    },
    {
      "cell_type": "markdown",
      "metadata": {
        "id": "Io2yYeitajMp",
        "colab_type": "text"
      },
      "source": [
        "**en_core_web_md**\n"
      ]
    },
    {
      "cell_type": "code",
      "metadata": {
        "id": "hYuhLCHE5ihq",
        "colab_type": "code",
        "outputId": "ccf6881f-60b5-41c2-c7eb-268a26ac4b4d",
        "colab": {
          "base_uri": "https://localhost:8080/",
          "height": 51
        }
      },
      "source": [
        "#install spacy model en_core_web_md\n",
        "import spacy.cli\n",
        "spacy.cli.download(\"en_core_web_md\")"
      ],
      "execution_count": 52,
      "outputs": [
        {
          "output_type": "stream",
          "text": [
            "\u001b[38;5;2m✔ Download and installation successful\u001b[0m\n",
            "You can now load the model via spacy.load('en_core_web_md')\n"
          ],
          "name": "stdout"
        }
      ]
    },
    {
      "cell_type": "code",
      "metadata": {
        "id": "ql6WlNWb_T11",
        "colab_type": "code",
        "outputId": "43724d35-b9f0-4117-dd73-d6beecf09728",
        "colab": {
          "base_uri": "https://localhost:8080/",
          "height": 34
        }
      },
      "source": [
        "#load en_core_web_lg\n",
        "import spacy \n",
        "nlp = spacy.load(\"en_core_web_md\")   \n",
        "total_vectors = len(nlp.vocab.vectors)\n",
        "print('Total word vectors:', total_vectors)"
      ],
      "execution_count": 53,
      "outputs": [
        {
          "output_type": "stream",
          "text": [
            "Total word vectors: 20000\n"
          ],
          "name": "stdout"
        }
      ]
    },
    {
      "cell_type": "code",
      "metadata": {
        "id": "lymt1Yv4bGP7",
        "colab_type": "code",
        "colab": {}
      },
      "source": [
        "#build document vectors for question1 \n",
        "word_vecs1 = [doc.vector for doc in nlp.pipe(df['question1'], n_threads = 50)] #this will give the document vector \n",
        "word_vecs1 = np.array(word_vecs1)"
      ],
      "execution_count": 0,
      "outputs": []
    },
    {
      "cell_type": "code",
      "metadata": {
        "id": "sdZqKHNXbGTE",
        "colab_type": "code",
        "colab": {}
      },
      "source": [
        " #build document vectors for question2 \n",
        "word_vecs2 = [doc.vector for doc in nlp.pipe(df['question2'], n_threads = 50)] #this will give the document vector \n",
        "word_vecs2 = np.array(word_vecs2)\n"
      ],
      "execution_count": 0,
      "outputs": []
    },
    {
      "cell_type": "markdown",
      "metadata": {
        "id": "COlsvzAfvlVJ",
        "colab_type": "text"
      },
      "source": [
        "## Dimensionality Reduction"
      ]
    },
    {
      "cell_type": "markdown",
      "metadata": {
        "id": "CVt684Yu15A4",
        "colab_type": "text"
      },
      "source": [
        "**PCA** <br />\n",
        "Unsupervise linear dimensionality reduction technique that takes large data dimension and returns lower data dimension by using clustering. it keeps the components with high variance which means we won't lose valuable features. principal component is the output of converting correlated variables to uncorrelated variables. This will also speed up the machine learning algorithm."
      ]
    },
    {
      "cell_type": "code",
      "metadata": {
        "id": "dDlDWghs-134",
        "colab_type": "code",
        "colab": {}
      },
      "source": [
        "#PCA\n",
        "from sklearn.decomposition import PCA\n"
      ],
      "execution_count": 0,
      "outputs": []
    },
    {
      "cell_type": "code",
      "metadata": {
        "id": "_0YEwZg1ElUX",
        "colab_type": "code",
        "outputId": "92b07066-fccf-4099-e27a-95511834f66b",
        "colab": {
          "base_uri": "https://localhost:8080/",
          "height": 386
        }
      },
      "source": [
        "#apply PCA and check the variance \n",
        "#the optimal number of components \n",
        "n_comp = [50, 100, 150, 170, 180]\n",
        "explained = [] \n",
        "for x in n_comp:\n",
        "    pca = PCA(n_components=x)\n",
        "    pca.fit(word_vecs1)\n",
        "    explained.append(pca.explained_variance_ratio_.sum())\n",
        "    print(\"Number of components = %r and explained variance = %r\"%(x,pca.explained_variance_ratio_.sum()))\n",
        "plt.plot(n_comp, explained)\n",
        "plt.xlabel('Number of components')\n",
        "plt.ylabel(\"Explained Variance\")\n",
        "plt.title(\"Plot of Number of components v/s explained variance\")\n",
        "plt.show()"
      ],
      "execution_count": 57,
      "outputs": [
        {
          "output_type": "stream",
          "text": [
            "Number of components = 50 and explained variance = 0.7126281055955731\n",
            "Number of components = 100 and explained variance = 0.8386660125103687\n",
            "Number of components = 150 and explained variance = 0.909258107481724\n",
            "Number of components = 170 and explained variance = 0.9300098366193833\n",
            "Number of components = 180 and explained variance = 0.9390851520002914\n"
          ],
          "name": "stdout"
        },
        {
          "output_type": "display_data",
          "data": {
            "image/png": "[encoded data removed]",
            "text/plain": [
              "<Figure size 432x288 with 1 Axes>"
            ]
          },
          "metadata": {
            "tags": []
          }
        }
      ]
    },
    {
      "cell_type": "code",
      "metadata": {
        "id": "t2JqrSf9EQW_",
        "colab_type": "code",
        "colab": {}
      },
      "source": [
        "pca = PCA(n_components=180)\n",
        "pca1 = pca.fit_transform(word_vecs1)"
      ],
      "execution_count": 0,
      "outputs": []
    },
    {
      "cell_type": "code",
      "metadata": {
        "id": "hIUw0n4aEMP-",
        "colab_type": "code",
        "outputId": "8aa74b2a-b1f6-4854-ee40-917a0eec51c2",
        "colab": {
          "base_uri": "https://localhost:8080/",
          "height": 34
        }
      },
      "source": [
        "pca1.shape"
      ],
      "execution_count": 59,
      "outputs": [
        {
          "output_type": "execute_result",
          "data": {
            "text/plain": [
              "(403285, 180)"
            ]
          },
          "metadata": {
            "tags": []
          },
          "execution_count": 59
        }
      ]
    },
    {
      "cell_type": "code",
      "metadata": {
        "id": "S65bhyM7HH0K",
        "colab_type": "code",
        "outputId": "c0967240-f52b-4a7e-c371-46f237d07da9",
        "colab": {
          "base_uri": "https://localhost:8080/",
          "height": 369
        }
      },
      "source": [
        "#apply PCA and check the variance \n",
        "#the optimal number of components \n",
        "n_comp = [50, 100, 150, 170] # list containing different values of components\n",
        "explained = [] # explained variance ratio for each component of Truncated SVD\n",
        "for x in n_comp:\n",
        "    pca = PCA(n_components=x)\n",
        "    pca.fit(word_vecs1)\n",
        "    explained.append(pca.explained_variance_ratio_.sum())\n",
        "    print(\"Number of components = %r and explained variance = %r\"%(x,pca.explained_variance_ratio_.sum()))\n",
        "plt.plot(n_comp, explained)\n",
        "plt.xlabel('Number of components')\n",
        "plt.ylabel(\"Explained Variance\")\n",
        "plt.title(\"Plot of Number of components v/s explained variance\")\n",
        "plt.show()"
      ],
      "execution_count": 60,
      "outputs": [
        {
          "output_type": "stream",
          "text": [
            "Number of components = 50 and explained variance = 0.7124786511435044\n",
            "Number of components = 100 and explained variance = 0.838772350474284\n",
            "Number of components = 150 and explained variance = 0.9092855555992357\n",
            "Number of components = 170 and explained variance = 0.9299990001118598\n"
          ],
          "name": "stdout"
        },
        {
          "output_type": "display_data",
          "data": {
            "image/png": "[encoded data removed]",
            "text/plain": [
              "<Figure size 432x288 with 1 Axes>"
            ]
          },
          "metadata": {
            "tags": []
          }
        }
      ]
    },
    {
      "cell_type": "code",
      "metadata": {
        "id": "2SCt5a6AGqgJ",
        "colab_type": "code",
        "colab": {}
      },
      "source": [
        "pca = PCA(n_components=180)\n",
        "pca2 = pca.fit_transform(word_vecs2)"
      ],
      "execution_count": 0,
      "outputs": []
    },
    {
      "cell_type": "markdown",
      "metadata": {
        "id": "SYhd6RFqOlpQ",
        "colab_type": "text"
      },
      "source": [
        "## Feature Extraction"
      ]
    },
    {
      "cell_type": "code",
      "metadata": {
        "id": "Qo9j9IZ-hSQU",
        "colab_type": "code",
        "colab": {}
      },
      "source": [
        ""
      ],
      "execution_count": 0,
      "outputs": []
    },
    {
      "cell_type": "markdown",
      "metadata": {
        "id": "JqXX7wahzPdP",
        "colab_type": "text"
      },
      "source": [
        "**Cosine Similarity** <br /> \n",
        "Cosine similarity is a metric to measure how similar documents are regardless of their length. it measures the cosine of the angle between two vectors by\n",
        "looking at their directions (or orientations) without caring about their length "
      ]
    },
    {
      "cell_type": "code",
      "metadata": {
        "id": "e-ngZvtwvAD1",
        "colab_type": "code",
        "outputId": "00e974d1-935b-4776-dd8b-c19cda142bf9",
        "colab": {
          "base_uri": "https://localhost:8080/",
          "height": 34
        }
      },
      "source": [
        "tfidf_matrix.shape[0]/2"
      ],
      "execution_count": 69,
      "outputs": [
        {
          "output_type": "execute_result",
          "data": {
            "text/plain": [
              "403285.0"
            ]
          },
          "metadata": {
            "tags": []
          },
          "execution_count": 69
        }
      ]
    },
    {
      "cell_type": "code",
      "metadata": {
        "id": "UhGcPmg6jvTn",
        "colab_type": "code",
        "colab": {
          "base_uri": "https://localhost:8080/",
          "height": 129
        },
        "outputId": "f262a54c-6ad7-40e7-a4cb-d074220fceb4"
      },
      "source": [
        "pd.DataFrame(tfidf_matrix[0].todense())"
      ],
      "execution_count": 66,
      "outputs": [
        {
          "output_type": "execute_result",
          "data": {
            "text/html": [
              "<div>\n",
              "<style scoped>\n",
              "    .dataframe tbody tr th:only-of-type {\n",
              "        vertical-align: middle;\n",
              "    }\n",
              "\n",
              "    .dataframe tbody tr th {\n",
              "        vertical-align: top;\n",
              "    }\n",
              "\n",
              "    .dataframe thead th {\n",
              "        text-align: right;\n",
              "    }\n",
              "</style>\n",
              "<table border=\"1\" class=\"dataframe\">\n",
              "  <thead>\n",
              "    <tr style=\"text-align: right;\">\n",
              "      <th></th>\n",
              "      <th>0</th>\n",
              "      <th>1</th>\n",
              "      <th>2</th>\n",
              "      <th>3</th>\n",
              "      <th>4</th>\n",
              "      <th>5</th>\n",
              "      <th>6</th>\n",
              "      <th>7</th>\n",
              "      <th>8</th>\n",
              "      <th>9</th>\n",
              "      <th>10</th>\n",
              "      <th>11</th>\n",
              "      <th>12</th>\n",
              "      <th>13</th>\n",
              "      <th>14</th>\n",
              "      <th>15</th>\n",
              "      <th>16</th>\n",
              "      <th>17</th>\n",
              "      <th>18</th>\n",
              "      <th>19</th>\n",
              "      <th>20</th>\n",
              "      <th>21</th>\n",
              "      <th>22</th>\n",
              "      <th>23</th>\n",
              "      <th>24</th>\n",
              "      <th>25</th>\n",
              "      <th>26</th>\n",
              "      <th>27</th>\n",
              "      <th>28</th>\n",
              "      <th>29</th>\n",
              "      <th>30</th>\n",
              "      <th>31</th>\n",
              "      <th>32</th>\n",
              "      <th>33</th>\n",
              "      <th>34</th>\n",
              "      <th>35</th>\n",
              "      <th>36</th>\n",
              "      <th>37</th>\n",
              "      <th>38</th>\n",
              "      <th>39</th>\n",
              "      <th>...</th>\n",
              "      <th>52863</th>\n",
              "      <th>52864</th>\n",
              "      <th>52865</th>\n",
              "      <th>52866</th>\n",
              "      <th>52867</th>\n",
              "      <th>52868</th>\n",
              "      <th>52869</th>\n",
              "      <th>52870</th>\n",
              "      <th>52871</th>\n",
              "      <th>52872</th>\n",
              "      <th>52873</th>\n",
              "      <th>52874</th>\n",
              "      <th>52875</th>\n",
              "      <th>52876</th>\n",
              "      <th>52877</th>\n",
              "      <th>52878</th>\n",
              "      <th>52879</th>\n",
              "      <th>52880</th>\n",
              "      <th>52881</th>\n",
              "      <th>52882</th>\n",
              "      <th>52883</th>\n",
              "      <th>52884</th>\n",
              "      <th>52885</th>\n",
              "      <th>52886</th>\n",
              "      <th>52887</th>\n",
              "      <th>52888</th>\n",
              "      <th>52889</th>\n",
              "      <th>52890</th>\n",
              "      <th>52891</th>\n",
              "      <th>52892</th>\n",
              "      <th>52893</th>\n",
              "      <th>52894</th>\n",
              "      <th>52895</th>\n",
              "      <th>52896</th>\n",
              "      <th>52897</th>\n",
              "      <th>52898</th>\n",
              "      <th>52899</th>\n",
              "      <th>52900</th>\n",
              "      <th>52901</th>\n",
              "      <th>52902</th>\n",
              "    </tr>\n",
              "  </thead>\n",
              "  <tbody>\n",
              "    <tr>\n",
              "      <th>0</th>\n",
              "      <td>0.0</td>\n",
              "      <td>0.0</td>\n",
              "      <td>0.0</td>\n",
              "      <td>0.0</td>\n",
              "      <td>0.0</td>\n",
              "      <td>0.0</td>\n",
              "      <td>0.0</td>\n",
              "      <td>0.0</td>\n",
              "      <td>0.0</td>\n",
              "      <td>0.0</td>\n",
              "      <td>0.0</td>\n",
              "      <td>0.0</td>\n",
              "      <td>0.0</td>\n",
              "      <td>0.0</td>\n",
              "      <td>0.0</td>\n",
              "      <td>0.0</td>\n",
              "      <td>0.0</td>\n",
              "      <td>0.0</td>\n",
              "      <td>0.0</td>\n",
              "      <td>0.0</td>\n",
              "      <td>0.0</td>\n",
              "      <td>0.0</td>\n",
              "      <td>0.0</td>\n",
              "      <td>0.0</td>\n",
              "      <td>0.0</td>\n",
              "      <td>0.0</td>\n",
              "      <td>0.0</td>\n",
              "      <td>0.0</td>\n",
              "      <td>0.0</td>\n",
              "      <td>0.0</td>\n",
              "      <td>0.0</td>\n",
              "      <td>0.0</td>\n",
              "      <td>0.0</td>\n",
              "      <td>0.0</td>\n",
              "      <td>0.0</td>\n",
              "      <td>0.0</td>\n",
              "      <td>0.0</td>\n",
              "      <td>0.0</td>\n",
              "      <td>0.0</td>\n",
              "      <td>0.0</td>\n",
              "      <td>...</td>\n",
              "      <td>0.0</td>\n",
              "      <td>0.0</td>\n",
              "      <td>0.0</td>\n",
              "      <td>0.0</td>\n",
              "      <td>0.0</td>\n",
              "      <td>0.0</td>\n",
              "      <td>0.0</td>\n",
              "      <td>0.0</td>\n",
              "      <td>0.0</td>\n",
              "      <td>0.0</td>\n",
              "      <td>0.0</td>\n",
              "      <td>0.0</td>\n",
              "      <td>0.0</td>\n",
              "      <td>0.0</td>\n",
              "      <td>0.0</td>\n",
              "      <td>0.0</td>\n",
              "      <td>0.0</td>\n",
              "      <td>0.0</td>\n",
              "      <td>0.0</td>\n",
              "      <td>0.0</td>\n",
              "      <td>0.0</td>\n",
              "      <td>0.0</td>\n",
              "      <td>0.0</td>\n",
              "      <td>0.0</td>\n",
              "      <td>0.0</td>\n",
              "      <td>0.0</td>\n",
              "      <td>0.0</td>\n",
              "      <td>0.0</td>\n",
              "      <td>0.0</td>\n",
              "      <td>0.0</td>\n",
              "      <td>0.0</td>\n",
              "      <td>0.0</td>\n",
              "      <td>0.0</td>\n",
              "      <td>0.0</td>\n",
              "      <td>0.0</td>\n",
              "      <td>0.0</td>\n",
              "      <td>0.0</td>\n",
              "      <td>0.0</td>\n",
              "      <td>0.0</td>\n",
              "      <td>0.0</td>\n",
              "    </tr>\n",
              "  </tbody>\n",
              "</table>\n",
              "<p>1 rows × 52903 columns</p>\n",
              "</div>"
            ],
            "text/plain": [
              "   0      1      2      3      4      ...  52898  52899  52900  52901  52902\n",
              "0    0.0    0.0    0.0    0.0    0.0  ...    0.0    0.0    0.0    0.0    0.0\n",
              "\n",
              "[1 rows x 52903 columns]"
            ]
          },
          "metadata": {
            "tags": []
          },
          "execution_count": 66
        }
      ]
    },
    {
      "cell_type": "code",
      "metadata": {
        "colab_type": "code",
        "id": "Ey7ku4-vuTb6",
        "colab": {}
      },
      "source": [
        " tfidf_matrix1 = tfidf_matrix[:403285]"
      ],
      "execution_count": 0,
      "outputs": []
    },
    {
      "cell_type": "code",
      "metadata": {
        "id": "570Or6DivnJ5",
        "colab_type": "code",
        "colab": {}
      },
      "source": [
        "tfidf_matrix2 = tfidf_matrix[403285:]"
      ],
      "execution_count": 0,
      "outputs": []
    },
    {
      "cell_type": "code",
      "metadata": {
        "colab_type": "code",
        "id": "n9X5ymfeuSum",
        "colab": {}
      },
      "source": [
        "from sklearn.metrics.pairwise import cosine_similarity\n",
        "cosine_sim = []\n",
        "for i in range(403285):\n",
        "  tfidf_q1 = tfidf_matrix1[i]\n",
        "  tfidf_q2 = tfidf_matrix2[i]\n",
        "  cosine_sim.append(cosine_similarity(tfidf_q1, tfidf_q2)[0][0])"
      ],
      "execution_count": 0,
      "outputs": []
    },
    {
      "cell_type": "code",
      "metadata": {
        "colab_type": "code",
        "id": "_BWcR-_HuSJS",
        "outputId": "f4b4948e-7edd-4afc-9e03-a03ab3f2a2d9",
        "colab": {
          "base_uri": "https://localhost:8080/",
          "height": 34
        }
      },
      "source": [
        "len(cosine_sim)"
      ],
      "execution_count": 72,
      "outputs": [
        {
          "output_type": "execute_result",
          "data": {
            "text/plain": [
              "403285"
            ]
          },
          "metadata": {
            "tags": []
          },
          "execution_count": 72
        }
      ]
    },
    {
      "cell_type": "code",
      "metadata": {
        "id": "khYyh2UU1OoJ",
        "colab_type": "code",
        "colab": {}
      },
      "source": [
        "df_clean['cosine_sim_tfidf'] = cosine_sim[0: len(cosine_sim)]\n"
      ],
      "execution_count": 0,
      "outputs": []
    },
    {
      "cell_type": "code",
      "metadata": {
        "id": "3fYVzi0Qy9AJ",
        "colab_type": "code",
        "outputId": "5a65a541-278f-418c-9f08-e789a166926c",
        "colab": {
          "base_uri": "https://localhost:8080/",
          "height": 306
        }
      },
      "source": [
        "df_clean.tail()"
      ],
      "execution_count": 74,
      "outputs": [
        {
          "output_type": "execute_result",
          "data": {
            "text/html": [
              "<div>\n",
              "<style scoped>\n",
              "    .dataframe tbody tr th:only-of-type {\n",
              "        vertical-align: middle;\n",
              "    }\n",
              "\n",
              "    .dataframe tbody tr th {\n",
              "        vertical-align: top;\n",
              "    }\n",
              "\n",
              "    .dataframe thead th {\n",
              "        text-align: right;\n",
              "    }\n",
              "</style>\n",
              "<table border=\"1\" class=\"dataframe\">\n",
              "  <thead>\n",
              "    <tr style=\"text-align: right;\">\n",
              "      <th></th>\n",
              "      <th>id</th>\n",
              "      <th>qid1</th>\n",
              "      <th>qid2</th>\n",
              "      <th>question1</th>\n",
              "      <th>question2</th>\n",
              "      <th>label</th>\n",
              "      <th>count1</th>\n",
              "      <th>count2</th>\n",
              "      <th>char_count1</th>\n",
              "      <th>char_count2</th>\n",
              "      <th>avg_word_len1</th>\n",
              "      <th>avg_word_len2</th>\n",
              "      <th>stopwords_count1</th>\n",
              "      <th>stopwords_count2</th>\n",
              "      <th>common_words</th>\n",
              "      <th>unique_word_cnt</th>\n",
              "      <th>cosine_sim_tfidf</th>\n",
              "    </tr>\n",
              "  </thead>\n",
              "  <tbody>\n",
              "    <tr>\n",
              "      <th>404282</th>\n",
              "      <td>404285</td>\n",
              "      <td>433578</td>\n",
              "      <td>379845</td>\n",
              "      <td>mani keyword racket program languag latest version</td>\n",
              "      <td>mani keyword perl program languag latest version</td>\n",
              "      <td>0</td>\n",
              "      <td>14</td>\n",
              "      <td>13</td>\n",
              "      <td>85</td>\n",
              "      <td>79</td>\n",
              "      <td>5</td>\n",
              "      <td>5</td>\n",
              "      <td>6</td>\n",
              "      <td>5</td>\n",
              "      <td>0.8658536585365854</td>\n",
              "      <td>6</td>\n",
              "      <td>0.831743</td>\n",
              "    </tr>\n",
              "    <tr>\n",
              "      <th>404283</th>\n",
              "      <td>404286</td>\n",
              "      <td>18840</td>\n",
              "      <td>155606</td>\n",
              "      <td>believ life death</td>\n",
              "      <td>true life death</td>\n",
              "      <td>1</td>\n",
              "      <td>8</td>\n",
              "      <td>9</td>\n",
              "      <td>41</td>\n",
              "      <td>42</td>\n",
              "      <td>4</td>\n",
              "      <td>4</td>\n",
              "      <td>4</td>\n",
              "      <td>5</td>\n",
              "      <td>0.7228915662650602</td>\n",
              "      <td>6</td>\n",
              "      <td>0.486364</td>\n",
              "    </tr>\n",
              "    <tr>\n",
              "      <th>404284</th>\n",
              "      <td>404287</td>\n",
              "      <td>537928</td>\n",
              "      <td>537929</td>\n",
              "      <td>one coin</td>\n",
              "      <td>coin</td>\n",
              "      <td>0</td>\n",
              "      <td>4</td>\n",
              "      <td>3</td>\n",
              "      <td>17</td>\n",
              "      <td>17</td>\n",
              "      <td>4</td>\n",
              "      <td>5</td>\n",
              "      <td>1</td>\n",
              "      <td>1</td>\n",
              "      <td>0.7647058823529411</td>\n",
              "      <td>2</td>\n",
              "      <td>1.000000</td>\n",
              "    </tr>\n",
              "    <tr>\n",
              "      <th>404285</th>\n",
              "      <td>404288</td>\n",
              "      <td>537930</td>\n",
              "      <td>537931</td>\n",
              "      <td>approx annual cost live studi uic chicago indian student</td>\n",
              "      <td>littl hairfal problem want use hair style product one prefer gel wax clay</td>\n",
              "      <td>0</td>\n",
              "      <td>17</td>\n",
              "      <td>25</td>\n",
              "      <td>94</td>\n",
              "      <td>127</td>\n",
              "      <td>5</td>\n",
              "      <td>4</td>\n",
              "      <td>7</td>\n",
              "      <td>8</td>\n",
              "      <td>0.2986425339366516</td>\n",
              "      <td>5</td>\n",
              "      <td>0.000000</td>\n",
              "    </tr>\n",
              "    <tr>\n",
              "      <th>404286</th>\n",
              "      <td>404289</td>\n",
              "      <td>537932</td>\n",
              "      <td>537933</td>\n",
              "      <td>sex cousin</td>\n",
              "      <td>sex cousin</td>\n",
              "      <td>0</td>\n",
              "      <td>8</td>\n",
              "      <td>10</td>\n",
              "      <td>37</td>\n",
              "      <td>45</td>\n",
              "      <td>4</td>\n",
              "      <td>4</td>\n",
              "      <td>4</td>\n",
              "      <td>6</td>\n",
              "      <td>0.9024390243902439</td>\n",
              "      <td>2</td>\n",
              "      <td>1.000000</td>\n",
              "    </tr>\n",
              "  </tbody>\n",
              "</table>\n",
              "</div>"
            ],
            "text/plain": [
              "            id    qid1  ... unique_word_cnt cosine_sim_tfidf\n",
              "404282  404285  433578  ...               6         0.831743\n",
              "404283  404286   18840  ...               6         0.486364\n",
              "404284  404287  537928  ...               2         1.000000\n",
              "404285  404288  537930  ...               5         0.000000\n",
              "404286  404289  537932  ...               2         1.000000\n",
              "\n",
              "[5 rows x 17 columns]"
            ]
          },
          "metadata": {
            "tags": []
          },
          "execution_count": 74
        }
      ]
    },
    {
      "cell_type": "markdown",
      "metadata": {
        "id": "tnkHMi5ZTADL",
        "colab_type": "text"
      },
      "source": [
        "**Euclidean Distance**\n"
      ]
    },
    {
      "cell_type": "code",
      "metadata": {
        "id": "W8Q-UirmTM-c",
        "colab_type": "code",
        "colab": {}
      },
      "source": [
        "from sklearn.metrics.pairwise import euclidean_distances"
      ],
      "execution_count": 0,
      "outputs": []
    },
    {
      "cell_type": "code",
      "metadata": {
        "id": "2YtxGkYtyYxu",
        "colab_type": "code",
        "colab": {}
      },
      "source": [
        "euc_dist = []\n",
        "for i in range(403285):\n",
        "  docvec_q1 = pca1[[i]]\n",
        "  docvec_q2 = pca2[[i]]\n",
        "  euc_dist.append(euclidean_distances(docvec_q1, docvec_q2))"
      ],
      "execution_count": 0,
      "outputs": []
    },
    {
      "cell_type": "code",
      "metadata": {
        "id": "VIC1bSNDGABD",
        "colab_type": "code",
        "outputId": "56c0a378-f86d-4c56-9f17-5dfdb24b27ea",
        "colab": {
          "base_uri": "https://localhost:8080/",
          "height": 187
        }
      },
      "source": [
        "euc_dist[0:10]"
      ],
      "execution_count": 77,
      "outputs": [
        {
          "output_type": "execute_result",
          "data": {
            "text/plain": [
              "[array([[1.2962598]], dtype=float32),\n",
              " array([[1.5185916]], dtype=float32),\n",
              " array([[1.673904]], dtype=float32),\n",
              " array([[2.7696583]], dtype=float32),\n",
              " array([[2.27541]], dtype=float32),\n",
              " array([[1.5793097]], dtype=float32),\n",
              " array([[2.8289804]], dtype=float32),\n",
              " array([[1.3576565]], dtype=float32),\n",
              " array([[1.7878149]], dtype=float32),\n",
              " array([[1.8048362]], dtype=float32)]"
            ]
          },
          "metadata": {
            "tags": []
          },
          "execution_count": 77
        }
      ]
    },
    {
      "cell_type": "code",
      "metadata": {
        "id": "fppIV_0kHh2v",
        "colab_type": "code",
        "colab": {}
      },
      "source": [
        "#convert to list \n",
        "euc_dist = np.concatenate(euc_dist, axis=0 )"
      ],
      "execution_count": 0,
      "outputs": []
    },
    {
      "cell_type": "code",
      "metadata": {
        "id": "lJrE4rmWHoV9",
        "colab_type": "code",
        "colab": {}
      },
      "source": [
        "df_clean['euc_dist'] = euc_dist"
      ],
      "execution_count": 0,
      "outputs": []
    },
    {
      "cell_type": "markdown",
      "metadata": {
        "id": "pgwemtSdzVy7",
        "colab_type": "text"
      },
      "source": [
        "**Jaccard Similarity** "
      ]
    },
    {
      "cell_type": "code",
      "metadata": {
        "id": "Rjq_C-KHIEIZ",
        "colab_type": "code",
        "colab": {}
      },
      "source": [
        "#jaccard similarity \n",
        "#apply jaccard similarity on documents vectors \n",
        "def jaccard_similarity(list1, list2):\n",
        "    intersection = len(list(set(list1).intersection(list2)))\n",
        "    union = (len(list1) + len(list2)) - intersection\n",
        "    return float(intersection) / union"
      ],
      "execution_count": 0,
      "outputs": []
    },
    {
      "cell_type": "code",
      "metadata": {
        "id": "lJmCObAjG48u",
        "colab_type": "code",
        "colab": {}
      },
      "source": [
        "jaccard_sim = []\n",
        "for i in range(403285):\n",
        "  docvec_q1 = pca1[i]\n",
        "  docvec_q2 = pca2[i]\n",
        "  jaccard_sim.append(jaccard_similarity(docvec_q1, docvec_q2))"
      ],
      "execution_count": 0,
      "outputs": []
    },
    {
      "cell_type": "code",
      "metadata": {
        "id": "4tGQEnWbP8f7",
        "colab_type": "code",
        "outputId": "1ca486a3-6971-4082-a5ea-2e34037649be",
        "colab": {
          "base_uri": "https://localhost:8080/",
          "height": 34
        }
      },
      "source": [
        "len(jaccard_sim)"
      ],
      "execution_count": 82,
      "outputs": [
        {
          "output_type": "execute_result",
          "data": {
            "text/plain": [
              "403285"
            ]
          },
          "metadata": {
            "tags": []
          },
          "execution_count": 82
        }
      ]
    },
    {
      "cell_type": "code",
      "metadata": {
        "id": "wdCGMQRJFDOL",
        "colab_type": "code",
        "colab": {}
      },
      "source": [
        "df_clean['jac_sim'] = jaccard_sim"
      ],
      "execution_count": 0,
      "outputs": []
    },
    {
      "cell_type": "code",
      "metadata": {
        "id": "nucxjRrQ4-W-",
        "colab_type": "code",
        "outputId": "c503a807-fe10-440f-84a7-e8dbcc79d20e",
        "colab": {
          "base_uri": "https://localhost:8080/",
          "height": 493
        }
      },
      "source": [
        "df_clean.head()"
      ],
      "execution_count": 84,
      "outputs": [
        {
          "output_type": "execute_result",
          "data": {
            "text/html": [
              "<div>\n",
              "<style scoped>\n",
              "    .dataframe tbody tr th:only-of-type {\n",
              "        vertical-align: middle;\n",
              "    }\n",
              "\n",
              "    .dataframe tbody tr th {\n",
              "        vertical-align: top;\n",
              "    }\n",
              "\n",
              "    .dataframe thead th {\n",
              "        text-align: right;\n",
              "    }\n",
              "</style>\n",
              "<table border=\"1\" class=\"dataframe\">\n",
              "  <thead>\n",
              "    <tr style=\"text-align: right;\">\n",
              "      <th></th>\n",
              "      <th>id</th>\n",
              "      <th>qid1</th>\n",
              "      <th>qid2</th>\n",
              "      <th>question1</th>\n",
              "      <th>question2</th>\n",
              "      <th>label</th>\n",
              "      <th>count1</th>\n",
              "      <th>count2</th>\n",
              "      <th>char_count1</th>\n",
              "      <th>char_count2</th>\n",
              "      <th>avg_word_len1</th>\n",
              "      <th>avg_word_len2</th>\n",
              "      <th>stopwords_count1</th>\n",
              "      <th>stopwords_count2</th>\n",
              "      <th>common_words</th>\n",
              "      <th>unique_word_cnt</th>\n",
              "      <th>cosine_sim_tfidf</th>\n",
              "      <th>euc_dist</th>\n",
              "      <th>jac_sim</th>\n",
              "    </tr>\n",
              "  </thead>\n",
              "  <tbody>\n",
              "    <tr>\n",
              "      <th>0</th>\n",
              "      <td>0</td>\n",
              "      <td>1</td>\n",
              "      <td>2</td>\n",
              "      <td>step step guid invest share market india</td>\n",
              "      <td>step step guid invest share market</td>\n",
              "      <td>0</td>\n",
              "      <td>14</td>\n",
              "      <td>12</td>\n",
              "      <td>66</td>\n",
              "      <td>57</td>\n",
              "      <td>4</td>\n",
              "      <td>4</td>\n",
              "      <td>6</td>\n",
              "      <td>5</td>\n",
              "      <td>0.926829268292683</td>\n",
              "      <td>0</td>\n",
              "      <td>0.923270</td>\n",
              "      <td>1.296260</td>\n",
              "      <td>0.0</td>\n",
              "    </tr>\n",
              "    <tr>\n",
              "      <th>1</th>\n",
              "      <td>1</td>\n",
              "      <td>3</td>\n",
              "      <td>4</td>\n",
              "      <td>stori kohinoor kohnoor diamond</td>\n",
              "      <td>happen indian govern stole kohinoor kohnoor diamond back</td>\n",
              "      <td>0</td>\n",
              "      <td>8</td>\n",
              "      <td>13</td>\n",
              "      <td>51</td>\n",
              "      <td>88</td>\n",
              "      <td>6</td>\n",
              "      <td>6</td>\n",
              "      <td>3</td>\n",
              "      <td>4</td>\n",
              "      <td>0.6474820143884892</td>\n",
              "      <td>12</td>\n",
              "      <td>0.544641</td>\n",
              "      <td>1.518592</td>\n",
              "      <td>0.0</td>\n",
              "    </tr>\n",
              "    <tr>\n",
              "      <th>2</th>\n",
              "      <td>2</td>\n",
              "      <td>5</td>\n",
              "      <td>6</td>\n",
              "      <td>increas speed internet connect use vpn</td>\n",
              "      <td>internet speed increas hack dns</td>\n",
              "      <td>0</td>\n",
              "      <td>14</td>\n",
              "      <td>10</td>\n",
              "      <td>73</td>\n",
              "      <td>59</td>\n",
              "      <td>4</td>\n",
              "      <td>5</td>\n",
              "      <td>5</td>\n",
              "      <td>3</td>\n",
              "      <td>0.45454545454545453</td>\n",
              "      <td>9</td>\n",
              "      <td>0.193333</td>\n",
              "      <td>1.673904</td>\n",
              "      <td>0.0</td>\n",
              "    </tr>\n",
              "    <tr>\n",
              "      <th>3</th>\n",
              "      <td>3</td>\n",
              "      <td>7</td>\n",
              "      <td>8</td>\n",
              "      <td>mental lone solv</td>\n",
              "      <td>find remaind mathmath divid</td>\n",
              "      <td>0</td>\n",
              "      <td>11</td>\n",
              "      <td>9</td>\n",
              "      <td>50</td>\n",
              "      <td>65</td>\n",
              "      <td>4</td>\n",
              "      <td>6</td>\n",
              "      <td>2</td>\n",
              "      <td>4</td>\n",
              "      <td>0.06956521739130435</td>\n",
              "      <td>19</td>\n",
              "      <td>0.000000</td>\n",
              "      <td>2.769658</td>\n",
              "      <td>0.0</td>\n",
              "    </tr>\n",
              "    <tr>\n",
              "      <th>4</th>\n",
              "      <td>4</td>\n",
              "      <td>9</td>\n",
              "      <td>10</td>\n",
              "      <td>one dissolv water quik sugar salt methan carbon oxid</td>\n",
              "      <td>fish surviv salt water</td>\n",
              "      <td>0</td>\n",
              "      <td>13</td>\n",
              "      <td>7</td>\n",
              "      <td>76</td>\n",
              "      <td>39</td>\n",
              "      <td>5</td>\n",
              "      <td>5</td>\n",
              "      <td>2</td>\n",
              "      <td>2</td>\n",
              "      <td>0.3652173913043478</td>\n",
              "      <td>9</td>\n",
              "      <td>0.235319</td>\n",
              "      <td>2.275410</td>\n",
              "      <td>0.0</td>\n",
              "    </tr>\n",
              "  </tbody>\n",
              "</table>\n",
              "</div>"
            ],
            "text/plain": [
              "  id qid1 qid2  ... cosine_sim_tfidf  euc_dist jac_sim\n",
              "0  0    1    2  ...         0.923270  1.296260     0.0\n",
              "1  1    3    4  ...         0.544641  1.518592     0.0\n",
              "2  2    5    6  ...         0.193333  1.673904     0.0\n",
              "3  3    7    8  ...         0.000000  2.769658     0.0\n",
              "4  4    9   10  ...         0.235319  2.275410     0.0\n",
              "\n",
              "[5 rows x 19 columns]"
            ]
          },
          "metadata": {
            "tags": []
          },
          "execution_count": 84
        }
      ]
    },
    {
      "cell_type": "code",
      "metadata": {
        "id": "KhMmSaYR4-s6",
        "colab_type": "code",
        "colab": {}
      },
      "source": [
        "#drop columns won't be used in the model \n",
        "df_features = df_clean.drop(['id', 'qid1', 'qid2', 'question1', 'question2'], axis=1)"
      ],
      "execution_count": 0,
      "outputs": []
    },
    {
      "cell_type": "code",
      "metadata": {
        "id": "xRnre-t5IT3u",
        "colab_type": "code",
        "outputId": "12239c43-9ff2-452d-b1a2-78b1894fc7ce",
        "colab": {
          "base_uri": "https://localhost:8080/",
          "height": 272
        }
      },
      "source": [
        "df_features.dtypes"
      ],
      "execution_count": 86,
      "outputs": [
        {
          "output_type": "execute_result",
          "data": {
            "text/plain": [
              "label                object\n",
              "count1               object\n",
              "count2               object\n",
              "char_count1          object\n",
              "char_count2          object\n",
              "avg_word_len1        object\n",
              "avg_word_len2        object\n",
              "stopwords_count1     object\n",
              "stopwords_count2     object\n",
              "common_words         object\n",
              "unique_word_cnt      object\n",
              "cosine_sim_tfidf    float64\n",
              "euc_dist            float32\n",
              "jac_sim             float64\n",
              "dtype: object"
            ]
          },
          "metadata": {
            "tags": []
          },
          "execution_count": 86
        }
      ]
    },
    {
      "cell_type": "code",
      "metadata": {
        "id": "AnApQdPjtx3d",
        "colab_type": "code",
        "colab": {}
      },
      "source": [
        "#convert to the right data type  \n",
        "df_features['count1'] = df_features['count1'].astype(int)\n",
        "df_features['count2'] = df_features['count2'].astype(int)\n",
        "df_features['char_count1'] = df_features['char_count1'].astype(int)\n",
        "df_features['char_count2'] = df_features['char_count2'].astype(int)\n",
        "df_features['avg_word_len1'] = df_features['avg_word_len1'].astype(int)\n",
        "df_features['avg_word_len2'] = df_features['avg_word_len2'].astype(int)\n",
        "df_features['stopwords_count1'] = df_features['stopwords_count1'].astype(int)\n",
        "df_features['stopwords_count2'] = df_features['stopwords_count2'].astype(int)\n",
        "df_features['label'] = df_features['label'].map({'0':False, '1':True})\n",
        "df_features['common_words'] = df_features['common_words'].astype(float)\n",
        "df_features['unique_word_cnt'] = df_features['unique_word_cnt'].astype(float)"
      ],
      "execution_count": 0,
      "outputs": []
    },
    {
      "cell_type": "markdown",
      "metadata": {
        "id": "IYO3MLABeKaI",
        "colab_type": "text"
      },
      "source": [
        "**Plot correlation matrix**"
      ]
    },
    {
      "cell_type": "code",
      "metadata": {
        "id": "CosdPq_ZeNXI",
        "colab_type": "code",
        "outputId": "2f56aca3-c6ec-4cfe-b832-e815e6d31177",
        "colab": {
          "base_uri": "https://localhost:8080/",
          "height": 579
        }
      },
      "source": [
        "# calculate the correlation matrix\n",
        "#spearman for numeric data, no assumption on the normality of the data distribution \n",
        "\n",
        "corr = df_features.corr(method=\"spearman\")\n",
        "\n",
        "#plot heat map\n",
        "ax = sns.heatmap(\n",
        "    corr, \n",
        "    vmin=-1, vmax=1, center=0,\n",
        "    cmap=sns.diverging_palette(20, 220, n=200),\n",
        "    square=True\n",
        ")\n",
        "ax.set_xticklabels(\n",
        "    ax.get_xticklabels(),\n",
        "    rotation=45,\n",
        "    horizontalalignment='right'\n",
        ")"
      ],
      "execution_count": 88,
      "outputs": [
        {
          "output_type": "execute_result",
          "data": {
            "text/plain": [
              "[Text(0.5, 0, 'label'),\n",
              " Text(1.5, 0, 'count1'),\n",
              " Text(2.5, 0, 'count2'),\n",
              " Text(3.5, 0, 'char_count1'),\n",
              " Text(4.5, 0, 'char_count2'),\n",
              " Text(5.5, 0, 'avg_word_len1'),\n",
              " Text(6.5, 0, 'avg_word_len2'),\n",
              " Text(7.5, 0, 'stopwords_count1'),\n",
              " Text(8.5, 0, 'stopwords_count2'),\n",
              " Text(9.5, 0, 'common_words'),\n",
              " Text(10.5, 0, 'unique_word_cnt'),\n",
              " Text(11.5, 0, 'cosine_sim_tfidf'),\n",
              " Text(12.5, 0, 'euc_dist'),\n",
              " Text(13.5, 0, 'jac_sim')]"
            ]
          },
          "metadata": {
            "tags": []
          },
          "execution_count": 88
        },
        {
          "output_type": "display_data",
          "data": {
            "image/png": "[encoded data removed]",
            "text/plain": [
              "<Figure size 432x288 with 2 Axes>"
            ]
          },
          "metadata": {
            "tags": []
          }
        }
      ]
    },
    {
      "cell_type": "code",
      "metadata": {
        "id": "5xTqYImkgnHq",
        "colab_type": "code",
        "outputId": "da2fc17a-e520-4d66-85f9-442b5b267da6",
        "colab": {
          "base_uri": "https://localhost:8080/",
          "height": 303
        }
      },
      "source": [
        "cmap = cmap=sns.diverging_palette(5, 250, as_cmap=True)\n",
        "\n",
        "def magnify():\n",
        "    return [dict(selector=\"th\",\n",
        "                 props=[(\"font-size\", \"7pt\")]),\n",
        "            dict(selector=\"td\",\n",
        "                 props=[('padding', \"0em 0em\")]),\n",
        "            dict(selector=\"th:hover\",\n",
        "                 props=[(\"font-size\", \"12pt\")]),\n",
        "            dict(selector=\"tr:hover td:hover\",\n",
        "                 props=[('max-width', '200px'),\n",
        "                        ('font-size', '12pt')])\n",
        "]\n",
        "\n",
        "corr.style.background_gradient(cmap, axis=1)\\\n",
        "    .set_properties(**{'max-width': '80px', 'font-size': '10pt'})\\\n",
        "    .set_caption(\"Hover to magify\")\\\n",
        "    .set_precision(2)\\\n",
        "    .set_table_styles(magnify())"
      ],
      "execution_count": 89,
      "outputs": [
        {
          "output_type": "execute_result",
          "data": {
            "text/html": [
              "<style  type=\"text/css\" >\n",
              "    #T_83bf563e_7855_11ea_b618_0242ac1c0002 th {\n",
              "          font-size: 7pt;\n",
              "    }    #T_83bf563e_7855_11ea_b618_0242ac1c0002 td {\n",
              "          padding: 0em 0em;\n",
              "    }    #T_83bf563e_7855_11ea_b618_0242ac1c0002 th:hover {\n",
              "          font-size: 12pt;\n",
              "    }    #T_83bf563e_7855_11ea_b618_0242ac1c0002 tr:hover td:hover {\n",
              "          max-width: 200px;\n",
              "          font-size: 12pt;\n",
              "    }    #T_83bf563e_7855_11ea_b618_0242ac1c0002row0_col0 {\n",
              "            background-color:  #4479bb;\n",
              "            color:  #000000;\n",
              "            max-width:  80px;\n",
              "            font-size:  10pt;\n",
              "        }    #T_83bf563e_7855_11ea_b618_0242ac1c0002row0_col1 {\n",
              "            background-color:  #e3748a;\n",
              "            color:  #000000;\n",
              "            max-width:  80px;\n",
              "            font-size:  10pt;\n",
              "        }    #T_83bf563e_7855_11ea_b618_0242ac1c0002row0_col2 {\n",
              "            background-color:  #e3768c;\n",
              "            color:  #000000;\n",
              "            max-width:  80px;\n",
              "            font-size:  10pt;\n",
              "        }    #T_83bf563e_7855_11ea_b618_0242ac1c0002row0_col3 {\n",
              "            background-color:  #e16d85;\n",
              "            color:  #000000;\n",
              "            max-width:  80px;\n",
              "            font-size:  10pt;\n",
              "        }    #T_83bf563e_7855_11ea_b618_0242ac1c0002row0_col4 {\n",
              "            background-color:  #e3768c;\n",
              "            color:  #000000;\n",
              "            max-width:  80px;\n",
              "            font-size:  10pt;\n",
              "        }    #T_83bf563e_7855_11ea_b618_0242ac1c0002row0_col5 {\n",
              "            background-color:  #e7879b;\n",
              "            color:  #000000;\n",
              "            max-width:  80px;\n",
              "            font-size:  10pt;\n",
              "        }    #T_83bf563e_7855_11ea_b618_0242ac1c0002row0_col6 {\n",
              "            background-color:  #ea96a7;\n",
              "            color:  #000000;\n",
              "            max-width:  80px;\n",
              "            font-size:  10pt;\n",
              "        }    #T_83bf563e_7855_11ea_b618_0242ac1c0002row0_col7 {\n",
              "            background-color:  #e57d92;\n",
              "            color:  #000000;\n",
              "            max-width:  80px;\n",
              "            font-size:  10pt;\n",
              "        }    #T_83bf563e_7855_11ea_b618_0242ac1c0002row0_col8 {\n",
              "            background-color:  #e47c91;\n",
              "            color:  #000000;\n",
              "            max-width:  80px;\n",
              "            font-size:  10pt;\n",
              "        }    #T_83bf563e_7855_11ea_b618_0242ac1c0002row0_col9 {\n",
              "            background-color:  #e4ecf5;\n",
              "            color:  #000000;\n",
              "            max-width:  80px;\n",
              "            font-size:  10pt;\n",
              "        }    #T_83bf563e_7855_11ea_b618_0242ac1c0002row0_col10 {\n",
              "            background-color:  #d73c5b;\n",
              "            color:  #f1f1f1;\n",
              "            max-width:  80px;\n",
              "            font-size:  10pt;\n",
              "        }    #T_83bf563e_7855_11ea_b618_0242ac1c0002row0_col11 {\n",
              "            background-color:  #f8dee3;\n",
              "            color:  #000000;\n",
              "            max-width:  80px;\n",
              "            font-size:  10pt;\n",
              "        }    #T_83bf563e_7855_11ea_b618_0242ac1c0002row0_col12 {\n",
              "            background-color:  #e27288;\n",
              "            color:  #000000;\n",
              "            max-width:  80px;\n",
              "            font-size:  10pt;\n",
              "        }    #T_83bf563e_7855_11ea_b618_0242ac1c0002row0_col13 {\n",
              "            background-color:  #ea9aaa;\n",
              "            color:  #000000;\n",
              "            max-width:  80px;\n",
              "            font-size:  10pt;\n",
              "        }    #T_83bf563e_7855_11ea_b618_0242ac1c0002row1_col0 {\n",
              "            background-color:  #e26f86;\n",
              "            color:  #000000;\n",
              "            max-width:  80px;\n",
              "            font-size:  10pt;\n",
              "        }    #T_83bf563e_7855_11ea_b618_0242ac1c0002row1_col1 {\n",
              "            background-color:  #4479bb;\n",
              "            color:  #000000;\n",
              "            max-width:  80px;\n",
              "            font-size:  10pt;\n",
              "        }    #T_83bf563e_7855_11ea_b618_0242ac1c0002row1_col2 {\n",
              "            background-color:  #c1d3e8;\n",
              "            color:  #000000;\n",
              "            max-width:  80px;\n",
              "            font-size:  10pt;\n",
              "        }    #T_83bf563e_7855_11ea_b618_0242ac1c0002row1_col3 {\n",
              "            background-color:  #5384c0;\n",
              "            color:  #000000;\n",
              "            max-width:  80px;\n",
              "            font-size:  10pt;\n",
              "        }    #T_83bf563e_7855_11ea_b618_0242ac1c0002row1_col4 {\n",
              "            background-color:  #c7d7eb;\n",
              "            color:  #000000;\n",
              "            max-width:  80px;\n",
              "            font-size:  10pt;\n",
              "        }    #T_83bf563e_7855_11ea_b618_0242ac1c0002row1_col5 {\n",
              "            background-color:  #e4798e;\n",
              "            color:  #000000;\n",
              "            max-width:  80px;\n",
              "            font-size:  10pt;\n",
              "        }    #T_83bf563e_7855_11ea_b618_0242ac1c0002row1_col6 {\n",
              "            background-color:  #e78c9e;\n",
              "            color:  #000000;\n",
              "            max-width:  80px;\n",
              "            font-size:  10pt;\n",
              "        }    #T_83bf563e_7855_11ea_b618_0242ac1c0002row1_col7 {\n",
              "            background-color:  #6d96ca;\n",
              "            color:  #000000;\n",
              "            max-width:  80px;\n",
              "            font-size:  10pt;\n",
              "        }    #T_83bf563e_7855_11ea_b618_0242ac1c0002row1_col8 {\n",
              "            background-color:  #e0e9f4;\n",
              "            color:  #000000;\n",
              "            max-width:  80px;\n",
              "            font-size:  10pt;\n",
              "        }    #T_83bf563e_7855_11ea_b618_0242ac1c0002row1_col9 {\n",
              "            background-color:  #d94462;\n",
              "            color:  #f1f1f1;\n",
              "            max-width:  80px;\n",
              "            font-size:  10pt;\n",
              "        }    #T_83bf563e_7855_11ea_b618_0242ac1c0002row1_col10 {\n",
              "            background-color:  #f5ced6;\n",
              "            color:  #000000;\n",
              "            max-width:  80px;\n",
              "            font-size:  10pt;\n",
              "        }    #T_83bf563e_7855_11ea_b618_0242ac1c0002row1_col11 {\n",
              "            background-color:  #da4865;\n",
              "            color:  #000000;\n",
              "            max-width:  80px;\n",
              "            font-size:  10pt;\n",
              "        }    #T_83bf563e_7855_11ea_b618_0242ac1c0002row1_col12 {\n",
              "            background-color:  #d73c5b;\n",
              "            color:  #f1f1f1;\n",
              "            max-width:  80px;\n",
              "            font-size:  10pt;\n",
              "        }    #T_83bf563e_7855_11ea_b618_0242ac1c0002row1_col13 {\n",
              "            background-color:  #e994a5;\n",
              "            color:  #000000;\n",
              "            max-width:  80px;\n",
              "            font-size:  10pt;\n",
              "        }    #T_83bf563e_7855_11ea_b618_0242ac1c0002row2_col0 {\n",
              "            background-color:  #e3748a;\n",
              "            color:  #000000;\n",
              "            max-width:  80px;\n",
              "            font-size:  10pt;\n",
              "        }    #T_83bf563e_7855_11ea_b618_0242ac1c0002row2_col1 {\n",
              "            background-color:  #c0d2e8;\n",
              "            color:  #000000;\n",
              "            max-width:  80px;\n",
              "            font-size:  10pt;\n",
              "        }    #T_83bf563e_7855_11ea_b618_0242ac1c0002row2_col2 {\n",
              "            background-color:  #4479bb;\n",
              "            color:  #000000;\n",
              "            max-width:  80px;\n",
              "            font-size:  10pt;\n",
              "        }    #T_83bf563e_7855_11ea_b618_0242ac1c0002row2_col3 {\n",
              "            background-color:  #c5d5ea;\n",
              "            color:  #000000;\n",
              "            max-width:  80px;\n",
              "            font-size:  10pt;\n",
              "        }    #T_83bf563e_7855_11ea_b618_0242ac1c0002row2_col4 {\n",
              "            background-color:  #5182bf;\n",
              "            color:  #000000;\n",
              "            max-width:  80px;\n",
              "            font-size:  10pt;\n",
              "        }    #T_83bf563e_7855_11ea_b618_0242ac1c0002row2_col5 {\n",
              "            background-color:  #e994a5;\n",
              "            color:  #000000;\n",
              "            max-width:  80px;\n",
              "            font-size:  10pt;\n",
              "        }    #T_83bf563e_7855_11ea_b618_0242ac1c0002row2_col6 {\n",
              "            background-color:  #e4798e;\n",
              "            color:  #000000;\n",
              "            max-width:  80px;\n",
              "            font-size:  10pt;\n",
              "        }    #T_83bf563e_7855_11ea_b618_0242ac1c0002row2_col7 {\n",
              "            background-color:  #e0e9f4;\n",
              "            color:  #000000;\n",
              "            max-width:  80px;\n",
              "            font-size:  10pt;\n",
              "        }    #T_83bf563e_7855_11ea_b618_0242ac1c0002row2_col8 {\n",
              "            background-color:  #6a94c9;\n",
              "            color:  #000000;\n",
              "            max-width:  80px;\n",
              "            font-size:  10pt;\n",
              "        }    #T_83bf563e_7855_11ea_b618_0242ac1c0002row2_col9 {\n",
              "            background-color:  #da4966;\n",
              "            color:  #000000;\n",
              "            max-width:  80px;\n",
              "            font-size:  10pt;\n",
              "        }    #T_83bf563e_7855_11ea_b618_0242ac1c0002row2_col10 {\n",
              "            background-color:  #f5ced6;\n",
              "            color:  #000000;\n",
              "            max-width:  80px;\n",
              "            font-size:  10pt;\n",
              "        }    #T_83bf563e_7855_11ea_b618_0242ac1c0002row2_col11 {\n",
              "            background-color:  #da4b68;\n",
              "            color:  #000000;\n",
              "            max-width:  80px;\n",
              "            font-size:  10pt;\n",
              "        }    #T_83bf563e_7855_11ea_b618_0242ac1c0002row2_col12 {\n",
              "            background-color:  #d73c5b;\n",
              "            color:  #f1f1f1;\n",
              "            max-width:  80px;\n",
              "            font-size:  10pt;\n",
              "        }    #T_83bf563e_7855_11ea_b618_0242ac1c0002row2_col13 {\n",
              "            background-color:  #ea99a9;\n",
              "            color:  #000000;\n",
              "            max-width:  80px;\n",
              "            font-size:  10pt;\n",
              "        }    #T_83bf563e_7855_11ea_b618_0242ac1c0002row3_col0 {\n",
              "            background-color:  #df617a;\n",
              "            color:  #000000;\n",
              "            max-width:  80px;\n",
              "            font-size:  10pt;\n",
              "        }    #T_83bf563e_7855_11ea_b618_0242ac1c0002row3_col1 {\n",
              "            background-color:  #5384c0;\n",
              "            color:  #000000;\n",
              "            max-width:  80px;\n",
              "            font-size:  10pt;\n",
              "        }    #T_83bf563e_7855_11ea_b618_0242ac1c0002row3_col2 {\n",
              "            background-color:  #cad9ec;\n",
              "            color:  #000000;\n",
              "            max-width:  80px;\n",
              "            font-size:  10pt;\n",
              "        }    #T_83bf563e_7855_11ea_b618_0242ac1c0002row3_col3 {\n",
              "            background-color:  #4479bb;\n",
              "            color:  #000000;\n",
              "            max-width:  80px;\n",
              "            font-size:  10pt;\n",
              "        }    #T_83bf563e_7855_11ea_b618_0242ac1c0002row3_col4 {\n",
              "            background-color:  #bdd0e7;\n",
              "            color:  #000000;\n",
              "            max-width:  80px;\n",
              "            font-size:  10pt;\n",
              "        }    #T_83bf563e_7855_11ea_b618_0242ac1c0002row3_col5 {\n",
              "            background-color:  #f3c5ce;\n",
              "            color:  #000000;\n",
              "            max-width:  80px;\n",
              "            font-size:  10pt;\n",
              "        }    #T_83bf563e_7855_11ea_b618_0242ac1c0002row3_col6 {\n",
              "            background-color:  #efb2bf;\n",
              "            color:  #000000;\n",
              "            max-width:  80px;\n",
              "            font-size:  10pt;\n",
              "        }    #T_83bf563e_7855_11ea_b618_0242ac1c0002row3_col7 {\n",
              "            background-color:  #85a7d2;\n",
              "            color:  #000000;\n",
              "            max-width:  80px;\n",
              "            font-size:  10pt;\n",
              "        }    #T_83bf563e_7855_11ea_b618_0242ac1c0002row3_col8 {\n",
              "            background-color:  #e8eff7;\n",
              "            color:  #000000;\n",
              "            max-width:  80px;\n",
              "            font-size:  10pt;\n",
              "        }    #T_83bf563e_7855_11ea_b618_0242ac1c0002row3_col9 {\n",
              "            background-color:  #d73c5b;\n",
              "            color:  #f1f1f1;\n",
              "            max-width:  80px;\n",
              "            font-size:  10pt;\n",
              "        }    #T_83bf563e_7855_11ea_b618_0242ac1c0002row3_col10 {\n",
              "            background-color:  #f3c5ce;\n",
              "            color:  #000000;\n",
              "            max-width:  80px;\n",
              "            font-size:  10pt;\n",
              "        }    #T_83bf563e_7855_11ea_b618_0242ac1c0002row3_col11 {\n",
              "            background-color:  #d73d5c;\n",
              "            color:  #f1f1f1;\n",
              "            max-width:  80px;\n",
              "            font-size:  10pt;\n",
              "        }    #T_83bf563e_7855_11ea_b618_0242ac1c0002row3_col12 {\n",
              "            background-color:  #db4d69;\n",
              "            color:  #000000;\n",
              "            max-width:  80px;\n",
              "            font-size:  10pt;\n",
              "        }    #T_83bf563e_7855_11ea_b618_0242ac1c0002row3_col13 {\n",
              "            background-color:  #e88ea0;\n",
              "            color:  #000000;\n",
              "            max-width:  80px;\n",
              "            font-size:  10pt;\n",
              "        }    #T_83bf563e_7855_11ea_b618_0242ac1c0002row4_col0 {\n",
              "            background-color:  #e0657d;\n",
              "            color:  #000000;\n",
              "            max-width:  80px;\n",
              "            font-size:  10pt;\n",
              "        }    #T_83bf563e_7855_11ea_b618_0242ac1c0002row4_col1 {\n",
              "            background-color:  #cddbed;\n",
              "            color:  #000000;\n",
              "            max-width:  80px;\n",
              "            font-size:  10pt;\n",
              "        }    #T_83bf563e_7855_11ea_b618_0242ac1c0002row4_col2 {\n",
              "            background-color:  #5384c0;\n",
              "            color:  #000000;\n",
              "            max-width:  80px;\n",
              "            font-size:  10pt;\n",
              "        }    #T_83bf563e_7855_11ea_b618_0242ac1c0002row4_col3 {\n",
              "            background-color:  #c0d2e8;\n",
              "            color:  #000000;\n",
              "            max-width:  80px;\n",
              "            font-size:  10pt;\n",
              "        }    #T_83bf563e_7855_11ea_b618_0242ac1c0002row4_col4 {\n",
              "            background-color:  #4479bb;\n",
              "            color:  #000000;\n",
              "            max-width:  80px;\n",
              "            font-size:  10pt;\n",
              "        }    #T_83bf563e_7855_11ea_b618_0242ac1c0002row4_col5 {\n",
              "            background-color:  #f0b4c0;\n",
              "            color:  #000000;\n",
              "            max-width:  80px;\n",
              "            font-size:  10pt;\n",
              "        }    #T_83bf563e_7855_11ea_b618_0242ac1c0002row4_col6 {\n",
              "            background-color:  #f1bbc6;\n",
              "            color:  #000000;\n",
              "            max-width:  80px;\n",
              "            font-size:  10pt;\n",
              "        }    #T_83bf563e_7855_11ea_b618_0242ac1c0002row4_col7 {\n",
              "            background-color:  #ecf2f8;\n",
              "            color:  #000000;\n",
              "            max-width:  80px;\n",
              "            font-size:  10pt;\n",
              "        }    #T_83bf563e_7855_11ea_b618_0242ac1c0002row4_col8 {\n",
              "            background-color:  #81a4d1;\n",
              "            color:  #000000;\n",
              "            max-width:  80px;\n",
              "            font-size:  10pt;\n",
              "        }    #T_83bf563e_7855_11ea_b618_0242ac1c0002row4_col9 {\n",
              "            background-color:  #d73d5c;\n",
              "            color:  #f1f1f1;\n",
              "            max-width:  80px;\n",
              "            font-size:  10pt;\n",
              "        }    #T_83bf563e_7855_11ea_b618_0242ac1c0002row4_col10 {\n",
              "            background-color:  #f1bbc6;\n",
              "            color:  #000000;\n",
              "            max-width:  80px;\n",
              "            font-size:  10pt;\n",
              "        }    #T_83bf563e_7855_11ea_b618_0242ac1c0002row4_col11 {\n",
              "            background-color:  #d73c5b;\n",
              "            color:  #f1f1f1;\n",
              "            max-width:  80px;\n",
              "            font-size:  10pt;\n",
              "        }    #T_83bf563e_7855_11ea_b618_0242ac1c0002row4_col12 {\n",
              "            background-color:  #d8405e;\n",
              "            color:  #f1f1f1;\n",
              "            max-width:  80px;\n",
              "            font-size:  10pt;\n",
              "        }    #T_83bf563e_7855_11ea_b618_0242ac1c0002row4_col13 {\n",
              "            background-color:  #e78a9d;\n",
              "            color:  #000000;\n",
              "            max-width:  80px;\n",
              "            font-size:  10pt;\n",
              "        }    #T_83bf563e_7855_11ea_b618_0242ac1c0002row5_col0 {\n",
              "            background-color:  #de5c76;\n",
              "            color:  #000000;\n",
              "            max-width:  80px;\n",
              "            font-size:  10pt;\n",
              "        }    #T_83bf563e_7855_11ea_b618_0242ac1c0002row5_col1 {\n",
              "            background-color:  #dc546f;\n",
              "            color:  #000000;\n",
              "            max-width:  80px;\n",
              "            font-size:  10pt;\n",
              "        }    #T_83bf563e_7855_11ea_b618_0242ac1c0002row5_col2 {\n",
              "            background-color:  #e16d85;\n",
              "            color:  #000000;\n",
              "            max-width:  80px;\n",
              "            font-size:  10pt;\n",
              "        }    #T_83bf563e_7855_11ea_b618_0242ac1c0002row5_col3 {\n",
              "            background-color:  #eeaebb;\n",
              "            color:  #000000;\n",
              "            max-width:  80px;\n",
              "            font-size:  10pt;\n",
              "        }    #T_83bf563e_7855_11ea_b618_0242ac1c0002row5_col4 {\n",
              "            background-color:  #eb9ead;\n",
              "            color:  #000000;\n",
              "            max-width:  80px;\n",
              "            font-size:  10pt;\n",
              "        }    #T_83bf563e_7855_11ea_b618_0242ac1c0002row5_col5 {\n",
              "            background-color:  #4479bb;\n",
              "            color:  #000000;\n",
              "            max-width:  80px;\n",
              "            font-size:  10pt;\n",
              "        }    #T_83bf563e_7855_11ea_b618_0242ac1c0002row5_col6 {\n",
              "            background-color:  #e4ecf5;\n",
              "            color:  #000000;\n",
              "            max-width:  80px;\n",
              "            font-size:  10pt;\n",
              "        }    #T_83bf563e_7855_11ea_b618_0242ac1c0002row5_col7 {\n",
              "            background-color:  #d73c5b;\n",
              "            color:  #f1f1f1;\n",
              "            max-width:  80px;\n",
              "            font-size:  10pt;\n",
              "        }    #T_83bf563e_7855_11ea_b618_0242ac1c0002row5_col8 {\n",
              "            background-color:  #e16981;\n",
              "            color:  #000000;\n",
              "            max-width:  80px;\n",
              "            font-size:  10pt;\n",
              "        }    #T_83bf563e_7855_11ea_b618_0242ac1c0002row5_col9 {\n",
              "            background-color:  #e27087;\n",
              "            color:  #000000;\n",
              "            max-width:  80px;\n",
              "            font-size:  10pt;\n",
              "        }    #T_83bf563e_7855_11ea_b618_0242ac1c0002row5_col10 {\n",
              "            background-color:  #e16981;\n",
              "            color:  #000000;\n",
              "            max-width:  80px;\n",
              "            font-size:  10pt;\n",
              "        }    #T_83bf563e_7855_11ea_b618_0242ac1c0002row5_col11 {\n",
              "            background-color:  #e16d85;\n",
              "            color:  #000000;\n",
              "            max-width:  80px;\n",
              "            font-size:  10pt;\n",
              "        }    #T_83bf563e_7855_11ea_b618_0242ac1c0002row5_col12 {\n",
              "            background-color:  #f2bfca;\n",
              "            color:  #000000;\n",
              "            max-width:  80px;\n",
              "            font-size:  10pt;\n",
              "        }    #T_83bf563e_7855_11ea_b618_0242ac1c0002row5_col13 {\n",
              "            background-color:  #e27288;\n",
              "            color:  #000000;\n",
              "            max-width:  80px;\n",
              "            font-size:  10pt;\n",
              "        }    #T_83bf563e_7855_11ea_b618_0242ac1c0002row6_col0 {\n",
              "            background-color:  #e26f86;\n",
              "            color:  #000000;\n",
              "            max-width:  80px;\n",
              "            font-size:  10pt;\n",
              "        }    #T_83bf563e_7855_11ea_b618_0242ac1c0002row6_col1 {\n",
              "            background-color:  #e16981;\n",
              "            color:  #000000;\n",
              "            max-width:  80px;\n",
              "            font-size:  10pt;\n",
              "        }    #T_83bf563e_7855_11ea_b618_0242ac1c0002row6_col2 {\n",
              "            background-color:  #db4f6b;\n",
              "            color:  #000000;\n",
              "            max-width:  80px;\n",
              "            font-size:  10pt;\n",
              "        }    #T_83bf563e_7855_11ea_b618_0242ac1c0002row6_col3 {\n",
              "            background-color:  #ea9aaa;\n",
              "            color:  #000000;\n",
              "            max-width:  80px;\n",
              "            font-size:  10pt;\n",
              "        }    #T_83bf563e_7855_11ea_b618_0242ac1c0002row6_col4 {\n",
              "            background-color:  #eda7b5;\n",
              "            color:  #000000;\n",
              "            max-width:  80px;\n",
              "            font-size:  10pt;\n",
              "        }    #T_83bf563e_7855_11ea_b618_0242ac1c0002row6_col5 {\n",
              "            background-color:  #e4ecf5;\n",
              "            color:  #000000;\n",
              "            max-width:  80px;\n",
              "            font-size:  10pt;\n",
              "        }    #T_83bf563e_7855_11ea_b618_0242ac1c0002row6_col6 {\n",
              "            background-color:  #4479bb;\n",
              "            color:  #000000;\n",
              "            max-width:  80px;\n",
              "            font-size:  10pt;\n",
              "        }    #T_83bf563e_7855_11ea_b618_0242ac1c0002row6_col7 {\n",
              "            background-color:  #e0657d;\n",
              "            color:  #000000;\n",
              "            max-width:  80px;\n",
              "            font-size:  10pt;\n",
              "        }    #T_83bf563e_7855_11ea_b618_0242ac1c0002row6_col8 {\n",
              "            background-color:  #d73c5b;\n",
              "            color:  #f1f1f1;\n",
              "            max-width:  80px;\n",
              "            font-size:  10pt;\n",
              "        }    #T_83bf563e_7855_11ea_b618_0242ac1c0002row6_col9 {\n",
              "            background-color:  #e68396;\n",
              "            color:  #000000;\n",
              "            max-width:  80px;\n",
              "            font-size:  10pt;\n",
              "        }    #T_83bf563e_7855_11ea_b618_0242ac1c0002row6_col10 {\n",
              "            background-color:  #dd5872;\n",
              "            color:  #000000;\n",
              "            max-width:  80px;\n",
              "            font-size:  10pt;\n",
              "        }    #T_83bf563e_7855_11ea_b618_0242ac1c0002row6_col11 {\n",
              "            background-color:  #e4798e;\n",
              "            color:  #000000;\n",
              "            max-width:  80px;\n",
              "            font-size:  10pt;\n",
              "        }    #T_83bf563e_7855_11ea_b618_0242ac1c0002row6_col12 {\n",
              "            background-color:  #f1b9c4;\n",
              "            color:  #000000;\n",
              "            max-width:  80px;\n",
              "            font-size:  10pt;\n",
              "        }    #T_83bf563e_7855_11ea_b618_0242ac1c0002row6_col13 {\n",
              "            background-color:  #e27389;\n",
              "            color:  #000000;\n",
              "            max-width:  80px;\n",
              "            font-size:  10pt;\n",
              "        }    #T_83bf563e_7855_11ea_b618_0242ac1c0002row7_col0 {\n",
              "            background-color:  #e68396;\n",
              "            color:  #000000;\n",
              "            max-width:  80px;\n",
              "            font-size:  10pt;\n",
              "        }    #T_83bf563e_7855_11ea_b618_0242ac1c0002row7_col1 {\n",
              "            background-color:  #6b95c9;\n",
              "            color:  #000000;\n",
              "            max-width:  80px;\n",
              "            font-size:  10pt;\n",
              "        }    #T_83bf563e_7855_11ea_b618_0242ac1c0002row7_col2 {\n",
              "            background-color:  #dae5f2;\n",
              "            color:  #000000;\n",
              "            max-width:  80px;\n",
              "            font-size:  10pt;\n",
              "        }    #T_83bf563e_7855_11ea_b618_0242ac1c0002row7_col3 {\n",
              "            background-color:  #81a4d1;\n",
              "            color:  #000000;\n",
              "            max-width:  80px;\n",
              "            font-size:  10pt;\n",
              "        }    #T_83bf563e_7855_11ea_b618_0242ac1c0002row7_col4 {\n",
              "            background-color:  #e0e9f4;\n",
              "            color:  #000000;\n",
              "            max-width:  80px;\n",
              "            font-size:  10pt;\n",
              "        }    #T_83bf563e_7855_11ea_b618_0242ac1c0002row7_col5 {\n",
              "            background-color:  #e27087;\n",
              "            color:  #000000;\n",
              "            max-width:  80px;\n",
              "            font-size:  10pt;\n",
              "        }    #T_83bf563e_7855_11ea_b618_0242ac1c0002row7_col6 {\n",
              "            background-color:  #e994a5;\n",
              "            color:  #000000;\n",
              "            max-width:  80px;\n",
              "            font-size:  10pt;\n",
              "        }    #T_83bf563e_7855_11ea_b618_0242ac1c0002row7_col7 {\n",
              "            background-color:  #4479bb;\n",
              "            color:  #000000;\n",
              "            max-width:  80px;\n",
              "            font-size:  10pt;\n",
              "        }    #T_83bf563e_7855_11ea_b618_0242ac1c0002row7_col8 {\n",
              "            background-color:  #d5e1f0;\n",
              "            color:  #000000;\n",
              "            max-width:  80px;\n",
              "            font-size:  10pt;\n",
              "        }    #T_83bf563e_7855_11ea_b618_0242ac1c0002row7_col9 {\n",
              "            background-color:  #e16d85;\n",
              "            color:  #000000;\n",
              "            max-width:  80px;\n",
              "            font-size:  10pt;\n",
              "        }    #T_83bf563e_7855_11ea_b618_0242ac1c0002row7_col10 {\n",
              "            background-color:  #f1b8c3;\n",
              "            color:  #000000;\n",
              "            max-width:  80px;\n",
              "            font-size:  10pt;\n",
              "        }    #T_83bf563e_7855_11ea_b618_0242ac1c0002row7_col11 {\n",
              "            background-color:  #e16d85;\n",
              "            color:  #000000;\n",
              "            max-width:  80px;\n",
              "            font-size:  10pt;\n",
              "        }    #T_83bf563e_7855_11ea_b618_0242ac1c0002row7_col12 {\n",
              "            background-color:  #d73c5b;\n",
              "            color:  #f1f1f1;\n",
              "            max-width:  80px;\n",
              "            font-size:  10pt;\n",
              "        }    #T_83bf563e_7855_11ea_b618_0242ac1c0002row7_col13 {\n",
              "            background-color:  #ec9faf;\n",
              "            color:  #000000;\n",
              "            max-width:  80px;\n",
              "            font-size:  10pt;\n",
              "        }    #T_83bf563e_7855_11ea_b618_0242ac1c0002row8_col0 {\n",
              "            background-color:  #e68699;\n",
              "            color:  #000000;\n",
              "            max-width:  80px;\n",
              "            font-size:  10pt;\n",
              "        }    #T_83bf563e_7855_11ea_b618_0242ac1c0002row8_col1 {\n",
              "            background-color:  #d9e4f1;\n",
              "            color:  #000000;\n",
              "            max-width:  80px;\n",
              "            font-size:  10pt;\n",
              "        }    #T_83bf563e_7855_11ea_b618_0242ac1c0002row8_col2 {\n",
              "            background-color:  #6993c8;\n",
              "            color:  #000000;\n",
              "            max-width:  80px;\n",
              "            font-size:  10pt;\n",
              "        }    #T_83bf563e_7855_11ea_b618_0242ac1c0002row8_col3 {\n",
              "            background-color:  #dde7f3;\n",
              "            color:  #000000;\n",
              "            max-width:  80px;\n",
              "            font-size:  10pt;\n",
              "        }    #T_83bf563e_7855_11ea_b618_0242ac1c0002row8_col4 {\n",
              "            background-color:  #7ba0cf;\n",
              "            color:  #000000;\n",
              "            max-width:  80px;\n",
              "            font-size:  10pt;\n",
              "        }    #T_83bf563e_7855_11ea_b618_0242ac1c0002row8_col5 {\n",
              "            background-color:  #ea9aaa;\n",
              "            color:  #000000;\n",
              "            max-width:  80px;\n",
              "            font-size:  10pt;\n",
              "        }    #T_83bf563e_7855_11ea_b618_0242ac1c0002row8_col6 {\n",
              "            background-color:  #e27389;\n",
              "            color:  #000000;\n",
              "            max-width:  80px;\n",
              "            font-size:  10pt;\n",
              "        }    #T_83bf563e_7855_11ea_b618_0242ac1c0002row8_col7 {\n",
              "            background-color:  #d4e0ef;\n",
              "            color:  #000000;\n",
              "            max-width:  80px;\n",
              "            font-size:  10pt;\n",
              "        }    #T_83bf563e_7855_11ea_b618_0242ac1c0002row8_col8 {\n",
              "            background-color:  #4479bb;\n",
              "            color:  #000000;\n",
              "            max-width:  80px;\n",
              "            font-size:  10pt;\n",
              "        }    #T_83bf563e_7855_11ea_b618_0242ac1c0002row8_col9 {\n",
              "            background-color:  #e27087;\n",
              "            color:  #000000;\n",
              "            max-width:  80px;\n",
              "            font-size:  10pt;\n",
              "        }    #T_83bf563e_7855_11ea_b618_0242ac1c0002row8_col10 {\n",
              "            background-color:  #f1b9c4;\n",
              "            color:  #000000;\n",
              "            max-width:  80px;\n",
              "            font-size:  10pt;\n",
              "        }    #T_83bf563e_7855_11ea_b618_0242ac1c0002row8_col11 {\n",
              "            background-color:  #e26f86;\n",
              "            color:  #000000;\n",
              "            max-width:  80px;\n",
              "            font-size:  10pt;\n",
              "        }    #T_83bf563e_7855_11ea_b618_0242ac1c0002row8_col12 {\n",
              "            background-color:  #d73c5b;\n",
              "            color:  #f1f1f1;\n",
              "            max-width:  80px;\n",
              "            font-size:  10pt;\n",
              "        }    #T_83bf563e_7855_11ea_b618_0242ac1c0002row8_col13 {\n",
              "            background-color:  #eca3b1;\n",
              "            color:  #000000;\n",
              "            max-width:  80px;\n",
              "            font-size:  10pt;\n",
              "        }    #T_83bf563e_7855_11ea_b618_0242ac1c0002row9_col0 {\n",
              "            background-color:  #bfd1e8;\n",
              "            color:  #000000;\n",
              "            max-width:  80px;\n",
              "            font-size:  10pt;\n",
              "        }    #T_83bf563e_7855_11ea_b618_0242ac1c0002row9_col1 {\n",
              "            background-color:  #eb9dac;\n",
              "            color:  #000000;\n",
              "            max-width:  80px;\n",
              "            font-size:  10pt;\n",
              "        }    #T_83bf563e_7855_11ea_b618_0242ac1c0002row9_col2 {\n",
              "            background-color:  #eb9ead;\n",
              "            color:  #000000;\n",
              "            max-width:  80px;\n",
              "            font-size:  10pt;\n",
              "        }    #T_83bf563e_7855_11ea_b618_0242ac1c0002row9_col3 {\n",
              "            background-color:  #eb9dac;\n",
              "            color:  #000000;\n",
              "            max-width:  80px;\n",
              "            font-size:  10pt;\n",
              "        }    #T_83bf563e_7855_11ea_b618_0242ac1c0002row9_col4 {\n",
              "            background-color:  #eca3b1;\n",
              "            color:  #000000;\n",
              "            max-width:  80px;\n",
              "            font-size:  10pt;\n",
              "        }    #T_83bf563e_7855_11ea_b618_0242ac1c0002row9_col5 {\n",
              "            background-color:  #f7d9df;\n",
              "            color:  #000000;\n",
              "            max-width:  80px;\n",
              "            font-size:  10pt;\n",
              "        }    #T_83bf563e_7855_11ea_b618_0242ac1c0002row9_col6 {\n",
              "            background-color:  #fae4e9;\n",
              "            color:  #000000;\n",
              "            max-width:  80px;\n",
              "            font-size:  10pt;\n",
              "        }    #T_83bf563e_7855_11ea_b618_0242ac1c0002row9_col7 {\n",
              "            background-color:  #efb2bf;\n",
              "            color:  #000000;\n",
              "            max-width:  80px;\n",
              "            font-size:  10pt;\n",
              "        }    #T_83bf563e_7855_11ea_b618_0242ac1c0002row9_col8 {\n",
              "            background-color:  #efb2bf;\n",
              "            color:  #000000;\n",
              "            max-width:  80px;\n",
              "            font-size:  10pt;\n",
              "        }    #T_83bf563e_7855_11ea_b618_0242ac1c0002row9_col9 {\n",
              "            background-color:  #4479bb;\n",
              "            color:  #000000;\n",
              "            max-width:  80px;\n",
              "            font-size:  10pt;\n",
              "        }    #T_83bf563e_7855_11ea_b618_0242ac1c0002row9_col10 {\n",
              "            background-color:  #d73c5b;\n",
              "            color:  #f1f1f1;\n",
              "            max-width:  80px;\n",
              "            font-size:  10pt;\n",
              "        }    #T_83bf563e_7855_11ea_b618_0242ac1c0002row9_col11 {\n",
              "            background-color:  #7fa3d0;\n",
              "            color:  #000000;\n",
              "            max-width:  80px;\n",
              "            font-size:  10pt;\n",
              "        }    #T_83bf563e_7855_11ea_b618_0242ac1c0002row9_col12 {\n",
              "            background-color:  #eeabb8;\n",
              "            color:  #000000;\n",
              "            max-width:  80px;\n",
              "            font-size:  10pt;\n",
              "        }    #T_83bf563e_7855_11ea_b618_0242ac1c0002row9_col13 {\n",
              "            background-color:  #f7dae0;\n",
              "            color:  #000000;\n",
              "            max-width:  80px;\n",
              "            font-size:  10pt;\n",
              "        }    #T_83bf563e_7855_11ea_b618_0242ac1c0002row10_col0 {\n",
              "            background-color:  #e991a3;\n",
              "            color:  #000000;\n",
              "            max-width:  80px;\n",
              "            font-size:  10pt;\n",
              "        }    #T_83bf563e_7855_11ea_b618_0242ac1c0002row10_col1 {\n",
              "            background-color:  #e3ebf5;\n",
              "            color:  #000000;\n",
              "            max-width:  80px;\n",
              "            font-size:  10pt;\n",
              "        }    #T_83bf563e_7855_11ea_b618_0242ac1c0002row10_col2 {\n",
              "            background-color:  #e4ecf5;\n",
              "            color:  #000000;\n",
              "            max-width:  80px;\n",
              "            font-size:  10pt;\n",
              "        }    #T_83bf563e_7855_11ea_b618_0242ac1c0002row10_col3 {\n",
              "            background-color:  #e6edf6;\n",
              "            color:  #000000;\n",
              "            max-width:  80px;\n",
              "            font-size:  10pt;\n",
              "        }    #T_83bf563e_7855_11ea_b618_0242ac1c0002row10_col4 {\n",
              "            background-color:  #eaf0f7;\n",
              "            color:  #000000;\n",
              "            max-width:  80px;\n",
              "            font-size:  10pt;\n",
              "        }    #T_83bf563e_7855_11ea_b618_0242ac1c0002row10_col5 {\n",
              "            background-color:  #f6d3da;\n",
              "            color:  #000000;\n",
              "            max-width:  80px;\n",
              "            font-size:  10pt;\n",
              "        }    #T_83bf563e_7855_11ea_b618_0242ac1c0002row10_col6 {\n",
              "            background-color:  #f4c8d0;\n",
              "            color:  #000000;\n",
              "            max-width:  80px;\n",
              "            font-size:  10pt;\n",
              "        }    #T_83bf563e_7855_11ea_b618_0242ac1c0002row10_col7 {\n",
              "            background-color:  #f2f2f2;\n",
              "            color:  #000000;\n",
              "            max-width:  80px;\n",
              "            font-size:  10pt;\n",
              "        }    #T_83bf563e_7855_11ea_b618_0242ac1c0002row10_col8 {\n",
              "            background-color:  #f2f2f2;\n",
              "            color:  #000000;\n",
              "            max-width:  80px;\n",
              "            font-size:  10pt;\n",
              "        }    #T_83bf563e_7855_11ea_b618_0242ac1c0002row10_col9 {\n",
              "            background-color:  #d73c5b;\n",
              "            color:  #f1f1f1;\n",
              "            max-width:  80px;\n",
              "            font-size:  10pt;\n",
              "        }    #T_83bf563e_7855_11ea_b618_0242ac1c0002row10_col10 {\n",
              "            background-color:  #4479bb;\n",
              "            color:  #000000;\n",
              "            max-width:  80px;\n",
              "            font-size:  10pt;\n",
              "        }    #T_83bf563e_7855_11ea_b618_0242ac1c0002row10_col11 {\n",
              "            background-color:  #e0657d;\n",
              "            color:  #000000;\n",
              "            max-width:  80px;\n",
              "            font-size:  10pt;\n",
              "        }    #T_83bf563e_7855_11ea_b618_0242ac1c0002row10_col12 {\n",
              "            background-color:  #dce6f2;\n",
              "            color:  #000000;\n",
              "            max-width:  80px;\n",
              "            font-size:  10pt;\n",
              "        }    #T_83bf563e_7855_11ea_b618_0242ac1c0002row10_col13 {\n",
              "            background-color:  #f7dae0;\n",
              "            color:  #000000;\n",
              "            max-width:  80px;\n",
              "            font-size:  10pt;\n",
              "        }    #T_83bf563e_7855_11ea_b618_0242ac1c0002row11_col0 {\n",
              "            background-color:  #ecf2f8;\n",
              "            color:  #000000;\n",
              "            max-width:  80px;\n",
              "            font-size:  10pt;\n",
              "        }    #T_83bf563e_7855_11ea_b618_0242ac1c0002row11_col1 {\n",
              "            background-color:  #e57d92;\n",
              "            color:  #000000;\n",
              "            max-width:  80px;\n",
              "            font-size:  10pt;\n",
              "        }    #T_83bf563e_7855_11ea_b618_0242ac1c0002row11_col2 {\n",
              "            background-color:  #e47c91;\n",
              "            color:  #000000;\n",
              "            max-width:  80px;\n",
              "            font-size:  10pt;\n",
              "        }    #T_83bf563e_7855_11ea_b618_0242ac1c0002row11_col3 {\n",
              "            background-color:  #e47c91;\n",
              "            color:  #000000;\n",
              "            max-width:  80px;\n",
              "            font-size:  10pt;\n",
              "        }    #T_83bf563e_7855_11ea_b618_0242ac1c0002row11_col4 {\n",
              "            background-color:  #e57d92;\n",
              "            color:  #000000;\n",
              "            max-width:  80px;\n",
              "            font-size:  10pt;\n",
              "        }    #T_83bf563e_7855_11ea_b618_0242ac1c0002row11_col5 {\n",
              "            background-color:  #f1bbc6;\n",
              "            color:  #000000;\n",
              "            max-width:  80px;\n",
              "            font-size:  10pt;\n",
              "        }    #T_83bf563e_7855_11ea_b618_0242ac1c0002row11_col6 {\n",
              "            background-color:  #f3c4cd;\n",
              "            color:  #000000;\n",
              "            max-width:  80px;\n",
              "            font-size:  10pt;\n",
              "        }    #T_83bf563e_7855_11ea_b618_0242ac1c0002row11_col7 {\n",
              "            background-color:  #e993a4;\n",
              "            color:  #000000;\n",
              "            max-width:  80px;\n",
              "            font-size:  10pt;\n",
              "        }    #T_83bf563e_7855_11ea_b618_0242ac1c0002row11_col8 {\n",
              "            background-color:  #e991a3;\n",
              "            color:  #000000;\n",
              "            max-width:  80px;\n",
              "            font-size:  10pt;\n",
              "        }    #T_83bf563e_7855_11ea_b618_0242ac1c0002row11_col9 {\n",
              "            background-color:  #87a9d3;\n",
              "            color:  #000000;\n",
              "            max-width:  80px;\n",
              "            font-size:  10pt;\n",
              "        }    #T_83bf563e_7855_11ea_b618_0242ac1c0002row11_col10 {\n",
              "            background-color:  #d73c5b;\n",
              "            color:  #f1f1f1;\n",
              "            max-width:  80px;\n",
              "            font-size:  10pt;\n",
              "        }    #T_83bf563e_7855_11ea_b618_0242ac1c0002row11_col11 {\n",
              "            background-color:  #4479bb;\n",
              "            color:  #000000;\n",
              "            max-width:  80px;\n",
              "            font-size:  10pt;\n",
              "        }    #T_83bf563e_7855_11ea_b618_0242ac1c0002row11_col12 {\n",
              "            background-color:  #eda6b4;\n",
              "            color:  #000000;\n",
              "            max-width:  80px;\n",
              "            font-size:  10pt;\n",
              "        }    #T_83bf563e_7855_11ea_b618_0242ac1c0002row11_col13 {\n",
              "            background-color:  #f2bfca;\n",
              "            color:  #000000;\n",
              "            max-width:  80px;\n",
              "            font-size:  10pt;\n",
              "        }    #T_83bf563e_7855_11ea_b618_0242ac1c0002row12_col0 {\n",
              "            background-color:  #e47c91;\n",
              "            color:  #000000;\n",
              "            max-width:  80px;\n",
              "            font-size:  10pt;\n",
              "        }    #T_83bf563e_7855_11ea_b618_0242ac1c0002row12_col1 {\n",
              "            background-color:  #db4d69;\n",
              "            color:  #000000;\n",
              "            max-width:  80px;\n",
              "            font-size:  10pt;\n",
              "        }    #T_83bf563e_7855_11ea_b618_0242ac1c0002row12_col2 {\n",
              "            background-color:  #da4865;\n",
              "            color:  #000000;\n",
              "            max-width:  80px;\n",
              "            font-size:  10pt;\n",
              "        }    #T_83bf563e_7855_11ea_b618_0242ac1c0002row12_col3 {\n",
              "            background-color:  #e0657d;\n",
              "            color:  #000000;\n",
              "            max-width:  80px;\n",
              "            font-size:  10pt;\n",
              "        }    #T_83bf563e_7855_11ea_b618_0242ac1c0002row12_col4 {\n",
              "            background-color:  #de5e77;\n",
              "            color:  #000000;\n",
              "            max-width:  80px;\n",
              "            font-size:  10pt;\n",
              "        }    #T_83bf563e_7855_11ea_b618_0242ac1c0002row12_col5 {\n",
              "            background-color:  #f9e3e7;\n",
              "            color:  #000000;\n",
              "            max-width:  80px;\n",
              "            font-size:  10pt;\n",
              "        }    #T_83bf563e_7855_11ea_b618_0242ac1c0002row12_col6 {\n",
              "            background-color:  #f8dfe4;\n",
              "            color:  #000000;\n",
              "            max-width:  80px;\n",
              "            font-size:  10pt;\n",
              "        }    #T_83bf563e_7855_11ea_b618_0242ac1c0002row12_col7 {\n",
              "            background-color:  #d83e5d;\n",
              "            color:  #f1f1f1;\n",
              "            max-width:  80px;\n",
              "            font-size:  10pt;\n",
              "        }    #T_83bf563e_7855_11ea_b618_0242ac1c0002row12_col8 {\n",
              "            background-color:  #d73c5b;\n",
              "            color:  #f1f1f1;\n",
              "            max-width:  80px;\n",
              "            font-size:  10pt;\n",
              "        }    #T_83bf563e_7855_11ea_b618_0242ac1c0002row12_col9 {\n",
              "            background-color:  #e06880;\n",
              "            color:  #000000;\n",
              "            max-width:  80px;\n",
              "            font-size:  10pt;\n",
              "        }    #T_83bf563e_7855_11ea_b618_0242ac1c0002row12_col10 {\n",
              "            background-color:  #f9e0e5;\n",
              "            color:  #000000;\n",
              "            max-width:  80px;\n",
              "            font-size:  10pt;\n",
              "        }    #T_83bf563e_7855_11ea_b618_0242ac1c0002row12_col11 {\n",
              "            background-color:  #e68699;\n",
              "            color:  #000000;\n",
              "            max-width:  80px;\n",
              "            font-size:  10pt;\n",
              "        }    #T_83bf563e_7855_11ea_b618_0242ac1c0002row12_col12 {\n",
              "            background-color:  #4479bb;\n",
              "            color:  #000000;\n",
              "            max-width:  80px;\n",
              "            font-size:  10pt;\n",
              "        }    #T_83bf563e_7855_11ea_b618_0242ac1c0002row12_col13 {\n",
              "            background-color:  #eca3b1;\n",
              "            color:  #000000;\n",
              "            max-width:  80px;\n",
              "            font-size:  10pt;\n",
              "        }    #T_83bf563e_7855_11ea_b618_0242ac1c0002row13_col0 {\n",
              "            background-color:  #d73c5b;\n",
              "            color:  #f1f1f1;\n",
              "            max-width:  80px;\n",
              "            font-size:  10pt;\n",
              "        }    #T_83bf563e_7855_11ea_b618_0242ac1c0002row13_col1 {\n",
              "            background-color:  #d73c5b;\n",
              "            color:  #f1f1f1;\n",
              "            max-width:  80px;\n",
              "            font-size:  10pt;\n",
              "        }    #T_83bf563e_7855_11ea_b618_0242ac1c0002row13_col2 {\n",
              "            background-color:  #d73c5b;\n",
              "            color:  #f1f1f1;\n",
              "            max-width:  80px;\n",
              "            font-size:  10pt;\n",
              "        }    #T_83bf563e_7855_11ea_b618_0242ac1c0002row13_col3 {\n",
              "            background-color:  #d73c5b;\n",
              "            color:  #f1f1f1;\n",
              "            max-width:  80px;\n",
              "            font-size:  10pt;\n",
              "        }    #T_83bf563e_7855_11ea_b618_0242ac1c0002row13_col4 {\n",
              "            background-color:  #d73c5b;\n",
              "            color:  #f1f1f1;\n",
              "            max-width:  80px;\n",
              "            font-size:  10pt;\n",
              "        }    #T_83bf563e_7855_11ea_b618_0242ac1c0002row13_col5 {\n",
              "            background-color:  #d73c5b;\n",
              "            color:  #f1f1f1;\n",
              "            max-width:  80px;\n",
              "            font-size:  10pt;\n",
              "        }    #T_83bf563e_7855_11ea_b618_0242ac1c0002row13_col6 {\n",
              "            background-color:  #d73c5b;\n",
              "            color:  #f1f1f1;\n",
              "            max-width:  80px;\n",
              "            font-size:  10pt;\n",
              "        }    #T_83bf563e_7855_11ea_b618_0242ac1c0002row13_col7 {\n",
              "            background-color:  #d73c5b;\n",
              "            color:  #f1f1f1;\n",
              "            max-width:  80px;\n",
              "            font-size:  10pt;\n",
              "        }    #T_83bf563e_7855_11ea_b618_0242ac1c0002row13_col8 {\n",
              "            background-color:  #d73c5b;\n",
              "            color:  #f1f1f1;\n",
              "            max-width:  80px;\n",
              "            font-size:  10pt;\n",
              "        }    #T_83bf563e_7855_11ea_b618_0242ac1c0002row13_col9 {\n",
              "            background-color:  #d73d5c;\n",
              "            color:  #f1f1f1;\n",
              "            max-width:  80px;\n",
              "            font-size:  10pt;\n",
              "        }    #T_83bf563e_7855_11ea_b618_0242ac1c0002row13_col10 {\n",
              "            background-color:  #d73c5b;\n",
              "            color:  #f1f1f1;\n",
              "            max-width:  80px;\n",
              "            font-size:  10pt;\n",
              "        }    #T_83bf563e_7855_11ea_b618_0242ac1c0002row13_col11 {\n",
              "            background-color:  #d73d5c;\n",
              "            color:  #f1f1f1;\n",
              "            max-width:  80px;\n",
              "            font-size:  10pt;\n",
              "        }    #T_83bf563e_7855_11ea_b618_0242ac1c0002row13_col12 {\n",
              "            background-color:  #d73c5b;\n",
              "            color:  #f1f1f1;\n",
              "            max-width:  80px;\n",
              "            font-size:  10pt;\n",
              "        }    #T_83bf563e_7855_11ea_b618_0242ac1c0002row13_col13 {\n",
              "            background-color:  #4479bb;\n",
              "            color:  #000000;\n",
              "            max-width:  80px;\n",
              "            font-size:  10pt;\n",
              "        }</style><table id=\"T_83bf563e_7855_11ea_b618_0242ac1c0002\" ><caption>Hover to magify</caption><thead>    <tr>        <th class=\"blank level0\" ></th>        <th class=\"col_heading level0 col0\" >label</th>        <th class=\"col_heading level0 col1\" >count1</th>        <th class=\"col_heading level0 col2\" >count2</th>        <th class=\"col_heading level0 col3\" >char_count1</th>        <th class=\"col_heading level0 col4\" >char_count2</th>        <th class=\"col_heading level0 col5\" >avg_word_len1</th>        <th class=\"col_heading level0 col6\" >avg_word_len2</th>        <th class=\"col_heading level0 col7\" >stopwords_count1</th>        <th class=\"col_heading level0 col8\" >stopwords_count2</th>        <th class=\"col_heading level0 col9\" >common_words</th>        <th class=\"col_heading level0 col10\" >unique_word_cnt</th>        <th class=\"col_heading level0 col11\" >cosine_sim_tfidf</th>        <th class=\"col_heading level0 col12\" >euc_dist</th>        <th class=\"col_heading level0 col13\" >jac_sim</th>    </tr></thead><tbody>\n",
              "                <tr>\n",
              "                        <th id=\"T_83bf563e_7855_11ea_b618_0242ac1c0002level0_row0\" class=\"row_heading level0 row0\" >label</th>\n",
              "                        <td id=\"T_83bf563e_7855_11ea_b618_0242ac1c0002row0_col0\" class=\"data row0 col0\" >1.00</td>\n",
              "                        <td id=\"T_83bf563e_7855_11ea_b618_0242ac1c0002row0_col1\" class=\"data row0 col1\" >-0.14</td>\n",
              "                        <td id=\"T_83bf563e_7855_11ea_b618_0242ac1c0002row0_col2\" class=\"data row0 col2\" >-0.13</td>\n",
              "                        <td id=\"T_83bf563e_7855_11ea_b618_0242ac1c0002row0_col3\" class=\"data row0 col3\" >-0.16</td>\n",
              "                        <td id=\"T_83bf563e_7855_11ea_b618_0242ac1c0002row0_col4\" class=\"data row0 col4\" >-0.13</td>\n",
              "                        <td id=\"T_83bf563e_7855_11ea_b618_0242ac1c0002row0_col5\" class=\"data row0 col5\" >-0.07</td>\n",
              "                        <td id=\"T_83bf563e_7855_11ea_b618_0242ac1c0002row0_col6\" class=\"data row0 col6\" >-0.01</td>\n",
              "                        <td id=\"T_83bf563e_7855_11ea_b618_0242ac1c0002row0_col7\" class=\"data row0 col7\" >-0.11</td>\n",
              "                        <td id=\"T_83bf563e_7855_11ea_b618_0242ac1c0002row0_col8\" class=\"data row0 col8\" >-0.11</td>\n",
              "                        <td id=\"T_83bf563e_7855_11ea_b618_0242ac1c0002row0_col9\" class=\"data row0 col9\" >0.38</td>\n",
              "                        <td id=\"T_83bf563e_7855_11ea_b618_0242ac1c0002row0_col10\" class=\"data row0 col10\" >-0.35</td>\n",
              "                        <td id=\"T_83bf563e_7855_11ea_b618_0242ac1c0002row0_col11\" class=\"data row0 col11\" >0.25</td>\n",
              "                        <td id=\"T_83bf563e_7855_11ea_b618_0242ac1c0002row0_col12\" class=\"data row0 col12\" >-0.15</td>\n",
              "                        <td id=\"T_83bf563e_7855_11ea_b618_0242ac1c0002row0_col13\" class=\"data row0 col13\" >-0.00</td>\n",
              "            </tr>\n",
              "            <tr>\n",
              "                        <th id=\"T_83bf563e_7855_11ea_b618_0242ac1c0002level0_row1\" class=\"row_heading level0 row1\" >count1</th>\n",
              "                        <td id=\"T_83bf563e_7855_11ea_b618_0242ac1c0002row1_col0\" class=\"data row1 col0\" >-0.14</td>\n",
              "                        <td id=\"T_83bf563e_7855_11ea_b618_0242ac1c0002row1_col1\" class=\"data row1 col1\" >1.00</td>\n",
              "                        <td id=\"T_83bf563e_7855_11ea_b618_0242ac1c0002row1_col2\" class=\"data row1 col2\" >0.52</td>\n",
              "                        <td id=\"T_83bf563e_7855_11ea_b618_0242ac1c0002row1_col3\" class=\"data row1 col3\" >0.94</td>\n",
              "                        <td id=\"T_83bf563e_7855_11ea_b618_0242ac1c0002row1_col4\" class=\"data row1 col4\" >0.50</td>\n",
              "                        <td id=\"T_83bf563e_7855_11ea_b618_0242ac1c0002row1_col5\" class=\"data row1 col5\" >-0.10</td>\n",
              "                        <td id=\"T_83bf563e_7855_11ea_b618_0242ac1c0002row1_col6\" class=\"data row1 col6\" >-0.03</td>\n",
              "                        <td id=\"T_83bf563e_7855_11ea_b618_0242ac1c0002row1_col7\" class=\"data row1 col7\" >0.84</td>\n",
              "                        <td id=\"T_83bf563e_7855_11ea_b618_0242ac1c0002row1_col8\" class=\"data row1 col8\" >0.41</td>\n",
              "                        <td id=\"T_83bf563e_7855_11ea_b618_0242ac1c0002row1_col9\" class=\"data row1 col9\" >-0.29</td>\n",
              "                        <td id=\"T_83bf563e_7855_11ea_b618_0242ac1c0002row1_col10\" class=\"data row1 col10\" >0.20</td>\n",
              "                        <td id=\"T_83bf563e_7855_11ea_b618_0242ac1c0002row1_col11\" class=\"data row1 col11\" >-0.28</td>\n",
              "                        <td id=\"T_83bf563e_7855_11ea_b618_0242ac1c0002row1_col12\" class=\"data row1 col12\" >-0.33</td>\n",
              "                        <td id=\"T_83bf563e_7855_11ea_b618_0242ac1c0002row1_col13\" class=\"data row1 col13\" >-0.00</td>\n",
              "            </tr>\n",
              "            <tr>\n",
              "                        <th id=\"T_83bf563e_7855_11ea_b618_0242ac1c0002level0_row2\" class=\"row_heading level0 row2\" >count2</th>\n",
              "                        <td id=\"T_83bf563e_7855_11ea_b618_0242ac1c0002row2_col0\" class=\"data row2 col0\" >-0.13</td>\n",
              "                        <td id=\"T_83bf563e_7855_11ea_b618_0242ac1c0002row2_col1\" class=\"data row2 col1\" >0.52</td>\n",
              "                        <td id=\"T_83bf563e_7855_11ea_b618_0242ac1c0002row2_col2\" class=\"data row2 col2\" >1.00</td>\n",
              "                        <td id=\"T_83bf563e_7855_11ea_b618_0242ac1c0002row2_col3\" class=\"data row2 col3\" >0.51</td>\n",
              "                        <td id=\"T_83bf563e_7855_11ea_b618_0242ac1c0002row2_col4\" class=\"data row2 col4\" >0.94</td>\n",
              "                        <td id=\"T_83bf563e_7855_11ea_b618_0242ac1c0002row2_col5\" class=\"data row2 col5\" >-0.01</td>\n",
              "                        <td id=\"T_83bf563e_7855_11ea_b618_0242ac1c0002row2_col6\" class=\"data row2 col6\" >-0.11</td>\n",
              "                        <td id=\"T_83bf563e_7855_11ea_b618_0242ac1c0002row2_col7\" class=\"data row2 col7\" >0.41</td>\n",
              "                        <td id=\"T_83bf563e_7855_11ea_b618_0242ac1c0002row2_col8\" class=\"data row2 col8\" >0.85</td>\n",
              "                        <td id=\"T_83bf563e_7855_11ea_b618_0242ac1c0002row2_col9\" class=\"data row2 col9\" >-0.29</td>\n",
              "                        <td id=\"T_83bf563e_7855_11ea_b618_0242ac1c0002row2_col10\" class=\"data row2 col10\" >0.20</td>\n",
              "                        <td id=\"T_83bf563e_7855_11ea_b618_0242ac1c0002row2_col11\" class=\"data row2 col11\" >-0.28</td>\n",
              "                        <td id=\"T_83bf563e_7855_11ea_b618_0242ac1c0002row2_col12\" class=\"data row2 col12\" >-0.34</td>\n",
              "                        <td id=\"T_83bf563e_7855_11ea_b618_0242ac1c0002row2_col13\" class=\"data row2 col13\" >-0.00</td>\n",
              "            </tr>\n",
              "            <tr>\n",
              "                        <th id=\"T_83bf563e_7855_11ea_b618_0242ac1c0002level0_row3\" class=\"row_heading level0 row3\" >char_count1</th>\n",
              "                        <td id=\"T_83bf563e_7855_11ea_b618_0242ac1c0002row3_col0\" class=\"data row3 col0\" >-0.16</td>\n",
              "                        <td id=\"T_83bf563e_7855_11ea_b618_0242ac1c0002row3_col1\" class=\"data row3 col1\" >0.94</td>\n",
              "                        <td id=\"T_83bf563e_7855_11ea_b618_0242ac1c0002row3_col2\" class=\"data row3 col2\" >0.51</td>\n",
              "                        <td id=\"T_83bf563e_7855_11ea_b618_0242ac1c0002row3_col3\" class=\"data row3 col3\" >1.00</td>\n",
              "                        <td id=\"T_83bf563e_7855_11ea_b618_0242ac1c0002row3_col4\" class=\"data row3 col4\" >0.55</td>\n",
              "                        <td id=\"T_83bf563e_7855_11ea_b618_0242ac1c0002row3_col5\" class=\"data row3 col5\" >0.19</td>\n",
              "                        <td id=\"T_83bf563e_7855_11ea_b618_0242ac1c0002row3_col6\" class=\"data row3 col6\" >0.13</td>\n",
              "                        <td id=\"T_83bf563e_7855_11ea_b618_0242ac1c0002row3_col7\" class=\"data row3 col7\" >0.76</td>\n",
              "                        <td id=\"T_83bf563e_7855_11ea_b618_0242ac1c0002row3_col8\" class=\"data row3 col8\" >0.39</td>\n",
              "                        <td id=\"T_83bf563e_7855_11ea_b618_0242ac1c0002row3_col9\" class=\"data row3 col9\" >-0.30</td>\n",
              "                        <td id=\"T_83bf563e_7855_11ea_b618_0242ac1c0002row3_col10\" class=\"data row3 col10\" >0.19</td>\n",
              "                        <td id=\"T_83bf563e_7855_11ea_b618_0242ac1c0002row3_col11\" class=\"data row3 col11\" >-0.29</td>\n",
              "                        <td id=\"T_83bf563e_7855_11ea_b618_0242ac1c0002row3_col12\" class=\"data row3 col12\" >-0.23</td>\n",
              "                        <td id=\"T_83bf563e_7855_11ea_b618_0242ac1c0002row3_col13\" class=\"data row3 col13\" >-0.00</td>\n",
              "            </tr>\n",
              "            <tr>\n",
              "                        <th id=\"T_83bf563e_7855_11ea_b618_0242ac1c0002level0_row4\" class=\"row_heading level0 row4\" >char_count2</th>\n",
              "                        <td id=\"T_83bf563e_7855_11ea_b618_0242ac1c0002row4_col0\" class=\"data row4 col0\" >-0.13</td>\n",
              "                        <td id=\"T_83bf563e_7855_11ea_b618_0242ac1c0002row4_col1\" class=\"data row4 col1\" >0.50</td>\n",
              "                        <td id=\"T_83bf563e_7855_11ea_b618_0242ac1c0002row4_col2\" class=\"data row4 col2\" >0.94</td>\n",
              "                        <td id=\"T_83bf563e_7855_11ea_b618_0242ac1c0002row4_col3\" class=\"data row4 col3\" >0.55</td>\n",
              "                        <td id=\"T_83bf563e_7855_11ea_b618_0242ac1c0002row4_col4\" class=\"data row4 col4\" >1.00</td>\n",
              "                        <td id=\"T_83bf563e_7855_11ea_b618_0242ac1c0002row4_col5\" class=\"data row4 col5\" >0.14</td>\n",
              "                        <td id=\"T_83bf563e_7855_11ea_b618_0242ac1c0002row4_col6\" class=\"data row4 col6\" >0.17</td>\n",
              "                        <td id=\"T_83bf563e_7855_11ea_b618_0242ac1c0002row4_col7\" class=\"data row4 col7\" >0.39</td>\n",
              "                        <td id=\"T_83bf563e_7855_11ea_b618_0242ac1c0002row4_col8\" class=\"data row4 col8\" >0.78</td>\n",
              "                        <td id=\"T_83bf563e_7855_11ea_b618_0242ac1c0002row4_col9\" class=\"data row4 col9\" >-0.27</td>\n",
              "                        <td id=\"T_83bf563e_7855_11ea_b618_0242ac1c0002row4_col10\" class=\"data row4 col10\" >0.17</td>\n",
              "                        <td id=\"T_83bf563e_7855_11ea_b618_0242ac1c0002row4_col11\" class=\"data row4 col11\" >-0.28</td>\n",
              "                        <td id=\"T_83bf563e_7855_11ea_b618_0242ac1c0002row4_col12\" class=\"data row4 col12\" >-0.26</td>\n",
              "                        <td id=\"T_83bf563e_7855_11ea_b618_0242ac1c0002row4_col13\" class=\"data row4 col13\" >-0.00</td>\n",
              "            </tr>\n",
              "            <tr>\n",
              "                        <th id=\"T_83bf563e_7855_11ea_b618_0242ac1c0002level0_row5\" class=\"row_heading level0 row5\" >avg_word_len1</th>\n",
              "                        <td id=\"T_83bf563e_7855_11ea_b618_0242ac1c0002row5_col0\" class=\"data row5 col0\" >-0.07</td>\n",
              "                        <td id=\"T_83bf563e_7855_11ea_b618_0242ac1c0002row5_col1\" class=\"data row5 col1\" >-0.10</td>\n",
              "                        <td id=\"T_83bf563e_7855_11ea_b618_0242ac1c0002row5_col2\" class=\"data row5 col2\" >-0.01</td>\n",
              "                        <td id=\"T_83bf563e_7855_11ea_b618_0242ac1c0002row5_col3\" class=\"data row5 col3\" >0.19</td>\n",
              "                        <td id=\"T_83bf563e_7855_11ea_b618_0242ac1c0002row5_col4\" class=\"data row5 col4\" >0.14</td>\n",
              "                        <td id=\"T_83bf563e_7855_11ea_b618_0242ac1c0002row5_col5\" class=\"data row5 col5\" >1.00</td>\n",
              "                        <td id=\"T_83bf563e_7855_11ea_b618_0242ac1c0002row5_col6\" class=\"data row5 col6\" >0.46</td>\n",
              "                        <td id=\"T_83bf563e_7855_11ea_b618_0242ac1c0002row5_col7\" class=\"data row5 col7\" >-0.18</td>\n",
              "                        <td id=\"T_83bf563e_7855_11ea_b618_0242ac1c0002row5_col8\" class=\"data row5 col8\" >-0.03</td>\n",
              "                        <td id=\"T_83bf563e_7855_11ea_b618_0242ac1c0002row5_col9\" class=\"data row5 col9\" >-0.01</td>\n",
              "                        <td id=\"T_83bf563e_7855_11ea_b618_0242ac1c0002row5_col10\" class=\"data row5 col10\" >-0.03</td>\n",
              "                        <td id=\"T_83bf563e_7855_11ea_b618_0242ac1c0002row5_col11\" class=\"data row5 col11\" >-0.02</td>\n",
              "                        <td id=\"T_83bf563e_7855_11ea_b618_0242ac1c0002row5_col12\" class=\"data row5 col12\" >0.24</td>\n",
              "                        <td id=\"T_83bf563e_7855_11ea_b618_0242ac1c0002row5_col13\" class=\"data row5 col13\" >-0.00</td>\n",
              "            </tr>\n",
              "            <tr>\n",
              "                        <th id=\"T_83bf563e_7855_11ea_b618_0242ac1c0002level0_row6\" class=\"row_heading level0 row6\" >avg_word_len2</th>\n",
              "                        <td id=\"T_83bf563e_7855_11ea_b618_0242ac1c0002row6_col0\" class=\"data row6 col0\" >-0.01</td>\n",
              "                        <td id=\"T_83bf563e_7855_11ea_b618_0242ac1c0002row6_col1\" class=\"data row6 col1\" >-0.03</td>\n",
              "                        <td id=\"T_83bf563e_7855_11ea_b618_0242ac1c0002row6_col2\" class=\"data row6 col2\" >-0.11</td>\n",
              "                        <td id=\"T_83bf563e_7855_11ea_b618_0242ac1c0002row6_col3\" class=\"data row6 col3\" >0.13</td>\n",
              "                        <td id=\"T_83bf563e_7855_11ea_b618_0242ac1c0002row6_col4\" class=\"data row6 col4\" >0.17</td>\n",
              "                        <td id=\"T_83bf563e_7855_11ea_b618_0242ac1c0002row6_col5\" class=\"data row6 col5\" >0.46</td>\n",
              "                        <td id=\"T_83bf563e_7855_11ea_b618_0242ac1c0002row6_col6\" class=\"data row6 col6\" >1.00</td>\n",
              "                        <td id=\"T_83bf563e_7855_11ea_b618_0242ac1c0002row6_col7\" class=\"data row6 col7\" >-0.05</td>\n",
              "                        <td id=\"T_83bf563e_7855_11ea_b618_0242ac1c0002row6_col8\" class=\"data row6 col8\" >-0.18</td>\n",
              "                        <td id=\"T_83bf563e_7855_11ea_b618_0242ac1c0002row6_col9\" class=\"data row6 col9\" >0.05</td>\n",
              "                        <td id=\"T_83bf563e_7855_11ea_b618_0242ac1c0002row6_col10\" class=\"data row6 col10\" >-0.09</td>\n",
              "                        <td id=\"T_83bf563e_7855_11ea_b618_0242ac1c0002row6_col11\" class=\"data row6 col11\" >0.02</td>\n",
              "                        <td id=\"T_83bf563e_7855_11ea_b618_0242ac1c0002row6_col12\" class=\"data row6 col12\" >0.23</td>\n",
              "                        <td id=\"T_83bf563e_7855_11ea_b618_0242ac1c0002row6_col13\" class=\"data row6 col13\" >0.00</td>\n",
              "            </tr>\n",
              "            <tr>\n",
              "                        <th id=\"T_83bf563e_7855_11ea_b618_0242ac1c0002level0_row7\" class=\"row_heading level0 row7\" >stopwords_count1</th>\n",
              "                        <td id=\"T_83bf563e_7855_11ea_b618_0242ac1c0002row7_col0\" class=\"data row7 col0\" >-0.11</td>\n",
              "                        <td id=\"T_83bf563e_7855_11ea_b618_0242ac1c0002row7_col1\" class=\"data row7 col1\" >0.84</td>\n",
              "                        <td id=\"T_83bf563e_7855_11ea_b618_0242ac1c0002row7_col2\" class=\"data row7 col2\" >0.41</td>\n",
              "                        <td id=\"T_83bf563e_7855_11ea_b618_0242ac1c0002row7_col3\" class=\"data row7 col3\" >0.76</td>\n",
              "                        <td id=\"T_83bf563e_7855_11ea_b618_0242ac1c0002row7_col4\" class=\"data row7 col4\" >0.39</td>\n",
              "                        <td id=\"T_83bf563e_7855_11ea_b618_0242ac1c0002row7_col5\" class=\"data row7 col5\" >-0.18</td>\n",
              "                        <td id=\"T_83bf563e_7855_11ea_b618_0242ac1c0002row7_col6\" class=\"data row7 col6\" >-0.05</td>\n",
              "                        <td id=\"T_83bf563e_7855_11ea_b618_0242ac1c0002row7_col7\" class=\"data row7 col7\" >1.00</td>\n",
              "                        <td id=\"T_83bf563e_7855_11ea_b618_0242ac1c0002row7_col8\" class=\"data row7 col8\" >0.43</td>\n",
              "                        <td id=\"T_83bf563e_7855_11ea_b618_0242ac1c0002row7_col9\" class=\"data row7 col9\" >-0.19</td>\n",
              "                        <td id=\"T_83bf563e_7855_11ea_b618_0242ac1c0002row7_col10\" class=\"data row7 col10\" >0.09</td>\n",
              "                        <td id=\"T_83bf563e_7855_11ea_b618_0242ac1c0002row7_col11\" class=\"data row7 col11\" >-0.19</td>\n",
              "                        <td id=\"T_83bf563e_7855_11ea_b618_0242ac1c0002row7_col12\" class=\"data row7 col12\" >-0.38</td>\n",
              "                        <td id=\"T_83bf563e_7855_11ea_b618_0242ac1c0002row7_col13\" class=\"data row7 col13\" >-0.00</td>\n",
              "            </tr>\n",
              "            <tr>\n",
              "                        <th id=\"T_83bf563e_7855_11ea_b618_0242ac1c0002level0_row8\" class=\"row_heading level0 row8\" >stopwords_count2</th>\n",
              "                        <td id=\"T_83bf563e_7855_11ea_b618_0242ac1c0002row8_col0\" class=\"data row8 col0\" >-0.11</td>\n",
              "                        <td id=\"T_83bf563e_7855_11ea_b618_0242ac1c0002row8_col1\" class=\"data row8 col1\" >0.41</td>\n",
              "                        <td id=\"T_83bf563e_7855_11ea_b618_0242ac1c0002row8_col2\" class=\"data row8 col2\" >0.85</td>\n",
              "                        <td id=\"T_83bf563e_7855_11ea_b618_0242ac1c0002row8_col3\" class=\"data row8 col3\" >0.39</td>\n",
              "                        <td id=\"T_83bf563e_7855_11ea_b618_0242ac1c0002row8_col4\" class=\"data row8 col4\" >0.78</td>\n",
              "                        <td id=\"T_83bf563e_7855_11ea_b618_0242ac1c0002row8_col5\" class=\"data row8 col5\" >-0.03</td>\n",
              "                        <td id=\"T_83bf563e_7855_11ea_b618_0242ac1c0002row8_col6\" class=\"data row8 col6\" >-0.18</td>\n",
              "                        <td id=\"T_83bf563e_7855_11ea_b618_0242ac1c0002row8_col7\" class=\"data row8 col7\" >0.43</td>\n",
              "                        <td id=\"T_83bf563e_7855_11ea_b618_0242ac1c0002row8_col8\" class=\"data row8 col8\" >1.00</td>\n",
              "                        <td id=\"T_83bf563e_7855_11ea_b618_0242ac1c0002row8_col9\" class=\"data row8 col9\" >-0.19</td>\n",
              "                        <td id=\"T_83bf563e_7855_11ea_b618_0242ac1c0002row8_col10\" class=\"data row8 col10\" >0.09</td>\n",
              "                        <td id=\"T_83bf563e_7855_11ea_b618_0242ac1c0002row8_col11\" class=\"data row8 col11\" >-0.20</td>\n",
              "                        <td id=\"T_83bf563e_7855_11ea_b618_0242ac1c0002row8_col12\" class=\"data row8 col12\" >-0.40</td>\n",
              "                        <td id=\"T_83bf563e_7855_11ea_b618_0242ac1c0002row8_col13\" class=\"data row8 col13\" >-0.00</td>\n",
              "            </tr>\n",
              "            <tr>\n",
              "                        <th id=\"T_83bf563e_7855_11ea_b618_0242ac1c0002level0_row9\" class=\"row_heading level0 row9\" >common_words</th>\n",
              "                        <td id=\"T_83bf563e_7855_11ea_b618_0242ac1c0002row9_col0\" class=\"data row9 col0\" >0.38</td>\n",
              "                        <td id=\"T_83bf563e_7855_11ea_b618_0242ac1c0002row9_col1\" class=\"data row9 col1\" >-0.29</td>\n",
              "                        <td id=\"T_83bf563e_7855_11ea_b618_0242ac1c0002row9_col2\" class=\"data row9 col2\" >-0.29</td>\n",
              "                        <td id=\"T_83bf563e_7855_11ea_b618_0242ac1c0002row9_col3\" class=\"data row9 col3\" >-0.30</td>\n",
              "                        <td id=\"T_83bf563e_7855_11ea_b618_0242ac1c0002row9_col4\" class=\"data row9 col4\" >-0.27</td>\n",
              "                        <td id=\"T_83bf563e_7855_11ea_b618_0242ac1c0002row9_col5\" class=\"data row9 col5\" >-0.01</td>\n",
              "                        <td id=\"T_83bf563e_7855_11ea_b618_0242ac1c0002row9_col6\" class=\"data row9 col6\" >0.05</td>\n",
              "                        <td id=\"T_83bf563e_7855_11ea_b618_0242ac1c0002row9_col7\" class=\"data row9 col7\" >-0.19</td>\n",
              "                        <td id=\"T_83bf563e_7855_11ea_b618_0242ac1c0002row9_col8\" class=\"data row9 col8\" >-0.19</td>\n",
              "                        <td id=\"T_83bf563e_7855_11ea_b618_0242ac1c0002row9_col9\" class=\"data row9 col9\" >1.00</td>\n",
              "                        <td id=\"T_83bf563e_7855_11ea_b618_0242ac1c0002row9_col10\" class=\"data row9 col10\" >-0.77</td>\n",
              "                        <td id=\"T_83bf563e_7855_11ea_b618_0242ac1c0002row9_col11\" class=\"data row9 col11\" >0.70</td>\n",
              "                        <td id=\"T_83bf563e_7855_11ea_b618_0242ac1c0002row9_col12\" class=\"data row9 col12\" >-0.23</td>\n",
              "                        <td id=\"T_83bf563e_7855_11ea_b618_0242ac1c0002row9_col13\" class=\"data row9 col13\" >0.00</td>\n",
              "            </tr>\n",
              "            <tr>\n",
              "                        <th id=\"T_83bf563e_7855_11ea_b618_0242ac1c0002level0_row10\" class=\"row_heading level0 row10\" >unique_word_cnt</th>\n",
              "                        <td id=\"T_83bf563e_7855_11ea_b618_0242ac1c0002row10_col0\" class=\"data row10 col0\" >-0.35</td>\n",
              "                        <td id=\"T_83bf563e_7855_11ea_b618_0242ac1c0002row10_col1\" class=\"data row10 col1\" >0.20</td>\n",
              "                        <td id=\"T_83bf563e_7855_11ea_b618_0242ac1c0002row10_col2\" class=\"data row10 col2\" >0.20</td>\n",
              "                        <td id=\"T_83bf563e_7855_11ea_b618_0242ac1c0002row10_col3\" class=\"data row10 col3\" >0.19</td>\n",
              "                        <td id=\"T_83bf563e_7855_11ea_b618_0242ac1c0002row10_col4\" class=\"data row10 col4\" >0.17</td>\n",
              "                        <td id=\"T_83bf563e_7855_11ea_b618_0242ac1c0002row10_col5\" class=\"data row10 col5\" >-0.03</td>\n",
              "                        <td id=\"T_83bf563e_7855_11ea_b618_0242ac1c0002row10_col6\" class=\"data row10 col6\" >-0.09</td>\n",
              "                        <td id=\"T_83bf563e_7855_11ea_b618_0242ac1c0002row10_col7\" class=\"data row10 col7\" >0.09</td>\n",
              "                        <td id=\"T_83bf563e_7855_11ea_b618_0242ac1c0002row10_col8\" class=\"data row10 col8\" >0.09</td>\n",
              "                        <td id=\"T_83bf563e_7855_11ea_b618_0242ac1c0002row10_col9\" class=\"data row10 col9\" >-0.77</td>\n",
              "                        <td id=\"T_83bf563e_7855_11ea_b618_0242ac1c0002row10_col10\" class=\"data row10 col10\" >1.00</td>\n",
              "                        <td id=\"T_83bf563e_7855_11ea_b618_0242ac1c0002row10_col11\" class=\"data row10 col11\" >-0.56</td>\n",
              "                        <td id=\"T_83bf563e_7855_11ea_b618_0242ac1c0002row10_col12\" class=\"data row10 col12\" >0.23</td>\n",
              "                        <td id=\"T_83bf563e_7855_11ea_b618_0242ac1c0002row10_col13\" class=\"data row10 col13\" >-0.00</td>\n",
              "            </tr>\n",
              "            <tr>\n",
              "                        <th id=\"T_83bf563e_7855_11ea_b618_0242ac1c0002level0_row11\" class=\"row_heading level0 row11\" >cosine_sim_tfidf</th>\n",
              "                        <td id=\"T_83bf563e_7855_11ea_b618_0242ac1c0002row11_col0\" class=\"data row11 col0\" >0.25</td>\n",
              "                        <td id=\"T_83bf563e_7855_11ea_b618_0242ac1c0002row11_col1\" class=\"data row11 col1\" >-0.28</td>\n",
              "                        <td id=\"T_83bf563e_7855_11ea_b618_0242ac1c0002row11_col2\" class=\"data row11 col2\" >-0.28</td>\n",
              "                        <td id=\"T_83bf563e_7855_11ea_b618_0242ac1c0002row11_col3\" class=\"data row11 col3\" >-0.29</td>\n",
              "                        <td id=\"T_83bf563e_7855_11ea_b618_0242ac1c0002row11_col4\" class=\"data row11 col4\" >-0.28</td>\n",
              "                        <td id=\"T_83bf563e_7855_11ea_b618_0242ac1c0002row11_col5\" class=\"data row11 col5\" >-0.02</td>\n",
              "                        <td id=\"T_83bf563e_7855_11ea_b618_0242ac1c0002row11_col6\" class=\"data row11 col6\" >0.02</td>\n",
              "                        <td id=\"T_83bf563e_7855_11ea_b618_0242ac1c0002row11_col7\" class=\"data row11 col7\" >-0.19</td>\n",
              "                        <td id=\"T_83bf563e_7855_11ea_b618_0242ac1c0002row11_col8\" class=\"data row11 col8\" >-0.20</td>\n",
              "                        <td id=\"T_83bf563e_7855_11ea_b618_0242ac1c0002row11_col9\" class=\"data row11 col9\" >0.70</td>\n",
              "                        <td id=\"T_83bf563e_7855_11ea_b618_0242ac1c0002row11_col10\" class=\"data row11 col10\" >-0.56</td>\n",
              "                        <td id=\"T_83bf563e_7855_11ea_b618_0242ac1c0002row11_col11\" class=\"data row11 col11\" >1.00</td>\n",
              "                        <td id=\"T_83bf563e_7855_11ea_b618_0242ac1c0002row11_col12\" class=\"data row11 col12\" >-0.11</td>\n",
              "                        <td id=\"T_83bf563e_7855_11ea_b618_0242ac1c0002row11_col13\" class=\"data row11 col13\" >0.00</td>\n",
              "            </tr>\n",
              "            <tr>\n",
              "                        <th id=\"T_83bf563e_7855_11ea_b618_0242ac1c0002level0_row12\" class=\"row_heading level0 row12\" >euc_dist</th>\n",
              "                        <td id=\"T_83bf563e_7855_11ea_b618_0242ac1c0002row12_col0\" class=\"data row12 col0\" >-0.15</td>\n",
              "                        <td id=\"T_83bf563e_7855_11ea_b618_0242ac1c0002row12_col1\" class=\"data row12 col1\" >-0.33</td>\n",
              "                        <td id=\"T_83bf563e_7855_11ea_b618_0242ac1c0002row12_col2\" class=\"data row12 col2\" >-0.34</td>\n",
              "                        <td id=\"T_83bf563e_7855_11ea_b618_0242ac1c0002row12_col3\" class=\"data row12 col3\" >-0.23</td>\n",
              "                        <td id=\"T_83bf563e_7855_11ea_b618_0242ac1c0002row12_col4\" class=\"data row12 col4\" >-0.26</td>\n",
              "                        <td id=\"T_83bf563e_7855_11ea_b618_0242ac1c0002row12_col5\" class=\"data row12 col5\" >0.24</td>\n",
              "                        <td id=\"T_83bf563e_7855_11ea_b618_0242ac1c0002row12_col6\" class=\"data row12 col6\" >0.23</td>\n",
              "                        <td id=\"T_83bf563e_7855_11ea_b618_0242ac1c0002row12_col7\" class=\"data row12 col7\" >-0.38</td>\n",
              "                        <td id=\"T_83bf563e_7855_11ea_b618_0242ac1c0002row12_col8\" class=\"data row12 col8\" >-0.40</td>\n",
              "                        <td id=\"T_83bf563e_7855_11ea_b618_0242ac1c0002row12_col9\" class=\"data row12 col9\" >-0.23</td>\n",
              "                        <td id=\"T_83bf563e_7855_11ea_b618_0242ac1c0002row12_col10\" class=\"data row12 col10\" >0.23</td>\n",
              "                        <td id=\"T_83bf563e_7855_11ea_b618_0242ac1c0002row12_col11\" class=\"data row12 col11\" >-0.11</td>\n",
              "                        <td id=\"T_83bf563e_7855_11ea_b618_0242ac1c0002row12_col12\" class=\"data row12 col12\" >1.00</td>\n",
              "                        <td id=\"T_83bf563e_7855_11ea_b618_0242ac1c0002row12_col13\" class=\"data row12 col13\" >0.00</td>\n",
              "            </tr>\n",
              "            <tr>\n",
              "                        <th id=\"T_83bf563e_7855_11ea_b618_0242ac1c0002level0_row13\" class=\"row_heading level0 row13\" >jac_sim</th>\n",
              "                        <td id=\"T_83bf563e_7855_11ea_b618_0242ac1c0002row13_col0\" class=\"data row13 col0\" >-0.00</td>\n",
              "                        <td id=\"T_83bf563e_7855_11ea_b618_0242ac1c0002row13_col1\" class=\"data row13 col1\" >-0.00</td>\n",
              "                        <td id=\"T_83bf563e_7855_11ea_b618_0242ac1c0002row13_col2\" class=\"data row13 col2\" >-0.00</td>\n",
              "                        <td id=\"T_83bf563e_7855_11ea_b618_0242ac1c0002row13_col3\" class=\"data row13 col3\" >-0.00</td>\n",
              "                        <td id=\"T_83bf563e_7855_11ea_b618_0242ac1c0002row13_col4\" class=\"data row13 col4\" >-0.00</td>\n",
              "                        <td id=\"T_83bf563e_7855_11ea_b618_0242ac1c0002row13_col5\" class=\"data row13 col5\" >-0.00</td>\n",
              "                        <td id=\"T_83bf563e_7855_11ea_b618_0242ac1c0002row13_col6\" class=\"data row13 col6\" >0.00</td>\n",
              "                        <td id=\"T_83bf563e_7855_11ea_b618_0242ac1c0002row13_col7\" class=\"data row13 col7\" >-0.00</td>\n",
              "                        <td id=\"T_83bf563e_7855_11ea_b618_0242ac1c0002row13_col8\" class=\"data row13 col8\" >-0.00</td>\n",
              "                        <td id=\"T_83bf563e_7855_11ea_b618_0242ac1c0002row13_col9\" class=\"data row13 col9\" >0.00</td>\n",
              "                        <td id=\"T_83bf563e_7855_11ea_b618_0242ac1c0002row13_col10\" class=\"data row13 col10\" >-0.00</td>\n",
              "                        <td id=\"T_83bf563e_7855_11ea_b618_0242ac1c0002row13_col11\" class=\"data row13 col11\" >0.00</td>\n",
              "                        <td id=\"T_83bf563e_7855_11ea_b618_0242ac1c0002row13_col12\" class=\"data row13 col12\" >0.00</td>\n",
              "                        <td id=\"T_83bf563e_7855_11ea_b618_0242ac1c0002row13_col13\" class=\"data row13 col13\" >1.00</td>\n",
              "            </tr>\n",
              "    </tbody></table>"
            ],
            "text/plain": [
              "<pandas.io.formats.style.Styler at 0x7f1fe3988908>"
            ]
          },
          "metadata": {
            "tags": []
          },
          "execution_count": 89
        }
      ]
    },
    {
      "cell_type": "markdown",
      "metadata": {
        "id": "XhWbNAQekbS0",
        "colab_type": "text"
      },
      "source": [
        "## Train Test Split"
      ]
    },
    {
      "cell_type": "code",
      "metadata": {
        "id": "KPd3By6wkad9",
        "colab_type": "code",
        "colab": {}
      },
      "source": [
        "#separate the features\n",
        "x = df_features.drop(['label'], axis= 1)\n",
        "\n",
        "#separate the label\n",
        "y = df_features['label']\n",
        "\n",
        "#train test split \n",
        "xtrain, xtest, ytrain, ytest = train_test_split(x, y, test_size=0.3, random_state=1001)"
      ],
      "execution_count": 0,
      "outputs": []
    },
    {
      "cell_type": "code",
      "metadata": {
        "id": "nDPG7kvNibug",
        "colab_type": "code",
        "outputId": "1e1720a6-173e-4e4f-9468-5dc5cb4696f2",
        "colab": {
          "base_uri": "https://localhost:8080/",
          "height": 493
        }
      },
      "source": [
        "df_clean.head()"
      ],
      "execution_count": 91,
      "outputs": [
        {
          "output_type": "execute_result",
          "data": {
            "text/html": [
              "<div>\n",
              "<style scoped>\n",
              "    .dataframe tbody tr th:only-of-type {\n",
              "        vertical-align: middle;\n",
              "    }\n",
              "\n",
              "    .dataframe tbody tr th {\n",
              "        vertical-align: top;\n",
              "    }\n",
              "\n",
              "    .dataframe thead th {\n",
              "        text-align: right;\n",
              "    }\n",
              "</style>\n",
              "<table border=\"1\" class=\"dataframe\">\n",
              "  <thead>\n",
              "    <tr style=\"text-align: right;\">\n",
              "      <th></th>\n",
              "      <th>id</th>\n",
              "      <th>qid1</th>\n",
              "      <th>qid2</th>\n",
              "      <th>question1</th>\n",
              "      <th>question2</th>\n",
              "      <th>label</th>\n",
              "      <th>count1</th>\n",
              "      <th>count2</th>\n",
              "      <th>char_count1</th>\n",
              "      <th>char_count2</th>\n",
              "      <th>avg_word_len1</th>\n",
              "      <th>avg_word_len2</th>\n",
              "      <th>stopwords_count1</th>\n",
              "      <th>stopwords_count2</th>\n",
              "      <th>common_words</th>\n",
              "      <th>unique_word_cnt</th>\n",
              "      <th>cosine_sim_tfidf</th>\n",
              "      <th>euc_dist</th>\n",
              "      <th>jac_sim</th>\n",
              "    </tr>\n",
              "  </thead>\n",
              "  <tbody>\n",
              "    <tr>\n",
              "      <th>0</th>\n",
              "      <td>0</td>\n",
              "      <td>1</td>\n",
              "      <td>2</td>\n",
              "      <td>step step guid invest share market india</td>\n",
              "      <td>step step guid invest share market</td>\n",
              "      <td>0</td>\n",
              "      <td>14</td>\n",
              "      <td>12</td>\n",
              "      <td>66</td>\n",
              "      <td>57</td>\n",
              "      <td>4</td>\n",
              "      <td>4</td>\n",
              "      <td>6</td>\n",
              "      <td>5</td>\n",
              "      <td>0.926829268292683</td>\n",
              "      <td>0</td>\n",
              "      <td>0.923270</td>\n",
              "      <td>1.296260</td>\n",
              "      <td>0.0</td>\n",
              "    </tr>\n",
              "    <tr>\n",
              "      <th>1</th>\n",
              "      <td>1</td>\n",
              "      <td>3</td>\n",
              "      <td>4</td>\n",
              "      <td>stori kohinoor kohnoor diamond</td>\n",
              "      <td>happen indian govern stole kohinoor kohnoor diamond back</td>\n",
              "      <td>0</td>\n",
              "      <td>8</td>\n",
              "      <td>13</td>\n",
              "      <td>51</td>\n",
              "      <td>88</td>\n",
              "      <td>6</td>\n",
              "      <td>6</td>\n",
              "      <td>3</td>\n",
              "      <td>4</td>\n",
              "      <td>0.6474820143884892</td>\n",
              "      <td>12</td>\n",
              "      <td>0.544641</td>\n",
              "      <td>1.518592</td>\n",
              "      <td>0.0</td>\n",
              "    </tr>\n",
              "    <tr>\n",
              "      <th>2</th>\n",
              "      <td>2</td>\n",
              "      <td>5</td>\n",
              "      <td>6</td>\n",
              "      <td>increas speed internet connect use vpn</td>\n",
              "      <td>internet speed increas hack dns</td>\n",
              "      <td>0</td>\n",
              "      <td>14</td>\n",
              "      <td>10</td>\n",
              "      <td>73</td>\n",
              "      <td>59</td>\n",
              "      <td>4</td>\n",
              "      <td>5</td>\n",
              "      <td>5</td>\n",
              "      <td>3</td>\n",
              "      <td>0.45454545454545453</td>\n",
              "      <td>9</td>\n",
              "      <td>0.193333</td>\n",
              "      <td>1.673904</td>\n",
              "      <td>0.0</td>\n",
              "    </tr>\n",
              "    <tr>\n",
              "      <th>3</th>\n",
              "      <td>3</td>\n",
              "      <td>7</td>\n",
              "      <td>8</td>\n",
              "      <td>mental lone solv</td>\n",
              "      <td>find remaind mathmath divid</td>\n",
              "      <td>0</td>\n",
              "      <td>11</td>\n",
              "      <td>9</td>\n",
              "      <td>50</td>\n",
              "      <td>65</td>\n",
              "      <td>4</td>\n",
              "      <td>6</td>\n",
              "      <td>2</td>\n",
              "      <td>4</td>\n",
              "      <td>0.06956521739130435</td>\n",
              "      <td>19</td>\n",
              "      <td>0.000000</td>\n",
              "      <td>2.769658</td>\n",
              "      <td>0.0</td>\n",
              "    </tr>\n",
              "    <tr>\n",
              "      <th>4</th>\n",
              "      <td>4</td>\n",
              "      <td>9</td>\n",
              "      <td>10</td>\n",
              "      <td>one dissolv water quik sugar salt methan carbon oxid</td>\n",
              "      <td>fish surviv salt water</td>\n",
              "      <td>0</td>\n",
              "      <td>13</td>\n",
              "      <td>7</td>\n",
              "      <td>76</td>\n",
              "      <td>39</td>\n",
              "      <td>5</td>\n",
              "      <td>5</td>\n",
              "      <td>2</td>\n",
              "      <td>2</td>\n",
              "      <td>0.3652173913043478</td>\n",
              "      <td>9</td>\n",
              "      <td>0.235319</td>\n",
              "      <td>2.275410</td>\n",
              "      <td>0.0</td>\n",
              "    </tr>\n",
              "  </tbody>\n",
              "</table>\n",
              "</div>"
            ],
            "text/plain": [
              "  id qid1 qid2  ... cosine_sim_tfidf  euc_dist jac_sim\n",
              "0  0    1    2  ...         0.923270  1.296260     0.0\n",
              "1  1    3    4  ...         0.544641  1.518592     0.0\n",
              "2  2    5    6  ...         0.193333  1.673904     0.0\n",
              "3  3    7    8  ...         0.000000  2.769658     0.0\n",
              "4  4    9   10  ...         0.235319  2.275410     0.0\n",
              "\n",
              "[5 rows x 19 columns]"
            ]
          },
          "metadata": {
            "tags": []
          },
          "execution_count": 91
        }
      ]
    },
    {
      "cell_type": "markdown",
      "metadata": {
        "id": "TLLdVeLj4-_I",
        "colab_type": "text"
      },
      "source": [
        "## Modeling"
      ]
    },
    {
      "cell_type": "markdown",
      "metadata": {
        "id": "ZsPxbZXZaH7s",
        "colab_type": "text"
      },
      "source": [
        "##Random Forest"
      ]
    },
    {
      "cell_type": "markdown",
      "metadata": {
        "id": "_EMED335aPhG",
        "colab_type": "text"
      },
      "source": [
        "- no hyperparameter tuning <br />\n",
        "- no imbalane treatment"
      ]
    },
    {
      "cell_type": "code",
      "metadata": {
        "id": "nluO-1UpaKx2",
        "colab_type": "code",
        "colab": {}
      },
      "source": [
        "#Import Random Forest Model\n",
        "from sklearn.ensemble import RandomForestClassifier\n",
        "\n",
        "#Create a Gaussian Classifier\n",
        "clf=RandomForestClassifier(n_estimators=20)\n",
        "\n",
        "#Train the model using the training sets y_pred=clf.predict(X_test)\n",
        "clf.fit(xtrain, ytrain)\n",
        "\n",
        "#prediction \n",
        "y_pred=clf.predict(xtest)"
      ],
      "execution_count": 0,
      "outputs": []
    },
    {
      "cell_type": "code",
      "metadata": {
        "id": "FzC-2u1Oa6oc",
        "colab_type": "code",
        "outputId": "ab75d90f-5896-4d25-c5ee-072212b6dff3",
        "colab": {
          "base_uri": "https://localhost:8080/",
          "height": 34
        }
      },
      "source": [
        "#Import scikit-learn metrics module for accuracy calculation\n",
        "from sklearn import metrics\n",
        "# Model Accuracy\n",
        "print(\"Accuracy:\",metrics.accuracy_score(ytest, y_pred))"
      ],
      "execution_count": 93,
      "outputs": [
        {
          "output_type": "stream",
          "text": [
            "Accuracy: 0.7299522258773743\n"
          ],
          "name": "stdout"
        }
      ]
    },
    {
      "cell_type": "markdown",
      "metadata": {
        "id": "0RvvUq83cmKK",
        "colab_type": "text"
      },
      "source": [
        "##Naive Bayes"
      ]
    },
    {
      "cell_type": "markdown",
      "metadata": {
        "id": "VLZ-Oz_wdhZc",
        "colab_type": "text"
      },
      "source": [
        "- no hyperparameter tuning <br />\n",
        "- no imbalane treatment"
      ]
    },
    {
      "cell_type": "code",
      "metadata": {
        "id": "Oxq38tPAclio",
        "colab_type": "code",
        "colab": {}
      },
      "source": [
        "# import the package\n",
        "from sklearn.naive_bayes import GaussianNB\n",
        "\n",
        "# instantiate the model (using the default parameters)\n",
        "nb = GaussianNB()\n",
        "\n",
        "# fit the model with data\n",
        "nb.fit(xtrain, ytrain)\n",
        "\n",
        "#prediction\n",
        "y_pred=nb.predict(xtest)"
      ],
      "execution_count": 0,
      "outputs": []
    },
    {
      "cell_type": "code",
      "metadata": {
        "id": "zW1bqFORdNfd",
        "colab_type": "code",
        "outputId": "c97f8a56-13e2-4a91-aad8-cd41a2cd58ae",
        "colab": {
          "base_uri": "https://localhost:8080/",
          "height": 51
        }
      },
      "source": [
        "# evaluate the training model with cross validation \n",
        "from sklearn import model_selection\n",
        "from sklearn.model_selection import cross_val_score\n",
        "kfold = model_selection.KFold(n_splits=10)\n",
        "results = cross_val_score(nb , xtrain, ytrain, cv=kfold)\n",
        "results"
      ],
      "execution_count": 95,
      "outputs": [
        {
          "output_type": "execute_result",
          "data": {
            "text/plain": [
              "array([0.64112646, 0.64608572, 0.64686504, 0.64148069, 0.64257882,\n",
              "       0.64364152, 0.64013461, 0.63793836, 0.64155154, 0.64221191])"
            ]
          },
          "metadata": {
            "tags": []
          },
          "execution_count": 95
        }
      ]
    },
    {
      "cell_type": "markdown",
      "metadata": {
        "id": "E5i9IabiUIDF",
        "colab_type": "text"
      },
      "source": [
        "## XGBoost\n"
      ]
    },
    {
      "cell_type": "markdown",
      "metadata": {
        "id": "2_rjl_yddjPO",
        "colab_type": "text"
      },
      "source": [
        "- with hyperparameter tuning <br />\n",
        "- with imbalane treatment"
      ]
    },
    {
      "cell_type": "code",
      "metadata": {
        "id": "BSV6Kdu-Y4e-",
        "colab_type": "code",
        "colab": {}
      },
      "source": [
        "#import xgboost \n",
        "import xgboost as xgb\n",
        "import sklearn.metrics as metrics\n",
        "from sklearn.metrics import classification_report"
      ],
      "execution_count": 0,
      "outputs": []
    },
    {
      "cell_type": "code",
      "metadata": {
        "id": "QVwBx6CqdXjv",
        "colab_type": "code",
        "colab": {}
      },
      "source": [
        "#define the model \n",
        "xgb_model = xgb.XGBClassifier(objective='binary:hinge', learning_rate= 0.1,\n",
        "                max_depth= 5, alpha1 = 0, scale_pos_weight=6)"
      ],
      "execution_count": 0,
      "outputs": []
    },
    {
      "cell_type": "markdown",
      "metadata": {
        "id": "b95vTav0Q2Ah",
        "colab_type": "text"
      },
      "source": [
        "binary:hinge: hinge loss for binary classification. This makes predictions of 0 or 1, rather than producing probabilities.\n"
      ]
    },
    {
      "cell_type": "code",
      "metadata": {
        "id": "PI3NGkB8irGu",
        "colab_type": "code",
        "colab": {}
      },
      "source": [
        "#hyper parameter optimization \n",
        "#this is initial params in order to find the best one \n",
        "params = { 'learning_rate' :[0.1, 0.3, 0.4, 0.5],\n",
        "        'min_child_weight': [1, 5, 10],\n",
        "        'gamma': [1, 1.5, 2, 5],\n",
        "        'subsample': [0.6, 0.8, 1.0], \n",
        "        'colsample_bytree': [0.6, 0.8, 1.0],\n",
        "        'max_depth': [8, 10, 12], \n",
        "        'n_estimators': [50, 100, 150]\n",
        "        }\n"
      ],
      "execution_count": 0,
      "outputs": []
    },
    {
      "cell_type": "code",
      "metadata": {
        "id": "3c__qYbujFuP",
        "colab_type": "code",
        "colab": {}
      },
      "source": [
        "from sklearn.model_selection import RandomizedSearchCV\n",
        "from sklearn.model_selection import StratifiedKFold"
      ],
      "execution_count": 0,
      "outputs": []
    },
    {
      "cell_type": "code",
      "metadata": {
        "id": "jrLhK_Ks1FSA",
        "colab_type": "code",
        "outputId": "bb4fda08-8dda-45d6-9f73-bc9571e15d22",
        "colab": {
          "base_uri": "https://localhost:8080/",
          "height": 221
        }
      },
      "source": [
        "ytrain = ytrain.astype(int)\n",
        "ytrain\n"
      ],
      "execution_count": 100,
      "outputs": [
        {
          "output_type": "execute_result",
          "data": {
            "text/plain": [
              "21716     1\n",
              "245748    0\n",
              "394597    0\n",
              "197850    0\n",
              "74544     0\n",
              "         ..\n",
              "65211     1\n",
              "115278    0\n",
              "210637    0\n",
              "52244     0\n",
              "343748    0\n",
              "Name: label, Length: 282299, dtype: int64"
            ]
          },
          "metadata": {
            "tags": []
          },
          "execution_count": 100
        }
      ]
    },
    {
      "cell_type": "markdown",
      "metadata": {
        "id": "5hG2t4Mu4z99",
        "colab_type": "text"
      },
      "source": [
        "## Hyperparameter Tuning \n",
        "choose the parameter that fit the data the best. <br />\n",
        "Grid search is the process of performing hyper parameter tuning in order to determine the optimal values for a given model."
      ]
    },
    {
      "cell_type": "code",
      "metadata": {
        "id": "f69Yfu8rDjnG",
        "colab_type": "code",
        "colab": {}
      },
      "source": [
        "folds = 10\n",
        "param_comb = 10\n",
        "skf = StratifiedKFold(n_splits=folds, shuffle = True, random_state = 1001)\n",
        "  "
      ],
      "execution_count": 0,
      "outputs": []
    },
    {
      "cell_type": "code",
      "metadata": {
        "id": "qbkbHIK-IrP2",
        "colab_type": "code",
        "outputId": "b45bba22-fe1e-4ed1-efd4-80d366bb42ed",
        "colab": {
          "base_uri": "https://localhost:8080/",
          "height": 391
        }
      },
      "source": [
        "random_search = RandomizedSearchCV(xgb_model, params, n_iter=param_comb, scoring='roc_auc', n_jobs=1, cv=skf.split(xtrain, ytrain), verbose=3, random_state=1001 )\n",
        "random_search\n"
      ],
      "execution_count": 102,
      "outputs": [
        {
          "output_type": "execute_result",
          "data": {
            "text/plain": [
              "RandomizedSearchCV(cv=<generator object _BaseKFold.split at 0x7f1fb1565f10>,\n",
              "                   error_score=nan,\n",
              "                   estimator=XGBClassifier(alpha1=0, base_score=0.5,\n",
              "                                           booster='gbtree',\n",
              "                                           colsample_bylevel=1,\n",
              "                                           colsample_bynode=1,\n",
              "                                           colsample_bytree=1, gamma=0,\n",
              "                                           learning_rate=0.1, max_delta_step=0,\n",
              "                                           max_depth=5, min_child_weight=1,\n",
              "                                           missing=None, n_estimators=100,\n",
              "                                           n_jobs=1, nthread=None,\n",
              "                                           objective='bi...\n",
              "                   iid='deprecated', n_iter=5, n_jobs=1,\n",
              "                   param_distributions={'colsample_bytree': [0.6, 0.8, 1.0],\n",
              "                                        'gamma': [1, 1.5, 2, 5],\n",
              "                                        'learning_rate': [0.1, 0.3, 0.4, 0.5],\n",
              "                                        'max_depth': [8, 10, 12],\n",
              "                                        'min_child_weight': [1, 5, 10],\n",
              "                                        'n_estimators': [50, 100, 150],\n",
              "                                        'subsample': [0.6, 0.8, 1.0]},\n",
              "                   pre_dispatch='2*n_jobs', random_state=1001, refit=True,\n",
              "                   return_train_score=False, scoring='roc_auc', verbose=3)"
            ]
          },
          "metadata": {
            "tags": []
          },
          "execution_count": 102
        }
      ]
    },
    {
      "cell_type": "code",
      "metadata": {
        "id": "vuRwBm8pI4b1",
        "colab_type": "code",
        "outputId": "ef7e479f-02fb-429e-caa4-b039a1e3048d",
        "colab": {
          "base_uri": "https://localhost:8080/",
          "height": 1000
        }
      },
      "source": [
        "#fit the train set \n",
        "random_search.fit(xtrain, ytrain)\n"
      ],
      "execution_count": 103,
      "outputs": [
        {
          "output_type": "stream",
          "text": [
            "Fitting 10 folds for each of 5 candidates, totalling 50 fits\n",
            "[CV] subsample=0.6, n_estimators=50, min_child_weight=5, max_depth=8, learning_rate=0.1, gamma=1.5, colsample_bytree=1.0 \n"
          ],
          "name": "stdout"
        },
        {
          "output_type": "stream",
          "text": [
            "[Parallel(n_jobs=1)]: Using backend SequentialBackend with 1 concurrent workers.\n"
          ],
          "name": "stderr"
        },
        {
          "output_type": "stream",
          "text": [
            "[CV]  subsample=0.6, n_estimators=50, min_child_weight=5, max_depth=8, learning_rate=0.1, gamma=1.5, colsample_bytree=1.0, score=0.720, total=  30.9s\n",
            "[CV] subsample=0.6, n_estimators=50, min_child_weight=5, max_depth=8, learning_rate=0.1, gamma=1.5, colsample_bytree=1.0 \n"
          ],
          "name": "stdout"
        },
        {
          "output_type": "stream",
          "text": [
            "[Parallel(n_jobs=1)]: Done   1 out of   1 | elapsed:   30.9s remaining:    0.0s\n"
          ],
          "name": "stderr"
        },
        {
          "output_type": "stream",
          "text": [
            "[CV]  subsample=0.6, n_estimators=50, min_child_weight=5, max_depth=8, learning_rate=0.1, gamma=1.5, colsample_bytree=1.0, score=0.729, total=  31.6s\n",
            "[CV] subsample=0.6, n_estimators=50, min_child_weight=5, max_depth=8, learning_rate=0.1, gamma=1.5, colsample_bytree=1.0 \n"
          ],
          "name": "stdout"
        },
        {
          "output_type": "stream",
          "text": [
            "[Parallel(n_jobs=1)]: Done   2 out of   2 | elapsed:  1.0min remaining:    0.0s\n"
          ],
          "name": "stderr"
        },
        {
          "output_type": "stream",
          "text": [
            "[CV]  subsample=0.6, n_estimators=50, min_child_weight=5, max_depth=8, learning_rate=0.1, gamma=1.5, colsample_bytree=1.0, score=0.724, total=  30.9s\n",
            "[CV] subsample=0.6, n_estimators=50, min_child_weight=5, max_depth=8, learning_rate=0.1, gamma=1.5, colsample_bytree=1.0 \n",
            "[CV]  subsample=0.6, n_estimators=50, min_child_weight=5, max_depth=8, learning_rate=0.1, gamma=1.5, colsample_bytree=1.0, score=0.724, total=  30.8s\n",
            "[CV] subsample=0.6, n_estimators=50, min_child_weight=5, max_depth=8, learning_rate=0.1, gamma=1.5, colsample_bytree=1.0 \n",
            "[CV]  subsample=0.6, n_estimators=50, min_child_weight=5, max_depth=8, learning_rate=0.1, gamma=1.5, colsample_bytree=1.0, score=0.727, total=  31.0s\n",
            "[CV] subsample=0.6, n_estimators=50, min_child_weight=5, max_depth=8, learning_rate=0.1, gamma=1.5, colsample_bytree=1.0 \n",
            "[CV]  subsample=0.6, n_estimators=50, min_child_weight=5, max_depth=8, learning_rate=0.1, gamma=1.5, colsample_bytree=1.0, score=0.731, total=  30.9s\n",
            "[CV] subsample=0.6, n_estimators=50, min_child_weight=5, max_depth=8, learning_rate=0.1, gamma=1.5, colsample_bytree=1.0 \n",
            "[CV]  subsample=0.6, n_estimators=50, min_child_weight=5, max_depth=8, learning_rate=0.1, gamma=1.5, colsample_bytree=1.0, score=0.727, total=  30.9s\n",
            "[CV] subsample=0.6, n_estimators=50, min_child_weight=5, max_depth=8, learning_rate=0.1, gamma=1.5, colsample_bytree=1.0 \n",
            "[CV]  subsample=0.6, n_estimators=50, min_child_weight=5, max_depth=8, learning_rate=0.1, gamma=1.5, colsample_bytree=1.0, score=0.730, total=  30.9s\n",
            "[CV] subsample=0.6, n_estimators=50, min_child_weight=5, max_depth=8, learning_rate=0.1, gamma=1.5, colsample_bytree=1.0 \n",
            "[CV]  subsample=0.6, n_estimators=50, min_child_weight=5, max_depth=8, learning_rate=0.1, gamma=1.5, colsample_bytree=1.0, score=0.719, total=  31.4s\n",
            "[CV] subsample=0.6, n_estimators=50, min_child_weight=5, max_depth=8, learning_rate=0.1, gamma=1.5, colsample_bytree=1.0 \n",
            "[CV]  subsample=0.6, n_estimators=50, min_child_weight=5, max_depth=8, learning_rate=0.1, gamma=1.5, colsample_bytree=1.0, score=0.727, total=  31.4s\n",
            "[CV] subsample=0.8, n_estimators=50, min_child_weight=5, max_depth=10, learning_rate=0.1, gamma=1.5, colsample_bytree=1.0 \n",
            "[CV]  subsample=0.8, n_estimators=50, min_child_weight=5, max_depth=10, learning_rate=0.1, gamma=1.5, colsample_bytree=1.0, score=0.728, total=  39.3s\n",
            "[CV] subsample=0.8, n_estimators=50, min_child_weight=5, max_depth=10, learning_rate=0.1, gamma=1.5, colsample_bytree=1.0 \n",
            "[CV]  subsample=0.8, n_estimators=50, min_child_weight=5, max_depth=10, learning_rate=0.1, gamma=1.5, colsample_bytree=1.0, score=0.732, total=  38.9s\n",
            "[CV] subsample=0.8, n_estimators=50, min_child_weight=5, max_depth=10, learning_rate=0.1, gamma=1.5, colsample_bytree=1.0 \n",
            "[CV]  subsample=0.8, n_estimators=50, min_child_weight=5, max_depth=10, learning_rate=0.1, gamma=1.5, colsample_bytree=1.0, score=0.727, total=  38.9s\n",
            "[CV] subsample=0.8, n_estimators=50, min_child_weight=5, max_depth=10, learning_rate=0.1, gamma=1.5, colsample_bytree=1.0 \n",
            "[CV]  subsample=0.8, n_estimators=50, min_child_weight=5, max_depth=10, learning_rate=0.1, gamma=1.5, colsample_bytree=1.0, score=0.731, total=  38.8s\n",
            "[CV] subsample=0.8, n_estimators=50, min_child_weight=5, max_depth=10, learning_rate=0.1, gamma=1.5, colsample_bytree=1.0 \n",
            "[CV]  subsample=0.8, n_estimators=50, min_child_weight=5, max_depth=10, learning_rate=0.1, gamma=1.5, colsample_bytree=1.0, score=0.731, total=  38.9s\n",
            "[CV] subsample=0.8, n_estimators=50, min_child_weight=5, max_depth=10, learning_rate=0.1, gamma=1.5, colsample_bytree=1.0 \n",
            "[CV]  subsample=0.8, n_estimators=50, min_child_weight=5, max_depth=10, learning_rate=0.1, gamma=1.5, colsample_bytree=1.0, score=0.735, total=  38.9s\n",
            "[CV] subsample=0.8, n_estimators=50, min_child_weight=5, max_depth=10, learning_rate=0.1, gamma=1.5, colsample_bytree=1.0 \n",
            "[CV]  subsample=0.8, n_estimators=50, min_child_weight=5, max_depth=10, learning_rate=0.1, gamma=1.5, colsample_bytree=1.0, score=0.732, total=  38.8s\n",
            "[CV] subsample=0.8, n_estimators=50, min_child_weight=5, max_depth=10, learning_rate=0.1, gamma=1.5, colsample_bytree=1.0 \n",
            "[CV]  subsample=0.8, n_estimators=50, min_child_weight=5, max_depth=10, learning_rate=0.1, gamma=1.5, colsample_bytree=1.0, score=0.734, total=  38.9s\n",
            "[CV] subsample=0.8, n_estimators=50, min_child_weight=5, max_depth=10, learning_rate=0.1, gamma=1.5, colsample_bytree=1.0 \n",
            "[CV]  subsample=0.8, n_estimators=50, min_child_weight=5, max_depth=10, learning_rate=0.1, gamma=1.5, colsample_bytree=1.0, score=0.725, total=  39.7s\n",
            "[CV] subsample=0.8, n_estimators=50, min_child_weight=5, max_depth=10, learning_rate=0.1, gamma=1.5, colsample_bytree=1.0 \n",
            "[CV]  subsample=0.8, n_estimators=50, min_child_weight=5, max_depth=10, learning_rate=0.1, gamma=1.5, colsample_bytree=1.0, score=0.733, total=  38.8s\n",
            "[CV] subsample=0.8, n_estimators=150, min_child_weight=10, max_depth=12, learning_rate=0.4, gamma=5, colsample_bytree=0.6 \n",
            "[CV]  subsample=0.8, n_estimators=150, min_child_weight=10, max_depth=12, learning_rate=0.4, gamma=5, colsample_bytree=0.6, score=0.718, total= 1.3min\n",
            "[CV] subsample=0.8, n_estimators=150, min_child_weight=10, max_depth=12, learning_rate=0.4, gamma=5, colsample_bytree=0.6 \n",
            "[CV]  subsample=0.8, n_estimators=150, min_child_weight=10, max_depth=12, learning_rate=0.4, gamma=5, colsample_bytree=0.6, score=0.724, total= 1.3min\n",
            "[CV] subsample=0.8, n_estimators=150, min_child_weight=10, max_depth=12, learning_rate=0.4, gamma=5, colsample_bytree=0.6 \n",
            "[CV]  subsample=0.8, n_estimators=150, min_child_weight=10, max_depth=12, learning_rate=0.4, gamma=5, colsample_bytree=0.6, score=0.720, total= 1.3min\n",
            "[CV] subsample=0.8, n_estimators=150, min_child_weight=10, max_depth=12, learning_rate=0.4, gamma=5, colsample_bytree=0.6 \n",
            "[CV]  subsample=0.8, n_estimators=150, min_child_weight=10, max_depth=12, learning_rate=0.4, gamma=5, colsample_bytree=0.6, score=0.723, total= 1.3min\n",
            "[CV] subsample=0.8, n_estimators=150, min_child_weight=10, max_depth=12, learning_rate=0.4, gamma=5, colsample_bytree=0.6 \n",
            "[CV]  subsample=0.8, n_estimators=150, min_child_weight=10, max_depth=12, learning_rate=0.4, gamma=5, colsample_bytree=0.6, score=0.721, total= 1.3min\n",
            "[CV] subsample=0.8, n_estimators=150, min_child_weight=10, max_depth=12, learning_rate=0.4, gamma=5, colsample_bytree=0.6 \n",
            "[CV]  subsample=0.8, n_estimators=150, min_child_weight=10, max_depth=12, learning_rate=0.4, gamma=5, colsample_bytree=0.6, score=0.726, total= 1.3min\n",
            "[CV] subsample=0.8, n_estimators=150, min_child_weight=10, max_depth=12, learning_rate=0.4, gamma=5, colsample_bytree=0.6 \n",
            "[CV]  subsample=0.8, n_estimators=150, min_child_weight=10, max_depth=12, learning_rate=0.4, gamma=5, colsample_bytree=0.6, score=0.723, total= 1.3min\n",
            "[CV] subsample=0.8, n_estimators=150, min_child_weight=10, max_depth=12, learning_rate=0.4, gamma=5, colsample_bytree=0.6 \n",
            "[CV]  subsample=0.8, n_estimators=150, min_child_weight=10, max_depth=12, learning_rate=0.4, gamma=5, colsample_bytree=0.6, score=0.720, total= 1.3min\n",
            "[CV] subsample=0.8, n_estimators=150, min_child_weight=10, max_depth=12, learning_rate=0.4, gamma=5, colsample_bytree=0.6 \n",
            "[CV]  subsample=0.8, n_estimators=150, min_child_weight=10, max_depth=12, learning_rate=0.4, gamma=5, colsample_bytree=0.6, score=0.718, total= 1.3min\n",
            "[CV] subsample=0.8, n_estimators=150, min_child_weight=10, max_depth=12, learning_rate=0.4, gamma=5, colsample_bytree=0.6 \n",
            "[CV]  subsample=0.8, n_estimators=150, min_child_weight=10, max_depth=12, learning_rate=0.4, gamma=5, colsample_bytree=0.6, score=0.720, total= 1.3min\n",
            "[CV] subsample=0.8, n_estimators=150, min_child_weight=5, max_depth=10, learning_rate=0.5, gamma=1, colsample_bytree=0.6 \n",
            "[CV]  subsample=0.8, n_estimators=150, min_child_weight=5, max_depth=10, learning_rate=0.5, gamma=1, colsample_bytree=0.6, score=0.714, total= 1.1min\n",
            "[CV] subsample=0.8, n_estimators=150, min_child_weight=5, max_depth=10, learning_rate=0.5, gamma=1, colsample_bytree=0.6 \n",
            "[CV]  subsample=0.8, n_estimators=150, min_child_weight=5, max_depth=10, learning_rate=0.5, gamma=1, colsample_bytree=0.6, score=0.716, total= 1.1min\n",
            "[CV] subsample=0.8, n_estimators=150, min_child_weight=5, max_depth=10, learning_rate=0.5, gamma=1, colsample_bytree=0.6 \n",
            "[CV]  subsample=0.8, n_estimators=150, min_child_weight=5, max_depth=10, learning_rate=0.5, gamma=1, colsample_bytree=0.6, score=0.714, total= 1.1min\n",
            "[CV] subsample=0.8, n_estimators=150, min_child_weight=5, max_depth=10, learning_rate=0.5, gamma=1, colsample_bytree=0.6 \n",
            "[CV]  subsample=0.8, n_estimators=150, min_child_weight=5, max_depth=10, learning_rate=0.5, gamma=1, colsample_bytree=0.6, score=0.719, total= 1.0min\n",
            "[CV] subsample=0.8, n_estimators=150, min_child_weight=5, max_depth=10, learning_rate=0.5, gamma=1, colsample_bytree=0.6 \n",
            "[CV]  subsample=0.8, n_estimators=150, min_child_weight=5, max_depth=10, learning_rate=0.5, gamma=1, colsample_bytree=0.6, score=0.722, total= 1.1min\n",
            "[CV] subsample=0.8, n_estimators=150, min_child_weight=5, max_depth=10, learning_rate=0.5, gamma=1, colsample_bytree=0.6 \n",
            "[CV]  subsample=0.8, n_estimators=150, min_child_weight=5, max_depth=10, learning_rate=0.5, gamma=1, colsample_bytree=0.6, score=0.721, total= 1.1min\n",
            "[CV] subsample=0.8, n_estimators=150, min_child_weight=5, max_depth=10, learning_rate=0.5, gamma=1, colsample_bytree=0.6 \n",
            "[CV]  subsample=0.8, n_estimators=150, min_child_weight=5, max_depth=10, learning_rate=0.5, gamma=1, colsample_bytree=0.6, score=0.718, total= 1.1min\n",
            "[CV] subsample=0.8, n_estimators=150, min_child_weight=5, max_depth=10, learning_rate=0.5, gamma=1, colsample_bytree=0.6 \n",
            "[CV]  subsample=0.8, n_estimators=150, min_child_weight=5, max_depth=10, learning_rate=0.5, gamma=1, colsample_bytree=0.6, score=0.721, total= 1.1min\n",
            "[CV] subsample=0.8, n_estimators=150, min_child_weight=5, max_depth=10, learning_rate=0.5, gamma=1, colsample_bytree=0.6 \n",
            "[CV]  subsample=0.8, n_estimators=150, min_child_weight=5, max_depth=10, learning_rate=0.5, gamma=1, colsample_bytree=0.6, score=0.712, total= 1.1min\n",
            "[CV] subsample=0.8, n_estimators=150, min_child_weight=5, max_depth=10, learning_rate=0.5, gamma=1, colsample_bytree=0.6 \n",
            "[CV]  subsample=0.8, n_estimators=150, min_child_weight=5, max_depth=10, learning_rate=0.5, gamma=1, colsample_bytree=0.6, score=0.718, total= 1.1min\n",
            "[CV] subsample=0.8, n_estimators=150, min_child_weight=1, max_depth=10, learning_rate=0.1, gamma=5, colsample_bytree=1.0 \n",
            "[CV]  subsample=0.8, n_estimators=150, min_child_weight=1, max_depth=10, learning_rate=0.1, gamma=5, colsample_bytree=1.0, score=0.726, total= 1.8min\n",
            "[CV] subsample=0.8, n_estimators=150, min_child_weight=1, max_depth=10, learning_rate=0.1, gamma=5, colsample_bytree=1.0 \n",
            "[CV]  subsample=0.8, n_estimators=150, min_child_weight=1, max_depth=10, learning_rate=0.1, gamma=5, colsample_bytree=1.0, score=0.729, total= 1.8min\n",
            "[CV] subsample=0.8, n_estimators=150, min_child_weight=1, max_depth=10, learning_rate=0.1, gamma=5, colsample_bytree=1.0 \n",
            "[CV]  subsample=0.8, n_estimators=150, min_child_weight=1, max_depth=10, learning_rate=0.1, gamma=5, colsample_bytree=1.0, score=0.728, total= 1.9min\n",
            "[CV] subsample=0.8, n_estimators=150, min_child_weight=1, max_depth=10, learning_rate=0.1, gamma=5, colsample_bytree=1.0 \n",
            "[CV]  subsample=0.8, n_estimators=150, min_child_weight=1, max_depth=10, learning_rate=0.1, gamma=5, colsample_bytree=1.0, score=0.729, total= 1.9min\n",
            "[CV] subsample=0.8, n_estimators=150, min_child_weight=1, max_depth=10, learning_rate=0.1, gamma=5, colsample_bytree=1.0 \n",
            "[CV]  subsample=0.8, n_estimators=150, min_child_weight=1, max_depth=10, learning_rate=0.1, gamma=5, colsample_bytree=1.0, score=0.731, total= 1.9min\n",
            "[CV] subsample=0.8, n_estimators=150, min_child_weight=1, max_depth=10, learning_rate=0.1, gamma=5, colsample_bytree=1.0 \n",
            "[CV]  subsample=0.8, n_estimators=150, min_child_weight=1, max_depth=10, learning_rate=0.1, gamma=5, colsample_bytree=1.0, score=0.735, total= 1.9min\n",
            "[CV] subsample=0.8, n_estimators=150, min_child_weight=1, max_depth=10, learning_rate=0.1, gamma=5, colsample_bytree=1.0 \n",
            "[CV]  subsample=0.8, n_estimators=150, min_child_weight=1, max_depth=10, learning_rate=0.1, gamma=5, colsample_bytree=1.0, score=0.730, total= 1.9min\n",
            "[CV] subsample=0.8, n_estimators=150, min_child_weight=1, max_depth=10, learning_rate=0.1, gamma=5, colsample_bytree=1.0 \n",
            "[CV]  subsample=0.8, n_estimators=150, min_child_weight=1, max_depth=10, learning_rate=0.1, gamma=5, colsample_bytree=1.0, score=0.731, total= 1.8min\n",
            "[CV] subsample=0.8, n_estimators=150, min_child_weight=1, max_depth=10, learning_rate=0.1, gamma=5, colsample_bytree=1.0 \n",
            "[CV]  subsample=0.8, n_estimators=150, min_child_weight=1, max_depth=10, learning_rate=0.1, gamma=5, colsample_bytree=1.0, score=0.725, total= 1.9min\n",
            "[CV] subsample=0.8, n_estimators=150, min_child_weight=1, max_depth=10, learning_rate=0.1, gamma=5, colsample_bytree=1.0 \n",
            "[CV]  subsample=0.8, n_estimators=150, min_child_weight=1, max_depth=10, learning_rate=0.1, gamma=5, colsample_bytree=1.0, score=0.731, total= 1.8min\n"
          ],
          "name": "stdout"
        },
        {
          "output_type": "stream",
          "text": [
            "[Parallel(n_jobs=1)]: Done  50 out of  50 | elapsed: 53.9min finished\n"
          ],
          "name": "stderr"
        },
        {
          "output_type": "execute_result",
          "data": {
            "text/plain": [
              "RandomizedSearchCV(cv=<generator object _BaseKFold.split at 0x7f1fb1565f10>,\n",
              "                   error_score=nan,\n",
              "                   estimator=XGBClassifier(alpha1=0, base_score=0.5,\n",
              "                                           booster='gbtree',\n",
              "                                           colsample_bylevel=1,\n",
              "                                           colsample_bynode=1,\n",
              "                                           colsample_bytree=1, gamma=0,\n",
              "                                           learning_rate=0.1, max_delta_step=0,\n",
              "                                           max_depth=5, min_child_weight=1,\n",
              "                                           missing=None, n_estimators=100,\n",
              "                                           n_jobs=1, nthread=None,\n",
              "                                           objective='bi...\n",
              "                   iid='deprecated', n_iter=5, n_jobs=1,\n",
              "                   param_distributions={'colsample_bytree': [0.6, 0.8, 1.0],\n",
              "                                        'gamma': [1, 1.5, 2, 5],\n",
              "                                        'learning_rate': [0.1, 0.3, 0.4, 0.5],\n",
              "                                        'max_depth': [8, 10, 12],\n",
              "                                        'min_child_weight': [1, 5, 10],\n",
              "                                        'n_estimators': [50, 100, 150],\n",
              "                                        'subsample': [0.6, 0.8, 1.0]},\n",
              "                   pre_dispatch='2*n_jobs', random_state=1001, refit=True,\n",
              "                   return_train_score=False, scoring='roc_auc', verbose=3)"
            ]
          },
          "metadata": {
            "tags": []
          },
          "execution_count": 103
        }
      ]
    },
    {
      "cell_type": "code",
      "metadata": {
        "colab_type": "code",
        "id": "1ZZ7yJMjk5Fz",
        "colab": {
          "base_uri": "https://localhost:8080/",
          "height": 136
        },
        "outputId": "4caa832e-2d9e-4326-81ef-9169c74c758d"
      },
      "source": [
        "#get the best estimator \n",
        "random_search.best_estimator_\n",
        "\n",
        "#these are the best parameter to use in our xgboost model "
      ],
      "execution_count": 104,
      "outputs": [
        {
          "output_type": "execute_result",
          "data": {
            "text/plain": [
              "XGBClassifier(alpha1=0, base_score=0.5, booster='gbtree', colsample_bylevel=1,\n",
              "              colsample_bynode=1, colsample_bytree=1.0, gamma=1.5,\n",
              "              learning_rate=0.1, max_delta_step=0, max_depth=10,\n",
              "              min_child_weight=5, missing=None, n_estimators=50, n_jobs=1,\n",
              "              nthread=None, objective='binary:hinge', random_state=0,\n",
              "              reg_alpha=0, reg_lambda=1, scale_pos_weight=6, seed=None,\n",
              "              silent=None, subsample=0.8, verbosity=1)"
            ]
          },
          "metadata": {
            "tags": []
          },
          "execution_count": 104
        }
      ]
    },
    {
      "cell_type": "code",
      "metadata": {
        "id": "g9UVEIP9DGFx",
        "colab_type": "code",
        "outputId": "39026dc1-56c9-45c3-97e5-0192e35e6cf6",
        "colab": {
          "base_uri": "https://localhost:8080/",
          "height": 34
        }
      },
      "source": [
        "#get the score of the best auc\n",
        "random_search.best_score_"
      ],
      "execution_count": 105,
      "outputs": [
        {
          "output_type": "execute_result",
          "data": {
            "text/plain": [
              "0.7309025817819494"
            ]
          },
          "metadata": {
            "tags": []
          },
          "execution_count": 105
        }
      ]
    },
    {
      "cell_type": "code",
      "metadata": {
        "id": "aC0tr9DqPaBB",
        "colab_type": "code",
        "outputId": "00c43ebe-0260-44ea-da28-653ba20f8c92",
        "colab": {
          "base_uri": "https://localhost:8080/",
          "height": 136
        }
      },
      "source": [
        "random_search.best_params_"
      ],
      "execution_count": 106,
      "outputs": [
        {
          "output_type": "execute_result",
          "data": {
            "text/plain": [
              "{'colsample_bytree': 1.0,\n",
              " 'gamma': 1.5,\n",
              " 'learning_rate': 0.1,\n",
              " 'max_depth': 10,\n",
              " 'min_child_weight': 5,\n",
              " 'n_estimators': 50,\n",
              " 'subsample': 0.8}"
            ]
          },
          "metadata": {
            "tags": []
          },
          "execution_count": 106
        }
      ]
    },
    {
      "cell_type": "code",
      "metadata": {
        "id": "n71bVZhUqXen",
        "colab_type": "code",
        "colab": {}
      },
      "source": [
        "best_estimate = random_search.best_estimator_"
      ],
      "execution_count": 0,
      "outputs": []
    },
    {
      "cell_type": "code",
      "metadata": {
        "id": "BJqHD1yBqXkb",
        "colab_type": "code",
        "colab": {}
      },
      "source": [
        "#best parameters for the classifier model \n",
        "xgboost_model = best_estimate"
      ],
      "execution_count": 0,
      "outputs": []
    },
    {
      "cell_type": "code",
      "metadata": {
        "id": "sh-MgP8DgOU4",
        "colab_type": "code",
        "colab": {}
      },
      "source": [
        "# evaluate the training model with cross validation \n",
        "from sklearn import model_selection\n",
        "from sklearn.model_selection import cross_val_score\n",
        "kfold = model_selection.KFold(n_splits=10)\n",
        "results = cross_val_score(xgboost_model , xtrain, ytrain, cv=kfold)"
      ],
      "execution_count": 0,
      "outputs": []
    },
    {
      "cell_type": "code",
      "metadata": {
        "id": "OPX5zvOdi4Uk",
        "colab_type": "code",
        "outputId": "50f89b8a-6e7c-4495-eb5a-0b76050992c5",
        "colab": {
          "base_uri": "https://localhost:8080/",
          "height": 34
        }
      },
      "source": [
        "#the average accuracy score for 10 models \n",
        "results.mean()"
      ],
      "execution_count": 110,
      "outputs": [
        {
          "output_type": "execute_result",
          "data": {
            "text/plain": [
              "0.7271155785798067"
            ]
          },
          "metadata": {
            "tags": []
          },
          "execution_count": 110
        }
      ]
    },
    {
      "cell_type": "code",
      "metadata": {
        "id": "dJWOHDbP1-CF",
        "colab_type": "code",
        "outputId": "d907a6e7-0da9-4bf7-d1e0-1ed15d289773",
        "colab": {
          "base_uri": "https://localhost:8080/",
          "height": 136
        }
      },
      "source": [
        "xgboost_model.fit(xtrain, ytrain)"
      ],
      "execution_count": 111,
      "outputs": [
        {
          "output_type": "execute_result",
          "data": {
            "text/plain": [
              "XGBClassifier(alpha1=0, base_score=0.5, booster='gbtree', colsample_bylevel=1,\n",
              "              colsample_bynode=1, colsample_bytree=1.0, gamma=1.5,\n",
              "              learning_rate=0.1, max_delta_step=0, max_depth=10,\n",
              "              min_child_weight=5, missing=None, n_estimators=50, n_jobs=1,\n",
              "              nthread=None, objective='binary:hinge', random_state=0,\n",
              "              reg_alpha=0, reg_lambda=1, scale_pos_weight=6, seed=None,\n",
              "              silent=None, subsample=0.8, verbosity=1)"
            ]
          },
          "metadata": {
            "tags": []
          },
          "execution_count": 111
        }
      ]
    },
    {
      "cell_type": "markdown",
      "metadata": {
        "id": "filzF22LWHCm",
        "colab_type": "text"
      },
      "source": [
        "## Evaluating the model \n"
      ]
    },
    {
      "cell_type": "code",
      "metadata": {
        "id": "5nEwpTxPqXcG",
        "colab_type": "code",
        "colab": {}
      },
      "source": [
        "y_pred = xgboost_model.predict(xtest)"
      ],
      "execution_count": 0,
      "outputs": []
    },
    {
      "cell_type": "code",
      "metadata": {
        "id": "VWj1PrN2RMyP",
        "colab_type": "code",
        "outputId": "9dc7e707-cd2c-4706-cb14-d6edcfb16ff4",
        "colab": {
          "base_uri": "https://localhost:8080/",
          "height": 34
        }
      },
      "source": [
        "#evaluate the model accuracy on the test set \n",
        "from sklearn import metrics\n",
        "print(metrics.accuracy_score(ytest, y_pred)) "
      ],
      "execution_count": 113,
      "outputs": [
        {
          "output_type": "stream",
          "text": [
            "0.7230919279916684\n"
          ],
          "name": "stdout"
        }
      ]
    },
    {
      "cell_type": "code",
      "metadata": {
        "id": "Klou0p-2j8PE",
        "colab_type": "code",
        "outputId": "e0479ba0-973b-4917-c3eb-86bc71d29cc8",
        "colab": {
          "base_uri": "https://localhost:8080/",
          "height": 34
        }
      },
      "source": [
        "#evaluate the model using roc-auc\n",
        "print(metrics.roc_auc_score(ytest, y_pred))"
      ],
      "execution_count": 114,
      "outputs": [
        {
          "output_type": "stream",
          "text": [
            "0.7273145186087364\n"
          ],
          "name": "stdout"
        }
      ]
    },
    {
      "cell_type": "code",
      "metadata": {
        "id": "CheJLcUpj8R2",
        "colab_type": "code",
        "outputId": "649525b5-0c08-4251-9017-10022a0a3dd5",
        "colab": {
          "base_uri": "https://localhost:8080/",
          "height": 51
        }
      },
      "source": [
        "#confusion matrix\n",
        "print(metrics.confusion_matrix(ytest, y_pred))"
      ],
      "execution_count": 115,
      "outputs": [
        {
          "output_type": "stream",
          "text": [
            "[[54269 22041]\n",
            " [11461 33215]]\n"
          ],
          "name": "stdout"
        }
      ]
    },
    {
      "cell_type": "code",
      "metadata": {
        "id": "Re17gq3Z8yfX",
        "colab_type": "code",
        "colab": {}
      },
      "source": [
        "confusion = metrics.confusion_matrix(ytest, y_pred)\n",
        "TP = confusion[1, 1]\n",
        "TN = confusion[0, 0]\n",
        "FP = confusion[0, 1]\n",
        "FN = confusion[1, 0]"
      ],
      "execution_count": 0,
      "outputs": []
    },
    {
      "cell_type": "code",
      "metadata": {
        "id": "WARObF-O6HKf",
        "colab_type": "code",
        "outputId": "a903e60d-6322-4346-fd51-fe1158a3a4bf",
        "colab": {
          "base_uri": "https://localhost:8080/",
          "height": 51
        }
      },
      "source": [
        "classification_error = (FP + FN) / float(TP + TN + FP + FN)\n",
        "\n",
        "print(classification_error)\n",
        "print(1 - metrics.accuracy_score(ytest, y_pred))"
      ],
      "execution_count": 117,
      "outputs": [
        {
          "output_type": "stream",
          "text": [
            "0.27690807200833156\n",
            "0.27690807200833156\n"
          ],
          "name": "stdout"
        }
      ]
    },
    {
      "cell_type": "code",
      "metadata": {
        "id": "ypFdqPM66HNQ",
        "colab_type": "code",
        "outputId": "e4edf343-d1b0-41e3-8b2a-f96a325dbfca",
        "colab": {
          "base_uri": "https://localhost:8080/",
          "height": 34
        }
      },
      "source": [
        "sensitivity = TP / float(FN + TP)\n",
        "print(sensitivity)"
      ],
      "execution_count": 118,
      "outputs": [
        {
          "output_type": "stream",
          "text": [
            "0.7434640522875817\n"
          ],
          "name": "stdout"
        }
      ]
    },
    {
      "cell_type": "code",
      "metadata": {
        "id": "pmc2dffa9cxT",
        "colab_type": "code",
        "outputId": "e4ee2db3-f8aa-4012-a2ec-f106c5a7aae5",
        "colab": {
          "base_uri": "https://localhost:8080/",
          "height": 34
        }
      },
      "source": [
        "specificity = TN / (TN + FP)\n",
        "\n",
        "print(specificity)"
      ],
      "execution_count": 119,
      "outputs": [
        {
          "output_type": "stream",
          "text": [
            "0.7111649849298912\n"
          ],
          "name": "stdout"
        }
      ]
    },
    {
      "cell_type": "code",
      "metadata": {
        "id": "2LoEIUo29uLz",
        "colab_type": "code",
        "outputId": "d3a684f6-a1e4-4a74-9f28-4cb661d36e45",
        "colab": {
          "base_uri": "https://localhost:8080/",
          "height": 51
        }
      },
      "source": [
        "false_positive_rate = FP / float(TN + FP)\n",
        "\n",
        "print(false_positive_rate)\n",
        "print(1 - specificity)"
      ],
      "execution_count": 120,
      "outputs": [
        {
          "output_type": "stream",
          "text": [
            "0.2888350150701088\n",
            "0.2888350150701088\n"
          ],
          "name": "stdout"
        }
      ]
    },
    {
      "cell_type": "code",
      "metadata": {
        "id": "ZoVr_-779xQB",
        "colab_type": "code",
        "outputId": "3df00ca6-8c9e-4958-a7f1-bc39d6476aa5",
        "colab": {
          "base_uri": "https://localhost:8080/",
          "height": 34
        }
      },
      "source": [
        "precision = TP / float(TP + FP)\n",
        "\n",
        "print(precision)"
      ],
      "execution_count": 121,
      "outputs": [
        {
          "output_type": "stream",
          "text": [
            "0.6011111915448096\n"
          ],
          "name": "stdout"
        }
      ]
    },
    {
      "cell_type": "code",
      "metadata": {
        "colab_type": "code",
        "id": "0pxXkg_J6Qx6",
        "outputId": "be9a8994-e42d-4a73-a68f-e60dbd8b925a",
        "colab": {
          "base_uri": "https://localhost:8080/",
          "height": 71
        }
      },
      "source": [
        " #validation curve \n",
        "from yellowbrick.model_selection import LearningCurve"
      ],
      "execution_count": 122,
      "outputs": [
        {
          "output_type": "stream",
          "text": [
            "/usr/local/lib/python3.6/dist-packages/sklearn/utils/deprecation.py:144: FutureWarning: The sklearn.metrics.classification module is  deprecated in version 0.22 and will be removed in version 0.24. The corresponding classes / functions should instead be imported from sklearn.metrics. Anything that cannot be imported from sklearn.metrics is now part of the private API.\n",
            "  warnings.warn(message, FutureWarning)\n"
          ],
          "name": "stderr"
        }
      ]
    },
    {
      "cell_type": "code",
      "metadata": {
        "id": "2d-xhygsuLZx",
        "colab_type": "code",
        "colab": {}
      },
      "source": [
        "from sklearn.model_selection import ShuffleSplit    \n",
        "from sklearn.model_selection import learning_curve"
      ],
      "execution_count": 0,
      "outputs": []
    },
    {
      "cell_type": "code",
      "metadata": {
        "id": "V-paMSHOwsmo",
        "colab_type": "code",
        "colab": {}
      },
      "source": [
        "cv = ShuffleSplit(n_splits=10, test_size=0.2)\n",
        "train_sizes = [1000, 3000, 5000, 10000, 100000]\n"
      ],
      "execution_count": 0,
      "outputs": []
    },
    {
      "cell_type": "markdown",
      "metadata": {
        "id": "CC6HJuyqgU-B",
        "colab_type": "text"
      },
      "source": [
        "## Learning Curves for all model with time effetiency"
      ]
    },
    {
      "cell_type": "code",
      "metadata": {
        "id": "yd-Ca-N9twoX",
        "colab_type": "code",
        "colab": {
          "base_uri": "https://localhost:8080/",
          "height": 34
        },
        "outputId": "f9a82667-1652-44bd-c330-6599c0b39740"
      },
      "source": [
        " #train sizes as shown below \n",
        " train_sizes=np.linspace(.1, 1.0, 5)\n",
        " train_sizes"
      ],
      "execution_count": 125,
      "outputs": [
        {
          "output_type": "execute_result",
          "data": {
            "text/plain": [
              "array([0.1  , 0.325, 0.55 , 0.775, 1.   ])"
            ]
          },
          "metadata": {
            "tags": []
          },
          "execution_count": 125
        }
      ]
    },
    {
      "cell_type": "markdown",
      "metadata": {
        "id": "MLCrr3NHo1SX",
        "colab_type": "text"
      },
      "source": [
        "##Using Accuracy"
      ]
    },
    {
      "cell_type": "code",
      "metadata": {
        "id": "vEYUnEEX4dBy",
        "colab_type": "code",
        "colab": {
          "base_uri": "https://localhost:8080/",
          "height": 1000
        },
        "outputId": "6c5c114b-4728-4bd3-bd71-ad46b090dbfe"
      },
      "source": [
        "def plot_learning_curve(estimator, title, X, y, axes=None, ylim=None, cv=None, n_jobs=None, train_sizes = np.linspace(.1, 1.0, 5)):\n",
        "  if axes is None:\n",
        "    _, axes = plt.subplots(1, 3, figsize=(20, 5))\n",
        "  axes[0].set_title(title)\n",
        "  if ylim is not None:\n",
        "    axes[0].set_ylim(*ylim)\n",
        "    axes[0].set_xlabel(\"Training examples\")\n",
        "    axes[0].set_ylabel(\"Score\")\n",
        "\n",
        "    train_sizes, train_scores, test_scores, fit_times, _ = learning_curve(estimator, X, y, cv=cv, n_jobs=n_jobs, train_sizes=train_sizes, return_times=True, verbose= 3, shuffle=True)\n",
        "    train_scores_mean = np.mean(train_scores, axis=1) #mean scrore for the train sizes\n",
        "    train_scores_std = np.std(train_scores, axis=1) #standard deviation for the train sizes\n",
        "    test_scores_mean = np.mean(test_scores, axis=1)\n",
        "    test_scores_std = np.std(test_scores, axis=1)\n",
        "    fit_times_mean = np.mean(fit_times, axis=1)\n",
        "    fit_times_std = np.std(fit_times, axis=1)\n",
        "    \n",
        "    # Plot learning curve\n",
        "    axes[0].grid()\n",
        "    axes[0].fill_between(train_sizes, train_scores_mean - train_scores_std, train_scores_mean + train_scores_std, alpha=0.1,color=\"r\")\n",
        "    axes[0].fill_between(train_sizes, test_scores_mean - test_scores_std, test_scores_mean + test_scores_std, alpha=0.1, color=\"g\")\n",
        "    axes[0].plot(train_sizes, train_scores_mean, 'o-', color=\"r\", label=\"Training score\")\n",
        "    axes[0].plot(train_sizes, test_scores_mean, 'o-', color=\"g\", label=\"Cross-validation score\")\n",
        "    axes[0].legend(loc=\"best\") #loc is the location of the legend // The string 'best' places the legend at the location, among the nine locations defined so far, with the minimum overlap with other drawn artists\n",
        "\n",
        "    # Plot n_samples vs fit_times\n",
        "    axes[1].grid()\n",
        "    axes[1].plot(train_sizes, fit_times_mean, 'o-')\n",
        "    axes[1].fill_between(train_sizes, fit_times_mean - fit_times_std, fit_times_mean + fit_times_std, alpha=0.1)\n",
        "    axes[1].set_xlabel(\"Training examples\")\n",
        "    axes[1].set_ylabel(\"fit_times\")\n",
        "    axes[1].set_title(\"Scalability of the model\")\n",
        "\n",
        "    #plot fit_times vs. score \n",
        "    axes[2].grid()\n",
        "    axes[2].plot(fit_times_mean, test_scores_mean, 'o-')\n",
        "    axes[2].fill_between(fit_times_mean, test_scores_mean - test_scores_std, test_scores_mean + test_scores_std, alpha=0.1)\n",
        "    axes[2].set_xlabel(\"fit_times\")\n",
        "    axes[2].set_ylabel(\"Score\")\n",
        "    axes[2].set_title(\"Performance of the model\")\n",
        "    \n",
        "    return plt\n",
        "\n",
        "#plot 3 rows 3 columns \n",
        "fig, axes = plt.subplots(3, 3, figsize=(20, 20))\n",
        "\n",
        "#10-fold cross validation \n",
        "#naive bayes\n",
        "title = \"Learning Curves (Naive Bayes)\"\n",
        "cv = ShuffleSplit(n_splits=10, test_size=0.3, random_state=0) # score curves, each time with 30% data randomly selected as a validation set\n",
        "estimator = nb\n",
        "plot_learning_curve(estimator, title, x, y, cv=cv, axes=axes[:, 0], n_jobs=1, ylim=(0.6, 1.01))\n",
        "\n",
        "#random forest\n",
        "title = \"Learning Curves (Random Forest)\"\n",
        "cv = ShuffleSplit(n_splits=10, test_size=0.3, random_state=0)\n",
        "estimator = clf\n",
        "plot_learning_curve(estimator, title, x, y, axes=axes[:, 1], ylim=(0.7, 1.01), cv=cv, n_jobs=1)\n",
        "\n",
        "#XGBoost\n",
        "title = \"Learning Curves (XGBoost)\"\n",
        "cv = ShuffleSplit(n_splits=10, test_size=0.3, random_state=0)\n",
        "estimator = xgboost_model\n",
        "plot_learning_curve(estimator, title, x, y, axes=axes[:, 2], ylim=(0.7, 1.01), cv=cv, n_jobs=1)\n",
        "plt.show()\n"
      ],
      "execution_count": 127,
      "outputs": [
        {
          "output_type": "stream",
          "text": [
            "[learning_curve] Training set sizes: [ 28229  91747 155264 218781 282299]\n",
            "[CV]  ................................................................\n",
            "[CV] ................ , score=(train=0.640, test=0.643), total=   0.1s\n",
            "[CV]  ................................................................\n"
          ],
          "name": "stdout"
        },
        {
          "output_type": "stream",
          "text": [
            "[Parallel(n_jobs=1)]: Using backend SequentialBackend with 1 concurrent workers.\n",
            "[Parallel(n_jobs=1)]: Done   1 out of   1 | elapsed:    0.1s remaining:    0.0s\n"
          ],
          "name": "stderr"
        },
        {
          "output_type": "stream",
          "text": [
            "[CV] ................ , score=(train=0.640, test=0.644), total=   0.1s\n",
            "[CV]  ................................................................\n",
            "[CV] ................ , score=(train=0.641, test=0.643), total=   0.1s\n",
            "[CV]  ................................................................\n"
          ],
          "name": "stdout"
        },
        {
          "output_type": "stream",
          "text": [
            "[Parallel(n_jobs=1)]: Done   2 out of   2 | elapsed:    0.2s remaining:    0.0s\n"
          ],
          "name": "stderr"
        },
        {
          "output_type": "stream",
          "text": [
            "[CV] ................ , score=(train=0.642, test=0.643), total=   0.1s\n",
            "[CV]  ................................................................\n",
            "[CV] ................ , score=(train=0.643, test=0.644), total=   0.2s\n",
            "[CV]  ................................................................\n",
            "[CV] ................ , score=(train=0.644, test=0.641), total=   0.1s\n",
            "[CV]  ................................................................\n",
            "[CV] ................ , score=(train=0.643, test=0.641), total=   0.1s\n",
            "[CV]  ................................................................\n",
            "[CV] ................ , score=(train=0.643, test=0.641), total=   0.1s\n",
            "[CV]  ................................................................\n",
            "[CV] ................ , score=(train=0.643, test=0.641), total=   0.1s\n",
            "[CV]  ................................................................\n",
            "[CV] ................ , score=(train=0.643, test=0.641), total=   0.2s\n",
            "[CV]  ................................................................\n",
            "[CV] ................ , score=(train=0.641, test=0.644), total=   0.1s\n",
            "[CV]  ................................................................\n",
            "[CV] ................ , score=(train=0.642, test=0.644), total=   0.1s\n",
            "[CV]  ................................................................\n",
            "[CV] ................ , score=(train=0.642, test=0.643), total=   0.1s\n",
            "[CV]  ................................................................\n",
            "[CV] ................ , score=(train=0.642, test=0.643), total=   0.1s\n",
            "[CV]  ................................................................\n",
            "[CV] ................ , score=(train=0.642, test=0.642), total=   0.2s\n",
            "[CV]  ................................................................\n",
            "[CV] ................ , score=(train=0.643, test=0.640), total=   0.1s\n",
            "[CV]  ................................................................\n",
            "[CV] ................ , score=(train=0.642, test=0.641), total=   0.1s\n",
            "[CV]  ................................................................\n",
            "[CV] ................ , score=(train=0.644, test=0.641), total=   0.1s\n",
            "[CV]  ................................................................\n",
            "[CV] ................ , score=(train=0.644, test=0.641), total=   0.1s\n",
            "[CV]  ................................................................\n",
            "[CV] ................ , score=(train=0.644, test=0.640), total=   0.2s\n",
            "[CV]  ................................................................\n",
            "[CV] ................ , score=(train=0.643, test=0.644), total=   0.1s\n",
            "[CV]  ................................................................\n",
            "[CV] ................ , score=(train=0.643, test=0.642), total=   0.1s\n",
            "[CV]  ................................................................\n",
            "[CV] ................ , score=(train=0.644, test=0.641), total=   0.1s\n",
            "[CV]  ................................................................\n",
            "[CV] ................ , score=(train=0.643, test=0.642), total=   0.1s\n",
            "[CV]  ................................................................\n",
            "[CV] ................ , score=(train=0.643, test=0.642), total=   0.2s\n",
            "[CV]  ................................................................\n",
            "[CV] ................ , score=(train=0.643, test=0.640), total=   0.1s\n",
            "[CV]  ................................................................\n",
            "[CV] ................ , score=(train=0.643, test=0.640), total=   0.1s\n",
            "[CV]  ................................................................\n",
            "[CV] ................ , score=(train=0.644, test=0.641), total=   0.1s\n",
            "[CV]  ................................................................\n",
            "[CV] ................ , score=(train=0.644, test=0.640), total=   0.1s\n",
            "[CV]  ................................................................\n",
            "[CV] ................ , score=(train=0.643, test=0.640), total=   0.2s\n",
            "[CV]  ................................................................\n",
            "[CV] ................ , score=(train=0.644, test=0.640), total=   0.1s\n",
            "[CV]  ................................................................\n",
            "[CV] ................ , score=(train=0.644, test=0.640), total=   0.1s\n",
            "[CV]  ................................................................\n",
            "[CV] ................ , score=(train=0.644, test=0.640), total=   0.1s\n",
            "[CV]  ................................................................\n",
            "[CV] ................ , score=(train=0.643, test=0.640), total=   0.1s\n",
            "[CV]  ................................................................\n",
            "[CV] ................ , score=(train=0.643, test=0.640), total=   0.2s\n",
            "[CV]  ................................................................\n",
            "[CV] ................ , score=(train=0.643, test=0.643), total=   0.1s\n",
            "[CV]  ................................................................\n",
            "[CV] ................ , score=(train=0.643, test=0.643), total=   0.1s\n",
            "[CV]  ................................................................\n",
            "[CV] ................ , score=(train=0.644, test=0.643), total=   0.1s\n",
            "[CV]  ................................................................\n",
            "[CV] ................ , score=(train=0.643, test=0.643), total=   0.1s\n",
            "[CV]  ................................................................\n",
            "[CV] ................ , score=(train=0.643, test=0.643), total=   0.2s\n",
            "[CV]  ................................................................\n",
            "[CV] ................ , score=(train=0.644, test=0.642), total=   0.1s\n",
            "[CV]  ................................................................\n",
            "[CV] ................ , score=(train=0.643, test=0.642), total=   0.1s\n",
            "[CV]  ................................................................\n",
            "[CV] ................ , score=(train=0.643, test=0.643), total=   0.1s\n",
            "[CV]  ................................................................\n",
            "[CV] ................ , score=(train=0.643, test=0.643), total=   0.2s\n",
            "[CV]  ................................................................\n",
            "[CV] ................ , score=(train=0.642, test=0.643), total=   0.2s\n",
            "[CV]  ................................................................\n",
            "[CV] ................ , score=(train=0.647, test=0.644), total=   0.1s\n",
            "[CV]  ................................................................\n",
            "[CV] ................ , score=(train=0.644, test=0.644), total=   0.1s\n",
            "[CV]  ................................................................\n",
            "[CV] ................ , score=(train=0.643, test=0.644), total=   0.1s\n",
            "[CV]  ................................................................\n",
            "[CV] ................ , score=(train=0.643, test=0.644), total=   0.1s\n",
            "[CV]  ................................................................\n",
            "[CV] ................ , score=(train=0.642, test=0.644), total=   0.2s\n",
            "[learning_curve] Training set sizes: [ 28229  91747 155264 218781 282299]\n",
            "[CV]  ................................................................\n"
          ],
          "name": "stdout"
        },
        {
          "output_type": "stream",
          "text": [
            "[Parallel(n_jobs=1)]: Done  50 out of  50 | elapsed:    8.3s finished\n",
            "[Parallel(n_jobs=1)]: Using backend SequentialBackend with 1 concurrent workers.\n"
          ],
          "name": "stderr"
        },
        {
          "output_type": "stream",
          "text": [
            "[CV] ................ , score=(train=0.997, test=0.716), total=   1.6s\n",
            "[CV]  ................................................................\n"
          ],
          "name": "stdout"
        },
        {
          "output_type": "stream",
          "text": [
            "[Parallel(n_jobs=1)]: Done   1 out of   1 | elapsed:    1.7s remaining:    0.0s\n"
          ],
          "name": "stderr"
        },
        {
          "output_type": "stream",
          "text": [
            "[CV] ................ , score=(train=0.997, test=0.720), total=   4.7s\n",
            "[CV]  ................................................................\n"
          ],
          "name": "stdout"
        },
        {
          "output_type": "stream",
          "text": [
            "[Parallel(n_jobs=1)]: Done   2 out of   2 | elapsed:    7.0s remaining:    0.0s\n"
          ],
          "name": "stderr"
        },
        {
          "output_type": "stream",
          "text": [
            "[CV] ................ , score=(train=0.997, test=0.724), total=   7.9s\n",
            "[CV]  ................................................................\n",
            "[CV] ................ , score=(train=0.997, test=0.728), total=  11.2s\n",
            "[CV]  ................................................................\n",
            "[CV] ................ , score=(train=0.997, test=0.730), total=  14.6s\n",
            "[CV]  ................................................................\n",
            "[CV] ................ , score=(train=0.997, test=0.717), total=   1.6s\n",
            "[CV]  ................................................................\n",
            "[CV] ................ , score=(train=0.997, test=0.724), total=   4.7s\n",
            "[CV]  ................................................................\n",
            "[CV] ................ , score=(train=0.997, test=0.726), total=   7.9s\n",
            "[CV]  ................................................................\n",
            "[CV] ................ , score=(train=0.997, test=0.730), total=  11.2s\n",
            "[CV]  ................................................................\n",
            "[CV] ................ , score=(train=0.998, test=0.732), total=  14.8s\n",
            "[CV]  ................................................................\n",
            "[CV] ................ , score=(train=0.997, test=0.717), total=   1.6s\n",
            "[CV]  ................................................................\n",
            "[CV] ................ , score=(train=0.997, test=0.724), total=   4.7s\n",
            "[CV]  ................................................................\n",
            "[CV] ................ , score=(train=0.997, test=0.727), total=   7.8s\n",
            "[CV]  ................................................................\n",
            "[CV] ................ , score=(train=0.997, test=0.729), total=  11.2s\n",
            "[CV]  ................................................................\n",
            "[CV] ................ , score=(train=0.998, test=0.732), total=  14.7s\n",
            "[CV]  ................................................................\n",
            "[CV] ................ , score=(train=0.997, test=0.712), total=   1.6s\n",
            "[CV]  ................................................................\n",
            "[CV] ................ , score=(train=0.997, test=0.723), total=   4.7s\n",
            "[CV]  ................................................................\n",
            "[CV] ................ , score=(train=0.998, test=0.726), total=   7.8s\n",
            "[CV]  ................................................................\n",
            "[CV] ................ , score=(train=0.997, test=0.727), total=  11.1s\n",
            "[CV]  ................................................................\n",
            "[CV] ................ , score=(train=0.997, test=0.732), total=  14.9s\n",
            "[CV]  ................................................................\n",
            "[CV] ................ , score=(train=0.998, test=0.716), total=   1.6s\n",
            "[CV]  ................................................................\n",
            "[CV] ................ , score=(train=0.997, test=0.722), total=   4.7s\n",
            "[CV]  ................................................................\n",
            "[CV] ................ , score=(train=0.997, test=0.725), total=   7.9s\n",
            "[CV]  ................................................................\n",
            "[CV] ................ , score=(train=0.997, test=0.728), total=  11.4s\n",
            "[CV]  ................................................................\n",
            "[CV] ................ , score=(train=0.997, test=0.731), total=  14.6s\n",
            "[CV]  ................................................................\n",
            "[CV] ................ , score=(train=0.997, test=0.713), total=   1.6s\n",
            "[CV]  ................................................................\n",
            "[CV] ................ , score=(train=0.997, test=0.722), total=   4.7s\n",
            "[CV]  ................................................................\n",
            "[CV] ................ , score=(train=0.997, test=0.726), total=   7.9s\n",
            "[CV]  ................................................................\n",
            "[CV] ................ , score=(train=0.997, test=0.728), total=  11.2s\n",
            "[CV]  ................................................................\n",
            "[CV] ................ , score=(train=0.997, test=0.732), total=  15.0s\n",
            "[CV]  ................................................................\n",
            "[CV] ................ , score=(train=0.997, test=0.716), total=   1.6s\n",
            "[CV]  ................................................................\n",
            "[CV] ................ , score=(train=0.997, test=0.722), total=   4.8s\n",
            "[CV]  ................................................................\n",
            "[CV] ................ , score=(train=0.998, test=0.726), total=   8.0s\n",
            "[CV]  ................................................................\n",
            "[CV] ................ , score=(train=0.997, test=0.728), total=  11.7s\n",
            "[CV]  ................................................................\n",
            "[CV] ................ , score=(train=0.998, test=0.732), total=  15.3s\n",
            "[CV]  ................................................................\n",
            "[CV] ................ , score=(train=0.997, test=0.715), total=   1.6s\n",
            "[CV]  ................................................................\n",
            "[CV] ................ , score=(train=0.997, test=0.721), total=   4.7s\n",
            "[CV]  ................................................................\n",
            "[CV] ................ , score=(train=0.997, test=0.726), total=   8.0s\n",
            "[CV]  ................................................................\n",
            "[CV] ................ , score=(train=0.997, test=0.729), total=  11.2s\n",
            "[CV]  ................................................................\n",
            "[CV] ................ , score=(train=0.997, test=0.730), total=  14.8s\n",
            "[CV]  ................................................................\n",
            "[CV] ................ , score=(train=0.997, test=0.716), total=   1.6s\n",
            "[CV]  ................................................................\n",
            "[CV] ................ , score=(train=0.997, test=0.723), total=   4.7s\n",
            "[CV]  ................................................................\n",
            "[CV] ................ , score=(train=0.997, test=0.726), total=   8.0s\n",
            "[CV]  ................................................................\n",
            "[CV] ................ , score=(train=0.997, test=0.730), total=  11.6s\n",
            "[CV]  ................................................................\n",
            "[CV] ................ , score=(train=0.997, test=0.732), total=  14.9s\n",
            "[CV]  ................................................................\n",
            "[CV] ................ , score=(train=0.997, test=0.713), total=   1.6s\n",
            "[CV]  ................................................................\n",
            "[CV] ................ , score=(train=0.997, test=0.724), total=   4.7s\n",
            "[CV]  ................................................................\n",
            "[CV] ................ , score=(train=0.997, test=0.727), total=   7.9s\n",
            "[CV]  ................................................................\n",
            "[CV] ................ , score=(train=0.997, test=0.729), total=  11.3s\n",
            "[CV]  ................................................................\n",
            "[CV] ................ , score=(train=0.997, test=0.730), total=  14.9s\n",
            "[learning_curve] Training set sizes: [ 28229  91747 155264 218781 282299]\n",
            "[CV]  ................................................................\n"
          ],
          "name": "stdout"
        },
        {
          "output_type": "stream",
          "text": [
            "[Parallel(n_jobs=1)]: Done  50 out of  50 | elapsed:  7.6min finished\n",
            "[Parallel(n_jobs=1)]: Using backend SequentialBackend with 1 concurrent workers.\n"
          ],
          "name": "stderr"
        },
        {
          "output_type": "stream",
          "text": [
            "[CV] ................ , score=(train=0.806, test=0.717), total=   4.4s\n",
            "[CV]  ................................................................\n"
          ],
          "name": "stdout"
        },
        {
          "output_type": "stream",
          "text": [
            "[Parallel(n_jobs=1)]: Done   1 out of   1 | elapsed:    4.6s remaining:    0.0s\n"
          ],
          "name": "stderr"
        },
        {
          "output_type": "stream",
          "text": [
            "[CV] ................ , score=(train=0.774, test=0.722), total=  13.2s\n",
            "[CV]  ................................................................\n"
          ],
          "name": "stdout"
        },
        {
          "output_type": "stream",
          "text": [
            "[Parallel(n_jobs=1)]: Done   2 out of   2 | elapsed:   18.3s remaining:    0.0s\n"
          ],
          "name": "stderr"
        },
        {
          "output_type": "stream",
          "text": [
            "[CV] ................ , score=(train=0.761, test=0.725), total=  23.0s\n",
            "[CV]  ................................................................\n",
            "[CV] ................ , score=(train=0.753, test=0.725), total=  33.7s\n",
            "[CV]  ................................................................\n",
            "[CV] ................ , score=(train=0.748, test=0.725), total=  44.2s\n",
            "[CV]  ................................................................\n",
            "[CV] ................ , score=(train=0.809, test=0.722), total=   4.9s\n",
            "[CV]  ................................................................\n",
            "[CV] ................ , score=(train=0.770, test=0.724), total=  13.3s\n",
            "[CV]  ................................................................\n",
            "[CV] ................ , score=(train=0.759, test=0.725), total=  23.1s\n",
            "[CV]  ................................................................\n",
            "[CV] ................ , score=(train=0.753, test=0.726), total=  33.7s\n",
            "[CV]  ................................................................\n",
            "[CV] ................ , score=(train=0.749, test=0.726), total=  44.1s\n",
            "[CV]  ................................................................\n",
            "[CV] ................ , score=(train=0.807, test=0.719), total=   4.4s\n",
            "[CV]  ................................................................\n",
            "[CV] ................ , score=(train=0.774, test=0.724), total=  13.3s\n",
            "[CV]  ................................................................\n",
            "[CV] ................ , score=(train=0.759, test=0.726), total=  23.1s\n",
            "[CV]  ................................................................\n",
            "[CV] ................ , score=(train=0.754, test=0.727), total=  33.6s\n",
            "[CV]  ................................................................\n",
            "[CV] ................ , score=(train=0.749, test=0.728), total=  44.2s\n",
            "[CV]  ................................................................\n",
            "[CV] ................ , score=(train=0.806, test=0.718), total=   4.5s\n",
            "[CV]  ................................................................\n",
            "[CV] ................ , score=(train=0.770, test=0.722), total=  13.2s\n",
            "[CV]  ................................................................\n",
            "[CV] ................ , score=(train=0.758, test=0.723), total=  23.2s\n",
            "[CV]  ................................................................\n",
            "[CV] ................ , score=(train=0.753, test=0.724), total=  33.7s\n",
            "[CV]  ................................................................\n",
            "[CV] ................ , score=(train=0.750, test=0.726), total=  44.1s\n",
            "[CV]  ................................................................\n",
            "[CV] ................ , score=(train=0.810, test=0.717), total=   4.4s\n",
            "[CV]  ................................................................\n",
            "[CV] ................ , score=(train=0.770, test=0.724), total=  13.2s\n",
            "[CV]  ................................................................\n",
            "[CV] ................ , score=(train=0.760, test=0.726), total=  23.1s\n",
            "[CV]  ................................................................\n",
            "[CV] ................ , score=(train=0.754, test=0.727), total=  33.6s\n",
            "[CV]  ................................................................\n",
            "[CV] ................ , score=(train=0.751, test=0.728), total=  44.1s\n",
            "[CV]  ................................................................\n",
            "[CV] ................ , score=(train=0.814, test=0.720), total=   4.4s\n",
            "[CV]  ................................................................\n",
            "[CV] ................ , score=(train=0.771, test=0.723), total=  13.2s\n",
            "[CV]  ................................................................\n",
            "[CV] ................ , score=(train=0.759, test=0.725), total=  23.1s\n",
            "[CV]  ................................................................\n",
            "[CV] ................ , score=(train=0.751, test=0.726), total=  33.7s\n",
            "[CV]  ................................................................\n",
            "[CV] ................ , score=(train=0.748, test=0.728), total=  45.0s\n",
            "[CV]  ................................................................\n",
            "[CV] ................ , score=(train=0.815, test=0.719), total=   4.5s\n",
            "[CV]  ................................................................\n",
            "[CV] ................ , score=(train=0.778, test=0.724), total=  13.5s\n",
            "[CV]  ................................................................\n",
            "[CV] ................ , score=(train=0.762, test=0.725), total=  23.4s\n",
            "[CV]  ................................................................\n",
            "[CV] ................ , score=(train=0.755, test=0.726), total=  33.9s\n",
            "[CV]  ................................................................\n",
            "[CV] ................ , score=(train=0.750, test=0.726), total=  44.5s\n",
            "[CV]  ................................................................\n",
            "[CV] ................ , score=(train=0.805, test=0.719), total=   4.4s\n",
            "[CV]  ................................................................\n",
            "[CV] ................ , score=(train=0.771, test=0.725), total=  13.2s\n",
            "[CV]  ................................................................\n",
            "[CV] ................ , score=(train=0.761, test=0.727), total=  23.2s\n",
            "[CV]  ................................................................\n",
            "[CV] ................ , score=(train=0.754, test=0.727), total=  33.5s\n",
            "[CV]  ................................................................\n",
            "[CV] ................ , score=(train=0.749, test=0.726), total=  44.3s\n",
            "[CV]  ................................................................\n",
            "[CV] ................ , score=(train=0.807, test=0.718), total=   4.5s\n",
            "[CV]  ................................................................\n",
            "[CV] ................ , score=(train=0.776, test=0.726), total=  13.5s\n",
            "[CV]  ................................................................\n",
            "[CV] ................ , score=(train=0.762, test=0.727), total=  23.4s\n",
            "[CV]  ................................................................\n",
            "[CV] ................ , score=(train=0.753, test=0.726), total=  33.8s\n",
            "[CV]  ................................................................\n",
            "[CV] ................ , score=(train=0.749, test=0.727), total=  44.2s\n",
            "[CV]  ................................................................\n",
            "[CV] ................ , score=(train=0.812, test=0.720), total=   4.4s\n",
            "[CV]  ................................................................\n",
            "[CV] ................ , score=(train=0.770, test=0.724), total=  13.2s\n",
            "[CV]  ................................................................\n",
            "[CV] ................ , score=(train=0.758, test=0.726), total=  23.3s\n",
            "[CV]  ................................................................\n",
            "[CV] ................ , score=(train=0.753, test=0.727), total=  33.7s\n",
            "[CV]  ................................................................\n",
            "[CV] ................ , score=(train=0.749, test=0.727), total=  44.1s\n"
          ],
          "name": "stdout"
        },
        {
          "output_type": "stream",
          "text": [
            "[Parallel(n_jobs=1)]: Done  50 out of  50 | elapsed: 20.6min finished\n"
          ],
          "name": "stderr"
        },
        {
          "output_type": "display_data",
          "data": {
            "image/png": "[encoded data removed]",
            "text/plain": [
              "<Figure size 1440x1440 with 9 Axes>"
            ]
          },
          "metadata": {
            "tags": []
          }
        }
      ]
    },
    {
      "cell_type": "markdown",
      "metadata": {
        "id": "PqVvbaTEqdCY",
        "colab_type": "text"
      },
      "source": [
        "## Log Loss"
      ]
    },
    {
      "cell_type": "code",
      "metadata": {
        "id": "ScOjItt5G5Cb",
        "colab_type": "code",
        "outputId": "ac0922cc-41b0-4167-8943-b0d3cb51d6a2",
        "colab": {
          "base_uri": "https://localhost:8080/",
          "height": 71
        }
      },
      "source": [
        "results = []\n",
        "kfold = model_selection.KFold(n_splits=10, random_state=1001)\n",
        "cv_results = model_selection.cross_val_score(nb, xtest, ytest, cv=kfold, scoring=\"neg_log_loss\")\n",
        "results.append(cv_results)\n",
        "mean_nb = cv_results.mean()\n",
        "std_nb = cv_results.std()\n"
      ],
      "execution_count": 128,
      "outputs": [
        {
          "output_type": "stream",
          "text": [
            "/usr/local/lib/python3.6/dist-packages/sklearn/model_selection/_split.py:296: FutureWarning: Setting a random_state has no effect since shuffle is False. This will raise an error in 0.24. You should leave random_state to its default (None), or set shuffle=True.\n",
            "  FutureWarning\n"
          ],
          "name": "stderr"
        }
      ]
    },
    {
      "cell_type": "code",
      "metadata": {
        "id": "Rcm9mJZ7HJ0q",
        "colab_type": "code",
        "outputId": "ab44be8f-8464-4def-b329-c219ec852c1a",
        "colab": {
          "base_uri": "https://localhost:8080/",
          "height": 71
        }
      },
      "source": [
        "kfold = model_selection.KFold(n_splits=10, random_state=1001)\n",
        "cv_results = model_selection.cross_val_score(clf, xtest, ytest, cv=kfold, scoring=\"neg_log_loss\")\n",
        "results.append(cv_results)\n",
        "mean_rf = cv_results.mean()\n",
        "std_rf = cv_results.std()"
      ],
      "execution_count": 129,
      "outputs": [
        {
          "output_type": "stream",
          "text": [
            "/usr/local/lib/python3.6/dist-packages/sklearn/model_selection/_split.py:296: FutureWarning: Setting a random_state has no effect since shuffle is False. This will raise an error in 0.24. You should leave random_state to its default (None), or set shuffle=True.\n",
            "  FutureWarning\n"
          ],
          "name": "stderr"
        }
      ]
    },
    {
      "cell_type": "code",
      "metadata": {
        "id": "fIsver6KLgCl",
        "colab_type": "code",
        "outputId": "d1ef3ff0-0c93-487e-fd6d-8c4b832cd438",
        "colab": {
          "base_uri": "https://localhost:8080/",
          "height": 71
        }
      },
      "source": [
        "kfold = model_selection.KFold(n_splits=10, random_state=1001)\n",
        "cv_results = model_selection.cross_val_score(clf, xtest, ytest, cv=kfold, scoring=\"neg_log_loss\")\n",
        "results.append(cv_results)\n",
        "mean_xgboost = cv_results.mean()\n",
        "std_xgboost = cv_results.std()"
      ],
      "execution_count": 130,
      "outputs": [
        {
          "output_type": "stream",
          "text": [
            "/usr/local/lib/python3.6/dist-packages/sklearn/model_selection/_split.py:296: FutureWarning: Setting a random_state has no effect since shuffle is False. This will raise an error in 0.24. You should leave random_state to its default (None), or set shuffle=True.\n",
            "  FutureWarning\n"
          ],
          "name": "stderr"
        }
      ]
    },
    {
      "cell_type": "code",
      "metadata": {
        "id": "L4ahWUb2O4YW",
        "colab_type": "code",
        "outputId": "c318d308-1819-42d0-fce6-05f5c80fea59",
        "colab": {
          "base_uri": "https://localhost:8080/",
          "height": 119
        }
      },
      "source": [
        "results"
      ],
      "execution_count": 131,
      "outputs": [
        {
          "output_type": "execute_result",
          "data": {
            "text/plain": [
              "[array([-1.13169916, -1.11815162, -1.10761499, -1.11419079, -1.11157297,\n",
              "        -1.14182506, -1.15856329, -1.15292954, -1.16718667, -1.16543695]),\n",
              " array([-0.57443684, -0.56309112, -0.6077511 , -0.58668608, -0.56582292,\n",
              "        -0.54758794, -0.58464413, -0.57269674, -0.5633686 , -0.5885895 ]),\n",
              " array([-0.58922326, -0.56137876, -0.56538738, -0.55543558, -0.56314975,\n",
              "        -0.59251593, -0.56953529, -0.57346035, -0.56738303, -0.56824524])]"
            ]
          },
          "metadata": {
            "tags": []
          },
          "execution_count": 131
        }
      ]
    },
    {
      "cell_type": "code",
      "metadata": {
        "id": "s_TeN3LHPMSz",
        "colab_type": "code",
        "colab": {}
      },
      "source": [
        "names = ['Naive Bayes', 'Random Forest', 'XGBoost']\n"
      ],
      "execution_count": 0,
      "outputs": []
    },
    {
      "cell_type": "code",
      "metadata": {
        "id": "GhQ3ihGzMIQ7",
        "colab_type": "code",
        "outputId": "d1c17943-2efc-4d07-bd05-a30e02ec88a0",
        "colab": {
          "base_uri": "https://localhost:8080/",
          "height": 386
        }
      },
      "source": [
        "fig = plt.figure()\n",
        "fig.suptitle('Algorithm Comparison')\n",
        "ax = fig.add_subplot(111)\n",
        "plt.boxplot(results)\n",
        "ax.set_xticklabels(names)\n",
        "ax.set_ylabel(\"Log-Loss\")\n",
        "plt.show()"
      ],
      "execution_count": 133,
      "outputs": [
        {
          "output_type": "display_data",
          "data": {
            "image/png": "[encoded data removed]",
            "text/plain": [
              "<Figure size 576x396 with 1 Axes>"
            ]
          },
          "metadata": {
            "tags": []
          }
        }
      ]
    }
  ]
}