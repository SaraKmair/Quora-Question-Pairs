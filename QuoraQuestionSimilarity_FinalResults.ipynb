{
  "nbformat": 4,
  "nbformat_minor": 0,
  "metadata": {
    "colab": {
      "name": "QuoraQuestionSimilarity_FinalResults.ipynb",
      "provenance": [],
      "collapsed_sections": [],
      "authorship_tag": "ABX9TyO3idf5miclQ5qdij4m/IHJ",
      "include_colab_link": true
    },
    "kernelspec": {
      "name": "python3",
      "display_name": "Python 3"
    }
  },
  "cells": [
    {
      "cell_type": "markdown",
      "metadata": {
        "id": "view-in-github",
        "colab_type": "text"
      },
      "source": [
        "<a href=\"https://colab.research.google.com/github/SaraKmair/Quora-Question-Pairs/blob/master/QuoraQuestionSimilarity_FinalResults.ipynb\" target=\"_parent\"><img src=\"https://colab.research.google.com/assets/colab-badge.svg\" alt=\"Open In Colab\"/></a>"
      ]
    },
    {
      "cell_type": "code",
      "metadata": {
        "id": "5C0EWiE841sa",
        "colab_type": "code",
        "colab": {}
      },
      "source": [
        ""
      ],
      "execution_count": 0,
      "outputs": []
    },
    {
      "cell_type": "code",
      "metadata": {
        "id": "9wSm_eSBIxFb",
        "colab_type": "code",
        "colab": {}
      },
      "source": [
        "#read the data\n",
        "df = pd.read_csv('quora_duplicate_questions.tsv', sep=\"\\t\")\n",
        "# Dataset is now stored in a Pandas Dataframe"
      ],
      "execution_count": 0,
      "outputs": []
    },
    {
      "cell_type": "markdown",
      "metadata": {
        "id": "3iJv5R1JfCo2",
        "colab_type": "text"
      },
      "source": [
        "## EDA"
      ]
    },
    {
      "cell_type": "code",
      "metadata": {
        "id": "UdQPJvZsPvmH",
        "colab_type": "code",
        "outputId": "3828bb4e-471d-484a-f118-4ba962689169",
        "colab": {
          "base_uri": "https://localhost:8080/",
          "height": 204
        }
      },
      "source": [
        "df.head()"
      ],
      "execution_count": 0,
      "outputs": [
        {
          "output_type": "execute_result",
          "data": {
            "text/html": [
              "<div>\n",
              "<style scoped>\n",
              "    .dataframe tbody tr th:only-of-type {\n",
              "        vertical-align: middle;\n",
              "    }\n",
              "\n",
              "    .dataframe tbody tr th {\n",
              "        vertical-align: top;\n",
              "    }\n",
              "\n",
              "    .dataframe thead th {\n",
              "        text-align: right;\n",
              "    }\n",
              "</style>\n",
              "<table border=\"1\" class=\"dataframe\">\n",
              "  <thead>\n",
              "    <tr style=\"text-align: right;\">\n",
              "      <th></th>\n",
              "      <th>id</th>\n",
              "      <th>qid1</th>\n",
              "      <th>qid2</th>\n",
              "      <th>question1</th>\n",
              "      <th>question2</th>\n",
              "      <th>is_duplicate</th>\n",
              "    </tr>\n",
              "  </thead>\n",
              "  <tbody>\n",
              "    <tr>\n",
              "      <th>0</th>\n",
              "      <td>0</td>\n",
              "      <td>1</td>\n",
              "      <td>2</td>\n",
              "      <td>What is the step by step guide to invest in sh...</td>\n",
              "      <td>What is the step by step guide to invest in sh...</td>\n",
              "      <td>0</td>\n",
              "    </tr>\n",
              "    <tr>\n",
              "      <th>1</th>\n",
              "      <td>1</td>\n",
              "      <td>3</td>\n",
              "      <td>4</td>\n",
              "      <td>What is the story of Kohinoor (Koh-i-Noor) Dia...</td>\n",
              "      <td>What would happen if the Indian government sto...</td>\n",
              "      <td>0</td>\n",
              "    </tr>\n",
              "    <tr>\n",
              "      <th>2</th>\n",
              "      <td>2</td>\n",
              "      <td>5</td>\n",
              "      <td>6</td>\n",
              "      <td>How can I increase the speed of my internet co...</td>\n",
              "      <td>How can Internet speed be increased by hacking...</td>\n",
              "      <td>0</td>\n",
              "    </tr>\n",
              "    <tr>\n",
              "      <th>3</th>\n",
              "      <td>3</td>\n",
              "      <td>7</td>\n",
              "      <td>8</td>\n",
              "      <td>Why am I mentally very lonely? How can I solve...</td>\n",
              "      <td>Find the remainder when [math]23^{24}[/math] i...</td>\n",
              "      <td>0</td>\n",
              "    </tr>\n",
              "    <tr>\n",
              "      <th>4</th>\n",
              "      <td>4</td>\n",
              "      <td>9</td>\n",
              "      <td>10</td>\n",
              "      <td>Which one dissolve in water quikly sugar, salt...</td>\n",
              "      <td>Which fish would survive in salt water?</td>\n",
              "      <td>0</td>\n",
              "    </tr>\n",
              "  </tbody>\n",
              "</table>\n",
              "</div>"
            ],
            "text/plain": [
              "   id  qid1  ...                                          question2 is_duplicate\n",
              "0   0     1  ...  What is the step by step guide to invest in sh...            0\n",
              "1   1     3  ...  What would happen if the Indian government sto...            0\n",
              "2   2     5  ...  How can Internet speed be increased by hacking...            0\n",
              "3   3     7  ...  Find the remainder when [math]23^{24}[/math] i...            0\n",
              "4   4     9  ...            Which fish would survive in salt water?            0\n",
              "\n",
              "[5 rows x 6 columns]"
            ]
          },
          "metadata": {
            "tags": []
          },
          "execution_count": 6
        }
      ]
    },
    {
      "cell_type": "code",
      "metadata": {
        "id": "GNDT9JkdPxgk",
        "colab_type": "code",
        "outputId": "baf95dff-253e-42d9-db6c-70d2baf3286a",
        "colab": {
          "base_uri": "https://localhost:8080/",
          "height": 51
        }
      },
      "source": [
        "#importing the libraries \n",
        "import pandas as pd #for data handeling \n",
        "import numpy as np \n",
        "import re #for regular expression \n",
        "import string \n",
        "import seaborn as sns\n",
        "import nltk #natural language tool kit \n",
        "from sklearn.feature_extraction.text import TfidfVectorizer\n",
        "import matplotlib.pyplot as plt\n",
        "from nltk import sent_tokenize, word_tokenize\n",
        "from nltk import corpus\n",
        "from nltk.stem import SnowballStemmer\n",
        "import difflib\n",
        "from sklearn.model_selection import train_test_split\n",
        "from sklearn.feature_extraction.text import TfidfVectorizer"
      ],
      "execution_count": 0,
      "outputs": [
        {
          "output_type": "stream",
          "text": [
            "/usr/local/lib/python3.6/dist-packages/statsmodels/tools/_testing.py:19: FutureWarning: pandas.util.testing is deprecated. Use the functions in the public API at pandas.testing instead.\n",
            "  import pandas.util.testing as tm\n"
          ],
          "name": "stderr"
        }
      ]
    },
    {
      "cell_type": "code",
      "metadata": {
        "id": "jwQEpsNTQ4Lv",
        "colab_type": "code",
        "outputId": "a9fe4f58-7fec-411c-ffa4-e97e7fec9b06",
        "colab": {
          "base_uri": "https://localhost:8080/",
          "height": 34
        }
      },
      "source": [
        "df.shape"
      ],
      "execution_count": 0,
      "outputs": [
        {
          "output_type": "execute_result",
          "data": {
            "text/plain": [
              "(404290, 6)"
            ]
          },
          "metadata": {
            "tags": []
          },
          "execution_count": 8
        }
      ]
    },
    {
      "cell_type": "code",
      "metadata": {
        "id": "CYLihY5NQ9RR",
        "colab_type": "code",
        "outputId": "71b27af0-f2cc-479d-85d7-3ffdbf11ddd5",
        "colab": {
          "base_uri": "https://localhost:8080/",
          "height": 136
        }
      },
      "source": [
        "df.dtypes"
      ],
      "execution_count": 0,
      "outputs": [
        {
          "output_type": "execute_result",
          "data": {
            "text/plain": [
              "id               int64\n",
              "qid1             int64\n",
              "qid2             int64\n",
              "question1       object\n",
              "question2       object\n",
              "is_duplicate     int64\n",
              "dtype: object"
            ]
          },
          "metadata": {
            "tags": []
          },
          "execution_count": 9
        }
      ]
    },
    {
      "cell_type": "code",
      "metadata": {
        "id": "dgQR4_wTUhM5",
        "colab_type": "code",
        "outputId": "c8e1d5af-8c82-4551-c1d3-bdc586939f1e",
        "colab": {
          "base_uri": "https://localhost:8080/",
          "height": 136
        }
      },
      "source": [
        "#checking for Null values \n",
        "df.isnull().sum()"
      ],
      "execution_count": 0,
      "outputs": [
        {
          "output_type": "execute_result",
          "data": {
            "text/plain": [
              "id              0\n",
              "qid1            0\n",
              "qid2            0\n",
              "question1       1\n",
              "question2       2\n",
              "is_duplicate    0\n",
              "dtype: int64"
            ]
          },
          "metadata": {
            "tags": []
          },
          "execution_count": 10
        }
      ]
    },
    {
      "cell_type": "code",
      "metadata": {
        "id": "Rj7d329oQ_ZC",
        "colab_type": "code",
        "colab": {}
      },
      "source": [
        "#remove the missing values \n",
        "df = df.dropna().reset_index(drop = True)\n",
        "df.isnull().sum()\n",
        "#renaming is_duplicate column\n",
        "df.rename(columns = {'is_duplicate': 'label'}, inplace = True)"
      ],
      "execution_count": 0,
      "outputs": []
    },
    {
      "cell_type": "code",
      "metadata": {
        "id": "RTmEabBcRU5S",
        "colab_type": "code",
        "outputId": "666aefa5-9a73-4a84-f283-d42a71bd0927",
        "colab": {
          "base_uri": "https://localhost:8080/",
          "height": 68
        }
      },
      "source": [
        "#check data balance \n",
        "(df['label'].value_counts() /len(df.label))*100"
      ],
      "execution_count": 0,
      "outputs": [
        {
          "output_type": "execute_result",
          "data": {
            "text/plain": [
              "0    63.079941\n",
              "1    36.920059\n",
              "Name: label, dtype: float64"
            ]
          },
          "metadata": {
            "tags": []
          },
          "execution_count": 12
        }
      ]
    },
    {
      "cell_type": "markdown",
      "metadata": {
        "id": "6kkLlMCnRbf6",
        "colab_type": "text"
      },
      "source": [
        "63% is non-duplicate questions <br />\n",
        "36.9% is duplicate questions"
      ]
    },
    {
      "cell_type": "code",
      "metadata": {
        "id": "QLoQkHlARcKn",
        "colab_type": "code",
        "outputId": "c29896df-9861-43db-96d8-5cb66511cf09",
        "colab": {
          "base_uri": "https://localhost:8080/",
          "height": 204
        }
      },
      "source": [
        "#exmple of duplicate questions\n",
        "\n",
        "df.loc[df['label'] == 1].head()"
      ],
      "execution_count": 0,
      "outputs": [
        {
          "output_type": "execute_result",
          "data": {
            "text/html": [
              "<div>\n",
              "<style scoped>\n",
              "    .dataframe tbody tr th:only-of-type {\n",
              "        vertical-align: middle;\n",
              "    }\n",
              "\n",
              "    .dataframe tbody tr th {\n",
              "        vertical-align: top;\n",
              "    }\n",
              "\n",
              "    .dataframe thead th {\n",
              "        text-align: right;\n",
              "    }\n",
              "</style>\n",
              "<table border=\"1\" class=\"dataframe\">\n",
              "  <thead>\n",
              "    <tr style=\"text-align: right;\">\n",
              "      <th></th>\n",
              "      <th>id</th>\n",
              "      <th>qid1</th>\n",
              "      <th>qid2</th>\n",
              "      <th>question1</th>\n",
              "      <th>question2</th>\n",
              "      <th>label</th>\n",
              "    </tr>\n",
              "  </thead>\n",
              "  <tbody>\n",
              "    <tr>\n",
              "      <th>5</th>\n",
              "      <td>5</td>\n",
              "      <td>11</td>\n",
              "      <td>12</td>\n",
              "      <td>Astrology: I am a Capricorn Sun Cap moon and c...</td>\n",
              "      <td>I'm a triple Capricorn (Sun, Moon and ascendan...</td>\n",
              "      <td>1</td>\n",
              "    </tr>\n",
              "    <tr>\n",
              "      <th>7</th>\n",
              "      <td>7</td>\n",
              "      <td>15</td>\n",
              "      <td>16</td>\n",
              "      <td>How can I be a good geologist?</td>\n",
              "      <td>What should I do to be a great geologist?</td>\n",
              "      <td>1</td>\n",
              "    </tr>\n",
              "    <tr>\n",
              "      <th>11</th>\n",
              "      <td>11</td>\n",
              "      <td>23</td>\n",
              "      <td>24</td>\n",
              "      <td>How do I read and find my YouTube comments?</td>\n",
              "      <td>How can I see all my Youtube comments?</td>\n",
              "      <td>1</td>\n",
              "    </tr>\n",
              "    <tr>\n",
              "      <th>12</th>\n",
              "      <td>12</td>\n",
              "      <td>25</td>\n",
              "      <td>26</td>\n",
              "      <td>What can make Physics easy to learn?</td>\n",
              "      <td>How can you make physics easy to learn?</td>\n",
              "      <td>1</td>\n",
              "    </tr>\n",
              "    <tr>\n",
              "      <th>13</th>\n",
              "      <td>13</td>\n",
              "      <td>27</td>\n",
              "      <td>28</td>\n",
              "      <td>What was your first sexual experience like?</td>\n",
              "      <td>What was your first sexual experience?</td>\n",
              "      <td>1</td>\n",
              "    </tr>\n",
              "  </tbody>\n",
              "</table>\n",
              "</div>"
            ],
            "text/plain": [
              "    id  qid1  ...                                          question2 label\n",
              "5    5    11  ...  I'm a triple Capricorn (Sun, Moon and ascendan...     1\n",
              "7    7    15  ...          What should I do to be a great geologist?     1\n",
              "11  11    23  ...             How can I see all my Youtube comments?     1\n",
              "12  12    25  ...            How can you make physics easy to learn?     1\n",
              "13  13    27  ...             What was your first sexual experience?     1\n",
              "\n",
              "[5 rows x 6 columns]"
            ]
          },
          "metadata": {
            "tags": []
          },
          "execution_count": 13
        }
      ]
    },
    {
      "cell_type": "code",
      "metadata": {
        "id": "dDss-lxbRgRf",
        "colab_type": "code",
        "outputId": "3268732a-de19-401d-dbc7-748bdb69ac04",
        "colab": {
          "base_uri": "https://localhost:8080/",
          "height": 204
        }
      },
      "source": [
        "#exmple of non duplicate questions\n",
        "\n",
        "df.loc[df['label'] == 0].head()"
      ],
      "execution_count": 0,
      "outputs": [
        {
          "output_type": "execute_result",
          "data": {
            "text/html": [
              "<div>\n",
              "<style scoped>\n",
              "    .dataframe tbody tr th:only-of-type {\n",
              "        vertical-align: middle;\n",
              "    }\n",
              "\n",
              "    .dataframe tbody tr th {\n",
              "        vertical-align: top;\n",
              "    }\n",
              "\n",
              "    .dataframe thead th {\n",
              "        text-align: right;\n",
              "    }\n",
              "</style>\n",
              "<table border=\"1\" class=\"dataframe\">\n",
              "  <thead>\n",
              "    <tr style=\"text-align: right;\">\n",
              "      <th></th>\n",
              "      <th>id</th>\n",
              "      <th>qid1</th>\n",
              "      <th>qid2</th>\n",
              "      <th>question1</th>\n",
              "      <th>question2</th>\n",
              "      <th>label</th>\n",
              "    </tr>\n",
              "  </thead>\n",
              "  <tbody>\n",
              "    <tr>\n",
              "      <th>0</th>\n",
              "      <td>0</td>\n",
              "      <td>1</td>\n",
              "      <td>2</td>\n",
              "      <td>What is the step by step guide to invest in sh...</td>\n",
              "      <td>What is the step by step guide to invest in sh...</td>\n",
              "      <td>0</td>\n",
              "    </tr>\n",
              "    <tr>\n",
              "      <th>1</th>\n",
              "      <td>1</td>\n",
              "      <td>3</td>\n",
              "      <td>4</td>\n",
              "      <td>What is the story of Kohinoor (Koh-i-Noor) Dia...</td>\n",
              "      <td>What would happen if the Indian government sto...</td>\n",
              "      <td>0</td>\n",
              "    </tr>\n",
              "    <tr>\n",
              "      <th>2</th>\n",
              "      <td>2</td>\n",
              "      <td>5</td>\n",
              "      <td>6</td>\n",
              "      <td>How can I increase the speed of my internet co...</td>\n",
              "      <td>How can Internet speed be increased by hacking...</td>\n",
              "      <td>0</td>\n",
              "    </tr>\n",
              "    <tr>\n",
              "      <th>3</th>\n",
              "      <td>3</td>\n",
              "      <td>7</td>\n",
              "      <td>8</td>\n",
              "      <td>Why am I mentally very lonely? How can I solve...</td>\n",
              "      <td>Find the remainder when [math]23^{24}[/math] i...</td>\n",
              "      <td>0</td>\n",
              "    </tr>\n",
              "    <tr>\n",
              "      <th>4</th>\n",
              "      <td>4</td>\n",
              "      <td>9</td>\n",
              "      <td>10</td>\n",
              "      <td>Which one dissolve in water quikly sugar, salt...</td>\n",
              "      <td>Which fish would survive in salt water?</td>\n",
              "      <td>0</td>\n",
              "    </tr>\n",
              "  </tbody>\n",
              "</table>\n",
              "</div>"
            ],
            "text/plain": [
              "   id  qid1  ...                                          question2 label\n",
              "0   0     1  ...  What is the step by step guide to invest in sh...     0\n",
              "1   1     3  ...  What would happen if the Indian government sto...     0\n",
              "2   2     5  ...  How can Internet speed be increased by hacking...     0\n",
              "3   3     7  ...  Find the remainder when [math]23^{24}[/math] i...     0\n",
              "4   4     9  ...            Which fish would survive in salt water?     0\n",
              "\n",
              "[5 rows x 6 columns]"
            ]
          },
          "metadata": {
            "tags": []
          },
          "execution_count": 14
        }
      ]
    },
    {
      "cell_type": "code",
      "metadata": {
        "id": "M0JbPR8sRnlQ",
        "colab_type": "code",
        "colab": {}
      },
      "source": [
        "\n"
      ],
      "execution_count": 0,
      "outputs": []
    },
    {
      "cell_type": "markdown",
      "metadata": {
        "id": "XlnUwJwTRqqu",
        "colab_type": "text"
      },
      "source": [
        "\n",
        "**Word Count in each question**"
      ]
    },
    {
      "cell_type": "code",
      "metadata": {
        "id": "Z5uxMnzvRsWr",
        "colab_type": "code",
        "outputId": "4c776868-316f-4a18-da9e-8ff3ec2e1fe4",
        "colab": {
          "base_uri": "https://localhost:8080/",
          "height": 204
        }
      },
      "source": [
        "#word count in each question \n",
        "df['count1'] = df['question1'].str.count(' ') + 1\n",
        "df['count2'] = df['question2'].str.count(' ') + 1\n",
        "df.head()"
      ],
      "execution_count": 0,
      "outputs": [
        {
          "output_type": "execute_result",
          "data": {
            "text/html": [
              "<div>\n",
              "<style scoped>\n",
              "    .dataframe tbody tr th:only-of-type {\n",
              "        vertical-align: middle;\n",
              "    }\n",
              "\n",
              "    .dataframe tbody tr th {\n",
              "        vertical-align: top;\n",
              "    }\n",
              "\n",
              "    .dataframe thead th {\n",
              "        text-align: right;\n",
              "    }\n",
              "</style>\n",
              "<table border=\"1\" class=\"dataframe\">\n",
              "  <thead>\n",
              "    <tr style=\"text-align: right;\">\n",
              "      <th></th>\n",
              "      <th>id</th>\n",
              "      <th>qid1</th>\n",
              "      <th>qid2</th>\n",
              "      <th>question1</th>\n",
              "      <th>question2</th>\n",
              "      <th>label</th>\n",
              "      <th>count1</th>\n",
              "      <th>count2</th>\n",
              "    </tr>\n",
              "  </thead>\n",
              "  <tbody>\n",
              "    <tr>\n",
              "      <th>0</th>\n",
              "      <td>0</td>\n",
              "      <td>1</td>\n",
              "      <td>2</td>\n",
              "      <td>What is the step by step guide to invest in sh...</td>\n",
              "      <td>What is the step by step guide to invest in sh...</td>\n",
              "      <td>0</td>\n",
              "      <td>14</td>\n",
              "      <td>12</td>\n",
              "    </tr>\n",
              "    <tr>\n",
              "      <th>1</th>\n",
              "      <td>1</td>\n",
              "      <td>3</td>\n",
              "      <td>4</td>\n",
              "      <td>What is the story of Kohinoor (Koh-i-Noor) Dia...</td>\n",
              "      <td>What would happen if the Indian government sto...</td>\n",
              "      <td>0</td>\n",
              "      <td>8</td>\n",
              "      <td>13</td>\n",
              "    </tr>\n",
              "    <tr>\n",
              "      <th>2</th>\n",
              "      <td>2</td>\n",
              "      <td>5</td>\n",
              "      <td>6</td>\n",
              "      <td>How can I increase the speed of my internet co...</td>\n",
              "      <td>How can Internet speed be increased by hacking...</td>\n",
              "      <td>0</td>\n",
              "      <td>14</td>\n",
              "      <td>10</td>\n",
              "    </tr>\n",
              "    <tr>\n",
              "      <th>3</th>\n",
              "      <td>3</td>\n",
              "      <td>7</td>\n",
              "      <td>8</td>\n",
              "      <td>Why am I mentally very lonely? How can I solve...</td>\n",
              "      <td>Find the remainder when [math]23^{24}[/math] i...</td>\n",
              "      <td>0</td>\n",
              "      <td>11</td>\n",
              "      <td>9</td>\n",
              "    </tr>\n",
              "    <tr>\n",
              "      <th>4</th>\n",
              "      <td>4</td>\n",
              "      <td>9</td>\n",
              "      <td>10</td>\n",
              "      <td>Which one dissolve in water quikly sugar, salt...</td>\n",
              "      <td>Which fish would survive in salt water?</td>\n",
              "      <td>0</td>\n",
              "      <td>13</td>\n",
              "      <td>7</td>\n",
              "    </tr>\n",
              "  </tbody>\n",
              "</table>\n",
              "</div>"
            ],
            "text/plain": [
              "   id  qid1  qid2  ... label count1  count2\n",
              "0   0     1     2  ...     0     14      12\n",
              "1   1     3     4  ...     0      8      13\n",
              "2   2     5     6  ...     0     14      10\n",
              "3   3     7     8  ...     0     11       9\n",
              "4   4     9    10  ...     0     13       7\n",
              "\n",
              "[5 rows x 8 columns]"
            ]
          },
          "metadata": {
            "tags": []
          },
          "execution_count": 15
        }
      ]
    },
    {
      "cell_type": "code",
      "metadata": {
        "id": "U-8BuAM2-OgX",
        "colab_type": "code",
        "outputId": "6b098b6a-dde9-4596-f54a-1ddb6bb79a1f",
        "colab": {
          "base_uri": "https://localhost:8080/",
          "height": 34
        }
      },
      "source": [
        "#check the percentage of questions that are longer than 50 words \n",
        "(df[df['count2'] > 50 ].shape[0] / len(df.count2))*100"
      ],
      "execution_count": 0,
      "outputs": [
        {
          "output_type": "execute_result",
          "data": {
            "text/plain": [
              "0.18427503234088655"
            ]
          },
          "metadata": {
            "tags": []
          },
          "execution_count": 16
        }
      ]
    },
    {
      "cell_type": "code",
      "metadata": {
        "id": "l0qNmr1BV9vL",
        "colab_type": "code",
        "outputId": "2d41a0a3-b9f8-47a9-bf74-d4f9515133e4",
        "colab": {
          "base_uri": "https://localhost:8080/",
          "height": 34
        }
      },
      "source": [
        "#get the percentage of the data that has questions longer than 50 words\n",
        "(df[df['count1'] > 50 ].shape[0] / len(df.count1))*100"
      ],
      "execution_count": 0,
      "outputs": [
        {
          "output_type": "execute_result",
          "data": {
            "text/plain": [
              "0.04699631697284355"
            ]
          },
          "metadata": {
            "tags": []
          },
          "execution_count": 17
        }
      ]
    },
    {
      "cell_type": "code",
      "metadata": {
        "id": "Zg3vH4c0alb1",
        "colab_type": "code",
        "outputId": "3ae0ec37-d092-41b4-a953-7be0211aab54",
        "colab": {
          "base_uri": "https://localhost:8080/",
          "height": 419
        }
      },
      "source": [
        "#show questions that are longer than 50 words\n",
        "df[df['count2']> 50 ]"
      ],
      "execution_count": 0,
      "outputs": [
        {
          "output_type": "execute_result",
          "data": {
            "text/html": [
              "<div>\n",
              "<style scoped>\n",
              "    .dataframe tbody tr th:only-of-type {\n",
              "        vertical-align: middle;\n",
              "    }\n",
              "\n",
              "    .dataframe tbody tr th {\n",
              "        vertical-align: top;\n",
              "    }\n",
              "\n",
              "    .dataframe thead th {\n",
              "        text-align: right;\n",
              "    }\n",
              "</style>\n",
              "<table border=\"1\" class=\"dataframe\">\n",
              "  <thead>\n",
              "    <tr style=\"text-align: right;\">\n",
              "      <th></th>\n",
              "      <th>id</th>\n",
              "      <th>qid1</th>\n",
              "      <th>qid2</th>\n",
              "      <th>question1</th>\n",
              "      <th>question2</th>\n",
              "      <th>label</th>\n",
              "      <th>count1</th>\n",
              "      <th>count2</th>\n",
              "    </tr>\n",
              "  </thead>\n",
              "  <tbody>\n",
              "    <tr>\n",
              "      <th>1671</th>\n",
              "      <td>1671</td>\n",
              "      <td>3327</td>\n",
              "      <td>3328</td>\n",
              "      <td>What are some interesting differences between ...</td>\n",
              "      <td>Is it weird for a 'hearing' person with no dea...</td>\n",
              "      <td>0</td>\n",
              "      <td>13</td>\n",
              "      <td>53</td>\n",
              "    </tr>\n",
              "    <tr>\n",
              "      <th>2395</th>\n",
              "      <td>2395</td>\n",
              "      <td>4761</td>\n",
              "      <td>4762</td>\n",
              "      <td>I emailed my interviewer after the technical i...</td>\n",
              "      <td>I have applied for the Thought Works company t...</td>\n",
              "      <td>0</td>\n",
              "      <td>22</td>\n",
              "      <td>52</td>\n",
              "    </tr>\n",
              "    <tr>\n",
              "      <th>2580</th>\n",
              "      <td>2580</td>\n",
              "      <td>5126</td>\n",
              "      <td>5127</td>\n",
              "      <td>Is it a good idea for a CEO to take personal c...</td>\n",
              "      <td>A person I know has an idea for a mobile appli...</td>\n",
              "      <td>0</td>\n",
              "      <td>28</td>\n",
              "      <td>58</td>\n",
              "    </tr>\n",
              "    <tr>\n",
              "      <th>2632</th>\n",
              "      <td>2632</td>\n",
              "      <td>5230</td>\n",
              "      <td>5231</td>\n",
              "      <td>I have done a diploma in mechanical engineerin...</td>\n",
              "      <td>I have completed a 1-year diploma in fashion d...</td>\n",
              "      <td>0</td>\n",
              "      <td>22</td>\n",
              "      <td>54</td>\n",
              "    </tr>\n",
              "    <tr>\n",
              "      <th>2702</th>\n",
              "      <td>2702</td>\n",
              "      <td>76</td>\n",
              "      <td>5366</td>\n",
              "      <td>My girlfriend said that we should end this bec...</td>\n",
              "      <td>After 2 years being in a relationship my girlf...</td>\n",
              "      <td>0</td>\n",
              "      <td>37</td>\n",
              "      <td>51</td>\n",
              "    </tr>\n",
              "    <tr>\n",
              "      <th>...</th>\n",
              "      <td>...</td>\n",
              "      <td>...</td>\n",
              "      <td>...</td>\n",
              "      <td>...</td>\n",
              "      <td>...</td>\n",
              "      <td>...</td>\n",
              "      <td>...</td>\n",
              "      <td>...</td>\n",
              "    </tr>\n",
              "    <tr>\n",
              "      <th>402651</th>\n",
              "      <td>402654</td>\n",
              "      <td>536154</td>\n",
              "      <td>536155</td>\n",
              "      <td>Solve this for all masterminds !!             ...</td>\n",
              "      <td>Solve this for all masterkminds!!             ...</td>\n",
              "      <td>0</td>\n",
              "      <td>65</td>\n",
              "      <td>55</td>\n",
              "    </tr>\n",
              "    <tr>\n",
              "      <th>403753</th>\n",
              "      <td>403756</td>\n",
              "      <td>427820</td>\n",
              "      <td>537352</td>\n",
              "      <td>I was fired from my job and my boss didn't giv...</td>\n",
              "      <td>I got fired from my job and today I found out ...</td>\n",
              "      <td>0</td>\n",
              "      <td>32</td>\n",
              "      <td>51</td>\n",
              "    </tr>\n",
              "    <tr>\n",
              "      <th>403853</th>\n",
              "      <td>403856</td>\n",
              "      <td>537475</td>\n",
              "      <td>537476</td>\n",
              "      <td>My 10-year-old son is so lazy and irresponsibl...</td>\n",
              "      <td>My Son, 7 years old, walked into my room cryin...</td>\n",
              "      <td>0</td>\n",
              "      <td>14</td>\n",
              "      <td>53</td>\n",
              "    </tr>\n",
              "    <tr>\n",
              "      <th>404061</th>\n",
              "      <td>404064</td>\n",
              "      <td>537695</td>\n",
              "      <td>537696</td>\n",
              "      <td>Are cookies stored on my device even if I have...</td>\n",
              "      <td>I have 10 years of experience in human resourc...</td>\n",
              "      <td>0</td>\n",
              "      <td>25</td>\n",
              "      <td>60</td>\n",
              "    </tr>\n",
              "    <tr>\n",
              "      <th>404066</th>\n",
              "      <td>404069</td>\n",
              "      <td>176271</td>\n",
              "      <td>537702</td>\n",
              "      <td>My computer isn't working any more. How can I ...</td>\n",
              "      <td>Whole fight card for UFC on Fuel TV 9, 6th Apr...</td>\n",
              "      <td>0</td>\n",
              "      <td>17</td>\n",
              "      <td>134</td>\n",
              "    </tr>\n",
              "  </tbody>\n",
              "</table>\n",
              "<p>745 rows × 8 columns</p>\n",
              "</div>"
            ],
            "text/plain": [
              "            id    qid1    qid2  ... label count1  count2\n",
              "1671      1671    3327    3328  ...     0     13      53\n",
              "2395      2395    4761    4762  ...     0     22      52\n",
              "2580      2580    5126    5127  ...     0     28      58\n",
              "2632      2632    5230    5231  ...     0     22      54\n",
              "2702      2702      76    5366  ...     0     37      51\n",
              "...        ...     ...     ...  ...   ...    ...     ...\n",
              "402651  402654  536154  536155  ...     0     65      55\n",
              "403753  403756  427820  537352  ...     0     32      51\n",
              "403853  403856  537475  537476  ...     0     14      53\n",
              "404061  404064  537695  537696  ...     0     25      60\n",
              "404066  404069  176271  537702  ...     0     17     134\n",
              "\n",
              "[745 rows x 8 columns]"
            ]
          },
          "metadata": {
            "tags": []
          },
          "execution_count": 18
        }
      ]
    },
    {
      "cell_type": "markdown",
      "metadata": {
        "id": "QyZA9k7oV-PO",
        "colab_type": "text"
      },
      "source": [
        "**Common Words**"
      ]
    },
    {
      "cell_type": "code",
      "metadata": {
        "id": "9Q_mX0AEV7Cl",
        "colab_type": "code",
        "colab": {}
      },
      "source": [
        "#check top 50 common words \n",
        "freq1 = pd.Series(' '.join(df['question1']).split()).value_counts()[:50]\n",
        "freq2 = pd.Series(' '.join(df['question2']).split()).value_counts()[:50]"
      ],
      "execution_count": 0,
      "outputs": []
    },
    {
      "cell_type": "code",
      "metadata": {
        "id": "no_5hC7k7WXT",
        "colab_type": "code",
        "colab": {}
      },
      "source": [
        "question1 = list(df['question1'])\n",
        "question2 = list(df['question2'])"
      ],
      "execution_count": 0,
      "outputs": []
    },
    {
      "cell_type": "code",
      "metadata": {
        "id": "BHvLSxFMRvQP",
        "colab_type": "code",
        "outputId": "75f2892c-1fad-4e44-e380-0178c4e537bb",
        "colab": {
          "base_uri": "https://localhost:8080/",
          "height": 51
        }
      },
      "source": [
        "#check the percent of invalid questions \n",
        "#check for invalid questions \n",
        "invalid_questions = []\n",
        "for i in range(len(question1)):\n",
        "    # questions need to contain a vowel to be valid \n",
        "    if not re.search('[aeiouy]', question1[i]) or not re.search('[aeiouy]', question2[i]):\n",
        "    # check length the invalid questions to remove them\n",
        "        invalid_questions.append(i-len(invalid_questions))\n",
        "print(len(invalid_questions))\n",
        "len(invalid_questions)/len(question1) "
      ],
      "execution_count": 0,
      "outputs": [
        {
          "output_type": "stream",
          "text": [
            "172\n"
          ],
          "name": "stdout"
        },
        {
          "output_type": "execute_result",
          "data": {
            "text/plain": [
              "0.0004254403431225837"
            ]
          },
          "metadata": {
            "tags": []
          },
          "execution_count": 21
        }
      ]
    },
    {
      "cell_type": "markdown",
      "metadata": {
        "id": "T2TbU_eoRxVG",
        "colab_type": "text"
      },
      "source": [
        "\n",
        "## DataVisualization"
      ]
    },
    {
      "cell_type": "code",
      "metadata": {
        "id": "wiuZYXSWRybZ",
        "colab_type": "code",
        "outputId": "cf66e19e-a46e-4a83-ddf8-58356e4761cd",
        "colab": {
          "base_uri": "https://localhost:8080/",
          "height": 857
        }
      },
      "source": [
        "#Histogram of word count 1 & 2\n",
        "#distribution of wordcount for question 1 \n",
        "\n",
        "sns.set()\n",
        "bin_edges = [0,5,20,25,20,25,30,35,40,45,50]\n",
        "_ = plt.hist(df['count1'], bins=range(min(df['count1']), max(df['count1']) + 5, 5))\n",
        "_ = plt.xlabel('word count')\n",
        "_ = plt.ylabel('Frequency')\n",
        "plt.title('histogram of word count in question1',fontsize=15)\n",
        "plt.xlim(min(bin_edges), max(bin_edges))\n",
        "plt.show()\n",
        "\n",
        "#distribution of wordcount for question 2\n",
        "sns.set()\n",
        "bin_edges = [0,5,20,25,20,25,30,35,40,45,50]\n",
        "_ = plt.hist(df['count2'], bins=range(min(df['count2']), max(df['count2']) + 5, 5))\n",
        "_ = plt.xlabel('word count')\n",
        "_ = plt.ylabel('Frequency ')\n",
        "plt.title('histogram of word count in question2',fontsize=15)\n",
        "plt.xlim(min(bin_edges), max(bin_edges))\n",
        "\n",
        "plt.show()\n",
        "\n",
        "#label count \n",
        "sns.countplot(x = 'label', data = df, palette = 'hls')\n",
        "plt.show()\n",
        "\n"
      ],
      "execution_count": 0,
      "outputs": [
        {
          "output_type": "display_data",
          "data": {
            "image/png": "[encoded data removed]",
            "text/plain": [
              "<Figure size 432x288 with 1 Axes>"
            ]
          },
          "metadata": {
            "tags": []
          }
        },
        {
          "output_type": "display_data",
          "data": {
            "image/png": "[encoded data removed]",
            "text/plain": [
              "<Figure size 432x288 with 1 Axes>"
            ]
          },
          "metadata": {
            "tags": []
          }
        },
        {
          "output_type": "display_data",
          "data": {
            "image/png": "[encoded data removed]",
            "text/plain": [
              "<Figure size 432x288 with 1 Axes>"
            ]
          },
          "metadata": {
            "tags": []
          }
        }
      ]
    },
    {
      "cell_type": "code",
      "metadata": {
        "id": "9dsroRI2m4Qo",
        "colab_type": "code",
        "outputId": "4f7fc4b7-6701-4ffb-aa7b-949d5d7deecc",
        "colab": {
          "base_uri": "https://localhost:8080/",
          "height": 248
        }
      },
      "source": [
        "#plot wordcloud for the most frequent words in question1 //this plot will exclude stop_words\n",
        "from wordcloud import WordCloud \n",
        "freq1_letters = re.sub(\"[^a-zA-Z]\",  # Search for all non-letters\n",
        "                          \" \",          # Replace all non-letters with spaces as word cloud accept string only \n",
        "                          str(question1))\n",
        "wordcloud=WordCloud(background_color='white',mode=\"RGB\", width=3000 , height=2000, max_words= 40, min_font_size=15).generate(freq1_letters) \n",
        "plt.figure()\n",
        "plt.imshow(wordcloud, interpolation=\"bilinear\")\n",
        "plt.axis(\"off\")\n",
        "plt.show()"
      ],
      "execution_count": 0,
      "outputs": [
        {
          "output_type": "display_data",
          "data": {
            "image/png": "[encoded data removed]",
            "text/plain": [
              "<Figure size 432x288 with 1 Axes>"
            ]
          },
          "metadata": {
            "tags": []
          }
        }
      ]
    },
    {
      "cell_type": "code",
      "metadata": {
        "id": "nPXJc7i9R4b5",
        "colab_type": "code",
        "outputId": "b13712ec-1368-47d0-e499-8c2e4dbf2a78",
        "colab": {
          "base_uri": "https://localhost:8080/",
          "height": 198
        }
      },
      "source": [
        "freq2_letters = re.sub(\"[^a-zA-Z]\",  # Search for all non-letters\n",
        "                          \" \",          # Replace all non-letters with spaces as word cloud accept string only \n",
        "                          str(question2))\n",
        "wordcloud=WordCloud(background_color='white',mode=\"RGB\", width=2000 , height=1000, max_words= 40, min_font_size=15).generate(freq2_letters) \n",
        "plt.figure()\n",
        "plt.imshow(wordcloud, interpolation=\"bilinear\")\n",
        "plt.axis(\"off\")\n",
        "plt.show()\n"
      ],
      "execution_count": 0,
      "outputs": [
        {
          "output_type": "display_data",
          "data": {
            "image/png": "[encoded data removed]",
            "text/plain": [
              "<Figure size 432x288 with 1 Axes>"
            ]
          },
          "metadata": {
            "tags": []
          }
        }
      ]
    },
    {
      "cell_type": "code",
      "metadata": {
        "id": "UBVJC4YIHH1_",
        "colab_type": "code",
        "colab": {}
      },
      "source": [
        "#change data type in count1 and count2 into integer \n",
        "df['count1'] = df['count1'].astype(int)\n",
        "df['count2'] = df['count2'].astype(int)"
      ],
      "execution_count": 0,
      "outputs": []
    },
    {
      "cell_type": "code",
      "metadata": {
        "id": "_HtneNYYVtSq",
        "colab_type": "code",
        "colab": {}
      },
      "source": [
        ""
      ],
      "execution_count": 0,
      "outputs": []
    },
    {
      "cell_type": "markdown",
      "metadata": {
        "id": "BUvjiXK5VvdW",
        "colab_type": "text"
      },
      "source": [
        "**the number of character**"
      ]
    },
    {
      "cell_type": "code",
      "metadata": {
        "id": "GvOAoiniM1-U",
        "colab_type": "code",
        "colab": {}
      },
      "source": [
        "df['char_count1']= df['question1'].str.len() ## this also includes spaces\n",
        "df['char_count2']= df['question2'].str.len() ## this also includes spaces"
      ],
      "execution_count": 0,
      "outputs": []
    },
    {
      "cell_type": "markdown",
      "metadata": {
        "id": "WNoTDd7IM6SH",
        "colab_type": "text"
      },
      "source": [
        "**the number of average word length**"
      ]
    },
    {
      "cell_type": "code",
      "metadata": {
        "id": "j8lxnYq5M2FY",
        "colab_type": "code",
        "colab": {}
      },
      "source": [
        "#average word length\n",
        "def avg_word_len(sentence):\n",
        "  words = sentence.split()\n",
        "  return round(sum(len(word) for word in words)/len(words))\n"
      ],
      "execution_count": 0,
      "outputs": []
    },
    {
      "cell_type": "code",
      "metadata": {
        "id": "WuJ6WX22M7yn",
        "colab_type": "code",
        "colab": {}
      },
      "source": [
        "df['avg_word_len1'] = df['question1'].apply(lambda x: avg_word_len(x))\n",
        "df['avg_word_len2'] = df['question2'].apply(lambda x: avg_word_len(x))\n"
      ],
      "execution_count": 0,
      "outputs": []
    },
    {
      "cell_type": "markdown",
      "metadata": {
        "id": "08yMUHZFWCW2",
        "colab_type": "text"
      },
      "source": [
        "**the number of stop words**"
      ]
    },
    {
      "cell_type": "code",
      "metadata": {
        "id": "z-u0xw1TU6hu",
        "colab_type": "code",
        "outputId": "0158144e-16d9-4a23-ad05-df3aeb2daccd",
        "colab": {
          "base_uri": "https://localhost:8080/",
          "height": 170
        }
      },
      "source": [
        "!pip install stop_words\n",
        "from stop_words import get_stop_words\n",
        "stop_words = get_stop_words('en')\n",
        "stop_words = get_stop_words('english')\n",
        "\n",
        "df['stopwords_count1'] = df['question1'].apply(lambda x: len([x for x in x.split() if x in stop_words]))\n",
        "df['stopwords_count2'] = df['question2'].apply(lambda x: len([x for x in x.split() if x in stop_words]))\n"
      ],
      "execution_count": 0,
      "outputs": [
        {
          "output_type": "stream",
          "text": [
            "Collecting stop_words\n",
            "  Downloading https://files.pythonhosted.org/packages/1c/cb/d58290804b7a4c5daa42abbbe2a93c477ae53e45541b1825e86f0dfaaf63/stop-words-2018.7.23.tar.gz\n",
            "Building wheels for collected packages: stop-words\n",
            "  Building wheel for stop-words (setup.py) ... \u001b[?25l\u001b[?25hdone\n",
            "  Created wheel for stop-words: filename=stop_words-2018.7.23-cp36-none-any.whl size=32917 sha256=ade5c2713cce92f1e8b82a7e55bfe576c8da8d0a8fa8a4c027435c27203eb7cf\n",
            "  Stored in directory: /root/.cache/pip/wheels/75/37/6a/2b295e03bd07290f0da95c3adb9a74ba95fbc333aa8b0c7c78\n",
            "Successfully built stop-words\n",
            "Installing collected packages: stop-words\n",
            "Successfully installed stop-words-2018.7.23\n"
          ],
          "name": "stdout"
        }
      ]
    },
    {
      "cell_type": "markdown",
      "metadata": {
        "id": "RNcYESF3Pq95",
        "colab_type": "text"
      },
      "source": [
        "**get the common words between question1 and question2**"
      ]
    },
    {
      "cell_type": "code",
      "metadata": {
        "id": "xqbSu49DkDmU",
        "colab_type": "code",
        "colab": {}
      },
      "source": [
        "#get the number of common words \n",
        "def common_words(x, y):\n",
        "    common_word = []\n",
        "    for i in range(len(x)):\n",
        "        common_ratio = difflib.SequenceMatcher(None, x[i], y[i]).ratio()\n",
        "        common_word.append(common_ratio)\n",
        "    return common_word\n",
        "\n",
        "df['common_words'] = common_words(question1, question2)"
      ],
      "execution_count": 0,
      "outputs": []
    },
    {
      "cell_type": "code",
      "metadata": {
        "id": "imOxliyrP64O",
        "colab_type": "code",
        "colab": {}
      },
      "source": [
        ""
      ],
      "execution_count": 0,
      "outputs": []
    },
    {
      "cell_type": "markdown",
      "metadata": {
        "id": "xqatGb3BP7-f",
        "colab_type": "text"
      },
      "source": [
        "**get the number of unique words**"
      ]
    },
    {
      "cell_type": "code",
      "metadata": {
        "id": "8uZI_TbqP7Gw",
        "colab_type": "code",
        "colab": {}
      },
      "source": [
        "# get the number of unique words \n",
        "def unique_words(x, y):\n",
        "    unique_word_list = []\n",
        "    unique_word_cnt = []\n",
        "    for i in range(len(x)):\n",
        "        intersection_set = set.intersection(*[set(x[i]), set(y[i])]) #intersection between question1 and question2\n",
        "        union_set = set.union(*[set(x[i]), set(y[i])]) #union between question1 and question2\n",
        "        unique_words = union_set - intersection_set #unique words \n",
        "        unique_word_list.append(unique_words) #get the unique words list \n",
        "        unique_word_cnt.append(len(unique_words)) #get the link of unique words                \n",
        "    return unique_word_cnt\n",
        "\n",
        "df['unique_word_cnt'] = unique_words(question1, question2)"
      ],
      "execution_count": 0,
      "outputs": []
    },
    {
      "cell_type": "markdown",
      "metadata": {
        "id": "iT8NJ9d-R8f6",
        "colab_type": "text"
      },
      "source": [
        "## Text Pre-processing \n",
        "- Remove questions with less than 8/9 characters <br />\n",
        "- Drop questions with more than 50 words <br />\n",
        "- Convert to lower case: will prevent having multiple copies of the same word <br />\n",
        "- Remove some of the common words <br />\n",
        "- Remove shortcuts <br />\n",
        "- Remove puctuations or any other symbols in order to not consider puctuations as words <br />\n",
        "- Remove stop words <br />\n",
        "- Remove Numbers <br />\n",
        "- Remove invalid questions <br />\n"
      ]
    },
    {
      "cell_type": "code",
      "metadata": {
        "id": "Eb5nFCpsVkP0",
        "colab_type": "code",
        "colab": {}
      },
      "source": [
        "#remove questions from question 1 that have less than 9 characters  \n",
        "df_clean = df[df['char_count1']!=9]\n",
        "#remove questions from question 2 that have less than 8 characters  \n",
        "df_clean = df[df['char_count2']!=8]"
      ],
      "execution_count": 0,
      "outputs": []
    },
    {
      "cell_type": "code",
      "metadata": {
        "id": "JPxnOr-cbImo",
        "colab_type": "code",
        "colab": {}
      },
      "source": [
        "#remove questions with more than 50 words \n",
        "df = df[df['count2']< 50]\n",
        "df = df[df['count1']< 50]\n"
      ],
      "execution_count": 0,
      "outputs": []
    },
    {
      "cell_type": "code",
      "metadata": {
        "id": "4yERRFpDbxbR",
        "colab_type": "code",
        "outputId": "47d68322-c68f-417a-e304-b43b820a26c1",
        "colab": {
          "base_uri": "https://localhost:8080/",
          "height": 34
        }
      },
      "source": [
        "df.shape"
      ],
      "execution_count": 0,
      "outputs": [
        {
          "output_type": "execute_result",
          "data": {
            "text/plain": [
              "(403285, 16)"
            ]
          },
          "metadata": {
            "tags": []
          },
          "execution_count": 34
        }
      ]
    },
    {
      "cell_type": "code",
      "metadata": {
        "id": "aZcldGtGR9FV",
        "colab_type": "code",
        "colab": {}
      },
      "source": [
        "#convert all the data frame to lower case \n",
        "df_clean = df.apply(lambda x: x.astype(str).str.lower())"
      ],
      "execution_count": 0,
      "outputs": []
    },
    {
      "cell_type": "code",
      "metadata": {
        "id": "Q2fapyoeSK_E",
        "colab_type": "code",
        "colab": {}
      },
      "source": [
        "#remove common words //in this case I decided to remove the top 50 common words\n",
        "freq1 = list(freq1.index)\n",
        "freq2 = list(freq2.index)\n",
        "df_clean['question1'] = df_clean['question1'].apply(lambda x :\" \".join(x for x in x.split()if x not in freq1))\n",
        "df_clean['question2'] = df_clean['question2'].apply(lambda x :\" \".join(x for x in x.split()if x not in freq2))"
      ],
      "execution_count": 0,
      "outputs": []
    },
    {
      "cell_type": "code",
      "metadata": {
        "id": "TE0iqvZ1BHXg",
        "colab_type": "code",
        "colab": {}
      },
      "source": [
        "pd.set_option('display.max_colwidth',100)"
      ],
      "execution_count": 0,
      "outputs": []
    },
    {
      "cell_type": "code",
      "metadata": {
        "id": "5ZqXG8KSSV6T",
        "colab_type": "code",
        "colab": {}
      },
      "source": [
        "\n"
      ],
      "execution_count": 0,
      "outputs": []
    },
    {
      "cell_type": "markdown",
      "metadata": {
        "id": "OcmaJAUPSY-3",
        "colab_type": "text"
      },
      "source": [
        "**Remove Shortcuts** <br />\n",
        "**Remove Numbers** <br />\n",
        "**Remove short words**"
      ]
    },
    {
      "cell_type": "code",
      "metadata": {
        "id": "kMGnvB4KSZUI",
        "colab_type": "code",
        "colab": {}
      },
      "source": [
        "#replace the shortcuts with words\n",
        "def clean(s):\n",
        "\n",
        "    s = re.sub(r\"\\'ve\", \" have \", s)\n",
        "    s = re.sub(r\"can't\", \"cannot \", s)\n",
        "    s = re.sub(r\"n't\", \" not \", s)\n",
        "    s = re.sub(r\"\\'s\", \" \", s)\n",
        "    s = re.sub(r\"I'm\", \"I am\", s)\n",
        "    s = re.sub(r\" m \", \" am \", s)\n",
        "    s = re.sub(r\"\\'re\", \" are \", s)\n",
        "    s = re.sub(r\"\\'d\", \" would \", s)\n",
        "    s = re.sub(r\"\\'ll\", \" will \", s)\n",
        "    \n",
        "  #remove numbers\n",
        "    s = re.sub('[0-9]+', '', s) \n",
        "\n",
        "  #remove short words (<3 character)\n",
        "    s = re.sub(r\"\\W*\\b\\w{1,2}\\b\", \"\", s)\n",
        "\n",
        "    return s\n",
        "df_clean['question1'] = df_clean['question1'].apply(clean)\n",
        "df_clean['question2'] = df_clean['question2'].apply(clean)"
      ],
      "execution_count": 0,
      "outputs": []
    },
    {
      "cell_type": "markdown",
      "metadata": {
        "id": "pEhvZTwVSedP",
        "colab_type": "text"
      },
      "source": [
        "**Remove punctuations**"
      ]
    },
    {
      "cell_type": "code",
      "metadata": {
        "id": "hbFl_vIJSfgD",
        "colab_type": "code",
        "colab": {}
      },
      "source": [
        "#remove puctuations \n",
        "\n",
        "df_clean['question1'] = df_clean['question1'].str.replace('[^\\w\\s]','')\n",
        "df_clean['question2'] = df_clean['question2'].str.replace('[^\\w\\s]','')"
      ],
      "execution_count": 0,
      "outputs": []
    },
    {
      "cell_type": "markdown",
      "metadata": {
        "id": "SPSAePLTSxxl",
        "colab_type": "text"
      },
      "source": [
        "**Remove stop words**"
      ]
    },
    {
      "cell_type": "code",
      "metadata": {
        "id": "foR4t93xS1cd",
        "colab_type": "code",
        "colab": {}
      },
      "source": [
        "#tokenize the questions and remove stop words \n",
        "#remove stop words from question1\n",
        "df_clean['question1'] = df_clean['question1'].apply(lambda x: [item for item in str.split(x) if item not in stop_words])\n",
        "#remove stop words from question2 \n",
        "df_clean['question2'] = df_clean['question2'].apply(lambda x: [item for item in str.split(x) if item not in stop_words])"
      ],
      "execution_count": 0,
      "outputs": []
    },
    {
      "cell_type": "code",
      "metadata": {
        "id": "5q8D1Zj3TNqp",
        "colab_type": "code",
        "colab": {}
      },
      "source": [
        ""
      ],
      "execution_count": 0,
      "outputs": []
    },
    {
      "cell_type": "code",
      "metadata": {
        "id": "oAHprkjt1uy0",
        "colab_type": "code",
        "colab": {}
      },
      "source": [
        "#remove invalid questions \n",
        "for index in invalid_questions:\n",
        "    df_clean = df_clean[df_clean.id != index]\n",
        "    question1.pop(index)\n",
        "    question2.pop(index)"
      ],
      "execution_count": 0,
      "outputs": []
    },
    {
      "cell_type": "code",
      "metadata": {
        "id": "0Pljp8pNy7gJ",
        "colab_type": "code",
        "outputId": "32f44f23-a081-4976-a790-801eafb75c43",
        "colab": {
          "base_uri": "https://localhost:8080/",
          "height": 272
        }
      },
      "source": [
        "df_clean.tail()"
      ],
      "execution_count": 0,
      "outputs": [
        {
          "output_type": "execute_result",
          "data": {
            "text/html": [
              "<div>\n",
              "<style scoped>\n",
              "    .dataframe tbody tr th:only-of-type {\n",
              "        vertical-align: middle;\n",
              "    }\n",
              "\n",
              "    .dataframe tbody tr th {\n",
              "        vertical-align: top;\n",
              "    }\n",
              "\n",
              "    .dataframe thead th {\n",
              "        text-align: right;\n",
              "    }\n",
              "</style>\n",
              "<table border=\"1\" class=\"dataframe\">\n",
              "  <thead>\n",
              "    <tr style=\"text-align: right;\">\n",
              "      <th></th>\n",
              "      <th>id</th>\n",
              "      <th>qid1</th>\n",
              "      <th>qid2</th>\n",
              "      <th>question1</th>\n",
              "      <th>question2</th>\n",
              "      <th>label</th>\n",
              "      <th>count1</th>\n",
              "      <th>count2</th>\n",
              "      <th>char_count1</th>\n",
              "      <th>char_count2</th>\n",
              "      <th>avg_word_len1</th>\n",
              "      <th>avg_word_len2</th>\n",
              "      <th>stopwords_count1</th>\n",
              "      <th>stopwords_count2</th>\n",
              "      <th>common_words</th>\n",
              "      <th>unique_word_cnt</th>\n",
              "    </tr>\n",
              "  </thead>\n",
              "  <tbody>\n",
              "    <tr>\n",
              "      <th>404282</th>\n",
              "      <td>404285</td>\n",
              "      <td>433578</td>\n",
              "      <td>379845</td>\n",
              "      <td>[many, keywords, racket, programming, language, latest, version]</td>\n",
              "      <td>[many, keywords, perl, programming, language, latest, version]</td>\n",
              "      <td>0</td>\n",
              "      <td>14</td>\n",
              "      <td>13</td>\n",
              "      <td>85</td>\n",
              "      <td>79</td>\n",
              "      <td>5</td>\n",
              "      <td>5</td>\n",
              "      <td>6</td>\n",
              "      <td>5</td>\n",
              "      <td>0.8658536585365854</td>\n",
              "      <td>6</td>\n",
              "    </tr>\n",
              "    <tr>\n",
              "      <th>404283</th>\n",
              "      <td>404286</td>\n",
              "      <td>18840</td>\n",
              "      <td>155606</td>\n",
              "      <td>[believe, life, death]</td>\n",
              "      <td>[true, life, death]</td>\n",
              "      <td>1</td>\n",
              "      <td>8</td>\n",
              "      <td>9</td>\n",
              "      <td>41</td>\n",
              "      <td>42</td>\n",
              "      <td>4</td>\n",
              "      <td>4</td>\n",
              "      <td>4</td>\n",
              "      <td>5</td>\n",
              "      <td>0.7228915662650602</td>\n",
              "      <td>6</td>\n",
              "    </tr>\n",
              "    <tr>\n",
              "      <th>404284</th>\n",
              "      <td>404287</td>\n",
              "      <td>537928</td>\n",
              "      <td>537929</td>\n",
              "      <td>[one, coin]</td>\n",
              "      <td>[coin]</td>\n",
              "      <td>0</td>\n",
              "      <td>4</td>\n",
              "      <td>3</td>\n",
              "      <td>17</td>\n",
              "      <td>17</td>\n",
              "      <td>4</td>\n",
              "      <td>5</td>\n",
              "      <td>1</td>\n",
              "      <td>1</td>\n",
              "      <td>0.7647058823529411</td>\n",
              "      <td>2</td>\n",
              "    </tr>\n",
              "    <tr>\n",
              "      <th>404285</th>\n",
              "      <td>404288</td>\n",
              "      <td>537930</td>\n",
              "      <td>537931</td>\n",
              "      <td>[approx, annual, cost, living, studying, uic, chicago, indian, student]</td>\n",
              "      <td>[little, hairfall, problem, want, use, hair, styling, product, one, prefer, gel, wax, clay]</td>\n",
              "      <td>0</td>\n",
              "      <td>17</td>\n",
              "      <td>25</td>\n",
              "      <td>94</td>\n",
              "      <td>127</td>\n",
              "      <td>5</td>\n",
              "      <td>4</td>\n",
              "      <td>7</td>\n",
              "      <td>8</td>\n",
              "      <td>0.2986425339366516</td>\n",
              "      <td>5</td>\n",
              "    </tr>\n",
              "    <tr>\n",
              "      <th>404286</th>\n",
              "      <td>404289</td>\n",
              "      <td>537932</td>\n",
              "      <td>537933</td>\n",
              "      <td>[sex, cousin]</td>\n",
              "      <td>[sex, cousin]</td>\n",
              "      <td>0</td>\n",
              "      <td>8</td>\n",
              "      <td>10</td>\n",
              "      <td>37</td>\n",
              "      <td>45</td>\n",
              "      <td>4</td>\n",
              "      <td>4</td>\n",
              "      <td>4</td>\n",
              "      <td>6</td>\n",
              "      <td>0.9024390243902439</td>\n",
              "      <td>2</td>\n",
              "    </tr>\n",
              "  </tbody>\n",
              "</table>\n",
              "</div>"
            ],
            "text/plain": [
              "            id    qid1  ...        common_words unique_word_cnt\n",
              "404282  404285  433578  ...  0.8658536585365854               6\n",
              "404283  404286   18840  ...  0.7228915662650602               6\n",
              "404284  404287  537928  ...  0.7647058823529411               2\n",
              "404285  404288  537930  ...  0.2986425339366516               5\n",
              "404286  404289  537932  ...  0.9024390243902439               2\n",
              "\n",
              "[5 rows x 16 columns]"
            ]
          },
          "metadata": {
            "tags": []
          },
          "execution_count": 42
        }
      ]
    },
    {
      "cell_type": "code",
      "metadata": {
        "id": "_7g6NisQhuMG",
        "colab_type": "code",
        "colab": {}
      },
      "source": [
        "#convert the text to list \n",
        "question1 = list(df_clean['question1'])\n",
        "question2 = list(df_clean['question2'])\n",
        "questions = question1 + question2 "
      ],
      "execution_count": 0,
      "outputs": []
    },
    {
      "cell_type": "markdown",
      "metadata": {
        "id": "DknOOoHeIifw",
        "colab_type": "text"
      },
      "source": [
        "## Text Normalization \n",
        "**Stemming**: remove the suffices"
      ]
    },
    {
      "cell_type": "code",
      "metadata": {
        "id": "USKtjbL5Ihy9",
        "colab_type": "code",
        "colab": {}
      },
      "source": [
        "#stem the words \n",
        "\n",
        "st = SnowballStemmer(\"english\")\n",
        "df_clean['question1'] = df_clean['question1'].apply(lambda x: \" \".join([st.stem(word) for word in x]))\n",
        "df_clean['question2'] = df_clean['question2'].apply(lambda x: \" \".join([st.stem(word) for word in x]))"
      ],
      "execution_count": 0,
      "outputs": []
    },
    {
      "cell_type": "code",
      "metadata": {
        "id": "BIr-OFM6IO8h",
        "colab_type": "code",
        "colab": {}
      },
      "source": [
        ""
      ],
      "execution_count": 0,
      "outputs": []
    },
    {
      "cell_type": "markdown",
      "metadata": {
        "id": "n_qHueFeTUij",
        "colab_type": "text"
      },
      "source": [
        "**TF-IDF** <br />\n",
        "**\"term frequency\" which is the number of times a word appears in a document** <br>\n",
        "**TF = (Frequency of the word in the sentence) / (Total number of words in the sentence)** <br>\n",
        "**IDF: (Total number of sentences (documents))/(Number of sentences (documents) containing the word)**"
      ]
    },
    {
      "cell_type": "code",
      "metadata": {
        "id": "p7Ky36UiyHx1",
        "colab_type": "code",
        "colab": {}
      },
      "source": [
        "#encode questions to unicode \n",
        "df_clean['question1'] = df_clean['question1'].apply(lambda x: str(x))\n",
        "df_clean['question2'] = df_clean['question2'].apply(lambda x: str(x))"
      ],
      "execution_count": 0,
      "outputs": []
    },
    {
      "cell_type": "code",
      "metadata": {
        "id": "dQXjXH78TlMy",
        "colab_type": "code",
        "colab": {}
      },
      "source": [
        "#convert the text to list \n",
        "question1 = list(df_clean['question1'])\n",
        "question2 = list(df_clean['question2'])\n",
        "questions = question1 + question2 "
      ],
      "execution_count": 0,
      "outputs": []
    },
    {
      "cell_type": "code",
      "metadata": {
        "id": "1hN4vZCGUD0Y",
        "colab_type": "code",
        "colab": {}
      },
      "source": [
        "#word vectorizer \n",
        "tfidf_vectors = TfidfVectorizer(stop_words='english', min_df=10, max_df = 0.5,  sublinear_tf= True,  ngram_range=(1, 2))"
      ],
      "execution_count": 0,
      "outputs": []
    },
    {
      "cell_type": "code",
      "metadata": {
        "id": "zybWitpHUIqD",
        "colab_type": "code",
        "outputId": "b6dc9a79-8943-4e0b-dff0-763c3095586f",
        "colab": {
          "base_uri": "https://localhost:8080/",
          "height": 136
        }
      },
      "source": [
        "tfidf_vectors "
      ],
      "execution_count": 0,
      "outputs": [
        {
          "output_type": "execute_result",
          "data": {
            "text/plain": [
              "TfidfVectorizer(analyzer='word', binary=False, decode_error='strict',\n",
              "                dtype=<class 'numpy.float64'>, encoding='utf-8',\n",
              "                input='content', lowercase=True, max_df=0.5, max_features=None,\n",
              "                min_df=10, ngram_range=(1, 2), norm='l2', preprocessor=None,\n",
              "                smooth_idf=True, stop_words='english', strip_accents=None,\n",
              "                sublinear_tf=True, token_pattern='(?u)\\\\b\\\\w\\\\w+\\\\b',\n",
              "                tokenizer=None, use_idf=True, vocabulary=None)"
            ]
          },
          "metadata": {
            "tags": []
          },
          "execution_count": 48
        }
      ]
    },
    {
      "cell_type": "code",
      "metadata": {
        "id": "qmuRrOsg3TqV",
        "colab_type": "code",
        "colab": {}
      },
      "source": [
        "#create sparse matrix \n",
        "tfidf_matrix = tfidf_vectors.fit_transform(questions)\n"
      ],
      "execution_count": 0,
      "outputs": []
    },
    {
      "cell_type": "code",
      "metadata": {
        "colab_type": "code",
        "id": "kGOk8sBa__aw",
        "colab": {}
      },
      "source": [
        "# get features names \n",
        "from sklearn.feature_extraction.text import CountVectorizer\n",
        "from sklearn.feature_extraction.text import TfidfVectorizer\n",
        "feature_names = tfidf_vectors.get_feature_names()"
      ],
      "execution_count": 0,
      "outputs": []
    },
    {
      "cell_type": "code",
      "metadata": {
        "id": "pbr-sUzMSLcp",
        "colab_type": "code",
        "outputId": "1053e791-2787-4b8f-ce83-3c4ddbe405e4",
        "colab": {
          "base_uri": "https://localhost:8080/",
          "height": 34
        }
      },
      "source": [
        "feature_names[1:5]"
      ],
      "execution_count": 0,
      "outputs": [
        {
          "output_type": "execute_result",
          "data": {
            "text/plain": [
              "['aaa', 'aaa batteri', 'aachen', 'aadhaar']"
            ]
          },
          "metadata": {
            "tags": []
          },
          "execution_count": 51
        }
      ]
    },
    {
      "cell_type": "markdown",
      "metadata": {
        "id": "gUcXZWvgrVXH",
        "colab_type": "text"
      },
      "source": [
        "## Word Embedding"
      ]
    },
    {
      "cell_type": "markdown",
      "metadata": {
        "id": "Io2yYeitajMp",
        "colab_type": "text"
      },
      "source": [
        "**en_core_web_md**\n"
      ]
    },
    {
      "cell_type": "code",
      "metadata": {
        "id": "hYuhLCHE5ihq",
        "colab_type": "code",
        "outputId": "fe533e9d-504c-4895-8aba-0af7befb8845",
        "colab": {
          "base_uri": "https://localhost:8080/",
          "height": 51
        }
      },
      "source": [
        "#install spacy model en_core_web_md\n",
        "import spacy.cli\n",
        "spacy.cli.download(\"en_core_web_md\")"
      ],
      "execution_count": 0,
      "outputs": [
        {
          "output_type": "stream",
          "text": [
            "\u001b[38;5;2m✔ Download and installation successful\u001b[0m\n",
            "You can now load the model via spacy.load('en_core_web_md')\n"
          ],
          "name": "stdout"
        }
      ]
    },
    {
      "cell_type": "code",
      "metadata": {
        "id": "ql6WlNWb_T11",
        "colab_type": "code",
        "outputId": "b3cc4dae-233c-4407-bf92-d7c371fc721d",
        "colab": {
          "base_uri": "https://localhost:8080/",
          "height": 34
        }
      },
      "source": [
        "#load en_core_web_lg\n",
        "import spacy \n",
        "nlp = spacy.load(\"en_core_web_md\")   \n",
        "total_vectors = len(nlp.vocab.vectors)\n",
        "print('Total word vectors:', total_vectors)"
      ],
      "execution_count": 0,
      "outputs": [
        {
          "output_type": "stream",
          "text": [
            "Total word vectors: 20000\n"
          ],
          "name": "stdout"
        }
      ]
    },
    {
      "cell_type": "code",
      "metadata": {
        "id": "lymt1Yv4bGP7",
        "colab_type": "code",
        "colab": {}
      },
      "source": [
        "#build document vectors for question1 \n",
        "word_vecs1 = [doc.vector for doc in nlp.pipe(df['question1'], n_threads = 50)] #this will give the document vector \n",
        "word_vecs1 = np.array(word_vecs1)"
      ],
      "execution_count": 0,
      "outputs": []
    },
    {
      "cell_type": "code",
      "metadata": {
        "id": "sdZqKHNXbGTE",
        "colab_type": "code",
        "colab": {}
      },
      "source": [
        " #build document vectors for question2 \n",
        "word_vecs2 = [doc.vector for doc in nlp.pipe(df['question2'], n_threads = 50)] #this will give the document vector \n",
        "word_vecs2 = np.array(word_vecs2)\n"
      ],
      "execution_count": 0,
      "outputs": []
    },
    {
      "cell_type": "markdown",
      "metadata": {
        "id": "COlsvzAfvlVJ",
        "colab_type": "text"
      },
      "source": [
        "## Dimensionality Reduction"
      ]
    },
    {
      "cell_type": "markdown",
      "metadata": {
        "id": "CVt684Yu15A4",
        "colab_type": "text"
      },
      "source": [
        "**PCA** <br />\n",
        "Unsupervise linear dimensionality reduction technique that takes large data dimension and returns lower data dimension by using clustering. it keeps the components with high variance which means we won't lose valuable features. principal component is the output of converting correlated variables to uncorrelated variables. This will also speed up the machine learning algorithm."
      ]
    },
    {
      "cell_type": "code",
      "metadata": {
        "id": "dDlDWghs-134",
        "colab_type": "code",
        "colab": {}
      },
      "source": [
        "#PCA\n",
        "from sklearn.decomposition import PCA\n"
      ],
      "execution_count": 0,
      "outputs": []
    },
    {
      "cell_type": "code",
      "metadata": {
        "id": "_0YEwZg1ElUX",
        "colab_type": "code",
        "outputId": "7781a563-dd0b-4e1b-b20e-45201cd6524d",
        "colab": {
          "base_uri": "https://localhost:8080/",
          "height": 386
        }
      },
      "source": [
        "#apply PCA and check the variance \n",
        "#the optimal number of components \n",
        "n_comp = [50, 100, 150, 170, 180]\n",
        "explained = [] \n",
        "for x in n_comp:\n",
        "    pca = PCA(n_components=x)\n",
        "    pca.fit(word_vecs1)\n",
        "    explained.append(pca.explained_variance_ratio_.sum())\n",
        "    print(\"Number of components = %r and explained variance = %r\"%(x,pca.explained_variance_ratio_.sum()))\n",
        "plt.plot(n_comp, explained)\n",
        "plt.xlabel('Number of components')\n",
        "plt.ylabel(\"Explained Variance\")\n",
        "plt.title(\"Plot of Number of components v/s explained variance\")\n",
        "plt.show()"
      ],
      "execution_count": 0,
      "outputs": [
        {
          "output_type": "stream",
          "text": [
            "Number of components = 50 and explained variance = 0.712155549846141\n",
            "Number of components = 100 and explained variance = 0.8387980161917792\n",
            "Number of components = 150 and explained variance = 0.9092510518322969\n",
            "Number of components = 170 and explained variance = 0.929956695026551\n",
            "Number of components = 180 and explained variance = 0.9390698929390626\n"
          ],
          "name": "stdout"
        },
        {
          "output_type": "display_data",
          "data": {
            "image/png": "[encoded data removed]",
            "text/plain": [
              "<Figure size 432x288 with 1 Axes>"
            ]
          },
          "metadata": {
            "tags": []
          }
        }
      ]
    },
    {
      "cell_type": "code",
      "metadata": {
        "id": "t2JqrSf9EQW_",
        "colab_type": "code",
        "colab": {}
      },
      "source": [
        "pca = PCA(n_components=180)\n",
        "pca1 = pca.fit_transform(word_vecs1)"
      ],
      "execution_count": 0,
      "outputs": []
    },
    {
      "cell_type": "code",
      "metadata": {
        "id": "hIUw0n4aEMP-",
        "colab_type": "code",
        "outputId": "3e784100-0920-461f-e0db-fe88e899fd6c",
        "colab": {
          "base_uri": "https://localhost:8080/",
          "height": 34
        }
      },
      "source": [
        "pca1.shape"
      ],
      "execution_count": 0,
      "outputs": [
        {
          "output_type": "execute_result",
          "data": {
            "text/plain": [
              "(403285, 180)"
            ]
          },
          "metadata": {
            "tags": []
          },
          "execution_count": 59
        }
      ]
    },
    {
      "cell_type": "code",
      "metadata": {
        "id": "S65bhyM7HH0K",
        "colab_type": "code",
        "outputId": "46b04f42-257f-43c6-9fa4-1a19d8fcd32e",
        "colab": {
          "base_uri": "https://localhost:8080/",
          "height": 369
        }
      },
      "source": [
        "#apply PCA and check the variance \n",
        "#the optimal number of components \n",
        "n_comp = [50, 100, 150, 170] # list containing different values of components\n",
        "explained = [] # explained variance ratio for each component of Truncated SVD\n",
        "for x in n_comp:\n",
        "    pca = PCA(n_components=x)\n",
        "    pca.fit(word_vecs1)\n",
        "    explained.append(pca.explained_variance_ratio_.sum())\n",
        "    print(\"Number of components = %r and explained variance = %r\"%(x,pca.explained_variance_ratio_.sum()))\n",
        "plt.plot(n_comp, explained)\n",
        "plt.xlabel('Number of components')\n",
        "plt.ylabel(\"Explained Variance\")\n",
        "plt.title(\"Plot of Number of components v/s explained variance\")\n",
        "plt.show()"
      ],
      "execution_count": 0,
      "outputs": [
        {
          "output_type": "stream",
          "text": [
            "Number of components = 50 and explained variance = 0.712523806119998\n",
            "Number of components = 100 and explained variance = 0.8387325988455474\n",
            "Number of components = 150 and explained variance = 0.9092472442171318\n",
            "Number of components = 170 and explained variance = 0.9299789838755518\n"
          ],
          "name": "stdout"
        },
        {
          "output_type": "display_data",
          "data": {
            "image/png": "[encoded data removed]",
            "text/plain": [
              "<Figure size 432x288 with 1 Axes>"
            ]
          },
          "metadata": {
            "tags": []
          }
        }
      ]
    },
    {
      "cell_type": "code",
      "metadata": {
        "id": "2SCt5a6AGqgJ",
        "colab_type": "code",
        "colab": {}
      },
      "source": [
        "pca = PCA(n_components=180)\n",
        "pca2 = pca.fit_transform(word_vecs2)"
      ],
      "execution_count": 0,
      "outputs": []
    },
    {
      "cell_type": "code",
      "metadata": {
        "id": "77Q7kd-67jcw",
        "colab_type": "code",
        "colab": {}
      },
      "source": [
        "#plotting document vectors \n",
        "# plt.plot(pca.explained_variance_ratio_)\n",
        "for index,vec in enumerate(pca2):\n",
        "    # print ('%s %s'%(words_label[index],vec))\n",
        "    if index <100:\n",
        "      x,y=vec[0],vec[1]\n",
        "      plt.scatter(x,y)\n",
        "      plt.annotate(words_label[index],xy=(x,y))\n",
        "  plt.show()"
      ],
      "execution_count": 0,
      "outputs": []
    },
    {
      "cell_type": "markdown",
      "metadata": {
        "id": "SYhd6RFqOlpQ",
        "colab_type": "text"
      },
      "source": [
        "## Feature Extraction"
      ]
    },
    {
      "cell_type": "code",
      "metadata": {
        "id": "Qo9j9IZ-hSQU",
        "colab_type": "code",
        "colab": {}
      },
      "source": [
        ""
      ],
      "execution_count": 0,
      "outputs": []
    },
    {
      "cell_type": "markdown",
      "metadata": {
        "id": "JqXX7wahzPdP",
        "colab_type": "text"
      },
      "source": [
        "**Cosine Similarity** <br /> \n",
        "Cosine similarity is a metric to measure how similar documents are regardless of their length. it measures the cosine of the angle between two vectors by\n",
        "looking at their directions (or orientations) without caring about their length "
      ]
    },
    {
      "cell_type": "code",
      "metadata": {
        "id": "e-ngZvtwvAD1",
        "colab_type": "code",
        "outputId": "3f5f9efe-d56a-4039-df9b-e81c5027926e",
        "colab": {
          "base_uri": "https://localhost:8080/",
          "height": 34
        }
      },
      "source": [
        "tfidf_matrix.shape[0]/2"
      ],
      "execution_count": 0,
      "outputs": [
        {
          "output_type": "execute_result",
          "data": {
            "text/plain": [
              "403285.0"
            ]
          },
          "metadata": {
            "tags": []
          },
          "execution_count": 62
        }
      ]
    },
    {
      "cell_type": "code",
      "metadata": {
        "colab_type": "code",
        "id": "Ey7ku4-vuTb6",
        "colab": {}
      },
      "source": [
        " tfidf_matrix1 = tfidf_matrix[:403285]"
      ],
      "execution_count": 0,
      "outputs": []
    },
    {
      "cell_type": "code",
      "metadata": {
        "id": "570Or6DivnJ5",
        "colab_type": "code",
        "colab": {}
      },
      "source": [
        "tfidf_matrix2 = tfidf_matrix[403285:]"
      ],
      "execution_count": 0,
      "outputs": []
    },
    {
      "cell_type": "code",
      "metadata": {
        "colab_type": "code",
        "id": "n9X5ymfeuSum",
        "colab": {}
      },
      "source": [
        "from sklearn.metrics.pairwise import cosine_similarity\n",
        "cosine_sim = []\n",
        "for i in range(403285):\n",
        "  tfidf_q1 = tfidf_matrix1[i]\n",
        "  tfidf_q2 = tfidf_matrix2[i]\n",
        "  cosine_sim.append(cosine_similarity(tfidf_q1, tfidf_q2)[0][0])"
      ],
      "execution_count": 0,
      "outputs": []
    },
    {
      "cell_type": "code",
      "metadata": {
        "colab_type": "code",
        "id": "_BWcR-_HuSJS",
        "outputId": "b8a6a592-dbd1-4b34-f9bb-1992d627d690",
        "colab": {
          "base_uri": "https://localhost:8080/",
          "height": 34
        }
      },
      "source": [
        "len(cosine_sim)"
      ],
      "execution_count": 0,
      "outputs": [
        {
          "output_type": "execute_result",
          "data": {
            "text/plain": [
              "403285"
            ]
          },
          "metadata": {
            "tags": []
          },
          "execution_count": 66
        }
      ]
    },
    {
      "cell_type": "code",
      "metadata": {
        "id": "khYyh2UU1OoJ",
        "colab_type": "code",
        "colab": {}
      },
      "source": [
        "df_clean['cosine_sim_tfidf'] = cosine_sim[0: len(cosine_sim)]\n"
      ],
      "execution_count": 0,
      "outputs": []
    },
    {
      "cell_type": "code",
      "metadata": {
        "id": "3fYVzi0Qy9AJ",
        "colab_type": "code",
        "outputId": "80fef3b7-fdf8-447c-e9c6-9726d2d4f144",
        "colab": {
          "base_uri": "https://localhost:8080/",
          "height": 306
        }
      },
      "source": [
        "df_clean.tail()"
      ],
      "execution_count": 0,
      "outputs": [
        {
          "output_type": "execute_result",
          "data": {
            "text/html": [
              "<div>\n",
              "<style scoped>\n",
              "    .dataframe tbody tr th:only-of-type {\n",
              "        vertical-align: middle;\n",
              "    }\n",
              "\n",
              "    .dataframe tbody tr th {\n",
              "        vertical-align: top;\n",
              "    }\n",
              "\n",
              "    .dataframe thead th {\n",
              "        text-align: right;\n",
              "    }\n",
              "</style>\n",
              "<table border=\"1\" class=\"dataframe\">\n",
              "  <thead>\n",
              "    <tr style=\"text-align: right;\">\n",
              "      <th></th>\n",
              "      <th>id</th>\n",
              "      <th>qid1</th>\n",
              "      <th>qid2</th>\n",
              "      <th>question1</th>\n",
              "      <th>question2</th>\n",
              "      <th>label</th>\n",
              "      <th>count1</th>\n",
              "      <th>count2</th>\n",
              "      <th>char_count1</th>\n",
              "      <th>char_count2</th>\n",
              "      <th>avg_word_len1</th>\n",
              "      <th>avg_word_len2</th>\n",
              "      <th>stopwords_count1</th>\n",
              "      <th>stopwords_count2</th>\n",
              "      <th>common_words</th>\n",
              "      <th>unique_word_cnt</th>\n",
              "      <th>cosine_sim_tfidf</th>\n",
              "    </tr>\n",
              "  </thead>\n",
              "  <tbody>\n",
              "    <tr>\n",
              "      <th>404282</th>\n",
              "      <td>404285</td>\n",
              "      <td>433578</td>\n",
              "      <td>379845</td>\n",
              "      <td>mani keyword racket program languag latest version</td>\n",
              "      <td>mani keyword perl program languag latest version</td>\n",
              "      <td>0</td>\n",
              "      <td>14</td>\n",
              "      <td>13</td>\n",
              "      <td>85</td>\n",
              "      <td>79</td>\n",
              "      <td>5</td>\n",
              "      <td>5</td>\n",
              "      <td>6</td>\n",
              "      <td>5</td>\n",
              "      <td>0.8658536585365854</td>\n",
              "      <td>6</td>\n",
              "      <td>0.831743</td>\n",
              "    </tr>\n",
              "    <tr>\n",
              "      <th>404283</th>\n",
              "      <td>404286</td>\n",
              "      <td>18840</td>\n",
              "      <td>155606</td>\n",
              "      <td>believ life death</td>\n",
              "      <td>true life death</td>\n",
              "      <td>1</td>\n",
              "      <td>8</td>\n",
              "      <td>9</td>\n",
              "      <td>41</td>\n",
              "      <td>42</td>\n",
              "      <td>4</td>\n",
              "      <td>4</td>\n",
              "      <td>4</td>\n",
              "      <td>5</td>\n",
              "      <td>0.7228915662650602</td>\n",
              "      <td>6</td>\n",
              "      <td>0.486364</td>\n",
              "    </tr>\n",
              "    <tr>\n",
              "      <th>404284</th>\n",
              "      <td>404287</td>\n",
              "      <td>537928</td>\n",
              "      <td>537929</td>\n",
              "      <td>one coin</td>\n",
              "      <td>coin</td>\n",
              "      <td>0</td>\n",
              "      <td>4</td>\n",
              "      <td>3</td>\n",
              "      <td>17</td>\n",
              "      <td>17</td>\n",
              "      <td>4</td>\n",
              "      <td>5</td>\n",
              "      <td>1</td>\n",
              "      <td>1</td>\n",
              "      <td>0.7647058823529411</td>\n",
              "      <td>2</td>\n",
              "      <td>1.000000</td>\n",
              "    </tr>\n",
              "    <tr>\n",
              "      <th>404285</th>\n",
              "      <td>404288</td>\n",
              "      <td>537930</td>\n",
              "      <td>537931</td>\n",
              "      <td>approx annual cost live studi uic chicago indian student</td>\n",
              "      <td>littl hairfal problem want use hair style product one prefer gel wax clay</td>\n",
              "      <td>0</td>\n",
              "      <td>17</td>\n",
              "      <td>25</td>\n",
              "      <td>94</td>\n",
              "      <td>127</td>\n",
              "      <td>5</td>\n",
              "      <td>4</td>\n",
              "      <td>7</td>\n",
              "      <td>8</td>\n",
              "      <td>0.2986425339366516</td>\n",
              "      <td>5</td>\n",
              "      <td>0.000000</td>\n",
              "    </tr>\n",
              "    <tr>\n",
              "      <th>404286</th>\n",
              "      <td>404289</td>\n",
              "      <td>537932</td>\n",
              "      <td>537933</td>\n",
              "      <td>sex cousin</td>\n",
              "      <td>sex cousin</td>\n",
              "      <td>0</td>\n",
              "      <td>8</td>\n",
              "      <td>10</td>\n",
              "      <td>37</td>\n",
              "      <td>45</td>\n",
              "      <td>4</td>\n",
              "      <td>4</td>\n",
              "      <td>4</td>\n",
              "      <td>6</td>\n",
              "      <td>0.9024390243902439</td>\n",
              "      <td>2</td>\n",
              "      <td>1.000000</td>\n",
              "    </tr>\n",
              "  </tbody>\n",
              "</table>\n",
              "</div>"
            ],
            "text/plain": [
              "            id    qid1  ... unique_word_cnt cosine_sim_tfidf\n",
              "404282  404285  433578  ...               6         0.831743\n",
              "404283  404286   18840  ...               6         0.486364\n",
              "404284  404287  537928  ...               2         1.000000\n",
              "404285  404288  537930  ...               5         0.000000\n",
              "404286  404289  537932  ...               2         1.000000\n",
              "\n",
              "[5 rows x 17 columns]"
            ]
          },
          "metadata": {
            "tags": []
          },
          "execution_count": 68
        }
      ]
    },
    {
      "cell_type": "code",
      "metadata": {
        "id": "GSCZH0HlS_Vb",
        "colab_type": "code",
        "colab": {}
      },
      "source": [
        ""
      ],
      "execution_count": 0,
      "outputs": []
    },
    {
      "cell_type": "markdown",
      "metadata": {
        "id": "tnkHMi5ZTADL",
        "colab_type": "text"
      },
      "source": [
        "**Euclidean Distance**\n"
      ]
    },
    {
      "cell_type": "code",
      "metadata": {
        "id": "W8Q-UirmTM-c",
        "colab_type": "code",
        "colab": {}
      },
      "source": [
        "from sklearn.metrics.pairwise import euclidean_distances"
      ],
      "execution_count": 0,
      "outputs": []
    },
    {
      "cell_type": "code",
      "metadata": {
        "id": "2YtxGkYtyYxu",
        "colab_type": "code",
        "colab": {}
      },
      "source": [
        "euc_dist = []\n",
        "for i in range(403285):\n",
        "  docvec_q1 = pca1[[i]]\n",
        "  docvec_q2 = pca2[[i]]\n",
        "  euc_dist.append(euclidean_distances(docvec_q1, docvec_q2))"
      ],
      "execution_count": 0,
      "outputs": []
    },
    {
      "cell_type": "code",
      "metadata": {
        "id": "VIC1bSNDGABD",
        "colab_type": "code",
        "outputId": "df96b8eb-19db-4095-ffba-f20af7c41c37",
        "colab": {
          "base_uri": "https://localhost:8080/",
          "height": 187
        }
      },
      "source": [
        "euc_dist[0:10]"
      ],
      "execution_count": 0,
      "outputs": [
        {
          "output_type": "execute_result",
          "data": {
            "text/plain": [
              "[array([[1.3536291]], dtype=float32),\n",
              " array([[1.5153176]], dtype=float32),\n",
              " array([[1.677446]], dtype=float32),\n",
              " array([[2.7678545]], dtype=float32),\n",
              " array([[2.2789726]], dtype=float32),\n",
              " array([[1.6156051]], dtype=float32),\n",
              " array([[2.8429945]], dtype=float32),\n",
              " array([[1.3621004]], dtype=float32),\n",
              " array([[1.7918725]], dtype=float32),\n",
              " array([[1.7850274]], dtype=float32)]"
            ]
          },
          "metadata": {
            "tags": []
          },
          "execution_count": 71
        }
      ]
    },
    {
      "cell_type": "code",
      "metadata": {
        "id": "fppIV_0kHh2v",
        "colab_type": "code",
        "colab": {}
      },
      "source": [
        "#convert to list \n",
        "euc_dist = np.concatenate(euc_dist, axis=0 )"
      ],
      "execution_count": 0,
      "outputs": []
    },
    {
      "cell_type": "code",
      "metadata": {
        "id": "lJrE4rmWHoV9",
        "colab_type": "code",
        "colab": {}
      },
      "source": [
        "df_clean['euc_dist'] = euc_dist"
      ],
      "execution_count": 0,
      "outputs": []
    },
    {
      "cell_type": "markdown",
      "metadata": {
        "id": "pgwemtSdzVy7",
        "colab_type": "text"
      },
      "source": [
        "**Jaccard Similarity** "
      ]
    },
    {
      "cell_type": "code",
      "metadata": {
        "id": "Rjq_C-KHIEIZ",
        "colab_type": "code",
        "colab": {}
      },
      "source": [
        "#jaccard similarity \n",
        "#apply jaccard similarity on documents vectors \n",
        "def jaccard_similarity(list1, list2):\n",
        "    intersection = len(list(set(list1).intersection(list2)))\n",
        "    union = (len(list1) + len(list2)) - intersection\n",
        "    return float(intersection) / union"
      ],
      "execution_count": 0,
      "outputs": []
    },
    {
      "cell_type": "code",
      "metadata": {
        "id": "lJmCObAjG48u",
        "colab_type": "code",
        "colab": {}
      },
      "source": [
        "jaccard_sim = []\n",
        "for i in range(403285):\n",
        "  docvec_q1 = pca1[i]\n",
        "  docvec_q2 = pca2[i]\n",
        "  jaccard_sim.append(jaccard_similarity(docvec_q1, docvec_q2))"
      ],
      "execution_count": 0,
      "outputs": []
    },
    {
      "cell_type": "code",
      "metadata": {
        "id": "4tGQEnWbP8f7",
        "colab_type": "code",
        "outputId": "3b17368d-a059-45b4-f679-f53e36b02b20",
        "colab": {
          "base_uri": "https://localhost:8080/",
          "height": 34
        }
      },
      "source": [
        "len(jaccard_sim)"
      ],
      "execution_count": 0,
      "outputs": [
        {
          "output_type": "execute_result",
          "data": {
            "text/plain": [
              "403285"
            ]
          },
          "metadata": {
            "tags": []
          },
          "execution_count": 76
        }
      ]
    },
    {
      "cell_type": "code",
      "metadata": {
        "id": "wdCGMQRJFDOL",
        "colab_type": "code",
        "colab": {}
      },
      "source": [
        "df_clean['jac_sim'] = jaccard_sim"
      ],
      "execution_count": 0,
      "outputs": []
    },
    {
      "cell_type": "code",
      "metadata": {
        "id": "nucxjRrQ4-W-",
        "colab_type": "code",
        "outputId": "f9654141-cdab-43c3-89b7-fe97e2071baa",
        "colab": {
          "base_uri": "https://localhost:8080/",
          "height": 493
        }
      },
      "source": [
        "df_clean.head()"
      ],
      "execution_count": 0,
      "outputs": [
        {
          "output_type": "execute_result",
          "data": {
            "text/html": [
              "<div>\n",
              "<style scoped>\n",
              "    .dataframe tbody tr th:only-of-type {\n",
              "        vertical-align: middle;\n",
              "    }\n",
              "\n",
              "    .dataframe tbody tr th {\n",
              "        vertical-align: top;\n",
              "    }\n",
              "\n",
              "    .dataframe thead th {\n",
              "        text-align: right;\n",
              "    }\n",
              "</style>\n",
              "<table border=\"1\" class=\"dataframe\">\n",
              "  <thead>\n",
              "    <tr style=\"text-align: right;\">\n",
              "      <th></th>\n",
              "      <th>id</th>\n",
              "      <th>qid1</th>\n",
              "      <th>qid2</th>\n",
              "      <th>question1</th>\n",
              "      <th>question2</th>\n",
              "      <th>label</th>\n",
              "      <th>count1</th>\n",
              "      <th>count2</th>\n",
              "      <th>char_count1</th>\n",
              "      <th>char_count2</th>\n",
              "      <th>avg_word_len1</th>\n",
              "      <th>avg_word_len2</th>\n",
              "      <th>stopwords_count1</th>\n",
              "      <th>stopwords_count2</th>\n",
              "      <th>common_words</th>\n",
              "      <th>unique_word_cnt</th>\n",
              "      <th>cosine_sim_tfidf</th>\n",
              "      <th>euc_dist</th>\n",
              "      <th>jac_sim</th>\n",
              "    </tr>\n",
              "  </thead>\n",
              "  <tbody>\n",
              "    <tr>\n",
              "      <th>0</th>\n",
              "      <td>0</td>\n",
              "      <td>1</td>\n",
              "      <td>2</td>\n",
              "      <td>step step guid invest share market india</td>\n",
              "      <td>step step guid invest share market</td>\n",
              "      <td>0</td>\n",
              "      <td>14</td>\n",
              "      <td>12</td>\n",
              "      <td>66</td>\n",
              "      <td>57</td>\n",
              "      <td>4</td>\n",
              "      <td>4</td>\n",
              "      <td>6</td>\n",
              "      <td>5</td>\n",
              "      <td>0.926829268292683</td>\n",
              "      <td>0</td>\n",
              "      <td>0.923270</td>\n",
              "      <td>1.353629</td>\n",
              "      <td>0.0</td>\n",
              "    </tr>\n",
              "    <tr>\n",
              "      <th>1</th>\n",
              "      <td>1</td>\n",
              "      <td>3</td>\n",
              "      <td>4</td>\n",
              "      <td>stori kohinoor kohnoor diamond</td>\n",
              "      <td>happen indian govern stole kohinoor kohnoor diamond back</td>\n",
              "      <td>0</td>\n",
              "      <td>8</td>\n",
              "      <td>13</td>\n",
              "      <td>51</td>\n",
              "      <td>88</td>\n",
              "      <td>6</td>\n",
              "      <td>6</td>\n",
              "      <td>3</td>\n",
              "      <td>4</td>\n",
              "      <td>0.6474820143884892</td>\n",
              "      <td>12</td>\n",
              "      <td>0.544641</td>\n",
              "      <td>1.515318</td>\n",
              "      <td>0.0</td>\n",
              "    </tr>\n",
              "    <tr>\n",
              "      <th>2</th>\n",
              "      <td>2</td>\n",
              "      <td>5</td>\n",
              "      <td>6</td>\n",
              "      <td>increas speed internet connect use vpn</td>\n",
              "      <td>internet speed increas hack dns</td>\n",
              "      <td>0</td>\n",
              "      <td>14</td>\n",
              "      <td>10</td>\n",
              "      <td>73</td>\n",
              "      <td>59</td>\n",
              "      <td>4</td>\n",
              "      <td>5</td>\n",
              "      <td>5</td>\n",
              "      <td>3</td>\n",
              "      <td>0.45454545454545453</td>\n",
              "      <td>9</td>\n",
              "      <td>0.193333</td>\n",
              "      <td>1.677446</td>\n",
              "      <td>0.0</td>\n",
              "    </tr>\n",
              "    <tr>\n",
              "      <th>3</th>\n",
              "      <td>3</td>\n",
              "      <td>7</td>\n",
              "      <td>8</td>\n",
              "      <td>mental lone solv</td>\n",
              "      <td>find remaind mathmath divid</td>\n",
              "      <td>0</td>\n",
              "      <td>11</td>\n",
              "      <td>9</td>\n",
              "      <td>50</td>\n",
              "      <td>65</td>\n",
              "      <td>4</td>\n",
              "      <td>6</td>\n",
              "      <td>2</td>\n",
              "      <td>4</td>\n",
              "      <td>0.06956521739130435</td>\n",
              "      <td>19</td>\n",
              "      <td>0.000000</td>\n",
              "      <td>2.767854</td>\n",
              "      <td>0.0</td>\n",
              "    </tr>\n",
              "    <tr>\n",
              "      <th>4</th>\n",
              "      <td>4</td>\n",
              "      <td>9</td>\n",
              "      <td>10</td>\n",
              "      <td>one dissolv water quik sugar salt methan carbon oxid</td>\n",
              "      <td>fish surviv salt water</td>\n",
              "      <td>0</td>\n",
              "      <td>13</td>\n",
              "      <td>7</td>\n",
              "      <td>76</td>\n",
              "      <td>39</td>\n",
              "      <td>5</td>\n",
              "      <td>5</td>\n",
              "      <td>2</td>\n",
              "      <td>2</td>\n",
              "      <td>0.3652173913043478</td>\n",
              "      <td>9</td>\n",
              "      <td>0.235319</td>\n",
              "      <td>2.278973</td>\n",
              "      <td>0.0</td>\n",
              "    </tr>\n",
              "  </tbody>\n",
              "</table>\n",
              "</div>"
            ],
            "text/plain": [
              "  id qid1 qid2  ... cosine_sim_tfidf  euc_dist jac_sim\n",
              "0  0    1    2  ...         0.923270  1.353629     0.0\n",
              "1  1    3    4  ...         0.544641  1.515318     0.0\n",
              "2  2    5    6  ...         0.193333  1.677446     0.0\n",
              "3  3    7    8  ...         0.000000  2.767854     0.0\n",
              "4  4    9   10  ...         0.235319  2.278973     0.0\n",
              "\n",
              "[5 rows x 19 columns]"
            ]
          },
          "metadata": {
            "tags": []
          },
          "execution_count": 78
        }
      ]
    },
    {
      "cell_type": "code",
      "metadata": {
        "id": "KhMmSaYR4-s6",
        "colab_type": "code",
        "colab": {}
      },
      "source": [
        "#drop columns won't be used in the model \n",
        "df_features = df_clean.drop(['id', 'qid1', 'qid2', 'question1', 'question2'], axis=1)"
      ],
      "execution_count": 0,
      "outputs": []
    },
    {
      "cell_type": "code",
      "metadata": {
        "id": "xRnre-t5IT3u",
        "colab_type": "code",
        "outputId": "4a5c2eae-c927-48ca-a80d-f157f353f51d",
        "colab": {
          "base_uri": "https://localhost:8080/",
          "height": 272
        }
      },
      "source": [
        "df_features.dtypes"
      ],
      "execution_count": 0,
      "outputs": [
        {
          "output_type": "execute_result",
          "data": {
            "text/plain": [
              "label                object\n",
              "count1               object\n",
              "count2               object\n",
              "char_count1          object\n",
              "char_count2          object\n",
              "avg_word_len1        object\n",
              "avg_word_len2        object\n",
              "stopwords_count1     object\n",
              "stopwords_count2     object\n",
              "common_words         object\n",
              "unique_word_cnt      object\n",
              "cosine_sim_tfidf    float64\n",
              "euc_dist            float32\n",
              "jac_sim             float64\n",
              "dtype: object"
            ]
          },
          "metadata": {
            "tags": []
          },
          "execution_count": 80
        }
      ]
    },
    {
      "cell_type": "code",
      "metadata": {
        "id": "AnApQdPjtx3d",
        "colab_type": "code",
        "colab": {}
      },
      "source": [
        "#convert to the right data type  \n",
        "df_features['count1'] = df_features['count1'].astype(int)\n",
        "df_features['count2'] = df_features['count2'].astype(int)\n",
        "df_features['char_count1'] = df_features['char_count1'].astype(int)\n",
        "df_features['char_count2'] = df_features['char_count2'].astype(int)\n",
        "df_features['avg_word_len1'] = df_features['avg_word_len1'].astype(int)\n",
        "df_features['avg_word_len2'] = df_features['avg_word_len2'].astype(int)\n",
        "df_features['stopwords_count1'] = df_features['stopwords_count1'].astype(int)\n",
        "df_features['stopwords_count2'] = df_features['stopwords_count2'].astype(int)\n",
        "df_features['label'] = df_features['label'].map({'0':False, '1':True})\n",
        "df_features['common_words'] = df_features['common_words'].astype(float)\n",
        "df_features['unique_word_cnt'] = df_features['unique_word_cnt'].astype(float)"
      ],
      "execution_count": 0,
      "outputs": []
    },
    {
      "cell_type": "markdown",
      "metadata": {
        "id": "IYO3MLABeKaI",
        "colab_type": "text"
      },
      "source": [
        "**Plot correlation matrix**"
      ]
    },
    {
      "cell_type": "code",
      "metadata": {
        "id": "CosdPq_ZeNXI",
        "colab_type": "code",
        "outputId": "3fd39540-c3e8-4227-ce9e-ebebc4ae4a6f",
        "colab": {
          "base_uri": "https://localhost:8080/",
          "height": 579
        }
      },
      "source": [
        "# calculate the correlation matrix\n",
        "#spearman for numeric data, no assumption on the normality of the data distribution \n",
        "\n",
        "corr = df_features.corr(method=\"spearman\")\n",
        "\n",
        "#plot heat map\n",
        "ax = sns.heatmap(\n",
        "    corr, \n",
        "    vmin=-1, vmax=1, center=0,\n",
        "    cmap=sns.diverging_palette(20, 220, n=200),\n",
        "    square=True\n",
        ")\n",
        "ax.set_xticklabels(\n",
        "    ax.get_xticklabels(),\n",
        "    rotation=45,\n",
        "    horizontalalignment='right'\n",
        ")"
      ],
      "execution_count": 0,
      "outputs": [
        {
          "output_type": "execute_result",
          "data": {
            "text/plain": [
              "[Text(0.5, 0, 'label'),\n",
              " Text(1.5, 0, 'count1'),\n",
              " Text(2.5, 0, 'count2'),\n",
              " Text(3.5, 0, 'char_count1'),\n",
              " Text(4.5, 0, 'char_count2'),\n",
              " Text(5.5, 0, 'avg_word_len1'),\n",
              " Text(6.5, 0, 'avg_word_len2'),\n",
              " Text(7.5, 0, 'stopwords_count1'),\n",
              " Text(8.5, 0, 'stopwords_count2'),\n",
              " Text(9.5, 0, 'common_words'),\n",
              " Text(10.5, 0, 'unique_word_cnt'),\n",
              " Text(11.5, 0, 'cosine_sim_tfidf'),\n",
              " Text(12.5, 0, 'euc_dist'),\n",
              " Text(13.5, 0, 'jac_sim')]"
            ]
          },
          "metadata": {
            "tags": []
          },
          "execution_count": 82
        },
        {
          "output_type": "display_data",
          "data": {
            "image/png": "[encoded data removed]",
            "text/plain": [
              "<Figure size 432x288 with 2 Axes>"
            ]
          },
          "metadata": {
            "tags": []
          }
        }
      ]
    },
    {
      "cell_type": "code",
      "metadata": {
        "id": "5xTqYImkgnHq",
        "colab_type": "code",
        "outputId": "c1917261-a8dd-4346-9a29-83d40269dae2",
        "colab": {
          "base_uri": "https://localhost:8080/",
          "height": 303
        }
      },
      "source": [
        "cmap = cmap=sns.diverging_palette(5, 250, as_cmap=True)\n",
        "\n",
        "def magnify():\n",
        "    return [dict(selector=\"th\",\n",
        "                 props=[(\"font-size\", \"7pt\")]),\n",
        "            dict(selector=\"td\",\n",
        "                 props=[('padding', \"0em 0em\")]),\n",
        "            dict(selector=\"th:hover\",\n",
        "                 props=[(\"font-size\", \"12pt\")]),\n",
        "            dict(selector=\"tr:hover td:hover\",\n",
        "                 props=[('max-width', '200px'),\n",
        "                        ('font-size', '12pt')])\n",
        "]\n",
        "\n",
        "corr.style.background_gradient(cmap, axis=1)\\\n",
        "    .set_properties(**{'max-width': '80px', 'font-size': '10pt'})\\\n",
        "    .set_caption(\"Hover to magify\")\\\n",
        "    .set_precision(2)\\\n",
        "    .set_table_styles(magnify())"
      ],
      "execution_count": 0,
      "outputs": [
        {
          "output_type": "execute_result",
          "data": {
            "text/html": [
              "<style  type=\"text/css\" >\n",
              "    #T_98ceb4e4_7773_11ea_815f_0242ac1c0002 th {\n",
              "          font-size: 7pt;\n",
              "    }    #T_98ceb4e4_7773_11ea_815f_0242ac1c0002 td {\n",
              "          padding: 0em 0em;\n",
              "    }    #T_98ceb4e4_7773_11ea_815f_0242ac1c0002 th:hover {\n",
              "          font-size: 12pt;\n",
              "    }    #T_98ceb4e4_7773_11ea_815f_0242ac1c0002 tr:hover td:hover {\n",
              "          max-width: 200px;\n",
              "          font-size: 12pt;\n",
              "    }    #T_98ceb4e4_7773_11ea_815f_0242ac1c0002row0_col0 {\n",
              "            background-color:  #4479bb;\n",
              "            color:  #000000;\n",
              "            max-width:  80px;\n",
              "            font-size:  10pt;\n",
              "        }    #T_98ceb4e4_7773_11ea_815f_0242ac1c0002row0_col1 {\n",
              "            background-color:  #e3748a;\n",
              "            color:  #000000;\n",
              "            max-width:  80px;\n",
              "            font-size:  10pt;\n",
              "        }    #T_98ceb4e4_7773_11ea_815f_0242ac1c0002row0_col2 {\n",
              "            background-color:  #e3768c;\n",
              "            color:  #000000;\n",
              "            max-width:  80px;\n",
              "            font-size:  10pt;\n",
              "        }    #T_98ceb4e4_7773_11ea_815f_0242ac1c0002row0_col3 {\n",
              "            background-color:  #e16d85;\n",
              "            color:  #000000;\n",
              "            max-width:  80px;\n",
              "            font-size:  10pt;\n",
              "        }    #T_98ceb4e4_7773_11ea_815f_0242ac1c0002row0_col4 {\n",
              "            background-color:  #e3768c;\n",
              "            color:  #000000;\n",
              "            max-width:  80px;\n",
              "            font-size:  10pt;\n",
              "        }    #T_98ceb4e4_7773_11ea_815f_0242ac1c0002row0_col5 {\n",
              "            background-color:  #e7879b;\n",
              "            color:  #000000;\n",
              "            max-width:  80px;\n",
              "            font-size:  10pt;\n",
              "        }    #T_98ceb4e4_7773_11ea_815f_0242ac1c0002row0_col6 {\n",
              "            background-color:  #ea96a7;\n",
              "            color:  #000000;\n",
              "            max-width:  80px;\n",
              "            font-size:  10pt;\n",
              "        }    #T_98ceb4e4_7773_11ea_815f_0242ac1c0002row0_col7 {\n",
              "            background-color:  #e57d92;\n",
              "            color:  #000000;\n",
              "            max-width:  80px;\n",
              "            font-size:  10pt;\n",
              "        }    #T_98ceb4e4_7773_11ea_815f_0242ac1c0002row0_col8 {\n",
              "            background-color:  #e47c91;\n",
              "            color:  #000000;\n",
              "            max-width:  80px;\n",
              "            font-size:  10pt;\n",
              "        }    #T_98ceb4e4_7773_11ea_815f_0242ac1c0002row0_col9 {\n",
              "            background-color:  #e4ecf5;\n",
              "            color:  #000000;\n",
              "            max-width:  80px;\n",
              "            font-size:  10pt;\n",
              "        }    #T_98ceb4e4_7773_11ea_815f_0242ac1c0002row0_col10 {\n",
              "            background-color:  #d73c5b;\n",
              "            color:  #f1f1f1;\n",
              "            max-width:  80px;\n",
              "            font-size:  10pt;\n",
              "        }    #T_98ceb4e4_7773_11ea_815f_0242ac1c0002row0_col11 {\n",
              "            background-color:  #f8dee3;\n",
              "            color:  #000000;\n",
              "            max-width:  80px;\n",
              "            font-size:  10pt;\n",
              "        }    #T_98ceb4e4_7773_11ea_815f_0242ac1c0002row0_col12 {\n",
              "            background-color:  #e27389;\n",
              "            color:  #000000;\n",
              "            max-width:  80px;\n",
              "            font-size:  10pt;\n",
              "        }    #T_98ceb4e4_7773_11ea_815f_0242ac1c0002row0_col13 {\n",
              "            background-color:  #ea9aaa;\n",
              "            color:  #000000;\n",
              "            max-width:  80px;\n",
              "            font-size:  10pt;\n",
              "        }    #T_98ceb4e4_7773_11ea_815f_0242ac1c0002row1_col0 {\n",
              "            background-color:  #e27087;\n",
              "            color:  #000000;\n",
              "            max-width:  80px;\n",
              "            font-size:  10pt;\n",
              "        }    #T_98ceb4e4_7773_11ea_815f_0242ac1c0002row1_col1 {\n",
              "            background-color:  #4479bb;\n",
              "            color:  #000000;\n",
              "            max-width:  80px;\n",
              "            font-size:  10pt;\n",
              "        }    #T_98ceb4e4_7773_11ea_815f_0242ac1c0002row1_col2 {\n",
              "            background-color:  #c1d3e8;\n",
              "            color:  #000000;\n",
              "            max-width:  80px;\n",
              "            font-size:  10pt;\n",
              "        }    #T_98ceb4e4_7773_11ea_815f_0242ac1c0002row1_col3 {\n",
              "            background-color:  #5384c0;\n",
              "            color:  #000000;\n",
              "            max-width:  80px;\n",
              "            font-size:  10pt;\n",
              "        }    #T_98ceb4e4_7773_11ea_815f_0242ac1c0002row1_col4 {\n",
              "            background-color:  #c7d7eb;\n",
              "            color:  #000000;\n",
              "            max-width:  80px;\n",
              "            font-size:  10pt;\n",
              "        }    #T_98ceb4e4_7773_11ea_815f_0242ac1c0002row1_col5 {\n",
              "            background-color:  #e47a90;\n",
              "            color:  #000000;\n",
              "            max-width:  80px;\n",
              "            font-size:  10pt;\n",
              "        }    #T_98ceb4e4_7773_11ea_815f_0242ac1c0002row1_col6 {\n",
              "            background-color:  #e88d9f;\n",
              "            color:  #000000;\n",
              "            max-width:  80px;\n",
              "            font-size:  10pt;\n",
              "        }    #T_98ceb4e4_7773_11ea_815f_0242ac1c0002row1_col7 {\n",
              "            background-color:  #6d96ca;\n",
              "            color:  #000000;\n",
              "            max-width:  80px;\n",
              "            font-size:  10pt;\n",
              "        }    #T_98ceb4e4_7773_11ea_815f_0242ac1c0002row1_col8 {\n",
              "            background-color:  #e0e9f4;\n",
              "            color:  #000000;\n",
              "            max-width:  80px;\n",
              "            font-size:  10pt;\n",
              "        }    #T_98ceb4e4_7773_11ea_815f_0242ac1c0002row1_col9 {\n",
              "            background-color:  #d94563;\n",
              "            color:  #f1f1f1;\n",
              "            max-width:  80px;\n",
              "            font-size:  10pt;\n",
              "        }    #T_98ceb4e4_7773_11ea_815f_0242ac1c0002row1_col10 {\n",
              "            background-color:  #f5ced6;\n",
              "            color:  #000000;\n",
              "            max-width:  80px;\n",
              "            font-size:  10pt;\n",
              "        }    #T_98ceb4e4_7773_11ea_815f_0242ac1c0002row1_col11 {\n",
              "            background-color:  #da4865;\n",
              "            color:  #000000;\n",
              "            max-width:  80px;\n",
              "            font-size:  10pt;\n",
              "        }    #T_98ceb4e4_7773_11ea_815f_0242ac1c0002row1_col12 {\n",
              "            background-color:  #d73c5b;\n",
              "            color:  #f1f1f1;\n",
              "            max-width:  80px;\n",
              "            font-size:  10pt;\n",
              "        }    #T_98ceb4e4_7773_11ea_815f_0242ac1c0002row1_col13 {\n",
              "            background-color:  #ea96a7;\n",
              "            color:  #000000;\n",
              "            max-width:  80px;\n",
              "            font-size:  10pt;\n",
              "        }    #T_98ceb4e4_7773_11ea_815f_0242ac1c0002row2_col0 {\n",
              "            background-color:  #e3768c;\n",
              "            color:  #000000;\n",
              "            max-width:  80px;\n",
              "            font-size:  10pt;\n",
              "        }    #T_98ceb4e4_7773_11ea_815f_0242ac1c0002row2_col1 {\n",
              "            background-color:  #c0d2e8;\n",
              "            color:  #000000;\n",
              "            max-width:  80px;\n",
              "            font-size:  10pt;\n",
              "        }    #T_98ceb4e4_7773_11ea_815f_0242ac1c0002row2_col2 {\n",
              "            background-color:  #4479bb;\n",
              "            color:  #000000;\n",
              "            max-width:  80px;\n",
              "            font-size:  10pt;\n",
              "        }    #T_98ceb4e4_7773_11ea_815f_0242ac1c0002row2_col3 {\n",
              "            background-color:  #c5d5ea;\n",
              "            color:  #000000;\n",
              "            max-width:  80px;\n",
              "            font-size:  10pt;\n",
              "        }    #T_98ceb4e4_7773_11ea_815f_0242ac1c0002row2_col4 {\n",
              "            background-color:  #5182bf;\n",
              "            color:  #000000;\n",
              "            max-width:  80px;\n",
              "            font-size:  10pt;\n",
              "        }    #T_98ceb4e4_7773_11ea_815f_0242ac1c0002row2_col5 {\n",
              "            background-color:  #ea96a7;\n",
              "            color:  #000000;\n",
              "            max-width:  80px;\n",
              "            font-size:  10pt;\n",
              "        }    #T_98ceb4e4_7773_11ea_815f_0242ac1c0002row2_col6 {\n",
              "            background-color:  #e47a90;\n",
              "            color:  #000000;\n",
              "            max-width:  80px;\n",
              "            font-size:  10pt;\n",
              "        }    #T_98ceb4e4_7773_11ea_815f_0242ac1c0002row2_col7 {\n",
              "            background-color:  #dfe8f3;\n",
              "            color:  #000000;\n",
              "            max-width:  80px;\n",
              "            font-size:  10pt;\n",
              "        }    #T_98ceb4e4_7773_11ea_815f_0242ac1c0002row2_col8 {\n",
              "            background-color:  #6a94c9;\n",
              "            color:  #000000;\n",
              "            max-width:  80px;\n",
              "            font-size:  10pt;\n",
              "        }    #T_98ceb4e4_7773_11ea_815f_0242ac1c0002row2_col9 {\n",
              "            background-color:  #da4b68;\n",
              "            color:  #000000;\n",
              "            max-width:  80px;\n",
              "            font-size:  10pt;\n",
              "        }    #T_98ceb4e4_7773_11ea_815f_0242ac1c0002row2_col10 {\n",
              "            background-color:  #f5cfd7;\n",
              "            color:  #000000;\n",
              "            max-width:  80px;\n",
              "            font-size:  10pt;\n",
              "        }    #T_98ceb4e4_7773_11ea_815f_0242ac1c0002row2_col11 {\n",
              "            background-color:  #db4d69;\n",
              "            color:  #000000;\n",
              "            max-width:  80px;\n",
              "            font-size:  10pt;\n",
              "        }    #T_98ceb4e4_7773_11ea_815f_0242ac1c0002row2_col12 {\n",
              "            background-color:  #d73c5b;\n",
              "            color:  #f1f1f1;\n",
              "            max-width:  80px;\n",
              "            font-size:  10pt;\n",
              "        }    #T_98ceb4e4_7773_11ea_815f_0242ac1c0002row2_col13 {\n",
              "            background-color:  #ea9aaa;\n",
              "            color:  #000000;\n",
              "            max-width:  80px;\n",
              "            font-size:  10pt;\n",
              "        }    #T_98ceb4e4_7773_11ea_815f_0242ac1c0002row3_col0 {\n",
              "            background-color:  #df617a;\n",
              "            color:  #000000;\n",
              "            max-width:  80px;\n",
              "            font-size:  10pt;\n",
              "        }    #T_98ceb4e4_7773_11ea_815f_0242ac1c0002row3_col1 {\n",
              "            background-color:  #5384c0;\n",
              "            color:  #000000;\n",
              "            max-width:  80px;\n",
              "            font-size:  10pt;\n",
              "        }    #T_98ceb4e4_7773_11ea_815f_0242ac1c0002row3_col2 {\n",
              "            background-color:  #cad9ec;\n",
              "            color:  #000000;\n",
              "            max-width:  80px;\n",
              "            font-size:  10pt;\n",
              "        }    #T_98ceb4e4_7773_11ea_815f_0242ac1c0002row3_col3 {\n",
              "            background-color:  #4479bb;\n",
              "            color:  #000000;\n",
              "            max-width:  80px;\n",
              "            font-size:  10pt;\n",
              "        }    #T_98ceb4e4_7773_11ea_815f_0242ac1c0002row3_col4 {\n",
              "            background-color:  #bdd0e7;\n",
              "            color:  #000000;\n",
              "            max-width:  80px;\n",
              "            font-size:  10pt;\n",
              "        }    #T_98ceb4e4_7773_11ea_815f_0242ac1c0002row3_col5 {\n",
              "            background-color:  #f3c5ce;\n",
              "            color:  #000000;\n",
              "            max-width:  80px;\n",
              "            font-size:  10pt;\n",
              "        }    #T_98ceb4e4_7773_11ea_815f_0242ac1c0002row3_col6 {\n",
              "            background-color:  #efb2bf;\n",
              "            color:  #000000;\n",
              "            max-width:  80px;\n",
              "            font-size:  10pt;\n",
              "        }    #T_98ceb4e4_7773_11ea_815f_0242ac1c0002row3_col7 {\n",
              "            background-color:  #85a7d2;\n",
              "            color:  #000000;\n",
              "            max-width:  80px;\n",
              "            font-size:  10pt;\n",
              "        }    #T_98ceb4e4_7773_11ea_815f_0242ac1c0002row3_col8 {\n",
              "            background-color:  #e8eff7;\n",
              "            color:  #000000;\n",
              "            max-width:  80px;\n",
              "            font-size:  10pt;\n",
              "        }    #T_98ceb4e4_7773_11ea_815f_0242ac1c0002row3_col9 {\n",
              "            background-color:  #d73c5b;\n",
              "            color:  #f1f1f1;\n",
              "            max-width:  80px;\n",
              "            font-size:  10pt;\n",
              "        }    #T_98ceb4e4_7773_11ea_815f_0242ac1c0002row3_col10 {\n",
              "            background-color:  #f3c5ce;\n",
              "            color:  #000000;\n",
              "            max-width:  80px;\n",
              "            font-size:  10pt;\n",
              "        }    #T_98ceb4e4_7773_11ea_815f_0242ac1c0002row3_col11 {\n",
              "            background-color:  #d73d5c;\n",
              "            color:  #f1f1f1;\n",
              "            max-width:  80px;\n",
              "            font-size:  10pt;\n",
              "        }    #T_98ceb4e4_7773_11ea_815f_0242ac1c0002row3_col12 {\n",
              "            background-color:  #da4b68;\n",
              "            color:  #000000;\n",
              "            max-width:  80px;\n",
              "            font-size:  10pt;\n",
              "        }    #T_98ceb4e4_7773_11ea_815f_0242ac1c0002row3_col13 {\n",
              "            background-color:  #e88d9f;\n",
              "            color:  #000000;\n",
              "            max-width:  80px;\n",
              "            font-size:  10pt;\n",
              "        }    #T_98ceb4e4_7773_11ea_815f_0242ac1c0002row4_col0 {\n",
              "            background-color:  #e0657d;\n",
              "            color:  #000000;\n",
              "            max-width:  80px;\n",
              "            font-size:  10pt;\n",
              "        }    #T_98ceb4e4_7773_11ea_815f_0242ac1c0002row4_col1 {\n",
              "            background-color:  #cddbed;\n",
              "            color:  #000000;\n",
              "            max-width:  80px;\n",
              "            font-size:  10pt;\n",
              "        }    #T_98ceb4e4_7773_11ea_815f_0242ac1c0002row4_col2 {\n",
              "            background-color:  #5384c0;\n",
              "            color:  #000000;\n",
              "            max-width:  80px;\n",
              "            font-size:  10pt;\n",
              "        }    #T_98ceb4e4_7773_11ea_815f_0242ac1c0002row4_col3 {\n",
              "            background-color:  #c0d2e8;\n",
              "            color:  #000000;\n",
              "            max-width:  80px;\n",
              "            font-size:  10pt;\n",
              "        }    #T_98ceb4e4_7773_11ea_815f_0242ac1c0002row4_col4 {\n",
              "            background-color:  #4479bb;\n",
              "            color:  #000000;\n",
              "            max-width:  80px;\n",
              "            font-size:  10pt;\n",
              "        }    #T_98ceb4e4_7773_11ea_815f_0242ac1c0002row4_col5 {\n",
              "            background-color:  #f0b4c0;\n",
              "            color:  #000000;\n",
              "            max-width:  80px;\n",
              "            font-size:  10pt;\n",
              "        }    #T_98ceb4e4_7773_11ea_815f_0242ac1c0002row4_col6 {\n",
              "            background-color:  #f1bbc6;\n",
              "            color:  #000000;\n",
              "            max-width:  80px;\n",
              "            font-size:  10pt;\n",
              "        }    #T_98ceb4e4_7773_11ea_815f_0242ac1c0002row4_col7 {\n",
              "            background-color:  #ecf2f8;\n",
              "            color:  #000000;\n",
              "            max-width:  80px;\n",
              "            font-size:  10pt;\n",
              "        }    #T_98ceb4e4_7773_11ea_815f_0242ac1c0002row4_col8 {\n",
              "            background-color:  #81a4d1;\n",
              "            color:  #000000;\n",
              "            max-width:  80px;\n",
              "            font-size:  10pt;\n",
              "        }    #T_98ceb4e4_7773_11ea_815f_0242ac1c0002row4_col9 {\n",
              "            background-color:  #d73d5c;\n",
              "            color:  #f1f1f1;\n",
              "            max-width:  80px;\n",
              "            font-size:  10pt;\n",
              "        }    #T_98ceb4e4_7773_11ea_815f_0242ac1c0002row4_col10 {\n",
              "            background-color:  #f1bbc6;\n",
              "            color:  #000000;\n",
              "            max-width:  80px;\n",
              "            font-size:  10pt;\n",
              "        }    #T_98ceb4e4_7773_11ea_815f_0242ac1c0002row4_col11 {\n",
              "            background-color:  #d73c5b;\n",
              "            color:  #f1f1f1;\n",
              "            max-width:  80px;\n",
              "            font-size:  10pt;\n",
              "        }    #T_98ceb4e4_7773_11ea_815f_0242ac1c0002row4_col12 {\n",
              "            background-color:  #d83e5d;\n",
              "            color:  #f1f1f1;\n",
              "            max-width:  80px;\n",
              "            font-size:  10pt;\n",
              "        }    #T_98ceb4e4_7773_11ea_815f_0242ac1c0002row4_col13 {\n",
              "            background-color:  #e78a9d;\n",
              "            color:  #000000;\n",
              "            max-width:  80px;\n",
              "            font-size:  10pt;\n",
              "        }    #T_98ceb4e4_7773_11ea_815f_0242ac1c0002row5_col0 {\n",
              "            background-color:  #de5c76;\n",
              "            color:  #000000;\n",
              "            max-width:  80px;\n",
              "            font-size:  10pt;\n",
              "        }    #T_98ceb4e4_7773_11ea_815f_0242ac1c0002row5_col1 {\n",
              "            background-color:  #dc546f;\n",
              "            color:  #000000;\n",
              "            max-width:  80px;\n",
              "            font-size:  10pt;\n",
              "        }    #T_98ceb4e4_7773_11ea_815f_0242ac1c0002row5_col2 {\n",
              "            background-color:  #e16d85;\n",
              "            color:  #000000;\n",
              "            max-width:  80px;\n",
              "            font-size:  10pt;\n",
              "        }    #T_98ceb4e4_7773_11ea_815f_0242ac1c0002row5_col3 {\n",
              "            background-color:  #eeaebb;\n",
              "            color:  #000000;\n",
              "            max-width:  80px;\n",
              "            font-size:  10pt;\n",
              "        }    #T_98ceb4e4_7773_11ea_815f_0242ac1c0002row5_col4 {\n",
              "            background-color:  #eb9ead;\n",
              "            color:  #000000;\n",
              "            max-width:  80px;\n",
              "            font-size:  10pt;\n",
              "        }    #T_98ceb4e4_7773_11ea_815f_0242ac1c0002row5_col5 {\n",
              "            background-color:  #4479bb;\n",
              "            color:  #000000;\n",
              "            max-width:  80px;\n",
              "            font-size:  10pt;\n",
              "        }    #T_98ceb4e4_7773_11ea_815f_0242ac1c0002row5_col6 {\n",
              "            background-color:  #e4ecf5;\n",
              "            color:  #000000;\n",
              "            max-width:  80px;\n",
              "            font-size:  10pt;\n",
              "        }    #T_98ceb4e4_7773_11ea_815f_0242ac1c0002row5_col7 {\n",
              "            background-color:  #d73c5b;\n",
              "            color:  #f1f1f1;\n",
              "            max-width:  80px;\n",
              "            font-size:  10pt;\n",
              "        }    #T_98ceb4e4_7773_11ea_815f_0242ac1c0002row5_col8 {\n",
              "            background-color:  #e16981;\n",
              "            color:  #000000;\n",
              "            max-width:  80px;\n",
              "            font-size:  10pt;\n",
              "        }    #T_98ceb4e4_7773_11ea_815f_0242ac1c0002row5_col9 {\n",
              "            background-color:  #e27087;\n",
              "            color:  #000000;\n",
              "            max-width:  80px;\n",
              "            font-size:  10pt;\n",
              "        }    #T_98ceb4e4_7773_11ea_815f_0242ac1c0002row5_col10 {\n",
              "            background-color:  #e16981;\n",
              "            color:  #000000;\n",
              "            max-width:  80px;\n",
              "            font-size:  10pt;\n",
              "        }    #T_98ceb4e4_7773_11ea_815f_0242ac1c0002row5_col11 {\n",
              "            background-color:  #e16d85;\n",
              "            color:  #000000;\n",
              "            max-width:  80px;\n",
              "            font-size:  10pt;\n",
              "        }    #T_98ceb4e4_7773_11ea_815f_0242ac1c0002row5_col12 {\n",
              "            background-color:  #f2bfca;\n",
              "            color:  #000000;\n",
              "            max-width:  80px;\n",
              "            font-size:  10pt;\n",
              "        }    #T_98ceb4e4_7773_11ea_815f_0242ac1c0002row5_col13 {\n",
              "            background-color:  #e27288;\n",
              "            color:  #000000;\n",
              "            max-width:  80px;\n",
              "            font-size:  10pt;\n",
              "        }    #T_98ceb4e4_7773_11ea_815f_0242ac1c0002row6_col0 {\n",
              "            background-color:  #e26f86;\n",
              "            color:  #000000;\n",
              "            max-width:  80px;\n",
              "            font-size:  10pt;\n",
              "        }    #T_98ceb4e4_7773_11ea_815f_0242ac1c0002row6_col1 {\n",
              "            background-color:  #e16981;\n",
              "            color:  #000000;\n",
              "            max-width:  80px;\n",
              "            font-size:  10pt;\n",
              "        }    #T_98ceb4e4_7773_11ea_815f_0242ac1c0002row6_col2 {\n",
              "            background-color:  #db4f6b;\n",
              "            color:  #000000;\n",
              "            max-width:  80px;\n",
              "            font-size:  10pt;\n",
              "        }    #T_98ceb4e4_7773_11ea_815f_0242ac1c0002row6_col3 {\n",
              "            background-color:  #ea9aaa;\n",
              "            color:  #000000;\n",
              "            max-width:  80px;\n",
              "            font-size:  10pt;\n",
              "        }    #T_98ceb4e4_7773_11ea_815f_0242ac1c0002row6_col4 {\n",
              "            background-color:  #eda7b5;\n",
              "            color:  #000000;\n",
              "            max-width:  80px;\n",
              "            font-size:  10pt;\n",
              "        }    #T_98ceb4e4_7773_11ea_815f_0242ac1c0002row6_col5 {\n",
              "            background-color:  #e4ecf5;\n",
              "            color:  #000000;\n",
              "            max-width:  80px;\n",
              "            font-size:  10pt;\n",
              "        }    #T_98ceb4e4_7773_11ea_815f_0242ac1c0002row6_col6 {\n",
              "            background-color:  #4479bb;\n",
              "            color:  #000000;\n",
              "            max-width:  80px;\n",
              "            font-size:  10pt;\n",
              "        }    #T_98ceb4e4_7773_11ea_815f_0242ac1c0002row6_col7 {\n",
              "            background-color:  #e0657d;\n",
              "            color:  #000000;\n",
              "            max-width:  80px;\n",
              "            font-size:  10pt;\n",
              "        }    #T_98ceb4e4_7773_11ea_815f_0242ac1c0002row6_col8 {\n",
              "            background-color:  #d73c5b;\n",
              "            color:  #f1f1f1;\n",
              "            max-width:  80px;\n",
              "            font-size:  10pt;\n",
              "        }    #T_98ceb4e4_7773_11ea_815f_0242ac1c0002row6_col9 {\n",
              "            background-color:  #e68396;\n",
              "            color:  #000000;\n",
              "            max-width:  80px;\n",
              "            font-size:  10pt;\n",
              "        }    #T_98ceb4e4_7773_11ea_815f_0242ac1c0002row6_col10 {\n",
              "            background-color:  #dd5872;\n",
              "            color:  #000000;\n",
              "            max-width:  80px;\n",
              "            font-size:  10pt;\n",
              "        }    #T_98ceb4e4_7773_11ea_815f_0242ac1c0002row6_col11 {\n",
              "            background-color:  #e4798e;\n",
              "            color:  #000000;\n",
              "            max-width:  80px;\n",
              "            font-size:  10pt;\n",
              "        }    #T_98ceb4e4_7773_11ea_815f_0242ac1c0002row6_col12 {\n",
              "            background-color:  #f1b9c4;\n",
              "            color:  #000000;\n",
              "            max-width:  80px;\n",
              "            font-size:  10pt;\n",
              "        }    #T_98ceb4e4_7773_11ea_815f_0242ac1c0002row6_col13 {\n",
              "            background-color:  #e27288;\n",
              "            color:  #000000;\n",
              "            max-width:  80px;\n",
              "            font-size:  10pt;\n",
              "        }    #T_98ceb4e4_7773_11ea_815f_0242ac1c0002row7_col0 {\n",
              "            background-color:  #e68598;\n",
              "            color:  #000000;\n",
              "            max-width:  80px;\n",
              "            font-size:  10pt;\n",
              "        }    #T_98ceb4e4_7773_11ea_815f_0242ac1c0002row7_col1 {\n",
              "            background-color:  #6b95c9;\n",
              "            color:  #000000;\n",
              "            max-width:  80px;\n",
              "            font-size:  10pt;\n",
              "        }    #T_98ceb4e4_7773_11ea_815f_0242ac1c0002row7_col2 {\n",
              "            background-color:  #dae5f2;\n",
              "            color:  #000000;\n",
              "            max-width:  80px;\n",
              "            font-size:  10pt;\n",
              "        }    #T_98ceb4e4_7773_11ea_815f_0242ac1c0002row7_col3 {\n",
              "            background-color:  #81a4d1;\n",
              "            color:  #000000;\n",
              "            max-width:  80px;\n",
              "            font-size:  10pt;\n",
              "        }    #T_98ceb4e4_7773_11ea_815f_0242ac1c0002row7_col4 {\n",
              "            background-color:  #e0e9f4;\n",
              "            color:  #000000;\n",
              "            max-width:  80px;\n",
              "            font-size:  10pt;\n",
              "        }    #T_98ceb4e4_7773_11ea_815f_0242ac1c0002row7_col5 {\n",
              "            background-color:  #e27288;\n",
              "            color:  #000000;\n",
              "            max-width:  80px;\n",
              "            font-size:  10pt;\n",
              "        }    #T_98ceb4e4_7773_11ea_815f_0242ac1c0002row7_col6 {\n",
              "            background-color:  #e994a5;\n",
              "            color:  #000000;\n",
              "            max-width:  80px;\n",
              "            font-size:  10pt;\n",
              "        }    #T_98ceb4e4_7773_11ea_815f_0242ac1c0002row7_col7 {\n",
              "            background-color:  #4479bb;\n",
              "            color:  #000000;\n",
              "            max-width:  80px;\n",
              "            font-size:  10pt;\n",
              "        }    #T_98ceb4e4_7773_11ea_815f_0242ac1c0002row7_col8 {\n",
              "            background-color:  #d5e1f0;\n",
              "            color:  #000000;\n",
              "            max-width:  80px;\n",
              "            font-size:  10pt;\n",
              "        }    #T_98ceb4e4_7773_11ea_815f_0242ac1c0002row7_col9 {\n",
              "            background-color:  #e16d85;\n",
              "            color:  #000000;\n",
              "            max-width:  80px;\n",
              "            font-size:  10pt;\n",
              "        }    #T_98ceb4e4_7773_11ea_815f_0242ac1c0002row7_col10 {\n",
              "            background-color:  #f1b8c3;\n",
              "            color:  #000000;\n",
              "            max-width:  80px;\n",
              "            font-size:  10pt;\n",
              "        }    #T_98ceb4e4_7773_11ea_815f_0242ac1c0002row7_col11 {\n",
              "            background-color:  #e26f86;\n",
              "            color:  #000000;\n",
              "            max-width:  80px;\n",
              "            font-size:  10pt;\n",
              "        }    #T_98ceb4e4_7773_11ea_815f_0242ac1c0002row7_col12 {\n",
              "            background-color:  #d73c5b;\n",
              "            color:  #f1f1f1;\n",
              "            max-width:  80px;\n",
              "            font-size:  10pt;\n",
              "        }    #T_98ceb4e4_7773_11ea_815f_0242ac1c0002row7_col13 {\n",
              "            background-color:  #eca1b0;\n",
              "            color:  #000000;\n",
              "            max-width:  80px;\n",
              "            font-size:  10pt;\n",
              "        }    #T_98ceb4e4_7773_11ea_815f_0242ac1c0002row8_col0 {\n",
              "            background-color:  #e7879b;\n",
              "            color:  #000000;\n",
              "            max-width:  80px;\n",
              "            font-size:  10pt;\n",
              "        }    #T_98ceb4e4_7773_11ea_815f_0242ac1c0002row8_col1 {\n",
              "            background-color:  #d8e3f1;\n",
              "            color:  #000000;\n",
              "            max-width:  80px;\n",
              "            font-size:  10pt;\n",
              "        }    #T_98ceb4e4_7773_11ea_815f_0242ac1c0002row8_col2 {\n",
              "            background-color:  #6993c8;\n",
              "            color:  #000000;\n",
              "            max-width:  80px;\n",
              "            font-size:  10pt;\n",
              "        }    #T_98ceb4e4_7773_11ea_815f_0242ac1c0002row8_col3 {\n",
              "            background-color:  #dde7f3;\n",
              "            color:  #000000;\n",
              "            max-width:  80px;\n",
              "            font-size:  10pt;\n",
              "        }    #T_98ceb4e4_7773_11ea_815f_0242ac1c0002row8_col4 {\n",
              "            background-color:  #7ba0cf;\n",
              "            color:  #000000;\n",
              "            max-width:  80px;\n",
              "            font-size:  10pt;\n",
              "        }    #T_98ceb4e4_7773_11ea_815f_0242ac1c0002row8_col5 {\n",
              "            background-color:  #eb9bab;\n",
              "            color:  #000000;\n",
              "            max-width:  80px;\n",
              "            font-size:  10pt;\n",
              "        }    #T_98ceb4e4_7773_11ea_815f_0242ac1c0002row8_col6 {\n",
              "            background-color:  #e27389;\n",
              "            color:  #000000;\n",
              "            max-width:  80px;\n",
              "            font-size:  10pt;\n",
              "        }    #T_98ceb4e4_7773_11ea_815f_0242ac1c0002row8_col7 {\n",
              "            background-color:  #d4e0ef;\n",
              "            color:  #000000;\n",
              "            max-width:  80px;\n",
              "            font-size:  10pt;\n",
              "        }    #T_98ceb4e4_7773_11ea_815f_0242ac1c0002row8_col8 {\n",
              "            background-color:  #4479bb;\n",
              "            color:  #000000;\n",
              "            max-width:  80px;\n",
              "            font-size:  10pt;\n",
              "        }    #T_98ceb4e4_7773_11ea_815f_0242ac1c0002row8_col9 {\n",
              "            background-color:  #e27087;\n",
              "            color:  #000000;\n",
              "            max-width:  80px;\n",
              "            font-size:  10pt;\n",
              "        }    #T_98ceb4e4_7773_11ea_815f_0242ac1c0002row8_col10 {\n",
              "            background-color:  #f1bbc6;\n",
              "            color:  #000000;\n",
              "            max-width:  80px;\n",
              "            font-size:  10pt;\n",
              "        }    #T_98ceb4e4_7773_11ea_815f_0242ac1c0002row8_col11 {\n",
              "            background-color:  #e27087;\n",
              "            color:  #000000;\n",
              "            max-width:  80px;\n",
              "            font-size:  10pt;\n",
              "        }    #T_98ceb4e4_7773_11ea_815f_0242ac1c0002row8_col12 {\n",
              "            background-color:  #d73c5b;\n",
              "            color:  #f1f1f1;\n",
              "            max-width:  80px;\n",
              "            font-size:  10pt;\n",
              "        }    #T_98ceb4e4_7773_11ea_815f_0242ac1c0002row8_col13 {\n",
              "            background-color:  #eca4b3;\n",
              "            color:  #000000;\n",
              "            max-width:  80px;\n",
              "            font-size:  10pt;\n",
              "        }    #T_98ceb4e4_7773_11ea_815f_0242ac1c0002row9_col0 {\n",
              "            background-color:  #bfd1e8;\n",
              "            color:  #000000;\n",
              "            max-width:  80px;\n",
              "            font-size:  10pt;\n",
              "        }    #T_98ceb4e4_7773_11ea_815f_0242ac1c0002row9_col1 {\n",
              "            background-color:  #eb9dac;\n",
              "            color:  #000000;\n",
              "            max-width:  80px;\n",
              "            font-size:  10pt;\n",
              "        }    #T_98ceb4e4_7773_11ea_815f_0242ac1c0002row9_col2 {\n",
              "            background-color:  #eb9ead;\n",
              "            color:  #000000;\n",
              "            max-width:  80px;\n",
              "            font-size:  10pt;\n",
              "        }    #T_98ceb4e4_7773_11ea_815f_0242ac1c0002row9_col3 {\n",
              "            background-color:  #eb9dac;\n",
              "            color:  #000000;\n",
              "            max-width:  80px;\n",
              "            font-size:  10pt;\n",
              "        }    #T_98ceb4e4_7773_11ea_815f_0242ac1c0002row9_col4 {\n",
              "            background-color:  #eca3b1;\n",
              "            color:  #000000;\n",
              "            max-width:  80px;\n",
              "            font-size:  10pt;\n",
              "        }    #T_98ceb4e4_7773_11ea_815f_0242ac1c0002row9_col5 {\n",
              "            background-color:  #f7d9df;\n",
              "            color:  #000000;\n",
              "            max-width:  80px;\n",
              "            font-size:  10pt;\n",
              "        }    #T_98ceb4e4_7773_11ea_815f_0242ac1c0002row9_col6 {\n",
              "            background-color:  #fae4e9;\n",
              "            color:  #000000;\n",
              "            max-width:  80px;\n",
              "            font-size:  10pt;\n",
              "        }    #T_98ceb4e4_7773_11ea_815f_0242ac1c0002row9_col7 {\n",
              "            background-color:  #efb2bf;\n",
              "            color:  #000000;\n",
              "            max-width:  80px;\n",
              "            font-size:  10pt;\n",
              "        }    #T_98ceb4e4_7773_11ea_815f_0242ac1c0002row9_col8 {\n",
              "            background-color:  #efb2bf;\n",
              "            color:  #000000;\n",
              "            max-width:  80px;\n",
              "            font-size:  10pt;\n",
              "        }    #T_98ceb4e4_7773_11ea_815f_0242ac1c0002row9_col9 {\n",
              "            background-color:  #4479bb;\n",
              "            color:  #000000;\n",
              "            max-width:  80px;\n",
              "            font-size:  10pt;\n",
              "        }    #T_98ceb4e4_7773_11ea_815f_0242ac1c0002row9_col10 {\n",
              "            background-color:  #d73c5b;\n",
              "            color:  #f1f1f1;\n",
              "            max-width:  80px;\n",
              "            font-size:  10pt;\n",
              "        }    #T_98ceb4e4_7773_11ea_815f_0242ac1c0002row9_col11 {\n",
              "            background-color:  #7fa3d0;\n",
              "            color:  #000000;\n",
              "            max-width:  80px;\n",
              "            font-size:  10pt;\n",
              "        }    #T_98ceb4e4_7773_11ea_815f_0242ac1c0002row9_col12 {\n",
              "            background-color:  #eeacba;\n",
              "            color:  #000000;\n",
              "            max-width:  80px;\n",
              "            font-size:  10pt;\n",
              "        }    #T_98ceb4e4_7773_11ea_815f_0242ac1c0002row9_col13 {\n",
              "            background-color:  #f7dae0;\n",
              "            color:  #000000;\n",
              "            max-width:  80px;\n",
              "            font-size:  10pt;\n",
              "        }    #T_98ceb4e4_7773_11ea_815f_0242ac1c0002row10_col0 {\n",
              "            background-color:  #e991a3;\n",
              "            color:  #000000;\n",
              "            max-width:  80px;\n",
              "            font-size:  10pt;\n",
              "        }    #T_98ceb4e4_7773_11ea_815f_0242ac1c0002row10_col1 {\n",
              "            background-color:  #e3ebf5;\n",
              "            color:  #000000;\n",
              "            max-width:  80px;\n",
              "            font-size:  10pt;\n",
              "        }    #T_98ceb4e4_7773_11ea_815f_0242ac1c0002row10_col2 {\n",
              "            background-color:  #e4ecf5;\n",
              "            color:  #000000;\n",
              "            max-width:  80px;\n",
              "            font-size:  10pt;\n",
              "        }    #T_98ceb4e4_7773_11ea_815f_0242ac1c0002row10_col3 {\n",
              "            background-color:  #e6edf6;\n",
              "            color:  #000000;\n",
              "            max-width:  80px;\n",
              "            font-size:  10pt;\n",
              "        }    #T_98ceb4e4_7773_11ea_815f_0242ac1c0002row10_col4 {\n",
              "            background-color:  #eaf0f7;\n",
              "            color:  #000000;\n",
              "            max-width:  80px;\n",
              "            font-size:  10pt;\n",
              "        }    #T_98ceb4e4_7773_11ea_815f_0242ac1c0002row10_col5 {\n",
              "            background-color:  #f6d3da;\n",
              "            color:  #000000;\n",
              "            max-width:  80px;\n",
              "            font-size:  10pt;\n",
              "        }    #T_98ceb4e4_7773_11ea_815f_0242ac1c0002row10_col6 {\n",
              "            background-color:  #f4c8d0;\n",
              "            color:  #000000;\n",
              "            max-width:  80px;\n",
              "            font-size:  10pt;\n",
              "        }    #T_98ceb4e4_7773_11ea_815f_0242ac1c0002row10_col7 {\n",
              "            background-color:  #f2f2f2;\n",
              "            color:  #000000;\n",
              "            max-width:  80px;\n",
              "            font-size:  10pt;\n",
              "        }    #T_98ceb4e4_7773_11ea_815f_0242ac1c0002row10_col8 {\n",
              "            background-color:  #f2f2f2;\n",
              "            color:  #000000;\n",
              "            max-width:  80px;\n",
              "            font-size:  10pt;\n",
              "        }    #T_98ceb4e4_7773_11ea_815f_0242ac1c0002row10_col9 {\n",
              "            background-color:  #d73c5b;\n",
              "            color:  #f1f1f1;\n",
              "            max-width:  80px;\n",
              "            font-size:  10pt;\n",
              "        }    #T_98ceb4e4_7773_11ea_815f_0242ac1c0002row10_col10 {\n",
              "            background-color:  #4479bb;\n",
              "            color:  #000000;\n",
              "            max-width:  80px;\n",
              "            font-size:  10pt;\n",
              "        }    #T_98ceb4e4_7773_11ea_815f_0242ac1c0002row10_col11 {\n",
              "            background-color:  #e0657d;\n",
              "            color:  #000000;\n",
              "            max-width:  80px;\n",
              "            font-size:  10pt;\n",
              "        }    #T_98ceb4e4_7773_11ea_815f_0242ac1c0002row10_col12 {\n",
              "            background-color:  #dde7f3;\n",
              "            color:  #000000;\n",
              "            max-width:  80px;\n",
              "            font-size:  10pt;\n",
              "        }    #T_98ceb4e4_7773_11ea_815f_0242ac1c0002row10_col13 {\n",
              "            background-color:  #f7dae0;\n",
              "            color:  #000000;\n",
              "            max-width:  80px;\n",
              "            font-size:  10pt;\n",
              "        }    #T_98ceb4e4_7773_11ea_815f_0242ac1c0002row11_col0 {\n",
              "            background-color:  #ecf2f8;\n",
              "            color:  #000000;\n",
              "            max-width:  80px;\n",
              "            font-size:  10pt;\n",
              "        }    #T_98ceb4e4_7773_11ea_815f_0242ac1c0002row11_col1 {\n",
              "            background-color:  #e57d92;\n",
              "            color:  #000000;\n",
              "            max-width:  80px;\n",
              "            font-size:  10pt;\n",
              "        }    #T_98ceb4e4_7773_11ea_815f_0242ac1c0002row11_col2 {\n",
              "            background-color:  #e47c91;\n",
              "            color:  #000000;\n",
              "            max-width:  80px;\n",
              "            font-size:  10pt;\n",
              "        }    #T_98ceb4e4_7773_11ea_815f_0242ac1c0002row11_col3 {\n",
              "            background-color:  #e47c91;\n",
              "            color:  #000000;\n",
              "            max-width:  80px;\n",
              "            font-size:  10pt;\n",
              "        }    #T_98ceb4e4_7773_11ea_815f_0242ac1c0002row11_col4 {\n",
              "            background-color:  #e57d92;\n",
              "            color:  #000000;\n",
              "            max-width:  80px;\n",
              "            font-size:  10pt;\n",
              "        }    #T_98ceb4e4_7773_11ea_815f_0242ac1c0002row11_col5 {\n",
              "            background-color:  #f1bbc6;\n",
              "            color:  #000000;\n",
              "            max-width:  80px;\n",
              "            font-size:  10pt;\n",
              "        }    #T_98ceb4e4_7773_11ea_815f_0242ac1c0002row11_col6 {\n",
              "            background-color:  #f3c4cd;\n",
              "            color:  #000000;\n",
              "            max-width:  80px;\n",
              "            font-size:  10pt;\n",
              "        }    #T_98ceb4e4_7773_11ea_815f_0242ac1c0002row11_col7 {\n",
              "            background-color:  #e993a4;\n",
              "            color:  #000000;\n",
              "            max-width:  80px;\n",
              "            font-size:  10pt;\n",
              "        }    #T_98ceb4e4_7773_11ea_815f_0242ac1c0002row11_col8 {\n",
              "            background-color:  #e991a3;\n",
              "            color:  #000000;\n",
              "            max-width:  80px;\n",
              "            font-size:  10pt;\n",
              "        }    #T_98ceb4e4_7773_11ea_815f_0242ac1c0002row11_col9 {\n",
              "            background-color:  #87a9d3;\n",
              "            color:  #000000;\n",
              "            max-width:  80px;\n",
              "            font-size:  10pt;\n",
              "        }    #T_98ceb4e4_7773_11ea_815f_0242ac1c0002row11_col10 {\n",
              "            background-color:  #d73c5b;\n",
              "            color:  #f1f1f1;\n",
              "            max-width:  80px;\n",
              "            font-size:  10pt;\n",
              "        }    #T_98ceb4e4_7773_11ea_815f_0242ac1c0002row11_col11 {\n",
              "            background-color:  #4479bb;\n",
              "            color:  #000000;\n",
              "            max-width:  80px;\n",
              "            font-size:  10pt;\n",
              "        }    #T_98ceb4e4_7773_11ea_815f_0242ac1c0002row11_col12 {\n",
              "            background-color:  #eda7b5;\n",
              "            color:  #000000;\n",
              "            max-width:  80px;\n",
              "            font-size:  10pt;\n",
              "        }    #T_98ceb4e4_7773_11ea_815f_0242ac1c0002row11_col13 {\n",
              "            background-color:  #f2bfca;\n",
              "            color:  #000000;\n",
              "            max-width:  80px;\n",
              "            font-size:  10pt;\n",
              "        }    #T_98ceb4e4_7773_11ea_815f_0242ac1c0002row12_col0 {\n",
              "            background-color:  #e57f93;\n",
              "            color:  #000000;\n",
              "            max-width:  80px;\n",
              "            font-size:  10pt;\n",
              "        }    #T_98ceb4e4_7773_11ea_815f_0242ac1c0002row12_col1 {\n",
              "            background-color:  #db4d69;\n",
              "            color:  #000000;\n",
              "            max-width:  80px;\n",
              "            font-size:  10pt;\n",
              "        }    #T_98ceb4e4_7773_11ea_815f_0242ac1c0002row12_col2 {\n",
              "            background-color:  #da4865;\n",
              "            color:  #000000;\n",
              "            max-width:  80px;\n",
              "            font-size:  10pt;\n",
              "        }    #T_98ceb4e4_7773_11ea_815f_0242ac1c0002row12_col3 {\n",
              "            background-color:  #e0657d;\n",
              "            color:  #000000;\n",
              "            max-width:  80px;\n",
              "            font-size:  10pt;\n",
              "        }    #T_98ceb4e4_7773_11ea_815f_0242ac1c0002row12_col4 {\n",
              "            background-color:  #de5e77;\n",
              "            color:  #000000;\n",
              "            max-width:  80px;\n",
              "            font-size:  10pt;\n",
              "        }    #T_98ceb4e4_7773_11ea_815f_0242ac1c0002row12_col5 {\n",
              "            background-color:  #fae4e9;\n",
              "            color:  #000000;\n",
              "            max-width:  80px;\n",
              "            font-size:  10pt;\n",
              "        }    #T_98ceb4e4_7773_11ea_815f_0242ac1c0002row12_col6 {\n",
              "            background-color:  #f8dfe4;\n",
              "            color:  #000000;\n",
              "            max-width:  80px;\n",
              "            font-size:  10pt;\n",
              "        }    #T_98ceb4e4_7773_11ea_815f_0242ac1c0002row12_col7 {\n",
              "            background-color:  #d83e5d;\n",
              "            color:  #f1f1f1;\n",
              "            max-width:  80px;\n",
              "            font-size:  10pt;\n",
              "        }    #T_98ceb4e4_7773_11ea_815f_0242ac1c0002row12_col8 {\n",
              "            background-color:  #d73c5b;\n",
              "            color:  #f1f1f1;\n",
              "            max-width:  80px;\n",
              "            font-size:  10pt;\n",
              "        }    #T_98ceb4e4_7773_11ea_815f_0242ac1c0002row12_col9 {\n",
              "            background-color:  #e16b82;\n",
              "            color:  #000000;\n",
              "            max-width:  80px;\n",
              "            font-size:  10pt;\n",
              "        }    #T_98ceb4e4_7773_11ea_815f_0242ac1c0002row12_col10 {\n",
              "            background-color:  #f8dfe4;\n",
              "            color:  #000000;\n",
              "            max-width:  80px;\n",
              "            font-size:  10pt;\n",
              "        }    #T_98ceb4e4_7773_11ea_815f_0242ac1c0002row12_col11 {\n",
              "            background-color:  #e7899c;\n",
              "            color:  #000000;\n",
              "            max-width:  80px;\n",
              "            font-size:  10pt;\n",
              "        }    #T_98ceb4e4_7773_11ea_815f_0242ac1c0002row12_col12 {\n",
              "            background-color:  #4479bb;\n",
              "            color:  #000000;\n",
              "            max-width:  80px;\n",
              "            font-size:  10pt;\n",
              "        }    #T_98ceb4e4_7773_11ea_815f_0242ac1c0002row12_col13 {\n",
              "            background-color:  #eca4b3;\n",
              "            color:  #000000;\n",
              "            max-width:  80px;\n",
              "            font-size:  10pt;\n",
              "        }    #T_98ceb4e4_7773_11ea_815f_0242ac1c0002row13_col0 {\n",
              "            background-color:  #d73c5b;\n",
              "            color:  #f1f1f1;\n",
              "            max-width:  80px;\n",
              "            font-size:  10pt;\n",
              "        }    #T_98ceb4e4_7773_11ea_815f_0242ac1c0002row13_col1 {\n",
              "            background-color:  #d73c5b;\n",
              "            color:  #f1f1f1;\n",
              "            max-width:  80px;\n",
              "            font-size:  10pt;\n",
              "        }    #T_98ceb4e4_7773_11ea_815f_0242ac1c0002row13_col2 {\n",
              "            background-color:  #d73c5b;\n",
              "            color:  #f1f1f1;\n",
              "            max-width:  80px;\n",
              "            font-size:  10pt;\n",
              "        }    #T_98ceb4e4_7773_11ea_815f_0242ac1c0002row13_col3 {\n",
              "            background-color:  #d73c5b;\n",
              "            color:  #f1f1f1;\n",
              "            max-width:  80px;\n",
              "            font-size:  10pt;\n",
              "        }    #T_98ceb4e4_7773_11ea_815f_0242ac1c0002row13_col4 {\n",
              "            background-color:  #d73c5b;\n",
              "            color:  #f1f1f1;\n",
              "            max-width:  80px;\n",
              "            font-size:  10pt;\n",
              "        }    #T_98ceb4e4_7773_11ea_815f_0242ac1c0002row13_col5 {\n",
              "            background-color:  #d73c5b;\n",
              "            color:  #f1f1f1;\n",
              "            max-width:  80px;\n",
              "            font-size:  10pt;\n",
              "        }    #T_98ceb4e4_7773_11ea_815f_0242ac1c0002row13_col6 {\n",
              "            background-color:  #d73c5b;\n",
              "            color:  #f1f1f1;\n",
              "            max-width:  80px;\n",
              "            font-size:  10pt;\n",
              "        }    #T_98ceb4e4_7773_11ea_815f_0242ac1c0002row13_col7 {\n",
              "            background-color:  #d73c5b;\n",
              "            color:  #f1f1f1;\n",
              "            max-width:  80px;\n",
              "            font-size:  10pt;\n",
              "        }    #T_98ceb4e4_7773_11ea_815f_0242ac1c0002row13_col8 {\n",
              "            background-color:  #d73d5c;\n",
              "            color:  #f1f1f1;\n",
              "            max-width:  80px;\n",
              "            font-size:  10pt;\n",
              "        }    #T_98ceb4e4_7773_11ea_815f_0242ac1c0002row13_col9 {\n",
              "            background-color:  #d73c5b;\n",
              "            color:  #f1f1f1;\n",
              "            max-width:  80px;\n",
              "            font-size:  10pt;\n",
              "        }    #T_98ceb4e4_7773_11ea_815f_0242ac1c0002row13_col10 {\n",
              "            background-color:  #d73d5c;\n",
              "            color:  #f1f1f1;\n",
              "            max-width:  80px;\n",
              "            font-size:  10pt;\n",
              "        }    #T_98ceb4e4_7773_11ea_815f_0242ac1c0002row13_col11 {\n",
              "            background-color:  #d73c5b;\n",
              "            color:  #f1f1f1;\n",
              "            max-width:  80px;\n",
              "            font-size:  10pt;\n",
              "        }    #T_98ceb4e4_7773_11ea_815f_0242ac1c0002row13_col12 {\n",
              "            background-color:  #d73c5b;\n",
              "            color:  #f1f1f1;\n",
              "            max-width:  80px;\n",
              "            font-size:  10pt;\n",
              "        }    #T_98ceb4e4_7773_11ea_815f_0242ac1c0002row13_col13 {\n",
              "            background-color:  #4479bb;\n",
              "            color:  #000000;\n",
              "            max-width:  80px;\n",
              "            font-size:  10pt;\n",
              "        }</style><table id=\"T_98ceb4e4_7773_11ea_815f_0242ac1c0002\" ><caption>Hover to magify</caption><thead>    <tr>        <th class=\"blank level0\" ></th>        <th class=\"col_heading level0 col0\" >label</th>        <th class=\"col_heading level0 col1\" >count1</th>        <th class=\"col_heading level0 col2\" >count2</th>        <th class=\"col_heading level0 col3\" >char_count1</th>        <th class=\"col_heading level0 col4\" >char_count2</th>        <th class=\"col_heading level0 col5\" >avg_word_len1</th>        <th class=\"col_heading level0 col6\" >avg_word_len2</th>        <th class=\"col_heading level0 col7\" >stopwords_count1</th>        <th class=\"col_heading level0 col8\" >stopwords_count2</th>        <th class=\"col_heading level0 col9\" >common_words</th>        <th class=\"col_heading level0 col10\" >unique_word_cnt</th>        <th class=\"col_heading level0 col11\" >cosine_sim_tfidf</th>        <th class=\"col_heading level0 col12\" >euc_dist</th>        <th class=\"col_heading level0 col13\" >jac_sim</th>    </tr></thead><tbody>\n",
              "                <tr>\n",
              "                        <th id=\"T_98ceb4e4_7773_11ea_815f_0242ac1c0002level0_row0\" class=\"row_heading level0 row0\" >label</th>\n",
              "                        <td id=\"T_98ceb4e4_7773_11ea_815f_0242ac1c0002row0_col0\" class=\"data row0 col0\" >1.00</td>\n",
              "                        <td id=\"T_98ceb4e4_7773_11ea_815f_0242ac1c0002row0_col1\" class=\"data row0 col1\" >-0.14</td>\n",
              "                        <td id=\"T_98ceb4e4_7773_11ea_815f_0242ac1c0002row0_col2\" class=\"data row0 col2\" >-0.13</td>\n",
              "                        <td id=\"T_98ceb4e4_7773_11ea_815f_0242ac1c0002row0_col3\" class=\"data row0 col3\" >-0.16</td>\n",
              "                        <td id=\"T_98ceb4e4_7773_11ea_815f_0242ac1c0002row0_col4\" class=\"data row0 col4\" >-0.13</td>\n",
              "                        <td id=\"T_98ceb4e4_7773_11ea_815f_0242ac1c0002row0_col5\" class=\"data row0 col5\" >-0.07</td>\n",
              "                        <td id=\"T_98ceb4e4_7773_11ea_815f_0242ac1c0002row0_col6\" class=\"data row0 col6\" >-0.01</td>\n",
              "                        <td id=\"T_98ceb4e4_7773_11ea_815f_0242ac1c0002row0_col7\" class=\"data row0 col7\" >-0.11</td>\n",
              "                        <td id=\"T_98ceb4e4_7773_11ea_815f_0242ac1c0002row0_col8\" class=\"data row0 col8\" >-0.11</td>\n",
              "                        <td id=\"T_98ceb4e4_7773_11ea_815f_0242ac1c0002row0_col9\" class=\"data row0 col9\" >0.38</td>\n",
              "                        <td id=\"T_98ceb4e4_7773_11ea_815f_0242ac1c0002row0_col10\" class=\"data row0 col10\" >-0.35</td>\n",
              "                        <td id=\"T_98ceb4e4_7773_11ea_815f_0242ac1c0002row0_col11\" class=\"data row0 col11\" >0.25</td>\n",
              "                        <td id=\"T_98ceb4e4_7773_11ea_815f_0242ac1c0002row0_col12\" class=\"data row0 col12\" >-0.14</td>\n",
              "                        <td id=\"T_98ceb4e4_7773_11ea_815f_0242ac1c0002row0_col13\" class=\"data row0 col13\" >0.00</td>\n",
              "            </tr>\n",
              "            <tr>\n",
              "                        <th id=\"T_98ceb4e4_7773_11ea_815f_0242ac1c0002level0_row1\" class=\"row_heading level0 row1\" >count1</th>\n",
              "                        <td id=\"T_98ceb4e4_7773_11ea_815f_0242ac1c0002row1_col0\" class=\"data row1 col0\" >-0.14</td>\n",
              "                        <td id=\"T_98ceb4e4_7773_11ea_815f_0242ac1c0002row1_col1\" class=\"data row1 col1\" >1.00</td>\n",
              "                        <td id=\"T_98ceb4e4_7773_11ea_815f_0242ac1c0002row1_col2\" class=\"data row1 col2\" >0.52</td>\n",
              "                        <td id=\"T_98ceb4e4_7773_11ea_815f_0242ac1c0002row1_col3\" class=\"data row1 col3\" >0.94</td>\n",
              "                        <td id=\"T_98ceb4e4_7773_11ea_815f_0242ac1c0002row1_col4\" class=\"data row1 col4\" >0.50</td>\n",
              "                        <td id=\"T_98ceb4e4_7773_11ea_815f_0242ac1c0002row1_col5\" class=\"data row1 col5\" >-0.10</td>\n",
              "                        <td id=\"T_98ceb4e4_7773_11ea_815f_0242ac1c0002row1_col6\" class=\"data row1 col6\" >-0.03</td>\n",
              "                        <td id=\"T_98ceb4e4_7773_11ea_815f_0242ac1c0002row1_col7\" class=\"data row1 col7\" >0.84</td>\n",
              "                        <td id=\"T_98ceb4e4_7773_11ea_815f_0242ac1c0002row1_col8\" class=\"data row1 col8\" >0.41</td>\n",
              "                        <td id=\"T_98ceb4e4_7773_11ea_815f_0242ac1c0002row1_col9\" class=\"data row1 col9\" >-0.29</td>\n",
              "                        <td id=\"T_98ceb4e4_7773_11ea_815f_0242ac1c0002row1_col10\" class=\"data row1 col10\" >0.20</td>\n",
              "                        <td id=\"T_98ceb4e4_7773_11ea_815f_0242ac1c0002row1_col11\" class=\"data row1 col11\" >-0.28</td>\n",
              "                        <td id=\"T_98ceb4e4_7773_11ea_815f_0242ac1c0002row1_col12\" class=\"data row1 col12\" >-0.33</td>\n",
              "                        <td id=\"T_98ceb4e4_7773_11ea_815f_0242ac1c0002row1_col13\" class=\"data row1 col13\" >-0.00</td>\n",
              "            </tr>\n",
              "            <tr>\n",
              "                        <th id=\"T_98ceb4e4_7773_11ea_815f_0242ac1c0002level0_row2\" class=\"row_heading level0 row2\" >count2</th>\n",
              "                        <td id=\"T_98ceb4e4_7773_11ea_815f_0242ac1c0002row2_col0\" class=\"data row2 col0\" >-0.13</td>\n",
              "                        <td id=\"T_98ceb4e4_7773_11ea_815f_0242ac1c0002row2_col1\" class=\"data row2 col1\" >0.52</td>\n",
              "                        <td id=\"T_98ceb4e4_7773_11ea_815f_0242ac1c0002row2_col2\" class=\"data row2 col2\" >1.00</td>\n",
              "                        <td id=\"T_98ceb4e4_7773_11ea_815f_0242ac1c0002row2_col3\" class=\"data row2 col3\" >0.51</td>\n",
              "                        <td id=\"T_98ceb4e4_7773_11ea_815f_0242ac1c0002row2_col4\" class=\"data row2 col4\" >0.94</td>\n",
              "                        <td id=\"T_98ceb4e4_7773_11ea_815f_0242ac1c0002row2_col5\" class=\"data row2 col5\" >-0.01</td>\n",
              "                        <td id=\"T_98ceb4e4_7773_11ea_815f_0242ac1c0002row2_col6\" class=\"data row2 col6\" >-0.11</td>\n",
              "                        <td id=\"T_98ceb4e4_7773_11ea_815f_0242ac1c0002row2_col7\" class=\"data row2 col7\" >0.41</td>\n",
              "                        <td id=\"T_98ceb4e4_7773_11ea_815f_0242ac1c0002row2_col8\" class=\"data row2 col8\" >0.85</td>\n",
              "                        <td id=\"T_98ceb4e4_7773_11ea_815f_0242ac1c0002row2_col9\" class=\"data row2 col9\" >-0.29</td>\n",
              "                        <td id=\"T_98ceb4e4_7773_11ea_815f_0242ac1c0002row2_col10\" class=\"data row2 col10\" >0.20</td>\n",
              "                        <td id=\"T_98ceb4e4_7773_11ea_815f_0242ac1c0002row2_col11\" class=\"data row2 col11\" >-0.28</td>\n",
              "                        <td id=\"T_98ceb4e4_7773_11ea_815f_0242ac1c0002row2_col12\" class=\"data row2 col12\" >-0.35</td>\n",
              "                        <td id=\"T_98ceb4e4_7773_11ea_815f_0242ac1c0002row2_col13\" class=\"data row2 col13\" >-0.00</td>\n",
              "            </tr>\n",
              "            <tr>\n",
              "                        <th id=\"T_98ceb4e4_7773_11ea_815f_0242ac1c0002level0_row3\" class=\"row_heading level0 row3\" >char_count1</th>\n",
              "                        <td id=\"T_98ceb4e4_7773_11ea_815f_0242ac1c0002row3_col0\" class=\"data row3 col0\" >-0.16</td>\n",
              "                        <td id=\"T_98ceb4e4_7773_11ea_815f_0242ac1c0002row3_col1\" class=\"data row3 col1\" >0.94</td>\n",
              "                        <td id=\"T_98ceb4e4_7773_11ea_815f_0242ac1c0002row3_col2\" class=\"data row3 col2\" >0.51</td>\n",
              "                        <td id=\"T_98ceb4e4_7773_11ea_815f_0242ac1c0002row3_col3\" class=\"data row3 col3\" >1.00</td>\n",
              "                        <td id=\"T_98ceb4e4_7773_11ea_815f_0242ac1c0002row3_col4\" class=\"data row3 col4\" >0.55</td>\n",
              "                        <td id=\"T_98ceb4e4_7773_11ea_815f_0242ac1c0002row3_col5\" class=\"data row3 col5\" >0.19</td>\n",
              "                        <td id=\"T_98ceb4e4_7773_11ea_815f_0242ac1c0002row3_col6\" class=\"data row3 col6\" >0.13</td>\n",
              "                        <td id=\"T_98ceb4e4_7773_11ea_815f_0242ac1c0002row3_col7\" class=\"data row3 col7\" >0.76</td>\n",
              "                        <td id=\"T_98ceb4e4_7773_11ea_815f_0242ac1c0002row3_col8\" class=\"data row3 col8\" >0.39</td>\n",
              "                        <td id=\"T_98ceb4e4_7773_11ea_815f_0242ac1c0002row3_col9\" class=\"data row3 col9\" >-0.30</td>\n",
              "                        <td id=\"T_98ceb4e4_7773_11ea_815f_0242ac1c0002row3_col10\" class=\"data row3 col10\" >0.19</td>\n",
              "                        <td id=\"T_98ceb4e4_7773_11ea_815f_0242ac1c0002row3_col11\" class=\"data row3 col11\" >-0.29</td>\n",
              "                        <td id=\"T_98ceb4e4_7773_11ea_815f_0242ac1c0002row3_col12\" class=\"data row3 col12\" >-0.24</td>\n",
              "                        <td id=\"T_98ceb4e4_7773_11ea_815f_0242ac1c0002row3_col13\" class=\"data row3 col13\" >-0.00</td>\n",
              "            </tr>\n",
              "            <tr>\n",
              "                        <th id=\"T_98ceb4e4_7773_11ea_815f_0242ac1c0002level0_row4\" class=\"row_heading level0 row4\" >char_count2</th>\n",
              "                        <td id=\"T_98ceb4e4_7773_11ea_815f_0242ac1c0002row4_col0\" class=\"data row4 col0\" >-0.13</td>\n",
              "                        <td id=\"T_98ceb4e4_7773_11ea_815f_0242ac1c0002row4_col1\" class=\"data row4 col1\" >0.50</td>\n",
              "                        <td id=\"T_98ceb4e4_7773_11ea_815f_0242ac1c0002row4_col2\" class=\"data row4 col2\" >0.94</td>\n",
              "                        <td id=\"T_98ceb4e4_7773_11ea_815f_0242ac1c0002row4_col3\" class=\"data row4 col3\" >0.55</td>\n",
              "                        <td id=\"T_98ceb4e4_7773_11ea_815f_0242ac1c0002row4_col4\" class=\"data row4 col4\" >1.00</td>\n",
              "                        <td id=\"T_98ceb4e4_7773_11ea_815f_0242ac1c0002row4_col5\" class=\"data row4 col5\" >0.14</td>\n",
              "                        <td id=\"T_98ceb4e4_7773_11ea_815f_0242ac1c0002row4_col6\" class=\"data row4 col6\" >0.17</td>\n",
              "                        <td id=\"T_98ceb4e4_7773_11ea_815f_0242ac1c0002row4_col7\" class=\"data row4 col7\" >0.39</td>\n",
              "                        <td id=\"T_98ceb4e4_7773_11ea_815f_0242ac1c0002row4_col8\" class=\"data row4 col8\" >0.78</td>\n",
              "                        <td id=\"T_98ceb4e4_7773_11ea_815f_0242ac1c0002row4_col9\" class=\"data row4 col9\" >-0.27</td>\n",
              "                        <td id=\"T_98ceb4e4_7773_11ea_815f_0242ac1c0002row4_col10\" class=\"data row4 col10\" >0.17</td>\n",
              "                        <td id=\"T_98ceb4e4_7773_11ea_815f_0242ac1c0002row4_col11\" class=\"data row4 col11\" >-0.28</td>\n",
              "                        <td id=\"T_98ceb4e4_7773_11ea_815f_0242ac1c0002row4_col12\" class=\"data row4 col12\" >-0.27</td>\n",
              "                        <td id=\"T_98ceb4e4_7773_11ea_815f_0242ac1c0002row4_col13\" class=\"data row4 col13\" >-0.00</td>\n",
              "            </tr>\n",
              "            <tr>\n",
              "                        <th id=\"T_98ceb4e4_7773_11ea_815f_0242ac1c0002level0_row5\" class=\"row_heading level0 row5\" >avg_word_len1</th>\n",
              "                        <td id=\"T_98ceb4e4_7773_11ea_815f_0242ac1c0002row5_col0\" class=\"data row5 col0\" >-0.07</td>\n",
              "                        <td id=\"T_98ceb4e4_7773_11ea_815f_0242ac1c0002row5_col1\" class=\"data row5 col1\" >-0.10</td>\n",
              "                        <td id=\"T_98ceb4e4_7773_11ea_815f_0242ac1c0002row5_col2\" class=\"data row5 col2\" >-0.01</td>\n",
              "                        <td id=\"T_98ceb4e4_7773_11ea_815f_0242ac1c0002row5_col3\" class=\"data row5 col3\" >0.19</td>\n",
              "                        <td id=\"T_98ceb4e4_7773_11ea_815f_0242ac1c0002row5_col4\" class=\"data row5 col4\" >0.14</td>\n",
              "                        <td id=\"T_98ceb4e4_7773_11ea_815f_0242ac1c0002row5_col5\" class=\"data row5 col5\" >1.00</td>\n",
              "                        <td id=\"T_98ceb4e4_7773_11ea_815f_0242ac1c0002row5_col6\" class=\"data row5 col6\" >0.46</td>\n",
              "                        <td id=\"T_98ceb4e4_7773_11ea_815f_0242ac1c0002row5_col7\" class=\"data row5 col7\" >-0.18</td>\n",
              "                        <td id=\"T_98ceb4e4_7773_11ea_815f_0242ac1c0002row5_col8\" class=\"data row5 col8\" >-0.03</td>\n",
              "                        <td id=\"T_98ceb4e4_7773_11ea_815f_0242ac1c0002row5_col9\" class=\"data row5 col9\" >-0.01</td>\n",
              "                        <td id=\"T_98ceb4e4_7773_11ea_815f_0242ac1c0002row5_col10\" class=\"data row5 col10\" >-0.03</td>\n",
              "                        <td id=\"T_98ceb4e4_7773_11ea_815f_0242ac1c0002row5_col11\" class=\"data row5 col11\" >-0.02</td>\n",
              "                        <td id=\"T_98ceb4e4_7773_11ea_815f_0242ac1c0002row5_col12\" class=\"data row5 col12\" >0.25</td>\n",
              "                        <td id=\"T_98ceb4e4_7773_11ea_815f_0242ac1c0002row5_col13\" class=\"data row5 col13\" >-0.00</td>\n",
              "            </tr>\n",
              "            <tr>\n",
              "                        <th id=\"T_98ceb4e4_7773_11ea_815f_0242ac1c0002level0_row6\" class=\"row_heading level0 row6\" >avg_word_len2</th>\n",
              "                        <td id=\"T_98ceb4e4_7773_11ea_815f_0242ac1c0002row6_col0\" class=\"data row6 col0\" >-0.01</td>\n",
              "                        <td id=\"T_98ceb4e4_7773_11ea_815f_0242ac1c0002row6_col1\" class=\"data row6 col1\" >-0.03</td>\n",
              "                        <td id=\"T_98ceb4e4_7773_11ea_815f_0242ac1c0002row6_col2\" class=\"data row6 col2\" >-0.11</td>\n",
              "                        <td id=\"T_98ceb4e4_7773_11ea_815f_0242ac1c0002row6_col3\" class=\"data row6 col3\" >0.13</td>\n",
              "                        <td id=\"T_98ceb4e4_7773_11ea_815f_0242ac1c0002row6_col4\" class=\"data row6 col4\" >0.17</td>\n",
              "                        <td id=\"T_98ceb4e4_7773_11ea_815f_0242ac1c0002row6_col5\" class=\"data row6 col5\" >0.46</td>\n",
              "                        <td id=\"T_98ceb4e4_7773_11ea_815f_0242ac1c0002row6_col6\" class=\"data row6 col6\" >1.00</td>\n",
              "                        <td id=\"T_98ceb4e4_7773_11ea_815f_0242ac1c0002row6_col7\" class=\"data row6 col7\" >-0.05</td>\n",
              "                        <td id=\"T_98ceb4e4_7773_11ea_815f_0242ac1c0002row6_col8\" class=\"data row6 col8\" >-0.18</td>\n",
              "                        <td id=\"T_98ceb4e4_7773_11ea_815f_0242ac1c0002row6_col9\" class=\"data row6 col9\" >0.05</td>\n",
              "                        <td id=\"T_98ceb4e4_7773_11ea_815f_0242ac1c0002row6_col10\" class=\"data row6 col10\" >-0.09</td>\n",
              "                        <td id=\"T_98ceb4e4_7773_11ea_815f_0242ac1c0002row6_col11\" class=\"data row6 col11\" >0.02</td>\n",
              "                        <td id=\"T_98ceb4e4_7773_11ea_815f_0242ac1c0002row6_col12\" class=\"data row6 col12\" >0.23</td>\n",
              "                        <td id=\"T_98ceb4e4_7773_11ea_815f_0242ac1c0002row6_col13\" class=\"data row6 col13\" >-0.00</td>\n",
              "            </tr>\n",
              "            <tr>\n",
              "                        <th id=\"T_98ceb4e4_7773_11ea_815f_0242ac1c0002level0_row7\" class=\"row_heading level0 row7\" >stopwords_count1</th>\n",
              "                        <td id=\"T_98ceb4e4_7773_11ea_815f_0242ac1c0002row7_col0\" class=\"data row7 col0\" >-0.11</td>\n",
              "                        <td id=\"T_98ceb4e4_7773_11ea_815f_0242ac1c0002row7_col1\" class=\"data row7 col1\" >0.84</td>\n",
              "                        <td id=\"T_98ceb4e4_7773_11ea_815f_0242ac1c0002row7_col2\" class=\"data row7 col2\" >0.41</td>\n",
              "                        <td id=\"T_98ceb4e4_7773_11ea_815f_0242ac1c0002row7_col3\" class=\"data row7 col3\" >0.76</td>\n",
              "                        <td id=\"T_98ceb4e4_7773_11ea_815f_0242ac1c0002row7_col4\" class=\"data row7 col4\" >0.39</td>\n",
              "                        <td id=\"T_98ceb4e4_7773_11ea_815f_0242ac1c0002row7_col5\" class=\"data row7 col5\" >-0.18</td>\n",
              "                        <td id=\"T_98ceb4e4_7773_11ea_815f_0242ac1c0002row7_col6\" class=\"data row7 col6\" >-0.05</td>\n",
              "                        <td id=\"T_98ceb4e4_7773_11ea_815f_0242ac1c0002row7_col7\" class=\"data row7 col7\" >1.00</td>\n",
              "                        <td id=\"T_98ceb4e4_7773_11ea_815f_0242ac1c0002row7_col8\" class=\"data row7 col8\" >0.43</td>\n",
              "                        <td id=\"T_98ceb4e4_7773_11ea_815f_0242ac1c0002row7_col9\" class=\"data row7 col9\" >-0.19</td>\n",
              "                        <td id=\"T_98ceb4e4_7773_11ea_815f_0242ac1c0002row7_col10\" class=\"data row7 col10\" >0.09</td>\n",
              "                        <td id=\"T_98ceb4e4_7773_11ea_815f_0242ac1c0002row7_col11\" class=\"data row7 col11\" >-0.19</td>\n",
              "                        <td id=\"T_98ceb4e4_7773_11ea_815f_0242ac1c0002row7_col12\" class=\"data row7 col12\" >-0.39</td>\n",
              "                        <td id=\"T_98ceb4e4_7773_11ea_815f_0242ac1c0002row7_col13\" class=\"data row7 col13\" >-0.00</td>\n",
              "            </tr>\n",
              "            <tr>\n",
              "                        <th id=\"T_98ceb4e4_7773_11ea_815f_0242ac1c0002level0_row8\" class=\"row_heading level0 row8\" >stopwords_count2</th>\n",
              "                        <td id=\"T_98ceb4e4_7773_11ea_815f_0242ac1c0002row8_col0\" class=\"data row8 col0\" >-0.11</td>\n",
              "                        <td id=\"T_98ceb4e4_7773_11ea_815f_0242ac1c0002row8_col1\" class=\"data row8 col1\" >0.41</td>\n",
              "                        <td id=\"T_98ceb4e4_7773_11ea_815f_0242ac1c0002row8_col2\" class=\"data row8 col2\" >0.85</td>\n",
              "                        <td id=\"T_98ceb4e4_7773_11ea_815f_0242ac1c0002row8_col3\" class=\"data row8 col3\" >0.39</td>\n",
              "                        <td id=\"T_98ceb4e4_7773_11ea_815f_0242ac1c0002row8_col4\" class=\"data row8 col4\" >0.78</td>\n",
              "                        <td id=\"T_98ceb4e4_7773_11ea_815f_0242ac1c0002row8_col5\" class=\"data row8 col5\" >-0.03</td>\n",
              "                        <td id=\"T_98ceb4e4_7773_11ea_815f_0242ac1c0002row8_col6\" class=\"data row8 col6\" >-0.18</td>\n",
              "                        <td id=\"T_98ceb4e4_7773_11ea_815f_0242ac1c0002row8_col7\" class=\"data row8 col7\" >0.43</td>\n",
              "                        <td id=\"T_98ceb4e4_7773_11ea_815f_0242ac1c0002row8_col8\" class=\"data row8 col8\" >1.00</td>\n",
              "                        <td id=\"T_98ceb4e4_7773_11ea_815f_0242ac1c0002row8_col9\" class=\"data row8 col9\" >-0.19</td>\n",
              "                        <td id=\"T_98ceb4e4_7773_11ea_815f_0242ac1c0002row8_col10\" class=\"data row8 col10\" >0.09</td>\n",
              "                        <td id=\"T_98ceb4e4_7773_11ea_815f_0242ac1c0002row8_col11\" class=\"data row8 col11\" >-0.20</td>\n",
              "                        <td id=\"T_98ceb4e4_7773_11ea_815f_0242ac1c0002row8_col12\" class=\"data row8 col12\" >-0.40</td>\n",
              "                        <td id=\"T_98ceb4e4_7773_11ea_815f_0242ac1c0002row8_col13\" class=\"data row8 col13\" >0.00</td>\n",
              "            </tr>\n",
              "            <tr>\n",
              "                        <th id=\"T_98ceb4e4_7773_11ea_815f_0242ac1c0002level0_row9\" class=\"row_heading level0 row9\" >common_words</th>\n",
              "                        <td id=\"T_98ceb4e4_7773_11ea_815f_0242ac1c0002row9_col0\" class=\"data row9 col0\" >0.38</td>\n",
              "                        <td id=\"T_98ceb4e4_7773_11ea_815f_0242ac1c0002row9_col1\" class=\"data row9 col1\" >-0.29</td>\n",
              "                        <td id=\"T_98ceb4e4_7773_11ea_815f_0242ac1c0002row9_col2\" class=\"data row9 col2\" >-0.29</td>\n",
              "                        <td id=\"T_98ceb4e4_7773_11ea_815f_0242ac1c0002row9_col3\" class=\"data row9 col3\" >-0.30</td>\n",
              "                        <td id=\"T_98ceb4e4_7773_11ea_815f_0242ac1c0002row9_col4\" class=\"data row9 col4\" >-0.27</td>\n",
              "                        <td id=\"T_98ceb4e4_7773_11ea_815f_0242ac1c0002row9_col5\" class=\"data row9 col5\" >-0.01</td>\n",
              "                        <td id=\"T_98ceb4e4_7773_11ea_815f_0242ac1c0002row9_col6\" class=\"data row9 col6\" >0.05</td>\n",
              "                        <td id=\"T_98ceb4e4_7773_11ea_815f_0242ac1c0002row9_col7\" class=\"data row9 col7\" >-0.19</td>\n",
              "                        <td id=\"T_98ceb4e4_7773_11ea_815f_0242ac1c0002row9_col8\" class=\"data row9 col8\" >-0.19</td>\n",
              "                        <td id=\"T_98ceb4e4_7773_11ea_815f_0242ac1c0002row9_col9\" class=\"data row9 col9\" >1.00</td>\n",
              "                        <td id=\"T_98ceb4e4_7773_11ea_815f_0242ac1c0002row9_col10\" class=\"data row9 col10\" >-0.77</td>\n",
              "                        <td id=\"T_98ceb4e4_7773_11ea_815f_0242ac1c0002row9_col11\" class=\"data row9 col11\" >0.70</td>\n",
              "                        <td id=\"T_98ceb4e4_7773_11ea_815f_0242ac1c0002row9_col12\" class=\"data row9 col12\" >-0.22</td>\n",
              "                        <td id=\"T_98ceb4e4_7773_11ea_815f_0242ac1c0002row9_col13\" class=\"data row9 col13\" >-0.00</td>\n",
              "            </tr>\n",
              "            <tr>\n",
              "                        <th id=\"T_98ceb4e4_7773_11ea_815f_0242ac1c0002level0_row10\" class=\"row_heading level0 row10\" >unique_word_cnt</th>\n",
              "                        <td id=\"T_98ceb4e4_7773_11ea_815f_0242ac1c0002row10_col0\" class=\"data row10 col0\" >-0.35</td>\n",
              "                        <td id=\"T_98ceb4e4_7773_11ea_815f_0242ac1c0002row10_col1\" class=\"data row10 col1\" >0.20</td>\n",
              "                        <td id=\"T_98ceb4e4_7773_11ea_815f_0242ac1c0002row10_col2\" class=\"data row10 col2\" >0.20</td>\n",
              "                        <td id=\"T_98ceb4e4_7773_11ea_815f_0242ac1c0002row10_col3\" class=\"data row10 col3\" >0.19</td>\n",
              "                        <td id=\"T_98ceb4e4_7773_11ea_815f_0242ac1c0002row10_col4\" class=\"data row10 col4\" >0.17</td>\n",
              "                        <td id=\"T_98ceb4e4_7773_11ea_815f_0242ac1c0002row10_col5\" class=\"data row10 col5\" >-0.03</td>\n",
              "                        <td id=\"T_98ceb4e4_7773_11ea_815f_0242ac1c0002row10_col6\" class=\"data row10 col6\" >-0.09</td>\n",
              "                        <td id=\"T_98ceb4e4_7773_11ea_815f_0242ac1c0002row10_col7\" class=\"data row10 col7\" >0.09</td>\n",
              "                        <td id=\"T_98ceb4e4_7773_11ea_815f_0242ac1c0002row10_col8\" class=\"data row10 col8\" >0.09</td>\n",
              "                        <td id=\"T_98ceb4e4_7773_11ea_815f_0242ac1c0002row10_col9\" class=\"data row10 col9\" >-0.77</td>\n",
              "                        <td id=\"T_98ceb4e4_7773_11ea_815f_0242ac1c0002row10_col10\" class=\"data row10 col10\" >1.00</td>\n",
              "                        <td id=\"T_98ceb4e4_7773_11ea_815f_0242ac1c0002row10_col11\" class=\"data row10 col11\" >-0.56</td>\n",
              "                        <td id=\"T_98ceb4e4_7773_11ea_815f_0242ac1c0002row10_col12\" class=\"data row10 col12\" >0.23</td>\n",
              "                        <td id=\"T_98ceb4e4_7773_11ea_815f_0242ac1c0002row10_col13\" class=\"data row10 col13\" >0.00</td>\n",
              "            </tr>\n",
              "            <tr>\n",
              "                        <th id=\"T_98ceb4e4_7773_11ea_815f_0242ac1c0002level0_row11\" class=\"row_heading level0 row11\" >cosine_sim_tfidf</th>\n",
              "                        <td id=\"T_98ceb4e4_7773_11ea_815f_0242ac1c0002row11_col0\" class=\"data row11 col0\" >0.25</td>\n",
              "                        <td id=\"T_98ceb4e4_7773_11ea_815f_0242ac1c0002row11_col1\" class=\"data row11 col1\" >-0.28</td>\n",
              "                        <td id=\"T_98ceb4e4_7773_11ea_815f_0242ac1c0002row11_col2\" class=\"data row11 col2\" >-0.28</td>\n",
              "                        <td id=\"T_98ceb4e4_7773_11ea_815f_0242ac1c0002row11_col3\" class=\"data row11 col3\" >-0.29</td>\n",
              "                        <td id=\"T_98ceb4e4_7773_11ea_815f_0242ac1c0002row11_col4\" class=\"data row11 col4\" >-0.28</td>\n",
              "                        <td id=\"T_98ceb4e4_7773_11ea_815f_0242ac1c0002row11_col5\" class=\"data row11 col5\" >-0.02</td>\n",
              "                        <td id=\"T_98ceb4e4_7773_11ea_815f_0242ac1c0002row11_col6\" class=\"data row11 col6\" >0.02</td>\n",
              "                        <td id=\"T_98ceb4e4_7773_11ea_815f_0242ac1c0002row11_col7\" class=\"data row11 col7\" >-0.19</td>\n",
              "                        <td id=\"T_98ceb4e4_7773_11ea_815f_0242ac1c0002row11_col8\" class=\"data row11 col8\" >-0.20</td>\n",
              "                        <td id=\"T_98ceb4e4_7773_11ea_815f_0242ac1c0002row11_col9\" class=\"data row11 col9\" >0.70</td>\n",
              "                        <td id=\"T_98ceb4e4_7773_11ea_815f_0242ac1c0002row11_col10\" class=\"data row11 col10\" >-0.56</td>\n",
              "                        <td id=\"T_98ceb4e4_7773_11ea_815f_0242ac1c0002row11_col11\" class=\"data row11 col11\" >1.00</td>\n",
              "                        <td id=\"T_98ceb4e4_7773_11ea_815f_0242ac1c0002row11_col12\" class=\"data row11 col12\" >-0.10</td>\n",
              "                        <td id=\"T_98ceb4e4_7773_11ea_815f_0242ac1c0002row11_col13\" class=\"data row11 col13\" >-0.00</td>\n",
              "            </tr>\n",
              "            <tr>\n",
              "                        <th id=\"T_98ceb4e4_7773_11ea_815f_0242ac1c0002level0_row12\" class=\"row_heading level0 row12\" >euc_dist</th>\n",
              "                        <td id=\"T_98ceb4e4_7773_11ea_815f_0242ac1c0002row12_col0\" class=\"data row12 col0\" >-0.14</td>\n",
              "                        <td id=\"T_98ceb4e4_7773_11ea_815f_0242ac1c0002row12_col1\" class=\"data row12 col1\" >-0.33</td>\n",
              "                        <td id=\"T_98ceb4e4_7773_11ea_815f_0242ac1c0002row12_col2\" class=\"data row12 col2\" >-0.35</td>\n",
              "                        <td id=\"T_98ceb4e4_7773_11ea_815f_0242ac1c0002row12_col3\" class=\"data row12 col3\" >-0.24</td>\n",
              "                        <td id=\"T_98ceb4e4_7773_11ea_815f_0242ac1c0002row12_col4\" class=\"data row12 col4\" >-0.27</td>\n",
              "                        <td id=\"T_98ceb4e4_7773_11ea_815f_0242ac1c0002row12_col5\" class=\"data row12 col5\" >0.25</td>\n",
              "                        <td id=\"T_98ceb4e4_7773_11ea_815f_0242ac1c0002row12_col6\" class=\"data row12 col6\" >0.23</td>\n",
              "                        <td id=\"T_98ceb4e4_7773_11ea_815f_0242ac1c0002row12_col7\" class=\"data row12 col7\" >-0.39</td>\n",
              "                        <td id=\"T_98ceb4e4_7773_11ea_815f_0242ac1c0002row12_col8\" class=\"data row12 col8\" >-0.40</td>\n",
              "                        <td id=\"T_98ceb4e4_7773_11ea_815f_0242ac1c0002row12_col9\" class=\"data row12 col9\" >-0.22</td>\n",
              "                        <td id=\"T_98ceb4e4_7773_11ea_815f_0242ac1c0002row12_col10\" class=\"data row12 col10\" >0.23</td>\n",
              "                        <td id=\"T_98ceb4e4_7773_11ea_815f_0242ac1c0002row12_col11\" class=\"data row12 col11\" >-0.10</td>\n",
              "                        <td id=\"T_98ceb4e4_7773_11ea_815f_0242ac1c0002row12_col12\" class=\"data row12 col12\" >1.00</td>\n",
              "                        <td id=\"T_98ceb4e4_7773_11ea_815f_0242ac1c0002row12_col13\" class=\"data row12 col13\" >-0.00</td>\n",
              "            </tr>\n",
              "            <tr>\n",
              "                        <th id=\"T_98ceb4e4_7773_11ea_815f_0242ac1c0002level0_row13\" class=\"row_heading level0 row13\" >jac_sim</th>\n",
              "                        <td id=\"T_98ceb4e4_7773_11ea_815f_0242ac1c0002row13_col0\" class=\"data row13 col0\" >0.00</td>\n",
              "                        <td id=\"T_98ceb4e4_7773_11ea_815f_0242ac1c0002row13_col1\" class=\"data row13 col1\" >-0.00</td>\n",
              "                        <td id=\"T_98ceb4e4_7773_11ea_815f_0242ac1c0002row13_col2\" class=\"data row13 col2\" >-0.00</td>\n",
              "                        <td id=\"T_98ceb4e4_7773_11ea_815f_0242ac1c0002row13_col3\" class=\"data row13 col3\" >-0.00</td>\n",
              "                        <td id=\"T_98ceb4e4_7773_11ea_815f_0242ac1c0002row13_col4\" class=\"data row13 col4\" >-0.00</td>\n",
              "                        <td id=\"T_98ceb4e4_7773_11ea_815f_0242ac1c0002row13_col5\" class=\"data row13 col5\" >-0.00</td>\n",
              "                        <td id=\"T_98ceb4e4_7773_11ea_815f_0242ac1c0002row13_col6\" class=\"data row13 col6\" >-0.00</td>\n",
              "                        <td id=\"T_98ceb4e4_7773_11ea_815f_0242ac1c0002row13_col7\" class=\"data row13 col7\" >-0.00</td>\n",
              "                        <td id=\"T_98ceb4e4_7773_11ea_815f_0242ac1c0002row13_col8\" class=\"data row13 col8\" >0.00</td>\n",
              "                        <td id=\"T_98ceb4e4_7773_11ea_815f_0242ac1c0002row13_col9\" class=\"data row13 col9\" >-0.00</td>\n",
              "                        <td id=\"T_98ceb4e4_7773_11ea_815f_0242ac1c0002row13_col10\" class=\"data row13 col10\" >0.00</td>\n",
              "                        <td id=\"T_98ceb4e4_7773_11ea_815f_0242ac1c0002row13_col11\" class=\"data row13 col11\" >-0.00</td>\n",
              "                        <td id=\"T_98ceb4e4_7773_11ea_815f_0242ac1c0002row13_col12\" class=\"data row13 col12\" >-0.00</td>\n",
              "                        <td id=\"T_98ceb4e4_7773_11ea_815f_0242ac1c0002row13_col13\" class=\"data row13 col13\" >1.00</td>\n",
              "            </tr>\n",
              "    </tbody></table>"
            ],
            "text/plain": [
              "<pandas.io.formats.style.Styler at 0x7f6ce33fe7f0>"
            ]
          },
          "metadata": {
            "tags": []
          },
          "execution_count": 83
        }
      ]
    },
    {
      "cell_type": "markdown",
      "metadata": {
        "id": "XhWbNAQekbS0",
        "colab_type": "text"
      },
      "source": [
        "## Train Test Split"
      ]
    },
    {
      "cell_type": "code",
      "metadata": {
        "id": "KPd3By6wkad9",
        "colab_type": "code",
        "colab": {}
      },
      "source": [
        "#separate the features\n",
        "x = df_features.drop(['label'], axis= 1)\n",
        "\n",
        "#separate the label\n",
        "y = df_features['label']\n",
        "\n",
        "#train test split \n",
        "xtrain, xtest, ytrain, ytest = train_test_split(x, y, test_size=0.3, random_state=1001)"
      ],
      "execution_count": 0,
      "outputs": []
    },
    {
      "cell_type": "code",
      "metadata": {
        "id": "CWLfNhichwin",
        "colab_type": "code",
        "outputId": "1ef2f83e-0369-400f-9d1e-570003d6ec8d",
        "colab": {
          "base_uri": "https://localhost:8080/",
          "height": 403
        }
      },
      "source": [
        "#apply PCA and check the variance \n",
        "#the optimal number of components \n",
        "n_comp = [1,2, 3, 4,5,8]\n",
        "explained = [] \n",
        "for x in n_comp:\n",
        "    pca = PCA(n_components=x)\n",
        "    pca.fit(xtrain)\n",
        "    explained.append(pca.explained_variance_ratio_.sum())\n",
        "    print(\"Number of components = %r and explained variance = %r\"%(x,pca.explained_variance_ratio_.sum()))\n",
        "plt.plot(n_comp, explained)\n",
        "plt.xlabel('Number of components')\n",
        "plt.ylabel(\"Explained Variance\")\n",
        "plt.title(\"Plot of Number of components v/s explained variance\")\n",
        "plt.show()"
      ],
      "execution_count": 0,
      "outputs": [
        {
          "output_type": "stream",
          "text": [
            "Number of components = 1 and explained variance = 0.7372965025511079\n",
            "Number of components = 2 and explained variance = 0.9851323385826987\n",
            "Number of components = 3 and explained variance = 0.9943688887061499\n",
            "Number of components = 4 and explained variance = 0.9974445439181047\n",
            "Number of components = 5 and explained variance = 0.9986708996557563\n",
            "Number of components = 8 and explained variance = 0.999824508469232\n"
          ],
          "name": "stdout"
        },
        {
          "output_type": "display_data",
          "data": {
            "image/png": "[encoded data removed]",
            "text/plain": [
              "<Figure size 432x288 with 1 Axes>"
            ]
          },
          "metadata": {
            "tags": []
          }
        }
      ]
    },
    {
      "cell_type": "markdown",
      "metadata": {
        "id": "n3IQdogqiC7G",
        "colab_type": "text"
      },
      "source": [
        "Optimal number of components is 5"
      ]
    },
    {
      "cell_type": "code",
      "metadata": {
        "id": "-Jerg4rGiPIN",
        "colab_type": "code",
        "colab": {}
      },
      "source": [
        "pca = PCA(n_components=5)\n",
        "xtrain_pca = pd.DataFrame(pca.fit_transform(xtrain))\n",
        "xtest_pca = pd.DataFrame(pca.fit_transform(xtest))"
      ],
      "execution_count": 0,
      "outputs": []
    },
    {
      "cell_type": "code",
      "metadata": {
        "id": "nDPG7kvNibug",
        "colab_type": "code",
        "outputId": "63f6f21b-45d5-41ca-9c6c-31e2c1561c06",
        "colab": {
          "base_uri": "https://localhost:8080/",
          "height": 493
        }
      },
      "source": [
        "df_clean.head()"
      ],
      "execution_count": 0,
      "outputs": [
        {
          "output_type": "execute_result",
          "data": {
            "text/html": [
              "<div>\n",
              "<style scoped>\n",
              "    .dataframe tbody tr th:only-of-type {\n",
              "        vertical-align: middle;\n",
              "    }\n",
              "\n",
              "    .dataframe tbody tr th {\n",
              "        vertical-align: top;\n",
              "    }\n",
              "\n",
              "    .dataframe thead th {\n",
              "        text-align: right;\n",
              "    }\n",
              "</style>\n",
              "<table border=\"1\" class=\"dataframe\">\n",
              "  <thead>\n",
              "    <tr style=\"text-align: right;\">\n",
              "      <th></th>\n",
              "      <th>id</th>\n",
              "      <th>qid1</th>\n",
              "      <th>qid2</th>\n",
              "      <th>question1</th>\n",
              "      <th>question2</th>\n",
              "      <th>label</th>\n",
              "      <th>count1</th>\n",
              "      <th>count2</th>\n",
              "      <th>char_count1</th>\n",
              "      <th>char_count2</th>\n",
              "      <th>avg_word_len1</th>\n",
              "      <th>avg_word_len2</th>\n",
              "      <th>stopwords_count1</th>\n",
              "      <th>stopwords_count2</th>\n",
              "      <th>common_words</th>\n",
              "      <th>unique_word_cnt</th>\n",
              "      <th>cosine_sim_tfidf</th>\n",
              "      <th>euc_dist</th>\n",
              "      <th>jac_sim</th>\n",
              "    </tr>\n",
              "  </thead>\n",
              "  <tbody>\n",
              "    <tr>\n",
              "      <th>0</th>\n",
              "      <td>0</td>\n",
              "      <td>1</td>\n",
              "      <td>2</td>\n",
              "      <td>step step guid invest share market india</td>\n",
              "      <td>step step guid invest share market</td>\n",
              "      <td>0</td>\n",
              "      <td>14</td>\n",
              "      <td>12</td>\n",
              "      <td>66</td>\n",
              "      <td>57</td>\n",
              "      <td>4</td>\n",
              "      <td>4</td>\n",
              "      <td>6</td>\n",
              "      <td>5</td>\n",
              "      <td>0.926829268292683</td>\n",
              "      <td>0</td>\n",
              "      <td>0.923270</td>\n",
              "      <td>1.353629</td>\n",
              "      <td>0.0</td>\n",
              "    </tr>\n",
              "    <tr>\n",
              "      <th>1</th>\n",
              "      <td>1</td>\n",
              "      <td>3</td>\n",
              "      <td>4</td>\n",
              "      <td>stori kohinoor kohnoor diamond</td>\n",
              "      <td>happen indian govern stole kohinoor kohnoor diamond back</td>\n",
              "      <td>0</td>\n",
              "      <td>8</td>\n",
              "      <td>13</td>\n",
              "      <td>51</td>\n",
              "      <td>88</td>\n",
              "      <td>6</td>\n",
              "      <td>6</td>\n",
              "      <td>3</td>\n",
              "      <td>4</td>\n",
              "      <td>0.6474820143884892</td>\n",
              "      <td>12</td>\n",
              "      <td>0.544641</td>\n",
              "      <td>1.515318</td>\n",
              "      <td>0.0</td>\n",
              "    </tr>\n",
              "    <tr>\n",
              "      <th>2</th>\n",
              "      <td>2</td>\n",
              "      <td>5</td>\n",
              "      <td>6</td>\n",
              "      <td>increas speed internet connect use vpn</td>\n",
              "      <td>internet speed increas hack dns</td>\n",
              "      <td>0</td>\n",
              "      <td>14</td>\n",
              "      <td>10</td>\n",
              "      <td>73</td>\n",
              "      <td>59</td>\n",
              "      <td>4</td>\n",
              "      <td>5</td>\n",
              "      <td>5</td>\n",
              "      <td>3</td>\n",
              "      <td>0.45454545454545453</td>\n",
              "      <td>9</td>\n",
              "      <td>0.193333</td>\n",
              "      <td>1.677446</td>\n",
              "      <td>0.0</td>\n",
              "    </tr>\n",
              "    <tr>\n",
              "      <th>3</th>\n",
              "      <td>3</td>\n",
              "      <td>7</td>\n",
              "      <td>8</td>\n",
              "      <td>mental lone solv</td>\n",
              "      <td>find remaind mathmath divid</td>\n",
              "      <td>0</td>\n",
              "      <td>11</td>\n",
              "      <td>9</td>\n",
              "      <td>50</td>\n",
              "      <td>65</td>\n",
              "      <td>4</td>\n",
              "      <td>6</td>\n",
              "      <td>2</td>\n",
              "      <td>4</td>\n",
              "      <td>0.06956521739130435</td>\n",
              "      <td>19</td>\n",
              "      <td>0.000000</td>\n",
              "      <td>2.767854</td>\n",
              "      <td>0.0</td>\n",
              "    </tr>\n",
              "    <tr>\n",
              "      <th>4</th>\n",
              "      <td>4</td>\n",
              "      <td>9</td>\n",
              "      <td>10</td>\n",
              "      <td>one dissolv water quik sugar salt methan carbon oxid</td>\n",
              "      <td>fish surviv salt water</td>\n",
              "      <td>0</td>\n",
              "      <td>13</td>\n",
              "      <td>7</td>\n",
              "      <td>76</td>\n",
              "      <td>39</td>\n",
              "      <td>5</td>\n",
              "      <td>5</td>\n",
              "      <td>2</td>\n",
              "      <td>2</td>\n",
              "      <td>0.3652173913043478</td>\n",
              "      <td>9</td>\n",
              "      <td>0.235319</td>\n",
              "      <td>2.278973</td>\n",
              "      <td>0.0</td>\n",
              "    </tr>\n",
              "  </tbody>\n",
              "</table>\n",
              "</div>"
            ],
            "text/plain": [
              "  id qid1 qid2  ... cosine_sim_tfidf  euc_dist jac_sim\n",
              "0  0    1    2  ...         0.923270  1.353629     0.0\n",
              "1  1    3    4  ...         0.544641  1.515318     0.0\n",
              "2  2    5    6  ...         0.193333  1.677446     0.0\n",
              "3  3    7    8  ...         0.000000  2.767854     0.0\n",
              "4  4    9   10  ...         0.235319  2.278973     0.0\n",
              "\n",
              "[5 rows x 19 columns]"
            ]
          },
          "metadata": {
            "tags": []
          },
          "execution_count": 87
        }
      ]
    },
    {
      "cell_type": "markdown",
      "metadata": {
        "id": "TLLdVeLj4-_I",
        "colab_type": "text"
      },
      "source": [
        "## Modeling"
      ]
    },
    {
      "cell_type": "markdown",
      "metadata": {
        "id": "ZsPxbZXZaH7s",
        "colab_type": "text"
      },
      "source": [
        "##Random Forest"
      ]
    },
    {
      "cell_type": "markdown",
      "metadata": {
        "id": "_EMED335aPhG",
        "colab_type": "text"
      },
      "source": [
        "- no hyperparameter tuning <br />\n",
        "- no imbalane treatment"
      ]
    },
    {
      "cell_type": "code",
      "metadata": {
        "id": "nluO-1UpaKx2",
        "colab_type": "code",
        "colab": {}
      },
      "source": [
        "#Import Random Forest Model\n",
        "from sklearn.ensemble import RandomForestClassifier\n",
        "\n",
        "#Create a Gaussian Classifier\n",
        "clf=RandomForestClassifier(n_estimators=20)\n",
        "\n",
        "#Train the model using the training sets y_pred=clf.predict(X_test)\n",
        "clf.fit(xtrain, ytrain)\n",
        "\n",
        "#prediction \n",
        "y_pred=clf.predict(xtest)"
      ],
      "execution_count": 0,
      "outputs": []
    },
    {
      "cell_type": "code",
      "metadata": {
        "id": "FzC-2u1Oa6oc",
        "colab_type": "code",
        "outputId": "6f4177f3-10df-4bc8-bb6b-d7585673737a",
        "colab": {
          "base_uri": "https://localhost:8080/",
          "height": 34
        }
      },
      "source": [
        "#Import scikit-learn metrics module for accuracy calculation\n",
        "from sklearn import metrics\n",
        "# Model Accuracy\n",
        "print(\"Accuracy:\",metrics.accuracy_score(ytest, y_pred))"
      ],
      "execution_count": 0,
      "outputs": [
        {
          "output_type": "stream",
          "text": [
            "Accuracy: 0.7376473310961599\n"
          ],
          "name": "stdout"
        }
      ]
    },
    {
      "cell_type": "markdown",
      "metadata": {
        "id": "0RvvUq83cmKK",
        "colab_type": "text"
      },
      "source": [
        "##Naive Bayes"
      ]
    },
    {
      "cell_type": "markdown",
      "metadata": {
        "id": "VLZ-Oz_wdhZc",
        "colab_type": "text"
      },
      "source": [
        "- no hyperparameter tuning <br />\n",
        "- no imbalane treatment"
      ]
    },
    {
      "cell_type": "code",
      "metadata": {
        "id": "Oxq38tPAclio",
        "colab_type": "code",
        "colab": {}
      },
      "source": [
        "# import the package\n",
        "from sklearn.naive_bayes import GaussianNB\n",
        "\n",
        "# instantiate the model (using the default parameters)\n",
        "nb = GaussianNB()\n",
        "\n",
        "# fit the model with data\n",
        "nb.fit(xtrain, ytrain)\n",
        "\n",
        "#prediction\n",
        "y_pred=nb.predict(xtest)"
      ],
      "execution_count": 0,
      "outputs": []
    },
    {
      "cell_type": "code",
      "metadata": {
        "id": "zW1bqFORdNfd",
        "colab_type": "code",
        "outputId": "29c60724-0523-46ae-c41d-22aa6a3146c3",
        "colab": {
          "base_uri": "https://localhost:8080/",
          "height": 51
        }
      },
      "source": [
        "# evaluate the training model with cross validation \n",
        "from sklearn import model_selection\n",
        "from sklearn.model_selection import cross_val_score\n",
        "kfold = model_selection.KFold(n_splits=10)\n",
        "results = cross_val_score(nb , xtrain, ytrain, cv=kfold)\n",
        "results"
      ],
      "execution_count": 0,
      "outputs": [
        {
          "output_type": "execute_result",
          "data": {
            "text/plain": [
              "array([0.64109104, 0.64576691, 0.64675877, 0.64119731, 0.64279136,\n",
              "       0.64325186, 0.63970953, 0.63758413, 0.64155154, 0.64210564])"
            ]
          },
          "metadata": {
            "tags": []
          },
          "execution_count": 91
        }
      ]
    },
    {
      "cell_type": "markdown",
      "metadata": {
        "id": "E5i9IabiUIDF",
        "colab_type": "text"
      },
      "source": [
        "## XGBoost\n"
      ]
    },
    {
      "cell_type": "markdown",
      "metadata": {
        "id": "2_rjl_yddjPO",
        "colab_type": "text"
      },
      "source": [
        "- with hyperparameter tuning <br />\n",
        "- with imbalane treatment"
      ]
    },
    {
      "cell_type": "code",
      "metadata": {
        "id": "BSV6Kdu-Y4e-",
        "colab_type": "code",
        "colab": {}
      },
      "source": [
        "#import xgboost \n",
        "import xgboost as xgb\n",
        "import sklearn.metrics as metrics\n",
        "from sklearn.metrics import classification_report"
      ],
      "execution_count": 0,
      "outputs": []
    },
    {
      "cell_type": "code",
      "metadata": {
        "id": "QVwBx6CqdXjv",
        "colab_type": "code",
        "colab": {}
      },
      "source": [
        "#define the model \n",
        "xgb_model = xgb.XGBClassifier(objective='binary:hinge', learning_rate= 0.1,\n",
        "                max_depth= 5, alpha1 = 0, scale_pos_weight=6)"
      ],
      "execution_count": 0,
      "outputs": []
    },
    {
      "cell_type": "markdown",
      "metadata": {
        "id": "b95vTav0Q2Ah",
        "colab_type": "text"
      },
      "source": [
        "binary:hinge: hinge loss for binary classification. This makes predictions of 0 or 1, rather than producing probabilities.\n"
      ]
    },
    {
      "cell_type": "code",
      "metadata": {
        "id": "PI3NGkB8irGu",
        "colab_type": "code",
        "colab": {}
      },
      "source": [
        "#hyper parameter optimization \n",
        "#this is initial params in order to find the best one \n",
        "params = { 'learning_rate' :[0.1, 0.3, 0.4, 0.5],\n",
        "        'min_child_weight': [1, 5, 10],\n",
        "        'gamma': [1, 1.5, 2, 5],\n",
        "        'subsample': [0.6, 0.8, 1.0], \n",
        "        'colsample_bytree': [0.6, 0.8, 1.0],\n",
        "        'max_depth': [8, 10, 12], \n",
        "        'n_estimators': [50, 100, 150]\n",
        "        }\n"
      ],
      "execution_count": 0,
      "outputs": []
    },
    {
      "cell_type": "code",
      "metadata": {
        "id": "3c__qYbujFuP",
        "colab_type": "code",
        "colab": {}
      },
      "source": [
        "from sklearn.model_selection import RandomizedSearchCV\n",
        "from sklearn.model_selection import StratifiedKFold"
      ],
      "execution_count": 0,
      "outputs": []
    },
    {
      "cell_type": "code",
      "metadata": {
        "id": "jrLhK_Ks1FSA",
        "colab_type": "code",
        "outputId": "ada319cb-df9f-4239-f706-0dbae1099f52",
        "colab": {
          "base_uri": "https://localhost:8080/",
          "height": 221
        }
      },
      "source": [
        "ytrain = ytrain.astype(int)\n",
        "ytrain\n"
      ],
      "execution_count": 0,
      "outputs": [
        {
          "output_type": "execute_result",
          "data": {
            "text/plain": [
              "21716     1\n",
              "245748    0\n",
              "394597    0\n",
              "197850    0\n",
              "74544     0\n",
              "         ..\n",
              "65211     1\n",
              "115278    0\n",
              "210637    0\n",
              "52244     0\n",
              "343748    0\n",
              "Name: label, Length: 282299, dtype: int64"
            ]
          },
          "metadata": {
            "tags": []
          },
          "execution_count": 96
        }
      ]
    },
    {
      "cell_type": "markdown",
      "metadata": {
        "id": "5hG2t4Mu4z99",
        "colab_type": "text"
      },
      "source": [
        "## Hyperparameter Tuning \n",
        "choose the parameter that fit the data the best. <br />\n",
        "Grid search is the process of performing hyper parameter tuning in order to determine the optimal values for a given model."
      ]
    },
    {
      "cell_type": "markdown",
      "metadata": {
        "id": "EhS8Gouraj8p",
        "colab_type": "text"
      },
      "source": [
        "a slight variation in the K Fold cross validation technique is made, such that each fold contains approximately the same percentage of samples of each target class as the complete set, or in case of prediction problems, the mean response value is approximately equal in all the folds. This variation is also known as Stratified K Fold."
      ]
    },
    {
      "cell_type": "code",
      "metadata": {
        "id": "f69Yfu8rDjnG",
        "colab_type": "code",
        "colab": {}
      },
      "source": [
        "folds = 10\n",
        "param_comb = 5\n",
        "skf = StratifiedKFold(n_splits=folds, shuffle = True, random_state = 1001)\n",
        "  "
      ],
      "execution_count": 0,
      "outputs": []
    },
    {
      "cell_type": "code",
      "metadata": {
        "id": "qbkbHIK-IrP2",
        "colab_type": "code",
        "outputId": "16df3f89-fc5f-462c-e5d0-ff25681c0953",
        "colab": {
          "base_uri": "https://localhost:8080/",
          "height": 391
        }
      },
      "source": [
        "random_search = RandomizedSearchCV(xgb_model, params, n_iter=param_comb, scoring='roc_auc', n_jobs=1, cv=skf.split(xtrain, ytrain), verbose=3, random_state=1001 )\n",
        "random_search\n"
      ],
      "execution_count": 0,
      "outputs": [
        {
          "output_type": "execute_result",
          "data": {
            "text/plain": [
              "RandomizedSearchCV(cv=<generator object _BaseKFold.split at 0x7f6cb4a489e8>,\n",
              "                   error_score=nan,\n",
              "                   estimator=XGBClassifier(alpha1=0, base_score=0.5,\n",
              "                                           booster='gbtree',\n",
              "                                           colsample_bylevel=1,\n",
              "                                           colsample_bynode=1,\n",
              "                                           colsample_bytree=1, gamma=0,\n",
              "                                           learning_rate=0.1, max_delta_step=0,\n",
              "                                           max_depth=5, min_child_weight=1,\n",
              "                                           missing=None, n_estimators=100,\n",
              "                                           n_jobs=1, nthread=None,\n",
              "                                           objective='bi...\n",
              "                   iid='deprecated', n_iter=5, n_jobs=1,\n",
              "                   param_distributions={'colsample_bytree': [0.6, 0.8, 1.0],\n",
              "                                        'gamma': [1, 1.5, 2, 5],\n",
              "                                        'learning_rate': [0.1, 0.3, 0.4, 0.5],\n",
              "                                        'max_depth': [8, 10, 12],\n",
              "                                        'min_child_weight': [1, 5, 10],\n",
              "                                        'n_estimators': [50, 100, 150],\n",
              "                                        'subsample': [0.6, 0.8, 1.0]},\n",
              "                   pre_dispatch='2*n_jobs', random_state=1001, refit=True,\n",
              "                   return_train_score=False, scoring='roc_auc', verbose=3)"
            ]
          },
          "metadata": {
            "tags": []
          },
          "execution_count": 98
        }
      ]
    },
    {
      "cell_type": "code",
      "metadata": {
        "id": "vuRwBm8pI4b1",
        "colab_type": "code",
        "outputId": "41e04df1-8aec-481c-926c-049adcdf8662",
        "colab": {
          "base_uri": "https://localhost:8080/"
        }
      },
      "source": [
        "#fit the train set \n",
        "random_search.fit(xtrain, ytrain)\n"
      ],
      "execution_count": 0,
      "outputs": [
        {
          "output_type": "stream",
          "text": [
            "Fitting 10 folds for each of 5 candidates, totalling 50 fits\n",
            "[CV] subsample=0.6, n_estimators=50, min_child_weight=5, max_depth=8, learning_rate=0.1, gamma=1.5, colsample_bytree=1.0 \n"
          ],
          "name": "stdout"
        },
        {
          "output_type": "stream",
          "text": [
            "[Parallel(n_jobs=1)]: Using backend SequentialBackend with 1 concurrent workers.\n"
          ],
          "name": "stderr"
        },
        {
          "output_type": "stream",
          "text": [
            "[CV]  subsample=0.6, n_estimators=50, min_child_weight=5, max_depth=8, learning_rate=0.1, gamma=1.5, colsample_bytree=1.0, score=0.721, total=  31.8s\n",
            "[CV] subsample=0.6, n_estimators=50, min_child_weight=5, max_depth=8, learning_rate=0.1, gamma=1.5, colsample_bytree=1.0 \n"
          ],
          "name": "stdout"
        },
        {
          "output_type": "stream",
          "text": [
            "[Parallel(n_jobs=1)]: Done   1 out of   1 | elapsed:   31.8s remaining:    0.0s\n"
          ],
          "name": "stderr"
        },
        {
          "output_type": "stream",
          "text": [
            "[CV]  subsample=0.6, n_estimators=50, min_child_weight=5, max_depth=8, learning_rate=0.1, gamma=1.5, colsample_bytree=1.0, score=0.729, total=  31.7s\n",
            "[CV] subsample=0.6, n_estimators=50, min_child_weight=5, max_depth=8, learning_rate=0.1, gamma=1.5, colsample_bytree=1.0 \n"
          ],
          "name": "stdout"
        },
        {
          "output_type": "stream",
          "text": [
            "[Parallel(n_jobs=1)]: Done   2 out of   2 | elapsed:  1.1min remaining:    0.0s\n"
          ],
          "name": "stderr"
        },
        {
          "output_type": "stream",
          "text": [
            "[CV]  subsample=0.6, n_estimators=50, min_child_weight=5, max_depth=8, learning_rate=0.1, gamma=1.5, colsample_bytree=1.0, score=0.722, total=  32.1s\n",
            "[CV] subsample=0.6, n_estimators=50, min_child_weight=5, max_depth=8, learning_rate=0.1, gamma=1.5, colsample_bytree=1.0 \n",
            "[CV]  subsample=0.6, n_estimators=50, min_child_weight=5, max_depth=8, learning_rate=0.1, gamma=1.5, colsample_bytree=1.0, score=0.725, total=  31.6s\n",
            "[CV] subsample=0.6, n_estimators=50, min_child_weight=5, max_depth=8, learning_rate=0.1, gamma=1.5, colsample_bytree=1.0 \n",
            "[CV]  subsample=0.6, n_estimators=50, min_child_weight=5, max_depth=8, learning_rate=0.1, gamma=1.5, colsample_bytree=1.0, score=0.729, total=  31.5s\n",
            "[CV] subsample=0.6, n_estimators=50, min_child_weight=5, max_depth=8, learning_rate=0.1, gamma=1.5, colsample_bytree=1.0 \n",
            "[CV]  subsample=0.6, n_estimators=50, min_child_weight=5, max_depth=8, learning_rate=0.1, gamma=1.5, colsample_bytree=1.0, score=0.732, total=  31.6s\n",
            "[CV] subsample=0.6, n_estimators=50, min_child_weight=5, max_depth=8, learning_rate=0.1, gamma=1.5, colsample_bytree=1.0 \n",
            "[CV]  subsample=0.6, n_estimators=50, min_child_weight=5, max_depth=8, learning_rate=0.1, gamma=1.5, colsample_bytree=1.0, score=0.728, total=  31.5s\n",
            "[CV] subsample=0.6, n_estimators=50, min_child_weight=5, max_depth=8, learning_rate=0.1, gamma=1.5, colsample_bytree=1.0 \n",
            "[CV]  subsample=0.6, n_estimators=50, min_child_weight=5, max_depth=8, learning_rate=0.1, gamma=1.5, colsample_bytree=1.0, score=0.730, total=  31.5s\n",
            "[CV] subsample=0.6, n_estimators=50, min_child_weight=5, max_depth=8, learning_rate=0.1, gamma=1.5, colsample_bytree=1.0 \n",
            "[CV]  subsample=0.6, n_estimators=50, min_child_weight=5, max_depth=8, learning_rate=0.1, gamma=1.5, colsample_bytree=1.0, score=0.718, total=  31.5s\n",
            "[CV] subsample=0.6, n_estimators=50, min_child_weight=5, max_depth=8, learning_rate=0.1, gamma=1.5, colsample_bytree=1.0 \n",
            "[CV]  subsample=0.6, n_estimators=50, min_child_weight=5, max_depth=8, learning_rate=0.1, gamma=1.5, colsample_bytree=1.0, score=0.725, total=  31.4s\n",
            "[CV] subsample=0.8, n_estimators=50, min_child_weight=5, max_depth=10, learning_rate=0.1, gamma=1.5, colsample_bytree=1.0 \n",
            "[CV]  subsample=0.8, n_estimators=50, min_child_weight=5, max_depth=10, learning_rate=0.1, gamma=1.5, colsample_bytree=1.0, score=0.727, total=  39.6s\n",
            "[CV] subsample=0.8, n_estimators=50, min_child_weight=5, max_depth=10, learning_rate=0.1, gamma=1.5, colsample_bytree=1.0 \n",
            "[CV]  subsample=0.8, n_estimators=50, min_child_weight=5, max_depth=10, learning_rate=0.1, gamma=1.5, colsample_bytree=1.0, score=0.731, total=  39.7s\n",
            "[CV] subsample=0.8, n_estimators=50, min_child_weight=5, max_depth=10, learning_rate=0.1, gamma=1.5, colsample_bytree=1.0 \n",
            "[CV]  subsample=0.8, n_estimators=50, min_child_weight=5, max_depth=10, learning_rate=0.1, gamma=1.5, colsample_bytree=1.0, score=0.728, total=  40.5s\n",
            "[CV] subsample=0.8, n_estimators=50, min_child_weight=5, max_depth=10, learning_rate=0.1, gamma=1.5, colsample_bytree=1.0 \n",
            "[CV]  subsample=0.8, n_estimators=50, min_child_weight=5, max_depth=10, learning_rate=0.1, gamma=1.5, colsample_bytree=1.0, score=0.730, total=  39.6s\n",
            "[CV] subsample=0.8, n_estimators=50, min_child_weight=5, max_depth=10, learning_rate=0.1, gamma=1.5, colsample_bytree=1.0 \n",
            "[CV]  subsample=0.8, n_estimators=50, min_child_weight=5, max_depth=10, learning_rate=0.1, gamma=1.5, colsample_bytree=1.0, score=0.731, total=  39.5s\n",
            "[CV] subsample=0.8, n_estimators=50, min_child_weight=5, max_depth=10, learning_rate=0.1, gamma=1.5, colsample_bytree=1.0 \n",
            "[CV]  subsample=0.8, n_estimators=50, min_child_weight=5, max_depth=10, learning_rate=0.1, gamma=1.5, colsample_bytree=1.0, score=0.736, total=  39.7s\n",
            "[CV] subsample=0.8, n_estimators=50, min_child_weight=5, max_depth=10, learning_rate=0.1, gamma=1.5, colsample_bytree=1.0 \n",
            "[CV]  subsample=0.8, n_estimators=50, min_child_weight=5, max_depth=10, learning_rate=0.1, gamma=1.5, colsample_bytree=1.0, score=0.733, total=  39.6s\n",
            "[CV] subsample=0.8, n_estimators=50, min_child_weight=5, max_depth=10, learning_rate=0.1, gamma=1.5, colsample_bytree=1.0 \n",
            "[CV]  subsample=0.8, n_estimators=50, min_child_weight=5, max_depth=10, learning_rate=0.1, gamma=1.5, colsample_bytree=1.0, score=0.736, total=  39.9s\n",
            "[CV] subsample=0.8, n_estimators=50, min_child_weight=5, max_depth=10, learning_rate=0.1, gamma=1.5, colsample_bytree=1.0 \n",
            "[CV]  subsample=0.8, n_estimators=50, min_child_weight=5, max_depth=10, learning_rate=0.1, gamma=1.5, colsample_bytree=1.0, score=0.724, total=  39.9s\n",
            "[CV] subsample=0.8, n_estimators=50, min_child_weight=5, max_depth=10, learning_rate=0.1, gamma=1.5, colsample_bytree=1.0 \n",
            "[CV]  subsample=0.8, n_estimators=50, min_child_weight=5, max_depth=10, learning_rate=0.1, gamma=1.5, colsample_bytree=1.0, score=0.733, total=  40.2s\n",
            "[CV] subsample=0.8, n_estimators=150, min_child_weight=10, max_depth=12, learning_rate=0.4, gamma=5, colsample_bytree=0.6 \n",
            "[CV]  subsample=0.8, n_estimators=150, min_child_weight=10, max_depth=12, learning_rate=0.4, gamma=5, colsample_bytree=0.6, score=0.717, total= 1.4min\n",
            "[CV] subsample=0.8, n_estimators=150, min_child_weight=10, max_depth=12, learning_rate=0.4, gamma=5, colsample_bytree=0.6 \n",
            "[CV]  subsample=0.8, n_estimators=150, min_child_weight=10, max_depth=12, learning_rate=0.4, gamma=5, colsample_bytree=0.6, score=0.722, total= 1.3min\n",
            "[CV] subsample=0.8, n_estimators=150, min_child_weight=10, max_depth=12, learning_rate=0.4, gamma=5, colsample_bytree=0.6 \n",
            "[CV]  subsample=0.8, n_estimators=150, min_child_weight=10, max_depth=12, learning_rate=0.4, gamma=5, colsample_bytree=0.6, score=0.718, total= 1.3min\n",
            "[CV] subsample=0.8, n_estimators=150, min_child_weight=10, max_depth=12, learning_rate=0.4, gamma=5, colsample_bytree=0.6 \n",
            "[CV]  subsample=0.8, n_estimators=150, min_child_weight=10, max_depth=12, learning_rate=0.4, gamma=5, colsample_bytree=0.6, score=0.722, total= 1.3min\n",
            "[CV] subsample=0.8, n_estimators=150, min_child_weight=10, max_depth=12, learning_rate=0.4, gamma=5, colsample_bytree=0.6 \n",
            "[CV]  subsample=0.8, n_estimators=150, min_child_weight=10, max_depth=12, learning_rate=0.4, gamma=5, colsample_bytree=0.6, score=0.723, total= 1.3min\n",
            "[CV] subsample=0.8, n_estimators=150, min_child_weight=10, max_depth=12, learning_rate=0.4, gamma=5, colsample_bytree=0.6 \n",
            "[CV]  subsample=0.8, n_estimators=150, min_child_weight=10, max_depth=12, learning_rate=0.4, gamma=5, colsample_bytree=0.6, score=0.725, total= 1.3min\n",
            "[CV] subsample=0.8, n_estimators=150, min_child_weight=10, max_depth=12, learning_rate=0.4, gamma=5, colsample_bytree=0.6 \n",
            "[CV]  subsample=0.8, n_estimators=150, min_child_weight=10, max_depth=12, learning_rate=0.4, gamma=5, colsample_bytree=0.6, score=0.723, total= 1.3min\n",
            "[CV] subsample=0.8, n_estimators=150, min_child_weight=10, max_depth=12, learning_rate=0.4, gamma=5, colsample_bytree=0.6 \n",
            "[CV]  subsample=0.8, n_estimators=150, min_child_weight=10, max_depth=12, learning_rate=0.4, gamma=5, colsample_bytree=0.6, score=0.723, total= 1.3min\n",
            "[CV] subsample=0.8, n_estimators=150, min_child_weight=10, max_depth=12, learning_rate=0.4, gamma=5, colsample_bytree=0.6 \n",
            "[CV]  subsample=0.8, n_estimators=150, min_child_weight=10, max_depth=12, learning_rate=0.4, gamma=5, colsample_bytree=0.6, score=0.717, total= 1.3min\n",
            "[CV] subsample=0.8, n_estimators=150, min_child_weight=10, max_depth=12, learning_rate=0.4, gamma=5, colsample_bytree=0.6 \n",
            "[CV]  subsample=0.8, n_estimators=150, min_child_weight=10, max_depth=12, learning_rate=0.4, gamma=5, colsample_bytree=0.6, score=0.723, total= 1.3min\n",
            "[CV] subsample=0.8, n_estimators=150, min_child_weight=5, max_depth=10, learning_rate=0.5, gamma=1, colsample_bytree=0.6 \n",
            "[CV]  subsample=0.8, n_estimators=150, min_child_weight=5, max_depth=10, learning_rate=0.5, gamma=1, colsample_bytree=0.6, score=0.714, total= 1.1min\n",
            "[CV] subsample=0.8, n_estimators=150, min_child_weight=5, max_depth=10, learning_rate=0.5, gamma=1, colsample_bytree=0.6 \n",
            "[CV]  subsample=0.8, n_estimators=150, min_child_weight=5, max_depth=10, learning_rate=0.5, gamma=1, colsample_bytree=0.6, score=0.720, total= 1.1min\n",
            "[CV] subsample=0.8, n_estimators=150, min_child_weight=5, max_depth=10, learning_rate=0.5, gamma=1, colsample_bytree=0.6 \n",
            "[CV]  subsample=0.8, n_estimators=150, min_child_weight=5, max_depth=10, learning_rate=0.5, gamma=1, colsample_bytree=0.6, score=0.720, total= 1.1min\n",
            "[CV] subsample=0.8, n_estimators=150, min_child_weight=5, max_depth=10, learning_rate=0.5, gamma=1, colsample_bytree=0.6 \n",
            "[CV]  subsample=0.8, n_estimators=150, min_child_weight=5, max_depth=10, learning_rate=0.5, gamma=1, colsample_bytree=0.6, score=0.720, total= 1.1min\n",
            "[CV] subsample=0.8, n_estimators=150, min_child_weight=5, max_depth=10, learning_rate=0.5, gamma=1, colsample_bytree=0.6 \n",
            "[CV]  subsample=0.8, n_estimators=150, min_child_weight=5, max_depth=10, learning_rate=0.5, gamma=1, colsample_bytree=0.6, score=0.721, total= 1.1min\n",
            "[CV] subsample=0.8, n_estimators=150, min_child_weight=5, max_depth=10, learning_rate=0.5, gamma=1, colsample_bytree=0.6 \n",
            "[CV]  subsample=0.8, n_estimators=150, min_child_weight=5, max_depth=10, learning_rate=0.5, gamma=1, colsample_bytree=0.6, score=0.725, total= 1.1min\n",
            "[CV] subsample=0.8, n_estimators=150, min_child_weight=5, max_depth=10, learning_rate=0.5, gamma=1, colsample_bytree=0.6 \n",
            "[CV]  subsample=0.8, n_estimators=150, min_child_weight=5, max_depth=10, learning_rate=0.5, gamma=1, colsample_bytree=0.6, score=0.720, total= 1.1min\n",
            "[CV] subsample=0.8, n_estimators=150, min_child_weight=5, max_depth=10, learning_rate=0.5, gamma=1, colsample_bytree=0.6 \n",
            "[CV]  subsample=0.8, n_estimators=150, min_child_weight=5, max_depth=10, learning_rate=0.5, gamma=1, colsample_bytree=0.6, score=0.720, total= 1.1min\n",
            "[CV] subsample=0.8, n_estimators=150, min_child_weight=5, max_depth=10, learning_rate=0.5, gamma=1, colsample_bytree=0.6 \n",
            "[CV]  subsample=0.8, n_estimators=150, min_child_weight=5, max_depth=10, learning_rate=0.5, gamma=1, colsample_bytree=0.6, score=0.713, total= 1.1min\n",
            "[CV] subsample=0.8, n_estimators=150, min_child_weight=5, max_depth=10, learning_rate=0.5, gamma=1, colsample_bytree=0.6 \n",
            "[CV]  subsample=0.8, n_estimators=150, min_child_weight=5, max_depth=10, learning_rate=0.5, gamma=1, colsample_bytree=0.6, score=0.719, total= 1.1min\n",
            "[CV] subsample=0.8, n_estimators=150, min_child_weight=1, max_depth=10, learning_rate=0.1, gamma=5, colsample_bytree=1.0 \n",
            "[CV]  subsample=0.8, n_estimators=150, min_child_weight=1, max_depth=10, learning_rate=0.1, gamma=5, colsample_bytree=1.0, score=0.726, total= 1.9min\n",
            "[CV] subsample=0.8, n_estimators=150, min_child_weight=1, max_depth=10, learning_rate=0.1, gamma=5, colsample_bytree=1.0 \n",
            "[CV]  subsample=0.8, n_estimators=150, min_child_weight=1, max_depth=10, learning_rate=0.1, gamma=5, colsample_bytree=1.0, score=0.730, total= 1.9min\n",
            "[CV] subsample=0.8, n_estimators=150, min_child_weight=1, max_depth=10, learning_rate=0.1, gamma=5, colsample_bytree=1.0 \n",
            "[CV]  subsample=0.8, n_estimators=150, min_child_weight=1, max_depth=10, learning_rate=0.1, gamma=5, colsample_bytree=1.0, score=0.728, total= 1.9min\n",
            "[CV] subsample=0.8, n_estimators=150, min_child_weight=1, max_depth=10, learning_rate=0.1, gamma=5, colsample_bytree=1.0 \n",
            "[CV]  subsample=0.8, n_estimators=150, min_child_weight=1, max_depth=10, learning_rate=0.1, gamma=5, colsample_bytree=1.0, score=0.729, total= 1.9min\n",
            "[CV] subsample=0.8, n_estimators=150, min_child_weight=1, max_depth=10, learning_rate=0.1, gamma=5, colsample_bytree=1.0 \n",
            "[CV]  subsample=0.8, n_estimators=150, min_child_weight=1, max_depth=10, learning_rate=0.1, gamma=5, colsample_bytree=1.0, score=0.729, total= 1.9min\n",
            "[CV] subsample=0.8, n_estimators=150, min_child_weight=1, max_depth=10, learning_rate=0.1, gamma=5, colsample_bytree=1.0 \n",
            "[CV]  subsample=0.8, n_estimators=150, min_child_weight=1, max_depth=10, learning_rate=0.1, gamma=5, colsample_bytree=1.0, score=0.733, total= 1.9min\n",
            "[CV] subsample=0.8, n_estimators=150, min_child_weight=1, max_depth=10, learning_rate=0.1, gamma=5, colsample_bytree=1.0 \n",
            "[CV]  subsample=0.8, n_estimators=150, min_child_weight=1, max_depth=10, learning_rate=0.1, gamma=5, colsample_bytree=1.0, score=0.730, total= 1.9min\n",
            "[CV] subsample=0.8, n_estimators=150, min_child_weight=1, max_depth=10, learning_rate=0.1, gamma=5, colsample_bytree=1.0 \n",
            "[CV]  subsample=0.8, n_estimators=150, min_child_weight=1, max_depth=10, learning_rate=0.1, gamma=5, colsample_bytree=1.0, score=0.731, total= 1.9min\n",
            "[CV] subsample=0.8, n_estimators=150, min_child_weight=1, max_depth=10, learning_rate=0.1, gamma=5, colsample_bytree=1.0 \n",
            "[CV]  subsample=0.8, n_estimators=150, min_child_weight=1, max_depth=10, learning_rate=0.1, gamma=5, colsample_bytree=1.0, score=0.726, total= 1.9min\n",
            "[CV] subsample=0.8, n_estimators=150, min_child_weight=1, max_depth=10, learning_rate=0.1, gamma=5, colsample_bytree=1.0 \n",
            "[CV]  subsample=0.8, n_estimators=150, min_child_weight=1, max_depth=10, learning_rate=0.1, gamma=5, colsample_bytree=1.0, score=0.732, total= 1.9min\n"
          ],
          "name": "stdout"
        },
        {
          "output_type": "stream",
          "text": [
            "[Parallel(n_jobs=1)]: Done  50 out of  50 | elapsed: 55.0min finished\n"
          ],
          "name": "stderr"
        },
        {
          "output_type": "execute_result",
          "data": {
            "text/plain": [
              "RandomizedSearchCV(cv=<generator object _BaseKFold.split at 0x7f6cb4a489e8>,\n",
              "                   error_score=nan,\n",
              "                   estimator=XGBClassifier(alpha1=0, base_score=0.5,\n",
              "                                           booster='gbtree',\n",
              "                                           colsample_bylevel=1,\n",
              "                                           colsample_bynode=1,\n",
              "                                           colsample_bytree=1, gamma=0,\n",
              "                                           learning_rate=0.1, max_delta_step=0,\n",
              "                                           max_depth=5, min_child_weight=1,\n",
              "                                           missing=None, n_estimators=100,\n",
              "                                           n_jobs=1, nthread=None,\n",
              "                                           objective='bi...\n",
              "                   iid='deprecated', n_iter=5, n_jobs=1,\n",
              "                   param_distributions={'colsample_bytree': [0.6, 0.8, 1.0],\n",
              "                                        'gamma': [1, 1.5, 2, 5],\n",
              "                                        'learning_rate': [0.1, 0.3, 0.4, 0.5],\n",
              "                                        'max_depth': [8, 10, 12],\n",
              "                                        'min_child_weight': [1, 5, 10],\n",
              "                                        'n_estimators': [50, 100, 150],\n",
              "                                        'subsample': [0.6, 0.8, 1.0]},\n",
              "                   pre_dispatch='2*n_jobs', random_state=1001, refit=True,\n",
              "                   return_train_score=False, scoring='roc_auc', verbose=3)"
            ]
          },
          "metadata": {
            "tags": []
          },
          "execution_count": 99
        }
      ]
    },
    {
      "cell_type": "code",
      "metadata": {
        "id": "XAY6j-M0cEAO",
        "colab_type": "code",
        "colab": {}
      },
      "source": [
        " "
      ],
      "execution_count": 0,
      "outputs": []
    },
    {
      "cell_type": "code",
      "metadata": {
        "id": "aGImClagfoqF",
        "colab_type": "code",
        "outputId": "fd2c0287-ac32-4b77-86ab-cf23b8eec4ce",
        "colab": {
          "base_uri": "https://localhost:8080/",
          "height": 136
        }
      },
      "source": [
        "#get the best estimator \n",
        "random_search.best_estimator_\n",
        "\n",
        "#these are the best parameter to use in our xgboost model "
      ],
      "execution_count": 0,
      "outputs": [
        {
          "output_type": "execute_result",
          "data": {
            "text/plain": [
              "XGBClassifier(alpha1=0, base_score=0.5, booster='gbtree', colsample_bylevel=1,\n",
              "              colsample_bynode=1, colsample_bytree=1.0, gamma=1.5,\n",
              "              learning_rate=0.1, max_delta_step=0, max_depth=10,\n",
              "              min_child_weight=5, missing=None, n_estimators=50, n_jobs=1,\n",
              "              nthread=None, objective='binary:hinge', random_state=0,\n",
              "              reg_alpha=0, reg_lambda=1, scale_pos_weight=6, seed=None,\n",
              "              silent=None, subsample=0.8, verbosity=1)"
            ]
          },
          "metadata": {
            "tags": []
          },
          "execution_count": 100
        }
      ]
    },
    {
      "cell_type": "code",
      "metadata": {
        "id": "g9UVEIP9DGFx",
        "colab_type": "code",
        "outputId": "f6f47d43-7805-456d-a401-ea35b9c5cc80",
        "colab": {
          "base_uri": "https://localhost:8080/",
          "height": 34
        }
      },
      "source": [
        "#get the score of the best auc\n",
        "random_search.best_score_"
      ],
      "execution_count": 0,
      "outputs": [
        {
          "output_type": "execute_result",
          "data": {
            "text/plain": [
              "0.7308768328532176"
            ]
          },
          "metadata": {
            "tags": []
          },
          "execution_count": 101
        }
      ]
    },
    {
      "cell_type": "code",
      "metadata": {
        "id": "aC0tr9DqPaBB",
        "colab_type": "code",
        "outputId": "001dced5-cc21-42f6-bb11-ee09dbf6bcaf",
        "colab": {
          "base_uri": "https://localhost:8080/",
          "height": 136
        }
      },
      "source": [
        "random_search.best_params_"
      ],
      "execution_count": 0,
      "outputs": [
        {
          "output_type": "execute_result",
          "data": {
            "text/plain": [
              "{'colsample_bytree': 1.0,\n",
              " 'gamma': 1.5,\n",
              " 'learning_rate': 0.1,\n",
              " 'max_depth': 10,\n",
              " 'min_child_weight': 5,\n",
              " 'n_estimators': 50,\n",
              " 'subsample': 0.8}"
            ]
          },
          "metadata": {
            "tags": []
          },
          "execution_count": 102
        }
      ]
    },
    {
      "cell_type": "code",
      "metadata": {
        "id": "n71bVZhUqXen",
        "colab_type": "code",
        "colab": {}
      },
      "source": [
        "best_estimate = random_search.best_estimator_"
      ],
      "execution_count": 0,
      "outputs": []
    },
    {
      "cell_type": "code",
      "metadata": {
        "id": "BJqHD1yBqXkb",
        "colab_type": "code",
        "colab": {}
      },
      "source": [
        "#best parameters for the classifier model \n",
        "xgboost_model = best_estimate"
      ],
      "execution_count": 0,
      "outputs": []
    },
    {
      "cell_type": "code",
      "metadata": {
        "id": "sh-MgP8DgOU4",
        "colab_type": "code",
        "colab": {}
      },
      "source": [
        "# evaluate the training model with cross validation \n",
        "from sklearn import model_selection\n",
        "from sklearn.model_selection import cross_val_score\n",
        "kfold = model_selection.KFold(n_splits=10)\n",
        "results = cross_val_score(xgboost_model , xtrain, ytrain, cv=kfold)"
      ],
      "execution_count": 0,
      "outputs": []
    },
    {
      "cell_type": "code",
      "metadata": {
        "id": "OPX5zvOdi4Uk",
        "colab_type": "code",
        "outputId": "168d10eb-9141-4a43-bbd0-7443b733cd4a",
        "colab": {
          "base_uri": "https://localhost:8080/",
          "height": 34
        }
      },
      "source": [
        "#the average accuracy score for 10 models \n",
        "results.mean()"
      ],
      "execution_count": 0,
      "outputs": [
        {
          "output_type": "execute_result",
          "data": {
            "text/plain": [
              "0.7273989588993123"
            ]
          },
          "metadata": {
            "tags": []
          },
          "execution_count": 106
        }
      ]
    },
    {
      "cell_type": "code",
      "metadata": {
        "id": "dJWOHDbP1-CF",
        "colab_type": "code",
        "outputId": "40130516-d479-4b38-c2a6-8275c3a727fc",
        "colab": {
          "base_uri": "https://localhost:8080/",
          "height": 136
        }
      },
      "source": [
        "xgboost_model.fit(xtrain, ytrain)"
      ],
      "execution_count": 0,
      "outputs": [
        {
          "output_type": "execute_result",
          "data": {
            "text/plain": [
              "XGBClassifier(alpha1=0, base_score=0.5, booster='gbtree', colsample_bylevel=1,\n",
              "              colsample_bynode=1, colsample_bytree=1.0, gamma=1.5,\n",
              "              learning_rate=0.1, max_delta_step=0, max_depth=10,\n",
              "              min_child_weight=5, missing=None, n_estimators=50, n_jobs=1,\n",
              "              nthread=None, objective='binary:hinge', random_state=0,\n",
              "              reg_alpha=0, reg_lambda=1, scale_pos_weight=6, seed=None,\n",
              "              silent=None, subsample=0.8, verbosity=1)"
            ]
          },
          "metadata": {
            "tags": []
          },
          "execution_count": 107
        }
      ]
    },
    {
      "cell_type": "markdown",
      "metadata": {
        "id": "filzF22LWHCm",
        "colab_type": "text"
      },
      "source": [
        "## Evaluating the model \n"
      ]
    },
    {
      "cell_type": "code",
      "metadata": {
        "id": "5nEwpTxPqXcG",
        "colab_type": "code",
        "colab": {}
      },
      "source": [
        "y_pred = xgboost_model.predict(xtest)"
      ],
      "execution_count": 0,
      "outputs": []
    },
    {
      "cell_type": "code",
      "metadata": {
        "id": "VWj1PrN2RMyP",
        "colab_type": "code",
        "outputId": "7dba5415-03b9-4ba4-8318-685a17bf6d78",
        "colab": {
          "base_uri": "https://localhost:8080/",
          "height": 34
        }
      },
      "source": [
        "#evaluate the model accuracy on the test set \n",
        "from sklearn import metrics\n",
        "print(metrics.accuracy_score(ytest, y_pred)) "
      ],
      "execution_count": 0,
      "outputs": [
        {
          "output_type": "stream",
          "text": [
            "0.7221331393714975\n"
          ],
          "name": "stdout"
        }
      ]
    },
    {
      "cell_type": "code",
      "metadata": {
        "id": "Klou0p-2j8PE",
        "colab_type": "code",
        "outputId": "7dfbfcd7-9413-4415-9d8f-b7c39c586815",
        "colab": {
          "base_uri": "https://localhost:8080/",
          "height": 34
        }
      },
      "source": [
        "#evaluate the model using roc-auc\n",
        "print(metrics.roc_auc_score(ytest, y_pred))"
      ],
      "execution_count": 0,
      "outputs": [
        {
          "output_type": "stream",
          "text": [
            "0.7264802294278234\n"
          ],
          "name": "stdout"
        }
      ]
    },
    {
      "cell_type": "code",
      "metadata": {
        "id": "CheJLcUpj8R2",
        "colab_type": "code",
        "outputId": "834db5dd-ef4e-4ad1-b8c3-dfb4ad963a5c",
        "colab": {
          "base_uri": "https://localhost:8080/",
          "height": 51
        }
      },
      "source": [
        "#confusion matrix\n",
        "print(metrics.confusion_matrix(ytest, y_pred))"
      ],
      "execution_count": 0,
      "outputs": [
        {
          "output_type": "stream",
          "text": [
            "[[54169 22141]\n",
            " [11477 33199]]\n"
          ],
          "name": "stdout"
        }
      ]
    },
    {
      "cell_type": "code",
      "metadata": {
        "id": "Re17gq3Z8yfX",
        "colab_type": "code",
        "colab": {}
      },
      "source": [
        "confusion = metrics.confusion_matrix(ytest, y_pred)\n",
        "TP = confusion[1, 1]\n",
        "TN = confusion[0, 0]\n",
        "FP = confusion[0, 1]\n",
        "FN = confusion[1, 0]"
      ],
      "execution_count": 0,
      "outputs": []
    },
    {
      "cell_type": "code",
      "metadata": {
        "id": "WARObF-O6HKf",
        "colab_type": "code",
        "outputId": "8a794515-ccb3-4f9a-b71e-c54ba1e584e1",
        "colab": {
          "base_uri": "https://localhost:8080/",
          "height": 51
        }
      },
      "source": [
        "classification_error = (FP + FN) / float(TP + TN + FP + FN)\n",
        "\n",
        "print(classification_error)\n",
        "print(1 - metrics.accuracy_score(ytest, y_pred))"
      ],
      "execution_count": 0,
      "outputs": [
        {
          "output_type": "stream",
          "text": [
            "0.27786686062850247\n",
            "0.2778668606285025\n"
          ],
          "name": "stdout"
        }
      ]
    },
    {
      "cell_type": "code",
      "metadata": {
        "id": "ypFdqPM66HNQ",
        "colab_type": "code",
        "outputId": "e8729ade-215f-4c31-8346-98adb9dc3117",
        "colab": {
          "base_uri": "https://localhost:8080/",
          "height": 34
        }
      },
      "source": [
        "sensitivity = TP / float(FN + TP)\n",
        "print(sensitivity)"
      ],
      "execution_count": 0,
      "outputs": [
        {
          "output_type": "stream",
          "text": [
            "0.7431059181663533\n"
          ],
          "name": "stdout"
        }
      ]
    },
    {
      "cell_type": "code",
      "metadata": {
        "id": "pmc2dffa9cxT",
        "colab_type": "code",
        "outputId": "33c977be-73aa-4154-e627-8d795a44055e",
        "colab": {
          "base_uri": "https://localhost:8080/",
          "height": 34
        }
      },
      "source": [
        "specificity = TN / (TN + FP)\n",
        "\n",
        "print(specificity)"
      ],
      "execution_count": 0,
      "outputs": [
        {
          "output_type": "stream",
          "text": [
            "0.7098545406892937\n"
          ],
          "name": "stdout"
        }
      ]
    },
    {
      "cell_type": "code",
      "metadata": {
        "id": "2LoEIUo29uLz",
        "colab_type": "code",
        "outputId": "207a0de3-6c9d-4124-a538-ed451d1e9939",
        "colab": {
          "base_uri": "https://localhost:8080/",
          "height": 51
        }
      },
      "source": [
        "false_positive_rate = FP / float(TN + FP)\n",
        "\n",
        "print(false_positive_rate)\n",
        "print(1 - specificity)"
      ],
      "execution_count": 0,
      "outputs": [
        {
          "output_type": "stream",
          "text": [
            "0.29014545931070634\n",
            "0.29014545931070634\n"
          ],
          "name": "stdout"
        }
      ]
    },
    {
      "cell_type": "code",
      "metadata": {
        "id": "ZoVr_-779xQB",
        "colab_type": "code",
        "outputId": "b56db7d3-d5a2-4658-ffb8-4da788cd4b58",
        "colab": {
          "base_uri": "https://localhost:8080/",
          "height": 34
        }
      },
      "source": [
        "precision = TP / float(TP + FP)\n",
        "\n",
        "print(precision)"
      ],
      "execution_count": 0,
      "outputs": [
        {
          "output_type": "stream",
          "text": [
            "0.5999096494398265\n"
          ],
          "name": "stdout"
        }
      ]
    },
    {
      "cell_type": "code",
      "metadata": {
        "id": "EM9kYQ2Z9zQ7",
        "colab_type": "code",
        "colab": {}
      },
      "source": [
        ""
      ],
      "execution_count": 0,
      "outputs": []
    },
    {
      "cell_type": "code",
      "metadata": {
        "id": "Xo1eg1SdV3oU",
        "colab_type": "code",
        "colab": {}
      },
      "source": [
        ""
      ],
      "execution_count": 0,
      "outputs": []
    },
    {
      "cell_type": "code",
      "metadata": {
        "colab_type": "code",
        "id": "0pxXkg_J6Qx6",
        "outputId": "28dd3db9-cfbd-4792-dce8-69643738df4b",
        "colab": {
          "base_uri": "https://localhost:8080/",
          "height": 71
        }
      },
      "source": [
        " #validation curve \n",
        "from yellowbrick.model_selection import LearningCurve"
      ],
      "execution_count": 0,
      "outputs": [
        {
          "output_type": "stream",
          "text": [
            "/usr/local/lib/python3.6/dist-packages/sklearn/utils/deprecation.py:144: FutureWarning: The sklearn.metrics.classification module is  deprecated in version 0.22 and will be removed in version 0.24. The corresponding classes / functions should instead be imported from sklearn.metrics. Anything that cannot be imported from sklearn.metrics is now part of the private API.\n",
            "  warnings.warn(message, FutureWarning)\n"
          ],
          "name": "stderr"
        }
      ]
    },
    {
      "cell_type": "code",
      "metadata": {
        "id": "2d-xhygsuLZx",
        "colab_type": "code",
        "colab": {}
      },
      "source": [
        "from sklearn.model_selection import ShuffleSplit    \n",
        "from sklearn.model_selection import learning_curve"
      ],
      "execution_count": 0,
      "outputs": []
    },
    {
      "cell_type": "code",
      "metadata": {
        "id": "V-paMSHOwsmo",
        "colab_type": "code",
        "colab": {}
      },
      "source": [
        "cv = ShuffleSplit(n_splits=10, test_size=0.2)\n",
        "train_sizes = [1000, 3000, 5000, 10000, 100000]\n"
      ],
      "execution_count": 0,
      "outputs": []
    },
    {
      "cell_type": "markdown",
      "metadata": {
        "id": "CC6HJuyqgU-B",
        "colab_type": "text"
      },
      "source": [
        "## Learning Curves for all model with time effetiency"
      ]
    },
    {
      "cell_type": "code",
      "metadata": {
        "id": "yd-Ca-N9twoX",
        "colab_type": "code",
        "colab": {}
      },
      "source": [
        " #train sizes as shown below \n",
        " train_sizes=np.linspace(.1, 1.0, 5)\n",
        " train_sizes"
      ],
      "execution_count": 0,
      "outputs": []
    },
    {
      "cell_type": "code",
      "metadata": {
        "id": "tr0krHIyCgK2",
        "colab_type": "code",
        "colab": {}
      },
      "source": [
        "x"
      ],
      "execution_count": 0,
      "outputs": []
    },
    {
      "cell_type": "markdown",
      "metadata": {
        "id": "MLCrr3NHo1SX",
        "colab_type": "text"
      },
      "source": [
        "##Using Accuracy"
      ]
    },
    {
      "cell_type": "code",
      "metadata": {
        "id": "vEYUnEEX4dBy",
        "colab_type": "code",
        "colab": {}
      },
      "source": [
        "def plot_learning_curve(estimator, title, X, y, axes=None, ylim=None, cv=None, n_jobs=None, train_sizes = np.linspace(.1, 1.0, 5)):\n",
        "  if axes is None:\n",
        "    _, axes = plt.subplots(1, 3, figsize=(20, 5))\n",
        "  axes[0].set_title(title)\n",
        "  if ylim is not None:\n",
        "    axes[0].set_ylim(*ylim)\n",
        "    axes[0].set_xlabel(\"Training examples\")\n",
        "    axes[0].set_ylabel(\"Score\")\n",
        "\n",
        "    train_sizes, train_scores, test_scores, fit_times, _ = learning_curve(estimator, X, y, cv=cv, n_jobs=n_jobs, train_sizes=train_sizes, return_times=True, verbose= 3, shuffle=True)\n",
        "    train_scores_mean = np.mean(train_scores, axis=1) #mean scrore for the train sizes\n",
        "    train_scores_std = np.std(train_scores, axis=1) #standard deviation for the train sizes\n",
        "    test_scores_mean = np.mean(test_scores, axis=1)\n",
        "    test_scores_std = np.std(test_scores, axis=1)\n",
        "    fit_times_mean = np.mean(fit_times, axis=1)\n",
        "    fit_times_std = np.std(fit_times, axis=1)\n",
        "    \n",
        "    # Plot learning curve\n",
        "    axes[0].grid()\n",
        "    axes[0].fill_between(train_sizes, train_scores_mean - train_scores_std, train_scores_mean + train_scores_std, alpha=0.1,color=\"r\")\n",
        "    axes[0].fill_between(train_sizes, test_scores_mean - test_scores_std, test_scores_mean + test_scores_std, alpha=0.1, color=\"g\")\n",
        "    axes[0].plot(train_sizes, train_scores_mean, 'o-', color=\"r\", label=\"Training score\")\n",
        "    axes[0].plot(train_sizes, test_scores_mean, 'o-', color=\"g\", label=\"Cross-validation score\")\n",
        "    axes[0].legend(loc=\"best\") #loc is the location of the legend // The string 'best' places the legend at the location, among the nine locations defined so far, with the minimum overlap with other drawn artists\n",
        "\n",
        "    # Plot n_samples vs fit_times\n",
        "    axes[1].grid()\n",
        "    axes[1].plot(train_sizes, fit_times_mean, 'o-')\n",
        "    axes[1].fill_between(train_sizes, fit_times_mean - fit_times_std, fit_times_mean + fit_times_std, alpha=0.1)\n",
        "    axes[1].set_xlabel(\"Training examples\")\n",
        "    axes[1].set_ylabel(\"fit_times\")\n",
        "    axes[1].set_title(\"Scalability of the model\")\n",
        "\n",
        "    #plot fit_times vs. score \n",
        "    axes[2].grid()\n",
        "    axes[2].plot(fit_times_mean, test_scores_mean, 'o-')\n",
        "    axes[2].fill_between(fit_times_mean, test_scores_mean - test_scores_std, test_scores_mean + test_scores_std, alpha=0.1)\n",
        "    axes[2].set_xlabel(\"fit_times\")\n",
        "    axes[2].set_ylabel(\"Score\")\n",
        "    axes[2].set_title(\"Performance of the model\")\n",
        "    \n",
        "    return plt\n",
        "\n",
        "#plot 3 rows 3 columns \n",
        "fig, axes = plt.subplots(3, 3, figsize=(20, 20))\n",
        "\n",
        "#10-fold cross validation \n",
        "#naive bayes\n",
        "title = \"Learning Curves (Naive Bayes)\"\n",
        "cv = ShuffleSplit(n_splits=10, test_size=0.3, random_state=0) # score curves, each time with 30% data randomly selected as a validation set\n",
        "estimator = nb\n",
        "plot_learning_curve(estimator, title, x, y, cv=cv, axes=axes[:, 0], n_jobs=1, ylim=(0.6, 1.01))\n",
        "\n",
        "#random forest\n",
        "title = \"Learning Curves (Random Forest)\"\n",
        "cv = ShuffleSplit(n_splits=10, test_size=0.3, random_state=0)\n",
        "estimator = clf\n",
        "plot_learning_curve(estimator, title, x, y, axes=axes[:, 1], ylim=(0.7, 1.01), cv=cv, n_jobs=1)\n",
        "\n",
        "#XGBoost\n",
        "title = \"Learning Curves (XGBoost)\"\n",
        "cv = ShuffleSplit(n_splits=10, test_size=0.3, random_state=0)\n",
        "estimator = xgboost_model\n",
        "plot_learning_curve(estimator, title, x, y, axes=axes[:, 2], ylim=(0.7, 1.01), cv=cv, n_jobs=1)\n",
        "plt.show()\n"
      ],
      "execution_count": 0,
      "outputs": []
    },
    {
      "cell_type": "code",
      "metadata": {
        "id": "-xKNjcN7UjRw",
        "colab_type": "code",
        "colab": {}
      },
      "source": [
        ""
      ],
      "execution_count": 0,
      "outputs": []
    },
    {
      "cell_type": "code",
      "metadata": {
        "id": "AZWdiivhEzqq",
        "colab_type": "code",
        "colab": {}
      },
      "source": [
        ""
      ],
      "execution_count": 0,
      "outputs": []
    },
    {
      "cell_type": "code",
      "metadata": {
        "id": "vnbL7Xr6Ezt6",
        "colab_type": "code",
        "colab": {}
      },
      "source": [
        ""
      ],
      "execution_count": 0,
      "outputs": []
    },
    {
      "cell_type": "markdown",
      "metadata": {
        "id": "PqVvbaTEqdCY",
        "colab_type": "text"
      },
      "source": [
        "## Log Loss"
      ]
    },
    {
      "cell_type": "code",
      "metadata": {
        "id": "ScOjItt5G5Cb",
        "colab_type": "code",
        "outputId": "b8d90392-39d8-4b6a-8552-552b72ef1a42",
        "colab": {
          "base_uri": "https://localhost:8080/",
          "height": 71
        }
      },
      "source": [
        "results = []\n",
        "kfold = model_selection.KFold(n_splits=10, random_state=1001)\n",
        "cv_results = model_selection.cross_val_score(nb, xtest, ytest, cv=kfold, scoring=\"neg_log_loss\")\n",
        "results.append(cv_results)\n",
        "mean_nb = cv_results.mean()\n",
        "std_nb = cv_results.std()\n"
      ],
      "execution_count": 0,
      "outputs": [
        {
          "output_type": "stream",
          "text": [
            "/usr/local/lib/python3.6/dist-packages/sklearn/model_selection/_split.py:296: FutureWarning: Setting a random_state has no effect since shuffle is False. This will raise an error in 0.24. You should leave random_state to its default (None), or set shuffle=True.\n",
            "  FutureWarning\n"
          ],
          "name": "stderr"
        }
      ]
    },
    {
      "cell_type": "code",
      "metadata": {
        "id": "Rcm9mJZ7HJ0q",
        "colab_type": "code",
        "outputId": "26985b7b-ae56-4494-f058-e4b85e7449c5",
        "colab": {
          "base_uri": "https://localhost:8080/",
          "height": 71
        }
      },
      "source": [
        "kfold = model_selection.KFold(n_splits=10, random_state=1001)\n",
        "cv_results = model_selection.cross_val_score(clf, xtest, ytest, cv=kfold, scoring=\"neg_log_loss\")\n",
        "results.append(cv_results)\n",
        "mean_rf = cv_results.mean()\n",
        "std_rf = cv_results.std()"
      ],
      "execution_count": 0,
      "outputs": [
        {
          "output_type": "stream",
          "text": [
            "/usr/local/lib/python3.6/dist-packages/sklearn/model_selection/_split.py:296: FutureWarning: Setting a random_state has no effect since shuffle is False. This will raise an error in 0.24. You should leave random_state to its default (None), or set shuffle=True.\n",
            "  FutureWarning\n"
          ],
          "name": "stderr"
        }
      ]
    },
    {
      "cell_type": "code",
      "metadata": {
        "id": "fIsver6KLgCl",
        "colab_type": "code",
        "outputId": "f5ecbda5-95b3-445b-d8ae-eb5a4ea13e62",
        "colab": {
          "base_uri": "https://localhost:8080/",
          "height": 71
        }
      },
      "source": [
        "kfold = model_selection.KFold(n_splits=10, random_state=1001)\n",
        "cv_results = model_selection.cross_val_score(clf, xtest, ytest, cv=kfold, scoring=\"neg_log_loss\")\n",
        "results.append(cv_results)\n",
        "mean_xgboost = cv_results.mean()\n",
        "std_xgboost = cv_results.std()"
      ],
      "execution_count": 0,
      "outputs": [
        {
          "output_type": "stream",
          "text": [
            "/usr/local/lib/python3.6/dist-packages/sklearn/model_selection/_split.py:296: FutureWarning: Setting a random_state has no effect since shuffle is False. This will raise an error in 0.24. You should leave random_state to its default (None), or set shuffle=True.\n",
            "  FutureWarning\n"
          ],
          "name": "stderr"
        }
      ]
    },
    {
      "cell_type": "code",
      "metadata": {
        "id": "L4ahWUb2O4YW",
        "colab_type": "code",
        "outputId": "b6d259c4-b700-47d3-838c-8747bb8cd295",
        "colab": {
          "base_uri": "https://localhost:8080/",
          "height": 119
        }
      },
      "source": [
        "results"
      ],
      "execution_count": 0,
      "outputs": [
        {
          "output_type": "execute_result",
          "data": {
            "text/plain": [
              "[array([-1.13104481, -1.11789319, -1.10739905, -1.11412287, -1.11092879,\n",
              "        -1.14131315, -1.15787875, -1.15231431, -1.16684772, -1.1652355 ]),\n",
              " array([-0.56856941, -0.5849172 , -0.59650065, -0.57455216, -0.55688522,\n",
              "        -0.59489258, -0.58364735, -0.60692988, -0.54541062, -0.60131313]),\n",
              " array([-0.56814395, -0.54387733, -0.58040724, -0.56344154, -0.57329602,\n",
              "        -0.57228651, -0.56025672, -0.59304963, -0.56714181, -0.59380748])]"
            ]
          },
          "metadata": {
            "tags": []
          },
          "execution_count": 180
        }
      ]
    },
    {
      "cell_type": "code",
      "metadata": {
        "id": "s_TeN3LHPMSz",
        "colab_type": "code",
        "colab": {}
      },
      "source": [
        "names = ['Naive Bayes', 'Random Forest', 'XGBoost']\n"
      ],
      "execution_count": 0,
      "outputs": []
    },
    {
      "cell_type": "code",
      "metadata": {
        "id": "GhQ3ihGzMIQ7",
        "colab_type": "code",
        "outputId": "dc86ffcd-ad84-4422-ba76-8436846a6d90",
        "colab": {
          "base_uri": "https://localhost:8080/",
          "height": 386
        }
      },
      "source": [
        "fig = plt.figure()\n",
        "fig.suptitle('Algorithm Comparison')\n",
        "ax = fig.add_subplot(111)\n",
        "plt.boxplot(results)\n",
        "ax.set_xticklabels(names)\n",
        "ax.set_ylabel(\"Log-Loss\")\n",
        "plt.show()"
      ],
      "execution_count": 0,
      "outputs": [
        {
          "output_type": "display_data",
          "data": {
            "image/png": "[encoded data removed]",
            "text/plain": [
              "<Figure size 576x396 with 1 Axes>"
            ]
          },
          "metadata": {
            "tags": []
          }
        }
      ]
    },
    {
      "cell_type": "code",
      "metadata": {
        "id": "V7eTj-EDU3x7",
        "colab_type": "code",
        "colab": {}
      },
      "source": [
        ""
      ],
      "execution_count": 0,
      "outputs": []
    }
  ]
}