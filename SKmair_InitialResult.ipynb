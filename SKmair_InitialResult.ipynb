{
  "nbformat": 4,
  "nbformat_minor": 0,
  "metadata": {
    "colab": {
      "name": "SKmair_InitialResult.ipynb",
      "provenance": [],
      "collapsed_sections": [],
      "authorship_tag": "ABX9TyPr+tSafLGL6LPL1qsuo8WC",
      "include_colab_link": true
    },
    "kernelspec": {
      "name": "python3",
      "display_name": "Python 3"
    }
  },
  "cells": [
    {
      "cell_type": "markdown",
      "metadata": {
        "id": "view-in-github",
        "colab_type": "text"
      },
      "source": [
        "<a href=\"https://colab.research.google.com/github/SaraKmair/Quora-Question-Pairs/blob/master/SKmair_InitialResult.ipynb\" target=\"_parent\"><img src=\"https://colab.research.google.com/assets/colab-badge.svg\" alt=\"Open In Colab\"/></a>"
      ]
    },
    {
      "cell_type": "markdown",
      "metadata": {
        "id": "3iJv5R1JfCo2",
        "colab_type": "text"
      },
      "source": [
        "## EDA"
      ]
    },
    {
      "cell_type": "code",
      "metadata": {
        "id": "UdQPJvZsPvmH",
        "colab_type": "code",
        "outputId": "d3abfc95-62bd-48e6-ec0f-e02e5b4a50e5",
        "colab": {
          "base_uri": "https://localhost:8080/",
          "height": 204
        }
      },
      "source": [
        "df.head()"
      ],
      "execution_count": 0,
      "outputs": [
        {
          "output_type": "execute_result",
          "data": {
            "text/html": [
              "<div>\n",
              "<style scoped>\n",
              "    .dataframe tbody tr th:only-of-type {\n",
              "        vertical-align: middle;\n",
              "    }\n",
              "\n",
              "    .dataframe tbody tr th {\n",
              "        vertical-align: top;\n",
              "    }\n",
              "\n",
              "    .dataframe thead th {\n",
              "        text-align: right;\n",
              "    }\n",
              "</style>\n",
              "<table border=\"1\" class=\"dataframe\">\n",
              "  <thead>\n",
              "    <tr style=\"text-align: right;\">\n",
              "      <th></th>\n",
              "      <th>id</th>\n",
              "      <th>qid1</th>\n",
              "      <th>qid2</th>\n",
              "      <th>question1</th>\n",
              "      <th>question2</th>\n",
              "      <th>is_duplicate</th>\n",
              "    </tr>\n",
              "  </thead>\n",
              "  <tbody>\n",
              "    <tr>\n",
              "      <th>0</th>\n",
              "      <td>0</td>\n",
              "      <td>1</td>\n",
              "      <td>2</td>\n",
              "      <td>What is the step by step guide to invest in sh...</td>\n",
              "      <td>What is the step by step guide to invest in sh...</td>\n",
              "      <td>0</td>\n",
              "    </tr>\n",
              "    <tr>\n",
              "      <th>1</th>\n",
              "      <td>1</td>\n",
              "      <td>3</td>\n",
              "      <td>4</td>\n",
              "      <td>What is the story of Kohinoor (Koh-i-Noor) Dia...</td>\n",
              "      <td>What would happen if the Indian government sto...</td>\n",
              "      <td>0</td>\n",
              "    </tr>\n",
              "    <tr>\n",
              "      <th>2</th>\n",
              "      <td>2</td>\n",
              "      <td>5</td>\n",
              "      <td>6</td>\n",
              "      <td>How can I increase the speed of my internet co...</td>\n",
              "      <td>How can Internet speed be increased by hacking...</td>\n",
              "      <td>0</td>\n",
              "    </tr>\n",
              "    <tr>\n",
              "      <th>3</th>\n",
              "      <td>3</td>\n",
              "      <td>7</td>\n",
              "      <td>8</td>\n",
              "      <td>Why am I mentally very lonely? How can I solve...</td>\n",
              "      <td>Find the remainder when [math]23^{24}[/math] i...</td>\n",
              "      <td>0</td>\n",
              "    </tr>\n",
              "    <tr>\n",
              "      <th>4</th>\n",
              "      <td>4</td>\n",
              "      <td>9</td>\n",
              "      <td>10</td>\n",
              "      <td>Which one dissolve in water quikly sugar, salt...</td>\n",
              "      <td>Which fish would survive in salt water?</td>\n",
              "      <td>0</td>\n",
              "    </tr>\n",
              "  </tbody>\n",
              "</table>\n",
              "</div>"
            ],
            "text/plain": [
              "   id  qid1  ...                                          question2 is_duplicate\n",
              "0   0     1  ...  What is the step by step guide to invest in sh...            0\n",
              "1   1     3  ...  What would happen if the Indian government sto...            0\n",
              "2   2     5  ...  How can Internet speed be increased by hacking...            0\n",
              "3   3     7  ...  Find the remainder when [math]23^{24}[/math] i...            0\n",
              "4   4     9  ...            Which fish would survive in salt water?            0\n",
              "\n",
              "[5 rows x 6 columns]"
            ]
          },
          "metadata": {
            "tags": []
          },
          "execution_count": 8
        }
      ]
    },
    {
      "cell_type": "code",
      "metadata": {
        "id": "GNDT9JkdPxgk",
        "colab_type": "code",
        "colab": {}
      },
      "source": [
        "#importing the libraries \n",
        "import pandas as pd #for data handeling \n",
        "import numpy as np \n",
        "import re #for regular expression \n",
        "import string \n",
        "import seaborn as sns\n",
        "import nltk #natural language tool kit \n",
        "from sklearn.feature_extraction.text import TfidfVectorizer\n",
        "import matplotlib.pyplot as plt\n",
        "from scipy.sparse import hstack\n",
        "from nltk import sent_tokenize, word_tokenize\n",
        "from nltk import corpus\n",
        "from nltk.stem import PorterStemmer\n",
        "import difflib\n",
        "from sklearn.model_selection import train_test_split\n",
        "from sklearn.feature_extraction.text import TfidfVectorizer"
      ],
      "execution_count": 0,
      "outputs": []
    },
    {
      "cell_type": "code",
      "metadata": {
        "id": "jwQEpsNTQ4Lv",
        "colab_type": "code",
        "outputId": "8e53321d-479e-46a8-b78d-6340c49d6e50",
        "colab": {
          "base_uri": "https://localhost:8080/",
          "height": 34
        }
      },
      "source": [
        "df.shape"
      ],
      "execution_count": 0,
      "outputs": [
        {
          "output_type": "execute_result",
          "data": {
            "text/plain": [
              "(404290, 6)"
            ]
          },
          "metadata": {
            "tags": []
          },
          "execution_count": 10
        }
      ]
    },
    {
      "cell_type": "code",
      "metadata": {
        "id": "CYLihY5NQ9RR",
        "colab_type": "code",
        "outputId": "94fa2066-b4b1-4cd0-a7b5-6a0136caa833",
        "colab": {
          "base_uri": "https://localhost:8080/",
          "height": 136
        }
      },
      "source": [
        "df.dtypes"
      ],
      "execution_count": 0,
      "outputs": [
        {
          "output_type": "execute_result",
          "data": {
            "text/plain": [
              "id               int64\n",
              "qid1             int64\n",
              "qid2             int64\n",
              "question1       object\n",
              "question2       object\n",
              "is_duplicate     int64\n",
              "dtype: object"
            ]
          },
          "metadata": {
            "tags": []
          },
          "execution_count": 11
        }
      ]
    },
    {
      "cell_type": "code",
      "metadata": {
        "id": "dgQR4_wTUhM5",
        "colab_type": "code",
        "outputId": "d0207caf-fb4e-4b3a-f6f1-45173fa4c409",
        "colab": {
          "base_uri": "https://localhost:8080/",
          "height": 136
        }
      },
      "source": [
        "#checking for Null values \n",
        "df.isnull().sum()"
      ],
      "execution_count": 0,
      "outputs": [
        {
          "output_type": "execute_result",
          "data": {
            "text/plain": [
              "id              0\n",
              "qid1            0\n",
              "qid2            0\n",
              "question1       1\n",
              "question2       2\n",
              "is_duplicate    0\n",
              "dtype: int64"
            ]
          },
          "metadata": {
            "tags": []
          },
          "execution_count": 12
        }
      ]
    },
    {
      "cell_type": "code",
      "metadata": {
        "id": "Rj7d329oQ_ZC",
        "colab_type": "code",
        "colab": {}
      },
      "source": [
        "#remove the missing values \n",
        "df = df.dropna().reset_index(drop = True)\n",
        "df.isnull().sum()\n",
        "#renaming is_duplicate column\n",
        "df.rename(columns = {'is_duplicate': 'label'}, inplace = True)"
      ],
      "execution_count": 0,
      "outputs": []
    },
    {
      "cell_type": "code",
      "metadata": {
        "id": "HaYPC8RDRILF",
        "colab_type": "code",
        "colab": {}
      },
      "source": [
        "\n",
        "\n"
      ],
      "execution_count": 0,
      "outputs": []
    },
    {
      "cell_type": "markdown",
      "metadata": {
        "id": "4XMhWBu0RPAS",
        "colab_type": "text"
      },
      "source": [
        "\n",
        "**Meta data** <br />\n",
        "\n",
        "**Id** a simple rowID. <br />\n",
        "**qid{1, 2}** The unique ID of each question in the pair. <br />\n",
        "**question{1, 2}** The actual textual contents of the questions. <br />\n",
        "**is_duplicate** The label that we are trying to predict - whether the two questions are duplicates of each other. <br />"
      ]
    },
    {
      "cell_type": "code",
      "metadata": {
        "id": "RTmEabBcRU5S",
        "colab_type": "code",
        "outputId": "9c816212-5c3f-41ee-c0ec-64f532a89f02",
        "colab": {
          "base_uri": "https://localhost:8080/",
          "height": 68
        }
      },
      "source": [
        "#check data balance \n",
        "(df['label'].value_counts() /len(df.label))*100"
      ],
      "execution_count": 0,
      "outputs": [
        {
          "output_type": "execute_result",
          "data": {
            "text/plain": [
              "0    63.079941\n",
              "1    36.920059\n",
              "Name: label, dtype: float64"
            ]
          },
          "metadata": {
            "tags": []
          },
          "execution_count": 14
        }
      ]
    },
    {
      "cell_type": "markdown",
      "metadata": {
        "id": "6kkLlMCnRbf6",
        "colab_type": "text"
      },
      "source": [
        "63% is non-duplicate questions <br />\n",
        "36.9% is duplicate questions"
      ]
    },
    {
      "cell_type": "code",
      "metadata": {
        "id": "QLoQkHlARcKn",
        "colab_type": "code",
        "outputId": "54d01330-17c3-4a1a-b663-b236f1a6bb3d",
        "colab": {
          "base_uri": "https://localhost:8080/",
          "height": 204
        }
      },
      "source": [
        "#exmple of duplicate questions\n",
        "\n",
        "df.loc[df['label'] == 1].head()"
      ],
      "execution_count": 0,
      "outputs": [
        {
          "output_type": "execute_result",
          "data": {
            "text/html": [
              "<div>\n",
              "<style scoped>\n",
              "    .dataframe tbody tr th:only-of-type {\n",
              "        vertical-align: middle;\n",
              "    }\n",
              "\n",
              "    .dataframe tbody tr th {\n",
              "        vertical-align: top;\n",
              "    }\n",
              "\n",
              "    .dataframe thead th {\n",
              "        text-align: right;\n",
              "    }\n",
              "</style>\n",
              "<table border=\"1\" class=\"dataframe\">\n",
              "  <thead>\n",
              "    <tr style=\"text-align: right;\">\n",
              "      <th></th>\n",
              "      <th>id</th>\n",
              "      <th>qid1</th>\n",
              "      <th>qid2</th>\n",
              "      <th>question1</th>\n",
              "      <th>question2</th>\n",
              "      <th>label</th>\n",
              "    </tr>\n",
              "  </thead>\n",
              "  <tbody>\n",
              "    <tr>\n",
              "      <th>5</th>\n",
              "      <td>5</td>\n",
              "      <td>11</td>\n",
              "      <td>12</td>\n",
              "      <td>Astrology: I am a Capricorn Sun Cap moon and c...</td>\n",
              "      <td>I'm a triple Capricorn (Sun, Moon and ascendan...</td>\n",
              "      <td>1</td>\n",
              "    </tr>\n",
              "    <tr>\n",
              "      <th>7</th>\n",
              "      <td>7</td>\n",
              "      <td>15</td>\n",
              "      <td>16</td>\n",
              "      <td>How can I be a good geologist?</td>\n",
              "      <td>What should I do to be a great geologist?</td>\n",
              "      <td>1</td>\n",
              "    </tr>\n",
              "    <tr>\n",
              "      <th>11</th>\n",
              "      <td>11</td>\n",
              "      <td>23</td>\n",
              "      <td>24</td>\n",
              "      <td>How do I read and find my YouTube comments?</td>\n",
              "      <td>How can I see all my Youtube comments?</td>\n",
              "      <td>1</td>\n",
              "    </tr>\n",
              "    <tr>\n",
              "      <th>12</th>\n",
              "      <td>12</td>\n",
              "      <td>25</td>\n",
              "      <td>26</td>\n",
              "      <td>What can make Physics easy to learn?</td>\n",
              "      <td>How can you make physics easy to learn?</td>\n",
              "      <td>1</td>\n",
              "    </tr>\n",
              "    <tr>\n",
              "      <th>13</th>\n",
              "      <td>13</td>\n",
              "      <td>27</td>\n",
              "      <td>28</td>\n",
              "      <td>What was your first sexual experience like?</td>\n",
              "      <td>What was your first sexual experience?</td>\n",
              "      <td>1</td>\n",
              "    </tr>\n",
              "  </tbody>\n",
              "</table>\n",
              "</div>"
            ],
            "text/plain": [
              "    id  qid1  ...                                          question2 label\n",
              "5    5    11  ...  I'm a triple Capricorn (Sun, Moon and ascendan...     1\n",
              "7    7    15  ...          What should I do to be a great geologist?     1\n",
              "11  11    23  ...             How can I see all my Youtube comments?     1\n",
              "12  12    25  ...            How can you make physics easy to learn?     1\n",
              "13  13    27  ...             What was your first sexual experience?     1\n",
              "\n",
              "[5 rows x 6 columns]"
            ]
          },
          "metadata": {
            "tags": []
          },
          "execution_count": 15
        }
      ]
    },
    {
      "cell_type": "code",
      "metadata": {
        "id": "dDss-lxbRgRf",
        "colab_type": "code",
        "outputId": "9d2614fa-36af-4584-b411-db24dcda811f",
        "colab": {
          "base_uri": "https://localhost:8080/",
          "height": 204
        }
      },
      "source": [
        "#exmple of non duplicate questions\n",
        "\n",
        "df.loc[df['label'] == 0].head()"
      ],
      "execution_count": 0,
      "outputs": [
        {
          "output_type": "execute_result",
          "data": {
            "text/html": [
              "<div>\n",
              "<style scoped>\n",
              "    .dataframe tbody tr th:only-of-type {\n",
              "        vertical-align: middle;\n",
              "    }\n",
              "\n",
              "    .dataframe tbody tr th {\n",
              "        vertical-align: top;\n",
              "    }\n",
              "\n",
              "    .dataframe thead th {\n",
              "        text-align: right;\n",
              "    }\n",
              "</style>\n",
              "<table border=\"1\" class=\"dataframe\">\n",
              "  <thead>\n",
              "    <tr style=\"text-align: right;\">\n",
              "      <th></th>\n",
              "      <th>id</th>\n",
              "      <th>qid1</th>\n",
              "      <th>qid2</th>\n",
              "      <th>question1</th>\n",
              "      <th>question2</th>\n",
              "      <th>label</th>\n",
              "    </tr>\n",
              "  </thead>\n",
              "  <tbody>\n",
              "    <tr>\n",
              "      <th>0</th>\n",
              "      <td>0</td>\n",
              "      <td>1</td>\n",
              "      <td>2</td>\n",
              "      <td>What is the step by step guide to invest in sh...</td>\n",
              "      <td>What is the step by step guide to invest in sh...</td>\n",
              "      <td>0</td>\n",
              "    </tr>\n",
              "    <tr>\n",
              "      <th>1</th>\n",
              "      <td>1</td>\n",
              "      <td>3</td>\n",
              "      <td>4</td>\n",
              "      <td>What is the story of Kohinoor (Koh-i-Noor) Dia...</td>\n",
              "      <td>What would happen if the Indian government sto...</td>\n",
              "      <td>0</td>\n",
              "    </tr>\n",
              "    <tr>\n",
              "      <th>2</th>\n",
              "      <td>2</td>\n",
              "      <td>5</td>\n",
              "      <td>6</td>\n",
              "      <td>How can I increase the speed of my internet co...</td>\n",
              "      <td>How can Internet speed be increased by hacking...</td>\n",
              "      <td>0</td>\n",
              "    </tr>\n",
              "    <tr>\n",
              "      <th>3</th>\n",
              "      <td>3</td>\n",
              "      <td>7</td>\n",
              "      <td>8</td>\n",
              "      <td>Why am I mentally very lonely? How can I solve...</td>\n",
              "      <td>Find the remainder when [math]23^{24}[/math] i...</td>\n",
              "      <td>0</td>\n",
              "    </tr>\n",
              "    <tr>\n",
              "      <th>4</th>\n",
              "      <td>4</td>\n",
              "      <td>9</td>\n",
              "      <td>10</td>\n",
              "      <td>Which one dissolve in water quikly sugar, salt...</td>\n",
              "      <td>Which fish would survive in salt water?</td>\n",
              "      <td>0</td>\n",
              "    </tr>\n",
              "  </tbody>\n",
              "</table>\n",
              "</div>"
            ],
            "text/plain": [
              "   id  qid1  ...                                          question2 label\n",
              "0   0     1  ...  What is the step by step guide to invest in sh...     0\n",
              "1   1     3  ...  What would happen if the Indian government sto...     0\n",
              "2   2     5  ...  How can Internet speed be increased by hacking...     0\n",
              "3   3     7  ...  Find the remainder when [math]23^{24}[/math] i...     0\n",
              "4   4     9  ...            Which fish would survive in salt water?     0\n",
              "\n",
              "[5 rows x 6 columns]"
            ]
          },
          "metadata": {
            "tags": []
          },
          "execution_count": 16
        }
      ]
    },
    {
      "cell_type": "code",
      "metadata": {
        "id": "M0JbPR8sRnlQ",
        "colab_type": "code",
        "colab": {}
      },
      "source": [
        "\n"
      ],
      "execution_count": 0,
      "outputs": []
    },
    {
      "cell_type": "markdown",
      "metadata": {
        "id": "XlnUwJwTRqqu",
        "colab_type": "text"
      },
      "source": [
        "\n",
        "## Word Count in each question"
      ]
    },
    {
      "cell_type": "code",
      "metadata": {
        "id": "Z5uxMnzvRsWr",
        "colab_type": "code",
        "outputId": "a1001fad-0e42-48ae-ee73-776e9e370920",
        "colab": {
          "base_uri": "https://localhost:8080/",
          "height": 204
        }
      },
      "source": [
        "#word count in each question \n",
        "df['count1'] = df['question1'].str.count(' ') + 1\n",
        "df['count2'] = df['question2'].str.count(' ') + 1\n",
        "df.head()"
      ],
      "execution_count": 0,
      "outputs": [
        {
          "output_type": "execute_result",
          "data": {
            "text/html": [
              "<div>\n",
              "<style scoped>\n",
              "    .dataframe tbody tr th:only-of-type {\n",
              "        vertical-align: middle;\n",
              "    }\n",
              "\n",
              "    .dataframe tbody tr th {\n",
              "        vertical-align: top;\n",
              "    }\n",
              "\n",
              "    .dataframe thead th {\n",
              "        text-align: right;\n",
              "    }\n",
              "</style>\n",
              "<table border=\"1\" class=\"dataframe\">\n",
              "  <thead>\n",
              "    <tr style=\"text-align: right;\">\n",
              "      <th></th>\n",
              "      <th>id</th>\n",
              "      <th>qid1</th>\n",
              "      <th>qid2</th>\n",
              "      <th>question1</th>\n",
              "      <th>question2</th>\n",
              "      <th>label</th>\n",
              "      <th>count1</th>\n",
              "      <th>count2</th>\n",
              "    </tr>\n",
              "  </thead>\n",
              "  <tbody>\n",
              "    <tr>\n",
              "      <th>0</th>\n",
              "      <td>0</td>\n",
              "      <td>1</td>\n",
              "      <td>2</td>\n",
              "      <td>What is the step by step guide to invest in sh...</td>\n",
              "      <td>What is the step by step guide to invest in sh...</td>\n",
              "      <td>0</td>\n",
              "      <td>14</td>\n",
              "      <td>12</td>\n",
              "    </tr>\n",
              "    <tr>\n",
              "      <th>1</th>\n",
              "      <td>1</td>\n",
              "      <td>3</td>\n",
              "      <td>4</td>\n",
              "      <td>What is the story of Kohinoor (Koh-i-Noor) Dia...</td>\n",
              "      <td>What would happen if the Indian government sto...</td>\n",
              "      <td>0</td>\n",
              "      <td>8</td>\n",
              "      <td>13</td>\n",
              "    </tr>\n",
              "    <tr>\n",
              "      <th>2</th>\n",
              "      <td>2</td>\n",
              "      <td>5</td>\n",
              "      <td>6</td>\n",
              "      <td>How can I increase the speed of my internet co...</td>\n",
              "      <td>How can Internet speed be increased by hacking...</td>\n",
              "      <td>0</td>\n",
              "      <td>14</td>\n",
              "      <td>10</td>\n",
              "    </tr>\n",
              "    <tr>\n",
              "      <th>3</th>\n",
              "      <td>3</td>\n",
              "      <td>7</td>\n",
              "      <td>8</td>\n",
              "      <td>Why am I mentally very lonely? How can I solve...</td>\n",
              "      <td>Find the remainder when [math]23^{24}[/math] i...</td>\n",
              "      <td>0</td>\n",
              "      <td>11</td>\n",
              "      <td>9</td>\n",
              "    </tr>\n",
              "    <tr>\n",
              "      <th>4</th>\n",
              "      <td>4</td>\n",
              "      <td>9</td>\n",
              "      <td>10</td>\n",
              "      <td>Which one dissolve in water quikly sugar, salt...</td>\n",
              "      <td>Which fish would survive in salt water?</td>\n",
              "      <td>0</td>\n",
              "      <td>13</td>\n",
              "      <td>7</td>\n",
              "    </tr>\n",
              "  </tbody>\n",
              "</table>\n",
              "</div>"
            ],
            "text/plain": [
              "   id  qid1  qid2  ... label count1  count2\n",
              "0   0     1     2  ...     0     14      12\n",
              "1   1     3     4  ...     0      8      13\n",
              "2   2     5     6  ...     0     14      10\n",
              "3   3     7     8  ...     0     11       9\n",
              "4   4     9    10  ...     0     13       7\n",
              "\n",
              "[5 rows x 8 columns]"
            ]
          },
          "metadata": {
            "tags": []
          },
          "execution_count": 17
        }
      ]
    },
    {
      "cell_type": "code",
      "metadata": {
        "id": "U-8BuAM2-OgX",
        "colab_type": "code",
        "outputId": "9849210b-b917-4e84-d0d2-6827ccf782ff",
        "colab": {
          "base_uri": "https://localhost:8080/",
          "height": 34
        }
      },
      "source": [
        "#check the percentage of questions that are longer than 50 words \n",
        "(df[df['count2'] > 50 ].shape[0] / len(df.count2))*100"
      ],
      "execution_count": 0,
      "outputs": [
        {
          "output_type": "execute_result",
          "data": {
            "text/plain": [
              "0.18427503234088655"
            ]
          },
          "metadata": {
            "tags": []
          },
          "execution_count": 18
        }
      ]
    },
    {
      "cell_type": "code",
      "metadata": {
        "id": "l0qNmr1BV9vL",
        "colab_type": "code",
        "outputId": "621aeb38-6edd-4829-bf82-b9cef58d28af",
        "colab": {
          "base_uri": "https://localhost:8080/",
          "height": 34
        }
      },
      "source": [
        "#get the percentage of the data that has questions longer than 50 words\n",
        "(df[df['count1'] > 50 ].shape[0] / len(df.count1))*100"
      ],
      "execution_count": 0,
      "outputs": [
        {
          "output_type": "execute_result",
          "data": {
            "text/plain": [
              "0.04699631697284355"
            ]
          },
          "metadata": {
            "tags": []
          },
          "execution_count": 19
        }
      ]
    },
    {
      "cell_type": "code",
      "metadata": {
        "id": "Zg3vH4c0alb1",
        "colab_type": "code",
        "outputId": "728adf40-f304-48f7-a996-f66973e5e5ce",
        "colab": {
          "base_uri": "https://localhost:8080/",
          "height": 419
        }
      },
      "source": [
        "#show questions that are longer than 50 words\n",
        "df[df['count2']> 50 ]"
      ],
      "execution_count": 0,
      "outputs": [
        {
          "output_type": "execute_result",
          "data": {
            "text/html": [
              "<div>\n",
              "<style scoped>\n",
              "    .dataframe tbody tr th:only-of-type {\n",
              "        vertical-align: middle;\n",
              "    }\n",
              "\n",
              "    .dataframe tbody tr th {\n",
              "        vertical-align: top;\n",
              "    }\n",
              "\n",
              "    .dataframe thead th {\n",
              "        text-align: right;\n",
              "    }\n",
              "</style>\n",
              "<table border=\"1\" class=\"dataframe\">\n",
              "  <thead>\n",
              "    <tr style=\"text-align: right;\">\n",
              "      <th></th>\n",
              "      <th>id</th>\n",
              "      <th>qid1</th>\n",
              "      <th>qid2</th>\n",
              "      <th>question1</th>\n",
              "      <th>question2</th>\n",
              "      <th>label</th>\n",
              "      <th>count1</th>\n",
              "      <th>count2</th>\n",
              "    </tr>\n",
              "  </thead>\n",
              "  <tbody>\n",
              "    <tr>\n",
              "      <th>1671</th>\n",
              "      <td>1671</td>\n",
              "      <td>3327</td>\n",
              "      <td>3328</td>\n",
              "      <td>What are some interesting differences between ...</td>\n",
              "      <td>Is it weird for a 'hearing' person with no dea...</td>\n",
              "      <td>0</td>\n",
              "      <td>13</td>\n",
              "      <td>53</td>\n",
              "    </tr>\n",
              "    <tr>\n",
              "      <th>2395</th>\n",
              "      <td>2395</td>\n",
              "      <td>4761</td>\n",
              "      <td>4762</td>\n",
              "      <td>I emailed my interviewer after the technical i...</td>\n",
              "      <td>I have applied for the Thought Works company t...</td>\n",
              "      <td>0</td>\n",
              "      <td>22</td>\n",
              "      <td>52</td>\n",
              "    </tr>\n",
              "    <tr>\n",
              "      <th>2580</th>\n",
              "      <td>2580</td>\n",
              "      <td>5126</td>\n",
              "      <td>5127</td>\n",
              "      <td>Is it a good idea for a CEO to take personal c...</td>\n",
              "      <td>A person I know has an idea for a mobile appli...</td>\n",
              "      <td>0</td>\n",
              "      <td>28</td>\n",
              "      <td>58</td>\n",
              "    </tr>\n",
              "    <tr>\n",
              "      <th>2632</th>\n",
              "      <td>2632</td>\n",
              "      <td>5230</td>\n",
              "      <td>5231</td>\n",
              "      <td>I have done a diploma in mechanical engineerin...</td>\n",
              "      <td>I have completed a 1-year diploma in fashion d...</td>\n",
              "      <td>0</td>\n",
              "      <td>22</td>\n",
              "      <td>54</td>\n",
              "    </tr>\n",
              "    <tr>\n",
              "      <th>2702</th>\n",
              "      <td>2702</td>\n",
              "      <td>76</td>\n",
              "      <td>5366</td>\n",
              "      <td>My girlfriend said that we should end this bec...</td>\n",
              "      <td>After 2 years being in a relationship my girlf...</td>\n",
              "      <td>0</td>\n",
              "      <td>37</td>\n",
              "      <td>51</td>\n",
              "    </tr>\n",
              "    <tr>\n",
              "      <th>...</th>\n",
              "      <td>...</td>\n",
              "      <td>...</td>\n",
              "      <td>...</td>\n",
              "      <td>...</td>\n",
              "      <td>...</td>\n",
              "      <td>...</td>\n",
              "      <td>...</td>\n",
              "      <td>...</td>\n",
              "    </tr>\n",
              "    <tr>\n",
              "      <th>402651</th>\n",
              "      <td>402654</td>\n",
              "      <td>536154</td>\n",
              "      <td>536155</td>\n",
              "      <td>Solve this for all masterminds !!             ...</td>\n",
              "      <td>Solve this for all masterkminds!!             ...</td>\n",
              "      <td>0</td>\n",
              "      <td>65</td>\n",
              "      <td>55</td>\n",
              "    </tr>\n",
              "    <tr>\n",
              "      <th>403753</th>\n",
              "      <td>403756</td>\n",
              "      <td>427820</td>\n",
              "      <td>537352</td>\n",
              "      <td>I was fired from my job and my boss didn't giv...</td>\n",
              "      <td>I got fired from my job and today I found out ...</td>\n",
              "      <td>0</td>\n",
              "      <td>32</td>\n",
              "      <td>51</td>\n",
              "    </tr>\n",
              "    <tr>\n",
              "      <th>403853</th>\n",
              "      <td>403856</td>\n",
              "      <td>537475</td>\n",
              "      <td>537476</td>\n",
              "      <td>My 10-year-old son is so lazy and irresponsibl...</td>\n",
              "      <td>My Son, 7 years old, walked into my room cryin...</td>\n",
              "      <td>0</td>\n",
              "      <td>14</td>\n",
              "      <td>53</td>\n",
              "    </tr>\n",
              "    <tr>\n",
              "      <th>404061</th>\n",
              "      <td>404064</td>\n",
              "      <td>537695</td>\n",
              "      <td>537696</td>\n",
              "      <td>Are cookies stored on my device even if I have...</td>\n",
              "      <td>I have 10 years of experience in human resourc...</td>\n",
              "      <td>0</td>\n",
              "      <td>25</td>\n",
              "      <td>60</td>\n",
              "    </tr>\n",
              "    <tr>\n",
              "      <th>404066</th>\n",
              "      <td>404069</td>\n",
              "      <td>176271</td>\n",
              "      <td>537702</td>\n",
              "      <td>My computer isn't working any more. How can I ...</td>\n",
              "      <td>Whole fight card for UFC on Fuel TV 9, 6th Apr...</td>\n",
              "      <td>0</td>\n",
              "      <td>17</td>\n",
              "      <td>134</td>\n",
              "    </tr>\n",
              "  </tbody>\n",
              "</table>\n",
              "<p>745 rows × 8 columns</p>\n",
              "</div>"
            ],
            "text/plain": [
              "            id    qid1    qid2  ... label count1  count2\n",
              "1671      1671    3327    3328  ...     0     13      53\n",
              "2395      2395    4761    4762  ...     0     22      52\n",
              "2580      2580    5126    5127  ...     0     28      58\n",
              "2632      2632    5230    5231  ...     0     22      54\n",
              "2702      2702      76    5366  ...     0     37      51\n",
              "...        ...     ...     ...  ...   ...    ...     ...\n",
              "402651  402654  536154  536155  ...     0     65      55\n",
              "403753  403756  427820  537352  ...     0     32      51\n",
              "403853  403856  537475  537476  ...     0     14      53\n",
              "404061  404064  537695  537696  ...     0     25      60\n",
              "404066  404069  176271  537702  ...     0     17     134\n",
              "\n",
              "[745 rows x 8 columns]"
            ]
          },
          "metadata": {
            "tags": []
          },
          "execution_count": 20
        }
      ]
    },
    {
      "cell_type": "markdown",
      "metadata": {
        "id": "QyZA9k7oV-PO",
        "colab_type": "text"
      },
      "source": [
        "**Common Words**"
      ]
    },
    {
      "cell_type": "code",
      "metadata": {
        "id": "9Q_mX0AEV7Cl",
        "colab_type": "code",
        "colab": {}
      },
      "source": [
        "#check top 50 common words \n",
        "freq1 = pd.Series(' '.join(df['question1']).split()).value_counts()[:50]\n",
        "freq2 = pd.Series(' '.join(df['question2']).split()).value_counts()[:50]"
      ],
      "execution_count": 0,
      "outputs": []
    },
    {
      "cell_type": "code",
      "metadata": {
        "id": "no_5hC7k7WXT",
        "colab_type": "code",
        "colab": {}
      },
      "source": [
        "question1 = list(df['question1'])\n",
        "question2 = list(df['question2'])"
      ],
      "execution_count": 0,
      "outputs": []
    },
    {
      "cell_type": "code",
      "metadata": {
        "id": "BHvLSxFMRvQP",
        "colab_type": "code",
        "outputId": "bba469a4-d878-433c-a502-3f5fe0389dd5",
        "colab": {
          "base_uri": "https://localhost:8080/",
          "height": 51
        }
      },
      "source": [
        "#check the percent of invalid questions \n",
        "#check for invalid questions \n",
        "invalid_questions = []\n",
        "for i in range(len(question1)):\n",
        "    # questions need to contain a vowel to be valid \n",
        "    if not re.search('[aeiouy]', question1[i]) or not re.search('[aeiouy]', question2[i]):\n",
        "    # check length the invalid questions to remove them\n",
        "        invalid_questions.append(i-len(invalid_questions))\n",
        "print(len(invalid_questions))\n",
        "len(invalid_questions)/len(question1) "
      ],
      "execution_count": 0,
      "outputs": [
        {
          "output_type": "stream",
          "text": [
            "172\n"
          ],
          "name": "stdout"
        },
        {
          "output_type": "execute_result",
          "data": {
            "text/plain": [
              "0.0004254403431225837"
            ]
          },
          "metadata": {
            "tags": []
          },
          "execution_count": 23
        }
      ]
    },
    {
      "cell_type": "markdown",
      "metadata": {
        "id": "T2TbU_eoRxVG",
        "colab_type": "text"
      },
      "source": [
        "\n",
        "## DataVisualization"
      ]
    },
    {
      "cell_type": "code",
      "metadata": {
        "id": "wiuZYXSWRybZ",
        "colab_type": "code",
        "outputId": "19d75723-4b79-4d54-99ad-774e9b783f47",
        "colab": {
          "base_uri": "https://localhost:8080/",
          "height": 857
        }
      },
      "source": [
        "#Histogram of word count 1 & 2\n",
        "#distribution of wordcount for question 1 \n",
        "\n",
        "sns.set()\n",
        "bin_edges = [0,5,20,25,20,25,30,35,40,45,50]\n",
        "_ = plt.hist(df['count1'], bins=range(min(df['count1']), max(df['count1']) + 5, 5))\n",
        "_ = plt.xlabel('word count')\n",
        "_ = plt.ylabel('Frequency')\n",
        "plt.title('histogram of word count in question1',fontsize=15)\n",
        "plt.xlim(min(bin_edges), max(bin_edges))\n",
        "plt.show()\n",
        "\n",
        "#distribution of wordcount for question 2\n",
        "sns.set()\n",
        "bin_edges = [0,5,20,25,20,25,30,35,40,45,50]\n",
        "_ = plt.hist(df['count2'], bins=range(min(df['count2']), max(df['count2']) + 5, 5))\n",
        "_ = plt.xlabel('word count')\n",
        "_ = plt.ylabel('Frequency ')\n",
        "plt.title('histogram of word count in question2',fontsize=15)\n",
        "plt.xlim(min(bin_edges), max(bin_edges))\n",
        "\n",
        "plt.show()\n",
        "\n",
        "#label count \n",
        "sns.countplot(x = 'label', data = df, palette = 'hls')\n",
        "plt.show()\n",
        "\n"
      ],
      "execution_count": 0,
      "outputs": [
        {
          "output_type": "display_data",
          "data": {
            "image/png": "[encoded data removed]",
            "text/plain": [
              "<Figure size 432x288 with 1 Axes>"
            ]
          },
          "metadata": {
            "tags": []
          }
        },
        {
          "output_type": "display_data",
          "data": {
            "image/png": "[encoded data removed]",
            "text/plain": [
              "<Figure size 432x288 with 1 Axes>"
            ]
          },
          "metadata": {
            "tags": []
          }
        },
        {
          "output_type": "display_data",
          "data": {
            "image/png": "[encoded data removed]",
            "text/plain": [
              "<Figure size 432x288 with 1 Axes>"
            ]
          },
          "metadata": {
            "tags": []
          }
        }
      ]
    },
    {
      "cell_type": "code",
      "metadata": {
        "id": "9dsroRI2m4Qo",
        "colab_type": "code",
        "outputId": "035f74e1-f290-42c7-cf62-6dff6df8bf4b",
        "colab": {
          "base_uri": "https://localhost:8080/",
          "height": 248
        }
      },
      "source": [
        "from wordcloud import WordCloud \n",
        "freq1_letters = re.sub(\"[^a-zA-Z]\",  # Search for all non-letters\n",
        "                          \" \",          # Replace all non-letters with spaces as word cloud accept string only \n",
        "                          str(question1))\n",
        "wordcloud=WordCloud(background_color='white',mode=\"RGB\", width=3000 , height=2000, max_words= 40, min_font_size=15).generate(freq1_letters) \n",
        "plt.figure()\n",
        "plt.imshow(wordcloud, interpolation=\"bilinear\")\n",
        "plt.axis(\"off\")\n",
        "plt.show()"
      ],
      "execution_count": 0,
      "outputs": [
        {
          "output_type": "display_data",
          "data": {
            "image/png": "[encoded data removed]",
            "text/plain": [
              "<Figure size 432x288 with 1 Axes>"
            ]
          },
          "metadata": {
            "tags": []
          }
        }
      ]
    },
    {
      "cell_type": "code",
      "metadata": {
        "id": "nPXJc7i9R4b5",
        "colab_type": "code",
        "outputId": "70a3c605-c71d-419a-857f-159326ddfbc2",
        "colab": {
          "base_uri": "https://localhost:8080/",
          "height": 198
        }
      },
      "source": [
        "freq2_letters = re.sub(\"[^a-zA-Z]\",  # Search for all non-letters\n",
        "                          \" \",          # Replace all non-letters with spaces as word cloud accept string only \n",
        "                          str(question2))\n",
        "wordcloud=WordCloud(background_color='white',mode=\"RGB\", width=2000 , height=1000, max_words= 40, min_font_size=15).generate(freq2_letters) \n",
        "plt.figure()\n",
        "plt.imshow(wordcloud, interpolation=\"bilinear\")\n",
        "plt.axis(\"off\")\n",
        "plt.show()\n"
      ],
      "execution_count": 0,
      "outputs": [
        {
          "output_type": "display_data",
          "data": {
            "image/png": "[encoded data removed]",
            "text/plain": [
              "<Figure size 432x288 with 1 Axes>"
            ]
          },
          "metadata": {
            "tags": []
          }
        }
      ]
    },
    {
      "cell_type": "code",
      "metadata": {
        "id": "UBVJC4YIHH1_",
        "colab_type": "code",
        "colab": {}
      },
      "source": [
        "#change data type in count1 and count2 into integer \n",
        "df['count1'] = df['count1'].astype(int)\n",
        "df['count2'] = df['count2'].astype(int)"
      ],
      "execution_count": 0,
      "outputs": []
    },
    {
      "cell_type": "markdown",
      "metadata": {
        "id": "iT8NJ9d-R8f6",
        "colab_type": "text"
      },
      "source": [
        "## Text Pre-processing \n",
        "- Drop questions with more than 50 words <br />\n",
        "- Convert to lower case: will prevent having multiple copies of the same word <br />\n",
        "- Remove some of the common words <br />\n",
        "- Remove shortcuts <br />\n",
        "- Remove puctuations or any other symbols in order to not consider puctuations as words <br />\n",
        "- Remove stop words <br />\n",
        "- Remove Numbers <br />\n",
        "- Remove invalid questions <br />\n"
      ]
    },
    {
      "cell_type": "code",
      "metadata": {
        "id": "JPxnOr-cbImo",
        "colab_type": "code",
        "colab": {}
      },
      "source": [
        "#remove questions with more than 50 words \n",
        "df = df[df['count2']< 50]\n",
        "df = df[df['count1']< 50]\n"
      ],
      "execution_count": 0,
      "outputs": []
    },
    {
      "cell_type": "code",
      "metadata": {
        "id": "4yERRFpDbxbR",
        "colab_type": "code",
        "outputId": "d440cc31-cf1a-42f9-a30d-1154554cac86",
        "colab": {
          "base_uri": "https://localhost:8080/",
          "height": 34
        }
      },
      "source": [
        "df.shape"
      ],
      "execution_count": 0,
      "outputs": [
        {
          "output_type": "execute_result",
          "data": {
            "text/plain": [
              "(403285, 8)"
            ]
          },
          "metadata": {
            "tags": []
          },
          "execution_count": 29
        }
      ]
    },
    {
      "cell_type": "code",
      "metadata": {
        "id": "aZcldGtGR9FV",
        "colab_type": "code",
        "colab": {}
      },
      "source": [
        "#convert all the data frame to lower case \n",
        "df_clean = df.apply(lambda x: x.astype(str).str.lower())"
      ],
      "execution_count": 0,
      "outputs": []
    },
    {
      "cell_type": "code",
      "metadata": {
        "id": "Q2fapyoeSK_E",
        "colab_type": "code",
        "colab": {}
      },
      "source": [
        "#remove common words //in this case I decided to remove the top 50 common words\n",
        "freq1 = list(freq1.index)\n",
        "freq2 = list(freq2.index)\n",
        "df_clean['question1'] = df_clean['question1'].apply(lambda x :\" \".join(x for x in x.split()if x not in freq1))\n",
        "df_clean['question2'] = df_clean['question2'].apply(lambda x :\" \".join(x for x in x.split()if x not in freq2))"
      ],
      "execution_count": 0,
      "outputs": []
    },
    {
      "cell_type": "code",
      "metadata": {
        "id": "TE0iqvZ1BHXg",
        "colab_type": "code",
        "colab": {}
      },
      "source": [
        "pd.set_option('display.max_colwidth',100)"
      ],
      "execution_count": 0,
      "outputs": []
    },
    {
      "cell_type": "code",
      "metadata": {
        "id": "-KA7981ESTRm",
        "colab_type": "code",
        "outputId": "3a67edeb-079e-44e6-b584-2e87e9faffbd",
        "colab": {
          "base_uri": "https://localhost:8080/",
          "height": 170
        }
      },
      "source": [
        "df_clean['question1'][2:10]"
      ],
      "execution_count": 0,
      "outputs": [
        {
          "output_type": "execute_result",
          "data": {
            "text/plain": [
              "2                    i increase speed internet connection while using vpn?\n",
              "3                               why am i mentally very lonely? i solve it?\n",
              "4    which one dissolve water quikly sugar, salt, methane carbon di oxide?\n",
              "5         astrology: i am capricorn sun cap moon cap rising...what say me?\n",
              "6                                                             i buy tiago?\n",
              "7                                                             i geologist?\n",
              "8                                                         use シ instead し?\n",
              "9                    motorola (company): i hack charter motorolla dcx3400?\n",
              "Name: question1, dtype: object"
            ]
          },
          "metadata": {
            "tags": []
          },
          "execution_count": 33
        }
      ]
    },
    {
      "cell_type": "code",
      "metadata": {
        "id": "5ZqXG8KSSV6T",
        "colab_type": "code",
        "colab": {}
      },
      "source": [
        "\n"
      ],
      "execution_count": 0,
      "outputs": []
    },
    {
      "cell_type": "markdown",
      "metadata": {
        "id": "OcmaJAUPSY-3",
        "colab_type": "text"
      },
      "source": [
        "**Remove Shortcuts** <br />\n",
        "**Remove Numbers** <br />\n",
        "**Remove short words**"
      ]
    },
    {
      "cell_type": "code",
      "metadata": {
        "id": "kMGnvB4KSZUI",
        "colab_type": "code",
        "colab": {}
      },
      "source": [
        "#replace the shortcuts with words\n",
        "def clean(s):\n",
        "\n",
        "    s = re.sub(r\"\\'ve\", \" have \", s)\n",
        "    s = re.sub(r\"can't\", \"cannot \", s)\n",
        "    s = re.sub(r\"n't\", \" not \", s)\n",
        "    s = re.sub(r\"\\'s\", \" \", s)\n",
        "    s = re.sub(r\"I'm\", \"I am\", s)\n",
        "    s = re.sub(r\" m \", \" am \", s)\n",
        "    s = re.sub(r\"\\'re\", \" are \", s)\n",
        "    s = re.sub(r\"\\'d\", \" would \", s)\n",
        "    s = re.sub(r\"\\'ll\", \" will \", s)\n",
        "    \n",
        "  #remove numbers\n",
        "    s = re.sub('[0-9]+', '', s) \n",
        "\n",
        "  #remove short words (<3 character)\n",
        "    s = re.sub(r\"\\W*\\b\\w{1,2}\\b\", \"\", s)\n",
        "\n",
        "    return s\n",
        "df_clean['question1'] = df_clean['question1'].apply(clean)\n",
        "df_clean['question2'] = df_clean['question2'].apply(clean)"
      ],
      "execution_count": 0,
      "outputs": []
    },
    {
      "cell_type": "markdown",
      "metadata": {
        "id": "pEhvZTwVSedP",
        "colab_type": "text"
      },
      "source": [
        "**Remove punctuations**"
      ]
    },
    {
      "cell_type": "code",
      "metadata": {
        "id": "hbFl_vIJSfgD",
        "colab_type": "code",
        "colab": {}
      },
      "source": [
        "#remove puctuations \n",
        "\n",
        "df_clean['question1'] = df_clean['question1'].str.replace('[^\\w\\s]','')\n",
        "df_clean['question2'] = df_clean['question2'].str.replace('[^\\w\\s]','')"
      ],
      "execution_count": 0,
      "outputs": []
    },
    {
      "cell_type": "markdown",
      "metadata": {
        "id": "SPSAePLTSxxl",
        "colab_type": "text"
      },
      "source": [
        "**Remove stop words**"
      ]
    },
    {
      "cell_type": "code",
      "metadata": {
        "id": "DGcI7e6EW-cq",
        "colab_type": "code",
        "outputId": "9ec0be7c-00a3-4d58-d4e9-f48e8ce874c1",
        "colab": {
          "base_uri": "https://localhost:8080/",
          "height": 170
        }
      },
      "source": [
        "!pip install stop_words"
      ],
      "execution_count": 0,
      "outputs": [
        {
          "output_type": "stream",
          "text": [
            "Collecting stop_words\n",
            "  Downloading https://files.pythonhosted.org/packages/1c/cb/d58290804b7a4c5daa42abbbe2a93c477ae53e45541b1825e86f0dfaaf63/stop-words-2018.7.23.tar.gz\n",
            "Building wheels for collected packages: stop-words\n",
            "  Building wheel for stop-words (setup.py) ... \u001b[?25l\u001b[?25hdone\n",
            "  Created wheel for stop-words: filename=stop_words-2018.7.23-cp36-none-any.whl size=32917 sha256=c1e54940244239a1bd0caa8e6f0b39a5ea8baad77984ea9a3ed8035714a0bd55\n",
            "  Stored in directory: /root/.cache/pip/wheels/75/37/6a/2b295e03bd07290f0da95c3adb9a74ba95fbc333aa8b0c7c78\n",
            "Successfully built stop-words\n",
            "Installing collected packages: stop-words\n",
            "Successfully installed stop-words-2018.7.23\n"
          ],
          "name": "stdout"
        }
      ]
    },
    {
      "cell_type": "code",
      "metadata": {
        "id": "X-KUSnwbSjFH",
        "colab_type": "code",
        "colab": {}
      },
      "source": [
        "from stop_words import get_stop_words\n",
        "stop_words = get_stop_words('en')\n",
        "stop_words = get_stop_words('english')"
      ],
      "execution_count": 0,
      "outputs": []
    },
    {
      "cell_type": "code",
      "metadata": {
        "id": "foR4t93xS1cd",
        "colab_type": "code",
        "colab": {}
      },
      "source": [
        "#tokenize the questions and remove stop words \n",
        "#remove stop words from question1\n",
        "df_clean['question1'] = df_clean['question1'].apply(lambda x: [item for item in str.split(x) if item not in stop_words])\n",
        "#remove stop words from question2 \n",
        "df_clean['question2'] = df_clean['question2'].apply(lambda x: [item for item in str.split(x) if item not in stop_words])"
      ],
      "execution_count": 0,
      "outputs": []
    },
    {
      "cell_type": "code",
      "metadata": {
        "id": "N1Vy2qa1TDrH",
        "colab_type": "code",
        "colab": {}
      },
      "source": [
        "\n",
        "\n",
        " "
      ],
      "execution_count": 0,
      "outputs": []
    },
    {
      "cell_type": "markdown",
      "metadata": {
        "id": "P_oQxsmrTJkb",
        "colab_type": "text"
      },
      "source": [
        "## Text Normalization "
      ]
    },
    {
      "cell_type": "markdown",
      "metadata": {
        "id": "LlGEYJioTMXq",
        "colab_type": "text"
      },
      "source": [
        "**Stemming**: remove the suffices"
      ]
    },
    {
      "cell_type": "code",
      "metadata": {
        "id": "5q8D1Zj3TNqp",
        "colab_type": "code",
        "colab": {}
      },
      "source": [
        "#stem the words \n",
        "from nltk.stem import SnowballStemmer\n",
        "st = SnowballStemmer(\"english\")\n",
        "df_clean['question1'] = df_clean['question1'].apply(lambda x: \" \".join([st.stem(word) for word in x]))\n",
        "df_clean['question2'] = df_clean['question2'].apply(lambda x: \" \".join([st.stem(word) for word in x]))"
      ],
      "execution_count": 0,
      "outputs": []
    },
    {
      "cell_type": "code",
      "metadata": {
        "id": "oAHprkjt1uy0",
        "colab_type": "code",
        "colab": {}
      },
      "source": [
        "#remove invalid questions \n",
        "for index in invalid_questions:\n",
        "    df_clean = df_clean[df_clean.id != index]\n",
        "    question1.pop(index)\n",
        "    question2.pop(index)"
      ],
      "execution_count": 0,
      "outputs": []
    },
    {
      "cell_type": "code",
      "metadata": {
        "id": "0Pljp8pNy7gJ",
        "colab_type": "code",
        "outputId": "66463fe2-e541-4d9f-ac7c-bf1c0792e228",
        "colab": {
          "base_uri": "https://localhost:8080/",
          "height": 204
        }
      },
      "source": [
        "df_clean.tail()"
      ],
      "execution_count": 0,
      "outputs": [
        {
          "output_type": "execute_result",
          "data": {
            "text/html": [
              "<div>\n",
              "<style scoped>\n",
              "    .dataframe tbody tr th:only-of-type {\n",
              "        vertical-align: middle;\n",
              "    }\n",
              "\n",
              "    .dataframe tbody tr th {\n",
              "        vertical-align: top;\n",
              "    }\n",
              "\n",
              "    .dataframe thead th {\n",
              "        text-align: right;\n",
              "    }\n",
              "</style>\n",
              "<table border=\"1\" class=\"dataframe\">\n",
              "  <thead>\n",
              "    <tr style=\"text-align: right;\">\n",
              "      <th></th>\n",
              "      <th>id</th>\n",
              "      <th>qid1</th>\n",
              "      <th>qid2</th>\n",
              "      <th>question1</th>\n",
              "      <th>question2</th>\n",
              "      <th>label</th>\n",
              "      <th>count1</th>\n",
              "      <th>count2</th>\n",
              "    </tr>\n",
              "  </thead>\n",
              "  <tbody>\n",
              "    <tr>\n",
              "      <th>404282</th>\n",
              "      <td>404285</td>\n",
              "      <td>433578</td>\n",
              "      <td>379845</td>\n",
              "      <td>mani keyword racket program languag latest version</td>\n",
              "      <td>mani keyword perl program languag latest version</td>\n",
              "      <td>0</td>\n",
              "      <td>14</td>\n",
              "      <td>13</td>\n",
              "    </tr>\n",
              "    <tr>\n",
              "      <th>404283</th>\n",
              "      <td>404286</td>\n",
              "      <td>18840</td>\n",
              "      <td>155606</td>\n",
              "      <td>believ life death</td>\n",
              "      <td>true life death</td>\n",
              "      <td>1</td>\n",
              "      <td>8</td>\n",
              "      <td>9</td>\n",
              "    </tr>\n",
              "    <tr>\n",
              "      <th>404284</th>\n",
              "      <td>404287</td>\n",
              "      <td>537928</td>\n",
              "      <td>537929</td>\n",
              "      <td>one coin</td>\n",
              "      <td>coin</td>\n",
              "      <td>0</td>\n",
              "      <td>4</td>\n",
              "      <td>3</td>\n",
              "    </tr>\n",
              "    <tr>\n",
              "      <th>404285</th>\n",
              "      <td>404288</td>\n",
              "      <td>537930</td>\n",
              "      <td>537931</td>\n",
              "      <td>approx annual cost live studi uic chicago indian student</td>\n",
              "      <td>littl hairfal problem want use hair style product one prefer gel wax clay</td>\n",
              "      <td>0</td>\n",
              "      <td>17</td>\n",
              "      <td>25</td>\n",
              "    </tr>\n",
              "    <tr>\n",
              "      <th>404286</th>\n",
              "      <td>404289</td>\n",
              "      <td>537932</td>\n",
              "      <td>537933</td>\n",
              "      <td>sex cousin</td>\n",
              "      <td>sex cousin</td>\n",
              "      <td>0</td>\n",
              "      <td>8</td>\n",
              "      <td>10</td>\n",
              "    </tr>\n",
              "  </tbody>\n",
              "</table>\n",
              "</div>"
            ],
            "text/plain": [
              "            id    qid1    qid2  ... label count1 count2\n",
              "404282  404285  433578  379845  ...     0     14     13\n",
              "404283  404286   18840  155606  ...     1      8      9\n",
              "404284  404287  537928  537929  ...     0      4      3\n",
              "404285  404288  537930  537931  ...     0     17     25\n",
              "404286  404289  537932  537933  ...     0      8     10\n",
              "\n",
              "[5 rows x 8 columns]"
            ]
          },
          "metadata": {
            "tags": []
          },
          "execution_count": 41
        }
      ]
    },
    {
      "cell_type": "markdown",
      "metadata": {
        "id": "n_qHueFeTUij",
        "colab_type": "text"
      },
      "source": [
        "**TF-IDF** <br />\n",
        "**\"term frequency\" which is the number of times a word appears in a document** <br>\n",
        "**TF = (Frequency of the word in the sentence) / (Total number of words in the sentence)** <br>\n",
        "**IDF: (Total number of sentences (documents))/(Number of sentences (documents) containing the word)**"
      ]
    },
    {
      "cell_type": "code",
      "metadata": {
        "id": "p7Ky36UiyHx1",
        "colab_type": "code",
        "colab": {}
      },
      "source": [
        "#encode questions to unicode \n",
        "df['question1'] = df['question1'].apply(lambda x: str(x))\n",
        "df['question2'] = df['question2'].apply(lambda x: str(x))"
      ],
      "execution_count": 0,
      "outputs": []
    },
    {
      "cell_type": "code",
      "metadata": {
        "id": "dQXjXH78TlMy",
        "colab_type": "code",
        "colab": {}
      },
      "source": [
        "#convert the text to list \n",
        "question1 = list(df_clean['question1'])\n",
        "question2 = list(df_clean['question2'])\n",
        "questions = question1 + question2 "
      ],
      "execution_count": 0,
      "outputs": []
    },
    {
      "cell_type": "code",
      "metadata": {
        "id": "BoUo4TgmriKj",
        "colab_type": "code",
        "colab": {}
      },
      "source": [
        "# get the number of unique words \n",
        "def unique_words(x, y):\n",
        "    unique_word_list = []\n",
        "    unique_word_cnt = []\n",
        "    for i in range(len(x)):\n",
        "        intersection_set = set.intersection(*[set(x[i]), set(y[i])]) #intersection between question1 and question2\n",
        "        union_set = set.union(*[set(x[i]), set(y[i])]) #union between question1 and question2\n",
        "        unique_words = union_set - intersection_set #unique words \n",
        "        unique_word_list.append(unique_words) #get the unique words list \n",
        "        unique_word_cnt.append(len(unique_words)) #get the link of unique words                \n",
        "    return unique_word_cnt"
      ],
      "execution_count": 0,
      "outputs": []
    },
    {
      "cell_type": "code",
      "metadata": {
        "id": "l6ruH5VOrsCK",
        "colab_type": "code",
        "outputId": "8c8cf5ee-1764-4df7-efe0-92f644f54d6a",
        "colab": {
          "base_uri": "https://localhost:8080/",
          "height": 204
        }
      },
      "source": [
        " df_clean['unique_word_cnt'] = unique_words(question1, question2)\n",
        " df_clean[['question1', 'question2', 'count1', 'count2', 'unique_word_cnt', 'label']].head()"
      ],
      "execution_count": 0,
      "outputs": [
        {
          "output_type": "execute_result",
          "data": {
            "text/html": [
              "<div>\n",
              "<style scoped>\n",
              "    .dataframe tbody tr th:only-of-type {\n",
              "        vertical-align: middle;\n",
              "    }\n",
              "\n",
              "    .dataframe tbody tr th {\n",
              "        vertical-align: top;\n",
              "    }\n",
              "\n",
              "    .dataframe thead th {\n",
              "        text-align: right;\n",
              "    }\n",
              "</style>\n",
              "<table border=\"1\" class=\"dataframe\">\n",
              "  <thead>\n",
              "    <tr style=\"text-align: right;\">\n",
              "      <th></th>\n",
              "      <th>question1</th>\n",
              "      <th>question2</th>\n",
              "      <th>count1</th>\n",
              "      <th>count2</th>\n",
              "      <th>unique_word_cnt</th>\n",
              "      <th>label</th>\n",
              "    </tr>\n",
              "  </thead>\n",
              "  <tbody>\n",
              "    <tr>\n",
              "      <th>0</th>\n",
              "      <td>step step guid invest share market india</td>\n",
              "      <td>step step guid invest share market</td>\n",
              "      <td>14</td>\n",
              "      <td>12</td>\n",
              "      <td>0</td>\n",
              "      <td>0</td>\n",
              "    </tr>\n",
              "    <tr>\n",
              "      <th>1</th>\n",
              "      <td>stori kohinoor kohnoor diamond</td>\n",
              "      <td>happen indian govern stole kohinoor kohnoor diamond back</td>\n",
              "      <td>8</td>\n",
              "      <td>13</td>\n",
              "      <td>7</td>\n",
              "      <td>0</td>\n",
              "    </tr>\n",
              "    <tr>\n",
              "      <th>2</th>\n",
              "      <td>increas speed internet connect use vpn</td>\n",
              "      <td>internet speed increas hack dns</td>\n",
              "      <td>14</td>\n",
              "      <td>10</td>\n",
              "      <td>5</td>\n",
              "      <td>0</td>\n",
              "    </tr>\n",
              "    <tr>\n",
              "      <th>3</th>\n",
              "      <td>mental lone solv</td>\n",
              "      <td>find remaind mathmath divid</td>\n",
              "      <td>11</td>\n",
              "      <td>9</td>\n",
              "      <td>8</td>\n",
              "      <td>0</td>\n",
              "    </tr>\n",
              "    <tr>\n",
              "      <th>4</th>\n",
              "      <td>one dissolv water quik sugar salt methan carbon oxid</td>\n",
              "      <td>fish surviv salt water</td>\n",
              "      <td>13</td>\n",
              "      <td>7</td>\n",
              "      <td>11</td>\n",
              "      <td>0</td>\n",
              "    </tr>\n",
              "  </tbody>\n",
              "</table>\n",
              "</div>"
            ],
            "text/plain": [
              "                                              question1  ... label\n",
              "0              step step guid invest share market india  ...     0\n",
              "1                        stori kohinoor kohnoor diamond  ...     0\n",
              "2                increas speed internet connect use vpn  ...     0\n",
              "3                                      mental lone solv  ...     0\n",
              "4  one dissolv water quik sugar salt methan carbon oxid  ...     0\n",
              "\n",
              "[5 rows x 6 columns]"
            ]
          },
          "metadata": {
            "tags": []
          },
          "execution_count": 45
        }
      ]
    },
    {
      "cell_type": "code",
      "metadata": {
        "id": "JX5_Fd2F70iH",
        "colab_type": "code",
        "colab": {}
      },
      "source": [
        "#get the number of common words \n",
        "def common_words(x, y):\n",
        "    common_words = []\n",
        "    for i in range(len(x)):\n",
        "        common_ratio = difflib.SequenceMatcher(None, x[i], y[i]).ratio()\n",
        "        common_words.append(common_ratio)\n",
        "    return common_words\n",
        "\n",
        "df_clean['common_words'] = common_words(question1, question2)"
      ],
      "execution_count": 0,
      "outputs": []
    },
    {
      "cell_type": "code",
      "metadata": {
        "id": "1hN4vZCGUD0Y",
        "colab_type": "code",
        "colab": {}
      },
      "source": [
        "#word vectorizer \n",
        "tfidf_vectors = TfidfVectorizer(stop_words='english', min_df=10, max_df = 0.5,  sublinear_tf= True,  ngram_range=(1, 1))"
      ],
      "execution_count": 0,
      "outputs": []
    },
    {
      "cell_type": "code",
      "metadata": {
        "id": "zybWitpHUIqD",
        "colab_type": "code",
        "outputId": "423f12e1-429a-44bd-d4be-81cc1a5e177a",
        "colab": {
          "base_uri": "https://localhost:8080/",
          "height": 136
        }
      },
      "source": [
        "tfidf_vectors "
      ],
      "execution_count": 0,
      "outputs": [
        {
          "output_type": "execute_result",
          "data": {
            "text/plain": [
              "TfidfVectorizer(analyzer='word', binary=False, decode_error='strict',\n",
              "                dtype=<class 'numpy.float64'>, encoding='utf-8',\n",
              "                input='content', lowercase=True, max_df=0.5, max_features=None,\n",
              "                min_df=10, ngram_range=(1, 1), norm='l2', preprocessor=None,\n",
              "                smooth_idf=True, stop_words='english', strip_accents=None,\n",
              "                sublinear_tf=True, token_pattern='(?u)\\\\b\\\\w\\\\w+\\\\b',\n",
              "                tokenizer=None, use_idf=True, vocabulary=None)"
            ]
          },
          "metadata": {
            "tags": []
          },
          "execution_count": 48
        }
      ]
    },
    {
      "cell_type": "code",
      "metadata": {
        "id": "qmuRrOsg3TqV",
        "colab_type": "code",
        "colab": {}
      },
      "source": [
        "#create sparse matrix \n",
        "tfidf_matrix = tfidf_vectors.fit_transform(questions)\n"
      ],
      "execution_count": 0,
      "outputs": []
    },
    {
      "cell_type": "code",
      "metadata": {
        "colab_type": "code",
        "id": "kGOk8sBa__aw",
        "colab": {}
      },
      "source": [
        "# get features names \n",
        "from sklearn.feature_extraction.text import CountVectorizer\n",
        "from sklearn.feature_extraction.text import TfidfVectorizer\n",
        "feature_names = tfidf_vectors.get_feature_names()"
      ],
      "execution_count": 0,
      "outputs": []
    },
    {
      "cell_type": "code",
      "metadata": {
        "id": "pbr-sUzMSLcp",
        "colab_type": "code",
        "colab": {}
      },
      "source": [
        ""
      ],
      "execution_count": 0,
      "outputs": []
    },
    {
      "cell_type": "code",
      "metadata": {
        "id": "aXCO2AFLSaJ4",
        "colab_type": "code",
        "outputId": "d0d94cd5-e3df-481d-b87b-70bd86791150",
        "colab": {
          "base_uri": "https://localhost:8080/",
          "height": 204
        }
      },
      "source": [
        "\n",
        "df_clean.head()"
      ],
      "execution_count": 0,
      "outputs": [
        {
          "output_type": "execute_result",
          "data": {
            "text/html": [
              "<div>\n",
              "<style scoped>\n",
              "    .dataframe tbody tr th:only-of-type {\n",
              "        vertical-align: middle;\n",
              "    }\n",
              "\n",
              "    .dataframe tbody tr th {\n",
              "        vertical-align: top;\n",
              "    }\n",
              "\n",
              "    .dataframe thead th {\n",
              "        text-align: right;\n",
              "    }\n",
              "</style>\n",
              "<table border=\"1\" class=\"dataframe\">\n",
              "  <thead>\n",
              "    <tr style=\"text-align: right;\">\n",
              "      <th></th>\n",
              "      <th>id</th>\n",
              "      <th>qid1</th>\n",
              "      <th>qid2</th>\n",
              "      <th>question1</th>\n",
              "      <th>question2</th>\n",
              "      <th>label</th>\n",
              "      <th>count1</th>\n",
              "      <th>count2</th>\n",
              "      <th>unique_word_cnt</th>\n",
              "      <th>common_words</th>\n",
              "    </tr>\n",
              "  </thead>\n",
              "  <tbody>\n",
              "    <tr>\n",
              "      <th>0</th>\n",
              "      <td>0</td>\n",
              "      <td>1</td>\n",
              "      <td>2</td>\n",
              "      <td>step step guid invest share market india</td>\n",
              "      <td>step step guid invest share market</td>\n",
              "      <td>0</td>\n",
              "      <td>14</td>\n",
              "      <td>12</td>\n",
              "      <td>0</td>\n",
              "      <td>0.918919</td>\n",
              "    </tr>\n",
              "    <tr>\n",
              "      <th>1</th>\n",
              "      <td>1</td>\n",
              "      <td>3</td>\n",
              "      <td>4</td>\n",
              "      <td>stori kohinoor kohnoor diamond</td>\n",
              "      <td>happen indian govern stole kohinoor kohnoor diamond back</td>\n",
              "      <td>0</td>\n",
              "      <td>8</td>\n",
              "      <td>13</td>\n",
              "      <td>7</td>\n",
              "      <td>0.651163</td>\n",
              "    </tr>\n",
              "    <tr>\n",
              "      <th>2</th>\n",
              "      <td>2</td>\n",
              "      <td>5</td>\n",
              "      <td>6</td>\n",
              "      <td>increas speed internet connect use vpn</td>\n",
              "      <td>internet speed increas hack dns</td>\n",
              "      <td>0</td>\n",
              "      <td>14</td>\n",
              "      <td>10</td>\n",
              "      <td>5</td>\n",
              "      <td>0.463768</td>\n",
              "    </tr>\n",
              "    <tr>\n",
              "      <th>3</th>\n",
              "      <td>3</td>\n",
              "      <td>7</td>\n",
              "      <td>8</td>\n",
              "      <td>mental lone solv</td>\n",
              "      <td>find remaind mathmath divid</td>\n",
              "      <td>0</td>\n",
              "      <td>11</td>\n",
              "      <td>9</td>\n",
              "      <td>8</td>\n",
              "      <td>0.279070</td>\n",
              "    </tr>\n",
              "    <tr>\n",
              "      <th>4</th>\n",
              "      <td>4</td>\n",
              "      <td>9</td>\n",
              "      <td>10</td>\n",
              "      <td>one dissolv water quik sugar salt methan carbon oxid</td>\n",
              "      <td>fish surviv salt water</td>\n",
              "      <td>0</td>\n",
              "      <td>13</td>\n",
              "      <td>7</td>\n",
              "      <td>11</td>\n",
              "      <td>0.270270</td>\n",
              "    </tr>\n",
              "  </tbody>\n",
              "</table>\n",
              "</div>"
            ],
            "text/plain": [
              "  id qid1 qid2  ... count2 unique_word_cnt common_words\n",
              "0  0    1    2  ...     12               0     0.918919\n",
              "1  1    3    4  ...     13               7     0.651163\n",
              "2  2    5    6  ...     10               5     0.463768\n",
              "3  3    7    8  ...      9               8     0.279070\n",
              "4  4    9   10  ...      7              11     0.270270\n",
              "\n",
              "[5 rows x 10 columns]"
            ]
          },
          "metadata": {
            "tags": []
          },
          "execution_count": 51
        }
      ]
    },
    {
      "cell_type": "markdown",
      "metadata": {
        "id": "gUcXZWvgrVXH",
        "colab_type": "text"
      },
      "source": [
        "## Word Embedding"
      ]
    },
    {
      "cell_type": "markdown",
      "metadata": {
        "id": "Io2yYeitajMp",
        "colab_type": "text"
      },
      "source": [
        "**en_core_web_md**\n"
      ]
    },
    {
      "cell_type": "code",
      "metadata": {
        "id": "hYuhLCHE5ihq",
        "colab_type": "code",
        "outputId": "35f7cad9-7c7a-44f2-f883-15718617dff8",
        "colab": {
          "base_uri": "https://localhost:8080/",
          "height": 51
        }
      },
      "source": [
        "#install spacy model en_core_web_md\n",
        "import spacy.cli\n",
        "spacy.cli.download(\"en_core_web_md\")"
      ],
      "execution_count": 0,
      "outputs": [
        {
          "output_type": "stream",
          "text": [
            "\u001b[38;5;2m✔ Download and installation successful\u001b[0m\n",
            "You can now load the model via spacy.load('en_core_web_md')\n"
          ],
          "name": "stdout"
        }
      ]
    },
    {
      "cell_type": "code",
      "metadata": {
        "id": "ql6WlNWb_T11",
        "colab_type": "code",
        "outputId": "ac6e446c-7f80-44b5-b86a-8c3515da8ef0",
        "colab": {
          "base_uri": "https://localhost:8080/",
          "height": 34
        }
      },
      "source": [
        "#load en_core_web_lg\n",
        "import spacy \n",
        "nlp = spacy.load(\"en_core_web_md\")   \n",
        "total_vectors = len(nlp.vocab.vectors)\n",
        "print('Total word vectors:', total_vectors)"
      ],
      "execution_count": 0,
      "outputs": [
        {
          "output_type": "stream",
          "text": [
            "Total word vectors: 20000\n"
          ],
          "name": "stdout"
        }
      ]
    },
    {
      "cell_type": "code",
      "metadata": {
        "id": "lymt1Yv4bGP7",
        "colab_type": "code",
        "colab": {}
      },
      "source": [
        "#build word vectors for question1 \n",
        "word_vecs1 = [doc.vector for doc in nlp.pipe(df['question1'], n_threads = 50)] #this will give the document vector \n",
        "word_vecs1 = np.array(word_vecs1)"
      ],
      "execution_count": 0,
      "outputs": []
    },
    {
      "cell_type": "code",
      "metadata": {
        "id": "sdZqKHNXbGTE",
        "colab_type": "code",
        "colab": {}
      },
      "source": [
        " #build word vectors for question2 \n",
        "word_vecs2 = [doc.vector for doc in nlp.pipe(df['question2'], n_threads = 50)] #this will give the document vector \n",
        "word_vecs2 = np.array(word_vecs2)\n"
      ],
      "execution_count": 0,
      "outputs": []
    },
    {
      "cell_type": "code",
      "metadata": {
        "id": "EueIpAqScaTg",
        "colab_type": "code",
        "colab": {}
      },
      "source": [
        ""
      ],
      "execution_count": 0,
      "outputs": []
    },
    {
      "cell_type": "markdown",
      "metadata": {
        "id": "COlsvzAfvlVJ",
        "colab_type": "text"
      },
      "source": [
        "## Dimensionality Reduction"
      ]
    },
    {
      "cell_type": "markdown",
      "metadata": {
        "id": "CVt684Yu15A4",
        "colab_type": "text"
      },
      "source": [
        "**PCA** <br />\n",
        "Unsupervise linear dimensionality reduction technique that takes large data dimension and returns lower data dimension by using clustering. it keeps the components with high variance which means we won't lose valuable features. principal component is the output of converting correlated variables to uncorrelated variables. This will also speed up the machine learning algorithm."
      ]
    },
    {
      "cell_type": "code",
      "metadata": {
        "id": "dDlDWghs-134",
        "colab_type": "code",
        "colab": {}
      },
      "source": [
        "#PCA\n",
        "from sklearn.decomposition import PCA\n"
      ],
      "execution_count": 0,
      "outputs": []
    },
    {
      "cell_type": "code",
      "metadata": {
        "id": "_0YEwZg1ElUX",
        "colab_type": "code",
        "outputId": "3985c640-c573-4a96-8b08-918777dc2507",
        "colab": {
          "base_uri": "https://localhost:8080/",
          "height": 386
        }
      },
      "source": [
        "#apply PCA and check the variance \n",
        "#the optimal number of components \n",
        "n_comp = [50, 100, 150, 170, 180]\n",
        "explained = [] \n",
        "for x in n_comp:\n",
        "    pca = PCA(n_components=x)\n",
        "    pca.fit(word_vecs1)\n",
        "    explained.append(pca.explained_variance_ratio_.sum())\n",
        "    print(\"Number of components = %r and explained variance = %r\"%(x,pca.explained_variance_ratio_.sum()))\n",
        "plt.plot(n_comp, explained)\n",
        "plt.xlabel('Number of components')\n",
        "plt.ylabel(\"Explained Variance\")\n",
        "plt.title(\"Plot of Number of components v/s explained variance\")\n",
        "plt.show()"
      ],
      "execution_count": 0,
      "outputs": [
        {
          "output_type": "stream",
          "text": [
            "Number of components = 50 and explained variance = 0.7125613372280521\n",
            "Number of components = 100 and explained variance = 0.8387905971097248\n",
            "Number of components = 150 and explained variance = 0.9091121167006093\n",
            "Number of components = 170 and explained variance = 0.9299552169091851\n",
            "Number of components = 180 and explained variance = 0.9391761324601402\n"
          ],
          "name": "stdout"
        },
        {
          "output_type": "display_data",
          "data": {
            "image/png": "[encoded data removed]",
            "text/plain": [
              "<Figure size 432x288 with 1 Axes>"
            ]
          },
          "metadata": {
            "tags": []
          }
        }
      ]
    },
    {
      "cell_type": "code",
      "metadata": {
        "id": "t2JqrSf9EQW_",
        "colab_type": "code",
        "colab": {}
      },
      "source": [
        "pca = PCA(n_components=180)\n",
        "pca1 = pca.fit_transform(word_vecs1)"
      ],
      "execution_count": 0,
      "outputs": []
    },
    {
      "cell_type": "code",
      "metadata": {
        "id": "hIUw0n4aEMP-",
        "colab_type": "code",
        "outputId": "87df7db3-c636-4d6a-822d-b0d6f8213803",
        "colab": {
          "base_uri": "https://localhost:8080/",
          "height": 34
        }
      },
      "source": [
        "pca1.shape"
      ],
      "execution_count": 0,
      "outputs": [
        {
          "output_type": "execute_result",
          "data": {
            "text/plain": [
              "(403285, 180)"
            ]
          },
          "metadata": {
            "tags": []
          },
          "execution_count": 59
        }
      ]
    },
    {
      "cell_type": "code",
      "metadata": {
        "id": "S65bhyM7HH0K",
        "colab_type": "code",
        "outputId": "0f2bfdba-fd33-492c-cd7f-78945bead4c3",
        "colab": {
          "base_uri": "https://localhost:8080/",
          "height": 369
        }
      },
      "source": [
        "#apply PCA and check the variance \n",
        "#the optimal number of components \n",
        "n_comp = [50, 100, 150, 170] # list containing different values of components\n",
        "explained = [] # explained variance ratio for each component of Truncated SVD\n",
        "for x in n_comp:\n",
        "    pca = PCA(n_components=x)\n",
        "    pca.fit(word_vecs1)\n",
        "    explained.append(pca.explained_variance_ratio_.sum())\n",
        "    print(\"Number of components = %r and explained variance = %r\"%(x,pca.explained_variance_ratio_.sum()))\n",
        "plt.plot(n_comp, explained)\n",
        "plt.xlabel('Number of components')\n",
        "plt.ylabel(\"Explained Variance\")\n",
        "plt.title(\"Plot of Number of components v/s explained variance\")\n",
        "plt.show()"
      ],
      "execution_count": 0,
      "outputs": [
        {
          "output_type": "stream",
          "text": [
            "Number of components = 50 and explained variance = 0.712310373620245\n",
            "Number of components = 100 and explained variance = 0.8387069638881471\n",
            "Number of components = 150 and explained variance = 0.9094200223004326\n",
            "Number of components = 170 and explained variance = 0.9299102963204007\n"
          ],
          "name": "stdout"
        },
        {
          "output_type": "display_data",
          "data": {
            "image/png": "[encoded data removed]",
            "text/plain": [
              "<Figure size 432x288 with 1 Axes>"
            ]
          },
          "metadata": {
            "tags": []
          }
        }
      ]
    },
    {
      "cell_type": "code",
      "metadata": {
        "id": "2SCt5a6AGqgJ",
        "colab_type": "code",
        "colab": {}
      },
      "source": [
        "pca = PCA(n_components=180)\n",
        "pca2 = pca.fit_transform(word_vecs2)"
      ],
      "execution_count": 0,
      "outputs": []
    },
    {
      "cell_type": "code",
      "metadata": {
        "id": "8NPTqHa9GqnY",
        "colab_type": "code",
        "outputId": "24eb86b4-fae7-42b0-b9f5-482504bb947c",
        "colab": {
          "base_uri": "https://localhost:8080/",
          "height": 34
        }
      },
      "source": [
        "pca2.shape"
      ],
      "execution_count": 0,
      "outputs": [
        {
          "output_type": "execute_result",
          "data": {
            "text/plain": [
              "(403285, 180)"
            ]
          },
          "metadata": {
            "tags": []
          },
          "execution_count": 62
        }
      ]
    },
    {
      "cell_type": "code",
      "metadata": {
        "id": "3l29HpMtG9HV",
        "colab_type": "code",
        "outputId": "d7682542-c635-45d7-b003-a717b479e96c",
        "colab": {
          "base_uri": "https://localhost:8080/",
          "height": 34
        }
      },
      "source": [
        "len(pca1)"
      ],
      "execution_count": 0,
      "outputs": [
        {
          "output_type": "execute_result",
          "data": {
            "text/plain": [
              "403285"
            ]
          },
          "metadata": {
            "tags": []
          },
          "execution_count": 63
        }
      ]
    },
    {
      "cell_type": "code",
      "metadata": {
        "id": "X6EfvToQG42p",
        "colab_type": "code",
        "colab": {}
      },
      "source": [
        ""
      ],
      "execution_count": 0,
      "outputs": []
    },
    {
      "cell_type": "code",
      "metadata": {
        "id": "B5HhkoJMOlIJ",
        "colab_type": "code",
        "colab": {}
      },
      "source": [
        ""
      ],
      "execution_count": 0,
      "outputs": []
    },
    {
      "cell_type": "markdown",
      "metadata": {
        "id": "SYhd6RFqOlpQ",
        "colab_type": "text"
      },
      "source": [
        "## Feature Extraction"
      ]
    },
    {
      "cell_type": "markdown",
      "metadata": {
        "id": "JqXX7wahzPdP",
        "colab_type": "text"
      },
      "source": [
        "**Cosine Similarity** <br /> \n",
        "Cosine similarity is a metric to measure how similar documents are regardless of their length. it measures the cosine of the angle between two vectors by\n",
        "looking at their directions (or orientations) without caring about their length "
      ]
    },
    {
      "cell_type": "code",
      "metadata": {
        "colab_type": "code",
        "id": "Ey7ku4-vuTb6",
        "colab": {}
      },
      "source": [
        "tfidf_matrix1 = tfidf_matrix[:403285]"
      ],
      "execution_count": 0,
      "outputs": []
    },
    {
      "cell_type": "code",
      "metadata": {
        "id": "570Or6DivnJ5",
        "colab_type": "code",
        "colab": {}
      },
      "source": [
        "tfidf_matrix2 = tfidf_matrix[403285:]"
      ],
      "execution_count": 0,
      "outputs": []
    },
    {
      "cell_type": "code",
      "metadata": {
        "colab_type": "code",
        "id": "n9X5ymfeuSum",
        "colab": {}
      },
      "source": [
        "from sklearn.metrics.pairwise import cosine_similarity\n",
        "cosine_sim = []\n",
        "for i in range(403285):\n",
        "  tfidf_q1 = tfidf_matrix1[i]\n",
        "  tfidf_q2 = tfidf_matrix2[i]\n",
        "  cosine_sim.append(cosine_similarity(tfidf_q1, tfidf_q2)[0][0])"
      ],
      "execution_count": 0,
      "outputs": []
    },
    {
      "cell_type": "code",
      "metadata": {
        "colab_type": "code",
        "id": "_BWcR-_HuSJS",
        "outputId": "e1aaa4c6-bb5c-409b-ee31-e26219636ff7",
        "colab": {
          "base_uri": "https://localhost:8080/",
          "height": 34
        }
      },
      "source": [
        "len(cosine_sim)"
      ],
      "execution_count": 0,
      "outputs": [
        {
          "output_type": "execute_result",
          "data": {
            "text/plain": [
              "403285"
            ]
          },
          "metadata": {
            "tags": []
          },
          "execution_count": 67
        }
      ]
    },
    {
      "cell_type": "code",
      "metadata": {
        "id": "khYyh2UU1OoJ",
        "colab_type": "code",
        "colab": {}
      },
      "source": [
        "df_clean['cosine_sim_tfidf'] = cosine_sim[0: len(cosine_sim)]\n"
      ],
      "execution_count": 0,
      "outputs": []
    },
    {
      "cell_type": "code",
      "metadata": {
        "id": "3fYVzi0Qy9AJ",
        "colab_type": "code",
        "outputId": "5f8211ac-687e-4c04-b005-dd725753b549",
        "colab": {
          "base_uri": "https://localhost:8080/",
          "height": 204
        }
      },
      "source": [
        "df_clean.tail()"
      ],
      "execution_count": 0,
      "outputs": [
        {
          "output_type": "execute_result",
          "data": {
            "text/html": [
              "<div>\n",
              "<style scoped>\n",
              "    .dataframe tbody tr th:only-of-type {\n",
              "        vertical-align: middle;\n",
              "    }\n",
              "\n",
              "    .dataframe tbody tr th {\n",
              "        vertical-align: top;\n",
              "    }\n",
              "\n",
              "    .dataframe thead th {\n",
              "        text-align: right;\n",
              "    }\n",
              "</style>\n",
              "<table border=\"1\" class=\"dataframe\">\n",
              "  <thead>\n",
              "    <tr style=\"text-align: right;\">\n",
              "      <th></th>\n",
              "      <th>id</th>\n",
              "      <th>qid1</th>\n",
              "      <th>qid2</th>\n",
              "      <th>question1</th>\n",
              "      <th>question2</th>\n",
              "      <th>label</th>\n",
              "      <th>count1</th>\n",
              "      <th>count2</th>\n",
              "      <th>unique_word_cnt</th>\n",
              "      <th>common_words</th>\n",
              "      <th>cosine_sim_tfidf</th>\n",
              "    </tr>\n",
              "  </thead>\n",
              "  <tbody>\n",
              "    <tr>\n",
              "      <th>404282</th>\n",
              "      <td>404285</td>\n",
              "      <td>433578</td>\n",
              "      <td>379845</td>\n",
              "      <td>mani keyword racket program languag latest version</td>\n",
              "      <td>mani keyword perl program languag latest version</td>\n",
              "      <td>0</td>\n",
              "      <td>14</td>\n",
              "      <td>13</td>\n",
              "      <td>1</td>\n",
              "      <td>0.918367</td>\n",
              "      <td>0.705006</td>\n",
              "    </tr>\n",
              "    <tr>\n",
              "      <th>404283</th>\n",
              "      <td>404286</td>\n",
              "      <td>18840</td>\n",
              "      <td>155606</td>\n",
              "      <td>believ life death</td>\n",
              "      <td>true life death</td>\n",
              "      <td>1</td>\n",
              "      <td>8</td>\n",
              "      <td>9</td>\n",
              "      <td>4</td>\n",
              "      <td>0.750000</td>\n",
              "      <td>0.636499</td>\n",
              "    </tr>\n",
              "    <tr>\n",
              "      <th>404284</th>\n",
              "      <td>404287</td>\n",
              "      <td>537928</td>\n",
              "      <td>537929</td>\n",
              "      <td>one coin</td>\n",
              "      <td>coin</td>\n",
              "      <td>0</td>\n",
              "      <td>4</td>\n",
              "      <td>3</td>\n",
              "      <td>2</td>\n",
              "      <td>0.666667</td>\n",
              "      <td>1.000000</td>\n",
              "    </tr>\n",
              "    <tr>\n",
              "      <th>404285</th>\n",
              "      <td>404288</td>\n",
              "      <td>537930</td>\n",
              "      <td>537931</td>\n",
              "      <td>approx annual cost live studi uic chicago indian student</td>\n",
              "      <td>littl hairfal problem want use hair style product one prefer gel wax clay</td>\n",
              "      <td>0</td>\n",
              "      <td>17</td>\n",
              "      <td>25</td>\n",
              "      <td>6</td>\n",
              "      <td>0.279070</td>\n",
              "      <td>0.000000</td>\n",
              "    </tr>\n",
              "    <tr>\n",
              "      <th>404286</th>\n",
              "      <td>404289</td>\n",
              "      <td>537932</td>\n",
              "      <td>537933</td>\n",
              "      <td>sex cousin</td>\n",
              "      <td>sex cousin</td>\n",
              "      <td>0</td>\n",
              "      <td>8</td>\n",
              "      <td>10</td>\n",
              "      <td>0</td>\n",
              "      <td>1.000000</td>\n",
              "      <td>1.000000</td>\n",
              "    </tr>\n",
              "  </tbody>\n",
              "</table>\n",
              "</div>"
            ],
            "text/plain": [
              "            id    qid1    qid2  ... unique_word_cnt common_words cosine_sim_tfidf\n",
              "404282  404285  433578  379845  ...               1     0.918367         0.705006\n",
              "404283  404286   18840  155606  ...               4     0.750000         0.636499\n",
              "404284  404287  537928  537929  ...               2     0.666667         1.000000\n",
              "404285  404288  537930  537931  ...               6     0.279070         0.000000\n",
              "404286  404289  537932  537933  ...               0     1.000000         1.000000\n",
              "\n",
              "[5 rows x 11 columns]"
            ]
          },
          "metadata": {
            "tags": []
          },
          "execution_count": 69
        }
      ]
    },
    {
      "cell_type": "code",
      "metadata": {
        "id": "GSCZH0HlS_Vb",
        "colab_type": "code",
        "colab": {}
      },
      "source": [
        ""
      ],
      "execution_count": 0,
      "outputs": []
    },
    {
      "cell_type": "markdown",
      "metadata": {
        "id": "tnkHMi5ZTADL",
        "colab_type": "text"
      },
      "source": [
        "**Euclidean Distance**\n"
      ]
    },
    {
      "cell_type": "code",
      "metadata": {
        "id": "W8Q-UirmTM-c",
        "colab_type": "code",
        "colab": {}
      },
      "source": [
        "from sklearn.metrics.pairwise import euclidean_distances"
      ],
      "execution_count": 0,
      "outputs": []
    },
    {
      "cell_type": "code",
      "metadata": {
        "id": "2YtxGkYtyYxu",
        "colab_type": "code",
        "colab": {}
      },
      "source": [
        "euc_dist = []\n",
        "for i in range(403285):\n",
        "  docvec_q1 = pca1[[i]]\n",
        "  docvec_q2 = pca2[[i]]\n",
        "  euc_dist.append(euclidean_distances(docvec_q1, docvec_q2))"
      ],
      "execution_count": 0,
      "outputs": []
    },
    {
      "cell_type": "code",
      "metadata": {
        "id": "VIC1bSNDGABD",
        "colab_type": "code",
        "outputId": "eb24992e-33ae-40ca-8bae-2257a97420ae",
        "colab": {
          "base_uri": "https://localhost:8080/",
          "height": 187
        }
      },
      "source": [
        "euc_dist[0:10]"
      ],
      "execution_count": 0,
      "outputs": [
        {
          "output_type": "execute_result",
          "data": {
            "text/plain": [
              "[array([[1.3259404]], dtype=float32),\n",
              " array([[1.4756905]], dtype=float32),\n",
              " array([[1.7032613]], dtype=float32),\n",
              " array([[2.7693062]], dtype=float32),\n",
              " array([[2.2445443]], dtype=float32),\n",
              " array([[1.584665]], dtype=float32),\n",
              " array([[2.8474517]], dtype=float32),\n",
              " array([[1.3477088]], dtype=float32),\n",
              " array([[1.7864809]], dtype=float32),\n",
              " array([[1.7509491]], dtype=float32)]"
            ]
          },
          "metadata": {
            "tags": []
          },
          "execution_count": 72
        }
      ]
    },
    {
      "cell_type": "code",
      "metadata": {
        "id": "fppIV_0kHh2v",
        "colab_type": "code",
        "colab": {}
      },
      "source": [
        "#Normalized Data\n",
        "#def norm(x):\n",
        "  #normalized = (x-min(x))/(max(x)-min(x))\n",
        "  #return normalized\n",
        "\n",
        "#apply normalization on distance \n",
        "#norm_euc_dist = norm(euc_dist)\n",
        "#convert to list \n",
        "euc_dist = np.concatenate(euc_dist, axis=0 )"
      ],
      "execution_count": 0,
      "outputs": []
    },
    {
      "cell_type": "code",
      "metadata": {
        "id": "lJrE4rmWHoV9",
        "colab_type": "code",
        "colab": {}
      },
      "source": [
        "df_clean['euc_dist'] = euc_dist"
      ],
      "execution_count": 0,
      "outputs": []
    },
    {
      "cell_type": "markdown",
      "metadata": {
        "id": "pgwemtSdzVy7",
        "colab_type": "text"
      },
      "source": [
        "**Jaccard Similarity** "
      ]
    },
    {
      "cell_type": "code",
      "metadata": {
        "id": "Rjq_C-KHIEIZ",
        "colab_type": "code",
        "colab": {}
      },
      "source": [
        "#jaccard similarity \n",
        "#apply jaccard similarity on documents vectors \n",
        "def jaccard_similarity(list1, list2):\n",
        "    intersection = len(list(set(list1).intersection(list2)))\n",
        "    union = (len(list1) + len(list2)) - intersection\n",
        "    return float(intersection) / union"
      ],
      "execution_count": 0,
      "outputs": []
    },
    {
      "cell_type": "code",
      "metadata": {
        "id": "lJmCObAjG48u",
        "colab_type": "code",
        "colab": {}
      },
      "source": [
        "jaccard_sim = []\n",
        "for i in range(403285):\n",
        "  docvec_q1 = pca1[i]\n",
        "  docvec_q2 = pca2[i]\n",
        "  jaccard_sim.append(jaccard_similarity(docvec_q1, docvec_q2))"
      ],
      "execution_count": 0,
      "outputs": []
    },
    {
      "cell_type": "code",
      "metadata": {
        "id": "4tGQEnWbP8f7",
        "colab_type": "code",
        "outputId": "efbabe2c-ee93-4207-f876-603881ddc4ed",
        "colab": {
          "base_uri": "https://localhost:8080/",
          "height": 34
        }
      },
      "source": [
        "len(jaccard_sim)"
      ],
      "execution_count": 0,
      "outputs": [
        {
          "output_type": "execute_result",
          "data": {
            "text/plain": [
              "403285"
            ]
          },
          "metadata": {
            "tags": []
          },
          "execution_count": 77
        }
      ]
    },
    {
      "cell_type": "code",
      "metadata": {
        "id": "wdCGMQRJFDOL",
        "colab_type": "code",
        "colab": {}
      },
      "source": [
        "df_clean['jac_sim'] = jaccard_sim"
      ],
      "execution_count": 0,
      "outputs": []
    },
    {
      "cell_type": "code",
      "metadata": {
        "id": "nucxjRrQ4-W-",
        "colab_type": "code",
        "outputId": "4419e75e-f433-4577-b1b4-b7e2e27ca152",
        "colab": {
          "base_uri": "https://localhost:8080/",
          "height": 204
        }
      },
      "source": [
        "df_clean.head()"
      ],
      "execution_count": 0,
      "outputs": [
        {
          "output_type": "execute_result",
          "data": {
            "text/html": [
              "<div>\n",
              "<style scoped>\n",
              "    .dataframe tbody tr th:only-of-type {\n",
              "        vertical-align: middle;\n",
              "    }\n",
              "\n",
              "    .dataframe tbody tr th {\n",
              "        vertical-align: top;\n",
              "    }\n",
              "\n",
              "    .dataframe thead th {\n",
              "        text-align: right;\n",
              "    }\n",
              "</style>\n",
              "<table border=\"1\" class=\"dataframe\">\n",
              "  <thead>\n",
              "    <tr style=\"text-align: right;\">\n",
              "      <th></th>\n",
              "      <th>id</th>\n",
              "      <th>qid1</th>\n",
              "      <th>qid2</th>\n",
              "      <th>question1</th>\n",
              "      <th>question2</th>\n",
              "      <th>label</th>\n",
              "      <th>count1</th>\n",
              "      <th>count2</th>\n",
              "      <th>unique_word_cnt</th>\n",
              "      <th>common_words</th>\n",
              "      <th>cosine_sim_tfidf</th>\n",
              "      <th>euc_dist</th>\n",
              "      <th>jac_sim</th>\n",
              "    </tr>\n",
              "  </thead>\n",
              "  <tbody>\n",
              "    <tr>\n",
              "      <th>0</th>\n",
              "      <td>0</td>\n",
              "      <td>1</td>\n",
              "      <td>2</td>\n",
              "      <td>step step guid invest share market india</td>\n",
              "      <td>step step guid invest share market</td>\n",
              "      <td>0</td>\n",
              "      <td>14</td>\n",
              "      <td>12</td>\n",
              "      <td>0</td>\n",
              "      <td>0.918919</td>\n",
              "      <td>0.974700</td>\n",
              "      <td>1.325940</td>\n",
              "      <td>0.0</td>\n",
              "    </tr>\n",
              "    <tr>\n",
              "      <th>1</th>\n",
              "      <td>1</td>\n",
              "      <td>3</td>\n",
              "      <td>4</td>\n",
              "      <td>stori kohinoor kohnoor diamond</td>\n",
              "      <td>happen indian govern stole kohinoor kohnoor diamond back</td>\n",
              "      <td>0</td>\n",
              "      <td>8</td>\n",
              "      <td>13</td>\n",
              "      <td>7</td>\n",
              "      <td>0.651163</td>\n",
              "      <td>0.645063</td>\n",
              "      <td>1.475690</td>\n",
              "      <td>0.0</td>\n",
              "    </tr>\n",
              "    <tr>\n",
              "      <th>2</th>\n",
              "      <td>2</td>\n",
              "      <td>5</td>\n",
              "      <td>6</td>\n",
              "      <td>increas speed internet connect use vpn</td>\n",
              "      <td>internet speed increas hack dns</td>\n",
              "      <td>0</td>\n",
              "      <td>14</td>\n",
              "      <td>10</td>\n",
              "      <td>5</td>\n",
              "      <td>0.463768</td>\n",
              "      <td>0.456422</td>\n",
              "      <td>1.703261</td>\n",
              "      <td>0.0</td>\n",
              "    </tr>\n",
              "    <tr>\n",
              "      <th>3</th>\n",
              "      <td>3</td>\n",
              "      <td>7</td>\n",
              "      <td>8</td>\n",
              "      <td>mental lone solv</td>\n",
              "      <td>find remaind mathmath divid</td>\n",
              "      <td>0</td>\n",
              "      <td>11</td>\n",
              "      <td>9</td>\n",
              "      <td>8</td>\n",
              "      <td>0.279070</td>\n",
              "      <td>0.000000</td>\n",
              "      <td>2.769306</td>\n",
              "      <td>0.0</td>\n",
              "    </tr>\n",
              "    <tr>\n",
              "      <th>4</th>\n",
              "      <td>4</td>\n",
              "      <td>9</td>\n",
              "      <td>10</td>\n",
              "      <td>one dissolv water quik sugar salt methan carbon oxid</td>\n",
              "      <td>fish surviv salt water</td>\n",
              "      <td>0</td>\n",
              "      <td>13</td>\n",
              "      <td>7</td>\n",
              "      <td>11</td>\n",
              "      <td>0.270270</td>\n",
              "      <td>0.307641</td>\n",
              "      <td>2.244544</td>\n",
              "      <td>0.0</td>\n",
              "    </tr>\n",
              "  </tbody>\n",
              "</table>\n",
              "</div>"
            ],
            "text/plain": [
              "  id qid1 qid2  ... cosine_sim_tfidf  euc_dist jac_sim\n",
              "0  0    1    2  ...         0.974700  1.325940     0.0\n",
              "1  1    3    4  ...         0.645063  1.475690     0.0\n",
              "2  2    5    6  ...         0.456422  1.703261     0.0\n",
              "3  3    7    8  ...         0.000000  2.769306     0.0\n",
              "4  4    9   10  ...         0.307641  2.244544     0.0\n",
              "\n",
              "[5 rows x 13 columns]"
            ]
          },
          "metadata": {
            "tags": []
          },
          "execution_count": 79
        }
      ]
    },
    {
      "cell_type": "code",
      "metadata": {
        "id": "KhMmSaYR4-s6",
        "colab_type": "code",
        "colab": {}
      },
      "source": [
        "#drop columns won't be used in the model \n",
        "df_clean = df_clean.drop(['id', 'qid1', 'qid2', 'question1', 'question2'], axis=1)"
      ],
      "execution_count": 0,
      "outputs": []
    },
    {
      "cell_type": "code",
      "metadata": {
        "id": "xy_AKkkDQ1cS",
        "colab_type": "code",
        "outputId": "e52a5867-e26b-484a-d42b-e4104afde334",
        "colab": {
          "base_uri": "https://localhost:8080/",
          "height": 204
        }
      },
      "source": [
        "df_clean.head()"
      ],
      "execution_count": 0,
      "outputs": [
        {
          "output_type": "execute_result",
          "data": {
            "text/html": [
              "<div>\n",
              "<style scoped>\n",
              "    .dataframe tbody tr th:only-of-type {\n",
              "        vertical-align: middle;\n",
              "    }\n",
              "\n",
              "    .dataframe tbody tr th {\n",
              "        vertical-align: top;\n",
              "    }\n",
              "\n",
              "    .dataframe thead th {\n",
              "        text-align: right;\n",
              "    }\n",
              "</style>\n",
              "<table border=\"1\" class=\"dataframe\">\n",
              "  <thead>\n",
              "    <tr style=\"text-align: right;\">\n",
              "      <th></th>\n",
              "      <th>label</th>\n",
              "      <th>count1</th>\n",
              "      <th>count2</th>\n",
              "      <th>unique_word_cnt</th>\n",
              "      <th>common_words</th>\n",
              "      <th>cosine_sim_tfidf</th>\n",
              "      <th>euc_dist</th>\n",
              "      <th>jac_sim</th>\n",
              "    </tr>\n",
              "  </thead>\n",
              "  <tbody>\n",
              "    <tr>\n",
              "      <th>0</th>\n",
              "      <td>0</td>\n",
              "      <td>14</td>\n",
              "      <td>12</td>\n",
              "      <td>0</td>\n",
              "      <td>0.918919</td>\n",
              "      <td>0.974700</td>\n",
              "      <td>1.325940</td>\n",
              "      <td>0.0</td>\n",
              "    </tr>\n",
              "    <tr>\n",
              "      <th>1</th>\n",
              "      <td>0</td>\n",
              "      <td>8</td>\n",
              "      <td>13</td>\n",
              "      <td>7</td>\n",
              "      <td>0.651163</td>\n",
              "      <td>0.645063</td>\n",
              "      <td>1.475690</td>\n",
              "      <td>0.0</td>\n",
              "    </tr>\n",
              "    <tr>\n",
              "      <th>2</th>\n",
              "      <td>0</td>\n",
              "      <td>14</td>\n",
              "      <td>10</td>\n",
              "      <td>5</td>\n",
              "      <td>0.463768</td>\n",
              "      <td>0.456422</td>\n",
              "      <td>1.703261</td>\n",
              "      <td>0.0</td>\n",
              "    </tr>\n",
              "    <tr>\n",
              "      <th>3</th>\n",
              "      <td>0</td>\n",
              "      <td>11</td>\n",
              "      <td>9</td>\n",
              "      <td>8</td>\n",
              "      <td>0.279070</td>\n",
              "      <td>0.000000</td>\n",
              "      <td>2.769306</td>\n",
              "      <td>0.0</td>\n",
              "    </tr>\n",
              "    <tr>\n",
              "      <th>4</th>\n",
              "      <td>0</td>\n",
              "      <td>13</td>\n",
              "      <td>7</td>\n",
              "      <td>11</td>\n",
              "      <td>0.270270</td>\n",
              "      <td>0.307641</td>\n",
              "      <td>2.244544</td>\n",
              "      <td>0.0</td>\n",
              "    </tr>\n",
              "  </tbody>\n",
              "</table>\n",
              "</div>"
            ],
            "text/plain": [
              "  label count1 count2  ...  cosine_sim_tfidf  euc_dist  jac_sim\n",
              "0     0     14     12  ...          0.974700  1.325940      0.0\n",
              "1     0      8     13  ...          0.645063  1.475690      0.0\n",
              "2     0     14     10  ...          0.456422  1.703261      0.0\n",
              "3     0     11      9  ...          0.000000  2.769306      0.0\n",
              "4     0     13      7  ...          0.307641  2.244544      0.0\n",
              "\n",
              "[5 rows x 8 columns]"
            ]
          },
          "metadata": {
            "tags": []
          },
          "execution_count": 81
        }
      ]
    },
    {
      "cell_type": "code",
      "metadata": {
        "id": "AnApQdPjtx3d",
        "colab_type": "code",
        "colab": {}
      },
      "source": [
        "df_clean['count1'] = df_clean['count1'].astype(int)\n",
        "df_clean['count2'] = df_clean['count2'].astype(int)"
      ],
      "execution_count": 0,
      "outputs": []
    },
    {
      "cell_type": "markdown",
      "metadata": {
        "id": "TLLdVeLj4-_I",
        "colab_type": "text"
      },
      "source": [
        "## Modeling"
      ]
    },
    {
      "cell_type": "code",
      "metadata": {
        "id": "mjWUd7cP5AjQ",
        "colab_type": "code",
        "outputId": "7aae9787-041a-4e5c-9876-cf28e6f05d01",
        "colab": {
          "base_uri": "https://localhost:8080/",
          "height": 204
        }
      },
      "source": [
        "#separate the features\n",
        "x = df_clean.drop(['label'], axis= 1)\n",
        "x.head()"
      ],
      "execution_count": 0,
      "outputs": [
        {
          "output_type": "execute_result",
          "data": {
            "text/html": [
              "<div>\n",
              "<style scoped>\n",
              "    .dataframe tbody tr th:only-of-type {\n",
              "        vertical-align: middle;\n",
              "    }\n",
              "\n",
              "    .dataframe tbody tr th {\n",
              "        vertical-align: top;\n",
              "    }\n",
              "\n",
              "    .dataframe thead th {\n",
              "        text-align: right;\n",
              "    }\n",
              "</style>\n",
              "<table border=\"1\" class=\"dataframe\">\n",
              "  <thead>\n",
              "    <tr style=\"text-align: right;\">\n",
              "      <th></th>\n",
              "      <th>count1</th>\n",
              "      <th>count2</th>\n",
              "      <th>unique_word_cnt</th>\n",
              "      <th>common_words</th>\n",
              "      <th>cosine_sim_tfidf</th>\n",
              "      <th>euc_dist</th>\n",
              "      <th>jac_sim</th>\n",
              "    </tr>\n",
              "  </thead>\n",
              "  <tbody>\n",
              "    <tr>\n",
              "      <th>0</th>\n",
              "      <td>14</td>\n",
              "      <td>12</td>\n",
              "      <td>0</td>\n",
              "      <td>0.918919</td>\n",
              "      <td>0.974700</td>\n",
              "      <td>1.325940</td>\n",
              "      <td>0.0</td>\n",
              "    </tr>\n",
              "    <tr>\n",
              "      <th>1</th>\n",
              "      <td>8</td>\n",
              "      <td>13</td>\n",
              "      <td>7</td>\n",
              "      <td>0.651163</td>\n",
              "      <td>0.645063</td>\n",
              "      <td>1.475690</td>\n",
              "      <td>0.0</td>\n",
              "    </tr>\n",
              "    <tr>\n",
              "      <th>2</th>\n",
              "      <td>14</td>\n",
              "      <td>10</td>\n",
              "      <td>5</td>\n",
              "      <td>0.463768</td>\n",
              "      <td>0.456422</td>\n",
              "      <td>1.703261</td>\n",
              "      <td>0.0</td>\n",
              "    </tr>\n",
              "    <tr>\n",
              "      <th>3</th>\n",
              "      <td>11</td>\n",
              "      <td>9</td>\n",
              "      <td>8</td>\n",
              "      <td>0.279070</td>\n",
              "      <td>0.000000</td>\n",
              "      <td>2.769306</td>\n",
              "      <td>0.0</td>\n",
              "    </tr>\n",
              "    <tr>\n",
              "      <th>4</th>\n",
              "      <td>13</td>\n",
              "      <td>7</td>\n",
              "      <td>11</td>\n",
              "      <td>0.270270</td>\n",
              "      <td>0.307641</td>\n",
              "      <td>2.244544</td>\n",
              "      <td>0.0</td>\n",
              "    </tr>\n",
              "  </tbody>\n",
              "</table>\n",
              "</div>"
            ],
            "text/plain": [
              "   count1  count2  unique_word_cnt  ...  cosine_sim_tfidf  euc_dist  jac_sim\n",
              "0      14      12                0  ...          0.974700  1.325940      0.0\n",
              "1       8      13                7  ...          0.645063  1.475690      0.0\n",
              "2      14      10                5  ...          0.456422  1.703261      0.0\n",
              "3      11       9                8  ...          0.000000  2.769306      0.0\n",
              "4      13       7               11  ...          0.307641  2.244544      0.0\n",
              "\n",
              "[5 rows x 7 columns]"
            ]
          },
          "metadata": {
            "tags": []
          },
          "execution_count": 83
        }
      ]
    },
    {
      "cell_type": "code",
      "metadata": {
        "id": "XA2XCDD78eH5",
        "colab_type": "code",
        "outputId": "b89084c0-e3a5-4fb0-99bd-c4f08a82fe09",
        "colab": {
          "base_uri": "https://localhost:8080/",
          "height": 221
        }
      },
      "source": [
        "#separate the label\n",
        "y = df_clean['label']\n",
        "y"
      ],
      "execution_count": 0,
      "outputs": [
        {
          "output_type": "execute_result",
          "data": {
            "text/plain": [
              "0         0\n",
              "1         0\n",
              "2         0\n",
              "3         0\n",
              "4         0\n",
              "         ..\n",
              "404282    0\n",
              "404283    1\n",
              "404284    0\n",
              "404285    0\n",
              "404286    0\n",
              "Name: label, Length: 403285, dtype: object"
            ]
          },
          "metadata": {
            "tags": []
          },
          "execution_count": 84
        }
      ]
    },
    {
      "cell_type": "code",
      "metadata": {
        "id": "fukr6n258gVG",
        "colab_type": "code",
        "colab": {}
      },
      "source": [
        "xtrain, xtest, ytrain, ytest = train_test_split(x, y, test_size=0.2, random_state=123)"
      ],
      "execution_count": 0,
      "outputs": []
    },
    {
      "cell_type": "code",
      "metadata": {
        "id": "nmyy4XUrJhVa",
        "colab_type": "code",
        "outputId": "af28ce64-d0f6-48b0-daea-34c868f978c5",
        "colab": {
          "base_uri": "https://localhost:8080/",
          "height": 204
        }
      },
      "source": [
        "xtrain.head()"
      ],
      "execution_count": 0,
      "outputs": [
        {
          "output_type": "execute_result",
          "data": {
            "text/html": [
              "<div>\n",
              "<style scoped>\n",
              "    .dataframe tbody tr th:only-of-type {\n",
              "        vertical-align: middle;\n",
              "    }\n",
              "\n",
              "    .dataframe tbody tr th {\n",
              "        vertical-align: top;\n",
              "    }\n",
              "\n",
              "    .dataframe thead th {\n",
              "        text-align: right;\n",
              "    }\n",
              "</style>\n",
              "<table border=\"1\" class=\"dataframe\">\n",
              "  <thead>\n",
              "    <tr style=\"text-align: right;\">\n",
              "      <th></th>\n",
              "      <th>count1</th>\n",
              "      <th>count2</th>\n",
              "      <th>unique_word_cnt</th>\n",
              "      <th>common_words</th>\n",
              "      <th>cosine_sim_tfidf</th>\n",
              "      <th>euc_dist</th>\n",
              "      <th>jac_sim</th>\n",
              "    </tr>\n",
              "  </thead>\n",
              "  <tbody>\n",
              "    <tr>\n",
              "      <th>78278</th>\n",
              "      <td>7</td>\n",
              "      <td>16</td>\n",
              "      <td>12</td>\n",
              "      <td>0.322581</td>\n",
              "      <td>0.000000</td>\n",
              "      <td>2.072361</td>\n",
              "      <td>0.0</td>\n",
              "    </tr>\n",
              "    <tr>\n",
              "      <th>153157</th>\n",
              "      <td>16</td>\n",
              "      <td>16</td>\n",
              "      <td>1</td>\n",
              "      <td>0.913043</td>\n",
              "      <td>1.000000</td>\n",
              "      <td>1.087993</td>\n",
              "      <td>0.0</td>\n",
              "    </tr>\n",
              "    <tr>\n",
              "      <th>218972</th>\n",
              "      <td>19</td>\n",
              "      <td>9</td>\n",
              "      <td>4</td>\n",
              "      <td>0.408163</td>\n",
              "      <td>0.826229</td>\n",
              "      <td>1.047105</td>\n",
              "      <td>0.0</td>\n",
              "    </tr>\n",
              "    <tr>\n",
              "      <th>239390</th>\n",
              "      <td>11</td>\n",
              "      <td>8</td>\n",
              "      <td>3</td>\n",
              "      <td>0.533333</td>\n",
              "      <td>0.862892</td>\n",
              "      <td>1.549095</td>\n",
              "      <td>0.0</td>\n",
              "    </tr>\n",
              "    <tr>\n",
              "      <th>334118</th>\n",
              "      <td>9</td>\n",
              "      <td>11</td>\n",
              "      <td>6</td>\n",
              "      <td>0.653846</td>\n",
              "      <td>0.578330</td>\n",
              "      <td>1.842407</td>\n",
              "      <td>0.0</td>\n",
              "    </tr>\n",
              "  </tbody>\n",
              "</table>\n",
              "</div>"
            ],
            "text/plain": [
              "        count1  count2  unique_word_cnt  ...  cosine_sim_tfidf  euc_dist  jac_sim\n",
              "78278        7      16               12  ...          0.000000  2.072361      0.0\n",
              "153157      16      16                1  ...          1.000000  1.087993      0.0\n",
              "218972      19       9                4  ...          0.826229  1.047105      0.0\n",
              "239390      11       8                3  ...          0.862892  1.549095      0.0\n",
              "334118       9      11                6  ...          0.578330  1.842407      0.0\n",
              "\n",
              "[5 rows x 7 columns]"
            ]
          },
          "metadata": {
            "tags": []
          },
          "execution_count": 86
        }
      ]
    },
    {
      "cell_type": "markdown",
      "metadata": {
        "id": "E5i9IabiUIDF",
        "colab_type": "text"
      },
      "source": [
        "## XGBoost\n"
      ]
    },
    {
      "cell_type": "code",
      "metadata": {
        "id": "BSV6Kdu-Y4e-",
        "colab_type": "code",
        "colab": {}
      },
      "source": [
        "#import xgboost \n",
        "import xgboost as xgb\n",
        "import sklearn.metrics as metrics\n",
        "from sklearn.metrics import classification_report"
      ],
      "execution_count": 0,
      "outputs": []
    },
    {
      "cell_type": "markdown",
      "metadata": {
        "id": "cpSlbffOgRzM",
        "colab_type": "text"
      },
      "source": [
        "insted of dataframe XGBoost use Dmatrix <br />\n",
        "DMatrix is a internal data structure that used by XGBoost which is optimized for both memory efficiency and training speed."
      ]
    },
    {
      "cell_type": "code",
      "metadata": {
        "id": "QVwBx6CqdXjv",
        "colab_type": "code",
        "colab": {}
      },
      "source": [
        "#define the model \n",
        "model = xgb.XGBClassifier(objective='binary:hinge', learning_rate= 0.1,\n",
        "                max_depth= 5, alpha1 = 0, scale_pos_weight=6)"
      ],
      "execution_count": 0,
      "outputs": []
    },
    {
      "cell_type": "markdown",
      "metadata": {
        "id": "b95vTav0Q2Ah",
        "colab_type": "text"
      },
      "source": [
        "binary:hinge: hinge loss for binary classification. This makes predictions of 0 or 1, rather than producing probabilities.\n"
      ]
    },
    {
      "cell_type": "code",
      "metadata": {
        "id": "PI3NGkB8irGu",
        "colab_type": "code",
        "colab": {}
      },
      "source": [
        "#hyper parameter optimization \n",
        "#this is initial params in order to find the best one \n",
        "params = { 'learning_rate' :[0.1, 0.5, 0.8],\n",
        "        'min_child_weight': [1, 5, 10],\n",
        "        'gamma': [0.5, 1, 1.5, 2, 5],\n",
        "        'subsample': [0.6, 0.8, 1.0],\n",
        "        'colsample_bytree': [0.6, 0.8, 1.0],\n",
        "        'max_depth': [8, 10, 15]\n",
        "        }\n"
      ],
      "execution_count": 0,
      "outputs": []
    },
    {
      "cell_type": "code",
      "metadata": {
        "id": "3c__qYbujFuP",
        "colab_type": "code",
        "colab": {}
      },
      "source": [
        "from sklearn.model_selection import RandomizedSearchCV, GridSearchCV\n",
        "from sklearn.model_selection import StratifiedKFold"
      ],
      "execution_count": 0,
      "outputs": []
    },
    {
      "cell_type": "code",
      "metadata": {
        "id": "iDtlHZiW4zi8",
        "colab_type": "code",
        "colab": {}
      },
      "source": [
        ""
      ],
      "execution_count": 0,
      "outputs": []
    },
    {
      "cell_type": "markdown",
      "metadata": {
        "id": "5hG2t4Mu4z99",
        "colab_type": "text"
      },
      "source": [
        "## Hyperparameter Tuning \n",
        "choose the parameter that fit the data the best. <br />\n",
        "Grid search is the process of performing hyper parameter tuning in order to determine the optimal values for a given model."
      ]
    },
    {
      "cell_type": "markdown",
      "metadata": {
        "id": "EhS8Gouraj8p",
        "colab_type": "text"
      },
      "source": [
        "a slight variation in the K Fold cross validation technique is made, such that each fold contains approximately the same percentage of samples of each target class as the complete set, or in case of prediction problems, the mean response value is approximately equal in all the folds. This variation is also known as Stratified K Fold."
      ]
    },
    {
      "cell_type": "code",
      "metadata": {
        "id": "f69Yfu8rDjnG",
        "colab_type": "code",
        "colab": {}
      },
      "source": [
        "folds = 10\n",
        "param_comb = 5\n",
        "skf = StratifiedKFold(n_splits=folds, shuffle = True, random_state = 1001)\n",
        "  "
      ],
      "execution_count": 0,
      "outputs": []
    },
    {
      "cell_type": "code",
      "metadata": {
        "id": "qbkbHIK-IrP2",
        "colab_type": "code",
        "outputId": "251b05e1-3982-4121-d01d-4d9a8ca177f4",
        "colab": {
          "base_uri": "https://localhost:8080/",
          "height": 408
        }
      },
      "source": [
        "random_search = RandomizedSearchCV(model, params, n_iter=param_comb, scoring='roc_auc', n_jobs=1, cv=skf.split(xtrain, ytrain), verbose=3, random_state=1001 )\n",
        "random_search\n"
      ],
      "execution_count": 0,
      "outputs": [
        {
          "output_type": "execute_result",
          "data": {
            "text/plain": [
              "RandomizedSearchCV(cv=<generator object _BaseKFold.split at 0x7fb390b140f8>,\n",
              "                   error_score=nan,\n",
              "                   estimator=XGBClassifier(alpha1=0, base_score=0.5,\n",
              "                                           booster='gbtree',\n",
              "                                           colsample_bylevel=1,\n",
              "                                           colsample_bynode=1,\n",
              "                                           colsample_bytree=1, gamma=0,\n",
              "                                           learning_rate=0.1, max_delta_step=0,\n",
              "                                           max_depth=5, min_child_weight=1,\n",
              "                                           missing=None, n_estimators=100,\n",
              "                                           n_jobs=1, nthread=None,\n",
              "                                           objective='bi...\n",
              "                                           seed=None, silent=None, subsample=1,\n",
              "                                           verbosity=1),\n",
              "                   iid='deprecated', n_iter=5, n_jobs=1,\n",
              "                   param_distributions={'colsample_bytree': [0.6, 0.8, 1.0],\n",
              "                                        'gamma': [0.5, 1, 1.5, 2, 5],\n",
              "                                        'learning_rate': [0.1, 0.5, 0.8],\n",
              "                                        'max_depth': [8, 10, 15],\n",
              "                                        'min_child_weight': [1, 5, 10],\n",
              "                                        'subsample': [0.6, 0.8, 1.0]},\n",
              "                   pre_dispatch='2*n_jobs', random_state=1001, refit=True,\n",
              "                   return_train_score=False, scoring='roc_auc', verbose=3)"
            ]
          },
          "metadata": {
            "tags": []
          },
          "execution_count": 92
        }
      ]
    },
    {
      "cell_type": "code",
      "metadata": {
        "id": "vuRwBm8pI4b1",
        "colab_type": "code",
        "outputId": "923c0ed7-97f4-4e57-84c1-45882b863700",
        "colab": {
          "base_uri": "https://localhost:8080/",
          "height": 1000
        }
      },
      "source": [
        "#fit the train set \n",
        "random_search.fit(xtrain, ytrain)\n"
      ],
      "execution_count": 0,
      "outputs": [
        {
          "output_type": "stream",
          "text": [
            "Fitting 10 folds for each of 5 candidates, totalling 50 fits\n",
            "[CV] subsample=0.8, min_child_weight=5, max_depth=10, learning_rate=0.8, gamma=0.5, colsample_bytree=1.0 \n"
          ],
          "name": "stdout"
        },
        {
          "output_type": "stream",
          "text": [
            "[Parallel(n_jobs=1)]: Using backend SequentialBackend with 1 concurrent workers.\n"
          ],
          "name": "stderr"
        },
        {
          "output_type": "stream",
          "text": [
            "[CV]  subsample=0.8, min_child_weight=5, max_depth=10, learning_rate=0.8, gamma=0.5, colsample_bytree=1.0, score=0.681, total=  53.7s\n",
            "[CV] subsample=0.8, min_child_weight=5, max_depth=10, learning_rate=0.8, gamma=0.5, colsample_bytree=1.0 \n"
          ],
          "name": "stdout"
        },
        {
          "output_type": "stream",
          "text": [
            "[Parallel(n_jobs=1)]: Done   1 out of   1 | elapsed:   53.8s remaining:    0.0s\n"
          ],
          "name": "stderr"
        },
        {
          "output_type": "stream",
          "text": [
            "[CV]  subsample=0.8, min_child_weight=5, max_depth=10, learning_rate=0.8, gamma=0.5, colsample_bytree=1.0, score=0.684, total=  53.7s\n",
            "[CV] subsample=0.8, min_child_weight=5, max_depth=10, learning_rate=0.8, gamma=0.5, colsample_bytree=1.0 \n"
          ],
          "name": "stdout"
        },
        {
          "output_type": "stream",
          "text": [
            "[Parallel(n_jobs=1)]: Done   2 out of   2 | elapsed:  1.8min remaining:    0.0s\n"
          ],
          "name": "stderr"
        },
        {
          "output_type": "stream",
          "text": [
            "[CV]  subsample=0.8, min_child_weight=5, max_depth=10, learning_rate=0.8, gamma=0.5, colsample_bytree=1.0, score=0.685, total=  53.9s\n",
            "[CV] subsample=0.8, min_child_weight=5, max_depth=10, learning_rate=0.8, gamma=0.5, colsample_bytree=1.0 \n",
            "[CV]  subsample=0.8, min_child_weight=5, max_depth=10, learning_rate=0.8, gamma=0.5, colsample_bytree=1.0, score=0.687, total=  54.6s\n",
            "[CV] subsample=0.8, min_child_weight=5, max_depth=10, learning_rate=0.8, gamma=0.5, colsample_bytree=1.0 \n",
            "[CV]  subsample=0.8, min_child_weight=5, max_depth=10, learning_rate=0.8, gamma=0.5, colsample_bytree=1.0, score=0.682, total=  53.8s\n",
            "[CV] subsample=0.8, min_child_weight=5, max_depth=10, learning_rate=0.8, gamma=0.5, colsample_bytree=1.0 \n",
            "[CV]  subsample=0.8, min_child_weight=5, max_depth=10, learning_rate=0.8, gamma=0.5, colsample_bytree=1.0, score=0.691, total=  53.9s\n",
            "[CV] subsample=0.8, min_child_weight=5, max_depth=10, learning_rate=0.8, gamma=0.5, colsample_bytree=1.0 \n",
            "[CV]  subsample=0.8, min_child_weight=5, max_depth=10, learning_rate=0.8, gamma=0.5, colsample_bytree=1.0, score=0.684, total=  55.0s\n",
            "[CV] subsample=0.8, min_child_weight=5, max_depth=10, learning_rate=0.8, gamma=0.5, colsample_bytree=1.0 \n",
            "[CV]  subsample=0.8, min_child_weight=5, max_depth=10, learning_rate=0.8, gamma=0.5, colsample_bytree=1.0, score=0.689, total=  53.6s\n",
            "[CV] subsample=0.8, min_child_weight=5, max_depth=10, learning_rate=0.8, gamma=0.5, colsample_bytree=1.0 \n",
            "[CV]  subsample=0.8, min_child_weight=5, max_depth=10, learning_rate=0.8, gamma=0.5, colsample_bytree=1.0, score=0.685, total=  53.6s\n",
            "[CV] subsample=0.8, min_child_weight=5, max_depth=10, learning_rate=0.8, gamma=0.5, colsample_bytree=1.0 \n",
            "[CV]  subsample=0.8, min_child_weight=5, max_depth=10, learning_rate=0.8, gamma=0.5, colsample_bytree=1.0, score=0.690, total=  53.6s\n",
            "[CV] subsample=1.0, min_child_weight=5, max_depth=10, learning_rate=0.1, gamma=1, colsample_bytree=1.0 \n",
            "[CV]  subsample=1.0, min_child_weight=5, max_depth=10, learning_rate=0.1, gamma=1, colsample_bytree=1.0, score=0.704, total=  56.8s\n",
            "[CV] subsample=1.0, min_child_weight=5, max_depth=10, learning_rate=0.1, gamma=1, colsample_bytree=1.0 \n",
            "[CV]  subsample=1.0, min_child_weight=5, max_depth=10, learning_rate=0.1, gamma=1, colsample_bytree=1.0, score=0.709, total=  56.5s\n",
            "[CV] subsample=1.0, min_child_weight=5, max_depth=10, learning_rate=0.1, gamma=1, colsample_bytree=1.0 \n",
            "[CV]  subsample=1.0, min_child_weight=5, max_depth=10, learning_rate=0.1, gamma=1, colsample_bytree=1.0, score=0.711, total=  56.5s\n",
            "[CV] subsample=1.0, min_child_weight=5, max_depth=10, learning_rate=0.1, gamma=1, colsample_bytree=1.0 \n",
            "[CV]  subsample=1.0, min_child_weight=5, max_depth=10, learning_rate=0.1, gamma=1, colsample_bytree=1.0, score=0.710, total=  56.7s\n",
            "[CV] subsample=1.0, min_child_weight=5, max_depth=10, learning_rate=0.1, gamma=1, colsample_bytree=1.0 \n",
            "[CV]  subsample=1.0, min_child_weight=5, max_depth=10, learning_rate=0.1, gamma=1, colsample_bytree=1.0, score=0.703, total=  56.6s\n",
            "[CV] subsample=1.0, min_child_weight=5, max_depth=10, learning_rate=0.1, gamma=1, colsample_bytree=1.0 \n",
            "[CV]  subsample=1.0, min_child_weight=5, max_depth=10, learning_rate=0.1, gamma=1, colsample_bytree=1.0, score=0.710, total=  57.1s\n",
            "[CV] subsample=1.0, min_child_weight=5, max_depth=10, learning_rate=0.1, gamma=1, colsample_bytree=1.0 \n",
            "[CV]  subsample=1.0, min_child_weight=5, max_depth=10, learning_rate=0.1, gamma=1, colsample_bytree=1.0, score=0.707, total=  57.6s\n",
            "[CV] subsample=1.0, min_child_weight=5, max_depth=10, learning_rate=0.1, gamma=1, colsample_bytree=1.0 \n",
            "[CV]  subsample=1.0, min_child_weight=5, max_depth=10, learning_rate=0.1, gamma=1, colsample_bytree=1.0, score=0.712, total=  57.4s\n",
            "[CV] subsample=1.0, min_child_weight=5, max_depth=10, learning_rate=0.1, gamma=1, colsample_bytree=1.0 \n",
            "[CV]  subsample=1.0, min_child_weight=5, max_depth=10, learning_rate=0.1, gamma=1, colsample_bytree=1.0, score=0.707, total=  56.9s\n",
            "[CV] subsample=1.0, min_child_weight=5, max_depth=10, learning_rate=0.1, gamma=1, colsample_bytree=1.0 \n",
            "[CV]  subsample=1.0, min_child_weight=5, max_depth=10, learning_rate=0.1, gamma=1, colsample_bytree=1.0, score=0.710, total=  57.0s\n",
            "[CV] subsample=0.8, min_child_weight=10, max_depth=15, learning_rate=0.8, gamma=5, colsample_bytree=1.0 \n",
            "[CV]  subsample=0.8, min_child_weight=10, max_depth=15, learning_rate=0.8, gamma=5, colsample_bytree=1.0, score=0.679, total= 1.4min\n",
            "[CV] subsample=0.8, min_child_weight=10, max_depth=15, learning_rate=0.8, gamma=5, colsample_bytree=1.0 \n",
            "[CV]  subsample=0.8, min_child_weight=10, max_depth=15, learning_rate=0.8, gamma=5, colsample_bytree=1.0, score=0.673, total= 1.4min\n",
            "[CV] subsample=0.8, min_child_weight=10, max_depth=15, learning_rate=0.8, gamma=5, colsample_bytree=1.0 \n",
            "[CV]  subsample=0.8, min_child_weight=10, max_depth=15, learning_rate=0.8, gamma=5, colsample_bytree=1.0, score=0.677, total= 1.4min\n",
            "[CV] subsample=0.8, min_child_weight=10, max_depth=15, learning_rate=0.8, gamma=5, colsample_bytree=1.0 \n",
            "[CV]  subsample=0.8, min_child_weight=10, max_depth=15, learning_rate=0.8, gamma=5, colsample_bytree=1.0, score=0.679, total= 1.4min\n",
            "[CV] subsample=0.8, min_child_weight=10, max_depth=15, learning_rate=0.8, gamma=5, colsample_bytree=1.0 \n",
            "[CV]  subsample=0.8, min_child_weight=10, max_depth=15, learning_rate=0.8, gamma=5, colsample_bytree=1.0, score=0.674, total= 1.4min\n",
            "[CV] subsample=0.8, min_child_weight=10, max_depth=15, learning_rate=0.8, gamma=5, colsample_bytree=1.0 \n",
            "[CV]  subsample=0.8, min_child_weight=10, max_depth=15, learning_rate=0.8, gamma=5, colsample_bytree=1.0, score=0.682, total= 1.4min\n",
            "[CV] subsample=0.8, min_child_weight=10, max_depth=15, learning_rate=0.8, gamma=5, colsample_bytree=1.0 \n",
            "[CV]  subsample=0.8, min_child_weight=10, max_depth=15, learning_rate=0.8, gamma=5, colsample_bytree=1.0, score=0.678, total= 1.4min\n",
            "[CV] subsample=0.8, min_child_weight=10, max_depth=15, learning_rate=0.8, gamma=5, colsample_bytree=1.0 \n",
            "[CV]  subsample=0.8, min_child_weight=10, max_depth=15, learning_rate=0.8, gamma=5, colsample_bytree=1.0, score=0.682, total= 1.4min\n",
            "[CV] subsample=0.8, min_child_weight=10, max_depth=15, learning_rate=0.8, gamma=5, colsample_bytree=1.0 \n",
            "[CV]  subsample=0.8, min_child_weight=10, max_depth=15, learning_rate=0.8, gamma=5, colsample_bytree=1.0, score=0.672, total= 1.4min\n",
            "[CV] subsample=0.8, min_child_weight=10, max_depth=15, learning_rate=0.8, gamma=5, colsample_bytree=1.0 \n",
            "[CV]  subsample=0.8, min_child_weight=10, max_depth=15, learning_rate=0.8, gamma=5, colsample_bytree=1.0, score=0.681, total= 1.4min\n",
            "[CV] subsample=0.8, min_child_weight=10, max_depth=10, learning_rate=0.5, gamma=2, colsample_bytree=0.6 \n",
            "[CV]  subsample=0.8, min_child_weight=10, max_depth=10, learning_rate=0.5, gamma=2, colsample_bytree=0.6, score=0.694, total=  38.3s\n",
            "[CV] subsample=0.8, min_child_weight=10, max_depth=10, learning_rate=0.5, gamma=2, colsample_bytree=0.6 \n",
            "[CV]  subsample=0.8, min_child_weight=10, max_depth=10, learning_rate=0.5, gamma=2, colsample_bytree=0.6, score=0.694, total=  38.7s\n",
            "[CV] subsample=0.8, min_child_weight=10, max_depth=10, learning_rate=0.5, gamma=2, colsample_bytree=0.6 \n",
            "[CV]  subsample=0.8, min_child_weight=10, max_depth=10, learning_rate=0.5, gamma=2, colsample_bytree=0.6, score=0.696, total=  38.5s\n",
            "[CV] subsample=0.8, min_child_weight=10, max_depth=10, learning_rate=0.5, gamma=2, colsample_bytree=0.6 \n",
            "[CV]  subsample=0.8, min_child_weight=10, max_depth=10, learning_rate=0.5, gamma=2, colsample_bytree=0.6, score=0.695, total=  38.5s\n",
            "[CV] subsample=0.8, min_child_weight=10, max_depth=10, learning_rate=0.5, gamma=2, colsample_bytree=0.6 \n",
            "[CV]  subsample=0.8, min_child_weight=10, max_depth=10, learning_rate=0.5, gamma=2, colsample_bytree=0.6, score=0.693, total=  38.1s\n",
            "[CV] subsample=0.8, min_child_weight=10, max_depth=10, learning_rate=0.5, gamma=2, colsample_bytree=0.6 \n",
            "[CV]  subsample=0.8, min_child_weight=10, max_depth=10, learning_rate=0.5, gamma=2, colsample_bytree=0.6, score=0.697, total=  38.2s\n",
            "[CV] subsample=0.8, min_child_weight=10, max_depth=10, learning_rate=0.5, gamma=2, colsample_bytree=0.6 \n",
            "[CV]  subsample=0.8, min_child_weight=10, max_depth=10, learning_rate=0.5, gamma=2, colsample_bytree=0.6, score=0.696, total=  38.1s\n",
            "[CV] subsample=0.8, min_child_weight=10, max_depth=10, learning_rate=0.5, gamma=2, colsample_bytree=0.6 \n",
            "[CV]  subsample=0.8, min_child_weight=10, max_depth=10, learning_rate=0.5, gamma=2, colsample_bytree=0.6, score=0.701, total=  37.9s\n",
            "[CV] subsample=0.8, min_child_weight=10, max_depth=10, learning_rate=0.5, gamma=2, colsample_bytree=0.6 \n",
            "[CV]  subsample=0.8, min_child_weight=10, max_depth=10, learning_rate=0.5, gamma=2, colsample_bytree=0.6, score=0.692, total=  37.3s\n",
            "[CV] subsample=0.8, min_child_weight=10, max_depth=10, learning_rate=0.5, gamma=2, colsample_bytree=0.6 \n",
            "[CV]  subsample=0.8, min_child_weight=10, max_depth=10, learning_rate=0.5, gamma=2, colsample_bytree=0.6, score=0.700, total=  37.4s\n",
            "[CV] subsample=1.0, min_child_weight=1, max_depth=10, learning_rate=0.8, gamma=1.5, colsample_bytree=0.6 \n",
            "[CV]  subsample=1.0, min_child_weight=1, max_depth=10, learning_rate=0.8, gamma=1.5, colsample_bytree=0.6, score=0.691, total=  32.8s\n",
            "[CV] subsample=1.0, min_child_weight=1, max_depth=10, learning_rate=0.8, gamma=1.5, colsample_bytree=0.6 \n",
            "[CV]  subsample=1.0, min_child_weight=1, max_depth=10, learning_rate=0.8, gamma=1.5, colsample_bytree=0.6, score=0.690, total=  33.1s\n",
            "[CV] subsample=1.0, min_child_weight=1, max_depth=10, learning_rate=0.8, gamma=1.5, colsample_bytree=0.6 \n",
            "[CV]  subsample=1.0, min_child_weight=1, max_depth=10, learning_rate=0.8, gamma=1.5, colsample_bytree=0.6, score=0.697, total=  33.4s\n",
            "[CV] subsample=1.0, min_child_weight=1, max_depth=10, learning_rate=0.8, gamma=1.5, colsample_bytree=0.6 \n",
            "[CV]  subsample=1.0, min_child_weight=1, max_depth=10, learning_rate=0.8, gamma=1.5, colsample_bytree=0.6, score=0.689, total=  33.4s\n",
            "[CV] subsample=1.0, min_child_weight=1, max_depth=10, learning_rate=0.8, gamma=1.5, colsample_bytree=0.6 \n",
            "[CV]  subsample=1.0, min_child_weight=1, max_depth=10, learning_rate=0.8, gamma=1.5, colsample_bytree=0.6, score=0.687, total=  33.6s\n",
            "[CV] subsample=1.0, min_child_weight=1, max_depth=10, learning_rate=0.8, gamma=1.5, colsample_bytree=0.6 \n",
            "[CV]  subsample=1.0, min_child_weight=1, max_depth=10, learning_rate=0.8, gamma=1.5, colsample_bytree=0.6, score=0.693, total=  33.8s\n",
            "[CV] subsample=1.0, min_child_weight=1, max_depth=10, learning_rate=0.8, gamma=1.5, colsample_bytree=0.6 \n",
            "[CV]  subsample=1.0, min_child_weight=1, max_depth=10, learning_rate=0.8, gamma=1.5, colsample_bytree=0.6, score=0.696, total=  33.6s\n",
            "[CV] subsample=1.0, min_child_weight=1, max_depth=10, learning_rate=0.8, gamma=1.5, colsample_bytree=0.6 \n",
            "[CV]  subsample=1.0, min_child_weight=1, max_depth=10, learning_rate=0.8, gamma=1.5, colsample_bytree=0.6, score=0.695, total=  33.6s\n",
            "[CV] subsample=1.0, min_child_weight=1, max_depth=10, learning_rate=0.8, gamma=1.5, colsample_bytree=0.6 \n",
            "[CV]  subsample=1.0, min_child_weight=1, max_depth=10, learning_rate=0.8, gamma=1.5, colsample_bytree=0.6, score=0.689, total=  34.2s\n",
            "[CV] subsample=1.0, min_child_weight=1, max_depth=10, learning_rate=0.8, gamma=1.5, colsample_bytree=0.6 \n",
            "[CV]  subsample=1.0, min_child_weight=1, max_depth=10, learning_rate=0.8, gamma=1.5, colsample_bytree=0.6, score=0.695, total=  33.9s\n"
          ],
          "name": "stdout"
        },
        {
          "output_type": "stream",
          "text": [
            "[Parallel(n_jobs=1)]: Done  50 out of  50 | elapsed: 44.2min finished\n"
          ],
          "name": "stderr"
        },
        {
          "output_type": "execute_result",
          "data": {
            "text/plain": [
              "RandomizedSearchCV(cv=<generator object _BaseKFold.split at 0x7fb390b140f8>,\n",
              "                   error_score=nan,\n",
              "                   estimator=XGBClassifier(alpha1=0, base_score=0.5,\n",
              "                                           booster='gbtree',\n",
              "                                           colsample_bylevel=1,\n",
              "                                           colsample_bynode=1,\n",
              "                                           colsample_bytree=1, gamma=0,\n",
              "                                           learning_rate=0.1, max_delta_step=0,\n",
              "                                           max_depth=5, min_child_weight=1,\n",
              "                                           missing=None, n_estimators=100,\n",
              "                                           n_jobs=1, nthread=None,\n",
              "                                           objective='bi...\n",
              "                                           seed=None, silent=None, subsample=1,\n",
              "                                           verbosity=1),\n",
              "                   iid='deprecated', n_iter=5, n_jobs=1,\n",
              "                   param_distributions={'colsample_bytree': [0.6, 0.8, 1.0],\n",
              "                                        'gamma': [0.5, 1, 1.5, 2, 5],\n",
              "                                        'learning_rate': [0.1, 0.5, 0.8],\n",
              "                                        'max_depth': [8, 10, 15],\n",
              "                                        'min_child_weight': [1, 5, 10],\n",
              "                                        'subsample': [0.6, 0.8, 1.0]},\n",
              "                   pre_dispatch='2*n_jobs', random_state=1001, refit=True,\n",
              "                   return_train_score=False, scoring='roc_auc', verbose=3)"
            ]
          },
          "metadata": {
            "tags": []
          },
          "execution_count": 93
        }
      ]
    },
    {
      "cell_type": "code",
      "metadata": {
        "id": "aGImClagfoqF",
        "colab_type": "code",
        "outputId": "319153e8-470d-40a2-8687-ac89dcf92812",
        "colab": {
          "base_uri": "https://localhost:8080/",
          "height": 136
        }
      },
      "source": [
        "#get the best estimator \n",
        "random_search.best_estimator_\n",
        "\n",
        "#these are the best parameter to use in our xgboost model "
      ],
      "execution_count": 0,
      "outputs": [
        {
          "output_type": "execute_result",
          "data": {
            "text/plain": [
              "XGBClassifier(alpha1=0, base_score=0.5, booster='gbtree', colsample_bylevel=1,\n",
              "              colsample_bynode=1, colsample_bytree=1.0, gamma=1,\n",
              "              learning_rate=0.1, max_delta_step=0, max_depth=10,\n",
              "              min_child_weight=5, missing=None, n_estimators=100, n_jobs=1,\n",
              "              nthread=None, objective='binary:hinge', random_state=0,\n",
              "              reg_alpha=0, reg_lambda=1, scale_pos_weight=6, seed=None,\n",
              "              silent=None, subsample=1.0, verbosity=1)"
            ]
          },
          "metadata": {
            "tags": []
          },
          "execution_count": 94
        }
      ]
    },
    {
      "cell_type": "code",
      "metadata": {
        "id": "g9UVEIP9DGFx",
        "colab_type": "code",
        "outputId": "b2b11be7-6dc5-49a8-b1c5-3d20d3f99435",
        "colab": {
          "base_uri": "https://localhost:8080/",
          "height": 34
        }
      },
      "source": [
        "#get the score of the best auc\n",
        "random_search.best_score_"
      ],
      "execution_count": 0,
      "outputs": [
        {
          "output_type": "execute_result",
          "data": {
            "text/plain": [
              "0.7082495655582799"
            ]
          },
          "metadata": {
            "tags": []
          },
          "execution_count": 95
        }
      ]
    },
    {
      "cell_type": "code",
      "metadata": {
        "id": "aC0tr9DqPaBB",
        "colab_type": "code",
        "outputId": "d3d1d4b3-775b-45a4-e863-8d8e91e69cff",
        "colab": {
          "base_uri": "https://localhost:8080/",
          "height": 119
        }
      },
      "source": [
        "random_search.best_params_"
      ],
      "execution_count": 0,
      "outputs": [
        {
          "output_type": "execute_result",
          "data": {
            "text/plain": [
              "{'colsample_bytree': 1.0,\n",
              " 'gamma': 1,\n",
              " 'learning_rate': 0.1,\n",
              " 'max_depth': 10,\n",
              " 'min_child_weight': 5,\n",
              " 'subsample': 1.0}"
            ]
          },
          "metadata": {
            "tags": []
          },
          "execution_count": 96
        }
      ]
    },
    {
      "cell_type": "code",
      "metadata": {
        "id": "n71bVZhUqXen",
        "colab_type": "code",
        "outputId": "fdf4f4fd-7b69-4952-bff2-8123bb595d5d",
        "colab": {
          "base_uri": "https://localhost:8080/",
          "height": 136
        }
      },
      "source": [
        "random_search.best_estimator_"
      ],
      "execution_count": 0,
      "outputs": [
        {
          "output_type": "execute_result",
          "data": {
            "text/plain": [
              "XGBClassifier(alpha1=0, base_score=0.5, booster='gbtree', colsample_bylevel=1,\n",
              "              colsample_bynode=1, colsample_bytree=1.0, gamma=1,\n",
              "              learning_rate=0.1, max_delta_step=0, max_depth=10,\n",
              "              min_child_weight=5, missing=None, n_estimators=100, n_jobs=1,\n",
              "              nthread=None, objective='binary:hinge', random_state=0,\n",
              "              reg_alpha=0, reg_lambda=1, scale_pos_weight=6, seed=None,\n",
              "              silent=None, subsample=1.0, verbosity=1)"
            ]
          },
          "metadata": {
            "tags": []
          },
          "execution_count": 97
        }
      ]
    },
    {
      "cell_type": "code",
      "metadata": {
        "id": "BJqHD1yBqXkb",
        "colab_type": "code",
        "colab": {}
      },
      "source": [
        "#best parameters for the classifier model \n",
        "model = xgb.XGBClassifier(alpha1=0, base_score=0.5, booster='gbtree', colsample_bylevel=1,\n",
        "              colsample_bynode=1, colsample_bytree=0.8, gamma=1.5,\n",
        "              learning_rate=0.1, max_delta_step=0, max_depth=8,\n",
        "              min_child_weight=1, missing=None, n_estimators=100, n_jobs=1,\n",
        "              nthread=None, objective='binary:hinge', random_state=0,\n",
        "              reg_alpha=0, reg_lambda=1, scale_pos_weight=1, seed=None,\n",
        "              silent=None, subsample=0.6, verbosity=1)"
      ],
      "execution_count": 0,
      "outputs": []
    },
    {
      "cell_type": "markdown",
      "metadata": {
        "id": "2GjFZaNMsaiz",
        "colab_type": "text"
      },
      "source": [
        "##Evaluating the model"
      ]
    },
    {
      "cell_type": "code",
      "metadata": {
        "id": "sh-MgP8DgOU4",
        "colab_type": "code",
        "colab": {}
      },
      "source": [
        "# evaluate the training model with cross validation \n",
        "from sklearn import model_selection\n",
        "from sklearn.model_selection import cross_val_score\n",
        "kfold = model_selection.KFold(n_splits=10)\n",
        "results = cross_val_score(model, xtrain, ytrain, cv=kfold)"
      ],
      "execution_count": 0,
      "outputs": []
    },
    {
      "cell_type": "code",
      "metadata": {
        "id": "OPX5zvOdi4Uk",
        "colab_type": "code",
        "colab": {}
      },
      "source": [
        "#the average accuracy score for 10 models \n",
        "results.mean()"
      ],
      "execution_count": 0,
      "outputs": []
    },
    {
      "cell_type": "code",
      "metadata": {
        "id": "dJWOHDbP1-CF",
        "colab_type": "code",
        "colab": {}
      },
      "source": [
        "#fit the model to the train dataset \n",
        "model.fit(xtrain, ytrain)"
      ],
      "execution_count": 0,
      "outputs": []
    },
    {
      "cell_type": "code",
      "metadata": {
        "id": "5nEwpTxPqXcG",
        "colab_type": "code",
        "colab": {}
      },
      "source": [
        "#predict the label using the test set \n",
        "y_pred = model.predict(xtest)"
      ],
      "execution_count": 0,
      "outputs": []
    },
    {
      "cell_type": "code",
      "metadata": {
        "id": "VWj1PrN2RMyP",
        "colab_type": "code",
        "colab": {}
      },
      "source": [
        "#evaluate the model accuracy on the test set \n",
        "from sklearn import metrics\n",
        "print(metrics.accuracy_score(ytest, y_pred))"
      ],
      "execution_count": 0,
      "outputs": []
    },
    {
      "cell_type": "code",
      "metadata": {
        "id": "Klou0p-2j8PE",
        "colab_type": "code",
        "colab": {}
      },
      "source": [
        "#evaluate the model using roc-auc\n",
        "print(metrics.roc_auc_score(ytest, y_pred))"
      ],
      "execution_count": 0,
      "outputs": []
    },
    {
      "cell_type": "code",
      "metadata": {
        "id": "CheJLcUpj8R2",
        "colab_type": "code",
        "colab": {}
      },
      "source": [
        "#confusion matrix\n",
        "print(metrics.confusion_matrix(ytest, y_pred))"
      ],
      "execution_count": 0,
      "outputs": []
    },
    {
      "cell_type": "code",
      "metadata": {
        "id": "Re17gq3Z8yfX",
        "colab_type": "code",
        "colab": {}
      },
      "source": [
        "#build the confusion matrix \n",
        "confusion = metrics.confusion_matrix(ytest, y_pred)\n",
        "TP = confusion[1, 1]\n",
        "TN = confusion[0, 0]\n",
        "FP = confusion[0, 1]\n",
        "FN = confusion[1, 0]"
      ],
      "execution_count": 0,
      "outputs": []
    },
    {
      "cell_type": "code",
      "metadata": {
        "id": "WARObF-O6HKf",
        "colab_type": "code",
        "colab": {}
      },
      "source": [
        "#get the classification error \n",
        "classification_error = (FP + FN) / float(TP + TN + FP + FN)\n",
        "\n",
        "print(classification_error)\n",
        "print(1 - metrics.accuracy_score(ytest, y_pred))"
      ],
      "execution_count": 0,
      "outputs": []
    },
    {
      "cell_type": "code",
      "metadata": {
        "id": "ypFdqPM66HNQ",
        "colab_type": "code",
        "colab": {}
      },
      "source": [
        "#get the senitivity \n",
        "sensitivity = TP / float(FN + TP)\n",
        "print(sensitivity)"
      ],
      "execution_count": 0,
      "outputs": []
    },
    {
      "cell_type": "code",
      "metadata": {
        "id": "pmc2dffa9cxT",
        "colab_type": "code",
        "colab": {}
      },
      "source": [
        "#get the specificity \n",
        "specificity = TN / (TN + FP)\n",
        "\n",
        "print(specificity)"
      ],
      "execution_count": 0,
      "outputs": []
    },
    {
      "cell_type": "code",
      "metadata": {
        "id": "2LoEIUo29uLz",
        "colab_type": "code",
        "colab": {}
      },
      "source": [
        "#get the false positive rate \n",
        "false_positive_rate = FP / float(TN + FP)\n",
        "\n",
        "print(false_positive_rate)\n",
        "print(1 - specificity)"
      ],
      "execution_count": 0,
      "outputs": []
    },
    {
      "cell_type": "code",
      "metadata": {
        "id": "ZoVr_-779xQB",
        "colab_type": "code",
        "colab": {}
      },
      "source": [
        "#get the precision \n",
        "precision = TP / float(TP + FP)\n",
        "\n",
        "print(precision)"
      ],
      "execution_count": 0,
      "outputs": []
    },
    {
      "cell_type": "code",
      "metadata": {
        "id": "EM9kYQ2Z9zQ7",
        "colab_type": "code",
        "colab": {}
      },
      "source": [
        ""
      ],
      "execution_count": 0,
      "outputs": []
    }
  ]
}