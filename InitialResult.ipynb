{
  "nbformat": 4,
  "nbformat_minor": 0,
  "metadata": {
    "colab": {
      "name": "Copy of QuoraQuestionPairs.ipynb",
      "provenance": [],
      "collapsed_sections": [],
      "authorship_tag": "ABX9TyO6V3UGsyEHzTUGjaqzVs21",
      "include_colab_link": true
    },
    "kernelspec": {
      "name": "python3",
      "display_name": "Python 3"
    }
  },
  "cells": [
    {
      "cell_type": "markdown",
      "metadata": {
        "id": "view-in-github",
        "colab_type": "text"
      },
      "source": [
        "<a href=\"https://colab.research.google.com/github/SaraKmair/Quora-Question-Pairs/blob/master/InitialResult.ipynb\" target=\"_parent\"><img src=\"https://colab.research.google.com/assets/colab-badge.svg\" alt=\"Open In Colab\"/></a>"
      ]
    },
    {
      "cell_type": "markdown",
      "metadata": {
        "id": "hhNm6d9XJE_T",
        "colab_type": "text"
      },
      "source": [
        "## Upload csv file from Google Drive"
      ]
    },
    {
      "cell_type": "code",
      "metadata": {
        "id": "AUhoQbK_Mryt",
        "colab_type": "code",
        "colab": {}
      },
      "source": [
        "# read csv file from google drive into Colaboratory:\n",
        "!pip install -U -q PyDrive\n",
        "from pydrive.auth import GoogleAuth\n",
        "from pydrive.drive import GoogleDrive\n",
        "from google.colab import auth\n",
        "from oauth2client.client import GoogleCredentials\n",
        "# Authenticate and create the PyDrive client.\n",
        "auth.authenticate_user()\n",
        "gauth = GoogleAuth()\n",
        "gauth.credentials = GoogleCredentials.get_application_default()\n",
        "drive = GoogleDrive(gauth)\n",
        "import pandas as pd"
      ],
      "execution_count": 0,
      "outputs": []
    },
    {
      "cell_type": "code",
      "metadata": {
        "id": "XnnI73PJHmnG",
        "colab_type": "code",
        "colab": {}
      },
      "source": [
        "link = 'https://drive.google.com/open?id=1yuw8KRR_y8e6wY3py9Y2gM7LmJ6m0X2z' # The shareable link"
      ],
      "execution_count": 0,
      "outputs": []
    },
    {
      "cell_type": "code",
      "metadata": {
        "id": "HtqLh2OrICn0",
        "colab_type": "code",
        "outputId": "6b08959b-b2f9-4285-8166-0c080cecb90e",
        "colab": {
          "base_uri": "https://localhost:8080/",
          "height": 34
        }
      },
      "source": [
        "fluff, id = link.split('=')\n",
        "print (id) # Verify that you have everything after '='"
      ],
      "execution_count": 0,
      "outputs": [
        {
          "output_type": "stream",
          "text": [
            "1yuw8KRR_y8e6wY3py9Y2gM7LmJ6m0X2z\n"
          ],
          "name": "stdout"
        }
      ]
    },
    {
      "cell_type": "code",
      "metadata": {
        "id": "9wSm_eSBIxFb",
        "colab_type": "code",
        "colab": {}
      },
      "source": [
        "downloaded = drive.CreateFile({'id':id}) \n",
        "downloaded.GetContentFile('quora_duplicate_questions.tsv')  \n",
        "df = pd.read_csv('quora_duplicate_questions.tsv', sep=\"\\t\")\n",
        "# Dataset is now stored in a Pandas Dataframe"
      ],
      "execution_count": 0,
      "outputs": []
    },
    {
      "cell_type": "markdown",
      "metadata": {
        "id": "3iJv5R1JfCo2",
        "colab_type": "text"
      },
      "source": [
        "## EDA"
      ]
    },
    {
      "cell_type": "code",
      "metadata": {
        "id": "UdQPJvZsPvmH",
        "colab_type": "code",
        "outputId": "26f79aa7-b561-4065-d597-da9b60657aa8",
        "colab": {
          "base_uri": "https://localhost:8080/",
          "height": 204
        }
      },
      "source": [
        "df.head()"
      ],
      "execution_count": 0,
      "outputs": [
        {
          "output_type": "execute_result",
          "data": {
            "text/html": [
              "<div>\n",
              "<style scoped>\n",
              "    .dataframe tbody tr th:only-of-type {\n",
              "        vertical-align: middle;\n",
              "    }\n",
              "\n",
              "    .dataframe tbody tr th {\n",
              "        vertical-align: top;\n",
              "    }\n",
              "\n",
              "    .dataframe thead th {\n",
              "        text-align: right;\n",
              "    }\n",
              "</style>\n",
              "<table border=\"1\" class=\"dataframe\">\n",
              "  <thead>\n",
              "    <tr style=\"text-align: right;\">\n",
              "      <th></th>\n",
              "      <th>id</th>\n",
              "      <th>qid1</th>\n",
              "      <th>qid2</th>\n",
              "      <th>question1</th>\n",
              "      <th>question2</th>\n",
              "      <th>is_duplicate</th>\n",
              "    </tr>\n",
              "  </thead>\n",
              "  <tbody>\n",
              "    <tr>\n",
              "      <th>0</th>\n",
              "      <td>0</td>\n",
              "      <td>1</td>\n",
              "      <td>2</td>\n",
              "      <td>What is the step by step guide to invest in sh...</td>\n",
              "      <td>What is the step by step guide to invest in sh...</td>\n",
              "      <td>0</td>\n",
              "    </tr>\n",
              "    <tr>\n",
              "      <th>1</th>\n",
              "      <td>1</td>\n",
              "      <td>3</td>\n",
              "      <td>4</td>\n",
              "      <td>What is the story of Kohinoor (Koh-i-Noor) Dia...</td>\n",
              "      <td>What would happen if the Indian government sto...</td>\n",
              "      <td>0</td>\n",
              "    </tr>\n",
              "    <tr>\n",
              "      <th>2</th>\n",
              "      <td>2</td>\n",
              "      <td>5</td>\n",
              "      <td>6</td>\n",
              "      <td>How can I increase the speed of my internet co...</td>\n",
              "      <td>How can Internet speed be increased by hacking...</td>\n",
              "      <td>0</td>\n",
              "    </tr>\n",
              "    <tr>\n",
              "      <th>3</th>\n",
              "      <td>3</td>\n",
              "      <td>7</td>\n",
              "      <td>8</td>\n",
              "      <td>Why am I mentally very lonely? How can I solve...</td>\n",
              "      <td>Find the remainder when [math]23^{24}[/math] i...</td>\n",
              "      <td>0</td>\n",
              "    </tr>\n",
              "    <tr>\n",
              "      <th>4</th>\n",
              "      <td>4</td>\n",
              "      <td>9</td>\n",
              "      <td>10</td>\n",
              "      <td>Which one dissolve in water quikly sugar, salt...</td>\n",
              "      <td>Which fish would survive in salt water?</td>\n",
              "      <td>0</td>\n",
              "    </tr>\n",
              "  </tbody>\n",
              "</table>\n",
              "</div>"
            ],
            "text/plain": [
              "   id  qid1  ...                                          question2 is_duplicate\n",
              "0   0     1  ...  What is the step by step guide to invest in sh...            0\n",
              "1   1     3  ...  What would happen if the Indian government sto...            0\n",
              "2   2     5  ...  How can Internet speed be increased by hacking...            0\n",
              "3   3     7  ...  Find the remainder when [math]23^{24}[/math] i...            0\n",
              "4   4     9  ...            Which fish would survive in salt water?            0\n",
              "\n",
              "[5 rows x 6 columns]"
            ]
          },
          "metadata": {
            "tags": []
          },
          "execution_count": 9
        }
      ]
    },
    {
      "cell_type": "code",
      "metadata": {
        "id": "GNDT9JkdPxgk",
        "colab_type": "code",
        "colab": {}
      },
      "source": [
        "#importing the libraries \n",
        "import pandas as pd #for data handeling \n",
        "import numpy as np \n",
        "import re #for regular expression \n",
        "import string \n",
        "import seaborn as sns\n",
        "import nltk #natural language tool kit \n",
        "from sklearn.feature_extraction.text import TfidfVectorizer\n",
        "import matplotlib.pyplot as plt\n",
        "from scipy.sparse import hstack\n",
        "from nltk import sent_tokenize, word_tokenize\n",
        "from nltk import corpus\n",
        "from nltk.stem import PorterStemmer\n",
        "from sklearn.model_selection import train_test_split\n",
        "from sklearn.feature_extraction.text import TfidfVectorizer"
      ],
      "execution_count": 0,
      "outputs": []
    },
    {
      "cell_type": "code",
      "metadata": {
        "id": "jwQEpsNTQ4Lv",
        "colab_type": "code",
        "outputId": "ddd81507-e2bc-448a-8499-7f8e5484e216",
        "colab": {
          "base_uri": "https://localhost:8080/",
          "height": 34
        }
      },
      "source": [
        "df.shape"
      ],
      "execution_count": 0,
      "outputs": [
        {
          "output_type": "execute_result",
          "data": {
            "text/plain": [
              "(404290, 6)"
            ]
          },
          "metadata": {
            "tags": []
          },
          "execution_count": 11
        }
      ]
    },
    {
      "cell_type": "code",
      "metadata": {
        "id": "CYLihY5NQ9RR",
        "colab_type": "code",
        "outputId": "72b8d520-94c6-46ef-a52e-83ad0ab0d74d",
        "colab": {
          "base_uri": "https://localhost:8080/",
          "height": 136
        }
      },
      "source": [
        "df.dtypes"
      ],
      "execution_count": 0,
      "outputs": [
        {
          "output_type": "execute_result",
          "data": {
            "text/plain": [
              "id               int64\n",
              "qid1             int64\n",
              "qid2             int64\n",
              "question1       object\n",
              "question2       object\n",
              "is_duplicate     int64\n",
              "dtype: object"
            ]
          },
          "metadata": {
            "tags": []
          },
          "execution_count": 12
        }
      ]
    },
    {
      "cell_type": "code",
      "metadata": {
        "id": "dgQR4_wTUhM5",
        "colab_type": "code",
        "outputId": "72eab916-019c-4ca4-d7ec-9541e2917207",
        "colab": {
          "base_uri": "https://localhost:8080/",
          "height": 136
        }
      },
      "source": [
        "#checking for Null values \n",
        "df.isnull().sum()"
      ],
      "execution_count": 0,
      "outputs": [
        {
          "output_type": "execute_result",
          "data": {
            "text/plain": [
              "id              0\n",
              "qid1            0\n",
              "qid2            0\n",
              "question1       1\n",
              "question2       2\n",
              "is_duplicate    0\n",
              "dtype: int64"
            ]
          },
          "metadata": {
            "tags": []
          },
          "execution_count": 13
        }
      ]
    },
    {
      "cell_type": "code",
      "metadata": {
        "id": "Rj7d329oQ_ZC",
        "colab_type": "code",
        "colab": {}
      },
      "source": [
        "#remove the missing values \n",
        "df = df.dropna().reset_index(drop = True)\n",
        "df.isnull().sum()\n",
        "#renaming is_duplicate column\n",
        "df.rename(columns = {'is_duplicate': 'label'}, inplace = True)"
      ],
      "execution_count": 0,
      "outputs": []
    },
    {
      "cell_type": "code",
      "metadata": {
        "id": "HaYPC8RDRILF",
        "colab_type": "code",
        "colab": {}
      },
      "source": [
        "\n",
        "\n"
      ],
      "execution_count": 0,
      "outputs": []
    },
    {
      "cell_type": "markdown",
      "metadata": {
        "id": "4XMhWBu0RPAS",
        "colab_type": "text"
      },
      "source": [
        "\n",
        "**Meta data** <br />\n",
        "\n",
        "**Id** a simple rowID. <br />\n",
        "**qid{1, 2}** The unique ID of each question in the pair. <br />\n",
        "**question{1, 2}** The actual textual contents of the questions. <br />\n",
        "**is_duplicate** The label that we are trying to predict - whether the two questions are duplicates of each other. <br />"
      ]
    },
    {
      "cell_type": "code",
      "metadata": {
        "id": "RTmEabBcRU5S",
        "colab_type": "code",
        "outputId": "920ecdc1-a7b9-4e55-f4b6-8c892a76645b",
        "colab": {
          "base_uri": "https://localhost:8080/",
          "height": 68
        }
      },
      "source": [
        "#check data balance \n",
        "(df['label'].value_counts() /len(df.label))*100"
      ],
      "execution_count": 0,
      "outputs": [
        {
          "output_type": "execute_result",
          "data": {
            "text/plain": [
              "0    63.079941\n",
              "1    36.920059\n",
              "Name: label, dtype: float64"
            ]
          },
          "metadata": {
            "tags": []
          },
          "execution_count": 15
        }
      ]
    },
    {
      "cell_type": "markdown",
      "metadata": {
        "id": "6kkLlMCnRbf6",
        "colab_type": "text"
      },
      "source": [
        "63% is non-duplicate questions <br />\n",
        "36.9% is duplicate questions"
      ]
    },
    {
      "cell_type": "code",
      "metadata": {
        "id": "QLoQkHlARcKn",
        "colab_type": "code",
        "outputId": "ac980b17-83cb-4078-88b6-18f96bef890c",
        "colab": {
          "base_uri": "https://localhost:8080/",
          "height": 204
        }
      },
      "source": [
        "#exmple of duplicate questions\n",
        "\n",
        "df.loc[df['label'] == 1].head()"
      ],
      "execution_count": 0,
      "outputs": [
        {
          "output_type": "execute_result",
          "data": {
            "text/html": [
              "<div>\n",
              "<style scoped>\n",
              "    .dataframe tbody tr th:only-of-type {\n",
              "        vertical-align: middle;\n",
              "    }\n",
              "\n",
              "    .dataframe tbody tr th {\n",
              "        vertical-align: top;\n",
              "    }\n",
              "\n",
              "    .dataframe thead th {\n",
              "        text-align: right;\n",
              "    }\n",
              "</style>\n",
              "<table border=\"1\" class=\"dataframe\">\n",
              "  <thead>\n",
              "    <tr style=\"text-align: right;\">\n",
              "      <th></th>\n",
              "      <th>id</th>\n",
              "      <th>qid1</th>\n",
              "      <th>qid2</th>\n",
              "      <th>question1</th>\n",
              "      <th>question2</th>\n",
              "      <th>label</th>\n",
              "    </tr>\n",
              "  </thead>\n",
              "  <tbody>\n",
              "    <tr>\n",
              "      <th>5</th>\n",
              "      <td>5</td>\n",
              "      <td>11</td>\n",
              "      <td>12</td>\n",
              "      <td>Astrology: I am a Capricorn Sun Cap moon and c...</td>\n",
              "      <td>I'm a triple Capricorn (Sun, Moon and ascendan...</td>\n",
              "      <td>1</td>\n",
              "    </tr>\n",
              "    <tr>\n",
              "      <th>7</th>\n",
              "      <td>7</td>\n",
              "      <td>15</td>\n",
              "      <td>16</td>\n",
              "      <td>How can I be a good geologist?</td>\n",
              "      <td>What should I do to be a great geologist?</td>\n",
              "      <td>1</td>\n",
              "    </tr>\n",
              "    <tr>\n",
              "      <th>11</th>\n",
              "      <td>11</td>\n",
              "      <td>23</td>\n",
              "      <td>24</td>\n",
              "      <td>How do I read and find my YouTube comments?</td>\n",
              "      <td>How can I see all my Youtube comments?</td>\n",
              "      <td>1</td>\n",
              "    </tr>\n",
              "    <tr>\n",
              "      <th>12</th>\n",
              "      <td>12</td>\n",
              "      <td>25</td>\n",
              "      <td>26</td>\n",
              "      <td>What can make Physics easy to learn?</td>\n",
              "      <td>How can you make physics easy to learn?</td>\n",
              "      <td>1</td>\n",
              "    </tr>\n",
              "    <tr>\n",
              "      <th>13</th>\n",
              "      <td>13</td>\n",
              "      <td>27</td>\n",
              "      <td>28</td>\n",
              "      <td>What was your first sexual experience like?</td>\n",
              "      <td>What was your first sexual experience?</td>\n",
              "      <td>1</td>\n",
              "    </tr>\n",
              "  </tbody>\n",
              "</table>\n",
              "</div>"
            ],
            "text/plain": [
              "    id  qid1  ...                                          question2 label\n",
              "5    5    11  ...  I'm a triple Capricorn (Sun, Moon and ascendan...     1\n",
              "7    7    15  ...          What should I do to be a great geologist?     1\n",
              "11  11    23  ...             How can I see all my Youtube comments?     1\n",
              "12  12    25  ...            How can you make physics easy to learn?     1\n",
              "13  13    27  ...             What was your first sexual experience?     1\n",
              "\n",
              "[5 rows x 6 columns]"
            ]
          },
          "metadata": {
            "tags": []
          },
          "execution_count": 16
        }
      ]
    },
    {
      "cell_type": "code",
      "metadata": {
        "id": "dDss-lxbRgRf",
        "colab_type": "code",
        "outputId": "a9dd6b40-f82b-456a-cbc6-f2af860f7fd7",
        "colab": {
          "base_uri": "https://localhost:8080/",
          "height": 204
        }
      },
      "source": [
        "#exmple of non duplicate questions\n",
        "\n",
        "df.loc[df['label'] == 0].head()"
      ],
      "execution_count": 0,
      "outputs": [
        {
          "output_type": "execute_result",
          "data": {
            "text/html": [
              "<div>\n",
              "<style scoped>\n",
              "    .dataframe tbody tr th:only-of-type {\n",
              "        vertical-align: middle;\n",
              "    }\n",
              "\n",
              "    .dataframe tbody tr th {\n",
              "        vertical-align: top;\n",
              "    }\n",
              "\n",
              "    .dataframe thead th {\n",
              "        text-align: right;\n",
              "    }\n",
              "</style>\n",
              "<table border=\"1\" class=\"dataframe\">\n",
              "  <thead>\n",
              "    <tr style=\"text-align: right;\">\n",
              "      <th></th>\n",
              "      <th>id</th>\n",
              "      <th>qid1</th>\n",
              "      <th>qid2</th>\n",
              "      <th>question1</th>\n",
              "      <th>question2</th>\n",
              "      <th>label</th>\n",
              "    </tr>\n",
              "  </thead>\n",
              "  <tbody>\n",
              "    <tr>\n",
              "      <th>0</th>\n",
              "      <td>0</td>\n",
              "      <td>1</td>\n",
              "      <td>2</td>\n",
              "      <td>What is the step by step guide to invest in sh...</td>\n",
              "      <td>What is the step by step guide to invest in sh...</td>\n",
              "      <td>0</td>\n",
              "    </tr>\n",
              "    <tr>\n",
              "      <th>1</th>\n",
              "      <td>1</td>\n",
              "      <td>3</td>\n",
              "      <td>4</td>\n",
              "      <td>What is the story of Kohinoor (Koh-i-Noor) Dia...</td>\n",
              "      <td>What would happen if the Indian government sto...</td>\n",
              "      <td>0</td>\n",
              "    </tr>\n",
              "    <tr>\n",
              "      <th>2</th>\n",
              "      <td>2</td>\n",
              "      <td>5</td>\n",
              "      <td>6</td>\n",
              "      <td>How can I increase the speed of my internet co...</td>\n",
              "      <td>How can Internet speed be increased by hacking...</td>\n",
              "      <td>0</td>\n",
              "    </tr>\n",
              "    <tr>\n",
              "      <th>3</th>\n",
              "      <td>3</td>\n",
              "      <td>7</td>\n",
              "      <td>8</td>\n",
              "      <td>Why am I mentally very lonely? How can I solve...</td>\n",
              "      <td>Find the remainder when [math]23^{24}[/math] i...</td>\n",
              "      <td>0</td>\n",
              "    </tr>\n",
              "    <tr>\n",
              "      <th>4</th>\n",
              "      <td>4</td>\n",
              "      <td>9</td>\n",
              "      <td>10</td>\n",
              "      <td>Which one dissolve in water quikly sugar, salt...</td>\n",
              "      <td>Which fish would survive in salt water?</td>\n",
              "      <td>0</td>\n",
              "    </tr>\n",
              "  </tbody>\n",
              "</table>\n",
              "</div>"
            ],
            "text/plain": [
              "   id  qid1  ...                                          question2 label\n",
              "0   0     1  ...  What is the step by step guide to invest in sh...     0\n",
              "1   1     3  ...  What would happen if the Indian government sto...     0\n",
              "2   2     5  ...  How can Internet speed be increased by hacking...     0\n",
              "3   3     7  ...  Find the remainder when [math]23^{24}[/math] i...     0\n",
              "4   4     9  ...            Which fish would survive in salt water?     0\n",
              "\n",
              "[5 rows x 6 columns]"
            ]
          },
          "metadata": {
            "tags": []
          },
          "execution_count": 17
        }
      ]
    },
    {
      "cell_type": "code",
      "metadata": {
        "id": "M0JbPR8sRnlQ",
        "colab_type": "code",
        "colab": {}
      },
      "source": [
        "\n"
      ],
      "execution_count": 0,
      "outputs": []
    },
    {
      "cell_type": "markdown",
      "metadata": {
        "id": "XlnUwJwTRqqu",
        "colab_type": "text"
      },
      "source": [
        "\n",
        "## Word Count in each question"
      ]
    },
    {
      "cell_type": "code",
      "metadata": {
        "id": "Z5uxMnzvRsWr",
        "colab_type": "code",
        "outputId": "642d2708-7c15-44e2-c208-41b34f11b040",
        "colab": {
          "base_uri": "https://localhost:8080/",
          "height": 204
        }
      },
      "source": [
        "#word count in each question \n",
        "df['count1'] = df['question1'].str.count(' ') + 1\n",
        "df['count2'] = df['question2'].str.count(' ') + 1\n",
        "df.head()"
      ],
      "execution_count": 0,
      "outputs": [
        {
          "output_type": "execute_result",
          "data": {
            "text/html": [
              "<div>\n",
              "<style scoped>\n",
              "    .dataframe tbody tr th:only-of-type {\n",
              "        vertical-align: middle;\n",
              "    }\n",
              "\n",
              "    .dataframe tbody tr th {\n",
              "        vertical-align: top;\n",
              "    }\n",
              "\n",
              "    .dataframe thead th {\n",
              "        text-align: right;\n",
              "    }\n",
              "</style>\n",
              "<table border=\"1\" class=\"dataframe\">\n",
              "  <thead>\n",
              "    <tr style=\"text-align: right;\">\n",
              "      <th></th>\n",
              "      <th>id</th>\n",
              "      <th>qid1</th>\n",
              "      <th>qid2</th>\n",
              "      <th>question1</th>\n",
              "      <th>question2</th>\n",
              "      <th>label</th>\n",
              "      <th>count1</th>\n",
              "      <th>count2</th>\n",
              "    </tr>\n",
              "  </thead>\n",
              "  <tbody>\n",
              "    <tr>\n",
              "      <th>0</th>\n",
              "      <td>0</td>\n",
              "      <td>1</td>\n",
              "      <td>2</td>\n",
              "      <td>What is the step by step guide to invest in sh...</td>\n",
              "      <td>What is the step by step guide to invest in sh...</td>\n",
              "      <td>0</td>\n",
              "      <td>14</td>\n",
              "      <td>12</td>\n",
              "    </tr>\n",
              "    <tr>\n",
              "      <th>1</th>\n",
              "      <td>1</td>\n",
              "      <td>3</td>\n",
              "      <td>4</td>\n",
              "      <td>What is the story of Kohinoor (Koh-i-Noor) Dia...</td>\n",
              "      <td>What would happen if the Indian government sto...</td>\n",
              "      <td>0</td>\n",
              "      <td>8</td>\n",
              "      <td>13</td>\n",
              "    </tr>\n",
              "    <tr>\n",
              "      <th>2</th>\n",
              "      <td>2</td>\n",
              "      <td>5</td>\n",
              "      <td>6</td>\n",
              "      <td>How can I increase the speed of my internet co...</td>\n",
              "      <td>How can Internet speed be increased by hacking...</td>\n",
              "      <td>0</td>\n",
              "      <td>14</td>\n",
              "      <td>10</td>\n",
              "    </tr>\n",
              "    <tr>\n",
              "      <th>3</th>\n",
              "      <td>3</td>\n",
              "      <td>7</td>\n",
              "      <td>8</td>\n",
              "      <td>Why am I mentally very lonely? How can I solve...</td>\n",
              "      <td>Find the remainder when [math]23^{24}[/math] i...</td>\n",
              "      <td>0</td>\n",
              "      <td>11</td>\n",
              "      <td>9</td>\n",
              "    </tr>\n",
              "    <tr>\n",
              "      <th>4</th>\n",
              "      <td>4</td>\n",
              "      <td>9</td>\n",
              "      <td>10</td>\n",
              "      <td>Which one dissolve in water quikly sugar, salt...</td>\n",
              "      <td>Which fish would survive in salt water?</td>\n",
              "      <td>0</td>\n",
              "      <td>13</td>\n",
              "      <td>7</td>\n",
              "    </tr>\n",
              "  </tbody>\n",
              "</table>\n",
              "</div>"
            ],
            "text/plain": [
              "   id  qid1  qid2  ... label count1  count2\n",
              "0   0     1     2  ...     0     14      12\n",
              "1   1     3     4  ...     0      8      13\n",
              "2   2     5     6  ...     0     14      10\n",
              "3   3     7     8  ...     0     11       9\n",
              "4   4     9    10  ...     0     13       7\n",
              "\n",
              "[5 rows x 8 columns]"
            ]
          },
          "metadata": {
            "tags": []
          },
          "execution_count": 18
        }
      ]
    },
    {
      "cell_type": "code",
      "metadata": {
        "id": "U-8BuAM2-OgX",
        "colab_type": "code",
        "outputId": "976271e6-936a-4b3c-96c1-3b50dbd1eae0",
        "colab": {
          "base_uri": "https://localhost:8080/",
          "height": 34
        }
      },
      "source": [
        "#check the percentage of questions that are longer than 50 words \n",
        "(df[df['count2'] > 50 ].shape[0] / len(df.count2))*100"
      ],
      "execution_count": 0,
      "outputs": [
        {
          "output_type": "execute_result",
          "data": {
            "text/plain": [
              "0.18427503234088655"
            ]
          },
          "metadata": {
            "tags": []
          },
          "execution_count": 19
        }
      ]
    },
    {
      "cell_type": "code",
      "metadata": {
        "id": "l0qNmr1BV9vL",
        "colab_type": "code",
        "outputId": "05cc2fda-cee0-49bd-a935-119748bc7c9c",
        "colab": {
          "base_uri": "https://localhost:8080/",
          "height": 34
        }
      },
      "source": [
        "(df[df['count1'] > 50 ].shape[0] / len(df.count2))*100"
      ],
      "execution_count": 0,
      "outputs": [
        {
          "output_type": "execute_result",
          "data": {
            "text/plain": [
              "0.04699631697284355"
            ]
          },
          "metadata": {
            "tags": []
          },
          "execution_count": 20
        }
      ]
    },
    {
      "cell_type": "code",
      "metadata": {
        "id": "Zg3vH4c0alb1",
        "colab_type": "code",
        "outputId": "312fef98-d9fc-4269-83c8-e04a9e75012c",
        "colab": {
          "base_uri": "https://localhost:8080/",
          "height": 419
        }
      },
      "source": [
        "df[df['count2']> 50 ]"
      ],
      "execution_count": 0,
      "outputs": [
        {
          "output_type": "execute_result",
          "data": {
            "text/html": [
              "<div>\n",
              "<style scoped>\n",
              "    .dataframe tbody tr th:only-of-type {\n",
              "        vertical-align: middle;\n",
              "    }\n",
              "\n",
              "    .dataframe tbody tr th {\n",
              "        vertical-align: top;\n",
              "    }\n",
              "\n",
              "    .dataframe thead th {\n",
              "        text-align: right;\n",
              "    }\n",
              "</style>\n",
              "<table border=\"1\" class=\"dataframe\">\n",
              "  <thead>\n",
              "    <tr style=\"text-align: right;\">\n",
              "      <th></th>\n",
              "      <th>id</th>\n",
              "      <th>qid1</th>\n",
              "      <th>qid2</th>\n",
              "      <th>question1</th>\n",
              "      <th>question2</th>\n",
              "      <th>label</th>\n",
              "      <th>count1</th>\n",
              "      <th>count2</th>\n",
              "    </tr>\n",
              "  </thead>\n",
              "  <tbody>\n",
              "    <tr>\n",
              "      <th>1671</th>\n",
              "      <td>1671</td>\n",
              "      <td>3327</td>\n",
              "      <td>3328</td>\n",
              "      <td>What are some interesting differences between ...</td>\n",
              "      <td>Is it weird for a 'hearing' person with no dea...</td>\n",
              "      <td>0</td>\n",
              "      <td>13</td>\n",
              "      <td>53</td>\n",
              "    </tr>\n",
              "    <tr>\n",
              "      <th>2395</th>\n",
              "      <td>2395</td>\n",
              "      <td>4761</td>\n",
              "      <td>4762</td>\n",
              "      <td>I emailed my interviewer after the technical i...</td>\n",
              "      <td>I have applied for the Thought Works company t...</td>\n",
              "      <td>0</td>\n",
              "      <td>22</td>\n",
              "      <td>52</td>\n",
              "    </tr>\n",
              "    <tr>\n",
              "      <th>2580</th>\n",
              "      <td>2580</td>\n",
              "      <td>5126</td>\n",
              "      <td>5127</td>\n",
              "      <td>Is it a good idea for a CEO to take personal c...</td>\n",
              "      <td>A person I know has an idea for a mobile appli...</td>\n",
              "      <td>0</td>\n",
              "      <td>28</td>\n",
              "      <td>58</td>\n",
              "    </tr>\n",
              "    <tr>\n",
              "      <th>2632</th>\n",
              "      <td>2632</td>\n",
              "      <td>5230</td>\n",
              "      <td>5231</td>\n",
              "      <td>I have done a diploma in mechanical engineerin...</td>\n",
              "      <td>I have completed a 1-year diploma in fashion d...</td>\n",
              "      <td>0</td>\n",
              "      <td>22</td>\n",
              "      <td>54</td>\n",
              "    </tr>\n",
              "    <tr>\n",
              "      <th>2702</th>\n",
              "      <td>2702</td>\n",
              "      <td>76</td>\n",
              "      <td>5366</td>\n",
              "      <td>My girlfriend said that we should end this bec...</td>\n",
              "      <td>After 2 years being in a relationship my girlf...</td>\n",
              "      <td>0</td>\n",
              "      <td>37</td>\n",
              "      <td>51</td>\n",
              "    </tr>\n",
              "    <tr>\n",
              "      <th>...</th>\n",
              "      <td>...</td>\n",
              "      <td>...</td>\n",
              "      <td>...</td>\n",
              "      <td>...</td>\n",
              "      <td>...</td>\n",
              "      <td>...</td>\n",
              "      <td>...</td>\n",
              "      <td>...</td>\n",
              "    </tr>\n",
              "    <tr>\n",
              "      <th>402651</th>\n",
              "      <td>402654</td>\n",
              "      <td>536154</td>\n",
              "      <td>536155</td>\n",
              "      <td>Solve this for all masterminds !!             ...</td>\n",
              "      <td>Solve this for all masterkminds!!             ...</td>\n",
              "      <td>0</td>\n",
              "      <td>65</td>\n",
              "      <td>55</td>\n",
              "    </tr>\n",
              "    <tr>\n",
              "      <th>403753</th>\n",
              "      <td>403756</td>\n",
              "      <td>427820</td>\n",
              "      <td>537352</td>\n",
              "      <td>I was fired from my job and my boss didn't giv...</td>\n",
              "      <td>I got fired from my job and today I found out ...</td>\n",
              "      <td>0</td>\n",
              "      <td>32</td>\n",
              "      <td>51</td>\n",
              "    </tr>\n",
              "    <tr>\n",
              "      <th>403853</th>\n",
              "      <td>403856</td>\n",
              "      <td>537475</td>\n",
              "      <td>537476</td>\n",
              "      <td>My 10-year-old son is so lazy and irresponsibl...</td>\n",
              "      <td>My Son, 7 years old, walked into my room cryin...</td>\n",
              "      <td>0</td>\n",
              "      <td>14</td>\n",
              "      <td>53</td>\n",
              "    </tr>\n",
              "    <tr>\n",
              "      <th>404061</th>\n",
              "      <td>404064</td>\n",
              "      <td>537695</td>\n",
              "      <td>537696</td>\n",
              "      <td>Are cookies stored on my device even if I have...</td>\n",
              "      <td>I have 10 years of experience in human resourc...</td>\n",
              "      <td>0</td>\n",
              "      <td>25</td>\n",
              "      <td>60</td>\n",
              "    </tr>\n",
              "    <tr>\n",
              "      <th>404066</th>\n",
              "      <td>404069</td>\n",
              "      <td>176271</td>\n",
              "      <td>537702</td>\n",
              "      <td>My computer isn't working any more. How can I ...</td>\n",
              "      <td>Whole fight card for UFC on Fuel TV 9, 6th Apr...</td>\n",
              "      <td>0</td>\n",
              "      <td>17</td>\n",
              "      <td>134</td>\n",
              "    </tr>\n",
              "  </tbody>\n",
              "</table>\n",
              "<p>745 rows × 8 columns</p>\n",
              "</div>"
            ],
            "text/plain": [
              "            id    qid1    qid2  ... label count1  count2\n",
              "1671      1671    3327    3328  ...     0     13      53\n",
              "2395      2395    4761    4762  ...     0     22      52\n",
              "2580      2580    5126    5127  ...     0     28      58\n",
              "2632      2632    5230    5231  ...     0     22      54\n",
              "2702      2702      76    5366  ...     0     37      51\n",
              "...        ...     ...     ...  ...   ...    ...     ...\n",
              "402651  402654  536154  536155  ...     0     65      55\n",
              "403753  403756  427820  537352  ...     0     32      51\n",
              "403853  403856  537475  537476  ...     0     14      53\n",
              "404061  404064  537695  537696  ...     0     25      60\n",
              "404066  404069  176271  537702  ...     0     17     134\n",
              "\n",
              "[745 rows x 8 columns]"
            ]
          },
          "metadata": {
            "tags": []
          },
          "execution_count": 21
        }
      ]
    },
    {
      "cell_type": "markdown",
      "metadata": {
        "id": "QyZA9k7oV-PO",
        "colab_type": "text"
      },
      "source": [
        "**Common Words**"
      ]
    },
    {
      "cell_type": "code",
      "metadata": {
        "id": "9Q_mX0AEV7Cl",
        "colab_type": "code",
        "outputId": "13659cdf-7137-4af3-9215-fcac9fb014e3",
        "colab": {
          "base_uri": "https://localhost:8080/",
          "height": 884
        }
      },
      "source": [
        "#check top 50 common words \n",
        "freq1 = pd.Series(' '.join(df['question1']).split()).value_counts()[:50]\n",
        "freq2 = pd.Series(' '.join(df['question2']).split()).value_counts()[:50]\n",
        "freq1\n",
        "freq2"
      ],
      "execution_count": 0,
      "outputs": [
        {
          "output_type": "execute_result",
          "data": {
            "text/plain": [
              "the        185705\n",
              "What       145227\n",
              "I          111373\n",
              "a          108129\n",
              "is         107996\n",
              "to         105548\n",
              "How        101502\n",
              "in          95603\n",
              "of          79251\n",
              "do          71125\n",
              "are         66677\n",
              "and         65165\n",
              "for         50578\n",
              "can         44655\n",
              "you         42288\n",
              "best        35532\n",
              "my          34598\n",
              "Why         34578\n",
              "it          30091\n",
              "on          29195\n",
              "Is          27048\n",
              "be          22076\n",
              "or          21493\n",
              "does        21423\n",
              "some        20778\n",
              "that        20108\n",
              "get         20002\n",
              "have        19487\n",
              "with        19324\n",
              "an          18834\n",
              "Which       17961\n",
              "your        16774\n",
              "from        16740\n",
              "should      15949\n",
              "if          14041\n",
              "Can         13110\n",
              "at          12280\n",
              "good        12118\n",
              "people      12099\n",
              "like        11315\n",
              "there       11068\n",
              "as          10915\n",
              "would       10569\n",
              "will        10408\n",
              "about       10058\n",
              "most         9486\n",
              "when         9315\n",
              "make         9183\n",
              "what         9141\n",
              "between      9132\n",
              "dtype: int64"
            ]
          },
          "metadata": {
            "tags": []
          },
          "execution_count": 22
        }
      ]
    },
    {
      "cell_type": "code",
      "metadata": {
        "id": "no_5hC7k7WXT",
        "colab_type": "code",
        "colab": {}
      },
      "source": [
        "question1 = list(df['question1'])\n",
        "question2 = list(df['question2'])"
      ],
      "execution_count": 0,
      "outputs": []
    },
    {
      "cell_type": "code",
      "metadata": {
        "id": "BHvLSxFMRvQP",
        "colab_type": "code",
        "outputId": "079d0ffa-752a-45c0-bc1c-a047fa8013f2",
        "colab": {
          "base_uri": "https://localhost:8080/",
          "height": 51
        }
      },
      "source": [
        "#check the percent of invalid questions \n",
        "#check for invalid questions \n",
        "invalid_questions = []\n",
        "for i in range(len(question1)):\n",
        "    # questions need to contain a vowel to be valid \n",
        "    if not re.search('[aeiouy]', question1[i]) or not re.search('[aeiouy]', question2[i]):\n",
        "    # check length the invalid questions to remove them\n",
        "        invalid_questions.append(i-len(invalid_questions))\n",
        "print(len(invalid_questions))\n",
        "len(invalid_questions)/len(question1) "
      ],
      "execution_count": 0,
      "outputs": [
        {
          "output_type": "stream",
          "text": [
            "172\n"
          ],
          "name": "stdout"
        },
        {
          "output_type": "execute_result",
          "data": {
            "text/plain": [
              "0.0004254403431225837"
            ]
          },
          "metadata": {
            "tags": []
          },
          "execution_count": 24
        }
      ]
    },
    {
      "cell_type": "markdown",
      "metadata": {
        "id": "T2TbU_eoRxVG",
        "colab_type": "text"
      },
      "source": [
        "\n",
        "## DataVisualization"
      ]
    },
    {
      "cell_type": "code",
      "metadata": {
        "id": "wiuZYXSWRybZ",
        "colab_type": "code",
        "outputId": "cde00887-31c6-4191-9c3e-71b5f1abde7d",
        "colab": {
          "base_uri": "https://localhost:8080/",
          "height": 857
        }
      },
      "source": [
        "#Histogram of word count 1 & 2\n",
        "#distribution of wordcount for question 1 \n",
        "\n",
        "sns.set()\n",
        "bin_edges = [0,5,20,25,20,25,30,35,40,45,50]\n",
        "_ = plt.hist(df['count1'], bins=range(min(df['count1']), max(df['count1']) + 5, 5))\n",
        "_ = plt.xlabel('word count')\n",
        "_ = plt.ylabel('Frequency')\n",
        "plt.title('histogram of word count in question1',fontsize=15)\n",
        "plt.xlim(min(bin_edges), max(bin_edges))\n",
        "plt.show()\n",
        "\n",
        "#distribution of wordcount for question 2\n",
        "sns.set()\n",
        "bin_edges = [0,5,20,25,20,25,30,35,40,45,50]\n",
        "_ = plt.hist(df['count2'], bins=range(min(df['count2']), max(df['count2']) + 5, 5))\n",
        "_ = plt.xlabel('word count')\n",
        "_ = plt.ylabel('Frequency ')\n",
        "plt.title('histogram of word count in question2',fontsize=15)\n",
        "plt.xlim(min(bin_edges), max(bin_edges))\n",
        "\n",
        "plt.show()\n",
        "\n",
        "#label count \n",
        "sns.countplot(x = 'label', data = df, palette = 'hls')\n",
        "plt.show()\n",
        "\n"
      ],
      "execution_count": 0,
      "outputs": [
        {
          "output_type": "display_data",
          "data": {
            "image/png": "[encoded data removed]",
            "text/plain": [
              "<Figure size 432x288 with 1 Axes>"
            ]
          },
          "metadata": {
            "tags": []
          }
        },
        {
          "output_type": "display_data",
          "data": {
            "image/png": "[encoded data removed]",
            "text/plain": [
              "<Figure size 432x288 with 1 Axes>"
            ]
          },
          "metadata": {
            "tags": []
          }
        },
        {
          "output_type": "display_data",
          "data": {
            "image/png": "[encoded data removed]",
            "text/plain": [
              "<Figure size 432x288 with 1 Axes>"
            ]
          },
          "metadata": {
            "tags": []
          }
        }
      ]
    },
    {
      "cell_type": "code",
      "metadata": {
        "id": "9dsroRI2m4Qo",
        "colab_type": "code",
        "outputId": "f1626125-a7c2-462f-bbb6-6e06f425aa2e",
        "colab": {
          "base_uri": "https://localhost:8080/",
          "height": 248
        }
      },
      "source": [
        "from wordcloud import WordCloud \n",
        "freq1_letters = re.sub(\"[^a-zA-Z]\",  # Search for all non-letters\n",
        "                          \" \",          # Replace all non-letters with spaces as word cloud accept string only \n",
        "                          str(question1))\n",
        "wordcloud=WordCloud(background_color='white',mode=\"RGB\", width=3000 , height=2000, max_words= 40, min_font_size=15).generate(freq1_letters) \n",
        "plt.figure()\n",
        "plt.imshow(wordcloud, interpolation=\"bilinear\")\n",
        "plt.axis(\"off\")\n",
        "plt.show()"
      ],
      "execution_count": 0,
      "outputs": [
        {
          "output_type": "display_data",
          "data": {
            "image/png": "[encoded data removed]",
            "text/plain": [
              "<Figure size 432x288 with 1 Axes>"
            ]
          },
          "metadata": {
            "tags": []
          }
        }
      ]
    },
    {
      "cell_type": "code",
      "metadata": {
        "id": "nPXJc7i9R4b5",
        "colab_type": "code",
        "outputId": "e3f744a4-62f1-481b-f11b-a0dfbdf05e22",
        "colab": {
          "base_uri": "https://localhost:8080/",
          "height": 198
        }
      },
      "source": [
        "freq2_letters = re.sub(\"[^a-zA-Z]\",  # Search for all non-letters\n",
        "                          \" \",          # Replace all non-letters with spaces as word cloud accept string only \n",
        "                          str(question2))\n",
        "wordcloud=WordCloud(background_color='white',mode=\"RGB\", width=2000 , height=1000, max_words= 40, min_font_size=15).generate(freq2_letters) \n",
        "plt.figure()\n",
        "plt.imshow(wordcloud, interpolation=\"bilinear\")\n",
        "plt.axis(\"off\")\n",
        "plt.show()\n"
      ],
      "execution_count": 0,
      "outputs": [
        {
          "output_type": "display_data",
          "data": {
            "image/png": "[encoded data removed]",
            "text/plain": [
              "<Figure size 432x288 with 1 Axes>"
            ]
          },
          "metadata": {
            "tags": []
          }
        }
      ]
    },
    {
      "cell_type": "markdown",
      "metadata": {
        "id": "iT8NJ9d-R8f6",
        "colab_type": "text"
      },
      "source": [
        "## Text Pre-processing \n",
        "- Drop questions with more than 50 words <br />\n",
        "- Convert to lower case: will prevent having multiple copies of the same word <br />\n",
        "- Remove some of the common words <br />\n",
        "- Remove shortcuts <br />\n",
        "- Remove puctuations or any other symbols in order to not consider puctuations as words <br />\n",
        "- Remove stop words <br />\n",
        "- Remove Numbers <br />\n",
        "- Remove invalid questions <br />\n"
      ]
    },
    {
      "cell_type": "code",
      "metadata": {
        "id": "JPxnOr-cbImo",
        "colab_type": "code",
        "colab": {}
      },
      "source": [
        "#remove questions with more than 50 words \n",
        "df = df[df['count2']< 50]\n",
        "df = df[df['count1']< 50]\n"
      ],
      "execution_count": 0,
      "outputs": []
    },
    {
      "cell_type": "code",
      "metadata": {
        "id": "4yERRFpDbxbR",
        "colab_type": "code",
        "outputId": "19caafd8-5fc7-4b59-9059-74a6ccc9ad8b",
        "colab": {
          "base_uri": "https://localhost:8080/",
          "height": 34
        }
      },
      "source": [
        "df.shape"
      ],
      "execution_count": 0,
      "outputs": [
        {
          "output_type": "execute_result",
          "data": {
            "text/plain": [
              "(403285, 8)"
            ]
          },
          "metadata": {
            "tags": []
          },
          "execution_count": 29
        }
      ]
    },
    {
      "cell_type": "code",
      "metadata": {
        "id": "aZcldGtGR9FV",
        "colab_type": "code",
        "colab": {}
      },
      "source": [
        "#convert all the data frame to lower case \n",
        "df_clean = df.apply(lambda x: x.astype(str).str.lower())"
      ],
      "execution_count": 0,
      "outputs": []
    },
    {
      "cell_type": "code",
      "metadata": {
        "id": "Q2fapyoeSK_E",
        "colab_type": "code",
        "colab": {}
      },
      "source": [
        "#remove common words //in this case I decided to remove the top 50 common words\n",
        "freq1 = list(freq1.index)\n",
        "freq2 = list(freq2.index)\n",
        "df_clean['question1'] = df_clean['question1'].apply(lambda x :\" \".join(x for x in x.split()if x not in freq1))\n",
        "df_clean['question2'] = df_clean['question2'].apply(lambda x :\" \".join(x for x in x.split()if x not in freq2))"
      ],
      "execution_count": 0,
      "outputs": []
    },
    {
      "cell_type": "code",
      "metadata": {
        "id": "TE0iqvZ1BHXg",
        "colab_type": "code",
        "colab": {}
      },
      "source": [
        "pd.set_option('display.max_colwidth',100)"
      ],
      "execution_count": 0,
      "outputs": []
    },
    {
      "cell_type": "code",
      "metadata": {
        "id": "-KA7981ESTRm",
        "colab_type": "code",
        "outputId": "8f1daaf5-2cd3-4838-ae5e-a931e5584f28",
        "colab": {
          "base_uri": "https://localhost:8080/",
          "height": 170
        }
      },
      "source": [
        "df_clean['question1'][2:10]"
      ],
      "execution_count": 0,
      "outputs": [
        {
          "output_type": "execute_result",
          "data": {
            "text/plain": [
              "2                    i increase speed internet connection while using vpn?\n",
              "3                               why am i mentally very lonely? i solve it?\n",
              "4    which one dissolve water quikly sugar, salt, methane carbon di oxide?\n",
              "5         astrology: i am capricorn sun cap moon cap rising...what say me?\n",
              "6                                                             i buy tiago?\n",
              "7                                                             i geologist?\n",
              "8                                                         use シ instead し?\n",
              "9                    motorola (company): i hack charter motorolla dcx3400?\n",
              "Name: question1, dtype: object"
            ]
          },
          "metadata": {
            "tags": []
          },
          "execution_count": 33
        }
      ]
    },
    {
      "cell_type": "code",
      "metadata": {
        "id": "5ZqXG8KSSV6T",
        "colab_type": "code",
        "colab": {}
      },
      "source": [
        "\n"
      ],
      "execution_count": 0,
      "outputs": []
    },
    {
      "cell_type": "markdown",
      "metadata": {
        "id": "OcmaJAUPSY-3",
        "colab_type": "text"
      },
      "source": [
        "**Remove Shortcuts** <br />\n",
        "**Remove Numbers** <br />\n",
        "**Remove short words**"
      ]
    },
    {
      "cell_type": "code",
      "metadata": {
        "id": "kMGnvB4KSZUI",
        "colab_type": "code",
        "colab": {}
      },
      "source": [
        "#replace the shortcuts with words\n",
        "def clean(s):\n",
        "\n",
        "    s = re.sub(r\"\\'ve\", \" have \", s)\n",
        "    s = re.sub(r\"can't\", \"cannot \", s)\n",
        "    s = re.sub(r\"n't\", \" not \", s)\n",
        "    s = re.sub(r\"\\'s\", \" \", s)\n",
        "    s = re.sub(r\"I'm\", \"I am\", s)\n",
        "    s = re.sub(r\" m \", \" am \", s)\n",
        "    s = re.sub(r\"\\'re\", \" are \", s)\n",
        "    s = re.sub(r\"\\'d\", \" would \", s)\n",
        "    s = re.sub(r\"\\'ll\", \" will \", s)\n",
        "    \n",
        "  #remove numbers\n",
        "    s = re.sub('[0-9]+', '', s) \n",
        "\n",
        "  #remove short words (<3 character)\n",
        "    s = re.sub(r\"\\W*\\b\\w{1,2}\\b\", \"\", s)\n",
        "\n",
        "    return s\n",
        "df_clean['question1'] = df_clean['question1'].apply(clean)\n",
        "df_clean['question2'] = df_clean['question2'].apply(clean)"
      ],
      "execution_count": 0,
      "outputs": []
    },
    {
      "cell_type": "markdown",
      "metadata": {
        "id": "pEhvZTwVSedP",
        "colab_type": "text"
      },
      "source": [
        "**Remove punctuations**"
      ]
    },
    {
      "cell_type": "code",
      "metadata": {
        "id": "hbFl_vIJSfgD",
        "colab_type": "code",
        "colab": {}
      },
      "source": [
        "#remove puctuations \n",
        "\n",
        "df_clean['question1'] = df_clean['question1'].str.replace('[^\\w\\s]','')\n",
        "df_clean['question2'] = df_clean['question2'].str.replace('[^\\w\\s]','')"
      ],
      "execution_count": 0,
      "outputs": []
    },
    {
      "cell_type": "markdown",
      "metadata": {
        "id": "SPSAePLTSxxl",
        "colab_type": "text"
      },
      "source": [
        "**Remove stop words**"
      ]
    },
    {
      "cell_type": "code",
      "metadata": {
        "id": "DGcI7e6EW-cq",
        "colab_type": "code",
        "outputId": "096feef3-6816-4d6b-f585-099577f21a4a",
        "colab": {
          "base_uri": "https://localhost:8080/",
          "height": 34
        }
      },
      "source": [
        "!pip install stop_words"
      ],
      "execution_count": 0,
      "outputs": [
        {
          "output_type": "stream",
          "text": [
            "Requirement already satisfied: stop_words in /usr/local/lib/python3.6/dist-packages (2018.7.23)\n"
          ],
          "name": "stdout"
        }
      ]
    },
    {
      "cell_type": "code",
      "metadata": {
        "id": "X-KUSnwbSjFH",
        "colab_type": "code",
        "colab": {}
      },
      "source": [
        "from stop_words import get_stop_words\n",
        "stop_words = get_stop_words('en')\n",
        "stop_words = get_stop_words('english')"
      ],
      "execution_count": 0,
      "outputs": []
    },
    {
      "cell_type": "code",
      "metadata": {
        "id": "foR4t93xS1cd",
        "colab_type": "code",
        "colab": {}
      },
      "source": [
        "#tokenize the questions and remove stop words \n",
        "#remove stop words from question1\n",
        "df_clean['question1'] = df_clean['question1'].apply(lambda x: [item for item in str.split(x) if item not in stop_words])\n",
        "#remove stop words from question2 \n",
        "df_clean['question2'] = df_clean['question2'].apply(lambda x: [item for item in str.split(x) if item not in stop_words])"
      ],
      "execution_count": 0,
      "outputs": []
    },
    {
      "cell_type": "code",
      "metadata": {
        "id": "1MMB21flqPG4",
        "colab_type": "code",
        "outputId": "ce8802a9-d8b7-4bea-f166-dc577b2f49ba",
        "colab": {
          "base_uri": "https://localhost:8080/",
          "height": 34
        }
      },
      "source": [
        "len(stop_words)"
      ],
      "execution_count": 0,
      "outputs": [
        {
          "output_type": "execute_result",
          "data": {
            "text/plain": [
              "174"
            ]
          },
          "metadata": {
            "tags": []
          },
          "execution_count": 39
        }
      ]
    },
    {
      "cell_type": "code",
      "metadata": {
        "id": "gLNs2agVS_Iy",
        "colab_type": "code",
        "outputId": "ac358414-2e66-400a-dbb6-0e688d4d43ee",
        "colab": {
          "base_uri": "https://localhost:8080/",
          "height": 34
        }
      },
      "source": [
        "df_clean.shape"
      ],
      "execution_count": 0,
      "outputs": [
        {
          "output_type": "execute_result",
          "data": {
            "text/plain": [
              "(403285, 8)"
            ]
          },
          "metadata": {
            "tags": []
          },
          "execution_count": 40
        }
      ]
    },
    {
      "cell_type": "code",
      "metadata": {
        "id": "hne--g8GTCYq",
        "colab_type": "code",
        "outputId": "c9fa053f-5dd5-4ae2-eef2-d7639d19d693",
        "colab": {
          "base_uri": "https://localhost:8080/",
          "height": 204
        }
      },
      "source": [
        "df_clean.head()"
      ],
      "execution_count": 0,
      "outputs": [
        {
          "output_type": "execute_result",
          "data": {
            "text/html": [
              "<div>\n",
              "<style scoped>\n",
              "    .dataframe tbody tr th:only-of-type {\n",
              "        vertical-align: middle;\n",
              "    }\n",
              "\n",
              "    .dataframe tbody tr th {\n",
              "        vertical-align: top;\n",
              "    }\n",
              "\n",
              "    .dataframe thead th {\n",
              "        text-align: right;\n",
              "    }\n",
              "</style>\n",
              "<table border=\"1\" class=\"dataframe\">\n",
              "  <thead>\n",
              "    <tr style=\"text-align: right;\">\n",
              "      <th></th>\n",
              "      <th>id</th>\n",
              "      <th>qid1</th>\n",
              "      <th>qid2</th>\n",
              "      <th>question1</th>\n",
              "      <th>question2</th>\n",
              "      <th>label</th>\n",
              "      <th>count1</th>\n",
              "      <th>count2</th>\n",
              "    </tr>\n",
              "  </thead>\n",
              "  <tbody>\n",
              "    <tr>\n",
              "      <th>0</th>\n",
              "      <td>0</td>\n",
              "      <td>1</td>\n",
              "      <td>2</td>\n",
              "      <td>[step, step, guide, invest, share, market, india]</td>\n",
              "      <td>[step, step, guide, invest, share, market]</td>\n",
              "      <td>0</td>\n",
              "      <td>14</td>\n",
              "      <td>12</td>\n",
              "    </tr>\n",
              "    <tr>\n",
              "      <th>1</th>\n",
              "      <td>1</td>\n",
              "      <td>3</td>\n",
              "      <td>4</td>\n",
              "      <td>[story, kohinoor, kohnoor, diamond]</td>\n",
              "      <td>[happen, indian, government, stole, kohinoor, kohnoor, diamond, back]</td>\n",
              "      <td>0</td>\n",
              "      <td>8</td>\n",
              "      <td>13</td>\n",
              "    </tr>\n",
              "    <tr>\n",
              "      <th>2</th>\n",
              "      <td>2</td>\n",
              "      <td>5</td>\n",
              "      <td>6</td>\n",
              "      <td>[increase, speed, internet, connection, using, vpn]</td>\n",
              "      <td>[internet, speed, increased, hacking, dns]</td>\n",
              "      <td>0</td>\n",
              "      <td>14</td>\n",
              "      <td>10</td>\n",
              "    </tr>\n",
              "    <tr>\n",
              "      <th>3</th>\n",
              "      <td>3</td>\n",
              "      <td>7</td>\n",
              "      <td>8</td>\n",
              "      <td>[mentally, lonely, solve]</td>\n",
              "      <td>[find, remainder, mathmath, divided]</td>\n",
              "      <td>0</td>\n",
              "      <td>11</td>\n",
              "      <td>9</td>\n",
              "    </tr>\n",
              "    <tr>\n",
              "      <th>4</th>\n",
              "      <td>4</td>\n",
              "      <td>9</td>\n",
              "      <td>10</td>\n",
              "      <td>[one, dissolve, water, quikly, sugar, salt, methane, carbon, oxide]</td>\n",
              "      <td>[fish, survive, salt, water]</td>\n",
              "      <td>0</td>\n",
              "      <td>13</td>\n",
              "      <td>7</td>\n",
              "    </tr>\n",
              "  </tbody>\n",
              "</table>\n",
              "</div>"
            ],
            "text/plain": [
              "  id qid1 qid2  ... label count1 count2\n",
              "0  0    1    2  ...     0     14     12\n",
              "1  1    3    4  ...     0      8     13\n",
              "2  2    5    6  ...     0     14     10\n",
              "3  3    7    8  ...     0     11      9\n",
              "4  4    9   10  ...     0     13      7\n",
              "\n",
              "[5 rows x 8 columns]"
            ]
          },
          "metadata": {
            "tags": []
          },
          "execution_count": 41
        }
      ]
    },
    {
      "cell_type": "code",
      "metadata": {
        "id": "N1Vy2qa1TDrH",
        "colab_type": "code",
        "colab": {}
      },
      "source": [
        "\n",
        "\n",
        " "
      ],
      "execution_count": 0,
      "outputs": []
    },
    {
      "cell_type": "markdown",
      "metadata": {
        "id": "P_oQxsmrTJkb",
        "colab_type": "text"
      },
      "source": [
        "## Text Normalization "
      ]
    },
    {
      "cell_type": "markdown",
      "metadata": {
        "id": "LlGEYJioTMXq",
        "colab_type": "text"
      },
      "source": [
        "**Stemming**: remove the suffices"
      ]
    },
    {
      "cell_type": "code",
      "metadata": {
        "id": "5q8D1Zj3TNqp",
        "colab_type": "code",
        "colab": {}
      },
      "source": [
        "#stem the words \n",
        "from nltk.stem import SnowballStemmer\n",
        "st = SnowballStemmer(\"english\")\n",
        "df_clean['question1'] = df_clean['question1'].apply(lambda x: \" \".join([st.stem(word) for word in x]))\n",
        "df_clean['question2'] = df_clean['question2'].apply(lambda x: \" \".join([st.stem(word) for word in x]))"
      ],
      "execution_count": 0,
      "outputs": []
    },
    {
      "cell_type": "code",
      "metadata": {
        "id": "hkMNRTXDTPqc",
        "colab_type": "code",
        "outputId": "9caa81b9-45b8-430f-977f-70232ae3efc5",
        "colab": {
          "base_uri": "https://localhost:8080/",
          "height": 374
        }
      },
      "source": [
        "df_clean.question1[70:90]"
      ],
      "execution_count": 0,
      "outputs": [
        {
          "output_type": "execute_result",
          "data": {
            "text/plain": [
              "70                                                                        type immun\n",
              "71                                                          narcissist person disord\n",
              "72                                                            speak english fluentli\n",
              "73    help quickbook auto data recoveri support phone number recov corrupt data file\n",
              "74                                                  richest gambler time reach level\n",
              "75                 fire bullet backward aircraft go faster bullet bullet go backward\n",
              "76                                                             prevent breast cancer\n",
              "77                                                    log gmail account friend phone\n",
              "78                                                               make money internet\n",
              "79                                                                       purpos life\n",
              "80      bjp govern strip muslim christian indian citizenship put boat rohingya burma\n",
              "81                                    right etiquett wish jehovah wit happi birthday\n",
              "82             someon want open commerci radio station citi india much cost procedur\n",
              "83                                                                swiss despis asian\n",
              "84                                          high salari incom job field biotechnolog\n",
              "85                                                               increas height also\n",
              "86                 major effect cambodia earthquak effect compar kamchatca earthquak\n",
              "87                                                                differ sincer fair\n",
              "88                                                                   game laptop inr\n",
              "89                                             review next warrior prove ground part\n",
              "Name: question1, dtype: object"
            ]
          },
          "metadata": {
            "tags": []
          },
          "execution_count": 43
        }
      ]
    },
    {
      "cell_type": "code",
      "metadata": {
        "id": "oAHprkjt1uy0",
        "colab_type": "code",
        "colab": {}
      },
      "source": [
        "#remove invalid questions \n",
        "for index in invalid_questions:\n",
        "    df_clean = df_clean[df_clean.id != index]\n",
        "    question1.pop(index)\n",
        "    question2.pop(index)"
      ],
      "execution_count": 0,
      "outputs": []
    },
    {
      "cell_type": "code",
      "metadata": {
        "id": "0Pljp8pNy7gJ",
        "colab_type": "code",
        "outputId": "c6a3203f-0e25-4ef3-cfb4-d28c702870c9",
        "colab": {
          "base_uri": "https://localhost:8080/",
          "height": 204
        }
      },
      "source": [
        "df_clean.tail()"
      ],
      "execution_count": 0,
      "outputs": [
        {
          "output_type": "execute_result",
          "data": {
            "text/html": [
              "<div>\n",
              "<style scoped>\n",
              "    .dataframe tbody tr th:only-of-type {\n",
              "        vertical-align: middle;\n",
              "    }\n",
              "\n",
              "    .dataframe tbody tr th {\n",
              "        vertical-align: top;\n",
              "    }\n",
              "\n",
              "    .dataframe thead th {\n",
              "        text-align: right;\n",
              "    }\n",
              "</style>\n",
              "<table border=\"1\" class=\"dataframe\">\n",
              "  <thead>\n",
              "    <tr style=\"text-align: right;\">\n",
              "      <th></th>\n",
              "      <th>id</th>\n",
              "      <th>qid1</th>\n",
              "      <th>qid2</th>\n",
              "      <th>question1</th>\n",
              "      <th>question2</th>\n",
              "      <th>label</th>\n",
              "      <th>count1</th>\n",
              "      <th>count2</th>\n",
              "    </tr>\n",
              "  </thead>\n",
              "  <tbody>\n",
              "    <tr>\n",
              "      <th>404282</th>\n",
              "      <td>404285</td>\n",
              "      <td>433578</td>\n",
              "      <td>379845</td>\n",
              "      <td>mani keyword racket program languag latest version</td>\n",
              "      <td>mani keyword perl program languag latest version</td>\n",
              "      <td>0</td>\n",
              "      <td>14</td>\n",
              "      <td>13</td>\n",
              "    </tr>\n",
              "    <tr>\n",
              "      <th>404283</th>\n",
              "      <td>404286</td>\n",
              "      <td>18840</td>\n",
              "      <td>155606</td>\n",
              "      <td>believ life death</td>\n",
              "      <td>true life death</td>\n",
              "      <td>1</td>\n",
              "      <td>8</td>\n",
              "      <td>9</td>\n",
              "    </tr>\n",
              "    <tr>\n",
              "      <th>404284</th>\n",
              "      <td>404287</td>\n",
              "      <td>537928</td>\n",
              "      <td>537929</td>\n",
              "      <td>one coin</td>\n",
              "      <td>coin</td>\n",
              "      <td>0</td>\n",
              "      <td>4</td>\n",
              "      <td>3</td>\n",
              "    </tr>\n",
              "    <tr>\n",
              "      <th>404285</th>\n",
              "      <td>404288</td>\n",
              "      <td>537930</td>\n",
              "      <td>537931</td>\n",
              "      <td>approx annual cost live studi uic chicago indian student</td>\n",
              "      <td>littl hairfal problem want use hair style product one prefer gel wax clay</td>\n",
              "      <td>0</td>\n",
              "      <td>17</td>\n",
              "      <td>25</td>\n",
              "    </tr>\n",
              "    <tr>\n",
              "      <th>404286</th>\n",
              "      <td>404289</td>\n",
              "      <td>537932</td>\n",
              "      <td>537933</td>\n",
              "      <td>sex cousin</td>\n",
              "      <td>sex cousin</td>\n",
              "      <td>0</td>\n",
              "      <td>8</td>\n",
              "      <td>10</td>\n",
              "    </tr>\n",
              "  </tbody>\n",
              "</table>\n",
              "</div>"
            ],
            "text/plain": [
              "            id    qid1    qid2  ... label count1 count2\n",
              "404282  404285  433578  379845  ...     0     14     13\n",
              "404283  404286   18840  155606  ...     1      8      9\n",
              "404284  404287  537928  537929  ...     0      4      3\n",
              "404285  404288  537930  537931  ...     0     17     25\n",
              "404286  404289  537932  537933  ...     0      8     10\n",
              "\n",
              "[5 rows x 8 columns]"
            ]
          },
          "metadata": {
            "tags": []
          },
          "execution_count": 45
        }
      ]
    },
    {
      "cell_type": "markdown",
      "metadata": {
        "id": "Stm9rqURnK61",
        "colab_type": "text"
      },
      "source": [
        ""
      ]
    },
    {
      "cell_type": "markdown",
      "metadata": {
        "id": "n_qHueFeTUij",
        "colab_type": "text"
      },
      "source": [
        "## TF-IDF <br />\n",
        "**\"term frequency\" which is the number of times a word appears in a document** <br>\n",
        "**TF = (Frequency of the word in the sentence) / (Total number of words in the sentence)** <br>\n",
        "**IDF: (Total number of sentences (documents))/(Number of sentences (documents) containing the word)**"
      ]
    },
    {
      "cell_type": "code",
      "metadata": {
        "id": "p7Ky36UiyHx1",
        "colab_type": "code",
        "colab": {}
      },
      "source": [
        "#encode questions to unicode \n",
        "df['question1'] = df['question1'].apply(lambda x: str(x))\n",
        "df['question2'] = df['question2'].apply(lambda x: str(x))"
      ],
      "execution_count": 0,
      "outputs": []
    },
    {
      "cell_type": "code",
      "metadata": {
        "id": "dQXjXH78TlMy",
        "colab_type": "code",
        "colab": {}
      },
      "source": [
        "#convert the text to list \n",
        "question1 = list(df_clean['question1'])\n",
        "question2 = list(df_clean['question2'])\n",
        "questions = question1 + question2 "
      ],
      "execution_count": 0,
      "outputs": []
    },
    {
      "cell_type": "code",
      "metadata": {
        "id": "BoUo4TgmriKj",
        "colab_type": "code",
        "colab": {}
      },
      "source": [
        "# get the number of unique words \n",
        "def unique_words(x, y):\n",
        "    unique_word_list = []\n",
        "    unique_word_cnt = []\n",
        "    for i in range(len(x)):\n",
        "        intersection_set = set.intersection(*[set(x[i]), set(y[i])]) #intersection between question1 and question2\n",
        "        union_set = set.union(*[set(x[i]), set(y[i])]) #union between question1 and question2\n",
        "        unique_words = union_set - intersection_set #unique words \n",
        "        unique_word_list.append(unique_words) #get the unique words list \n",
        "        unique_word_cnt.append(len(unique_words)) #get the link of unique words                \n",
        "    return unique_word_cnt"
      ],
      "execution_count": 0,
      "outputs": []
    },
    {
      "cell_type": "code",
      "metadata": {
        "id": "l6ruH5VOrsCK",
        "colab_type": "code",
        "outputId": "61dc71e8-e969-4674-e74e-c06863a23487",
        "colab": {
          "base_uri": "https://localhost:8080/",
          "height": 204
        }
      },
      "source": [
        " df_clean['unique_word_cnt'] = unique_words(question1, question2)\n",
        " df_clean[['question1', 'question2', 'count1', 'count2', 'unique_word_cnt', 'label']].head()"
      ],
      "execution_count": 0,
      "outputs": [
        {
          "output_type": "execute_result",
          "data": {
            "text/html": [
              "<div>\n",
              "<style scoped>\n",
              "    .dataframe tbody tr th:only-of-type {\n",
              "        vertical-align: middle;\n",
              "    }\n",
              "\n",
              "    .dataframe tbody tr th {\n",
              "        vertical-align: top;\n",
              "    }\n",
              "\n",
              "    .dataframe thead th {\n",
              "        text-align: right;\n",
              "    }\n",
              "</style>\n",
              "<table border=\"1\" class=\"dataframe\">\n",
              "  <thead>\n",
              "    <tr style=\"text-align: right;\">\n",
              "      <th></th>\n",
              "      <th>question1</th>\n",
              "      <th>question2</th>\n",
              "      <th>count1</th>\n",
              "      <th>count2</th>\n",
              "      <th>unique_word_cnt</th>\n",
              "      <th>label</th>\n",
              "    </tr>\n",
              "  </thead>\n",
              "  <tbody>\n",
              "    <tr>\n",
              "      <th>0</th>\n",
              "      <td>step step guid invest share market india</td>\n",
              "      <td>step step guid invest share market</td>\n",
              "      <td>14</td>\n",
              "      <td>12</td>\n",
              "      <td>0</td>\n",
              "      <td>0</td>\n",
              "    </tr>\n",
              "    <tr>\n",
              "      <th>1</th>\n",
              "      <td>stori kohinoor kohnoor diamond</td>\n",
              "      <td>happen indian govern stole kohinoor kohnoor diamond back</td>\n",
              "      <td>8</td>\n",
              "      <td>13</td>\n",
              "      <td>7</td>\n",
              "      <td>0</td>\n",
              "    </tr>\n",
              "    <tr>\n",
              "      <th>2</th>\n",
              "      <td>increas speed internet connect use vpn</td>\n",
              "      <td>internet speed increas hack dns</td>\n",
              "      <td>14</td>\n",
              "      <td>10</td>\n",
              "      <td>5</td>\n",
              "      <td>0</td>\n",
              "    </tr>\n",
              "    <tr>\n",
              "      <th>3</th>\n",
              "      <td>mental lone solv</td>\n",
              "      <td>find remaind mathmath divid</td>\n",
              "      <td>11</td>\n",
              "      <td>9</td>\n",
              "      <td>8</td>\n",
              "      <td>0</td>\n",
              "    </tr>\n",
              "    <tr>\n",
              "      <th>4</th>\n",
              "      <td>one dissolv water quik sugar salt methan carbon oxid</td>\n",
              "      <td>fish surviv salt water</td>\n",
              "      <td>13</td>\n",
              "      <td>7</td>\n",
              "      <td>11</td>\n",
              "      <td>0</td>\n",
              "    </tr>\n",
              "  </tbody>\n",
              "</table>\n",
              "</div>"
            ],
            "text/plain": [
              "                                              question1  ... label\n",
              "0              step step guid invest share market india  ...     0\n",
              "1                        stori kohinoor kohnoor diamond  ...     0\n",
              "2                increas speed internet connect use vpn  ...     0\n",
              "3                                      mental lone solv  ...     0\n",
              "4  one dissolv water quik sugar salt methan carbon oxid  ...     0\n",
              "\n",
              "[5 rows x 6 columns]"
            ]
          },
          "metadata": {
            "tags": []
          },
          "execution_count": 49
        }
      ]
    },
    {
      "cell_type": "code",
      "metadata": {
        "id": "1hN4vZCGUD0Y",
        "colab_type": "code",
        "colab": {}
      },
      "source": [
        "#word vectorizer \n",
        "tfidf_vectors = TfidfVectorizer(stop_words='english', min_df=10, max_df = 0.5,  sublinear_tf= True,  ngram_range=(1, 1))"
      ],
      "execution_count": 0,
      "outputs": []
    },
    {
      "cell_type": "code",
      "metadata": {
        "id": "zybWitpHUIqD",
        "colab_type": "code",
        "outputId": "c8ec6351-8867-47ed-e39a-738a79ed8f54",
        "colab": {
          "base_uri": "https://localhost:8080/",
          "height": 136
        }
      },
      "source": [
        "tfidf_vectors "
      ],
      "execution_count": 0,
      "outputs": [
        {
          "output_type": "execute_result",
          "data": {
            "text/plain": [
              "TfidfVectorizer(analyzer='word', binary=False, decode_error='strict',\n",
              "                dtype=<class 'numpy.float64'>, encoding='utf-8',\n",
              "                input='content', lowercase=True, max_df=0.5, max_features=None,\n",
              "                min_df=10, ngram_range=(1, 1), norm='l2', preprocessor=None,\n",
              "                smooth_idf=True, stop_words='english', strip_accents=None,\n",
              "                sublinear_tf=True, token_pattern='(?u)\\\\b\\\\w\\\\w+\\\\b',\n",
              "                tokenizer=None, use_idf=True, vocabulary=None)"
            ]
          },
          "metadata": {
            "tags": []
          },
          "execution_count": 51
        }
      ]
    },
    {
      "cell_type": "code",
      "metadata": {
        "id": "qmuRrOsg3TqV",
        "colab_type": "code",
        "colab": {}
      },
      "source": [
        "#create sparse matrix \n",
        "tfidf_matrix = tfidf_vectors.fit_transform(questions)\n"
      ],
      "execution_count": 0,
      "outputs": []
    },
    {
      "cell_type": "code",
      "metadata": {
        "colab_type": "code",
        "id": "kGOk8sBa__aw",
        "colab": {}
      },
      "source": [
        "# get features names \n",
        "from sklearn.feature_extraction.text import CountVectorizer\n",
        "from sklearn.feature_extraction.text import TfidfVectorizer\n",
        "feature_names = tfidf_vectors.get_feature_names()"
      ],
      "execution_count": 0,
      "outputs": []
    },
    {
      "cell_type": "code",
      "metadata": {
        "id": "oKqAPYXMvk20",
        "colab_type": "code",
        "outputId": "f01d9d01-c0e2-491e-d981-c14caf76b6b5",
        "colab": {
          "base_uri": "https://localhost:8080/",
          "height": 867
        }
      },
      "source": [
        "feature_names[50:100]"
      ],
      "execution_count": 0,
      "outputs": [
        {
          "output_type": "execute_result",
          "data": {
            "text/plain": [
              "['absurd',\n",
              " 'abt',\n",
              " 'abtx',\n",
              " 'abu',\n",
              " 'abund',\n",
              " 'abus',\n",
              " 'aca',\n",
              " 'academ',\n",
              " 'academi',\n",
              " 'academia',\n",
              " 'acc',\n",
              " 'acca',\n",
              " 'acceler',\n",
              " 'accent',\n",
              " 'accentur',\n",
              " 'accept',\n",
              " 'access',\n",
              " 'accessori',\n",
              " 'accid',\n",
              " 'accident',\n",
              " 'acclaim',\n",
              " 'accommod',\n",
              " 'accomod',\n",
              " 'accompani',\n",
              " 'accomplish',\n",
              " 'accord',\n",
              " 'account',\n",
              " 'accredit',\n",
              " 'accru',\n",
              " 'accumul',\n",
              " 'accur',\n",
              " 'accuraci',\n",
              " 'accus',\n",
              " 'ace',\n",
              " 'acer',\n",
              " 'acet',\n",
              " 'acetaminophen',\n",
              " 'aceton',\n",
              " 'ach',\n",
              " 'achiev',\n",
              " 'acid',\n",
              " 'acknowledg',\n",
              " 'acl',\n",
              " 'acm',\n",
              " 'acmicpc',\n",
              " 'acn',\n",
              " 'acorn',\n",
              " 'acoust',\n",
              " 'acquaint',\n",
              " 'acquir']"
            ]
          },
          "metadata": {
            "tags": []
          },
          "execution_count": 54
        }
      ]
    },
    {
      "cell_type": "code",
      "metadata": {
        "id": "pbr-sUzMSLcp",
        "colab_type": "code",
        "colab": {}
      },
      "source": [
        ""
      ],
      "execution_count": 0,
      "outputs": []
    },
    {
      "cell_type": "code",
      "metadata": {
        "id": "aXCO2AFLSaJ4",
        "colab_type": "code",
        "outputId": "79bfc6f6-ca4f-432c-9df2-ec646adbbf7c",
        "colab": {
          "base_uri": "https://localhost:8080/",
          "height": 204
        }
      },
      "source": [
        "\n",
        "df_clean.head()"
      ],
      "execution_count": 0,
      "outputs": [
        {
          "output_type": "execute_result",
          "data": {
            "text/html": [
              "<div>\n",
              "<style scoped>\n",
              "    .dataframe tbody tr th:only-of-type {\n",
              "        vertical-align: middle;\n",
              "    }\n",
              "\n",
              "    .dataframe tbody tr th {\n",
              "        vertical-align: top;\n",
              "    }\n",
              "\n",
              "    .dataframe thead th {\n",
              "        text-align: right;\n",
              "    }\n",
              "</style>\n",
              "<table border=\"1\" class=\"dataframe\">\n",
              "  <thead>\n",
              "    <tr style=\"text-align: right;\">\n",
              "      <th></th>\n",
              "      <th>id</th>\n",
              "      <th>qid1</th>\n",
              "      <th>qid2</th>\n",
              "      <th>question1</th>\n",
              "      <th>question2</th>\n",
              "      <th>label</th>\n",
              "      <th>count1</th>\n",
              "      <th>count2</th>\n",
              "      <th>unique_word_cnt</th>\n",
              "    </tr>\n",
              "  </thead>\n",
              "  <tbody>\n",
              "    <tr>\n",
              "      <th>0</th>\n",
              "      <td>0</td>\n",
              "      <td>1</td>\n",
              "      <td>2</td>\n",
              "      <td>step step guid invest share market india</td>\n",
              "      <td>step step guid invest share market</td>\n",
              "      <td>0</td>\n",
              "      <td>14</td>\n",
              "      <td>12</td>\n",
              "      <td>0</td>\n",
              "    </tr>\n",
              "    <tr>\n",
              "      <th>1</th>\n",
              "      <td>1</td>\n",
              "      <td>3</td>\n",
              "      <td>4</td>\n",
              "      <td>stori kohinoor kohnoor diamond</td>\n",
              "      <td>happen indian govern stole kohinoor kohnoor diamond back</td>\n",
              "      <td>0</td>\n",
              "      <td>8</td>\n",
              "      <td>13</td>\n",
              "      <td>7</td>\n",
              "    </tr>\n",
              "    <tr>\n",
              "      <th>2</th>\n",
              "      <td>2</td>\n",
              "      <td>5</td>\n",
              "      <td>6</td>\n",
              "      <td>increas speed internet connect use vpn</td>\n",
              "      <td>internet speed increas hack dns</td>\n",
              "      <td>0</td>\n",
              "      <td>14</td>\n",
              "      <td>10</td>\n",
              "      <td>5</td>\n",
              "    </tr>\n",
              "    <tr>\n",
              "      <th>3</th>\n",
              "      <td>3</td>\n",
              "      <td>7</td>\n",
              "      <td>8</td>\n",
              "      <td>mental lone solv</td>\n",
              "      <td>find remaind mathmath divid</td>\n",
              "      <td>0</td>\n",
              "      <td>11</td>\n",
              "      <td>9</td>\n",
              "      <td>8</td>\n",
              "    </tr>\n",
              "    <tr>\n",
              "      <th>4</th>\n",
              "      <td>4</td>\n",
              "      <td>9</td>\n",
              "      <td>10</td>\n",
              "      <td>one dissolv water quik sugar salt methan carbon oxid</td>\n",
              "      <td>fish surviv salt water</td>\n",
              "      <td>0</td>\n",
              "      <td>13</td>\n",
              "      <td>7</td>\n",
              "      <td>11</td>\n",
              "    </tr>\n",
              "  </tbody>\n",
              "</table>\n",
              "</div>"
            ],
            "text/plain": [
              "  id qid1 qid2  ... count1 count2 unique_word_cnt\n",
              "0  0    1    2  ...     14     12               0\n",
              "1  1    3    4  ...      8     13               7\n",
              "2  2    5    6  ...     14     10               5\n",
              "3  3    7    8  ...     11      9               8\n",
              "4  4    9   10  ...     13      7              11\n",
              "\n",
              "[5 rows x 9 columns]"
            ]
          },
          "metadata": {
            "tags": []
          },
          "execution_count": 55
        }
      ]
    },
    {
      "cell_type": "markdown",
      "metadata": {
        "id": "gUcXZWvgrVXH",
        "colab_type": "text"
      },
      "source": [
        "## Word Embedding"
      ]
    },
    {
      "cell_type": "markdown",
      "metadata": {
        "id": "Io2yYeitajMp",
        "colab_type": "text"
      },
      "source": [
        "**en_core_web_lg** <br />\n",
        "English multi-task CNN trained on OntoNotes, with GloVe vectors trained on Common Crawl. Assigns word vectors, context-specific token vectors, POS tags, dependency parse and named entities.\n"
      ]
    },
    {
      "cell_type": "code",
      "metadata": {
        "id": "hYuhLCHE5ihq",
        "colab_type": "code",
        "outputId": "ddb88592-e409-42fd-dd66-3e5e9bade3ec",
        "colab": {
          "base_uri": "https://localhost:8080/",
          "height": 51
        }
      },
      "source": [
        "#install spacy model en_core_web_md\n",
        "import spacy.cli\n",
        "spacy.cli.download(\"en_core_web_md\")"
      ],
      "execution_count": 0,
      "outputs": [
        {
          "output_type": "stream",
          "text": [
            "\u001b[38;5;2m✔ Download and installation successful\u001b[0m\n",
            "You can now load the model via spacy.load('en_core_web_md')\n"
          ],
          "name": "stdout"
        }
      ]
    },
    {
      "cell_type": "code",
      "metadata": {
        "id": "ql6WlNWb_T11",
        "colab_type": "code",
        "outputId": "7431dfda-d6a1-4125-abac-b67d951f0417",
        "colab": {
          "base_uri": "https://localhost:8080/",
          "height": 34
        }
      },
      "source": [
        "#load en_core_web_lg\n",
        "import spacy \n",
        "nlp = spacy.load(\"en_core_web_md\")   \n",
        "total_vectors = len(nlp.vocab.vectors)\n",
        "print('Total word vectors:', total_vectors)"
      ],
      "execution_count": 0,
      "outputs": [
        {
          "output_type": "stream",
          "text": [
            "Total word vectors: 20000\n"
          ],
          "name": "stdout"
        }
      ]
    },
    {
      "cell_type": "code",
      "metadata": {
        "id": "lymt1Yv4bGP7",
        "colab_type": "code",
        "colab": {}
      },
      "source": [
        "#build word vectors for question1 \n",
        "word_vecs1 = [doc.vector for doc in nlp.pipe(df['question1'], n_threads = 50)] #this will give the document vector \n",
        "word_vecs1 = np.array(word_vecs1)"
      ],
      "execution_count": 0,
      "outputs": []
    },
    {
      "cell_type": "code",
      "metadata": {
        "id": "sdZqKHNXbGTE",
        "colab_type": "code",
        "colab": {}
      },
      "source": [
        " #build word vectors for question2 \n",
        "word_vecs2 = [doc.vector for doc in nlp.pipe(df['question2'], n_threads = 50)] #this will give the document vector \n",
        "word_vecs2 = np.array(word_vecs2)\n"
      ],
      "execution_count": 0,
      "outputs": []
    },
    {
      "cell_type": "code",
      "metadata": {
        "id": "EueIpAqScaTg",
        "colab_type": "code",
        "colab": {}
      },
      "source": [
        ""
      ],
      "execution_count": 0,
      "outputs": []
    },
    {
      "cell_type": "code",
      "metadata": {
        "id": "EqbEJMB0zp39",
        "colab_type": "code",
        "outputId": "f297b755-da22-4b15-b0d7-7726157f4291",
        "colab": {
          "base_uri": "https://localhost:8080/",
          "height": 34
        }
      },
      "source": [
        "word_vecs1.shape"
      ],
      "execution_count": 0,
      "outputs": [
        {
          "output_type": "execute_result",
          "data": {
            "text/plain": [
              "(403285, 300)"
            ]
          },
          "metadata": {
            "tags": []
          },
          "execution_count": 60
        }
      ]
    },
    {
      "cell_type": "markdown",
      "metadata": {
        "id": "COlsvzAfvlVJ",
        "colab_type": "text"
      },
      "source": [
        "## Dimensionality Reduction"
      ]
    },
    {
      "cell_type": "markdown",
      "metadata": {
        "id": "CVt684Yu15A4",
        "colab_type": "text"
      },
      "source": [
        "**PCA** <br />\n",
        "Unsupervise linear dimensionality reduction technique that takes large data dimension and returns lower data dimension by using clustering. it keeps the components with high variance which means we won't lose valuable features. principal component is the output of converting correlated variables to uncorrelated variables. This will also speed up the machine learning algorithm."
      ]
    },
    {
      "cell_type": "code",
      "metadata": {
        "id": "dDlDWghs-134",
        "colab_type": "code",
        "colab": {}
      },
      "source": [
        "#PCA\n",
        "from sklearn.decomposition import PCA\n"
      ],
      "execution_count": 0,
      "outputs": []
    },
    {
      "cell_type": "code",
      "metadata": {
        "id": "_0YEwZg1ElUX",
        "colab_type": "code",
        "outputId": "425132ef-f5fc-47b4-d6cd-ebe3f00d7f81",
        "colab": {
          "base_uri": "https://localhost:8080/",
          "height": 386
        }
      },
      "source": [
        "#apply PCA and check the variance \n",
        "#the optimal number of components \n",
        "n_comp = [50, 100, 150, 170, 180]\n",
        "explained = [] \n",
        "for x in n_comp:\n",
        "    pca = PCA(n_components=x)\n",
        "    pca.fit(word_vecs1)\n",
        "    explained.append(pca.explained_variance_ratio_.sum())\n",
        "    print(\"Number of components = %r and explained variance = %r\"%(x,pca.explained_variance_ratio_.sum()))\n",
        "plt.plot(n_comp, explained)\n",
        "plt.xlabel('Number of components')\n",
        "plt.ylabel(\"Explained Variance\")\n",
        "plt.title(\"Plot of Number of components v/s explained variance\")\n",
        "plt.show()"
      ],
      "execution_count": 0,
      "outputs": [
        {
          "output_type": "stream",
          "text": [
            "Number of components = 50 and explained variance = 0.7126356324105932\n",
            "Number of components = 100 and explained variance = 0.8386151383870891\n",
            "Number of components = 150 and explained variance = 0.9092789800357225\n",
            "Number of components = 170 and explained variance = 0.9299492158257697\n",
            "Number of components = 180 and explained variance = 0.9391207051847865\n"
          ],
          "name": "stdout"
        },
        {
          "output_type": "display_data",
          "data": {
            "image/png": "[encoded data removed]",
            "text/plain": [
              "<Figure size 432x288 with 1 Axes>"
            ]
          },
          "metadata": {
            "tags": []
          }
        }
      ]
    },
    {
      "cell_type": "code",
      "metadata": {
        "id": "t2JqrSf9EQW_",
        "colab_type": "code",
        "colab": {}
      },
      "source": [
        "pca = PCA(n_components=180)\n",
        "pca1 = pca.fit_transform(word_vecs1)"
      ],
      "execution_count": 0,
      "outputs": []
    },
    {
      "cell_type": "code",
      "metadata": {
        "id": "hIUw0n4aEMP-",
        "colab_type": "code",
        "outputId": "a8029c92-7d83-40a4-9ef3-54e833f04127",
        "colab": {
          "base_uri": "https://localhost:8080/",
          "height": 34
        }
      },
      "source": [
        "pca1.shape"
      ],
      "execution_count": 0,
      "outputs": [
        {
          "output_type": "execute_result",
          "data": {
            "text/plain": [
              "(403285, 180)"
            ]
          },
          "metadata": {
            "tags": []
          },
          "execution_count": 64
        }
      ]
    },
    {
      "cell_type": "code",
      "metadata": {
        "id": "S65bhyM7HH0K",
        "colab_type": "code",
        "outputId": "6128e130-3d87-4845-957b-5667c2b44b4f",
        "colab": {
          "base_uri": "https://localhost:8080/",
          "height": 369
        }
      },
      "source": [
        "#apply PCA and check the variance \n",
        "#the optimal number of components \n",
        "n_comp = [50, 100, 150, 170] # list containing different values of components\n",
        "explained = [] # explained variance ratio for each component of Truncated SVD\n",
        "for x in n_comp:\n",
        "    pca = PCA(n_components=x)\n",
        "    pca.fit(word_vecs1)\n",
        "    explained.append(pca.explained_variance_ratio_.sum())\n",
        "    print(\"Number of components = %r and explained variance = %r\"%(x,pca.explained_variance_ratio_.sum()))\n",
        "plt.plot(n_comp, explained)\n",
        "plt.xlabel('Number of components')\n",
        "plt.ylabel(\"Explained Variance\")\n",
        "plt.title(\"Plot of Number of components v/s explained variance\")\n",
        "plt.show()"
      ],
      "execution_count": 0,
      "outputs": [
        {
          "output_type": "stream",
          "text": [
            "Number of components = 50 and explained variance = 0.7124694819805225\n",
            "Number of components = 100 and explained variance = 0.8389927089339559\n",
            "Number of components = 150 and explained variance = 0.9092889168651794\n",
            "Number of components = 170 and explained variance = 0.929944901610054\n"
          ],
          "name": "stdout"
        },
        {
          "output_type": "display_data",
          "data": {
            "image/png": "[encoded data removed]",
            "text/plain": [
              "<Figure size 432x288 with 1 Axes>"
            ]
          },
          "metadata": {
            "tags": []
          }
        }
      ]
    },
    {
      "cell_type": "code",
      "metadata": {
        "id": "2SCt5a6AGqgJ",
        "colab_type": "code",
        "colab": {}
      },
      "source": [
        "pca = PCA(n_components=180)\n",
        "pca2 = pca.fit_transform(word_vecs2)"
      ],
      "execution_count": 0,
      "outputs": []
    },
    {
      "cell_type": "code",
      "metadata": {
        "id": "8NPTqHa9GqnY",
        "colab_type": "code",
        "outputId": "79273da8-3f9f-4831-9660-f9afa7383405",
        "colab": {
          "base_uri": "https://localhost:8080/",
          "height": 34
        }
      },
      "source": [
        "pca2.shape"
      ],
      "execution_count": 0,
      "outputs": [
        {
          "output_type": "execute_result",
          "data": {
            "text/plain": [
              "(403285, 180)"
            ]
          },
          "metadata": {
            "tags": []
          },
          "execution_count": 67
        }
      ]
    },
    {
      "cell_type": "code",
      "metadata": {
        "id": "3l29HpMtG9HV",
        "colab_type": "code",
        "outputId": "309e1868-3abf-4f16-8ce1-2887e530d6e0",
        "colab": {
          "base_uri": "https://localhost:8080/",
          "height": 34
        }
      },
      "source": [
        "len(pca1)"
      ],
      "execution_count": 0,
      "outputs": [
        {
          "output_type": "execute_result",
          "data": {
            "text/plain": [
              "403285"
            ]
          },
          "metadata": {
            "tags": []
          },
          "execution_count": 68
        }
      ]
    },
    {
      "cell_type": "code",
      "metadata": {
        "id": "X6EfvToQG42p",
        "colab_type": "code",
        "colab": {}
      },
      "source": [
        ""
      ],
      "execution_count": 0,
      "outputs": []
    },
    {
      "cell_type": "code",
      "metadata": {
        "id": "B5HhkoJMOlIJ",
        "colab_type": "code",
        "colab": {}
      },
      "source": [
        ""
      ],
      "execution_count": 0,
      "outputs": []
    },
    {
      "cell_type": "markdown",
      "metadata": {
        "id": "SYhd6RFqOlpQ",
        "colab_type": "text"
      },
      "source": [
        "## Feature Extraction"
      ]
    },
    {
      "cell_type": "markdown",
      "metadata": {
        "id": "JqXX7wahzPdP",
        "colab_type": "text"
      },
      "source": [
        "## Cosine Similarity <br /> \n",
        "Cosine similarity is a metric to measure how similar documents are regardless of their length. it measures the cosine of the angle between two vectors by\n",
        "looking at their directions (or orientations) without caring about their length "
      ]
    },
    {
      "cell_type": "code",
      "metadata": {
        "colab_type": "code",
        "id": "Ey7ku4-vuTb6",
        "colab": {}
      },
      "source": [
        "tfidf_matrix1 = tfidf_matrix[:403285]"
      ],
      "execution_count": 0,
      "outputs": []
    },
    {
      "cell_type": "code",
      "metadata": {
        "id": "570Or6DivnJ5",
        "colab_type": "code",
        "colab": {}
      },
      "source": [
        "tfidf_matrix2 = tfidf_matrix[403285:]"
      ],
      "execution_count": 0,
      "outputs": []
    },
    {
      "cell_type": "code",
      "metadata": {
        "colab_type": "code",
        "id": "n9X5ymfeuSum",
        "colab": {}
      },
      "source": [
        "#calculate cosine similarity \n",
        "from sklearn.metrics.pairwise import cosine_similarity\n",
        "cosine_sim = []\n",
        "for i in range(403285):\n",
        "  tfidf_q1 = tfidf_matrix1[i]\n",
        "  tfidf_q2 = tfidf_matrix2[i]\n",
        "  cosine_sim.append(cosine_similarity(tfidf_q1, tfidf_q2)[0][0])"
      ],
      "execution_count": 0,
      "outputs": []
    },
    {
      "cell_type": "code",
      "metadata": {
        "colab_type": "code",
        "id": "_BWcR-_HuSJS",
        "outputId": "bfa075c0-db8f-4963-d470-899b73471c06",
        "colab": {
          "base_uri": "https://localhost:8080/",
          "height": 34
        }
      },
      "source": [
        "len(cosine_sim)"
      ],
      "execution_count": 0,
      "outputs": [
        {
          "output_type": "execute_result",
          "data": {
            "text/plain": [
              "403285"
            ]
          },
          "metadata": {
            "tags": []
          },
          "execution_count": 72
        }
      ]
    },
    {
      "cell_type": "code",
      "metadata": {
        "id": "khYyh2UU1OoJ",
        "colab_type": "code",
        "colab": {}
      },
      "source": [
        "df_clean['cosine_sim_tfidf'] = cosine_sim[0: len(cosine_sim)]\n"
      ],
      "execution_count": 0,
      "outputs": []
    },
    {
      "cell_type": "code",
      "metadata": {
        "id": "3fYVzi0Qy9AJ",
        "colab_type": "code",
        "outputId": "289f5b0f-51cc-417a-9765-a17067b2ea43",
        "colab": {
          "base_uri": "https://localhost:8080/",
          "height": 204
        }
      },
      "source": [
        "df_clean.tail()"
      ],
      "execution_count": 0,
      "outputs": [
        {
          "output_type": "execute_result",
          "data": {
            "text/html": [
              "<div>\n",
              "<style scoped>\n",
              "    .dataframe tbody tr th:only-of-type {\n",
              "        vertical-align: middle;\n",
              "    }\n",
              "\n",
              "    .dataframe tbody tr th {\n",
              "        vertical-align: top;\n",
              "    }\n",
              "\n",
              "    .dataframe thead th {\n",
              "        text-align: right;\n",
              "    }\n",
              "</style>\n",
              "<table border=\"1\" class=\"dataframe\">\n",
              "  <thead>\n",
              "    <tr style=\"text-align: right;\">\n",
              "      <th></th>\n",
              "      <th>id</th>\n",
              "      <th>qid1</th>\n",
              "      <th>qid2</th>\n",
              "      <th>question1</th>\n",
              "      <th>question2</th>\n",
              "      <th>label</th>\n",
              "      <th>count1</th>\n",
              "      <th>count2</th>\n",
              "      <th>unique_word_cnt</th>\n",
              "      <th>cosine_sim_tfidf</th>\n",
              "    </tr>\n",
              "  </thead>\n",
              "  <tbody>\n",
              "    <tr>\n",
              "      <th>404282</th>\n",
              "      <td>404285</td>\n",
              "      <td>433578</td>\n",
              "      <td>379845</td>\n",
              "      <td>mani keyword racket program languag latest version</td>\n",
              "      <td>mani keyword perl program languag latest version</td>\n",
              "      <td>0</td>\n",
              "      <td>14</td>\n",
              "      <td>13</td>\n",
              "      <td>1</td>\n",
              "      <td>0.705006</td>\n",
              "    </tr>\n",
              "    <tr>\n",
              "      <th>404283</th>\n",
              "      <td>404286</td>\n",
              "      <td>18840</td>\n",
              "      <td>155606</td>\n",
              "      <td>believ life death</td>\n",
              "      <td>true life death</td>\n",
              "      <td>1</td>\n",
              "      <td>8</td>\n",
              "      <td>9</td>\n",
              "      <td>4</td>\n",
              "      <td>0.636499</td>\n",
              "    </tr>\n",
              "    <tr>\n",
              "      <th>404284</th>\n",
              "      <td>404287</td>\n",
              "      <td>537928</td>\n",
              "      <td>537929</td>\n",
              "      <td>one coin</td>\n",
              "      <td>coin</td>\n",
              "      <td>0</td>\n",
              "      <td>4</td>\n",
              "      <td>3</td>\n",
              "      <td>2</td>\n",
              "      <td>1.000000</td>\n",
              "    </tr>\n",
              "    <tr>\n",
              "      <th>404285</th>\n",
              "      <td>404288</td>\n",
              "      <td>537930</td>\n",
              "      <td>537931</td>\n",
              "      <td>approx annual cost live studi uic chicago indian student</td>\n",
              "      <td>littl hairfal problem want use hair style product one prefer gel wax clay</td>\n",
              "      <td>0</td>\n",
              "      <td>17</td>\n",
              "      <td>25</td>\n",
              "      <td>6</td>\n",
              "      <td>0.000000</td>\n",
              "    </tr>\n",
              "    <tr>\n",
              "      <th>404286</th>\n",
              "      <td>404289</td>\n",
              "      <td>537932</td>\n",
              "      <td>537933</td>\n",
              "      <td>sex cousin</td>\n",
              "      <td>sex cousin</td>\n",
              "      <td>0</td>\n",
              "      <td>8</td>\n",
              "      <td>10</td>\n",
              "      <td>0</td>\n",
              "      <td>1.000000</td>\n",
              "    </tr>\n",
              "  </tbody>\n",
              "</table>\n",
              "</div>"
            ],
            "text/plain": [
              "            id    qid1    qid2  ... count2 unique_word_cnt cosine_sim_tfidf\n",
              "404282  404285  433578  379845  ...     13               1         0.705006\n",
              "404283  404286   18840  155606  ...      9               4         0.636499\n",
              "404284  404287  537928  537929  ...      3               2         1.000000\n",
              "404285  404288  537930  537931  ...     25               6         0.000000\n",
              "404286  404289  537932  537933  ...     10               0         1.000000\n",
              "\n",
              "[5 rows x 10 columns]"
            ]
          },
          "metadata": {
            "tags": []
          },
          "execution_count": 74
        }
      ]
    },
    {
      "cell_type": "code",
      "metadata": {
        "id": "GSCZH0HlS_Vb",
        "colab_type": "code",
        "colab": {}
      },
      "source": [
        ""
      ],
      "execution_count": 0,
      "outputs": []
    },
    {
      "cell_type": "markdown",
      "metadata": {
        "id": "tnkHMi5ZTADL",
        "colab_type": "text"
      },
      "source": [
        "## Euclidean Distance\n"
      ]
    },
    {
      "cell_type": "code",
      "metadata": {
        "id": "7HgiJdxC7rqZ",
        "colab_type": "code",
        "outputId": "b44a154d-8d8c-4158-ba05-f7e8df844390",
        "colab": {
          "base_uri": "https://localhost:8080/",
          "height": 34
        }
      },
      "source": [
        "pca1[1][0]"
      ],
      "execution_count": 0,
      "outputs": [
        {
          "output_type": "execute_result",
          "data": {
            "text/plain": [
              "-0.4352643"
            ]
          },
          "metadata": {
            "tags": []
          },
          "execution_count": 94
        }
      ]
    },
    {
      "cell_type": "code",
      "metadata": {
        "id": "W8Q-UirmTM-c",
        "colab_type": "code",
        "colab": {}
      },
      "source": [
        "from sklearn.metrics.pairwise import euclidean_distances"
      ],
      "execution_count": 0,
      "outputs": []
    },
    {
      "cell_type": "code",
      "metadata": {
        "id": "UlMNLxCm8ObO",
        "colab_type": "code",
        "colab": {}
      },
      "source": [
        "euc_dist = []\n",
        "for i in range(403285):\n",
        "  docvec_q1 = pca1[[i]]\n",
        "  docvec_q2 = pca2[[i]]\n",
        "  euc_dist.append(euclidean_distances(docvec_q1, docvec_q2, ))"
      ],
      "execution_count": 0,
      "outputs": []
    },
    {
      "cell_type": "code",
      "metadata": {
        "id": "2YtxGkYtyYxu",
        "colab_type": "code",
        "outputId": "0e0ee4e8-870d-4ed3-a34b-838bc9c47180",
        "colab": {
          "base_uri": "https://localhost:8080/",
          "height": 34
        }
      },
      "source": [
        "len(euc_dist)"
      ],
      "execution_count": 0,
      "outputs": [
        {
          "output_type": "execute_result",
          "data": {
            "text/plain": [
              "403285"
            ]
          },
          "metadata": {
            "tags": []
          },
          "execution_count": 105
        }
      ]
    },
    {
      "cell_type": "code",
      "metadata": {
        "id": "cyg2GPhg-6eO",
        "colab_type": "code",
        "colab": {}
      },
      "source": [
        "#Normalized Data\n",
        "def norm(x):\n",
        "  normalized = (x-min(x))/(max(x)-min(x))\n",
        "  return normalized\n",
        "\n",
        "#apply normalization on distance \n",
        "norm_euc_dist = norm(euc_dist)\n",
        "#convert to list \n",
        "euc_dist = np.concatenate( norm_euc_dist, axis=0 )"
      ],
      "execution_count": 0,
      "outputs": []
    },
    {
      "cell_type": "code",
      "metadata": {
        "id": "4m9-Es0J_N7f",
        "colab_type": "code",
        "outputId": "51559fad-e87a-495c-f60f-20b9e0c75f58",
        "colab": {
          "base_uri": "https://localhost:8080/",
          "height": 34
        }
      },
      "source": [
        "len(euc_dist)"
      ],
      "execution_count": 0,
      "outputs": [
        {
          "output_type": "execute_result",
          "data": {
            "text/plain": [
              "403285"
            ]
          },
          "metadata": {
            "tags": []
          },
          "execution_count": 128
        }
      ]
    },
    {
      "cell_type": "code",
      "metadata": {
        "id": "j9Ctzcom_fgN",
        "colab_type": "code",
        "outputId": "506eef0c-e899-4622-e585-b4f45bbade81",
        "colab": {
          "base_uri": "https://localhost:8080/",
          "height": 34
        }
      },
      "source": [
        "max(euc_dist)"
      ],
      "execution_count": 0,
      "outputs": [
        {
          "output_type": "execute_result",
          "data": {
            "text/plain": [
              "1.0"
            ]
          },
          "metadata": {
            "tags": []
          },
          "execution_count": 129
        }
      ]
    },
    {
      "cell_type": "code",
      "metadata": {
        "id": "9fQIsEjP86sY",
        "colab_type": "code",
        "colab": {}
      },
      "source": [
        "df_clean['euc_dist'] = euc_dist"
      ],
      "execution_count": 0,
      "outputs": []
    },
    {
      "cell_type": "code",
      "metadata": {
        "id": "IPywswMW90a9",
        "colab_type": "code",
        "outputId": "8cf21e6a-2690-4634-c3fd-6b3d9c357a02",
        "colab": {
          "base_uri": "https://localhost:8080/",
          "height": 204
        }
      },
      "source": [
        "df_clean.head()"
      ],
      "execution_count": 0,
      "outputs": [
        {
          "output_type": "execute_result",
          "data": {
            "text/html": [
              "<div>\n",
              "<style scoped>\n",
              "    .dataframe tbody tr th:only-of-type {\n",
              "        vertical-align: middle;\n",
              "    }\n",
              "\n",
              "    .dataframe tbody tr th {\n",
              "        vertical-align: top;\n",
              "    }\n",
              "\n",
              "    .dataframe thead th {\n",
              "        text-align: right;\n",
              "    }\n",
              "</style>\n",
              "<table border=\"1\" class=\"dataframe\">\n",
              "  <thead>\n",
              "    <tr style=\"text-align: right;\">\n",
              "      <th></th>\n",
              "      <th>id</th>\n",
              "      <th>qid1</th>\n",
              "      <th>qid2</th>\n",
              "      <th>question1</th>\n",
              "      <th>question2</th>\n",
              "      <th>label</th>\n",
              "      <th>count1</th>\n",
              "      <th>count2</th>\n",
              "      <th>unique_word_cnt</th>\n",
              "      <th>cosine_sim_tfidf</th>\n",
              "      <th>jac_sim</th>\n",
              "      <th>euc_dist</th>\n",
              "    </tr>\n",
              "  </thead>\n",
              "  <tbody>\n",
              "    <tr>\n",
              "      <th>0</th>\n",
              "      <td>0</td>\n",
              "      <td>1</td>\n",
              "      <td>2</td>\n",
              "      <td>step step guid invest share market india</td>\n",
              "      <td>step step guid invest share market</td>\n",
              "      <td>0</td>\n",
              "      <td>14</td>\n",
              "      <td>12</td>\n",
              "      <td>0</td>\n",
              "      <td>0.974700</td>\n",
              "      <td>0.0</td>\n",
              "      <td>0.099173</td>\n",
              "    </tr>\n",
              "    <tr>\n",
              "      <th>1</th>\n",
              "      <td>1</td>\n",
              "      <td>3</td>\n",
              "      <td>4</td>\n",
              "      <td>stori kohinoor kohnoor diamond</td>\n",
              "      <td>happen indian govern stole kohinoor kohnoor diamond back</td>\n",
              "      <td>0</td>\n",
              "      <td>8</td>\n",
              "      <td>13</td>\n",
              "      <td>7</td>\n",
              "      <td>0.645063</td>\n",
              "      <td>0.0</td>\n",
              "      <td>0.128000</td>\n",
              "    </tr>\n",
              "    <tr>\n",
              "      <th>2</th>\n",
              "      <td>2</td>\n",
              "      <td>5</td>\n",
              "      <td>6</td>\n",
              "      <td>increas speed internet connect use vpn</td>\n",
              "      <td>internet speed increas hack dns</td>\n",
              "      <td>0</td>\n",
              "      <td>14</td>\n",
              "      <td>10</td>\n",
              "      <td>5</td>\n",
              "      <td>0.456422</td>\n",
              "      <td>0.0</td>\n",
              "      <td>0.149613</td>\n",
              "    </tr>\n",
              "    <tr>\n",
              "      <th>3</th>\n",
              "      <td>3</td>\n",
              "      <td>7</td>\n",
              "      <td>8</td>\n",
              "      <td>mental lone solv</td>\n",
              "      <td>find remaind mathmath divid</td>\n",
              "      <td>0</td>\n",
              "      <td>11</td>\n",
              "      <td>9</td>\n",
              "      <td>8</td>\n",
              "      <td>0.000000</td>\n",
              "      <td>0.0</td>\n",
              "      <td>0.314228</td>\n",
              "    </tr>\n",
              "    <tr>\n",
              "      <th>4</th>\n",
              "      <td>4</td>\n",
              "      <td>9</td>\n",
              "      <td>10</td>\n",
              "      <td>one dissolv water quik sugar salt methan carbon oxid</td>\n",
              "      <td>fish surviv salt water</td>\n",
              "      <td>0</td>\n",
              "      <td>13</td>\n",
              "      <td>7</td>\n",
              "      <td>11</td>\n",
              "      <td>0.307641</td>\n",
              "      <td>0.0</td>\n",
              "      <td>0.246208</td>\n",
              "    </tr>\n",
              "  </tbody>\n",
              "</table>\n",
              "</div>"
            ],
            "text/plain": [
              "  id qid1 qid2  ... cosine_sim_tfidf jac_sim  euc_dist\n",
              "0  0    1    2  ...         0.974700     0.0  0.099173\n",
              "1  1    3    4  ...         0.645063     0.0  0.128000\n",
              "2  2    5    6  ...         0.456422     0.0  0.149613\n",
              "3  3    7    8  ...         0.000000     0.0  0.314228\n",
              "4  4    9   10  ...         0.307641     0.0  0.246208\n",
              "\n",
              "[5 rows x 12 columns]"
            ]
          },
          "metadata": {
            "tags": []
          },
          "execution_count": 131
        }
      ]
    },
    {
      "cell_type": "markdown",
      "metadata": {
        "id": "pgwemtSdzVy7",
        "colab_type": "text"
      },
      "source": [
        "## Jaccard Similarity "
      ]
    },
    {
      "cell_type": "code",
      "metadata": {
        "id": "Et7PcgKFBaj_",
        "colab_type": "code",
        "colab": {}
      },
      "source": [
        "from scipy.spatial import distance\n"
      ],
      "execution_count": 0,
      "outputs": []
    },
    {
      "cell_type": "code",
      "metadata": {
        "colab_type": "code",
        "id": "N4ONKZg6CTKg",
        "colab": {}
      },
      "source": [
        "#jaccard similarity \n",
        "#apply jaccard similarity on documents vectors \n",
        "def jaccard_similarity(list1, list2):\n",
        "    intersection = len(list(set(list1).intersection(list2)))\n",
        "    union = (len(list1) + len(list2)) - intersection\n",
        "    return float(intersection) / union"
      ],
      "execution_count": 0,
      "outputs": []
    },
    {
      "cell_type": "code",
      "metadata": {
        "id": "mfZov0rWGbF-",
        "colab_type": "code",
        "colab": {}
      },
      "source": [
        "#jaccard similarity \n",
        "\n",
        "def jaccard_similarity(x,y):\n",
        "    intersection_cardinality = len(set(x).intersection(set(y))) #intersect \n",
        "    union_cardinality = len(set(x).union(set(y))) #union \n",
        "    return intersection_cardinality / float(union_cardinality)"
      ],
      "execution_count": 0,
      "outputs": []
    },
    {
      "cell_type": "code",
      "metadata": {
        "id": "eZXExXKCFcCU",
        "colab_type": "code",
        "outputId": "325e120d-10b7-42b7-c5fe-03599c0380ad",
        "colab": {
          "base_uri": "https://localhost:8080/",
          "height": 34
        }
      },
      "source": [
        "jaccard_similarity"
      ],
      "execution_count": 0,
      "outputs": [
        {
          "output_type": "execute_result",
          "data": {
            "text/plain": [
              "<function __main__.jaccard_similarity>"
            ]
          },
          "metadata": {
            "tags": []
          },
          "execution_count": 187
        }
      ]
    },
    {
      "cell_type": "code",
      "metadata": {
        "id": "lJmCObAjG48u",
        "colab_type": "code",
        "colab": {}
      },
      "source": [
        "#apply jaccard similarity on documents vectors \n",
        "jaccard_sim = []\n",
        "for i in range(403285):\n",
        "  docvec_q1 = pca1[i]\n",
        "  docvec_q2 = pca2[i]\n",
        "  jaccard_sim.append(jaccard_similarity(docvec_q1, docvec_q2))"
      ],
      "execution_count": 0,
      "outputs": []
    },
    {
      "cell_type": "code",
      "metadata": {
        "id": "wdCGMQRJFDOL",
        "colab_type": "code",
        "colab": {}
      },
      "source": [
        "df_clean['jac_sim'] = jaccard_sim"
      ],
      "execution_count": 0,
      "outputs": []
    },
    {
      "cell_type": "code",
      "metadata": {
        "id": "BWLdG49J7IB6",
        "colab_type": "code",
        "outputId": "d6d3fb4d-f8f0-477c-a889-32c27a68a0bb",
        "colab": {
          "base_uri": "https://localhost:8080/",
          "height": 204
        }
      },
      "source": [
        "df_clean.tail()"
      ],
      "execution_count": 0,
      "outputs": [
        {
          "output_type": "execute_result",
          "data": {
            "text/html": [
              "<div>\n",
              "<style scoped>\n",
              "    .dataframe tbody tr th:only-of-type {\n",
              "        vertical-align: middle;\n",
              "    }\n",
              "\n",
              "    .dataframe tbody tr th {\n",
              "        vertical-align: top;\n",
              "    }\n",
              "\n",
              "    .dataframe thead th {\n",
              "        text-align: right;\n",
              "    }\n",
              "</style>\n",
              "<table border=\"1\" class=\"dataframe\">\n",
              "  <thead>\n",
              "    <tr style=\"text-align: right;\">\n",
              "      <th></th>\n",
              "      <th>id</th>\n",
              "      <th>qid1</th>\n",
              "      <th>qid2</th>\n",
              "      <th>question1</th>\n",
              "      <th>question2</th>\n",
              "      <th>label</th>\n",
              "      <th>count1</th>\n",
              "      <th>count2</th>\n",
              "      <th>unique_word_cnt</th>\n",
              "      <th>cosine_sim_tfidf</th>\n",
              "      <th>jac_sim</th>\n",
              "      <th>euc_dist</th>\n",
              "    </tr>\n",
              "  </thead>\n",
              "  <tbody>\n",
              "    <tr>\n",
              "      <th>404282</th>\n",
              "      <td>404285</td>\n",
              "      <td>433578</td>\n",
              "      <td>379845</td>\n",
              "      <td>mani keyword racket program languag latest version</td>\n",
              "      <td>mani keyword perl program languag latest version</td>\n",
              "      <td>0</td>\n",
              "      <td>14</td>\n",
              "      <td>13</td>\n",
              "      <td>1</td>\n",
              "      <td>0.705006</td>\n",
              "      <td>0.0</td>\n",
              "      <td>0.179511</td>\n",
              "    </tr>\n",
              "    <tr>\n",
              "      <th>404283</th>\n",
              "      <td>404286</td>\n",
              "      <td>18840</td>\n",
              "      <td>155606</td>\n",
              "      <td>believ life death</td>\n",
              "      <td>true life death</td>\n",
              "      <td>1</td>\n",
              "      <td>8</td>\n",
              "      <td>9</td>\n",
              "      <td>4</td>\n",
              "      <td>0.636499</td>\n",
              "      <td>0.0</td>\n",
              "      <td>0.163032</td>\n",
              "    </tr>\n",
              "    <tr>\n",
              "      <th>404284</th>\n",
              "      <td>404287</td>\n",
              "      <td>537928</td>\n",
              "      <td>537929</td>\n",
              "      <td>one coin</td>\n",
              "      <td>coin</td>\n",
              "      <td>0</td>\n",
              "      <td>4</td>\n",
              "      <td>3</td>\n",
              "      <td>2</td>\n",
              "      <td>1.000000</td>\n",
              "      <td>0.0</td>\n",
              "      <td>0.205824</td>\n",
              "    </tr>\n",
              "    <tr>\n",
              "      <th>404285</th>\n",
              "      <td>404288</td>\n",
              "      <td>537930</td>\n",
              "      <td>537931</td>\n",
              "      <td>approx annual cost live studi uic chicago indian student</td>\n",
              "      <td>littl hairfal problem want use hair style product one prefer gel wax clay</td>\n",
              "      <td>0</td>\n",
              "      <td>17</td>\n",
              "      <td>25</td>\n",
              "      <td>6</td>\n",
              "      <td>0.000000</td>\n",
              "      <td>0.0</td>\n",
              "      <td>0.190287</td>\n",
              "    </tr>\n",
              "    <tr>\n",
              "      <th>404286</th>\n",
              "      <td>404289</td>\n",
              "      <td>537932</td>\n",
              "      <td>537933</td>\n",
              "      <td>sex cousin</td>\n",
              "      <td>sex cousin</td>\n",
              "      <td>0</td>\n",
              "      <td>8</td>\n",
              "      <td>10</td>\n",
              "      <td>0</td>\n",
              "      <td>1.000000</td>\n",
              "      <td>0.0</td>\n",
              "      <td>0.098469</td>\n",
              "    </tr>\n",
              "  </tbody>\n",
              "</table>\n",
              "</div>"
            ],
            "text/plain": [
              "            id    qid1    qid2  ... cosine_sim_tfidf jac_sim  euc_dist\n",
              "404282  404285  433578  379845  ...         0.705006     0.0  0.179511\n",
              "404283  404286   18840  155606  ...         0.636499     0.0  0.163032\n",
              "404284  404287  537928  537929  ...         1.000000     0.0  0.205824\n",
              "404285  404288  537930  537931  ...         0.000000     0.0  0.190287\n",
              "404286  404289  537932  537933  ...         1.000000     0.0  0.098469\n",
              "\n",
              "[5 rows x 12 columns]"
            ]
          },
          "metadata": {
            "tags": []
          },
          "execution_count": 200
        }
      ]
    },
    {
      "cell_type": "markdown",
      "metadata": {
        "id": "dfFaWvDK3qjP",
        "colab_type": "text"
      },
      "source": [
        "## Modeling"
      ]
    },
    {
      "cell_type": "code",
      "metadata": {
        "id": "LbOj832mIuVX",
        "colab_type": "code",
        "colab": {}
      },
      "source": [
        ""
      ],
      "execution_count": 0,
      "outputs": []
    }
  ]
}